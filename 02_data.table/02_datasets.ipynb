{
 "cells": [
  {
   "cell_type": "markdown",
   "id": "5d463a64-baa7-4e31-bd76-8f587d265d3c",
   "metadata": {},
   "source": [
    "<font size=\"6\"><b>DATASETS IN PACKAGES</b></font>"
   ]
  },
  {
   "cell_type": "code",
   "execution_count": null,
   "id": "4150bbe9-2aa9-4e67-918b-92ed314672f1",
   "metadata": {},
   "outputs": [],
   "source": [
    "library(data.table)\n",
    "library(DT)"
   ]
  },
  {
   "cell_type": "markdown",
   "id": "015ff0c4-6050-426b-a5ee-42995538b04a",
   "metadata": {},
   "source": [
    "The list of 344 datasets allowed to be used in assignments can be found in the following table:"
   ]
  },
  {
   "cell_type": "code",
   "execution_count": null,
   "id": "66fae316-4f4d-42b7-ae62-4c672ea25ddd",
   "metadata": {},
   "outputs": [],
   "source": [
    "datasetsx <- readRDS(\"~/databa/rds/datasets6.rds\")[sample(.N)]"
   ]
  },
  {
   "cell_type": "code",
   "execution_count": null,
   "id": "04443664-b4fb-4cf1-a861-7785ae0c478c",
   "metadata": {},
   "outputs": [],
   "source": [
    "datatable(datasetsx, filter = \"top\", escape = F)"
   ]
  },
  {
   "cell_type": "markdown",
   "id": "7260ed69-452a-433d-b82a-49f616fbca8b",
   "metadata": {},
   "source": [
    "The explanations for the columns in the table are:\n",
    "\n",
    "- `size`: The size of object in bytes\n",
    "- `nrows`: Total number of rows\n",
    "- `ncols`: Total number of columns\n",
    "- `docurl`: Link to the documentation for the dataset\n",
    "- `nnumcol`: Number of numeric or integer valued columns\n",
    "- `nlogcol`: Number of boolean valued columns\n",
    "- `nfaccol`: Number of factor valued columns\n",
    "- `ncharcol`: Number of character valued columns\n",
    "- `ndatecol`: Number of date valued columns\n",
    "- `nposcol`: Number of POSIX.ct or datetime valued columns\n",
    "- `nlistcol`: Number of list or complex object valued columns"
   ]
  },
  {
   "cell_type": "markdown",
   "id": "a7c6e614-210e-41cc-b9aa-a9b4b5f90a3a",
   "metadata": {},
   "source": [
    "You may choose different packages based on the types of features according to the task at hand (for example one task may require several numeric and at least one factor or character column, while the other may require at least one date or datetime column)."
   ]
  },
  {
   "cell_type": "markdown",
   "id": "9bdd9a37-99a3-446a-b5ea-bc71247a4457",
   "metadata": {},
   "source": [
    "The use a dataset in a package, either load the package through:\n",
    "\n",
    "```R\n",
    "library(packagename)\n",
    "```"
   ]
  },
  {
   "cell_type": "markdown",
   "id": "d387f185-c44a-450d-85fd-117e033909af",
   "metadata": {},
   "source": [
    "Or just load the dataset:\n",
    "\n",
    "```R\n",
    "\n",
    "data(list = \"datasetname\", package = \"packagename\")\n",
    "\n",
    "```"
   ]
  },
  {
   "cell_type": "markdown",
   "id": "9042f492-a04c-480b-a2b6-1c764ed6b96e",
   "metadata": {},
   "source": [
    "For example `wdbc` data from `mclust` package is not loaded yet (Note that this dataset is not among the allowed ones, I selected that just for the purpose of demonstrating the method):"
   ]
  },
  {
   "cell_type": "code",
   "execution_count": null,
   "id": "938cad84-8582-47d0-9330-ae7c67a8b758",
   "metadata": {},
   "outputs": [],
   "source": [
    "exists(\"wdbc\")"
   ]
  },
  {
   "cell_type": "markdown",
   "id": "081e0aef-a0c9-42c5-923e-9475ee36e36a",
   "metadata": {},
   "source": [
    "Let's load it:"
   ]
  },
  {
   "cell_type": "code",
   "execution_count": null,
   "id": "fc94cdc7-f615-4599-98e8-dc7797d93d0e",
   "metadata": {},
   "outputs": [],
   "source": [
    "data(list = \"wdbc\", package = \"mclust\")"
   ]
  },
  {
   "cell_type": "markdown",
   "id": "22172117-1e2f-4cd5-9b7e-9f1b6591d8f3",
   "metadata": {},
   "source": [
    "And see that it is loaded now:"
   ]
  },
  {
   "cell_type": "code",
   "execution_count": null,
   "id": "dc6db671-7028-4195-a0d2-7319cc199a5a",
   "metadata": {},
   "outputs": [],
   "source": [
    "exists(\"wdbc\")"
   ]
  },
  {
   "cell_type": "code",
   "execution_count": null,
   "id": "12677aeb-dda0-4569-9cd8-ccdceada42c7",
   "metadata": {},
   "outputs": [],
   "source": [
    "str(wdbc)"
   ]
  },
  {
   "cell_type": "markdown",
   "id": "aeb2a503-593d-4c46-99d5-0ac10d151e8d",
   "metadata": {},
   "source": [
    "Or let's load the library to use the dataset (sometimes we still need to do the step above to use the dataset)"
   ]
  },
  {
   "cell_type": "markdown",
   "id": "7dd7c153-5f2e-4c11-9621-329a38d58979",
   "metadata": {},
   "source": [
    "First remove the dataset:"
   ]
  },
  {
   "cell_type": "code",
   "execution_count": null,
   "id": "d6c87494-7d1f-4e98-9346-74cf97f1f4f0",
   "metadata": {},
   "outputs": [],
   "source": [
    "rm(wdbc)"
   ]
  },
  {
   "cell_type": "markdown",
   "id": "74a0e484-6da1-40d3-ad0e-23bc52888231",
   "metadata": {},
   "source": [
    "And check that we cannot access it now:"
   ]
  },
  {
   "cell_type": "code",
   "execution_count": null,
   "id": "5a399b39-4331-478e-a13a-012f6f452814",
   "metadata": {},
   "outputs": [],
   "source": [
    "exists(\"wdbc\")"
   ]
  },
  {
   "cell_type": "markdown",
   "id": "e68fd022-5b15-4806-a9fd-df9b6f6a8601",
   "metadata": {},
   "source": [
    "Let's load the package:"
   ]
  },
  {
   "cell_type": "code",
   "execution_count": null,
   "id": "bc2d9c00-c0fe-49b8-ac23-0ed78cd3dc58",
   "metadata": {},
   "outputs": [],
   "source": [
    "library(mclust)"
   ]
  },
  {
   "cell_type": "markdown",
   "id": "4f31fb91-96c6-40f9-8123-a8dea617d860",
   "metadata": {},
   "source": [
    "And see that it is loaded now:"
   ]
  },
  {
   "cell_type": "code",
   "execution_count": null,
   "id": "024bfd6f-5ad5-414e-89d0-a61bc4212752",
   "metadata": {},
   "outputs": [],
   "source": [
    "exists(\"wdbc\")"
   ]
  },
  {
   "cell_type": "code",
   "execution_count": null,
   "id": "003d6903-259b-487d-9d69-f2e21ad14294",
   "metadata": {},
   "outputs": [],
   "source": [
    "str(wdbc)"
   ]
  }
 ],
 "metadata": {
  "kernelspec": {
   "display_name": "R",
   "language": "R",
   "name": "ir"
  },
  "language_info": {
   "codemirror_mode": "r",
   "file_extension": ".r",
   "mimetype": "text/x-r-source",
   "name": "R",
   "pygments_lexer": "r",
   "version": "4.5.1"
  }
 },
 "nbformat": 4,
 "nbformat_minor": 5
}
