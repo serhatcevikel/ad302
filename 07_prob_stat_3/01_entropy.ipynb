{
 "cells": [
  {
   "cell_type": "markdown",
   "id": "8483395c-67da-4653-a93d-35daf12efda8",
   "metadata": {},
   "source": [
    "<font size=\"6\"><b>LOST IN INFORMATION: INFORMATION THEORY AND ENTROPY</b></font>\n",
    "\n",
    "<font size=\"5\"><b>Serhat Çevikel</b></font>"
   ]
  },
  {
   "cell_type": "code",
   "execution_count": null,
   "id": "b40c1f8b-0b5a-42c1-a3ea-851731f73c54",
   "metadata": {
    "scrolled": true
   },
   "outputs": [],
   "source": [
    "library(data.table)\n",
    "library(tidyverse)\n",
    "library(gtools)\n",
    "library(estimators) # for theoretical moments\n",
    "library(moments) # empirical moments\n",
    "library(DescTools) # entropy\n",
    "library(BBmisc)\n",
    "library(plotly)\n",
    "library(rlist)\n",
    "library(markovchain)"
   ]
  },
  {
   "cell_type": "code",
   "execution_count": null,
   "id": "100a3dbe-8c3c-4c0e-8bf5-98648af3432f",
   "metadata": {},
   "outputs": [],
   "source": [
    "options(repr.matrix.max.rows=20, repr.matrix.max.cols=15) # for limiting the number of top and bottom rows of tables printed "
   ]
  },
  {
   "cell_type": "markdown",
   "id": "108824cb-e5b3-4f4d-af8e-6fc96706a4f4",
   "metadata": {},
   "source": [
    "![entropy](../imagesba/dynamic_entropy.png)\n",
    "\n",
    "(https://xkcd.com/2318/)"
   ]
  },
  {
   "cell_type": "markdown",
   "id": "d7ee776c-99ff-49a3-8bf4-ff9a026578e9",
   "metadata": {},
   "source": [
    "You may ask why **entropy**, a concept mostly attributed to physics area and is closely related to **disorder**, takes part in our course.\n",
    "\n",
    "As you will we will correct the misconceptions around the term entropy and emphasize its central role in understanding major topics in probability. In previous notebooks, we have seen the **how** and **what** of the convergence of stochastic processes to certain probability distribution. Entropy tells the **why** of this convergence phenomena.\n",
    "\n",
    "The entropy that we will talk about here is the information theoretic interpretation of entropy, as defined by computer scientist Claude Shannon in 1948.\n",
    "\n",
    "The ideas, flow and most simulations in this notebook borrow largely from two great, concise and comprehensible books by Ariel Ben-Naim:\n",
    "\n",
    "- Entropy Demystified The Second Law Reduced to Plain Common Sense with Seven Simulated Games (2008)s\n",
    "- Discover Entropy and the Second Law of Thermodynamics A Playful Way of Discovering a Law of Nature (2010)"
   ]
  },
  {
   "cell_type": "markdown",
   "id": "b98be5ce-2cee-4452-b5cc-062e64e9ef9c",
   "metadata": {},
   "source": [
    "First let's see how public perceives what entropy is about. For this, I asked your dear friend ChatGPT:\n",
    "\n",
    "> Can you create a picture about public's understanding of the concept of \"entropy\""
   ]
  },
  {
   "cell_type": "markdown",
   "id": "61653b3a-3ec8-4b3c-a9aa-8cf35b04bde1",
   "metadata": {},
   "source": [
    "<img src=\"../imagesba/entropy_gpt.png\" width=\"500\"/>"
   ]
  },
  {
   "cell_type": "markdown",
   "id": "1a499c61-86a0-4b7d-89c4-31359d24b35d",
   "metadata": {},
   "source": [
    "So public perceives *entropy* synonymous with *disorder*. Let's watch a real processes and see whether it evolves to disorder..."
   ]
  },
  {
   "cell_type": "markdown",
   "id": "440e585c-b536-44bc-bcf1-a5337132a996",
   "metadata": {},
   "source": [
    "Let's start with a question. Which The Rolling Stones song features in the ending credits of two great movies?"
   ]
  },
  {
   "cell_type": "markdown",
   "id": "a637f2ba-4d1d-4280-87a2-632adea2a6b5",
   "metadata": {},
   "source": [
    "This is from Full Metal Jacket by Stanley Kubrick:\n",
    "\n",
    "[![fmj](https://img.youtube.com/vi/3jlhiweVZ1I/0.jpg)](https://youtu.be/3jlhiweVZ1I)"
   ]
  },
  {
   "cell_type": "markdown",
   "id": "3bfdf416-a5ae-4e4a-8cc0-8d2eac1d3fd6",
   "metadata": {},
   "source": [
    "And this is from Devil's Advocate by Taylor Hackford, starring Al Pacino, Keanu Reeves and Charlize Theron:\n",
    "\n",
    "[![da](https://img.youtube.com/vi/G3jaPBFXFTU/0.jpg)](https://youtu.be/G3jaPBFXFTU?t=25)"
   ]
  },
  {
   "cell_type": "markdown",
   "id": "e997150f-1f9e-426e-aa5d-814b3e7d75b5",
   "metadata": {},
   "source": [
    "Paint It Black... Definitely one of my favorite Stones tunes. Now let's paint two glasses of pure water with dark - albeit not black - ink:\n",
    "\n",
    "[![ink](https://img.youtube.com/vi/AEaya0F3_hw/0.jpg)](https://youtu.be/AEaya0F3_hw)"
   ]
  },
  {
   "cell_type": "markdown",
   "id": "73acb40a-df91-4ca5-b4f8-1e07f68153ea",
   "metadata": {},
   "source": [
    "I have taken to snapshots from the video, one from the middle, other from towards the end. So the question is which one seems more disordered:\n",
    "\n",
    "<table>\n",
    "<tr>\n",
    "<th> This one: </th>\n",
    "<th> Or that: </th>\n",
    "</tr>\n",
    "<tr>\n",
    "<td>\n",
    "\n",
    "<img src=\"../imagesba/ink1.jpg\" width=\"600\"/>\n",
    "</td>\n",
    "<td>\n",
    "\n",
    "<img src=\"../imagesba/ink2.jpg\" width=\"600\"/>\n",
    "\n",
    "</td>\n",
    "</tr>\n",
    "</table>"
   ]
  },
  {
   "cell_type": "markdown",
   "id": "7138ead1-831f-4cc5-ba07-f6cb0b13d1b9",
   "metadata": {},
   "source": [
    "Well I guess you think the first one seems more *disordered*. Now the second question is more technical: Which one seems to have a higher degree of entropy?\n",
    "\n",
    "If you think *disorder* goes along with *entropy* you may choose *the first snapshot* to have more entropy but it is wrong! Second snapshot with a smooth colored look has more entropy. So natural processes left alone evolves into *higher entropy* but not necessarily *higher disorder*."
   ]
  },
  {
   "cell_type": "markdown",
   "id": "45b84561-a2f5-4f6a-97ed-763a70ae718f",
   "metadata": {},
   "source": [
    "Two great videos by *James J. Orgill* in his YouTube channel The Action Lab show by other real experiments that physical phenomena when left to shuffle randomly may evolve into a more orderly state:\n",
    "\n",
    "**The Mysterious Entropic Force:**\n",
    "\n",
    "[![tal1](https://img.youtube.com/vi/LBRBB6D8SdY/0.jpg)](https://youtu.be/LBRBB6D8SdY)\n",
    "\n",
    "**How Entropy Creates Order— They Thought It Was Impossible:**\n",
    "\n",
    "[![tal2](https://img.youtube.com/vi/-P2rMk3bfkc/0.jpg)](https://youtu.be/-P2rMk3bfkc)"
   ]
  },
  {
   "cell_type": "markdown",
   "id": "5b8351df-86df-46cb-836a-2b2ed8c2392c",
   "metadata": {},
   "source": [
    "I asked old friend ChatGPT to learn about this public misconception on the meaning of entropy:\n",
    "\n",
    "\"Why entropy is related to disorder while in reality it is not about disorder?\"\n",
    "\n",
    "And here is the answer:"
   ]
  },
  {
   "cell_type": "markdown",
   "id": "f4d54a8b-4819-4711-9967-6d147d778304",
   "metadata": {},
   "source": [
    "That’s a sharp question — you’re right: the popular slogan *“entropy = disorder”* is misleading. It’s more of a teaching shortcut than the actual meaning. Let me unpack why:\n",
    "\n",
    "---\n",
    "\n",
    "Why people say “entropy = disorder”\n",
    "\n",
    "* In **everyday examples** (ice melting, gas spreading out, your room getting messy), entropy tends to increase when systems become more \"spread out\" or \"less ordered.\"\n",
    "* This gave rise to the oversimplification: **order → disorder**.\n",
    "\n",
    "---\n",
    "\n",
    "What entropy really is\n",
    "\n",
    "1. **Statistical mechanics definition (Boltzmann):**\n",
    "   [$S = k_B \\ln \\Omega$]\n",
    "   where ($\\Omega$) is the number of microscopic configurations (microstates) consistent with the macroscopic state (macrostate).\n",
    "   → Entropy is about **counting possibilities**.\n",
    "\n",
    "2. **Information theory definition (Shannon):**\n",
    "   [$H = - \\sum p(x) \\log p(x)$]\n",
    "   where (p(x)) are probabilities of outcomes.\n",
    "   → Entropy is the **average uncertainty** or \"missing information\" about the exact state.\n",
    "\n",
    "---\n",
    "\n",
    "Why “disorder” is misleading\n",
    "\n",
    "* **“Disorder” is subjective.** A shuffled deck of cards looks \"disordered\" to us, but from an entropy standpoint, it’s just one microstate among many.\n",
    "* **High entropy ≠ messiness.** For example, a crystal at high temperature still has high entropy even though it “looks ordered.”\n",
    "* **Low entropy ≠ neatness.** A perfect gas uniformly spread in a container looks “neat” and symmetric, but that’s actually maximum entropy.\n",
    "\n",
    "---\n",
    "\n",
    "✅ **Better way to say it:**\n",
    "Entropy measures **how many microscopic ways a system can be arranged without changing what we see macroscopically**, or equivalently, **how much information we lack about its exact state**.\n",
    "\n",
    "---"
   ]
  },
  {
   "cell_type": "markdown",
   "id": "7a3b8274-c4bb-4330-b482-cfe6f9838dd1",
   "metadata": {},
   "source": [
    "Entropy can be summarized as the degree of missing information about the exact or specific configuration of the system.\n",
    "\n",
    "When there are more specific configurations to arrive at an overall state, that means there is a higher probability to be in that state.\n",
    "\n",
    "There is a higher chance that a system may end up in a state with higher probability - just by reasoning with common sense. Such a state will have more specific configurations so there will be less information about the specific configuration.\n",
    "\n",
    "SO HIGHER ENTROPY MEANS HIGHER LEVEL OF MISSING INFORMATION AND A SYSTEM HAS A HIGHER CHANCE TO EVOLVE INTO A STATE WITH:\n",
    "\n",
    "- HIGHER PROBABILITY\n",
    "- HIGHER MISSING INFORMATION\n",
    "- HIGHER ENTROPY\n",
    "\n",
    "I know, these ideas are vague in your mind. But we will clarify each of them one by one and at the end of this notebook you will understand why a system naturally evolves into those certain shapes that we call as \"probability distributions\" as a result of ever increasing entropy and how different constraints on the system result in different shapes."
   ]
  },
  {
   "cell_type": "markdown",
   "id": "9d327615-2156-4bb0-be1e-1ef7eaec3a32",
   "metadata": {},
   "source": [
    "# Missing Information and Shannon's Entropy"
   ]
  },
  {
   "cell_type": "markdown",
   "id": "ed294582-ea00-4b52-839a-3ee4698c04db",
   "metadata": {},
   "source": [
    "## 20Q Game"
   ]
  },
  {
   "cell_type": "markdown",
   "id": "89ea309c-c114-40e6-9e08-cb93b938a048",
   "metadata": {},
   "source": [
    "Following the example from Ben-Naim (2008, p52), let's play a simple game:\n",
    "\n",
    "Suppose I chose a certain person, e.g. Einstein, and you have to find out who the person is by asking binary questions (answers can be Yes or No).\n",
    "\n",
    "There are two possible strategies:\n",
    "\n",
    "- Dumb strategy: Ask for specific persons, you have a very small chance to win at the first try but on average you may end up with billions of questions\n",
    "- Smart strategy: Ask questions so that with each subsequent answer you halve the possible search space"
   ]
  },
  {
   "cell_type": "markdown",
   "id": "f8238814-8cbf-4894-bbe8-f6e7bb8dfbbd",
   "metadata": {},
   "source": [
    "The dumb strategy questions may be:\n",
    "\n",
    "- Is it Nixon?\n",
    "- Is it Gandhi?\n",
    "- Is it me?\n",
    "- Is it Marilyn Monroe?\n",
    "- Is it John Wayne? (I added that, SÇ)\n",
    "- Is it you?\n",
    "- Is it Mozart?\n",
    "- Is it Niels Bohr?\n",
    "- ..."
   ]
  },
  {
   "cell_type": "markdown",
   "id": "f41222e9-fcf5-40e0-870f-7785006743fb",
   "metadata": {},
   "source": [
    "I remember a scene from Full Metal Jacket again:\n",
    "\n",
    "[![fmj2](https://img.youtube.com/vi/rgIeru8ZD94/0.jpg)](https://youtu.be/rgIeru8ZD94)"
   ]
  },
  {
   "cell_type": "markdown",
   "id": "ecc3972a-b5b7-474e-bca2-796acdba8618",
   "metadata": {},
   "source": [
    "With each answer, we don't gain much INFORMATION: The search space of millions of possibilities is reduced one-by-one."
   ]
  },
  {
   "cell_type": "markdown",
   "id": "8a3d90c8-283f-4cfd-8661-1569fa24e4a5",
   "metadata": {},
   "source": [
    "Now let's how we can follow smart strategy:\n",
    "\n",
    "- Is the person a male?\n",
    "- Is he alive?\n",
    "- Is he in politics?\n",
    "- Is he a scientist?\n",
    "- Is he very well-known?\n",
    "- Is he Einstein?"
   ]
  },
  {
   "cell_type": "markdown",
   "id": "70858571-042a-4963-8c1c-25b2a4f3dbb0",
   "metadata": {},
   "source": [
    "And you got it!"
   ]
  },
  {
   "cell_type": "markdown",
   "id": "16040069-ab54-45d9-a977-fb0d3c84f550",
   "metadata": {},
   "source": [
    "So at the beginning that person may be any of the millions of known persons in the World so you have little information in the beginning.\n",
    "\n",
    "With each subsequent answer, you gain MORE INFORMATION about who that person can be, because a large portion of the possible answers are eliminated in each step and we are less with a smaller search space."
   ]
  },
  {
   "cell_type": "markdown",
   "id": "729b5352-1d19-45a6-a920-dba176414510",
   "metadata": {},
   "source": [
    "Now let's play a real 20Q game several times. There are some alternative websites for that game. I chose [20Q.net](http://www.20q.net)"
   ]
  },
  {
   "cell_type": "markdown",
   "id": "e7ebafa3-65f2-44ca-bf9a-7e8894deeda3",
   "metadata": {},
   "source": [
    "Can 20Q.net guess the clumsy and sometimes annoying character from Star Wars right?"
   ]
  },
  {
   "cell_type": "markdown",
   "id": "aef46586-fd79-420b-ab42-fb37d62d6b8a",
   "metadata": {},
   "source": [
    "[![jarjar](https://img.youtube.com/vi/_-Q6CdpVUTM/0.jpg)](https://youtu.be/_-Q6CdpVUTM)"
   ]
  },
  {
   "cell_type": "markdown",
   "id": "fa6cc389-e4a7-4d55-a239-eb367a267a36",
   "metadata": {},
   "source": [
    "<table border=\"0\" cellpadding=\"6\" cellspacing=\"1\" width=\"100%\">\n",
    "<tbody><tr valign=\"top\"><td width=\"90%\" align=\"left\">\n",
    "<table align=\"left\" border=\"0\" cellspacing=\"4\" cellpadding=\"4\" bgcolor=\"#F4F0D8\"><tbody><tr><td>\n",
    "<big><b>Q29. &nbsp;I am guessing that it is Jar Jar Binks?<br>\n",
    "<nobr><a href=\"/gse?iVopep9AP3XTiXnXEAJAoSRZJyi!en_yLVLg.BhARZGLgilq8RY39fLTSXF-uhrD2STDpXyYLGcqng-5eNuSbMf_3TYdp-2j3c4rmQ.,Q2DaZvWi,3B3Pb3bKjKAk0giFUmk6x!jJ_Z_bDIzGuMh_sZ0bGn7fGbqx9rDpRSVIp!j4-I-cbQgZ7X4rx!B_skF1KMt3hgtZ0beqh__e\">Right</a>, <a href=\"/gse?kmGkDAeMn2SL8S0SXMhMbHE3hg8JD0xgf7fvj,tME3Tfv8isQE12eufLHSd9KtCBkHLBASg1fTGs0v96DoKHpZux2L1IA9k!2GNCVcjmckB435W8m2,2np2pl!lMUqv8drVUR_J!hx3xpBaPTKZtx-3qpT0FuTps_eCBAEH7aAJ!N9a9Gpcv3FSNC_J,x-UdwlZ.2y-jhaBV_y!!W\">Wrong</a>, <a href=\"/gse?Vj_8MqEzD2_CX_,_6zazTwrGaQX8M,NQH!H9kUBzrGsH9XejOr-2E0HCw_3LJBvVIwCVq_Q-HsKj,9LAMRJw1Z0N2C-cqLIg2KuvyikhiIVfGPnXh2U2D1217g7z4x9X3by4oW8gaNGN1Vl5sJZBN.Gx1s,Y0s1jWEvVqrw!lq8guLlLK1i9GY_uvW8UN.43d7Zt21TC_uUdc1rri\"> Close </a> </nobr><br>\n",
    "</b></big><hr align=\"center\" width=\"90%\">\n",
    "<table border=\"0\" cellspacing=\"0\" cellpadding=\"0\">\n",
    "<tbody><tr><td align=\"right\">28.</td><td>&nbsp;&nbsp;</td><td>Are they a Jedi?<a href=\"/gse?gRbeWe95.qFLnFdFY5I5g71aIEn4WdiEUCUoOkj51awUon8Zv1-q93UL7FrlVjXzc7LzeFE-Uw0ZdolTWJV7_P3iqL-selcBq0uXNAOMAczfa2GnMqkq._q_6B65!xonrKN!RH4BIiai_zSDwVPjipax_wdy3w_ZH9Xze17CSe4BulSl0_AoayFuXH4kip!p1v5f4pTwMv\"> <b>No</b></a>.\n",
    "</td></tr>\n",
    "<tr><td align=\"right\">27.</td><td>&nbsp;&nbsp;</td><td>Are they short?<a href=\"/gse?wBv3pcCNaiVS1VLV2NWN!fsxWU1EpLdUy0yFw_,NsxGyF1hrRs7iCHySfVPJO,lZ3fSZcVU7yGerLFJXpKOfMoHdiS7vcJ3-ieYl.TwDT3Ztxqj1Di_iaMiMu-uNQ9F1Pm.QInE-WdxdMZB5GOo,dgx9MGL4HGMrnClZcsf0BcE-YJBJeMTFx4VjrovMufm_rahqy_U!3!\"> <b>No</b></a>.\n",
    "</td></tr>\n",
    "<tr><td align=\"right\">26.</td><td>&nbsp;&nbsp;</td><td>I guessed that it was Meebur Gascon?<a href=\"/gse?A3Mtx7uc2WeYzeQeVc9ckmrn9Jz5xQoJZ6Z-4S_crnUZ-zCTjr0WuLZYmeAif_sptmYp7eJ0ZU1TQ-iwxKfm,vLoWY0d7it8W1PsND4MDtp.nHOzMWSW2,W,l8lchB-zAyNhaF589ono,pgXUfv_oRnB,UQILU,TFusp7rm6g758PiQmLphanH-UrtrnwU,sZSJkVsIt7O\"> <b>Wrong</b></a>.\n",
    "</td></tr>\n",
    "<tr><td align=\"right\">25.</td><td>&nbsp;&nbsp;</td><td>Are they a villain? <b>No</b>.\n",
    "</td></tr>\n",
    "<tr><td align=\"right\">24.</td><td>&nbsp;&nbsp;</td><td>Could they be found in Jabba's Palace? <b>No</b>.\n",
    "</td></tr>\n",
    "<tr><td align=\"right\">23.</td><td>&nbsp;&nbsp;</td><td>I guessed that it was Elan Sel'Sabagno <small>(Sleazebaggano)</small>? <b>Wrong</b>.\n",
    "</td></tr>\n",
    "<tr><td align=\"right\">22.</td><td>&nbsp;&nbsp;</td><td>Are they diplomatic? <b>No</b>.\n",
    "</td></tr>\n",
    "<tr><td align=\"right\">21.</td><td>&nbsp;&nbsp;</td><td>Could they be a hero? <b>Sometimes</b>.\n",
    "</td></tr>\n",
    "<tr><td align=\"right\">20.</td><td>&nbsp;&nbsp;</td><td>I guessed that it was Darth Maul? <b>Wrong</b>.\n",
    "</td></tr>\n",
    "<tr><td align=\"right\">19.</td><td>&nbsp;&nbsp;</td><td>Were they killed by a Sith? <b>No</b>.\n",
    "</td></tr>\n",
    "<tr><td align=\"right\">18.</td><td>&nbsp;&nbsp;</td><td>Are they located on Tatooine? <b>No</b>.\n",
    "</td></tr>\n",
    "<tr><td align=\"right\">17.</td><td>&nbsp;&nbsp;</td><td>I guessed that it was Bib Fortuna? <b>Wrong</b>.\n",
    "</td></tr>\n",
    "<tr><td align=\"right\">16.</td><td>&nbsp;&nbsp;</td><td>Can they live underwater? <b>No</b>.\n",
    "</td></tr>\n",
    "<tr><td align=\"right\">15.</td><td>&nbsp;&nbsp;</td><td>Are they a pilot? <b>No</b>.\n",
    "</td></tr>\n",
    "<tr><td align=\"right\">14.</td><td>&nbsp;&nbsp;</td><td>Has it been redesigned? <b>No</b>.\n",
    "</td></tr>\n",
    "<tr><td align=\"right\">13.</td><td>&nbsp;&nbsp;</td><td>Are they large? <b>No</b>.\n",
    "</td></tr>\n",
    "<tr><td align=\"right\">12.</td><td>&nbsp;&nbsp;</td><td>Do they cause unease? <b>Yes</b>.\n",
    "</td></tr>\n",
    "<tr><td align=\"right\">11.</td><td>&nbsp;&nbsp;</td><td>Are they female? <b>No</b>.\n",
    "</td></tr>\n",
    "<tr><td align=\"right\">10.</td><td>&nbsp;&nbsp;</td><td>Are they male? <b>Yes</b>.\n",
    "</td></tr>\n",
    "<tr><td align=\"right\">9.</td><td>&nbsp;&nbsp;</td><td>Were they enslaved? <b>Yes</b>.\n",
    "</td></tr>\n",
    "<tr><td align=\"right\">8.</td><td>&nbsp;&nbsp;</td><td>Have they been to Tatooine? <b>Yes</b>.\n",
    "</td></tr>\n",
    "<tr><td align=\"right\">7.</td><td>&nbsp;&nbsp;</td><td>Do they have wings? <b>No</b>.\n",
    "</td></tr>\n",
    "<tr><td align=\"right\">6.</td><td>&nbsp;&nbsp;</td><td>Is it built from salvaged parts? <b>No</b>.\n",
    "</td></tr>\n",
    "<tr><td align=\"right\">5.</td><td>&nbsp;&nbsp;</td><td>Can they speak Basic <small>(common language)</small>? <b>Yes</b>.\n",
    "</td></tr>\n",
    "<tr><td align=\"right\">4.</td><td>&nbsp;&nbsp;</td><td>Are they known for destroying things? <b>No</b>.\n",
    "</td></tr>\n",
    "<tr><td align=\"right\">3.</td><td>&nbsp;&nbsp;</td><td>Are they a good teacher? <b>No</b>.\n",
    "</td></tr>\n",
    "<tr><td align=\"right\">2.</td><td>&nbsp;&nbsp;</td><td>Are they Human? <b>No</b>.\n",
    "</td></tr>\n",
    "<tr><td align=\"right\">1.</td><td>&nbsp;&nbsp;</td><td>It is classified as <b>Being</b>.</td></tr>\n",
    "</tbody></table>\n",
    "</td></tr></tbody></table>\n",
    "</td><td width=\"10%\" align=\"center\">\n",
    "<table border=\"0\" width=\"100%\" cellpadding=\"4\" cellspacing=\"4\">\n",
    "<tbody><tr><td bgcolor=\"#D0C0A8\" width=\"100%\" align=\"center\"><a href=\"/gse?c1LAKArC.y-uZ-0-ECVCgW,_VqZTK0!qLiLO6NnC,_mLOZj9I,kyrMLuW-bvxn3YPWuYA-qkLm190OvHKcxWfBM!yuk7AvPay1o3S56X5PYh_8FZXyNy.fyfwawCRJOZbtSRl2TaV!_!fYpemxBn!Q_Jfm0UMmf92r3YA,WipATaovpv1f5O_U-o32TN!QRbDwBGIRnCV09nRa-,k.yfD_vUM1LF-!U83Yf9OQFFf\" target=\"mainFrame\"><font color=\"#000033\"><font size=\"+3\"><b>?</b></font></font></a></td></tr></tbody></table>\n",
    "</td></tr><tr valign=\"top\"><td align=\"center\" colspan=\"2\">\n",
    "<br>&nbsp;<br>\n",
    "<div class=\"smallcopyright\">\n",
    "STAR WARS and all related characters and elements are trademarks of and © Lucasfilm Ltd.<br>\n",
    "20Q/5.01c, WebOddity/1.19b &nbsp; &nbsp; \n",
    "© 1988-2007, 20Q.net Inc., all rights reserved\n",
    "</div>\n",
    "</td></tr></tbody></table>"
   ]
  },
  {
   "cell_type": "markdown",
   "id": "0ff20b15-4e44-410b-ac10-a309c007cfb8",
   "metadata": {},
   "source": [
    "Now, let 20Q.net guess Mr. Slowhand:"
   ]
  },
  {
   "cell_type": "markdown",
   "id": "fda71dd0-0786-4fb4-9f07-15513a00ff8b",
   "metadata": {},
   "source": [
    "[![slowhand](https://img.youtube.com/vi/_ZoNt_J3G3w/0.jpg)](https://youtu.be/_ZoNt_J3G3w)"
   ]
  },
  {
   "cell_type": "markdown",
   "id": "11119b3d-8e0e-4cd0-ae53-aac1e766d390",
   "metadata": {},
   "source": [
    "<table border=\"0\" cellpadding=\"6\" cellspacing=\"1\" width=\"100%\">\n",
    "<tbody><tr valign=\"top\"><td width=\"90%\" align=\"left\">\n",
    "<table align=\"left\" border=\"0\" cellspacing=\"4\" cellpadding=\"4\" bgcolor=\"#F4F0D8\"><tbody><tr><td>\n",
    "<big><b>Q17. &nbsp;I am guessing that it is Eric Clapton?<br>\n",
    "<nobr><a href=\"/gse?xgCJyWkwAq_J.EqEYy6kTnhQYl3!rT4l8,N2Kl42Wx0OL3eRq51nAINjUfZ_6qKLmUHtJ4O8_h4nAIDHPCXLjUhb2koUA6vPxOhiy0SuBHG8_SYS!1xDT_,D1r3HP5twJKqFE5,OOq\">Right</a>, <a href=\"/gse?S8HKbKN.!zkTYCzCDbZNxEJjDcrGsxwcStp4Mcw4Klo61rvXzPeE!np0fWHkZzM1-f79Tw6SkJwE!n57Vgm10fJQ4NAf!ZuVl6Jibo,qO7BSk,D,Gel5xkt5esr7VgK56r!GpgIQQu\">Wrong</a>, <a href=\"/gse?1rhq0XU7!w.Pkbwbe06UdzFJeqsGDd_qElp4Lq_4XnTKWsOBwu1z!Cp8RQ-.6wLWZRNVP_KE.F_z!CtNS9aW8RF34UyR!6vSnKFM0TfroNcE.fefG1ntd.lt1DsNSw163dvzywCVVX\"> Close </a> </nobr><br>\n",
    "</b></big><hr align=\"center\" width=\"90%\">\n",
    "<table border=\"0\" cellspacing=\"0\" cellpadding=\"0\">\n",
    "<tbody><tr><td align=\"right\">16.</td><td>&nbsp;&nbsp;</td><td>Do you lead a group?<a href=\"/gse?rj30AMTmw31Y,I3IJA9TSkWOJ5X70Sr5pEsK_5rKMnUvlXaN36gkwfsF-be193_lG-4QYrvp1Wrkwf24.uBlF-WhKTV-w9C.nvWiAUtdD4qp1tJt7gn2S1P7suNbl1rVVv\"> <b>Sometimes</b></a>.\n",
    "</td></tr>\n",
    "<tr><td align=\"right\">15.</td><td>&nbsp;&nbsp;</td><td>Do you have long hair?<a href=\"/gse?6HFq,PCLsKopD6K60,wCm!WH0ZqbemaZ1v4nkZanPV2SUqY3KzR!sJ4f.xXowKkU_.ldpaS1oWa!sJTlGFiUf.WhnCE.swMGVSWQ,25Ajlc1ou23BzvsRpMyFxhDopZKKB\"> <b>No</b></a>.\n",
    "</td></tr>\n",
    "<tr><td align=\"right\">14.</td><td>&nbsp;&nbsp;</td><td>Are you a sell out?<a href=\"/gse?eHJfYz5mrj1fAujuUYy5,MpZUJgdL,sJQehFKJsFzxCWOg.ljNvMr3hTSDI1yjKO9S74fsWQ1psMr3q76V0OTSpiF5nSryb6xWpGYC_k86Ml7r58K.Mphyl72Uh_TyI113\"> <b>Yes</b></a>.\n",
    "</td></tr>\n",
    "<tr><td align=\"right\">13.</td><td>&nbsp;&nbsp;</td><td>Do you have a keyboard? <b>No</b>.\n",
    "</td></tr>\n",
    "<tr><td align=\"right\">12.</td><td>&nbsp;&nbsp;</td><td>Were you part of the British Invasion? <b>Yes</b>.\n",
    "</td></tr>\n",
    "<tr><td align=\"right\">11.</td><td>&nbsp;&nbsp;</td><td>Do you have big hair? <b>No</b>.\n",
    "</td></tr>\n",
    "<tr><td align=\"right\">10.</td><td>&nbsp;&nbsp;</td><td>Are you known for your unusual appearance? <b>No</b>.\n",
    "</td></tr>\n",
    "<tr><td align=\"right\">9.</td><td>&nbsp;&nbsp;</td><td>Do you perform the Blues? <b>Yes</b>.\n",
    "</td></tr>\n",
    "<tr><td align=\"right\">8.</td><td>&nbsp;&nbsp;</td><td>Do you play electric guitar? <b>Yes</b>.\n",
    "</td></tr>\n",
    "<tr><td align=\"right\">7.</td><td>&nbsp;&nbsp;</td><td>Did you die an untimely death? <b>No</b>.\n",
    "</td></tr>\n",
    "<tr><td align=\"right\">6.</td><td>&nbsp;&nbsp;</td><td>Are you from Hawaii? <b>No</b>.\n",
    "</td></tr>\n",
    "<tr><td align=\"right\">5.</td><td>&nbsp;&nbsp;</td><td>Are you American? <b>No</b>.\n",
    "</td></tr>\n",
    "<tr><td align=\"right\">4.</td><td>&nbsp;&nbsp;</td><td>Are you more than one person? <b>No</b>.\n",
    "</td></tr>\n",
    "<tr><td align=\"right\">3.</td><td>&nbsp;&nbsp;</td><td>Do you play an instrument? <b>Yes</b>.\n",
    "</td></tr>\n",
    "<tr><td align=\"right\">2.</td><td>&nbsp;&nbsp;</td><td>Are you featured in a movie? <b>Yes</b>.\n",
    "</td></tr>\n",
    "<tr><td align=\"right\">1.</td><td>&nbsp;&nbsp;</td><td>It is classified as <b>Person</b>.</td></tr>\n",
    "</tbody></table>\n",
    "</td></tr></tbody></table>\n",
    "</td><td width=\"10%\" align=\"center\">\n",
    "<table border=\"0\" width=\"100%\" cellpadding=\"4\" cellspacing=\"4\">\n",
    "<tbody><tr><td bgcolor=\"#D0C0A8\" width=\"100%\" align=\"center\"><a href=\"/gse?egq_8-Iq!14dAr1rh8pIK_RjhBC3VKnBfkZOGBnO-Xc,tCEo1ve_!2ZwW904p1GtlWmPdn,f4Rn_!2Umg7NtwWRSOIxW!pbgX,RH8cs5zmTf4shs3eXUK4kUeVCmVyvf,LrvyG8zanLbtutg4841_R5q-C!LZOmpzQ\" target=\"mainFrame\"><font color=\"#000033\"><font size=\"+3\"><b>?</b></font></font></a></td></tr></tbody></table>\n",
    "</td></tr><tr valign=\"top\"><td align=\"center\" colspan=\"2\">\n",
    "<br>&nbsp;<br>\n",
    "<div class=\"smallcopyright\">\n",
    "20Q/5.01c, WebOddity/1.19b &nbsp; &nbsp; \n",
    "© 1988-2007, 20Q.net Inc., all rights reserved\n",
    "</div>\n",
    "</td></tr></tbody></table>"
   ]
  },
  {
   "cell_type": "markdown",
   "id": "deba0f4d-a071-4336-90d8-27504dce547d",
   "metadata": {},
   "source": [
    "And let 20Q.net guess **THE GREATEST HERO** of our nation:"
   ]
  },
  {
   "cell_type": "markdown",
   "id": "5df8e5a8-8859-4b97-9f35-5ff6a64867e5",
   "metadata": {},
   "source": [
    "[![ataturk](https://img.youtube.com/vi/NcXWk0yU_Oc/0.jpg)](https://youtu.be/NcXWk0yU_Oc)"
   ]
  },
  {
   "cell_type": "markdown",
   "id": "d68d25a6-e780-4ac5-a553-41717cc20e48",
   "metadata": {},
   "source": [
    "<table border=\"0\" cellpadding=\"6\" cellspacing=\"1\" width=\"100%\">\n",
    "<tbody><tr valign=\"top\"><td width=\"90%\" align=\"left\">\n",
    "<table align=\"left\" border=\"0\" cellspacing=\"4\" cellpadding=\"4\" bgcolor=\"#F4F0D8\"><tbody><tr><td>\n",
    "<big><b>Q26. &nbsp;I am guessing that it is Mustafa Kemal Atatürk?<br>\n",
    "<nobr><a href=\"/gse?8AchXfwtWH_GOZvZsSNX_GL6tjwbhIhWc7b1,fH6MJ_24SdCu4.20j!jyLkpMIzsgcrxK!g84Syw9sHT,fwFsWE8j9nhWYvMvNI95CiVnZoj5dLuM.kuZhjQYt0aLqiUXCefySywO5subS9n!tni,MvMHk.UCZ0akiSR-n756j!giLdcTyK5kGxhRiLYZhiU-n7QCXywIQFQ_BbbE\">Right</a>, <a href=\"/gse?kRRXkzPA3R,.VODOCnKk,.IWA!PFBoB37NF2ZzRWcq,GsnQfrsXG6!v!eI9dcobCg71M4vgjsnePLCRpZzPyC35j!LJB3SDcDKoLufmEJO0!uQIrcX9rOB!lSA6iItmxkf_zenePVuCrFnLJvAJmZcDcR9XxfO6i9mn8TJNuW!vgmIQ7pe4u9.MB8mISOBmxTJ!H_WwK9HFHOzkky\">Wrong</a>, <a href=\"/gse?9lq-5-dPF60jQ7m7Wqx50ja,PndDGNGFUYDwy-6,Ar09lq4XblH9cnTnZaOhANMWVU!skTVLlqZdEW6Cy-dKWFoLnERGFfmAmxNE2X1gR7en24abAHOb7GnJfPc_aI1t5Xz-ZqZdQ2WbDqERTPR1yAmA6OHtX7c_O1quiRY2,nTV1a4UCZk2OjsGu1af7G1tiRqDgarSnDdDe5xxh\"> Close </a> </nobr><br>\n",
    "</b></big><hr align=\"center\" width=\"90%\">\n",
    "<table border=\"0\" cellspacing=\"0\" cellpadding=\"0\">\n",
    "<tbody><tr><td align=\"right\">25.</td><td>&nbsp;&nbsp;</td><td>Do you have blue eyes?<a href=\"/gse?nAvT1QGV7vi,CDTDZUS1i,6tV5G8ndn7Hl8!BQvt2mi.bUWzNbR.w5Y5J6Mo2d4ZuHhyXYuabUJGKZvjBQGLZ7pa5Ken73T2TSdKgzPIeDF5gW6N2RMNDn5E3VwO60Pr1z-QJUJGCgZN8UKeYVePB2T2vMRrzDwOMPUAqelgt5YuP6WHjJXgM,ynAPW8FDwH3vymIGu\"> <b>Yes</b></a>.\n",
    "</td></tr>\n",
    "<tr><td align=\"right\">24.</td><td>&nbsp;&nbsp;</td><td>Are you on television?<a href=\"/gse?Pg5JjoVtIXxd3,v,1qfjxdigtwVeJ.JI0FeQSoXgDOxRGqmlhGCRpw-wZi2zD.y1W0sHT-WUGqZVr1X8SoVb1IMUwrNJIAvDvf.rEl7cN,!wEmihDC2h,JwYAtp4iu7KjlPoZqZV3E1heqrN-tN7SDvDX2CKl,p427qnaNFEgw-W7im08cL3lRFL9QvwjoVFtKbYr-5\"> <b>No</b></a>.\n",
    "</td></tr>\n",
    "<tr><td align=\"right\">23.</td><td>&nbsp;&nbsp;</td><td>I guessed that it was Michael Collins <small>(Irish Leader)</small>?<a href=\"/gse?dC_BrkN9Fvsya!B!o7drsyLP9tNWUmUFnKW.GkvPwqspx7-,Qx6p3t_t1LOJwmXoDn8Tu_DRx71NiovcGkNboFlRtizUFIBwBdmiY,fCz!EtY-LQw6OQ!UtSI93AL4fjr,Zk171NaYoQW7iz_9zfGwBwvO6j,!3AOf70MzKYAs7bZxMBF19cprd78U7bAs8yDVvcGwa\"> <b>Wrong</b></a>.\n",
    "</td></tr>\n",
    "<tr><td align=\"right\">22.</td><td>&nbsp;&nbsp;</td><td>Are you involved in politics? <b>Yes</b>.\n",
    "</td></tr>\n",
    "<tr><td align=\"right\">21.</td><td>&nbsp;&nbsp;</td><td>Do you have children? <b>No</b>.\n",
    "</td></tr>\n",
    "<tr><td align=\"right\">20.</td><td>&nbsp;&nbsp;</td><td>I guessed that it was Josip Broz Tito? <b>Wrong</b>.\n",
    "</td></tr>\n",
    "<tr><td align=\"right\">19.</td><td>&nbsp;&nbsp;</td><td>Were you born before the 1500s? <b>No</b>.\n",
    "</td></tr>\n",
    "<tr><td align=\"right\">18.</td><td>&nbsp;&nbsp;</td><td>I guessed that it was Boyko Borisov? <b>Wrong</b>.\n",
    "</td></tr>\n",
    "<tr><td align=\"right\">17.</td><td>&nbsp;&nbsp;</td><td>Are you a heart-throb? <b>No</b>.\n",
    "</td></tr>\n",
    "<tr><td align=\"right\">16.</td><td>&nbsp;&nbsp;</td><td>Are you female? <b>No</b>.\n",
    "</td></tr>\n",
    "<tr><td align=\"right\">15.</td><td>&nbsp;&nbsp;</td><td>Were you born before the year 1800? <b>No</b>.\n",
    "</td></tr>\n",
    "<tr><td align=\"right\">14.</td><td>&nbsp;&nbsp;</td><td>Are you a martial artist? <b>No</b>.\n",
    "</td></tr>\n",
    "<tr><td align=\"right\">13.</td><td>&nbsp;&nbsp;</td><td>Have you made a famous discovery? <b>No</b>.\n",
    "</td></tr>\n",
    "<tr><td align=\"right\">12.</td><td>&nbsp;&nbsp;</td><td>Have you won awards? <b>No</b>.\n",
    "</td></tr>\n",
    "<tr><td align=\"right\">11.</td><td>&nbsp;&nbsp;</td><td>Were you born between 1900-1950? <b>No</b>.\n",
    "</td></tr>\n",
    "<tr><td align=\"right\">10.</td><td>&nbsp;&nbsp;</td><td>Are you associated with racing? <b>No</b>.\n",
    "</td></tr>\n",
    "<tr><td align=\"right\">9.</td><td>&nbsp;&nbsp;</td><td>Are you known as a hero? <b>Yes</b>.\n",
    "</td></tr>\n",
    "<tr><td align=\"right\">8.</td><td>&nbsp;&nbsp;</td><td>Are you British? <b>No</b>.\n",
    "</td></tr>\n",
    "<tr><td align=\"right\">7.</td><td>&nbsp;&nbsp;</td><td>Are you associated with fighting? <b>No</b>.\n",
    "</td></tr>\n",
    "<tr><td align=\"right\">6.</td><td>&nbsp;&nbsp;</td><td>Are you associated with evil? <b>No</b>.\n",
    "</td></tr>\n",
    "<tr><td align=\"right\">5.</td><td>&nbsp;&nbsp;</td><td>Do you have facial hair? <b>No</b>.\n",
    "</td></tr>\n",
    "<tr><td align=\"right\">4.</td><td>&nbsp;&nbsp;</td><td>Are you under 40 years old? <b>No</b>.\n",
    "</td></tr>\n",
    "<tr><td align=\"right\">3.</td><td>&nbsp;&nbsp;</td><td>Are you European? <b>Yes</b>.\n",
    "</td></tr>\n",
    "<tr><td align=\"right\">2.</td><td>&nbsp;&nbsp;</td><td>Are you associated with music? <b>No</b>.\n",
    "</td></tr>\n",
    "<tr><td align=\"right\">1.</td><td>&nbsp;&nbsp;</td><td>Are you a movie star? <b>No</b>.\n",
    "</td></tr>\n",
    "</tbody></table>\n",
    "</td></tr></tbody></table>\n",
    "</td><td width=\"10%\" align=\"center\">\n",
    "<table border=\"0\" width=\"100%\" cellpadding=\"4\" cellspacing=\"4\">\n",
    "<tbody><tr><td bgcolor=\"#D0C0A8\" width=\"100%\" align=\"center\"><a href=\"/gse?ED1kg.Q2VdZOEpTp7y8gZOYW2_QMFlFVcsMje.dWNkZnRywDXR9nG_1_bYhPNli76c4u-16IRybQC7dze.Q37V0I_CHFVtTNT8lCrDJKHpU_rwYXN9hXpF_!t2G5YqJxgDf.bybQEr7XMyCH12HJeNTNdh9xDpG5hJyLaHsrW_16JYwczb-rhOuFLJYtpFJxaHzeYWoyrNQMFIrgbJRM9.e4t2W1ri46ZOMjNk11b\" target=\"mainFrame\"><font color=\"#000033\"><font size=\"+3\"><b>?</b></font></font></a></td></tr></tbody></table>\n",
    "</td></tr><tr valign=\"top\"><td align=\"center\" colspan=\"2\">\n",
    "<br>&nbsp;<br>\n",
    "<div class=\"smallcopyright\">\n",
    "20Q/5.01c, WebOddity/1.19b &nbsp; &nbsp; \n",
    "© 1988-2007, 20Q.net Inc., all rights reserved\n",
    "</div>\n",
    "</td></tr></tbody></table>"
   ]
  },
  {
   "cell_type": "markdown",
   "id": "d80e4be2-90e2-4b25-8c33-f86f988ea25d",
   "metadata": {},
   "source": [
    "## Finding the hidden marble"
   ]
  },
  {
   "cell_type": "markdown",
   "id": "05f5de93-adf0-4851-b882-11dda6927dd8",
   "metadata": {},
   "source": [
    "Suppose we want to find a marble hidden in one of the closed boxes, similar to a \"find the black card\" game, featured in Turkish movies:"
   ]
  },
  {
   "cell_type": "markdown",
   "id": "fbb649db-6090-434a-be69-7a6a151c5de1",
   "metadata": {},
   "source": [
    "[![bulkara1](https://img.youtube.com/vi/xWjPxnlxUuc/0.jpg)](https://youtu.be/xWjPxnlxUuc)\n",
    "\n",
    "[![bulkara2](https://img.youtube.com/vi/uVt-wCDGLWI/0.jpg)](https://youtu.be/uVt-wCDGLWI)"
   ]
  },
  {
   "cell_type": "markdown",
   "id": "78999649-db4f-443b-9db0-5e53d402e36f",
   "metadata": {},
   "source": [
    "Here in each step we will ask whether the location of the hidden marble is before or after the middle point of remaning options. So our algorithm works like a binary search tree:\n",
    "\n",
    "[![binary](https://img.youtube.com/vi/ndmhR1MLdJ8/0.jpg)](https://youtu.be/ndmhR1MLdJ8)"
   ]
  },
  {
   "cell_type": "markdown",
   "id": "61305819-faf9-4005-97f7-2fd3cef8e42a",
   "metadata": {},
   "source": [
    "We can also illustrate the steps as such:"
   ]
  },
  {
   "attachments": {
    "3b118940-154d-42d5-9842-4e8a5ee39ab5.png": {
     "image/png": "[encoded data removed]"
    }
   },
   "cell_type": "markdown",
   "id": "2aad655e-ddcf-42e0-9de1-90e4243a9aae",
   "metadata": {},
   "source": [
    "![bst.png](attachment:3b118940-154d-42d5-9842-4e8a5ee39ab5.png)"
   ]
  },
  {
   "cell_type": "markdown",
   "id": "64eb3e50-d7c5-4801-8862-613e87ffc8ff",
   "metadata": {},
   "source": [
    "### Equiprobable case"
   ]
  },
  {
   "cell_type": "markdown",
   "id": "31be2cee-59fb-43c0-8a5d-27f51e1ddfaa",
   "metadata": {},
   "source": [
    "With eight boxes, it takes us three steps to find the marble. 3 steps is also obvious from the fact that:"
   ]
  },
  {
   "cell_type": "code",
   "execution_count": null,
   "id": "6084c1c2-0362-461b-a15e-dbe35832733a",
   "metadata": {},
   "outputs": [],
   "source": [
    "log2(8)"
   ]
  },
  {
   "cell_type": "markdown",
   "id": "086b7428-114c-4f86-827d-b2b2103cee46",
   "metadata": {},
   "source": [
    "Now let's create a simulation code where we select the number of boxes and number of repetitions of the game to get the average number of steps to find the hidden marble.\n",
    "\n",
    "We don't have to keep separate values for all possible boxes. Since the remaining alternatives are all contiguous boxes, it is sufficient to track the minimum and maximum indices of those boxes.\n",
    "\n",
    "We want to learn the total number of steps to isolate the box with the hidden marble. So we need four arguments: The index of the box holding the coin, first and last indices of the remaining boxes and the number of iterations (questions) so far.\n",
    "\n",
    "Here is the simple recursive function for that:"
   ]
  },
  {
   "cell_type": "code",
   "execution_count": null,
   "id": "eb996234-9a98-4e6a-8fab-953f6ae60a58",
   "metadata": {},
   "outputs": [],
   "source": [
    "findmarble <- function(placex, firstx = 1, lastx, iterx = 0)\n",
    "{    \n",
    "    if(firstx == lastx) return(iterx) # if there is one index remaning no further questions\n",
    "    cutx <- floor(mean(c(firstx, lastx))) # the half point in between the indices\n",
    "    \n",
    "    if(placex %between% c(firstx, cutx)) # if the coin is in the first half\n",
    "    {\n",
    "        # recurse the function where the right index is replaced with the cut point and iteration is incremented\n",
    "        findmarble(placex, firstx, cutx, iterx + 1) \n",
    "    } else\n",
    "    {\n",
    "        # otherwise coin is in the left half, left index is replaced with the cut point and iteration is incremented\n",
    "        findmarble(placex, cutx + 1, lastx, iterx + 1)\n",
    "    }\n",
    "}"
   ]
  },
  {
   "cell_type": "markdown",
   "id": "12efa0b4-5bf6-4212-8828-ea4efc1971a0",
   "metadata": {},
   "source": [
    "Let's run the function to see how many questions we need where the marble is hidden is any one of the 8 boxes:"
   ]
  },
  {
   "cell_type": "code",
   "execution_count": null,
   "id": "947b383c-c546-40c8-9ed8-c0ac083e652a",
   "metadata": {},
   "outputs": [],
   "source": [
    "sapply(1:8, findmarble, lastx = 8)"
   ]
  },
  {
   "cell_type": "markdown",
   "id": "447cb25e-3747-424f-b6b6-cce388650a7c",
   "metadata": {},
   "source": [
    "The answer is always 3 since 8 is a power of 2"
   ]
  },
  {
   "cell_type": "markdown",
   "id": "e216cb49-5a81-4464-92ac-0e410e513a19",
   "metadata": {},
   "source": [
    "When the number of boxes are 9, it takes 3 or 4 questions to isolate the marble:"
   ]
  },
  {
   "cell_type": "code",
   "execution_count": null,
   "id": "a5509da1-dd13-47a6-9373-1875727ebfe8",
   "metadata": {},
   "outputs": [],
   "source": [
    "sapply(1:9, findmarble, lastx = 9)"
   ]
  },
  {
   "cell_type": "markdown",
   "id": "b93f4769-a65c-4c0b-82e0-1783a878c29e",
   "metadata": {},
   "source": [
    "The average number of questions is:"
   ]
  },
  {
   "cell_type": "code",
   "execution_count": null,
   "id": "977c3a41-7962-4200-b780-8eee2d5c12b1",
   "metadata": {},
   "outputs": [],
   "source": [
    "mean(sapply(1:9, findmarble, lastx = 9))"
   ]
  },
  {
   "cell_type": "markdown",
   "id": "289117fa-812a-4b22-beef-99ad69dc27bb",
   "metadata": {},
   "source": [
    "Which is quite close to the log2 value of 9:"
   ]
  },
  {
   "cell_type": "code",
   "execution_count": null,
   "id": "f083343f-dd1f-49ec-aac2-328624d0d9fc",
   "metadata": {},
   "outputs": [],
   "source": [
    "log2(9)"
   ]
  },
  {
   "cell_type": "markdown",
   "id": "ee96811a-d015-446a-b4f4-aa1771a68315",
   "metadata": {},
   "source": [
    "Now let's repeat the simulation for different box values up to 100:"
   ]
  },
  {
   "cell_type": "code",
   "execution_count": null,
   "id": "22afafaf-8507-44f6-925b-8a1952450591",
   "metadata": {},
   "outputs": [],
   "source": [
    "simquests <- sapply(1:100, function(x) mean(sapply(1:x, findmarble, lastx = x)))"
   ]
  },
  {
   "cell_type": "markdown",
   "id": "59c51e76-9cf1-459e-9a5a-4a4f4e411581",
   "metadata": {},
   "source": [
    "And let's plot along with the log2 values of 1 to 100:"
   ]
  },
  {
   "cell_type": "code",
   "execution_count": null,
   "id": "88575c23-e95f-4dcf-9951-9ec2fafb53fd",
   "metadata": {},
   "outputs": [],
   "source": [
    "plot(simquests, log2(1:100), col = \"red\")\n",
    "abline(0, 1)\n",
    "abline(v = 1:6, lty = 2)"
   ]
  },
  {
   "cell_type": "markdown",
   "id": "5498d2bf-37a2-4e64-abba-a929921c1c5b",
   "metadata": {},
   "source": [
    "We see that the number of questions closely follows the log2 values of the number of boxes. For the powers of 2 number of boxes, they are completely equal and are integer values.\n",
    "\n",
    "The more boxes we have at the beginning, the more complex a game we have, the more missing information we have and the more questions we have to ask in order to isolate the single box that holds the marble.\n",
    "\n",
    "And we the number of boxes are doubled, the complexity or size of the game (or the missing information) is incremented by 1 (1 more question to be asked)\n",
    "\n",
    "**SO THE NUMBER OF QUESTIONS USING THE SMART STRATEGY - WHICH IS LOOSELY EQUAL TO LOG2 OF THE NUMBER OF BOXES - IS A MEASURE OF THE MISSING INFORMATION OF THE GAME!**"
   ]
  },
  {
   "cell_type": "markdown",
   "id": "64e0b1df-7a41-4cf0-a712-5de1925be197",
   "metadata": {},
   "source": [
    "### Non-equiprobable case"
   ]
  },
  {
   "cell_type": "markdown",
   "id": "7dc99316-112f-4b58-9426-c43afe5e2e78",
   "metadata": {},
   "source": [
    "In this initial example the prior probability of the marble being hidden in any of the boxes is the same, so it is an equi-probable game.\n",
    "\n",
    "Now let's have a more difficult problem: let the probabilities of the marble being hidden in any box differ. For simplicity let's assume the probabilities are in decending order so the first box has the largest probability and so on.\n",
    "\n",
    "In that case, in order to follow the smart strategy, selecting the middle point in each step would not suffice. We should select the middle point of cumulative probabilities, or the point where the cumulative probability is closest to 0.5.\n",
    "\n",
    "So we have a slightly more complex function now. We have six arguments: The position of the marble, first and last indices of remaining boxes, number of questions asked so far, and the probabilities of all boxes.\n",
    "\n",
    "What is the last argument, sureval? Well, if the probability of being in the first remaining box is above some threshold, like a very high values such as 0.99, we take the risk of not asking a further question and staying there, assuming the marble is in that first box. This is added here in order to bypass the shortcoming of always asking discrete number of questions and to make the average number of questions in line with SMI measure when SMI is lower than 1. Without that correction, we always have to ask at least one question when we have more than one box."
   ]
  },
  {
   "cell_type": "code",
   "execution_count": null,
   "id": "c10cc046-79a5-4958-919f-2f7b58db196b",
   "metadata": {},
   "outputs": [],
   "source": [
    "findmarble2 <- function(placex, firstx = 1, lastx, iterx = 0, prb, sureval = 0.99)\n",
    "{    \n",
    "    if(firstx == lastx) return(iterx)  # if there is one index remaning no further questions\n",
    "    inds <- firstx:lastx # in order to subset the probabilities, create a sequence of indices\n",
    "    prb2 <- prb[inds] # filter for probabilities between first and last indices\n",
    "    cumprob <- cumsum(prb2)/sum(prb2) # scaled cumulative probabilities for remaining indices\n",
    "    if (cumprob[1] >= sureval) return(iterx) # if the probability of the first remaining box is at least the sureval, than do not ask further questions\n",
    "    if (length(inds) == 2) # if we have only two available boxes\n",
    "    {\n",
    "        cutind <- 1 # the cutting point should be where the first box is\n",
    "    } else\n",
    "    {\n",
    "        # otherwise cut from where the rescales cumulative probabilities is closest to 0.5:\n",
    "        cutind <- findInterval(0.5, cumprob, all.inside = T)\n",
    "    }\n",
    "    cutx <- inds[cutind] # get the index of the cutting point\n",
    "    \n",
    "    if(placex %between% c(firstx, cutx))  # if the marble is in the first half\n",
    "    {\n",
    "        # recurse the function where the right index is replaced with the cut point and iteration is incremented   \n",
    "        findmarble2(placex, firstx, cutx, iterx + 1, prb)\n",
    "    } else\n",
    "    {\n",
    "        # otherwise marble is in the left half, left index is replaced with the cut point and iteration is incremented\n",
    "        findmarble2(placex, cutx + 1, lastx, iterx + 1, prb)\n",
    "    }\n",
    "}"
   ]
  },
  {
   "cell_type": "markdown",
   "id": "a12c9644-afbd-49bb-864e-b203b4eb35f1",
   "metadata": {},
   "source": [
    "Now for a given size (number of boxes), let's create random probabilities that add up to 1. This kind of a data vector is called a simplex.\n",
    "\n",
    "Random simplexes can be drawn from Dirichlet distribution, a multivariate generalization of the beta distribution:"
   ]
  },
  {
   "cell_type": "code",
   "execution_count": null,
   "id": "87d092aa-59e5-47a9-b07d-801cf546094f",
   "metadata": {},
   "outputs": [],
   "source": [
    "nbox <- 8\n",
    "nbox"
   ]
  },
  {
   "cell_type": "markdown",
   "id": "dc5d9fbd-e8fe-4430-a432-a6904d96cb77",
   "metadata": {},
   "source": [
    "A Dirichlet distribution with higher shape parameters will result in more balanced values:"
   ]
  },
  {
   "cell_type": "code",
   "execution_count": null,
   "id": "e30b9e2a-df3b-4af6-8f72-793f0d58224c",
   "metadata": {},
   "outputs": [],
   "source": [
    "round(sort(rdirichlet(1, rep(1e5, nbox)), decreasing = T), 3)"
   ]
  },
  {
   "cell_type": "markdown",
   "id": "ca0a9ceb-f537-4475-b44e-8f309803edb5",
   "metadata": {},
   "source": [
    "While shape values close to 0 result in a highly skewed distribution:"
   ]
  },
  {
   "cell_type": "code",
   "execution_count": null,
   "id": "2aa0d27e-c07a-45d9-b65b-a8dfbfe8cf1a",
   "metadata": {},
   "outputs": [],
   "source": [
    "round(sort(rdirichlet(1, rep(1e-3, nbox)), decreasing = T), 3)"
   ]
  },
  {
   "cell_type": "markdown",
   "id": "4e3e4c61-6733-4faf-8660-931aeed5b919",
   "metadata": {},
   "source": [
    "#### Highly imbalanced probabilities"
   ]
  },
  {
   "cell_type": "markdown",
   "id": "787bb585-249d-44a8-91df-30ce65b907d2",
   "metadata": {},
   "source": [
    "We can create a simplex somewhere in between:"
   ]
  },
  {
   "cell_type": "code",
   "execution_count": null,
   "id": "22ff88cc-675a-4195-be1f-41c0398819c7",
   "metadata": {},
   "outputs": [],
   "source": [
    "set.seed(4)\n",
    "probs <- sort(rdirichlet(1, rep(2e-1, nbox)), decreasing = T)\n",
    "sum(probs)\n",
    "round(probs, 3)"
   ]
  },
  {
   "cell_type": "markdown",
   "id": "c88772a4-213f-4920-9a98-0bd89b04be0a",
   "metadata": {},
   "source": [
    "Let's decide on some repetitions of the game:"
   ]
  },
  {
   "cell_type": "code",
   "execution_count": null,
   "id": "42fbd00d-cae5-4724-848f-d59391edce52",
   "metadata": {},
   "outputs": [],
   "source": [
    "ngames <- 1e3"
   ]
  },
  {
   "cell_type": "markdown",
   "id": "9547e56b-b80d-427d-b89b-e73f6f582e3c",
   "metadata": {},
   "source": [
    "And let's draw values from the boxes with the provided unbalanced probabilities for the positions of the hidden marble:"
   ]
  },
  {
   "cell_type": "code",
   "execution_count": null,
   "id": "ad32bceb-2bde-4299-b841-651633e7a85b",
   "metadata": {},
   "outputs": [],
   "source": [
    "set.seed(50)\n",
    "places <- sample(nbox, ngames, replace = T, prob = probs)"
   ]
  },
  {
   "cell_type": "markdown",
   "id": "69b8528e-8ef8-4e01-8f4e-2af1dca37114",
   "metadata": {},
   "source": [
    "The histogram reflects the unbalanced nature of the probabilities:"
   ]
  },
  {
   "cell_type": "code",
   "execution_count": null,
   "id": "483e8201-5dbc-4414-8782-80a6880ec277",
   "metadata": {},
   "outputs": [],
   "source": [
    "hist(places)"
   ]
  },
  {
   "cell_type": "markdown",
   "id": "05c9c75f-fdd1-4a71-96bb-4a71ee9c4c09",
   "metadata": {},
   "source": [
    "And let's run the function to find the position of the marble using the smart strategy by halving the probabilities in each step:"
   ]
  },
  {
   "cell_type": "code",
   "execution_count": null,
   "id": "32eee607-b6d9-467c-bf27-fbf2f1f71c9a",
   "metadata": {},
   "outputs": [],
   "source": [
    "nsteps2 <- sapply(places, findmarble2, lastx = nbox, prb = probs)"
   ]
  },
  {
   "cell_type": "markdown",
   "id": "c2b0fa85-75f2-488b-b20d-5cfeaec472ec",
   "metadata": {},
   "source": [
    "The distribution closely follows the probabilities:"
   ]
  },
  {
   "cell_type": "code",
   "execution_count": null,
   "id": "b1293aa2-c607-445b-a826-5c57abfb83ac",
   "metadata": {},
   "outputs": [],
   "source": [
    "hist(nsteps2)"
   ]
  },
  {
   "cell_type": "markdown",
   "id": "2cac1e1e-219e-48b6-a686-53aabf987dbc",
   "metadata": {},
   "source": [
    "And we can confirm that with a two way contingency table of number of times the coin was hidden in that box and and the number of times we have the ask n number of questions:"
   ]
  },
  {
   "cell_type": "code",
   "execution_count": null,
   "id": "992d9aab-2aa7-482a-ab48-30b8cc15c8e4",
   "metadata": {},
   "outputs": [],
   "source": [
    "table(places, nsteps2)"
   ]
  },
  {
   "cell_type": "markdown",
   "id": "7433c145-ec15-437a-9d86-b509481dd030",
   "metadata": {},
   "source": [
    "Since we are halving the cumulative probabilities, sorted in decreasing order, for eight boxes the first cut point is not 4, but 1 since the cumulative probabilities is:"
   ]
  },
  {
   "cell_type": "code",
   "execution_count": null,
   "id": "597060b1-c832-4805-a58a-9a296497db0a",
   "metadata": {},
   "outputs": [],
   "source": [
    "round(cumsum(probs), 3)"
   ]
  },
  {
   "cell_type": "markdown",
   "id": "2f1b9f6a-b164-4b87-865a-7c9cc13e6a2b",
   "metadata": {},
   "source": [
    "So the first box already has a probability of more than 0.5."
   ]
  },
  {
   "cell_type": "markdown",
   "id": "7c006e57-01af-4f19-9045-61b7e39ac506",
   "metadata": {},
   "source": [
    "If the marble is not in box 1, than the cumulative probabilities for the remaning boxes are:"
   ]
  },
  {
   "cell_type": "code",
   "execution_count": null,
   "id": "ed4eb10e-c60f-4331-b990-c2b34bc060a2",
   "metadata": {},
   "outputs": [],
   "source": [
    "round(cumsum(probs[-1]/sum(probs[-1])), 3)"
   ]
  },
  {
   "cell_type": "markdown",
   "id": "4f70cb9e-fe17-4a63-98ff-2e7ef8afa308",
   "metadata": {},
   "source": [
    "And for each step we ask the question whether the marble is in the first remaining box:"
   ]
  },
  {
   "cell_type": "code",
   "execution_count": null,
   "id": "39863cf8-624a-497b-ae3c-d45859e504c9",
   "metadata": {},
   "outputs": [],
   "source": [
    "lapply(1:7, function(x) round(cumsum(probs[-(1:x)]/sum(probs[-(1:x)])), 3))"
   ]
  },
  {
   "cell_type": "markdown",
   "id": "8882ff8d-ac52-4601-8c99-f58d5381767f",
   "metadata": {},
   "source": [
    "This is because we have a simplex with highly imbalanced values"
   ]
  },
  {
   "cell_type": "markdown",
   "id": "a1c61842-b751-4d86-94e9-67bcc9a4dbb0",
   "metadata": {},
   "source": [
    "The average number of questions from the simulation is:"
   ]
  },
  {
   "cell_type": "code",
   "execution_count": null,
   "id": "ee33e705-1fe4-4eab-b5f1-206b3ba3d7b7",
   "metadata": {},
   "outputs": [],
   "source": [
    "mean(nsteps2)"
   ]
  },
  {
   "cell_type": "markdown",
   "id": "bd5319ed-be94-42e3-8e49-2d15ecd5abff",
   "metadata": {},
   "source": [
    "The value is lower than 3 questions we have to ask in equiprobable case.\n",
    "\n",
    "The equiprobable case is a state of complete ignorance: If we don't know where the marble should be hidden, then we may assume that all boxes are equiprobable.\n",
    "\n",
    "But in the second case, we have more information on the probabilities about where the marble should be hidden:\n",
    "\n",
    "**SO WE HAVE TO ASK FEWER QUESTIONS ON THE AVERAGE**"
   ]
  },
  {
   "cell_type": "markdown",
   "id": "7b7d0744-11b3-48f9-9d50-4f29aecd90df",
   "metadata": {},
   "source": [
    "{\\displaystyle \\mathrm {H} (X):=-\\sum _{x\\in {\\mathcal {X}}}p(x)\\log p(x),}"
   ]
  },
  {
   "cell_type": "markdown",
   "id": "5808afe3-36b2-4cca-87aa-3a99b59b44d0",
   "metadata": {},
   "source": [
    "Now let's calculate the sum of log2 values of those probabilities weighted those same probabilities. In fact this is the generalized calculation for Shannon's Missing Information for both equiprobable and non-equiprobable cases.\n",
    "\n",
    "While this measure is known as *Shannon Entropy*, I will follow the convention of Arieh Ben-Naim who coins this measure \"Shannon's Missing Information\" and treats *entropy* as a special case of SMI.\n",
    "\n",
    "${\\displaystyle \\mathrm {H} (X):=-\\sum _{x\\in {\\mathcal {X}}}p(x)\\log p(x)}$"
   ]
  },
  {
   "cell_type": "code",
   "execution_count": null,
   "id": "0aca6e5d-fb7a-4ff0-982f-abd56e50195d",
   "metadata": {},
   "outputs": [],
   "source": [
    "smix <- function(x) -sum(x * log2(x))"
   ]
  },
  {
   "cell_type": "code",
   "execution_count": null,
   "id": "abb52801-e0f0-4741-9c07-9f7e6fb4adfc",
   "metadata": {},
   "outputs": [],
   "source": [
    "smix(probs)"
   ]
  },
  {
   "cell_type": "markdown",
   "id": "d17c64ad-01a5-4eb5-8d43-01e51a6ae40d",
   "metadata": {},
   "source": [
    "The value is quite close to the value we get from simulations."
   ]
  },
  {
   "cell_type": "markdown",
   "id": "a2b5257c-4b6a-4a12-8497-fb95f18ad107",
   "metadata": {},
   "source": [
    "Note that in the equiprobable case of n boxes, the formula boils down to:\n",
    "\n",
    "$\\displaystyle \\begin{aligned}\\mathrm {H} (X):&=-n\\frac{1}{n}\\log \\frac{1}{n}\\\\&=-\\log \\frac{1}{n}\\\\&=\\log n\\end{aligned}$"
   ]
  },
  {
   "cell_type": "code",
   "execution_count": null,
   "id": "7f342f08-5e4f-4d6c-9f15-de2fc46dade5",
   "metadata": {},
   "outputs": [],
   "source": [
    "smix(rep(1/8, 8))"
   ]
  },
  {
   "cell_type": "code",
   "execution_count": null,
   "id": "3ed3f2ec-8545-43a3-9a9f-92a8186e3a54",
   "metadata": {},
   "outputs": [],
   "source": [
    "log2(8)"
   ]
  },
  {
   "cell_type": "markdown",
   "id": "3d68cc45-1398-40d6-acc1-06b87f3cc1aa",
   "metadata": {},
   "source": [
    "#### Less imbalanced probabilities"
   ]
  },
  {
   "cell_type": "markdown",
   "id": "f6151ef8-ae11-4578-a6ef-d96c5f75891b",
   "metadata": {},
   "source": [
    "Now let's sample a simplex with less imbalanced values so that the cut point is not always in the first position:"
   ]
  },
  {
   "cell_type": "code",
   "execution_count": null,
   "id": "ab19200d-1c39-4a5f-8115-7f63e9e418c9",
   "metadata": {},
   "outputs": [],
   "source": [
    "set.seed(4)\n",
    "probs <- sort(rdirichlet(1, rep(5, nbox)), decreasing = T)\n",
    "sum(probs)\n",
    "round(probs, 3)"
   ]
  },
  {
   "cell_type": "code",
   "execution_count": null,
   "id": "08463aba-4d46-4695-8112-e89e285183ce",
   "metadata": {},
   "outputs": [],
   "source": [
    "set.seed(50)\n",
    "places <- sample(nbox, ngames, replace = T, prob = probs)"
   ]
  },
  {
   "cell_type": "markdown",
   "id": "b5f6ea78-e802-47bb-a711-784fc5c24503",
   "metadata": {},
   "source": [
    "The histogram reflects the unbalanced nature of the probabilities:"
   ]
  },
  {
   "cell_type": "code",
   "execution_count": null,
   "id": "5bd4ff1c-72ff-404b-ae20-061afd8ee254",
   "metadata": {},
   "outputs": [],
   "source": [
    "hist(places)"
   ]
  },
  {
   "cell_type": "markdown",
   "id": "700f682e-a2b3-4d71-a7b5-8adbc5c1a6c6",
   "metadata": {},
   "source": [
    "And let's run the function to find the position of the marble using the smart strategy by halving the probabilities in each step:"
   ]
  },
  {
   "cell_type": "code",
   "execution_count": null,
   "id": "27959245-f05f-403d-8608-5007d8087e72",
   "metadata": {},
   "outputs": [],
   "source": [
    "nsteps2 <- sapply(places, findmarble2, lastx = nbox, prb = probs)"
   ]
  },
  {
   "cell_type": "markdown",
   "id": "42ffc3ae-5d11-42b2-814f-4cbc65122f42",
   "metadata": {},
   "source": [
    "The distribution closely follows the probabilities:"
   ]
  },
  {
   "cell_type": "code",
   "execution_count": null,
   "id": "59678981-ebd7-4679-aa42-e01a112a395c",
   "metadata": {},
   "outputs": [],
   "source": [
    "hist(nsteps2)"
   ]
  },
  {
   "cell_type": "markdown",
   "id": "1f155155-6e2c-4007-837e-127f74711c2e",
   "metadata": {},
   "source": [
    "And two way contingency table of number of times the coin was hidden in that box and and the number of times we have the ask n number of questions:"
   ]
  },
  {
   "cell_type": "code",
   "execution_count": null,
   "id": "1724f585-957b-4730-9ecb-0d5bd0a64124",
   "metadata": {},
   "outputs": [],
   "source": [
    "table(places, nsteps2)"
   ]
  },
  {
   "cell_type": "markdown",
   "id": "fc6a2889-118a-460e-bb16-6066b7419582",
   "metadata": {},
   "source": [
    "Now the cut point - where the cumulative probability is closest to 0.5 - is between the midpoint and the first index:"
   ]
  },
  {
   "cell_type": "code",
   "execution_count": null,
   "id": "2d99c1b8-20f9-4844-9b59-64f368ac1506",
   "metadata": {},
   "outputs": [],
   "source": [
    "round(cumsum(probs), 3)"
   ]
  },
  {
   "cell_type": "markdown",
   "id": "a754f8f6-5d01-4897-9232-645400069634",
   "metadata": {},
   "source": [
    "If the marble is not in box 1, than the cumulative probabilities for the remaning boxes are:"
   ]
  },
  {
   "cell_type": "code",
   "execution_count": null,
   "id": "1eaf145f-cd08-4dca-9696-725481d0608e",
   "metadata": {},
   "outputs": [],
   "source": [
    "round(cumsum(probs[-1]/sum(probs[-1])), 3)"
   ]
  },
  {
   "cell_type": "markdown",
   "id": "8bc2f678-06e5-48a3-9057-743a32a9553a",
   "metadata": {},
   "source": [
    "The average number of questions from the simulation is:"
   ]
  },
  {
   "cell_type": "code",
   "execution_count": null,
   "id": "42817100-2072-4718-9af1-23956c378569",
   "metadata": {},
   "outputs": [],
   "source": [
    "mean(nsteps2)"
   ]
  },
  {
   "cell_type": "markdown",
   "id": "45b16b10-37a0-4ded-840e-b1deaaf4bdcb",
   "metadata": {},
   "source": [
    "The value is lower than 3 questions we have to ask in equiprobable case but higher than the case with extremely imbalanced probabilities."
   ]
  },
  {
   "cell_type": "markdown",
   "id": "746e3ef9-95ee-406c-af5c-3e84fc45ac17",
   "metadata": {},
   "source": [
    "Now let's calculate the sum of SMI again:"
   ]
  },
  {
   "cell_type": "code",
   "execution_count": null,
   "id": "e99b6231-49d2-488d-b8c6-0206e8a502ee",
   "metadata": {},
   "outputs": [],
   "source": [
    "smix(probs)"
   ]
  },
  {
   "cell_type": "markdown",
   "id": "f584e81e-47ea-4447-8580-9cd246b6509f",
   "metadata": {},
   "source": [
    "Which is again quite close to the number of questions we get from the simulation."
   ]
  },
  {
   "cell_type": "code",
   "execution_count": null,
   "id": "dabd3a61-825a-4aeb-8e8f-bccff5f2d272",
   "metadata": {},
   "outputs": [],
   "source": []
  },
  {
   "cell_type": "markdown",
   "id": "3a227d09-6558-4e5e-94fa-d821cb805fb5",
   "metadata": {},
   "source": [
    "#### Simulation with different probability simplexes"
   ]
  },
  {
   "cell_type": "markdown",
   "id": "22a80de8-74c6-440b-96db-b1a68c089624",
   "metadata": {},
   "source": [
    "Now let's fix the number of boxes and number of repetitions of the game but let's simulate the number of questions for different distributions of probabilities, from the extremely imbalanced case to the equiprobable case."
   ]
  },
  {
   "cell_type": "markdown",
   "id": "fb29769c-b808-4505-9c3e-211d0841aef4",
   "metadata": {},
   "source": [
    "We fix 256 boxes (so in the equiprobable case we have to ask 8 questions):"
   ]
  },
  {
   "cell_type": "code",
   "execution_count": null,
   "id": "2d1adce9-8d01-4262-8281-f331079bc3d5",
   "metadata": {},
   "outputs": [],
   "source": [
    "nbox <- 2^8\n",
    "nbox"
   ]
  },
  {
   "cell_type": "markdown",
   "id": "470fded2-2810-4638-a13a-32af8027c0f5",
   "metadata": {},
   "source": [
    "And 1024 games:"
   ]
  },
  {
   "cell_type": "code",
   "execution_count": null,
   "id": "63e644d4-7e94-44e4-915a-11df5f37edaa",
   "metadata": {},
   "outputs": [],
   "source": [
    "ngames <- 2^10\n",
    "ngames"
   ]
  },
  {
   "cell_type": "markdown",
   "id": "91040809-1662-4be7-8ead-a4159470a503",
   "metadata": {},
   "source": [
    "Let's pick shape parameters - alpha values - with increasing orders of magnitude:"
   ]
  },
  {
   "cell_type": "code",
   "execution_count": null,
   "id": "ad510312-5ae9-416d-baef-605099acccb9",
   "metadata": {},
   "outputs": [],
   "source": [
    "alphas <- 10^seq(-4, 0.5, 0.5)\n",
    "round(alphas, 4)"
   ]
  },
  {
   "cell_type": "markdown",
   "id": "e2eaae07-2eda-4191-9aaf-fe70c873dcea",
   "metadata": {},
   "source": [
    "Sample probability simplexes for each share parameter:"
   ]
  },
  {
   "cell_type": "code",
   "execution_count": null,
   "id": "e661cfec-4918-4aba-89a3-dfe54d9ff41e",
   "metadata": {},
   "outputs": [],
   "source": [
    "set.seed(60)\n",
    "probs_list <- lapply(alphas, function(x) sort(rdirichlet(1, rep(x, nbox)), decreasing = T))"
   ]
  },
  {
   "cell_type": "markdown",
   "id": "a7ac9c54-0257-4a31-96a0-0361f7752990",
   "metadata": {},
   "source": [
    "Let's view the initial values for each case:"
   ]
  },
  {
   "cell_type": "code",
   "execution_count": null,
   "id": "8c77c60e-6e6a-41d2-bcb3-0682fcb48fc0",
   "metadata": {},
   "outputs": [],
   "source": [
    "probs_list %>% lapply(round, 3) %>% lapply(head)"
   ]
  },
  {
   "cell_type": "markdown",
   "id": "c55eb472-b0da-447e-a888-a91925d22214",
   "metadata": {},
   "source": [
    "Let's sample the positions of marbles for each distribution:"
   ]
  },
  {
   "cell_type": "code",
   "execution_count": null,
   "id": "4a68033a-39af-44ee-a97a-9684100978f1",
   "metadata": {},
   "outputs": [],
   "source": [
    "set.seed(70)\n",
    "places_list <- lapply(probs_list, function(x) sample(nbox, ngames, replace = T, prob = x))"
   ]
  },
  {
   "cell_type": "markdown",
   "id": "35f1b34c-55f3-4461-9093-43b014b5e7de",
   "metadata": {},
   "source": [
    "And view the histograms of selected case. In the first most imbalanced case the marble is always in the first box. In the next case we still have a highly imbalanced distribution where boxes other than 1 also have the chance to hide the marble. The last case is closer to the equiprobable distribution:"
   ]
  },
  {
   "cell_type": "code",
   "execution_count": null,
   "id": "529724c0-bef1-4df6-bc7b-5b57c8304e05",
   "metadata": {},
   "outputs": [],
   "source": [
    "hist1 <- lapply(places_list[c(1, 5, 10)], hist)"
   ]
  },
  {
   "cell_type": "markdown",
   "id": "209f278e-722e-4380-a5f0-2100a4ba51b2",
   "metadata": {},
   "source": [
    "Now let's simulate the number of questions to find the marbles for each case:"
   ]
  },
  {
   "cell_type": "code",
   "execution_count": null,
   "id": "4a8da923-8a6e-4758-8b3b-cbf46f0d7e37",
   "metadata": {},
   "outputs": [],
   "source": [
    "nsteps_list <- mapply(function(x, y) sapply(x, findmarble2, lastx = nbox, prb = y, sureval = 0.99), places_list, probs_list, SIMPLIFY = F)"
   ]
  },
  {
   "cell_type": "markdown",
   "id": "553d304b-5915-4c49-8f02-eab352a74ced",
   "metadata": {},
   "source": [
    "And view the distribution of number of questions for selected cases:\n",
    "\n",
    "In the most imbalanced case, the marble is always in to the first box, and the probability is above the sureness threshold so we assume that the marble is in that box, without asking any questions. So we ask no questions at all (0 questions) in all runs.\n",
    "\n",
    "In the next case, we still have a highly imbalanced distribution of the number of questions, asking mostly 1 question. In the last case we mostly ask 7 to 9 questions - which is around the expected 8 questions of the equiprobable case."
   ]
  },
  {
   "cell_type": "code",
   "execution_count": null,
   "id": "c40ba99b-ce2f-4d6f-b265-1fd70ee77072",
   "metadata": {},
   "outputs": [],
   "source": [
    "lapply(nsteps_list[c(1, 5, 10)], table)"
   ]
  },
  {
   "cell_type": "code",
   "execution_count": null,
   "id": "ecd681b4-790e-46be-b1bd-0800ee532a7f",
   "metadata": {},
   "outputs": [],
   "source": [
    "hists <- lapply(nsteps_list[c(1, 5, 10)], hist)"
   ]
  },
  {
   "cell_type": "markdown",
   "id": "8f32898b-99f3-4417-b7b3-bd45c6a83a8d",
   "metadata": {},
   "source": [
    "Let's calculate the average number of questions for each case:"
   ]
  },
  {
   "cell_type": "code",
   "execution_count": null,
   "id": "cfc0fcfe-d68f-4038-b02e-22ff592ab0f5",
   "metadata": {},
   "outputs": [],
   "source": [
    "quests <- sapply(nsteps_list, mean)\n",
    "round(quests, 3)"
   ]
  },
  {
   "cell_type": "markdown",
   "id": "2a42a4d0-9f30-4f1b-99b6-8d07a2bf0dca",
   "metadata": {},
   "source": [
    "And calculate the SMI values. However we should make a small change to the function: When the probability is zero the log2 function will return $-\\infty$ and the multiplication $0*-\\infty$ is undefined. To overcome this, we exclude zero probabilities:"
   ]
  },
  {
   "cell_type": "code",
   "execution_count": null,
   "id": "6d0952c9-e271-4d85-9c1e-129368564bef",
   "metadata": {},
   "outputs": [],
   "source": [
    "smix2 <- function(x) -sum(x[x>0] * log2(x[x>0]))"
   ]
  },
  {
   "cell_type": "markdown",
   "id": "7fbec178-951a-4c74-93d7-5191d834d797",
   "metadata": {},
   "source": [
    "And the SMI values:"
   ]
  },
  {
   "cell_type": "code",
   "execution_count": null,
   "id": "0fae70ad-a0eb-4713-a7e1-d4c9f66adf3b",
   "metadata": {},
   "outputs": [],
   "source": [
    "smis <- sapply(probs_list, smix2)\n",
    "smis"
   ]
  },
  {
   "cell_type": "markdown",
   "id": "4b33d25d-4ab0-4856-a0f4-617e75aba232",
   "metadata": {},
   "source": [
    "Lets plot them together:"
   ]
  },
  {
   "cell_type": "code",
   "execution_count": null,
   "id": "27c38d38-178d-4bd2-9172-e2d7f1d29b7b",
   "metadata": {},
   "outputs": [],
   "source": [
    "plot(smis, quests, col = \"red\")\n",
    "abline(0, 1)"
   ]
  },
  {
   "cell_type": "markdown",
   "id": "15c6629a-4160-4101-9e5e-0f807992f271",
   "metadata": {},
   "source": [
    "We see that for most values, the average number of simulated questions is parallel to the SMI measure.\n",
    "\n",
    "Of course our discrete algorithm does not work very well for SMI values between 0 and 1 - despite our correction for the sureness threshold."
   ]
  },
  {
   "cell_type": "markdown",
   "id": "f804b8f3-7770-4950-86d8-dda287e46d3c",
   "metadata": {},
   "source": [
    "Why for the extremely imbalanced case the SMI is close to 0?\n",
    "\n",
    "When we are completely or almost completely sure that the marble is in a single box, we don't have to ask any questions at all.\n",
    "\n",
    "**SO IF SMI MEASURES MISSING INFORMATION ABOUT THE STATE, AND IN CASE OF ALMOST CERTAINTY ABOUT THE STATE, THERE IS NO MISSING INFORMATION AT ALL. WHEN WE HAVE COMPLETE INFORMATION, THE SMI IS 0, WE DON'T HAVE TO ASK ANY QUESTIONS.**\n",
    "\n",
    "**AND FOR A GIVEN SIZE OF THE GAME (NUMBER OF BOXES), THE MORE BALANCED THE PROBABILITY DISTRIBUTION OF THE STATE IS, THE MORE IGNORANT WE ARE ABOUT THE POSITION OF THE MARBLE, AND THE LESS INFORMATION WE HAVE ABOUT THE STATE, THE MORE MISSING INFORMATION WE HAVE ABOUT THE STATE.**\n",
    "\n",
    "**IN THE PERFECTLY EQUIPROBABLY CASE, THE MARBLE CAN BE ANYWHERE AND AT ITS MAXIMUM WE HAVE TO ASK LOG2(N) QUESTIONS TO FIND THE MARBLE AND HENCE SMI IS ALSO AT ITS MAXIMUM**"
   ]
  },
  {
   "cell_type": "markdown",
   "id": "303b13d1-cc84-433e-a716-906543a75cd7",
   "metadata": {},
   "source": [
    "We are done with understand the first step in Shannon's Information Theory: The meaning and calculation of **MISSING INFORMATION**"
   ]
  },
  {
   "cell_type": "markdown",
   "id": "56a4ac0c-7c1e-4658-a818-e76a2afc3258",
   "metadata": {},
   "source": [
    "Now before coming to the entropy as a special case of SMI, we will first revisit the permutations and combinations."
   ]
  },
  {
   "cell_type": "markdown",
   "id": "bb777284-bfa0-42f3-b926-f1423d049703",
   "metadata": {},
   "source": [
    "## Specific States vs Dim States"
   ]
  },
  {
   "cell_type": "markdown",
   "id": "e3a6c839-2251-4285-b53a-4b81f7c30dea",
   "metadata": {},
   "source": [
    "In the Basic Probability Calculus and Binomial Distribution sections of previous notebooks, we showed the multiplicity of events that yield a certain number of successes in coin tosses. Let's revisit this exercise."
   ]
  },
  {
   "cell_type": "markdown",
   "id": "ac7ca7d7-24ef-47df-a7b2-3e522faa582d",
   "metadata": {},
   "source": [
    "Let's set the number of coins to 6:"
   ]
  },
  {
   "cell_type": "code",
   "execution_count": null,
   "id": "cce813d2-609f-48d1-8389-0b6dbad38d32",
   "metadata": {},
   "outputs": [],
   "source": [
    "ncoin <- 6"
   ]
  },
  {
   "cell_type": "markdown",
   "id": "b68000e3-f8b1-483f-8ba7-1f5c5c6ca619",
   "metadata": {},
   "source": [
    "First let's assume that all coins are distinguishable with labels on them with successive number from 1 to `ncoin`.\n",
    "\n",
    "Now let's get all possible k-tuples out of this 6 coins from 0 to 6:"
   ]
  },
  {
   "cell_type": "code",
   "execution_count": null,
   "id": "c3df22b6-3af3-4b4e-8ba4-e3f416c0c7d7",
   "metadata": {},
   "outputs": [],
   "source": [
    "disting <- lapply(0:ncoin, function(x) t(combn(6, x)))"
   ]
  },
  {
   "cell_type": "code",
   "execution_count": null,
   "id": "1dc0347f-d1c5-4f9e-8850-84500b66afa0",
   "metadata": {},
   "outputs": [],
   "source": [
    "disting"
   ]
  },
  {
   "cell_type": "markdown",
   "id": "8c51bdda-06d3-46d4-8e8b-dcd527afd59f",
   "metadata": {},
   "source": [
    "We can consider this all possible configurations of successes that we can get from toss of 6 coins that are distinguishable with numbered labels on them. For each k-tuples, let's get how many different \"labeled\" configurations that we can have:"
   ]
  },
  {
   "cell_type": "code",
   "execution_count": null,
   "id": "855f95e9-7102-4e26-90db-d198d2fd2ae2",
   "metadata": {},
   "outputs": [],
   "source": [
    "sapply(disting, nrow)"
   ]
  },
  {
   "cell_type": "markdown",
   "id": "01d4871d-566a-4d93-9df2-99942836c280",
   "metadata": {},
   "source": [
    "This in what we get from the choose function for k tuples out of n different units:\n",
    "\n",
    "${\\displaystyle \\binom{n}{k} = {\\frac {n!}{(n-k)! * k!}}}$"
   ]
  },
  {
   "cell_type": "code",
   "execution_count": null,
   "id": "3a048d89-aa88-4579-bd1e-842409951acb",
   "metadata": {},
   "outputs": [],
   "source": [
    "factorial(ncoin) / (factorial(ncoin - 0:ncoin) * factorial(0:ncoin))"
   ]
  },
  {
   "cell_type": "markdown",
   "id": "55349ffa-be28-41ac-999c-5ad2409be7c4",
   "metadata": {},
   "source": [
    "Or better:"
   ]
  },
  {
   "cell_type": "code",
   "execution_count": null,
   "id": "8c39401d-04fa-4355-a225-96840f20a0d6",
   "metadata": {},
   "outputs": [],
   "source": [
    "choose(ncoin, 0:ncoin)"
   ]
  },
  {
   "cell_type": "markdown",
   "id": "3e14d912-4a9e-48f0-a76a-0b64819d9475",
   "metadata": {},
   "source": [
    "Now let's assume we erased the labels on the coins and repeated the toss experiment to get all configurations where we have 0's and 1's:"
   ]
  },
  {
   "cell_type": "code",
   "execution_count": null,
   "id": "fe1f1e84-a56d-4760-b605-c30ef1dbd721",
   "metadata": {},
   "outputs": [],
   "source": [
    "tosses <- permutations(2, ncoin, 0:1, repeats.allowed = T)"
   ]
  },
  {
   "cell_type": "markdown",
   "id": "30611aec-c311-4ff1-a4a9-c48334eb0063",
   "metadata": {},
   "source": [
    "We again have a total of 64 configuration, the size of the power set $2^n$"
   ]
  },
  {
   "cell_type": "code",
   "execution_count": null,
   "id": "40844017-a82a-41a9-8e07-8a08ace897c0",
   "metadata": {},
   "outputs": [],
   "source": [
    "dim(tosses)"
   ]
  },
  {
   "cell_type": "code",
   "execution_count": null,
   "id": "8eccbf7a-c5d1-487c-a77c-0787bcf6c523",
   "metadata": {},
   "outputs": [],
   "source": [
    "2^ncoin"
   ]
  },
  {
   "cell_type": "code",
   "execution_count": null,
   "id": "00d2350d-9243-43a9-8844-d0d23522bb2d",
   "metadata": {},
   "outputs": [],
   "source": [
    "tosses"
   ]
  },
  {
   "cell_type": "markdown",
   "id": "f198f722-115d-47f7-9115-fea82cf1243c",
   "metadata": {},
   "source": [
    "While we can still distinguish the coins according to the columns the 1's appear in, in reality we will only have the total number of successes:"
   ]
  },
  {
   "cell_type": "code",
   "execution_count": null,
   "id": "23c586bd-15dc-4e9c-b491-aac479e73541",
   "metadata": {},
   "outputs": [],
   "source": [
    "successx <- rowSums(tosses)"
   ]
  },
  {
   "cell_type": "code",
   "execution_count": null,
   "id": "0ec47b9e-156e-46f8-a963-9810ecaa0cae",
   "metadata": {},
   "outputs": [],
   "source": [
    "table(successx)\n",
    "hist(successx)"
   ]
  },
  {
   "cell_type": "markdown",
   "id": "a7546b2c-035f-46c5-9357-c6c62f6a23cc",
   "metadata": {},
   "source": [
    "Again the binomial coefficients of $\\displaystyle \\binom{n}{k}$"
   ]
  },
  {
   "cell_type": "markdown",
   "id": "26391412-c316-463c-81a5-1518c56da2f5",
   "metadata": {},
   "source": [
    "Since we only have the information on the number of successes, the information on each **SPECIFIC** configuration should be erased. We can do this by sorting the values in each row:"
   ]
  },
  {
   "cell_type": "code",
   "execution_count": null,
   "id": "4930b642-dbd6-494e-803a-b5f847365206",
   "metadata": {},
   "outputs": [],
   "source": [
    "tosses2 <- t(apply(tosses, 1, sort, decreasing = T))"
   ]
  },
  {
   "cell_type": "code",
   "execution_count": null,
   "id": "0f721cbe-354f-4df4-81d5-47862d3df391",
   "metadata": {},
   "outputs": [],
   "source": [
    "tosses2"
   ]
  },
  {
   "cell_type": "markdown",
   "id": "27892ff6-efc5-4a29-8afd-ea3eb41a2352",
   "metadata": {},
   "source": [
    "And let's split this object according to the total number of successes:"
   ]
  },
  {
   "cell_type": "code",
   "execution_count": null,
   "id": "aa3dd94e-7f77-4f54-a2f6-1fbc12536db3",
   "metadata": {},
   "outputs": [],
   "source": [
    "tosses2_list <- lapply(split(1:length(successx), successx), function(x) tosses2[x,])"
   ]
  },
  {
   "cell_type": "code",
   "execution_count": null,
   "id": "49c68653-1a68-448d-a4ed-c39d6c9ae07f",
   "metadata": {},
   "outputs": [],
   "source": [
    "tosses2_list"
   ]
  },
  {
   "cell_type": "markdown",
   "id": "36775d2d-a615-4322-8129-8b12776ef1c3",
   "metadata": {},
   "source": [
    "We are given the information about the number of successes out of the experiment and we are supposed to guess the exact **SPECIFIC CONFIGURATION** of the state.\n",
    "\n",
    "So a **SPECIFIC STATE** is where we have full information on the exact labels of configuration while a **DIM STATE** is we only have the overall statistics - such as the number of successes without any detail information on the specific labels."
   ]
  },
  {
   "cell_type": "markdown",
   "id": "3e37d942-0b34-4048-a10f-462464857d80",
   "metadata": {},
   "source": [
    "If we are told that to total number of successes is either 0 or 6, than we have complete **INFORMATION** on the **SPECIFIC STATE**:\n",
    "\n",
    "- Either no coin has a success\n",
    "- All or coins tosses into a success\n",
    "\n",
    "Then there is **NO MISSING INFORMATION**"
   ]
  },
  {
   "cell_type": "markdown",
   "id": "348cb4d9-7d2b-43b5-8081-22ac0fd08eac",
   "metadata": {},
   "source": [
    "If we are told that the number of successes  - **THE DIM STATE** is 1 or 6, we have less information on the **SPECIFIC STATE**:\n",
    "\n",
    "- Either only one out of 6 coins are in a success (head)\n",
    "- Or only one out of 6 coins are failed (tail)\n",
    "\n",
    "So the **SPECIFIC STATE** is one of the 6 options"
   ]
  },
  {
   "cell_type": "markdown",
   "id": "85832626-ff83-40e9-a5a2-f90f7117d3ac",
   "metadata": {},
   "source": [
    "For the **DIM STATE** of 2 or 4 successes, the possible number of **SPECIFIC STATES** is 15 and for the **DIM STATE** of 3 successes, the possible number of **SPECIFIC STATES** is 20.\n",
    "\n",
    "As the number of specific states for a given dim state is increased, it is harder to guess the exact specific state right, so the game is more difficult and we have more **MISSING INFORMATION**"
   ]
  },
  {
   "cell_type": "markdown",
   "id": "876407db-3a8c-4c62-a860-def8957a261b",
   "metadata": {},
   "source": [
    "Now let's convert this dim state counts into rows of percentages of 1 and 0 values to calculate the SMI measure:"
   ]
  },
  {
   "cell_type": "code",
   "execution_count": null,
   "id": "0539dd3e-6e2d-4530-925d-45b9814c8ff3",
   "metadata": {},
   "outputs": [],
   "source": [
    "tosses_smi <- apply(cbind(0:6, 6:0)/6, 1, smix2)"
   ]
  },
  {
   "cell_type": "markdown",
   "id": "bcc7cf0b-4579-40f3-a1e3-cb6cf05727c3",
   "metadata": {},
   "source": [
    "The missing information for the case of 0 and 6 successes is 0: That means we have full information on the state, and in order to know whether a coin is tossed to a success, we don't have to ask any questions!\n",
    "\n",
    "The missing information for the case of 3 successes is 1: That means for two options of having 0 or 1 - similar to the case of one marble hidden in one of two boxes - in order to know whether a coin is tossed to a success or fail, we have to ask 1 question. The SMI is at its maximum value given the number of options (boxes)"
   ]
  },
  {
   "cell_type": "code",
   "execution_count": null,
   "id": "024966ac-3819-4edd-90ce-1efd75b5ebc5",
   "metadata": {},
   "outputs": [],
   "source": [
    "round(tosses_smi, 3)"
   ]
  },
  {
   "cell_type": "code",
   "execution_count": null,
   "id": "388984ae-ddfd-4ada-a145-1f65c56d8433",
   "metadata": {},
   "outputs": [],
   "source": [
    "log2(2)"
   ]
  },
  {
   "cell_type": "markdown",
   "id": "4c8a7b0d-17a8-4445-8588-6257fcddc9cb",
   "metadata": {},
   "source": [
    "Now let's simulate tosses from binomial distribution with a fair bias of 0.5:"
   ]
  },
  {
   "cell_type": "code",
   "execution_count": null,
   "id": "508355cd-123d-41c7-a128-a651d8c94b02",
   "metadata": {},
   "outputs": [],
   "source": [
    "set.seed(70)\n",
    "simtoss <- rbinom(1e5, 6, 0.5)"
   ]
  },
  {
   "cell_type": "markdown",
   "id": "c351c528-c11e-41bf-b70a-3053d7c66c14",
   "metadata": {},
   "source": [
    "And get the empirical probabilities of each count:"
   ]
  },
  {
   "cell_type": "code",
   "execution_count": null,
   "id": "422087cb-74ed-4d1f-aa16-86d071e0deda",
   "metadata": {},
   "outputs": [],
   "source": [
    "prop.table(table(simtoss))"
   ]
  },
  {
   "cell_type": "markdown",
   "id": "3ce70c3d-dbad-4b28-93af-40f4f5429072",
   "metadata": {},
   "source": [
    "And we can also get the theoretical probabilities from probability mass function again with a fair bias of 0.5:"
   ]
  },
  {
   "cell_type": "code",
   "execution_count": null,
   "id": "9bece7d9-7192-4108-8d69-2620204cd3fe",
   "metadata": {},
   "outputs": [],
   "source": [
    "toss_mass <- dbinom(0:6, 6, 0.5)\n",
    "toss_mass"
   ]
  },
  {
   "cell_type": "markdown",
   "id": "b1143333-8dd2-4399-a962-2c1b58f96ef3",
   "metadata": {},
   "source": [
    "Or we can calculate manually:"
   ]
  },
  {
   "cell_type": "code",
   "execution_count": null,
   "id": "d0245639-9440-426b-adb7-44332e4e9338",
   "metadata": {},
   "outputs": [],
   "source": [
    "choose(6, 0:6) / 2^6"
   ]
  },
  {
   "cell_type": "markdown",
   "id": "5cbcea3c-f8aa-45fc-bbf4-3bcda0dc99dc",
   "metadata": {},
   "source": [
    "Now let's compare the probability mass and SMI values together:"
   ]
  },
  {
   "cell_type": "code",
   "execution_count": null,
   "id": "e60965dd-ecf6-461d-aea5-5ea8a3697451",
   "metadata": {},
   "outputs": [],
   "source": [
    "plot(0:6, tosses_smi, type = \"l\", col = \"red\")\n",
    "lines(0:6, toss_mass, col = \"blue\")\n",
    "abline(v = 3)"
   ]
  },
  {
   "cell_type": "markdown",
   "id": "45c38fa0-eecd-4609-9163-8812d0810645",
   "metadata": {},
   "source": [
    "We see that both the SMI and the probability mass is at a maximum when the number of successes is 3.\n",
    "\n",
    "The reason for both is the same: We have more specific configurations at that point, resulting in a higher probability in that state and more missing information about the specific state."
   ]
  },
  {
   "cell_type": "markdown",
   "id": "c11d95cb-2873-4535-93de-ce1f99ec5f11",
   "metadata": {},
   "source": [
    "Now let's see how a system that starts from an arbitrary specific state and left alone evolves stochastically."
   ]
  },
  {
   "cell_type": "markdown",
   "id": "96f3a830-fda9-4584-badd-d9a9379a5213",
   "metadata": {},
   "source": [
    "# Let the Good Times Roll: How Systems Evolve Towards Equilibrium State"
   ]
  },
  {
   "cell_type": "markdown",
   "id": "5c1e3c33-333b-42ae-82bf-ec359b817191",
   "metadata": {},
   "source": [
    "Now we will follow the ideas in the Chapter 4 of Ben-Naim (2008), and design simulation experiments to track how and why systems that start with an arbitrary state evolve randomly into the equilibrium state with ever increasing SMI."
   ]
  },
  {
   "cell_type": "markdown",
   "id": "ba045b9a-a442-4b25-9029-ce6c2d04ecbe",
   "metadata": {},
   "source": [
    "The rules of the game are very very simple: We determine the number of coins and start in an all-tails state so all coins are turned facing tails up.\n",
    "\n",
    "In each iteration we randomly pick one of the coins with equal probabilities and flip the coin. We update the coin with the new value, tail or head."
   ]
  },
  {
   "cell_type": "markdown",
   "id": "c4c9464e-38da-4c62-852d-1a1b61293998",
   "metadata": {},
   "source": [
    "A slower but sure approach is to iterate through states and collect them into a matrix. But that would be too slow. We will leverage the vectorization capabilities of R for a more concise and faster approach."
   ]
  },
  {
   "cell_type": "markdown",
   "id": "67eaa9c1-69d9-4247-a452-7f191cfeb618",
   "metadata": {},
   "source": [
    "## 10 Coins, Initiated at all zeros"
   ]
  },
  {
   "cell_type": "markdown",
   "id": "4f96d10e-7b33-451e-a265-17184dd7f204",
   "metadata": {},
   "source": [
    "We will start with an easier case of 10 Coins:"
   ]
  },
  {
   "cell_type": "code",
   "execution_count": null,
   "id": "588e6cc4-ff7d-47fb-876d-94037ff4cd89",
   "metadata": {},
   "outputs": [],
   "source": [
    "ncoin <- 10"
   ]
  },
  {
   "cell_type": "markdown",
   "id": "9a0c2726-94d9-4579-87ad-c0d787ce61f6",
   "metadata": {},
   "source": [
    "And 10K rounds:"
   ]
  },
  {
   "cell_type": "code",
   "execution_count": null,
   "id": "f1f71a8d-b774-408f-8e0b-539fa2a0a359",
   "metadata": {},
   "outputs": [],
   "source": [
    "nround <- 1e4"
   ]
  },
  {
   "cell_type": "markdown",
   "id": "28db8f2f-fc2e-42b6-8459-0549320b3d76",
   "metadata": {},
   "source": [
    "We will sample two sets of values: One set for the coin to be flipped, the other set for the flipped values - head or tail"
   ]
  },
  {
   "cell_type": "markdown",
   "id": "27c30b09-e551-4470-9459-26092ac52a94",
   "metadata": {},
   "source": [
    "Indices of coins selected in each round:"
   ]
  },
  {
   "cell_type": "code",
   "execution_count": null,
   "id": "89608691-56d8-488b-a441-d6fb0ae95c56",
   "metadata": {},
   "outputs": [],
   "source": [
    "set.seed(10)\n",
    "coinind <- sample(ncoin, nround, replace = T)"
   ]
  },
  {
   "cell_type": "markdown",
   "id": "8588dafb-5f16-4d7f-b2f0-4518191567de",
   "metadata": {},
   "source": [
    "The value of the flipped coins in each round:"
   ]
  },
  {
   "cell_type": "code",
   "execution_count": null,
   "id": "b58b9abc-926a-4271-943d-a1d4d15f1aa5",
   "metadata": {},
   "outputs": [],
   "source": [
    "set.seed(20)\n",
    "coinval <- sample(0:1, nround, replace = T)"
   ]
  },
  {
   "cell_type": "markdown",
   "id": "87098b35-f147-44de-9855-204bf8ff26f3",
   "metadata": {},
   "source": [
    "Now create an empty matrix, one column for each coin and one row for each round:"
   ]
  },
  {
   "cell_type": "code",
   "execution_count": null,
   "id": "129d4bc5-98ac-4f45-8c25-37424ffce2e2",
   "metadata": {},
   "outputs": [],
   "source": [
    "coinmat <- matrix(nrow = nround, ncol = ncoin) "
   ]
  },
  {
   "cell_type": "markdown",
   "id": "d9bfd66f-bed5-483f-9f07-8ce79a4154b1",
   "metadata": {},
   "source": [
    "Now the critical and efficient step but first let's illustrate what happens with this step with a toy example:"
   ]
  },
  {
   "cell_type": "code",
   "execution_count": null,
   "id": "de4a935b-c15a-4bec-8a22-1e7a9db34acf",
   "metadata": {},
   "outputs": [],
   "source": [
    "toy_matrix <- matrix(nrow = 5, ncol = 4)\n",
    "toy_matrix"
   ]
  },
  {
   "cell_type": "markdown",
   "id": "1b2c4aa7-a530-4b14-941c-141ae2bc429d",
   "metadata": {},
   "source": [
    "And we create a two column matrix, first column for the row indices of toy_matrix and the second column for the column indices of toy_matrix:"
   ]
  },
  {
   "cell_type": "code",
   "execution_count": null,
   "id": "a95a4a68-5f6d-4a7b-bdcd-57fbc5238f47",
   "metadata": {},
   "outputs": [],
   "source": [
    "indexing_matrix <- cbind(1:5, c(3, 1, 2, 4, 1))\n",
    "indexing_matrix"
   ]
  },
  {
   "cell_type": "markdown",
   "id": "cb44fed3-9be9-4471-aba1-a7833ea9befe",
   "metadata": {},
   "source": [
    "Now we will subset the toy_matrix with this two-column indexing matrix and update those values:"
   ]
  },
  {
   "cell_type": "code",
   "execution_count": null,
   "id": "4b2e16c7-f781-4d65-805f-051b1c0cedba",
   "metadata": {},
   "outputs": [],
   "source": [
    "toy_matrix[indexing_matrix] <- 1"
   ]
  },
  {
   "cell_type": "code",
   "execution_count": null,
   "id": "ce2028d5-6d34-40cd-ac0e-808f25256021",
   "metadata": {},
   "outputs": [],
   "source": [
    "toy_matrix"
   ]
  },
  {
   "cell_type": "markdown",
   "id": "7543f2e1-69df-4248-b4df-a7228ed813bf",
   "metadata": {},
   "source": [
    "So we will do the same thing for the large matrix we created and the two columns we sampled: Coin indices and flipped values:"
   ]
  },
  {
   "cell_type": "markdown",
   "id": "7747d108-f80f-424a-82b3-cf463d6bc870",
   "metadata": {},
   "source": [
    "First create an update matrix for each sequential row index and coin indices we sampled for each row:"
   ]
  },
  {
   "cell_type": "code",
   "execution_count": null,
   "id": "ffc064c1-3ac5-4668-bf8b-c091e0355c8f",
   "metadata": {},
   "outputs": [],
   "source": [
    "update_matrix <- cbind(1:nround, coinind)"
   ]
  },
  {
   "cell_type": "code",
   "execution_count": null,
   "id": "795c5bb1-1abb-45b1-b5a1-dbf311734c59",
   "metadata": {},
   "outputs": [],
   "source": [
    "head(update_matrix)"
   ]
  },
  {
   "cell_type": "markdown",
   "id": "3fef4509-e9dd-4bec-b87d-e868c5b62c8b",
   "metadata": {},
   "source": [
    "So in the first round the 9th coin will be flipped, in the 2nd round 10th coin will be flipped and so on.\n",
    "\n",
    "Let's update the large matrix with the sampled flip values:"
   ]
  },
  {
   "cell_type": "code",
   "execution_count": null,
   "id": "fb68e38b-51d5-4c48-89b7-b129261b072f",
   "metadata": {},
   "outputs": [],
   "source": [
    "coinmat[update_matrix] <- coinval"
   ]
  },
  {
   "cell_type": "markdown",
   "id": "195378c6-9736-433b-820a-432a965e7c77",
   "metadata": {},
   "source": [
    "We punctuated the empty matrix with the coin flips in each row for the selected coin:"
   ]
  },
  {
   "cell_type": "code",
   "execution_count": null,
   "id": "b79877da-92f4-4120-8ff2-7b99e04f2054",
   "metadata": {},
   "outputs": [],
   "source": [
    "head(coinmat)"
   ]
  },
  {
   "cell_type": "markdown",
   "id": "69e52b82-7106-41c9-bd54-741738baa6ff",
   "metadata": {},
   "source": [
    "However we should have a dense matrix where we can track the latest values of each coin until a new flip occurs for that coin."
   ]
  },
  {
   "cell_type": "markdown",
   "id": "ce6e651c-6264-45e7-9e31-cc70dcf4459d",
   "metadata": {},
   "source": [
    "For this first we will set the first row to the initial state of all zeros - tails:"
   ]
  },
  {
   "cell_type": "code",
   "execution_count": null,
   "id": "9e904db4-acec-46ab-836e-aa82cd2d19a3",
   "metadata": {},
   "outputs": [],
   "source": [
    "coininit <- rep(0, ncoin)\n",
    "coininit"
   ]
  },
  {
   "cell_type": "code",
   "execution_count": null,
   "id": "2d2ebdb0-5b10-4d31-b5ac-6c70fbb02393",
   "metadata": {},
   "outputs": [],
   "source": [
    "coinmat[1,] <- coininit"
   ]
  },
  {
   "cell_type": "code",
   "execution_count": null,
   "id": "ed603245-5cf0-4507-b51d-ede54a23b28c",
   "metadata": {},
   "outputs": [],
   "source": [
    "head(coinmat)"
   ]
  },
  {
   "cell_type": "markdown",
   "id": "26132a7d-b164-46f2-8898-332ee814e692",
   "metadata": {},
   "source": [
    "An we will make a filling for NA values using the LOCF method: \"last observation carried forward\". So for NA values - rounds in which that coinis not flipped-, the latest flip value will be carried forward to fill in those NA values:"
   ]
  },
  {
   "cell_type": "code",
   "execution_count": null,
   "id": "a55c6834-ab18-4382-84c4-e6bc6d8b5bed",
   "metadata": {},
   "outputs": [],
   "source": [
    "coinmat <- apply(coinmat, 2, nafill, \"locf\")"
   ]
  },
  {
   "cell_type": "code",
   "execution_count": null,
   "id": "7fdd6f1c-27d8-4e5d-91e5-4321a7909416",
   "metadata": {},
   "outputs": [],
   "source": [
    "head(coinmat)"
   ]
  },
  {
   "cell_type": "markdown",
   "id": "33608aea-911c-444e-8ccd-8e95e81d85ea",
   "metadata": {},
   "source": [
    "Let's track with coin flips:"
   ]
  },
  {
   "cell_type": "code",
   "execution_count": null,
   "id": "6f3c37e4-0eda-402f-ac85-f238af16bbcb",
   "metadata": {},
   "outputs": [],
   "source": [
    "head(cbind(update_matrix, coinval))"
   ]
  },
  {
   "cell_type": "markdown",
   "id": "7f0f190f-24d5-49d7-b50e-a45e3b3a00ca",
   "metadata": {},
   "source": [
    "Skip the first round, since we initiated the first round with all zeros.\n",
    "\n",
    "In the second and third rounds, 10th and 7th coins are flipped with 0 (tail) values. Since they were already initiated with 0s, nothing changed.\n",
    "\n",
    "In the fourth round, eighth coin is flipped to 1 so the values are carried forward in subsequent rows.\n",
    "\n",
    "In the fifth round, sixth coin is flipped to 1 so the values are carried forward again."
   ]
  },
  {
   "cell_type": "markdown",
   "id": "057015a3-a2fe-424f-8a75-0e5f7c6ca14f",
   "metadata": {},
   "source": [
    "So there are four options considering the values before the flip and after the flip:\n",
    "\n",
    "- Previous value 0, new value 0, coin value stays the same\n",
    "- Previous value 0, new value 1, coin value changed from 0 to 1\n",
    "- Previous value 1, new value 0, coin value changed from 1 to 0\n",
    "- Previous value 1, new value 1, coin value stays the same\n",
    "\n",
    "There are only three possible change values in each round: Eithere decrease by 1, increase by 1 or stay the same"
   ]
  },
  {
   "cell_type": "markdown",
   "id": "a688a650-4646-458a-ba85-a9e92cffdea9",
   "metadata": {},
   "source": [
    "Now let's calculate the sum of head values at the end of each round:"
   ]
  },
  {
   "cell_type": "code",
   "execution_count": null,
   "id": "88dedf3a-a695-459f-8cb7-aa9363e0664e",
   "metadata": {},
   "outputs": [],
   "source": [
    "coinsums <- rowSums(coinmat)"
   ]
  },
  {
   "cell_type": "markdown",
   "id": "cd5db957-7d5e-40bf-87ac-ffc461b6d0a9",
   "metadata": {},
   "source": [
    "Let's plot the sums across rounds:"
   ]
  },
  {
   "cell_type": "code",
   "execution_count": null,
   "id": "bedd1877-0707-4a2e-849e-3d47082583ef",
   "metadata": {},
   "outputs": [],
   "source": [
    "plot(coinsums, type = \"l\")\n",
    "abline(h = c(0, ncoin/2, ncoin), col = \"red\")"
   ]
  },
  {
   "cell_type": "markdown",
   "id": "2bbb7fe8-ef28-4053-8fea-4dbeaba67b87",
   "metadata": {},
   "source": [
    "The total sums reaches 5 in a short period of time:"
   ]
  },
  {
   "cell_type": "code",
   "execution_count": null,
   "id": "49a49ac7-6021-428e-9880-0150699bba34",
   "metadata": {},
   "outputs": [],
   "source": [
    "match(ncoin/2, coinsums)"
   ]
  },
  {
   "cell_type": "markdown",
   "id": "521dbb02-001b-4c39-a306-90625c531a31",
   "metadata": {},
   "source": [
    "In the 31st round, the sum is 5 for the first time."
   ]
  },
  {
   "cell_type": "markdown",
   "id": "be90e4e1-fc5c-4e89-9db4-a52d27514f5f",
   "metadata": {},
   "source": [
    "For the majority of rounds, the total sums oscillate in the vicinity of 5:"
   ]
  },
  {
   "cell_type": "code",
   "execution_count": null,
   "id": "113e46f4-38d6-4f71-8b41-9fadb52d6b20",
   "metadata": {},
   "outputs": [],
   "source": [
    "round(prop.table(table(coinsums)), 2)"
   ]
  },
  {
   "cell_type": "code",
   "execution_count": null,
   "id": "6fe38d2d-21c3-4ed5-a1fa-2cfd2c93c6d0",
   "metadata": {},
   "outputs": [],
   "source": [
    "hist(coinsums)"
   ]
  },
  {
   "cell_type": "markdown",
   "id": "7bbea1b3-bd01-4355-a304-1bd86832d863",
   "metadata": {},
   "source": [
    "In a total of 10K rounds the total sums returns back to 0 only few times, there are 13 rounds with a sum of 0:"
   ]
  },
  {
   "cell_type": "code",
   "execution_count": null,
   "id": "cedd2519-1913-4894-b11f-594c9a9fd769",
   "metadata": {},
   "outputs": [],
   "source": [
    "sum(coinsums == 0)"
   ]
  },
  {
   "cell_type": "markdown",
   "id": "8f949bee-b4d8-4621-9a6a-0faf7bd86ce6",
   "metadata": {},
   "source": [
    "The first round in which the sum value reverted back to the initial value of 0 is the 1526th round:"
   ]
  },
  {
   "cell_type": "code",
   "execution_count": null,
   "id": "4e56656a-49a2-48c0-aa29-663043233fc1",
   "metadata": {},
   "outputs": [],
   "source": [
    "backto0 <- which(coinsums == 0)"
   ]
  },
  {
   "cell_type": "code",
   "execution_count": null,
   "id": "3cb383b9-d954-4ec1-8045-407f23a383f2",
   "metadata": {},
   "outputs": [],
   "source": [
    "backto0[c(F, diff(backto0) != 1)][1]"
   ]
  },
  {
   "cell_type": "markdown",
   "id": "e03afe74-2eb2-4915-9723-a998a5d61b36",
   "metadata": {},
   "source": [
    "And in fact much of this 13 rounds are clustered in few close instances:"
   ]
  },
  {
   "cell_type": "code",
   "execution_count": null,
   "id": "efd4472a-f150-4a70-8c10-e28b7c50d487",
   "metadata": {},
   "outputs": [],
   "source": [
    "backto0"
   ]
  },
  {
   "cell_type": "markdown",
   "id": "acdad55f-4e39-407a-ae4f-310a31597ece",
   "metadata": {},
   "source": [
    "The passage times between subsequent visits are:"
   ]
  },
  {
   "cell_type": "code",
   "execution_count": null,
   "id": "8653e3f9-78c2-4594-8ce8-a3cf56f7c89b",
   "metadata": {},
   "outputs": [],
   "source": [
    "diff(backto0)"
   ]
  },
  {
   "cell_type": "markdown",
   "id": "ce640654-72ec-4566-b2e0-95ba978cba85",
   "metadata": {},
   "source": [
    "There are only 3 rounds in which total sum reaches the maximum value of 10:"
   ]
  },
  {
   "cell_type": "code",
   "execution_count": null,
   "id": "381d1430-78e1-4b2b-a559-a596764c930f",
   "metadata": {},
   "outputs": [],
   "source": [
    "sum(coinsums == ncoin)"
   ]
  },
  {
   "cell_type": "markdown",
   "id": "81e9f442-7d0e-4b1a-baf9-51a48c2c9ba7",
   "metadata": {},
   "source": [
    "The first one being in the 7635th round:"
   ]
  },
  {
   "cell_type": "code",
   "execution_count": null,
   "id": "347dc185-d9f8-48e8-9635-73362c4b34e8",
   "metadata": {},
   "outputs": [],
   "source": [
    "which(coinsums == ncoin)[1]"
   ]
  },
  {
   "cell_type": "markdown",
   "id": "ccfe5dfa-0681-4e3f-b54f-81af846d1ccc",
   "metadata": {},
   "source": [
    "And the 3 rounds are contigious, so the sum reaches 10 only one time and stays there for three round before going down again:"
   ]
  },
  {
   "cell_type": "code",
   "execution_count": null,
   "id": "a3c42a53-b052-4f69-9d73-7fa19b250738",
   "metadata": {},
   "outputs": [],
   "source": [
    "which(coinsums == ncoin)"
   ]
  },
  {
   "cell_type": "markdown",
   "id": "76494f7d-2c1e-4c1b-8a94-454c88d1f4ee",
   "metadata": {},
   "source": [
    "Now let's define a function to calculate the SMI again, this time from the data original data itself, not the probabilities:\n",
    "\n",
    "The function creates a contingency table of given number of breaks, converts to probabilities and calculates the SMI:"
   ]
  },
  {
   "cell_type": "code",
   "execution_count": null,
   "id": "59343a7a-7b08-47de-b918-e184ce10ed9a",
   "metadata": {},
   "outputs": [],
   "source": [
    "smix3 <- function(x, y = 10) Entropy(prop.table(hist(x, breaks = y, plot = F)$counts))"
   ]
  },
  {
   "cell_type": "markdown",
   "id": "8dc509f5-3bcc-4c43-a367-296238598f3c",
   "metadata": {},
   "source": [
    "Note that the number of breaks is passed with the second argument and that value determines the scale of the SMI. The maximum that can be attained is log2 of this values."
   ]
  },
  {
   "cell_type": "markdown",
   "id": "49c8a075-e4c2-4063-9e38-358afc08edf5",
   "metadata": {},
   "source": [
    "For the case of coin tosses, since only possible values are 0 and 1, two breaks are enough"
   ]
  },
  {
   "cell_type": "code",
   "execution_count": null,
   "id": "aff14480-5ee8-4ead-868f-83f4956d9ac0",
   "metadata": {},
   "outputs": [],
   "source": [
    "coinsmi <- apply(coinmat, 1, smix3, 2)"
   ]
  },
  {
   "cell_type": "markdown",
   "id": "50d2d236-67a0-43cc-bcc6-7a79852cb87e",
   "metadata": {},
   "source": [
    "We see that, in most of the time, the SMI value is at or close to the maximum value of $log_{2}(2) = 1$"
   ]
  },
  {
   "cell_type": "code",
   "execution_count": null,
   "id": "f7563457-d45f-48bd-aa57-a25b0bde69da",
   "metadata": {},
   "outputs": [],
   "source": [
    "plot(coinsmi, type = \"l\")"
   ]
  },
  {
   "cell_type": "markdown",
   "id": "382c043c-c7db-4b1c-b27f-172f885f6c88",
   "metadata": {},
   "source": [
    "The absolute distance of sums from 5 is like a mirror image of SMI values:"
   ]
  },
  {
   "cell_type": "code",
   "execution_count": null,
   "id": "8c79556f-9666-4781-9ed4-dab2981e6201",
   "metadata": {},
   "outputs": [],
   "source": [
    "plot(abs(coinsums - ncoin/2), type = \"l\")"
   ]
  },
  {
   "cell_type": "markdown",
   "id": "1f671c82-e067-4ac1-8907-8770609669ed",
   "metadata": {},
   "source": [
    "Let's get the unique pairs of sum and smi values:"
   ]
  },
  {
   "cell_type": "code",
   "execution_count": null,
   "id": "bcbf7e81-efce-4544-917c-8660bb3c5d29",
   "metadata": {},
   "outputs": [],
   "source": [
    "sum_smi <- unique(cbind(coinsums, coinsmi))"
   ]
  },
  {
   "cell_type": "code",
   "execution_count": null,
   "id": "234b2f96-0546-43bc-a39b-3ade6fcc0482",
   "metadata": {},
   "outputs": [],
   "source": [
    "sum_smi"
   ]
  },
  {
   "cell_type": "markdown",
   "id": "fe67f2f0-f9d9-4756-a73f-c7cd97c0c628",
   "metadata": {},
   "source": [
    "And see that smi is at a a maximum when the sum is 5:"
   ]
  },
  {
   "cell_type": "code",
   "execution_count": null,
   "id": "3f6f07ff-0206-4834-8d25-4634355ba738",
   "metadata": {},
   "outputs": [],
   "source": [
    "plot(sum_smi, type = \"l\")"
   ]
  },
  {
   "cell_type": "markdown",
   "id": "63881289-833a-4a94-8a78-11128f88c8cd",
   "metadata": {},
   "source": [
    "Let's get the binomial probabilities of each dim state:"
   ]
  },
  {
   "cell_type": "code",
   "execution_count": null,
   "id": "dbe01fc8-1ca3-46c5-9b31-298565da4628",
   "metadata": {},
   "outputs": [],
   "source": [
    "sumd <- round(dbinom(0:ncoin, ncoin, 0.5), 4)\n",
    "sumd"
   ]
  },
  {
   "cell_type": "markdown",
   "id": "53f772bc-8a7d-44a7-b55a-4598b789a502",
   "metadata": {},
   "source": [
    "And we confirm again that smi values closely follows the binomial density:"
   ]
  },
  {
   "cell_type": "code",
   "execution_count": null,
   "id": "8fdeb6d4-059d-4b8a-9591-bd6888a92f2b",
   "metadata": {},
   "outputs": [],
   "source": [
    "plot(sumd, type = \"l\")"
   ]
  },
  {
   "cell_type": "markdown",
   "id": "d367e7ae-0ce1-48c8-a644-e4166480df76",
   "metadata": {},
   "source": [
    "For short, even if we start from an extreme dim state that has a probability of 0.1%, the system evolves into an \"equilibrium\" state with the highest probability and highest SMI value. And more importantly, the system stays around the equilibrium state most of the time."
   ]
  },
  {
   "cell_type": "markdown",
   "id": "89432989-1c06-425f-aa2d-96846d8ea720",
   "metadata": {},
   "source": [
    "But why?"
   ]
  },
  {
   "cell_type": "markdown",
   "id": "be1fbd66-b7d9-4139-bd0b-3d83692dd6b1",
   "metadata": {},
   "source": [
    "Let's combine the sums and their lagged values:"
   ]
  },
  {
   "cell_type": "code",
   "execution_count": null,
   "id": "f99427d9-c4f2-4641-a0eb-35c27f9851a5",
   "metadata": {},
   "outputs": [],
   "source": [
    "coin_sum <- data.table(sums = coinsums)"
   ]
  },
  {
   "cell_type": "code",
   "execution_count": null,
   "id": "b6d35091-ead5-4952-8f30-1a14386a2baa",
   "metadata": {},
   "outputs": [],
   "source": [
    "coin_sum[, sumslag := lag(sums)]"
   ]
  },
  {
   "cell_type": "markdown",
   "id": "204b6442-ef1a-44b9-ba3a-58ed7579859c",
   "metadata": {},
   "source": [
    "And add also the change in sum values:"
   ]
  },
  {
   "cell_type": "code",
   "execution_count": null,
   "id": "bfc9f59b-9a55-4071-8b71-31901a3f669e",
   "metadata": {},
   "outputs": [],
   "source": [
    "coin_sum[, sumdif := c(NA, diff(sums))]"
   ]
  },
  {
   "cell_type": "code",
   "execution_count": null,
   "id": "b852c7f2-2728-4461-9d75-eadf0ed928e3",
   "metadata": {},
   "outputs": [],
   "source": [
    "coin_sum"
   ]
  },
  {
   "cell_type": "markdown",
   "id": "b36d53a7-cc8a-45b3-a3ef-f306c8e47b81",
   "metadata": {},
   "source": [
    "Now let's summarize the probability of change values (decrease, stay the same, increase) for each previous state's sum value:"
   ]
  },
  {
   "cell_type": "code",
   "execution_count": null,
   "id": "2fc4340b-caf3-4009-a810-740340ef645c",
   "metadata": {},
   "outputs": [],
   "source": [
    "coin_sum2 <- coin_sum[-1, .N, by = c(\"sumslag\", \"sumdif\")][, .(sumdif, probdir = N / sum(N)), by = c(\"sumslag\")]"
   ]
  },
  {
   "cell_type": "code",
   "execution_count": null,
   "id": "3f8d756f-48b0-4570-bc46-352a52b55747",
   "metadata": {},
   "outputs": [],
   "source": [
    "coin_sum2"
   ]
  },
  {
   "cell_type": "code",
   "execution_count": null,
   "id": "26b9182f-4181-47f9-8f6b-243902ac6fc0",
   "metadata": {},
   "outputs": [],
   "source": [
    "setorder(coin_sum2, sumslag, sumdif)"
   ]
  },
  {
   "cell_type": "markdown",
   "id": "4d1962c9-2ddf-4aa2-9485-75e550687edb",
   "metadata": {},
   "source": [
    "And reshape:"
   ]
  },
  {
   "cell_type": "code",
   "execution_count": null,
   "id": "452e22e1-e52c-4393-9e76-cc015a7bbaf1",
   "metadata": {},
   "outputs": [],
   "source": [
    "coin_sum2 %>% dcast(sumslag ~ sumdif, value.var = \"probdir\") %>% mutate_all(replace_na, 0) %>% round(2)"
   ]
  },
  {
   "cell_type": "markdown",
   "id": "f77a7491-5f36-462e-bde2-51e5ddaf284d",
   "metadata": {},
   "source": [
    "Note that since extreme states of 0 and 10 are occasionally visited, the empirical probabilities do not exactly reflect the theoretical probabilities.\n",
    "\n",
    "But the observed trend is:\n",
    "\n",
    "- Probability to stay the same is mostly stable through all states: 0.5\n",
    "- Probability of change=1 starts from around 0.5 at sum=0 and almost linearly decreases to 0 at sum=10 (obviously the sum cannot increase further)\n",
    "- Probability to change=-1 starts from around 0 at sum=0 (obviously the sum cannot decrease further) and almost linearly increases to 0.5 at sum=10"
   ]
  },
  {
   "cell_type": "code",
   "execution_count": null,
   "id": "2834bfc9-a73b-4b8c-84a8-d2514e89ab2a",
   "metadata": {},
   "outputs": [],
   "source": [
    "coin_sum2 %>%\n",
    "mutate_at(\"sumdif\", factor) %>%\n",
    "ggplot(aes(x = sumslag, y = probdir, color = sumdif)) +\n",
    "geom_line()"
   ]
  },
  {
   "cell_type": "markdown",
   "id": "51977777-4eee-4e53-b51b-d98f759a037c",
   "metadata": {},
   "source": [
    "Of course for the empirical probabilities to converge to theoretical probabilities we need a few order of magnitude more rounds.\n",
    "\n",
    "Instead we can directly come up with theoretical probabilities easily:"
   ]
  },
  {
   "cell_type": "markdown",
   "id": "8ad6c1a9-93a7-445c-88ae-09ad8b2a3af3",
   "metadata": {},
   "source": [
    "Possible sum values are:"
   ]
  },
  {
   "cell_type": "code",
   "execution_count": null,
   "id": "d5dbcb6d-1dfe-4684-80f3-bd807a8f855c",
   "metadata": {},
   "outputs": [],
   "source": [
    "n1 <- 0:ncoin\n",
    "n1"
   ]
  },
  {
   "cell_type": "markdown",
   "id": "60403d68-2e7f-4261-ba37-a20c4c5a2ed1",
   "metadata": {},
   "source": [
    "Since the bias of the coin is fair at 0.5, given any existing state of coin sums, the probability to get a 0 or 1 in the toss is the same at 0.5.\n",
    "\n",
    "However the probability of a change of -1, 1 or 0 depends on the existing state:\n",
    "\n",
    "- Probability of change from 1 to 0 is probability of having 1 in selected die x 0.5\n",
    "- Probability of 1 to stay the same is probability of having 1 in selected die x 0.5\n",
    "- Probability of change from 0 to 1 is probability of having 0 in selected die x 0.5\n",
    "- Probability of 0 to stay the same is probability of having 0 in selected die x 0.5"
   ]
  },
  {
   "cell_type": "markdown",
   "id": "117e363b-d226-442a-970a-f4d37b55611f",
   "metadata": {},
   "source": [
    "We create four separate vectors for each possibility:"
   ]
  },
  {
   "cell_type": "code",
   "execution_count": null,
   "id": "5dad33db-fba3-42c2-a07e-dab1f419449c",
   "metadata": {},
   "outputs": [],
   "source": [
    "p1to0 <- n1/ncoin * 1/2\n",
    "p1to1 <- n1/ncoin * 1/2\n",
    "p0to1 <- (ncoin-n1)/ncoin * 1/2\n",
    "p0to0 <- (ncoin-n1)/ncoin * 1/2"
   ]
  },
  {
   "cell_type": "markdown",
   "id": "6d6108ac-d3b4-4759-89d0-ff35cd757c47",
   "metadata": {},
   "source": [
    "However for summarizing the probabilities of change, the \"0 stays 0\" and \"1 stays 1\" cases are added since they point at the case of 0 change:"
   ]
  },
  {
   "cell_type": "code",
   "execution_count": null,
   "id": "e145aa11-ff6d-4af8-9f3c-76a5a5398daf",
   "metadata": {},
   "outputs": [],
   "source": [
    "moveprobs <- data.table(n1 = 0:ncoin,\n",
    "dec = p1to0, # -1\n",
    "same = p1to1 + p0to0, # 0\n",
    "inc = p0to1 # 1\n",
    ")"
   ]
  },
  {
   "cell_type": "markdown",
   "id": "d597e98b-559b-4c96-8d07-02366204a8a3",
   "metadata": {},
   "source": [
    "And to track the log likelihood of an increase vs decrease:"
   ]
  },
  {
   "cell_type": "code",
   "execution_count": null,
   "id": "e892933c-5984-48b2-918e-2d478ab6e94d",
   "metadata": {},
   "outputs": [],
   "source": [
    "moveprobs[, loglik := log10(inc / dec)]"
   ]
  },
  {
   "cell_type": "markdown",
   "id": "b81f26d4-77ab-4574-9a86-f3ef6c1ffc33",
   "metadata": {},
   "source": [
    "We again confirm that the probability for the sum to stay the same is stable at 0.5 throughout dim states:"
   ]
  },
  {
   "cell_type": "code",
   "execution_count": null,
   "id": "deb35db4-9c19-4427-aeda-8243642674ed",
   "metadata": {},
   "outputs": [],
   "source": [
    "moveprobs"
   ]
  },
  {
   "cell_type": "markdown",
   "id": "88e78ce7-b51c-46d2-bf8a-ae8f7d731e0c",
   "metadata": {},
   "source": [
    "At 0, the sum cannot decrease further and at 10 the sum cannot increase further.\n",
    "\n",
    "At 1, an increase is around 10 times more likely than a decrease, at 9, a decrease is around 10 times more likely than an increase.\n",
    "\n",
    "At 5, an increase and decrease is equally likely."
   ]
  },
  {
   "cell_type": "code",
   "execution_count": null,
   "id": "e54ad363-237f-45aa-a141-4c76edbf260b",
   "metadata": {},
   "outputs": [],
   "source": [
    "moveprobs %>%\n",
    "ggplot(aes(x = n1, y = loglik)) +\n",
    "geom_line()"
   ]
  },
  {
   "cell_type": "markdown",
   "id": "2376a217-0e7b-4684-b89c-f9a14fd18ad9",
   "metadata": {},
   "source": [
    "Let's draw the theoretical probabilities of each change value across dim states:"
   ]
  },
  {
   "cell_type": "code",
   "execution_count": null,
   "id": "d6bb5f66-527c-4916-a8ec-232424972686",
   "metadata": {},
   "outputs": [],
   "source": [
    "moveprobs"
   ]
  },
  {
   "cell_type": "code",
   "execution_count": null,
   "id": "50c6918a-dd4e-4804-b66e-9f0315d6bf29",
   "metadata": {},
   "outputs": [],
   "source": [
    "mp1 <- moveprobs %>%\n",
    "select(-loglik) %>%\n",
    "melt(id.vars = \"n1\") %>%\n",
    "ggplot(aes(x = n1, y = value, color = variable)) +\n",
    "geom_line()"
   ]
  },
  {
   "cell_type": "code",
   "execution_count": null,
   "id": "e991261e-1c95-44a4-8f09-7a5d4921d5b6",
   "metadata": {},
   "outputs": [],
   "source": [
    "mp1"
   ]
  },
  {
   "cell_type": "code",
   "execution_count": null,
   "id": "5a114729-a7d4-4b77-a4ec-b7bea48c68db",
   "metadata": {},
   "outputs": [],
   "source": [
    "ggplotly(mp1)"
   ]
  },
  {
   "cell_type": "markdown",
   "id": "63bd56fa-d500-4f40-ba36-1d6c93ad8755",
   "metadata": {},
   "source": [
    "We see that, starting from state 0 and until we reach state 5, for each state, the probability to transition to a higher state is much higher than the probability to transition to a lower state (<span style=\"font-weight:bold;color:blue;\">blue line</span>).\n",
    "\n",
    "Conversely, starting from state 5 and until we reach state 0, for each state, the probability to transition to a lower state is much lower than the probability to transition to a higher state (<span style=\"font-weight:bold;color:red;\">red line</span>)."
   ]
  },
  {
   "cell_type": "markdown",
   "id": "686615b9-b008-4d45-9121-397220f3feba",
   "metadata": {},
   "source": [
    "What is the expected number of steps to get from the initial state of 0 to 5 and back to 0?\n",
    "\n",
    "We can calculate the mean steps to reach from a state to another one by creating a markov chain object.\n",
    "\n",
    "A markov chain is a process where we define the transition probabilities between states in a matrix. The probability of the next event depends only on the previous state so a markov chain is memoryless."
   ]
  },
  {
   "cell_type": "markdown",
   "id": "9024a7d5-6f0a-4a99-a6ab-238dc4727204",
   "metadata": {},
   "source": [
    "A simple markov chain may hold the transition probabilities between weather states:"
   ]
  },
  {
   "cell_type": "code",
   "execution_count": null,
   "id": "048116db-2265-455f-bd60-19d9a7f78cc7",
   "metadata": {},
   "outputs": [],
   "source": [
    "weathermc <- rbind(c(0.6, 0.3, 0.1), c(0.2, 0.5, 0.3), c(0.1, 0.5, 0.4))"
   ]
  },
  {
   "cell_type": "code",
   "execution_count": null,
   "id": "d772e788-b112-4a3d-9ae0-4ca285c96d6b",
   "metadata": {},
   "outputs": [],
   "source": [
    "statesw <- c(\"sunny\", \"cloudy\", \"rainy\")"
   ]
  },
  {
   "cell_type": "code",
   "execution_count": null,
   "id": "72c04230-04fd-4deb-b421-b8abaa19b229",
   "metadata": {},
   "outputs": [],
   "source": [
    "rownames(weathermc) <- statesw\n",
    "colnames(weathermc) <- statesw"
   ]
  },
  {
   "cell_type": "code",
   "execution_count": null,
   "id": "9b78aa64-798d-4a92-b72b-fc4ee19720d8",
   "metadata": {},
   "outputs": [],
   "source": [
    "weathermc"
   ]
  },
  {
   "cell_type": "markdown",
   "id": "ed434701-3fce-481b-8226-ed6789c7d551",
   "metadata": {},
   "source": [
    "For each row probabilities sum up to 1:"
   ]
  },
  {
   "cell_type": "code",
   "execution_count": null,
   "id": "9675d39e-7b73-433a-98a2-541dc15d7f53",
   "metadata": {},
   "outputs": [],
   "source": [
    "rowSums(weathermc)"
   ]
  },
  {
   "cell_type": "markdown",
   "id": "8cd891b9-b710-4569-bccd-58ed4315b45e",
   "metadata": {},
   "source": [
    "Let's convert this matrix into a markov chain object to make calculations easier with the `markovchain` package:"
   ]
  },
  {
   "cell_type": "code",
   "execution_count": null,
   "id": "c177d59a-e56f-44b2-8c93-6e2262f97ba6",
   "metadata": {},
   "outputs": [],
   "source": [
    "weathermc2 <- new(\"markovchain\", states = statesw,\n",
    "transitionMatrix = weathermc,\n",
    "name=\"weathermc2\")"
   ]
  },
  {
   "cell_type": "code",
   "execution_count": null,
   "id": "11e96e61-52fa-4c2c-87df-dbd884573e36",
   "metadata": {},
   "outputs": [],
   "source": [
    "weathermc2"
   ]
  },
  {
   "cell_type": "markdown",
   "id": "426186ce-5f77-4138-ba30-a2c01488a65a",
   "metadata": {},
   "source": [
    "After a long number of transition steps, the probability of being in each state is as follows:"
   ]
  },
  {
   "cell_type": "code",
   "execution_count": null,
   "id": "a60614f8-df81-43f4-bfc3-668b0e144c12",
   "metadata": {},
   "outputs": [],
   "source": [
    "steadyStates(weathermc2)"
   ]
  },
  {
   "cell_type": "markdown",
   "id": "fb190594-8943-4ba5-9945-893122199348",
   "metadata": {},
   "source": [
    "So 44% of the time the weather will be cloudy."
   ]
  },
  {
   "cell_type": "markdown",
   "id": "d06e6597-95d9-4460-a65f-aaa648768826",
   "metadata": {},
   "source": [
    "And the mean number of steps to transition from a state in the rows to a state in the columns are given by:"
   ]
  },
  {
   "cell_type": "code",
   "execution_count": null,
   "id": "9be7be55-4629-4817-bc45-8429e4d46e0d",
   "metadata": {},
   "outputs": [],
   "source": [
    "meanFirstPassageTime(weathermc2)"
   ]
  },
  {
   "cell_type": "markdown",
   "id": "51663e93-5259-4314-b50e-2a9587ae800b",
   "metadata": {},
   "source": [
    "So it takes on the average 3 days to transition from sunny to cloudy weather and 2.2 days to transition from rainy to cloudy weather.\n",
    "\n",
    "From the cloudy state, the mean passage time to sunny weather is 6 steps while it is 4.3 steps to rainy weather.\n",
    "\n",
    "Note that cloudy state has the maximum probability in steady state so passage time to this state is shorter."
   ]
  },
  {
   "cell_type": "markdown",
   "id": "98790af8-722f-4782-851a-a15a6afd2b35",
   "metadata": {},
   "source": [
    "Now let's create a markov chain to hold the probabilities between states which are defined by the number of heads:"
   ]
  },
  {
   "cell_type": "markdown",
   "id": "3b4452af-d698-404d-9bb3-3f20606d1643",
   "metadata": {},
   "source": [
    "First let's create a matrix of all zeros to hold all rows and columns for head counts from 0 to `ncoin`:"
   ]
  },
  {
   "cell_type": "code",
   "execution_count": null,
   "id": "3c70b39c-78ae-41d3-9c89-38c44fcf30b3",
   "metadata": {},
   "outputs": [],
   "source": [
    "markovmat <- matrix(0, nrow = ncoin + 1, ncol = ncoin + 1)"
   ]
  },
  {
   "cell_type": "code",
   "execution_count": null,
   "id": "c2dc3465-f027-47a1-b5ad-b466a1ee9473",
   "metadata": {},
   "outputs": [],
   "source": [
    "dim(markovmat)"
   ]
  },
  {
   "cell_type": "markdown",
   "id": "7b54fc32-2e43-4761-8eb8-e920d017c884",
   "metadata": {},
   "source": [
    "Create the labels for states:"
   ]
  },
  {
   "cell_type": "code",
   "execution_count": null,
   "id": "652daa63-c0c5-4843-8e16-9e73e0db38a5",
   "metadata": {},
   "outputs": [],
   "source": [
    "statesx <- as.character(0:ncoin)\n",
    "statesx"
   ]
  },
  {
   "cell_type": "code",
   "execution_count": null,
   "id": "58e0563c-855d-4658-b632-2113fa5495fa",
   "metadata": {},
   "outputs": [],
   "source": [
    "rownames(markovmat) <- statesx\n",
    "colnames(markovmat) <- statesx "
   ]
  },
  {
   "cell_type": "markdown",
   "id": "78d45248-5c6e-41da-8e38-c19afc5893c1",
   "metadata": {},
   "source": [
    "To make updating the matrix easier, we create two sequences:"
   ]
  },
  {
   "cell_type": "markdown",
   "id": "a9192427-88b7-4da3-beba-9446816e1231",
   "metadata": {},
   "source": [
    "This is for updating the diagonal, where we stay in the same state:"
   ]
  },
  {
   "cell_type": "code",
   "execution_count": null,
   "id": "aa397602-c0ab-4783-a23d-b765e602b763",
   "metadata": {},
   "outputs": [],
   "source": [
    "coinseq <- 1:(ncoin+1)\n",
    "coinseq"
   ]
  },
  {
   "cell_type": "markdown",
   "id": "34f883f7-ad3e-407d-9aa0-e6786e09cbf2",
   "metadata": {},
   "source": [
    "And this is for updating the probabilities of going up or down in head count:"
   ]
  },
  {
   "cell_type": "code",
   "execution_count": null,
   "id": "f32c98ae-e8e6-4447-9399-173e0bab2e4a",
   "metadata": {},
   "outputs": [],
   "source": [
    "coinseq2 <- 1:ncoin\n",
    "coinseq2"
   ]
  },
  {
   "cell_type": "markdown",
   "id": "e8dd9809-23ee-4b77-9c3d-a74c60789695",
   "metadata": {},
   "source": [
    "Let's do the updating. First for the diagonal, the probabilities of having the same number of heads:"
   ]
  },
  {
   "cell_type": "code",
   "execution_count": null,
   "id": "d15a718f-8481-4108-806d-f431f6e73bf2",
   "metadata": {},
   "outputs": [],
   "source": [
    "diag(markovmat) <- moveprobs$same"
   ]
  },
  {
   "cell_type": "markdown",
   "id": "36a4c5f9-f4c6-44d8-a7b0-f6559048b82b",
   "metadata": {},
   "source": [
    "To update the probabilities for going to a state with higher head count:"
   ]
  },
  {
   "cell_type": "code",
   "execution_count": null,
   "id": "bd3fd98e-9b44-4b64-99c8-5e7ff32deda3",
   "metadata": {},
   "outputs": [],
   "source": [
    "markovmat[cbind(coinseq2, coinseq2 + 1)] <- moveprobs[-.N, inc]"
   ]
  },
  {
   "cell_type": "markdown",
   "id": "aa148415-41f2-42f4-a9af-cf8022cd479d",
   "metadata": {},
   "source": [
    "To update the probabilities for going to a state with lower head count:"
   ]
  },
  {
   "cell_type": "code",
   "execution_count": null,
   "id": "2732e17b-0b43-4afc-bc06-d990e86308bf",
   "metadata": {},
   "outputs": [],
   "source": [
    "markovmat[cbind(coinseq2 + 1, coinseq2)] <- moveprobs[-1, dec]"
   ]
  },
  {
   "cell_type": "markdown",
   "id": "99c3b9b4-0f58-4945-9abb-fb03cf1e6c02",
   "metadata": {},
   "source": [
    "Check that all rows sum up to 1:"
   ]
  },
  {
   "cell_type": "code",
   "execution_count": null,
   "id": "49adbfee-cfc4-4b0c-a21b-fb5e35ebcd6f",
   "metadata": {},
   "outputs": [],
   "source": [
    "all(rowSums(markovmat) == 1)"
   ]
  },
  {
   "cell_type": "markdown",
   "id": "52c500f4-04f8-4aec-8bd2-f9089f16a604",
   "metadata": {},
   "source": [
    "And here is the matrix:"
   ]
  },
  {
   "cell_type": "code",
   "execution_count": null,
   "id": "90f2b7ea-a1a3-4f9f-8c14-8a6803f2d06b",
   "metadata": {},
   "outputs": [],
   "source": [
    "markovmat"
   ]
  },
  {
   "cell_type": "markdown",
   "id": "25eaca27-be99-4576-a153-a936ece79c14",
   "metadata": {},
   "source": [
    "This is just a wide representation of the `moveprobs` object:"
   ]
  },
  {
   "cell_type": "code",
   "execution_count": null,
   "id": "2aab188c-0ece-4e5d-99bc-7cdbb5c66b4e",
   "metadata": {},
   "outputs": [],
   "source": [
    "moveprobs"
   ]
  },
  {
   "cell_type": "markdown",
   "id": "5c11f126-b17a-44dd-b9f5-1b3dc238ef6c",
   "metadata": {},
   "source": [
    "Let's convert this matrix into a markov chain object to make calculations easier with the `markovchain` package:"
   ]
  },
  {
   "cell_type": "code",
   "execution_count": null,
   "id": "87003f7c-b437-46ac-a547-effee9eabcb3",
   "metadata": {},
   "outputs": [],
   "source": [
    "entrop1mc <- new(\"markovchain\", states = statesx,\n",
    "transitionMatrix = markovmat,\n",
    "name=\"entrop1mc\")"
   ]
  },
  {
   "cell_type": "markdown",
   "id": "5a09e5b6-d582-411a-81a2-338aff673491",
   "metadata": {},
   "source": [
    "Get the probabilities to end up in each state after a large number of transitions:"
   ]
  },
  {
   "cell_type": "code",
   "execution_count": null,
   "id": "7ce75525-8381-4735-87fe-cec4d4c0b530",
   "metadata": {},
   "outputs": [],
   "source": [
    "steadyStates(entrop1mc)"
   ]
  },
  {
   "cell_type": "markdown",
   "id": "4df77a64-55df-4245-8e43-0cf680b64aee",
   "metadata": {},
   "source": [
    "Compare with the probability mass function of binomial distribution:"
   ]
  },
  {
   "cell_type": "code",
   "execution_count": null,
   "id": "ea133aec-4b83-42ae-a2c4-b27ead18254f",
   "metadata": {},
   "outputs": [],
   "source": [
    "dbinom(0:ncoin, ncoin, 0.5)"
   ]
  },
  {
   "cell_type": "markdown",
   "id": "8137f147-5994-44a3-b86b-0e98b29f7e93",
   "metadata": {},
   "source": [
    "They are the same!"
   ]
  },
  {
   "cell_type": "markdown",
   "id": "46d62c1f-2c1b-4a7b-9371-ed67a60eb573",
   "metadata": {},
   "source": [
    "Calculate the mean passage time between states after a long number of transitions: "
   ]
  },
  {
   "cell_type": "code",
   "execution_count": null,
   "id": "8a70c410-3112-4a3f-bfab-2a73169d086c",
   "metadata": {},
   "outputs": [],
   "source": [
    "entrop_pt <- meanFirstPassageTime(entrop1mc)"
   ]
  },
  {
   "cell_type": "markdown",
   "id": "b8c61548-df74-4a33-bcb9-713017da8d49",
   "metadata": {},
   "source": [
    "The mean number of steps from state 0 to state 5 is:"
   ]
  },
  {
   "cell_type": "code",
   "execution_count": null,
   "id": "fdeac375-8593-49ee-81c3-30859938eec2",
   "metadata": {},
   "outputs": [],
   "source": [
    "entrop_pt[\"0\", \"5\"]"
   ]
  },
  {
   "cell_type": "markdown",
   "id": "892b61ff-1707-445d-84bd-6a53385e628a",
   "metadata": {},
   "source": [
    "And the mean number os steps from state 5 to state 0 is:"
   ]
  },
  {
   "cell_type": "code",
   "execution_count": null,
   "id": "9f0ab2d1-96be-4432-816a-cb65dbae9dd1",
   "metadata": {},
   "outputs": [],
   "source": [
    "entrop_pt[\"5\", \"0\"]"
   ]
  },
  {
   "cell_type": "markdown",
   "id": "c07f641c-c94d-4073-8624-244f63b4e417",
   "metadata": {},
   "source": [
    "On the average it takes 131 times more steps to go back from state 5 to 0 than to reach from state 0 to state 5:"
   ]
  },
  {
   "cell_type": "code",
   "execution_count": null,
   "id": "226c9bba-ec1d-4705-be76-81384c0163b3",
   "metadata": {},
   "outputs": [],
   "source": [
    "entrop_pt[\"5\", \"0\"] / entrop_pt[\"0\", \"5\"]"
   ]
  },
  {
   "cell_type": "markdown",
   "id": "ac96b475-9b94-4a74-92b9-2c8b651237fd",
   "metadata": {},
   "source": [
    "This is in line with the empirical passage times we calculated from data."
   ]
  },
  {
   "cell_type": "markdown",
   "id": "656847ca-cf94-4f1b-bc52-c93574dd1f78",
   "metadata": {},
   "source": [
    "**And that is the \"why\" of entropy: More probable states are visited more frequently eventually. And starting from any initial state, the system evolves towards the equilibrium state - which is the most probable one. And this is where the information about the specific state is at a minimum, since we have more ways (specific states) to reach that dim state, hence we attain the maximum SMI at equilibrium. This SMI value at equilibrium is the definition of entropy:**\n",
    "\n",
    "> Now you can see why I have retained the term SMI and did not translate it into\n",
    "entropy in the dictionary. The SMI is a much more general concept than entropy.\n",
    "It applies to the 20Q games, to the marble games, to states at equilibrium or non-\n",
    "equilibrium. In general, the SMI is not entropy. On the other hand, the entropy is\n",
    "a particular case of an SMI applied to a system of real particles in a box and at\n",
    "equilibrium. The change in the entropy from one equilibrium state to another is the\n",
    "same as the change in SMI between these two states.\n",
    "\n",
    "(Ben-Naim 2010, p.197)"
   ]
  },
  {
   "cell_type": "markdown",
   "id": "f1b01424-c738-4ea3-b84b-a65eb538f666",
   "metadata": {},
   "source": [
    "Now let's repeat the game at a much larger scale."
   ]
  },
  {
   "cell_type": "markdown",
   "id": "fdfcd888-44ed-44aa-97cf-5e90de527f90",
   "metadata": {},
   "source": [
    "## 1000 Coins, Initiated at all zeros"
   ]
  },
  {
   "cell_type": "markdown",
   "id": "165c1f99-ce4d-4161-b252-7f28b2f470aa",
   "metadata": {},
   "source": [
    "Now we set the the number of coins to 1000 and repeat all the steps from n = 10 case:"
   ]
  },
  {
   "cell_type": "code",
   "execution_count": null,
   "id": "7baacdc4-acfe-4f92-bb87-a8f3340f2db8",
   "metadata": {},
   "outputs": [],
   "source": [
    "ncoin <- 1e3"
   ]
  },
  {
   "cell_type": "markdown",
   "id": "1680c0eb-1ab4-4ed3-ab80-a3dd7bab8706",
   "metadata": {},
   "source": [
    "And 10K rounds:"
   ]
  },
  {
   "cell_type": "code",
   "execution_count": null,
   "id": "4b2bff7d-da00-46ba-8654-115154448a18",
   "metadata": {},
   "outputs": [],
   "source": [
    "nround <- 1e4"
   ]
  },
  {
   "cell_type": "markdown",
   "id": "43344b72-a171-4485-9b82-d103eab9476f",
   "metadata": {},
   "source": [
    "We will sample two sets of values: One set for the coin to be flipped, the other set for the flipped values - head or tail"
   ]
  },
  {
   "cell_type": "markdown",
   "id": "5e5de1ee-a8d2-4077-8654-2f2098e4dfcf",
   "metadata": {},
   "source": [
    "Indices of coins selected in each round:"
   ]
  },
  {
   "cell_type": "code",
   "execution_count": null,
   "id": "238fb5ac-5bfa-4a71-8706-3a786346d9dc",
   "metadata": {},
   "outputs": [],
   "source": [
    "set.seed(10)\n",
    "coinind <- sample(ncoin, nround, replace = T)"
   ]
  },
  {
   "cell_type": "markdown",
   "id": "a38fb2b1-6999-492c-bb94-fc16c23f3c92",
   "metadata": {},
   "source": [
    "The value of the flipped coins in each round:"
   ]
  },
  {
   "cell_type": "code",
   "execution_count": null,
   "id": "d542afa5-a7e5-435d-b4af-db6235bd2599",
   "metadata": {},
   "outputs": [],
   "source": [
    "set.seed(20)\n",
    "coinval <- sample(0:1, nround, replace = T)"
   ]
  },
  {
   "cell_type": "markdown",
   "id": "6acf7fcb-a4bd-4c67-9e09-35174dd7c529",
   "metadata": {},
   "source": [
    "Now create an empty matrix, one column for each coin and one row for each round:"
   ]
  },
  {
   "cell_type": "code",
   "execution_count": null,
   "id": "cbcee6ad-d5fd-4aec-a3c0-80f149952f4b",
   "metadata": {},
   "outputs": [],
   "source": [
    "coinmat <- matrix(nrow = nround, ncol = ncoin) "
   ]
  },
  {
   "cell_type": "code",
   "execution_count": null,
   "id": "a896f1e5-9b1f-4285-b4cb-d79697dd4eed",
   "metadata": {},
   "outputs": [],
   "source": [
    "dim(coinmat)"
   ]
  },
  {
   "cell_type": "markdown",
   "id": "19bbc509-68e0-4231-812d-854bd6dea8eb",
   "metadata": {},
   "source": [
    "First create an update matrix for each sequential row index and coin indices we sampled for each row:"
   ]
  },
  {
   "cell_type": "code",
   "execution_count": null,
   "id": "eebd0b2c-effb-40a9-8b96-98eda3948139",
   "metadata": {},
   "outputs": [],
   "source": [
    "update_matrix <- cbind(1:nround, coinind)"
   ]
  },
  {
   "cell_type": "code",
   "execution_count": null,
   "id": "3cefb3c0-df2c-4bdc-b719-84c4a04e7ab1",
   "metadata": {},
   "outputs": [],
   "source": [
    "head(update_matrix)"
   ]
  },
  {
   "cell_type": "markdown",
   "id": "4e347c6f-d057-491c-b4e9-0657aa6007a8",
   "metadata": {},
   "source": [
    "Let's update the large matrix with the sampled flip values:"
   ]
  },
  {
   "cell_type": "code",
   "execution_count": null,
   "id": "2e0476ef-4b6e-46f8-a49a-b8476535df21",
   "metadata": {},
   "outputs": [],
   "source": [
    "coinmat[update_matrix] <- coinval"
   ]
  },
  {
   "cell_type": "markdown",
   "id": "89996198-69db-4f98-a6f3-43f7edd8bbc2",
   "metadata": {},
   "source": [
    "We set the first row to the initial state of all zeros - tails:"
   ]
  },
  {
   "cell_type": "code",
   "execution_count": null,
   "id": "54f4fd40-128f-4b4c-961d-5db920b41444",
   "metadata": {},
   "outputs": [],
   "source": [
    "coininit <- rep(0, ncoin)"
   ]
  },
  {
   "cell_type": "code",
   "execution_count": null,
   "id": "aa637535-a206-45da-a1e9-4e0be1fa3294",
   "metadata": {},
   "outputs": [],
   "source": [
    "coinmat[1,] <- coininit"
   ]
  },
  {
   "cell_type": "markdown",
   "id": "f2d492c4-2d9b-46e7-8463-84729f839029",
   "metadata": {},
   "source": [
    "An we will make a filling for NA values using the LOCF method: \"last observation carried forward\". So for NA values - rounds in which that coinis not flipped-, the latest flip value will be carried forward to fill in those NA values:"
   ]
  },
  {
   "cell_type": "code",
   "execution_count": null,
   "id": "b7703adc-d0d9-4236-bec4-fbd3e1bc3eea",
   "metadata": {},
   "outputs": [],
   "source": [
    "coinmat <- apply(coinmat, 2, nafill, \"locf\")"
   ]
  },
  {
   "cell_type": "markdown",
   "id": "b556f9f4-9070-4525-8a12-a74cf25708d2",
   "metadata": {},
   "source": [
    "Now let's calculate the sum of head values at the end of each round:"
   ]
  },
  {
   "cell_type": "code",
   "execution_count": null,
   "id": "fe190791-225a-4c67-ae75-5833d7329762",
   "metadata": {},
   "outputs": [],
   "source": [
    "coinsums <- rowSums(coinmat)"
   ]
  },
  {
   "cell_type": "markdown",
   "id": "d1469863-0956-478c-b4e9-995d1ba1d2f8",
   "metadata": {},
   "source": [
    "Let's plot the sums across rounds:"
   ]
  },
  {
   "cell_type": "code",
   "execution_count": null,
   "id": "8db17775-8476-4fcb-88a9-802209f995aa",
   "metadata": {},
   "outputs": [],
   "source": [
    "plot(coinsums, type = \"l\")\n",
    "abline(h = c(0, ncoin/2, ncoin), col = \"red\")"
   ]
  },
  {
   "cell_type": "markdown",
   "id": "ba73ea34-a732-4ca8-abdc-e6b574aaad7a",
   "metadata": {},
   "source": [
    "With limited fluctuations, the total sum start to increase in fast pace and the speed of increase levels of as the system approaches the equilibrium state of 500.\n",
    "\n",
    "And once the system is at the equilibrium state, it fluctuates around its neighbourhood, never going back to 0 again or going up to 1000."
   ]
  },
  {
   "cell_type": "code",
   "execution_count": null,
   "id": "534ca320-cafd-465e-b382-eb9cf89a8d19",
   "metadata": {},
   "outputs": [],
   "source": [
    "match(ncoin/2, coinsums)"
   ]
  },
  {
   "cell_type": "markdown",
   "id": "399f3b09-fc66-4c26-b040-4809ffcf9988",
   "metadata": {},
   "source": [
    "In the 5133rd round, the sum is 500 for the first time."
   ]
  },
  {
   "cell_type": "markdown",
   "id": "77d2a8b0-66e5-467a-8838-9fee8cf145ba",
   "metadata": {},
   "source": [
    "For the majority of rounds, the total sums oscillate in the vicinity of 500:"
   ]
  },
  {
   "cell_type": "code",
   "execution_count": null,
   "id": "ecddee7c-c9be-48a3-ba53-cb49ac25012a",
   "metadata": {},
   "outputs": [],
   "source": [
    "hist(coinsums)"
   ]
  },
  {
   "cell_type": "markdown",
   "id": "9be5b936-8d34-4a89-80db-abc31f97d21e",
   "metadata": {},
   "source": [
    "In a total of 10K rounds the total sums returns back to 0 only few times, there are 3 rounds with a sum of 0:"
   ]
  },
  {
   "cell_type": "code",
   "execution_count": null,
   "id": "64670c71-2ff2-4c69-9526-27e16d6e4536",
   "metadata": {},
   "outputs": [],
   "source": [
    "sum(coinsums == 0)"
   ]
  },
  {
   "cell_type": "markdown",
   "id": "8cadf755-24fa-47de-b51d-eb3a5202eb3b",
   "metadata": {},
   "source": [
    "And they are only at the beginning:"
   ]
  },
  {
   "cell_type": "code",
   "execution_count": null,
   "id": "d607e210-7a41-4e0e-b849-7ed674bcd90f",
   "metadata": {},
   "outputs": [],
   "source": [
    "which(coinsums == 0)"
   ]
  },
  {
   "cell_type": "markdown",
   "id": "a755f473-6e23-4642-9776-abb92953dcf3",
   "metadata": {},
   "source": [
    "The state never reaches the other extreme of 1000 sums:"
   ]
  },
  {
   "cell_type": "code",
   "execution_count": null,
   "id": "b908cc20-c712-4fcd-91f1-f5fc136e6eaf",
   "metadata": {},
   "outputs": [],
   "source": [
    "sum(coinsums == ncoin)"
   ]
  },
  {
   "cell_type": "markdown",
   "id": "3c896c03-6ccc-4dcb-ae20-a880f43b74e1",
   "metadata": {},
   "source": [
    "Let's calculate the SMI values again with two breaks:"
   ]
  },
  {
   "cell_type": "code",
   "execution_count": null,
   "id": "511c4fb4-8406-4235-a895-d59d23eccf42",
   "metadata": {},
   "outputs": [],
   "source": [
    "coinsmi <- apply(coinmat, 1, smix3, 2)"
   ]
  },
  {
   "cell_type": "markdown",
   "id": "11f06e63-27d2-4127-a25d-48ae10200293",
   "metadata": {},
   "source": [
    "We see that, SMI value starts with 0 and reaches the maximum value of 0 with the equilibrium state and almost stay there for the rest of the rounds:"
   ]
  },
  {
   "cell_type": "code",
   "execution_count": null,
   "id": "c9fd7698-5ed9-459c-a2ba-08e8aa583540",
   "metadata": {},
   "outputs": [],
   "source": [
    "plot(coinsmi, type = \"l\")"
   ]
  },
  {
   "cell_type": "markdown",
   "id": "bc7f9aea-bcec-4419-963b-5102c894591b",
   "metadata": {},
   "source": [
    "The absolute distance of sums from 500 is like a mirror image of SMI values again:"
   ]
  },
  {
   "cell_type": "code",
   "execution_count": null,
   "id": "2b384de8-4e2b-4f24-82ae-c5fdd82d201b",
   "metadata": {},
   "outputs": [],
   "source": [
    "plot(abs(coinsums - ncoin/2), type = \"l\")"
   ]
  },
  {
   "cell_type": "markdown",
   "id": "09b7f2f3-938c-4324-b2c4-65a93f807dd5",
   "metadata": {},
   "source": [
    "Let's get the unique pairs of sum and smi values:"
   ]
  },
  {
   "cell_type": "code",
   "execution_count": null,
   "id": "dce2fa0e-574b-4fbe-830e-fb360c9dac22",
   "metadata": {},
   "outputs": [],
   "source": [
    "sum_smi <- unique(cbind(coinsums, coinsmi))"
   ]
  },
  {
   "cell_type": "code",
   "execution_count": null,
   "id": "e6f287b9-06b2-4297-abcc-782dac66606a",
   "metadata": {},
   "outputs": [],
   "source": [
    "sum_smi"
   ]
  },
  {
   "cell_type": "markdown",
   "id": "4c13e4f6-4479-48fa-8dc6-b77a8203a216",
   "metadata": {},
   "source": [
    "And see that SMI is at a a maximum when the sum is 500:"
   ]
  },
  {
   "cell_type": "code",
   "execution_count": null,
   "id": "4604ff61-d4f3-4324-920e-41f1f1081e94",
   "metadata": {},
   "outputs": [],
   "source": [
    "plot(sum_smi, type = \"l\")"
   ]
  },
  {
   "cell_type": "markdown",
   "id": "62f07d61-1bea-4935-937e-c9249ba12eb2",
   "metadata": {},
   "source": [
    "Let's get the binomial probabilities of each dim state up to the equilibrium:"
   ]
  },
  {
   "cell_type": "code",
   "execution_count": null,
   "id": "fac6998a-ff36-4b8b-9e7e-c702439fa987",
   "metadata": {},
   "outputs": [],
   "source": [
    "sumd <- round(dbinom(0:(ncoin/2), ncoin, 0.5), 4)"
   ]
  },
  {
   "cell_type": "markdown",
   "id": "ae146d35-8856-4e8c-b703-151a0eb88908",
   "metadata": {},
   "source": [
    "And we confirm again that SMI values increase parallel to the probability of states (while the shapes are different):"
   ]
  },
  {
   "cell_type": "code",
   "execution_count": null,
   "id": "6bf95271-cde0-4225-901b-b9dd3dc55bb6",
   "metadata": {},
   "outputs": [],
   "source": [
    "plot(sumd, type = \"l\")"
   ]
  },
  {
   "cell_type": "markdown",
   "id": "41f6afad-9efa-498c-a808-b0b173f7d500",
   "metadata": {},
   "source": [
    "Let's see the transition probabilities again, but we'll skip to the theoretical calculation since in most dim states there are not enough rounds to create a consistent trend."
   ]
  },
  {
   "cell_type": "markdown",
   "id": "4feb8f8d-042c-4756-b7bd-34be034aa88b",
   "metadata": {},
   "source": [
    "Possible sum values are:"
   ]
  },
  {
   "cell_type": "code",
   "execution_count": null,
   "id": "b8282d1c-cd8b-48cf-ac59-acaded9e6be0",
   "metadata": {},
   "outputs": [],
   "source": [
    "n1 <- 0:ncoin"
   ]
  },
  {
   "cell_type": "markdown",
   "id": "64247f2b-fd07-4de5-98bb-2bf8238eaa63",
   "metadata": {},
   "source": [
    "We create four separate vectors for each possibility:"
   ]
  },
  {
   "cell_type": "code",
   "execution_count": null,
   "id": "6c731609-3d77-4c5c-815b-ed870903d8b1",
   "metadata": {},
   "outputs": [],
   "source": [
    "p1to0 <- n1/ncoin * 1/2\n",
    "p1to1 <- n1/ncoin * 1/2\n",
    "p0to1 <- (ncoin-n1)/ncoin * 1/2\n",
    "p0to0 <- (ncoin-n1)/ncoin * 1/2"
   ]
  },
  {
   "cell_type": "markdown",
   "id": "e426547a-76c9-441c-a464-1b39e1254a12",
   "metadata": {},
   "source": [
    "However for summarizing the probabilities of change, the \"0 stays 0\" and \"1 stays 1\" cases are added since they point at the case of 0 change:"
   ]
  },
  {
   "cell_type": "code",
   "execution_count": null,
   "id": "1ec329ee-8d09-4717-924c-17d53b9977ef",
   "metadata": {},
   "outputs": [],
   "source": [
    "moveprobs <- data.table(n1 = 0:ncoin,\n",
    "dec = p1to0, # -1\n",
    "same = p1to1 + p0to0, # 0\n",
    "inc = p0to1 # 1\n",
    ")"
   ]
  },
  {
   "cell_type": "markdown",
   "id": "0da11ac0-91ee-4d75-a338-794653301beb",
   "metadata": {},
   "source": [
    "And to track the log likelihood of an increase vs decrease:"
   ]
  },
  {
   "cell_type": "code",
   "execution_count": null,
   "id": "bb3a6bb6-72b3-4261-b09a-fc34df0e227e",
   "metadata": {},
   "outputs": [],
   "source": [
    "moveprobs[, loglik := log10(inc / dec)]"
   ]
  },
  {
   "cell_type": "markdown",
   "id": "677c9324-b8b5-4bf4-b746-de0eb084b52d",
   "metadata": {},
   "source": [
    "We again confirm that the probability for the sum to stay the same is stable at 0.5 throughout dim states:"
   ]
  },
  {
   "cell_type": "code",
   "execution_count": null,
   "id": "d4014fb4-2d88-4965-8121-263c0e5b3819",
   "metadata": {},
   "outputs": [],
   "source": [
    "moveprobs"
   ]
  },
  {
   "cell_type": "markdown",
   "id": "859e5b0a-f3c9-4ea1-a4dd-24d7ac63fcb4",
   "metadata": {},
   "source": [
    "At 0, the sum cannot decrease further and at 10 the sum cannot increase further.\n",
    "\n",
    "At 1, an increase is around 1000 times more likely than a decrease, at 999, a decrease is around 1000 times more likely than an increase.\n",
    "\n",
    "At 5, an increase and decrease is equally likely."
   ]
  },
  {
   "cell_type": "code",
   "execution_count": null,
   "id": "4637a215-4909-43da-a261-0d80dbdd63e4",
   "metadata": {},
   "outputs": [],
   "source": [
    "moveprobs %>%\n",
    "ggplot(aes(x = n1, y = loglik)) +\n",
    "geom_line()"
   ]
  },
  {
   "cell_type": "markdown",
   "id": "f736608b-5bbc-46d5-9122-7f2b24e5e27d",
   "metadata": {},
   "source": [
    "Let's draw the theoretical probabilities of each change value across dim states:"
   ]
  },
  {
   "cell_type": "code",
   "execution_count": null,
   "id": "c50cdfaf-6f46-46cb-8181-9fcaa9c62abf",
   "metadata": {},
   "outputs": [],
   "source": [
    "mp1 <- moveprobs %>%\n",
    "select(-loglik) %>%\n",
    "melt(id.vars = \"n1\") %>%\n",
    "ggplot(aes(x = n1, y = value, color = variable)) +\n",
    "geom_line()"
   ]
  },
  {
   "cell_type": "code",
   "execution_count": null,
   "id": "3bc41f37-1839-4641-8f55-e0f1d6c99de6",
   "metadata": {},
   "outputs": [],
   "source": [
    "mp1"
   ]
  },
  {
   "cell_type": "code",
   "execution_count": null,
   "id": "ad28429d-281c-4fc9-b8c9-59f24f1488ab",
   "metadata": {},
   "outputs": [],
   "source": [
    "ggplotly(mp1)"
   ]
  },
  {
   "cell_type": "markdown",
   "id": "912826c7-5649-4a32-b012-fef38d248c2d",
   "metadata": {},
   "source": [
    "What is the expected number of steps to get from the initial state of 0 to 500?"
   ]
  },
  {
   "cell_type": "markdown",
   "id": "f3efb428-1b69-4103-aacb-04a772e54e17",
   "metadata": {},
   "source": [
    "First let's create a matrix of all zeros to hold all rows and columns for head counts from 0 to `ncoin`:"
   ]
  },
  {
   "cell_type": "code",
   "execution_count": null,
   "id": "6a986b58-3fa9-4d08-a9a6-287f9d97e3ff",
   "metadata": {},
   "outputs": [],
   "source": [
    "markovmat <- matrix(0, nrow = ncoin + 1, ncol = ncoin + 1)"
   ]
  },
  {
   "cell_type": "code",
   "execution_count": null,
   "id": "66215761-96cb-4c07-93fc-69f37d70586c",
   "metadata": {},
   "outputs": [],
   "source": [
    "dim(markovmat)"
   ]
  },
  {
   "cell_type": "markdown",
   "id": "6f0c1db1-76f0-4dcb-91e7-9edb4f634899",
   "metadata": {},
   "source": [
    "Create the labels for states:"
   ]
  },
  {
   "cell_type": "code",
   "execution_count": null,
   "id": "975a1d5e-ae6c-4077-81df-c8cc85dc3f57",
   "metadata": {},
   "outputs": [],
   "source": [
    "statesx <- as.character(0:ncoin)\n",
    "range(statesx)"
   ]
  },
  {
   "cell_type": "code",
   "execution_count": null,
   "id": "26ede2f9-0f14-4e0f-9d2e-18532aa42eb1",
   "metadata": {},
   "outputs": [],
   "source": [
    "rownames(markovmat) <- statesx\n",
    "colnames(markovmat) <- statesx "
   ]
  },
  {
   "cell_type": "markdown",
   "id": "cbb7f0aa-da31-4c42-8b06-746772609098",
   "metadata": {},
   "source": [
    "To make updating the matrix easier, we create two sequences:"
   ]
  },
  {
   "cell_type": "markdown",
   "id": "a7948e5b-7aab-442b-be07-f9620c37c06b",
   "metadata": {},
   "source": [
    "This is for updating the diagonal, where we stay in the same state:"
   ]
  },
  {
   "cell_type": "code",
   "execution_count": null,
   "id": "0f8dff3f-f35b-495c-bb38-ee4596997b83",
   "metadata": {},
   "outputs": [],
   "source": [
    "coinseq <- 1:(ncoin+1)\n",
    "range(coinseq)"
   ]
  },
  {
   "cell_type": "markdown",
   "id": "d71cf513-0fb6-4cb7-944f-8296189ce418",
   "metadata": {},
   "source": [
    "And this is for updating the probabilities of going up or down in head count:"
   ]
  },
  {
   "cell_type": "code",
   "execution_count": null,
   "id": "a704003a-cddb-49ee-9db0-5a7f465a5563",
   "metadata": {},
   "outputs": [],
   "source": [
    "coinseq2 <- 1:ncoin\n",
    "range(coinseq2)"
   ]
  },
  {
   "cell_type": "markdown",
   "id": "e2273958-9edc-4692-8fd9-2a30d5ac324f",
   "metadata": {},
   "source": [
    "Let's do the updating. First for the diagonal, the probabilities of having the same number of heads:"
   ]
  },
  {
   "cell_type": "code",
   "execution_count": null,
   "id": "c5b67b12-3743-4d84-bb19-d964bfd26413",
   "metadata": {},
   "outputs": [],
   "source": [
    "diag(markovmat) <- moveprobs$same"
   ]
  },
  {
   "cell_type": "markdown",
   "id": "82beba00-5724-44f6-a0b7-2f49670c8b87",
   "metadata": {},
   "source": [
    "To update the probabilities for going to a state with higher head count:"
   ]
  },
  {
   "cell_type": "code",
   "execution_count": null,
   "id": "9c2428a1-7f5b-4768-9215-2f4c92f1f847",
   "metadata": {},
   "outputs": [],
   "source": [
    "markovmat[cbind(coinseq2, coinseq2 + 1)] <- moveprobs[-.N, inc]"
   ]
  },
  {
   "cell_type": "markdown",
   "id": "6bdd3e03-d102-47c8-8efb-5481262bb58a",
   "metadata": {},
   "source": [
    "To update the probabilities for going to a state with lower head count:"
   ]
  },
  {
   "cell_type": "code",
   "execution_count": null,
   "id": "f3acd309-2aa7-417c-a231-cba7b9e2db5e",
   "metadata": {},
   "outputs": [],
   "source": [
    "markovmat[cbind(coinseq2 + 1, coinseq2)] <- moveprobs[-1, dec]"
   ]
  },
  {
   "cell_type": "markdown",
   "id": "24d53961-682d-4a87-8048-e0566217043e",
   "metadata": {},
   "source": [
    "Check that all rows sum up to 1:"
   ]
  },
  {
   "cell_type": "code",
   "execution_count": null,
   "id": "8dcf7ee3-525a-45c8-9940-299bc50af9e1",
   "metadata": {},
   "outputs": [],
   "source": [
    "all(rowSums(markovmat) == 1)"
   ]
  },
  {
   "cell_type": "markdown",
   "id": "b0ca6978-bba5-4f0b-9bde-b3794babb799",
   "metadata": {},
   "source": [
    "And here is the matrix:"
   ]
  },
  {
   "cell_type": "code",
   "execution_count": null,
   "id": "705d8136-7255-4335-a50d-6e5f6dc50a39",
   "metadata": {},
   "outputs": [],
   "source": [
    "markovmat"
   ]
  },
  {
   "cell_type": "markdown",
   "id": "d472c515-47ea-4fdb-b30d-475d0efc08b9",
   "metadata": {},
   "source": [
    "This is just a wide representation of the `moveprobs` object:"
   ]
  },
  {
   "cell_type": "code",
   "execution_count": null,
   "id": "7cf95191-1c05-40d4-9c8a-affd4e777fb6",
   "metadata": {},
   "outputs": [],
   "source": [
    "moveprobs"
   ]
  },
  {
   "cell_type": "markdown",
   "id": "8f95f25e-5f5f-432a-b9f5-e097ce57d4ce",
   "metadata": {},
   "source": [
    "Let's convert this matrix into a markov chain object to make calculations easier with the `markovchain` package:"
   ]
  },
  {
   "cell_type": "code",
   "execution_count": null,
   "id": "44dee9bb-88cb-4fc4-b442-43e5bb147732",
   "metadata": {},
   "outputs": [],
   "source": [
    "entrop1mc <- new(\"markovchain\", states = statesx,\n",
    "transitionMatrix = markovmat,\n",
    "name=\"entrop1mc\")"
   ]
  },
  {
   "cell_type": "markdown",
   "id": "683228a2-ccf0-4939-87bb-702c6e8a8ffb",
   "metadata": {},
   "source": [
    "Get the probabilities to end up in each state after a large number of transitions:"
   ]
  },
  {
   "cell_type": "code",
   "execution_count": null,
   "id": "2edd584e-3ac8-4dad-bf0a-0e652765bd7c",
   "metadata": {},
   "outputs": [],
   "source": [
    "entropss <- steadyStates(entrop1mc)"
   ]
  },
  {
   "cell_type": "code",
   "execution_count": null,
   "id": "1c22953e-65ef-4341-8180-5ba60fa3a346",
   "metadata": {},
   "outputs": [],
   "source": [
    "entropss"
   ]
  },
  {
   "cell_type": "markdown",
   "id": "58ae5700-9f3d-4a9c-bdf8-bccbc78e864b",
   "metadata": {},
   "source": [
    "Compare with the probability mass function of binomial distribution:"
   ]
  },
  {
   "cell_type": "code",
   "execution_count": null,
   "id": "54e817c1-4751-4b80-82ea-6af3545a9f0e",
   "metadata": {},
   "outputs": [],
   "source": [
    "binprobs <- dbinom(0:ncoin, ncoin, 0.5)"
   ]
  },
  {
   "cell_type": "code",
   "execution_count": null,
   "id": "b0c99fb1-bd05-4e13-a8d9-0ef0a21d63d3",
   "metadata": {},
   "outputs": [],
   "source": [
    "plot(binprobs, entropss[T])"
   ]
  },
  {
   "cell_type": "markdown",
   "id": "7f787984-ed60-49d9-8f2f-8b2479b0fa68",
   "metadata": {},
   "source": [
    "They are the same!"
   ]
  },
  {
   "cell_type": "markdown",
   "id": "b4a0ac14-048c-4eef-8b34-38aad90a4309",
   "metadata": {},
   "source": [
    "Calculate the mean passage time between states after a long number of transitions. When this notebook is run on the cloud, due to the low memory and cpu limits, the function may cause memory overflow. In that case, the results that are already saved will be used:"
   ]
  },
  {
   "cell_type": "code",
   "execution_count": null,
   "id": "a942eefa-dc3a-455b-8bc2-f4301fd11d6f",
   "metadata": {},
   "outputs": [],
   "source": [
    "# get the memory and cpu limits allocated for jupyter notebook\n",
    "memlim <- as.numeric(Sys.getenv(\"MEM_LIMIT\")) / 2^30\n",
    "cpulim <- as.numeric(Sys.getenv(\"CPU_LIMIT\")) / 2^30"
   ]
  },
  {
   "cell_type": "code",
   "execution_count": null,
   "id": "807b837d-dcd1-467f-9590-62b6e01c60d6",
   "metadata": {},
   "outputs": [],
   "source": [
    "# if memory and cpu limits are defined for jupyter notebook and they are not high enough\n",
    "if (!(is.na(memlim) & is.na(cpulim)) & (memlim < 8 || cpulim < 4))\n",
    "{\n",
    "    # read from cached results\n",
    "    entrop_pt <- readRDS(\"~/databa/rds/entrop_pt.rds\")\n",
    "} else\n",
    "{\n",
    "    # otherwise calculate the mean first passage times\n",
    "    entrop_pt <- abs(meanFirstPassageTime(entrop1mc))\n",
    "}"
   ]
  },
  {
   "cell_type": "markdown",
   "id": "88cda42c-5e35-49fb-9429-14099fea3459",
   "metadata": {},
   "source": [
    "The mean number of steps from state 0 to state 500 is:"
   ]
  },
  {
   "cell_type": "code",
   "execution_count": null,
   "id": "3f9319b9-08c9-4ca8-8bd6-73e91d30caaf",
   "metadata": {},
   "outputs": [],
   "source": [
    "entrop_pt[\"0\", \"500\"]"
   ]
  },
  {
   "cell_type": "markdown",
   "id": "e2c6980b-6bbf-4dd5-8d3d-b2aaf82a5610",
   "metadata": {},
   "source": [
    "And the mean number os steps from state 5 to state 0 is:"
   ]
  },
  {
   "cell_type": "code",
   "execution_count": null,
   "id": "df7e1f6b-4bb2-4236-8e18-9c775e72ab7f",
   "metadata": {},
   "outputs": [],
   "source": [
    "entrop_pt[\"500\", \"0\"]"
   ]
  },
  {
   "cell_type": "markdown",
   "id": "87f77c0f-3a16-4ee4-a149-e72ab2dab052",
   "metadata": {},
   "source": [
    "This is a large number to read, but we can say that it has a 16 order of magnitudes (16 digit number):"
   ]
  },
  {
   "cell_type": "code",
   "execution_count": null,
   "id": "5a33176c-e6db-43cf-9e3e-af0b42364f37",
   "metadata": {},
   "outputs": [],
   "source": [
    "log10(entrop_pt[\"500\", \"0\"])"
   ]
  },
  {
   "cell_type": "markdown",
   "id": "a38cb30a-bad5-48fc-a7c5-6480121e6808",
   "metadata": {},
   "source": [
    "On the average it takes a very very large times more steps to go back from state 500 to 0 than to reach from state 0 to state 500:"
   ]
  },
  {
   "cell_type": "code",
   "execution_count": null,
   "id": "030c86e1-e0d9-4f23-b0e5-3338792522f5",
   "metadata": {},
   "outputs": [],
   "source": [
    "entrop_pt[\"500\", \"0\"] / entrop_pt[\"0\", \"500\"]"
   ]
  },
  {
   "cell_type": "code",
   "execution_count": null,
   "id": "09c7c88a-1c12-4c1d-a252-d661ff213bc2",
   "metadata": {},
   "outputs": [],
   "source": [
    "log10(entrop_pt[\"500\", \"0\"] / entrop_pt[\"0\", \"500\"])"
   ]
  },
  {
   "cell_type": "markdown",
   "id": "af94e1ba-0041-4d6c-af80-f10c5224c35d",
   "metadata": {},
   "source": [
    "The ratio between the passage times from 0 to 500 and from 500 to 0 has 13 orders of magnitude.\n",
    "\n",
    "That's why once we reach the equilibrium state, in a finite number of states we almost never observe going back to the initial state when the number of coins get larger.\n",
    "\n",
    "That doesn't mean it is impossible, just that it becomes practically very very improbable to go through such number of transitions."
   ]
  },
  {
   "cell_type": "markdown",
   "id": "0dbc5b92-8406-4d64-bc3a-192d4a34ec2b",
   "metadata": {},
   "source": [
    "**SO WHEN THE NUMBER OF UNITS IN THE SYSTEM (OR SAMPLE SIZE) GETS LARGER, AFTER THE SYSTEM REACHES THE EQUILIBRIUM STATE OF ENTROPY WITH HIGHEST SMI, IT STAYS IN THE NEIGHBOURHOOD OF THE EQUILIBRIUM AND PRACTICALLY NEVER RETURNS BACK TO THE LOWEST SMI STATE.**"
   ]
  },
  {
   "cell_type": "markdown",
   "id": "22890aa9-fafb-459d-afd6-5262ad25657e",
   "metadata": {},
   "source": [
    "## 1000 Coins, Initiated at equilibrium"
   ]
  },
  {
   "cell_type": "markdown",
   "id": "d4f98f08-3f0d-439a-a0f6-b094c054fb90",
   "metadata": {},
   "source": [
    "We will repeat the steps now from the previous simulation, with the only difference that we start from the equilibrium state of 500 heads and not the all tails state."
   ]
  },
  {
   "cell_type": "code",
   "execution_count": null,
   "id": "c9c6026a-faa4-4a7b-b8e5-aa416d5a5c7b",
   "metadata": {},
   "outputs": [],
   "source": [
    "ncoin <- 1e3"
   ]
  },
  {
   "cell_type": "markdown",
   "id": "ff300c1f-f793-4e75-beda-18fd9ece70d6",
   "metadata": {},
   "source": [
    "And 10K rounds:"
   ]
  },
  {
   "cell_type": "code",
   "execution_count": null,
   "id": "c7532482-b922-44d0-a1a2-ddb3aea44092",
   "metadata": {},
   "outputs": [],
   "source": [
    "nround <- 1e4"
   ]
  },
  {
   "cell_type": "markdown",
   "id": "5a289ae7-3638-4093-87af-74c971f8e4cf",
   "metadata": {},
   "source": [
    "We will sample two sets of values: One set for the coin to be flipped, the other set for the flipped values - head or tail"
   ]
  },
  {
   "cell_type": "markdown",
   "id": "d3495c2a-08f9-4f87-988d-18208a8d92bb",
   "metadata": {},
   "source": [
    "Indices of coins selected in each round:"
   ]
  },
  {
   "cell_type": "code",
   "execution_count": null,
   "id": "7b62aca1-a5c2-406f-8958-1f12c7c2a6d9",
   "metadata": {},
   "outputs": [],
   "source": [
    "set.seed(10)\n",
    "coinind <- sample(ncoin, nround, replace = T)"
   ]
  },
  {
   "cell_type": "markdown",
   "id": "d2e6af92-28cd-4c37-9234-9bc1ce2c0cd8",
   "metadata": {},
   "source": [
    "The value of the flipped coins in each round:"
   ]
  },
  {
   "cell_type": "code",
   "execution_count": null,
   "id": "5ea37015-3d6e-4fa8-867a-49c4843ac6a9",
   "metadata": {},
   "outputs": [],
   "source": [
    "set.seed(20)\n",
    "coinval <- sample(0:1, nround, replace = T)"
   ]
  },
  {
   "cell_type": "markdown",
   "id": "cfd6a61f-6692-4b9c-b0c1-8f7398d008bd",
   "metadata": {},
   "source": [
    "Now create an empty matrix, one column for each coin and one row for each round:"
   ]
  },
  {
   "cell_type": "code",
   "execution_count": null,
   "id": "1a129b77-8e56-4b89-8b7b-3c2dde1aee7c",
   "metadata": {},
   "outputs": [],
   "source": [
    "coinmat <- matrix(nrow = nround, ncol = ncoin) "
   ]
  },
  {
   "cell_type": "code",
   "execution_count": null,
   "id": "f92d0866-0957-41f3-9ad7-feb6c03e5979",
   "metadata": {},
   "outputs": [],
   "source": [
    "dim(coinmat)"
   ]
  },
  {
   "cell_type": "markdown",
   "id": "38fac4f0-3e8a-4f64-bc45-aeda0302c28b",
   "metadata": {},
   "source": [
    "First create an update matrix for each sequential row index and coin indices we sampled for each row:"
   ]
  },
  {
   "cell_type": "code",
   "execution_count": null,
   "id": "3bb75f5b-73cb-47e6-9496-d6eaa48d285d",
   "metadata": {},
   "outputs": [],
   "source": [
    "update_matrix <- cbind(1:nround, coinind)"
   ]
  },
  {
   "cell_type": "code",
   "execution_count": null,
   "id": "9f36d487-f3e7-4dff-8938-700f9b5c44d5",
   "metadata": {},
   "outputs": [],
   "source": [
    "head(update_matrix)"
   ]
  },
  {
   "cell_type": "markdown",
   "id": "7ba096ba-d930-4487-a9c2-0af5e6d707d0",
   "metadata": {},
   "source": [
    "Let's update the large matrix with the sampled flip values:"
   ]
  },
  {
   "cell_type": "code",
   "execution_count": null,
   "id": "c416156f-908d-4509-8e29-06926f46af98",
   "metadata": {},
   "outputs": [],
   "source": [
    "coinmat[update_matrix] <- coinval"
   ]
  },
  {
   "cell_type": "markdown",
   "id": "712f81f0-685a-4874-b00b-59b270aea8d8",
   "metadata": {},
   "source": [
    "We set the first row to the initial state of all zeros - tails:"
   ]
  },
  {
   "cell_type": "code",
   "execution_count": null,
   "id": "0941c793-b6cc-444e-841c-26975d458bd5",
   "metadata": {},
   "outputs": [],
   "source": [
    "coininit <- c(rep(0, ncoin/2), rep(1, ncoin/2))"
   ]
  },
  {
   "cell_type": "code",
   "execution_count": null,
   "id": "6e6164ec-0b25-4a97-8865-d902d4180792",
   "metadata": {},
   "outputs": [],
   "source": [
    "coinmat[1,] <- coininit"
   ]
  },
  {
   "cell_type": "markdown",
   "id": "301cb4aa-51a5-47cd-85c6-ebfb8c4d585f",
   "metadata": {},
   "source": [
    "An we will make a filling for NA values using the LOCF method: \"last observation carried forward\". So for NA values - rounds in which that coinis not flipped-, the latest flip value will be carried forward to fill in those NA values:"
   ]
  },
  {
   "cell_type": "code",
   "execution_count": null,
   "id": "d09ed828-3b0d-4810-a288-b4a82859ea84",
   "metadata": {},
   "outputs": [],
   "source": [
    "coinmat <- apply(coinmat, 2, nafill, \"locf\")"
   ]
  },
  {
   "cell_type": "markdown",
   "id": "d9adcb46-79f9-4216-8145-faf81326b906",
   "metadata": {},
   "source": [
    "Now let's calculate the sum of head values at the end of each round:"
   ]
  },
  {
   "cell_type": "code",
   "execution_count": null,
   "id": "c7cfa0e7-8f4b-40e3-afaa-87d907fae4c2",
   "metadata": {},
   "outputs": [],
   "source": [
    "coinsums <- rowSums(coinmat)"
   ]
  },
  {
   "cell_type": "markdown",
   "id": "33bb4177-0f0d-4fd5-81ac-41b124f16632",
   "metadata": {},
   "source": [
    "Let's plot the sums across rounds:"
   ]
  },
  {
   "cell_type": "code",
   "execution_count": null,
   "id": "cc33a1ab-ff6e-4ef1-b43f-86a457f6f9ca",
   "metadata": {},
   "outputs": [],
   "source": [
    "plot(coinsums, type = \"l\")\n",
    "abline(h = c(0, ncoin/2, ncoin), col = \"red\")"
   ]
  },
  {
   "cell_type": "markdown",
   "id": "0ae4a100-9cc7-4472-b86f-9f5adcbf7e33",
   "metadata": {},
   "source": [
    "We see that once we start from the equilibrium in a system with large number of coins, the system fluctuates around this equilibrium never getting too far away in this window of finite steps. We can confirm this by the histogram: "
   ]
  },
  {
   "cell_type": "code",
   "execution_count": null,
   "id": "e2366a09-a280-4809-b95a-c61a22c3d807",
   "metadata": {},
   "outputs": [],
   "source": [
    "hist(coinsums)"
   ]
  },
  {
   "cell_type": "markdown",
   "id": "51398cd6-29d1-445a-915a-f5eb7f86e832",
   "metadata": {},
   "source": [
    "In 10K steps, the total sums fluctuate within 7.6% band around the equilibrium value:"
   ]
  },
  {
   "cell_type": "code",
   "execution_count": null,
   "id": "cedb4bb0-266f-48e4-b811-c6c0c559701a",
   "metadata": {},
   "outputs": [],
   "source": [
    "range(coinsums)/(ncoin/2) - 1"
   ]
  },
  {
   "cell_type": "markdown",
   "id": "fc4c7e98-fc97-48bb-9462-4d36f8cea727",
   "metadata": {},
   "source": [
    "We know that, when we have a large number of units, there is a large number of specific configurations to have a dim state as can be shown with the choose function:"
   ]
  },
  {
   "cell_type": "markdown",
   "id": "c1cc77e9-7571-4a67-81de-8add754ab998",
   "metadata": {},
   "source": [
    "Within the range of attained sum values, for each sum, the number of specific configurations is in the order of magnitude of 298-299:"
   ]
  },
  {
   "cell_type": "code",
   "execution_count": null,
   "id": "c6d547cc-68ed-4891-8af9-e4d1776d79e6",
   "metadata": {},
   "outputs": [],
   "source": [
    "choose(ncoin, sort(unique(coinsums)))"
   ]
  },
  {
   "cell_type": "markdown",
   "id": "da8ff369-2a4a-443f-a9ec-6bfb84a0a6f8",
   "metadata": {},
   "source": [
    "That's why the state persists around the equilibrium of maximum SMI: There is a huge number of configurations to stay in that region with those sum values."
   ]
  },
  {
   "cell_type": "markdown",
   "id": "c8cfbc09-53d4-46f8-bd6b-91e3e47ba598",
   "metadata": {},
   "source": [
    "In 10K steps, only 75 different dim states are attained:"
   ]
  },
  {
   "cell_type": "code",
   "execution_count": null,
   "id": "bc5c8186-501d-4607-89c3-22d1c6835309",
   "metadata": {},
   "outputs": [],
   "source": [
    "uniqueN(coinsums)"
   ]
  },
  {
   "cell_type": "markdown",
   "id": "21a109cc-df51-4f82-8ad0-4d773517177c",
   "metadata": {},
   "source": [
    "Each dim state is visited on the average 133 times:"
   ]
  },
  {
   "cell_type": "code",
   "execution_count": null,
   "id": "879dcc32-344c-4707-9d28-f621704b5edb",
   "metadata": {},
   "outputs": [],
   "source": [
    "nround / uniqueN(coinsums)"
   ]
  },
  {
   "cell_type": "markdown",
   "id": "18e1db02-0149-4d9c-baf9-d5b578ee52f9",
   "metadata": {},
   "source": [
    "However we can also check the number of specific states attained. For this let's create a fingerprint from each row: Paste the 0 and 1 values to create a long word."
   ]
  },
  {
   "cell_type": "code",
   "execution_count": null,
   "id": "dbeb5af6-c6b5-4f93-9bba-f1c80de14645",
   "metadata": {},
   "outputs": [],
   "source": [
    "fingerprints <- apply(coinmat, 1, paste, collapse = \"\")"
   ]
  },
  {
   "cell_type": "markdown",
   "id": "6e966856-13db-4084-b430-f52c6a16fefc",
   "metadata": {},
   "source": [
    "How many unique fingerprints we have:"
   ]
  },
  {
   "cell_type": "code",
   "execution_count": null,
   "id": "b1cd5ed9-7e71-457b-b919-1b83064d5385",
   "metadata": {},
   "outputs": [],
   "source": [
    "uniqueN(fingerprints)"
   ]
  },
  {
   "cell_type": "markdown",
   "id": "e62e37d0-a543-42de-874b-12f45eacf739",
   "metadata": {},
   "source": [
    "Much larger than the unique number of dim states."
   ]
  },
  {
   "cell_type": "markdown",
   "id": "c8d24ff6-45c1-4daa-a28c-0c5cd7c83aea",
   "metadata": {},
   "source": [
    "On the average each specific state is visited 2 times:"
   ]
  },
  {
   "cell_type": "code",
   "execution_count": null,
   "id": "53d27564-ae5d-43ce-903a-f3415c2fae5b",
   "metadata": {},
   "outputs": [],
   "source": [
    "nround / uniqueN(fingerprints)"
   ]
  },
  {
   "cell_type": "markdown",
   "id": "62ab0b5d-129d-4b61-a460-7205b383f06a",
   "metadata": {},
   "source": []
  },
  {
   "cell_type": "markdown",
   "id": "ce3ab0b4-bf36-4e7c-8042-fac677a6702d",
   "metadata": {},
   "source": [
    "And we have an exponential distribution of the visit counts of each specific state:"
   ]
  },
  {
   "cell_type": "code",
   "execution_count": null,
   "id": "eed946c6-89f9-47c7-a7a7-d4ad2d643b9b",
   "metadata": {},
   "outputs": [],
   "source": [
    "hist(table(fingerprints))"
   ]
  },
  {
   "cell_type": "code",
   "execution_count": null,
   "id": "707f386f-a470-4009-bb49-770d528cd108",
   "metadata": {},
   "outputs": [],
   "source": [
    "table(table(fingerprints))"
   ]
  },
  {
   "cell_type": "markdown",
   "id": "5b96d98b-02b8-4a8d-9ada-026c4f55b2d0",
   "metadata": {},
   "source": [
    "A large majority of specific states are visited only once or twice, with a small number of specific states visited up to 20 times."
   ]
  },
  {
   "cell_type": "markdown",
   "id": "3e994cf5-91da-463b-8fb2-911199f69472",
   "metadata": {},
   "source": [
    "Now let's get the number of visited specific states for each dim state:"
   ]
  },
  {
   "cell_type": "code",
   "execution_count": null,
   "id": "da314ad2-b02e-4d62-9d98-78465dfe056e",
   "metadata": {},
   "outputs": [],
   "source": [
    "dimspec <- data.table(coinsums, fingerprints)"
   ]
  },
  {
   "cell_type": "code",
   "execution_count": null,
   "id": "5687c45e-62f4-47ef-8531-8bea9ac88828",
   "metadata": {},
   "outputs": [],
   "source": [
    "dimspec2 <- dimspec[, .(nspec = uniqueN(fingerprints), nfreq = .N), by = coinsums][order(coinsums)]"
   ]
  },
  {
   "cell_type": "code",
   "execution_count": null,
   "id": "fb30983c-9561-47cc-a98e-622b0f7232a2",
   "metadata": {},
   "outputs": [],
   "source": [
    "dimspec2[, freqperspec := nfreq / nspec]"
   ]
  },
  {
   "cell_type": "code",
   "execution_count": null,
   "id": "d05589c0-aeda-4d53-a6d4-93a2ab72579b",
   "metadata": {},
   "outputs": [],
   "source": [
    "dimspec2"
   ]
  },
  {
   "cell_type": "code",
   "execution_count": null,
   "id": "c78b0acd-bc3d-4681-a53f-ab2bb925657c",
   "metadata": {},
   "outputs": [],
   "source": [
    "dimspec2 %>%\n",
    "ggplot(aes(x = coinsums)) +\n",
    "geom_line(aes(y = nspec, color = \"red\")) +\n",
    "geom_line(aes(y = nfreq, color = \"blue\"))"
   ]
  },
  {
   "cell_type": "markdown",
   "id": "a38d8370-1d27-44b3-be1f-6b8fa29a7f97",
   "metadata": {},
   "source": [
    "The distribution of the total number of visits for each dim state closely follows the distribution of number of specific states visited per dim state."
   ]
  },
  {
   "cell_type": "code",
   "execution_count": null,
   "id": "5b9ef95d-c1e4-4aa5-bac8-4327b4cbb65a",
   "metadata": {},
   "outputs": [],
   "source": [
    "dimspec2 %>%\n",
    "ggplot(aes(x = coinsums, y = freqperspec)) +\n",
    "geom_line()"
   ]
  },
  {
   "cell_type": "markdown",
   "id": "a18ddb6f-6d54-445d-aca4-7a1b914b6cb3",
   "metadata": {},
   "source": [
    "While in each dim state, average visits per specific state is fairly stable around 2!"
   ]
  },
  {
   "cell_type": "markdown",
   "id": "bd9f06b9-b3a6-4a6c-865f-7373767152c7",
   "metadata": {},
   "source": [
    "**SO WHILE EACH SPECIFIC STATE IS EQUALLY LIKELY TO OCCUR, THE MORE FREQUENTLY VISITED DIM STATES ARE VISITED IN MORE DIFFERENT SPECIFIC WAYS, WHICH IS BASICALLY THE REASON OF HIGHER SMI, AND THE ENTROPY AT THE EQUILIBRIUM**"
   ]
  },
  {
   "cell_type": "markdown",
   "id": "b73ccc25-b536-40a4-a0fe-9c37075b2323",
   "metadata": {},
   "source": [
    "Let's get the probabality mass of those dim states from binomial distribution:"
   ]
  },
  {
   "cell_type": "code",
   "execution_count": null,
   "id": "86017a4e-b110-4a7e-bd62-19f6e6f12ee6",
   "metadata": {},
   "outputs": [],
   "source": [
    "coind <- dbinom(sort(unique(coinsums)), ncoin, 0.5)"
   ]
  },
  {
   "cell_type": "markdown",
   "id": "e8ff72fe-d6c9-45cd-932d-97dcd5ca9624",
   "metadata": {},
   "source": [
    "And scale for the range of values attained:"
   ]
  },
  {
   "cell_type": "code",
   "execution_count": null,
   "id": "beafe70d-e853-433a-8a60-904e6c1c835c",
   "metadata": {},
   "outputs": [],
   "source": [
    "coind <- coind / sum(coind)"
   ]
  },
  {
   "cell_type": "markdown",
   "id": "244c9578-347d-4283-bb77-2a6058fcf138",
   "metadata": {},
   "source": [
    "And get the density from empirical coin sum values:"
   ]
  },
  {
   "cell_type": "code",
   "execution_count": null,
   "id": "a97d9228-94d3-4651-b830-51759ac18017",
   "metadata": {},
   "outputs": [],
   "source": [
    "denscoin <- density(coinsums, bw = 3)[c(\"x\", \"y\")]\n",
    "setDT(denscoin)"
   ]
  },
  {
   "cell_type": "markdown",
   "id": "9a77117a-bb77-4e3b-b092-ee69efcae634",
   "metadata": {},
   "source": [
    "Now let's compare the empirical and theoretical densities:"
   ]
  },
  {
   "cell_type": "code",
   "execution_count": null,
   "id": "bbddf7ec-13f8-4529-8b37-09d24aa5d718",
   "metadata": {},
   "outputs": [],
   "source": [
    "plot(denscoin, type = \"l\", col = \"red\")\n",
    "lines(sort(unique(coinsums)), coind, col = \"blue\")"
   ]
  },
  {
   "cell_type": "markdown",
   "id": "953b88df-ce7c-4243-bef7-70b89d946efc",
   "metadata": {},
   "source": [
    "While they do not exactly overlap since the values are not independently sampled but has a dependence on the previous values, they have similar shape, suggesting that, the distribution of visits closely follows the number of possible different specific states."
   ]
  },
  {
   "cell_type": "markdown",
   "id": "a94e35cc-f017-46a9-9530-da08b10352a9",
   "metadata": {},
   "source": [
    "So the system fluctuates within the neighbourhood of the equilibrium sum, and these same dim states in the close vicinity of the equilibrium value are frequently visited, different specific states are visited for the same dim state. So for example while theoretically there is always a 50% chance for the same dim state to be visited in the next step for all dim states, the probability that the same specific state is visited is quite lower for dim states near the equilibrium with a high SMI value and large number of possible specific states. And that's quite the definition of SMI and entropy: We have much more missing information about the specific state at equilibrium."
   ]
  },
  {
   "cell_type": "markdown",
   "id": "408b4f75-1189-4110-aa26-c026519e4ce1",
   "metadata": {},
   "source": [
    "# Shake Your System: Genesis of Probabability Distributions"
   ]
  },
  {
   "cell_type": "markdown",
   "id": "b382de35-67bd-49bb-b732-d129d08c96af",
   "metadata": {},
   "source": [
    "Now we know Shannon's notion of information and missing information, dim and specific states, the SMI measure and its connection to the number of questions we need to ask get to the specific state and how binomial systems evolve into the equilibrium state with maximum SMI which we call as the entropy of the system. And the real reason of this inevitable evolution into the equilibrium and the persistence at that state is that more probable states - with more ways to occur - will be visited more frequently.\n",
    "\n",
    "The next step is to see that, given certain constraints, systems that are initiated at a low SMI dim state - that can occur in fewer number of ways so has a low probabaility - converge to certain shapes characteristic with those constraints if we shake the system long enough. The shape to naturally occur is the most probable one with the highest SMI and hence is the maximum entropy distribution among different possible shapes for the given constraints."
   ]
  },
  {
   "cell_type": "markdown",
   "id": "255cbdb8-4bdd-4b4f-b5b2-3fb10b4d6326",
   "metadata": {},
   "source": [
    "In short, we will grow **IN VITRO** distributions out of stochastic processes with given constraints:\n",
    "\n",
    "<video src=\"../imagesba/invitro3.mp4\"  \n",
    "       controls width=\"600\">\n",
    "</video>\n",
    "\n",
    "(https://www.youtube.com/@bkmonline?sub_confirmation=1)\n",
    "\n",
    "(https://www.netflix.com/tr/title/81282554)\n",
    "\n",
    "(https://www.primevideo.com/detail/0U48H6481442WFDUQEGW72GJYD)\n",
    "\n",
    "(https://tv.apple.com/tr/movie/kolonya-cumhuriyeti/umc.cmc.26sdddhio2sb1rxzj0sk1oto9)"
   ]
  },
  {
   "cell_type": "markdown",
   "id": "53b0fe07-c20e-49a0-bffd-01e40defda51",
   "metadata": {},
   "source": [
    "Before we go on to simulations, let's remember the function to calculate the SMI on the original vector:\n",
    "\n",
    "The function creates a contingency table of given number of breaks, converts to probabilities and calculates the SMI:"
   ]
  },
  {
   "cell_type": "code",
   "execution_count": null,
   "id": "7900fbd0-afdb-42ff-97a4-f0b3cf201440",
   "metadata": {},
   "outputs": [],
   "source": [
    "smix3 <- function(x, y = 10) Entropy(prop.table(hist(x, breaks = y, plot = F)$counts))"
   ]
  },
  {
   "cell_type": "markdown",
   "id": "0cc082eb-6cb7-432e-9d48-f335f9b0fddd",
   "metadata": {},
   "source": [
    "In simulations, the *support* of distributions are usually stated. *Support* of a distribution is the values in the domain (x values or quantile values) for which the density values are larger than zero."
   ]
  },
  {
   "cell_type": "markdown",
   "id": "b39e8541-7f19-4bc2-a39c-7c55e63e7eec",
   "metadata": {},
   "source": [
    "## Simulation of a system with fixed finite support "
   ]
  },
  {
   "cell_type": "markdown",
   "id": "c5b73ab0-5039-4307-ab47-277d250b82da",
   "metadata": {},
   "source": [
    "This section is inspired by Chapter 3 \"Discover the Uniform Spatial Distribution\" in Ben-Naim (2010)."
   ]
  },
  {
   "cell_type": "markdown",
   "id": "1e2bf20b-1875-4e31-ba2b-a4c053008fc9",
   "metadata": {},
   "source": [
    "We set some parameters and rules for the simulation. In all simulation, the starting state is a zero SMI one where all marbles are stacked at a certain position (so there is no uncertainty or missing information as to where any marble is). We start shaking the system randomly subject to some constraints.\n",
    "\n",
    "In this first simulation the only constraint is the limits of finite support: The maximum and minimum positions that a marble can take. The parameters are:\n",
    "\n",
    "- `rangemax` is the maximum absolute value of the position the marbles can take. This is the main constraint of this simulation\n",
    "- `nmarb` is the number of marbles\n",
    "- `maxiter` is the maximum number of iterations before the simulation ends\n",
    "- `stepx` is the absolute displacement (step size) for each randomly selected marble in each step\n",
    "- `nss` is the total number of snapshots of the configuration to be taken during all the iterations of the simulation in order to animate how the system evolves."
   ]
  },
  {
   "cell_type": "code",
   "execution_count": null,
   "id": "a6f4883c-2165-489f-8924-34cd57049733",
   "metadata": {},
   "outputs": [],
   "source": [
    "rangemax <- 10\n",
    "nmarb <- 1e3\n",
    "maxiter <- 5e5\n",
    "stepx <- 1\n",
    "nss <- 1e2"
   ]
  },
  {
   "cell_type": "markdown",
   "id": "2c3563ae-8257-46c3-82bb-36d1ad0b89d8",
   "metadata": {},
   "source": [
    "We calculate the number of iterations to wait for each snapshot:"
   ]
  },
  {
   "cell_type": "code",
   "execution_count": null,
   "id": "d5df4917-d93c-4d54-91c3-a502d7bef494",
   "metadata": {},
   "outputs": [],
   "source": [
    "eachns <- maxiter / nss\n",
    "eachns"
   ]
  },
  {
   "cell_type": "markdown",
   "id": "319c2364-deac-4ea0-b32c-86acfdac63fc",
   "metadata": {},
   "source": [
    "We initiate all marbles at position 0 before the simulation starts. We keep a copy of the initial configuration to combine with the snapshots later: "
   ]
  },
  {
   "cell_type": "code",
   "execution_count": null,
   "id": "1c380b98-f728-49ee-90d1-b777bbb0f9ee",
   "metadata": {},
   "outputs": [],
   "source": [
    "marbs <- rep(0, nmarb)\n",
    "marbs0 <- marbs"
   ]
  },
  {
   "cell_type": "markdown",
   "id": "0a63a9e6-57d1-4de8-9146-20541bdf7c2c",
   "metadata": {},
   "source": [
    "And the histogram of the initial configuration is obvious: All marbles in one place"
   ]
  },
  {
   "cell_type": "code",
   "execution_count": null,
   "id": "f90410cc-68e9-4d2f-9c5b-5f177ed5b271",
   "metadata": {},
   "outputs": [],
   "source": [
    "hist(marbs0)"
   ]
  },
  {
   "cell_type": "markdown",
   "id": "5642d83c-9196-4784-a108-0a775007ab67",
   "metadata": {},
   "source": [
    "Let's calculate the range of values of marbles and initial SMI value:"
   ]
  },
  {
   "cell_type": "code",
   "execution_count": null,
   "id": "0556d4cc-47d8-4355-bba5-44bf9ec1e447",
   "metadata": {},
   "outputs": [],
   "source": [
    "range(marbs0)\n",
    "smix3(marbs0, 100)"
   ]
  },
  {
   "cell_type": "markdown",
   "id": "14ca9c10-f5c3-4592-9d4c-37d13006c564",
   "metadata": {},
   "source": [
    "Since all marbles are at 0 in the beginning, there is no missing information so SMI is 0."
   ]
  },
  {
   "cell_type": "markdown",
   "id": "eaeebfdf-33a1-4baa-9e6d-16847895a3df",
   "metadata": {},
   "source": [
    "Let's create an empty object to collect the snapshots of the system's configurations for animating the evolution:"
   ]
  },
  {
   "cell_type": "code",
   "execution_count": null,
   "id": "46fb52ef-7dd6-4fab-a46e-296253a161b8",
   "metadata": {},
   "outputs": [],
   "source": [
    "statusx <- rep(list(NULL), nss)"
   ]
  },
  {
   "cell_type": "markdown",
   "id": "25bb3f9d-70ca-4b72-9a49-109c784f3c13",
   "metadata": {},
   "source": [
    "Now that is the core of the algorithm:\n",
    "\n",
    "In each iteration:\n",
    "- Pick a marble index at random\n",
    "- Get the value (position) of the marble\n",
    "- Move the position of the marble by step size randomly to left or right. That's the main dynamic than changes the configuration.\n",
    "- And update its position subject to the limit constaints: The position cannot go beyond stated limits - the finite support. That's the only constraint"
   ]
  },
  {
   "cell_type": "code",
   "execution_count": null,
   "id": "c3d20304-c034-4562-a54b-1b504d3e188c",
   "metadata": {},
   "outputs": [],
   "source": [
    "set.seed(150)\n",
    "for (iter in 1:maxiter)\n",
    "{\n",
    "    if (iter %% eachns == 0) statusx[[floor(iter / eachns)]] <- marbs # save the snapshot of the system in certain intervals\n",
    "    marbind <- sample(1:nmarb, 1) # select a marble index at random\n",
    "    marbval <- marbs[marbind] # get the value of the marble\n",
    "    incr <- sample(c(-stepx, stepx), 1) # sample a move with an up or down direction and prestated step size\n",
    "    newval <- marbval + incr # get the new value of marble\n",
    "    newval <- min(max(newval, -rangemax), rangemax) # subject to min and max constraints recalculate the value\n",
    "\n",
    "    marbs[marbind] <- newval # update the value of marble\n",
    "}   "
   ]
  },
  {
   "cell_type": "code",
   "execution_count": null,
   "id": "9ed09733-fb33-4b55-8a0c-c95ea19e4647",
   "metadata": {},
   "outputs": [],
   "source": [
    "marbs2 <- marbs # this copying is here for consistency of code. In later simulations, we may trim extreme tails."
   ]
  },
  {
   "cell_type": "markdown",
   "id": "341e72df-080e-44f8-acb2-e733b36222e7",
   "metadata": {},
   "source": [
    "Let's view the histogram as at the end of simulation:"
   ]
  },
  {
   "cell_type": "code",
   "execution_count": null,
   "id": "87d4b0a0-8ca5-4b63-a92d-c0c3c08e6d1d",
   "metadata": {},
   "outputs": [],
   "source": [
    "hist(marbs2, breaks = 50)"
   ]
  },
  {
   "cell_type": "markdown",
   "id": "1be9ee5b-2bc2-4f8c-83ed-4f2930e07a89",
   "metadata": {},
   "source": [
    "The shape has converged to the uniform distribution."
   ]
  },
  {
   "cell_type": "markdown",
   "id": "418b3332-7c2c-475b-b5a7-de3b1fef7c72",
   "metadata": {},
   "source": [
    "And get the summary, range and SMI of the marble values:"
   ]
  },
  {
   "cell_type": "code",
   "execution_count": null,
   "id": "46fc8d88-0052-4ca8-b0fb-48aff60d0f1e",
   "metadata": {},
   "outputs": [],
   "source": [
    "summary(marbs2)\n",
    "range(marbs2)\n",
    "smix3(marbs2, 100)"
   ]
  },
  {
   "cell_type": "markdown",
   "id": "96bc77fe-7ba8-4077-b204-3a80c74b02f0",
   "metadata": {},
   "source": [
    "Note that, with the defined step size, there are 21 possible values between -10 and 10. So the maximum SMI to be attained is:"
   ]
  },
  {
   "cell_type": "code",
   "execution_count": null,
   "id": "9f2b14ac-9c1e-4817-8813-fb8a1079da86",
   "metadata": {},
   "outputs": [],
   "source": [
    "entruni <- log2(21)\n",
    "entruni"
   ]
  },
  {
   "cell_type": "markdown",
   "id": "8f95ea8a-bfb6-4f8c-9db1-3b208154b955",
   "metadata": {},
   "source": [
    "And the current SMI value is quite close to this."
   ]
  },
  {
   "cell_type": "markdown",
   "id": "0c493dbc-ddfa-4e73-ae00-3aa1c9e643f7",
   "metadata": {},
   "source": [
    "Now let's combine the initial state with the snapshots"
   ]
  },
  {
   "cell_type": "code",
   "execution_count": null,
   "id": "09f5fbbd-a738-4057-a134-e18287f7e20a",
   "metadata": {},
   "outputs": [],
   "source": [
    "statusx2 <- c(list(marbs0), statusx)"
   ]
  },
  {
   "cell_type": "markdown",
   "id": "ece8242a-6cb3-4488-ad63-5a88937b8eb9",
   "metadata": {},
   "source": [
    "The theoretical variance for the given finite support is:"
   ]
  },
  {
   "cell_type": "code",
   "execution_count": null,
   "id": "fc9a24d4-eac3-4393-9de2-ba9688caae73",
   "metadata": {},
   "outputs": [],
   "source": [
    "varuni <- (2* rangemax)^2 / 12\n",
    "varuni"
   ]
  },
  {
   "cell_type": "markdown",
   "id": "c0021519-6926-49dd-88b0-4c1c3942c2b0",
   "metadata": {},
   "source": [
    "And the evolution of the variance is:"
   ]
  },
  {
   "cell_type": "code",
   "execution_count": null,
   "id": "af37c412-8536-41d5-bd82-deca7501b1f2",
   "metadata": {},
   "outputs": [],
   "source": [
    "plot(sapply(statusx2, var), type = \"l\")\n",
    "abline(h= varuni, col = \"red\")"
   ]
  },
  {
   "cell_type": "markdown",
   "id": "5511f11d-49af-49d1-8cae-99ba72378ac8",
   "metadata": {},
   "source": [
    "The variance is slightly above the theoretical value since our simulation is a discrete one with steps of 1 and not a perfectly uniform distribution."
   ]
  },
  {
   "cell_type": "markdown",
   "id": "59026c1c-e145-4aac-8a91-9e67d2ae64f4",
   "metadata": {},
   "source": [
    "The SMI evolves very quickly to the max possible value - entropy - value from 0:"
   ]
  },
  {
   "cell_type": "code",
   "execution_count": null,
   "id": "0ce10aa4-a164-4054-bd34-fa4adaeff82f",
   "metadata": {},
   "outputs": [],
   "source": [
    "plot(sapply(statusx2, smix3, 100), type = \"l\")\n",
    "abline(h = entruni, col = \"red\")"
   ]
  },
  {
   "cell_type": "markdown",
   "id": "6887a857-6536-48df-8270-7ca0cd3f5c73",
   "metadata": {},
   "source": [
    "Now let's combine the snapshots into a data.table with iteration indicator and create an animated plot:"
   ]
  },
  {
   "cell_type": "code",
   "execution_count": null,
   "id": "7613313e-3020-4bae-a473-4e381b42db96",
   "metadata": {},
   "outputs": [],
   "source": [
    "status_dt <- mapply(function(x, y) data.table(iter = y, val = x), statusx2, seq_along(statusx2), SIMPLIFY = F) %>% rbindlist"
   ]
  },
  {
   "cell_type": "code",
   "execution_count": null,
   "id": "c8f2504d-0850-4f0d-ac5e-85c26432f6e5",
   "metadata": {},
   "outputs": [],
   "source": [
    "p_ent <- status_dt %>%\n",
    "plot_ly(x = ~val) %>%\n",
    "layout(yaxis = list(range = c(0, 100))) %>%\n",
    "add_trace(frame = ~iter, type = \"histogram\", nbinsx = 50) %>%\n",
    "animation_opts(\n",
    "    frame = 200, redraw = T, easing = \"linear\", mode = \"next\"\n",
    ")"
   ]
  },
  {
   "cell_type": "code",
   "execution_count": null,
   "id": "bd6b4d40-0eab-4408-b10b-d350b7d65665",
   "metadata": {},
   "outputs": [],
   "source": [
    "p_ent"
   ]
  },
  {
   "cell_type": "markdown",
   "id": "28c4e438-4e5f-4bdc-83c5-7afb994efdfe",
   "metadata": {},
   "source": [
    "After the first few snapshots, the system converges to a uniform distribution and stays there with slight fluctuations."
   ]
  },
  {
   "cell_type": "markdown",
   "id": "1b48f245-e505-441a-ab44-eef0455e63ce",
   "metadata": {},
   "source": [
    "**SO THE MAXIMUM ENTROPY DISTRIBUTION FOR A STOCHASTIC SYSTEM WITH FINITE SUPPORT IS UNIFORM DISTRIBUTION**"
   ]
  },
  {
   "cell_type": "markdown",
   "id": "edd43da5-cf17-435b-82e4-a4c26cebe241",
   "metadata": {},
   "source": [
    "## Simulation of a system with fixed variance"
   ]
  },
  {
   "cell_type": "markdown",
   "id": "2eadc24a-3a9f-482a-b5a6-bacb25d307d6",
   "metadata": {},
   "source": [
    "The section is inspired by Chapter 5 \"Discover the Maxwell-Boltzmann Distribution\" in Ben-Naim (2010)."
   ]
  },
  {
   "cell_type": "markdown",
   "id": "ec632d77-2adf-4937-bf2d-1b5ef77d0ea0",
   "metadata": {},
   "source": [
    "Now we will conduct a similar simulation where we start at a configuration with 0 SMI. The system is left to shake stochastically similar to the previous one. The difference is that, this time the constraint is not the finite support but a fixed variance. So the system will be randomly shaken with no lower and upper bounds on the values that the marbles can take but the variance should be a fixed value.\n",
    "\n",
    "The parameters are now:\n",
    "\n",
    "- `initval` is the starting position of all marbles at the 0 SMI configuration\n",
    "- `nmarb` is the number of marbles\n",
    "- `maxiter` is the maximum number of iterations before the simulation ends\n",
    "- `stepx` is the absolute displacement (step size) for each randomly selected marble in each step\n",
    "- `nss` is the total number of snapshots of the configuration to be taken during all the iterations of the simulation in order to animate how the system evolves\n",
    "- `vartar` is the target variance that the system is supposed to evolve into."
   ]
  },
  {
   "cell_type": "code",
   "execution_count": null,
   "id": "21c9d3d7-586d-43a8-ab0d-fb62af2de583",
   "metadata": {},
   "outputs": [],
   "source": [
    "initval <- 0\n",
    "nmarb <- 5e3\n",
    "maxiter <- 5e4\n",
    "stepx <- 0.5\n",
    "nss <- 1e2\n",
    "vartar <- 3"
   ]
  },
  {
   "cell_type": "markdown",
   "id": "1923ef04-c82e-42e1-b699-fcac1884727a",
   "metadata": {},
   "source": [
    "We calculate the number of iterations to wait for each snapshot:"
   ]
  },
  {
   "cell_type": "code",
   "execution_count": null,
   "id": "79fd78e0-af5f-4851-8b7b-f79c504400fd",
   "metadata": {},
   "outputs": [],
   "source": [
    "eachns <- maxiter / nss\n",
    "eachns"
   ]
  },
  {
   "cell_type": "markdown",
   "id": "79086ebd-f1a9-4557-9f7e-084de8f1ea69",
   "metadata": {},
   "source": [
    "We initiate all marbles at the initial value of 0 before the simulation starts. We keep a copy of the initial configuration to combine with the snapshots later: "
   ]
  },
  {
   "cell_type": "code",
   "execution_count": null,
   "id": "e3ef1be8-b107-42e5-84c9-f2042dd3a85f",
   "metadata": {},
   "outputs": [],
   "source": [
    "marbs <- rep(initval, nmarb)\n",
    "marbs0 <- marbs"
   ]
  },
  {
   "cell_type": "markdown",
   "id": "c123355a-1c00-44c4-aa98-2967eb867d36",
   "metadata": {},
   "source": [
    "And the histogram of the initial configuration is obvious: All marbles in one place"
   ]
  },
  {
   "cell_type": "code",
   "execution_count": null,
   "id": "a63548ec-e76d-4cd7-800a-fd993c95beca",
   "metadata": {
    "scrolled": true
   },
   "outputs": [],
   "source": [
    "hist(marbs0)"
   ]
  },
  {
   "cell_type": "markdown",
   "id": "61cd54f2-c748-40a1-86bd-2a7e7c9d9827",
   "metadata": {},
   "source": [
    "Now let's get some statistical summaries of the initial state:\n",
    "\n",
    "All values hence mean, variance, sd are also 0. Since all marbles are at the same position, there is no missing information about the state so SMI is also 0.\n",
    "\n",
    "Skewness and kurtosis cannot be calculated because of 0 sd at the initial position:"
   ]
  },
  {
   "cell_type": "code",
   "execution_count": null,
   "id": "886a6b65-f373-41b0-8c86-a7397ea34d20",
   "metadata": {},
   "outputs": [],
   "source": [
    "range(marbs0)\n",
    "mean(marbs0)\n",
    "var(marbs0)\n",
    "sd(marbs0)\n",
    "skewness(marbs0)\n",
    "kurtosis(marbs0)\n",
    "smix3(marbs0, 100)"
   ]
  },
  {
   "cell_type": "markdown",
   "id": "95f0e686-c074-4808-8f70-a46cf1ab90c6",
   "metadata": {},
   "source": [
    "Let's create an empty object to collect the snapshots of the system's configurations for animating the evolution:"
   ]
  },
  {
   "cell_type": "code",
   "execution_count": null,
   "id": "0c089a0f-5d2a-4804-b5a9-3f673336cfdc",
   "metadata": {},
   "outputs": [],
   "source": [
    "statusx <- rep(list(NULL), nss)"
   ]
  },
  {
   "cell_type": "markdown",
   "id": "9152fef7-4b1d-40ff-9851-b2e284f83fc6",
   "metadata": {},
   "source": [
    "And let's assign the initial values of the mean and var to named objects. We will use these objects to control the evolution of the simulation:"
   ]
  },
  {
   "cell_type": "code",
   "execution_count": null,
   "id": "37208e35-2937-45cc-a80b-daa0ef249b77",
   "metadata": {},
   "outputs": [],
   "source": [
    "varnow <- var(marbs)\n",
    "meannow <- mean(marbs)"
   ]
  },
  {
   "cell_type": "markdown",
   "id": "959b8947-b3ee-4d8c-9bc8-38ac98fac4bf",
   "metadata": {},
   "source": [
    "Now that is the core of the algorithm:\n",
    "\n",
    "In each iteration:\n",
    "- Pick a marble index at random\n",
    "- Get the value (position) of the marble\n",
    "- Compare whether last variance is larger than the target variance\n",
    "- If the current variance is larger than the target variance, move the position of the marble one step size towards the mean.\n",
    "- Otherwise, move the position of the marble one step size away from the mean.\n",
    "- Recalculate the mean and variance\n",
    "- So the dynamic is again the change of position, the constraint is the target variance."
   ]
  },
  {
   "cell_type": "code",
   "execution_count": null,
   "id": "7b7a5bcb-7454-4313-9ec4-4cc901adcb55",
   "metadata": {},
   "outputs": [],
   "source": [
    "set.seed(300)\n",
    "for (iter in 1:maxiter)\n",
    "{\n",
    "    if (iter %% eachns == 0) statusx[[floor(iter / eachns)]] <- marbs # save the snapshot of the system in certain intervals\n",
    "    marbind <- sample(1:nmarb, 1)\n",
    "    marbval <- marbs[marbind]\n",
    "\n",
    "    if (varnow > vartar) # if the current variance is larger than the target\n",
    "    {\n",
    "        incr <- ifelse(marbval > meannow, -stepx, stepx) # move the marble towards the mean\n",
    "    } else\n",
    "    {\n",
    "        incr <- ifelse(marbval > meannow, stepx, -stepx) # otherwise move the marble away from the mean\n",
    "    }\n",
    "    newval <- marbval + incr # get the new value of the marble\n",
    "\n",
    "    marbs[marbind] <- newval # update the value of the marble\n",
    "    varnow <- var(marbs) # recalculate the variance\n",
    "    meannow <- mean(marbs) # recalculate the mean\n",
    "}   "
   ]
  },
  {
   "cell_type": "markdown",
   "id": "b3b028e9-ef46-475d-bb01-cd2d55418c0f",
   "metadata": {},
   "source": [
    "Let's check whether the variance is converged to the target:"
   ]
  },
  {
   "cell_type": "code",
   "execution_count": null,
   "id": "b6d2a405-8477-4e05-a934-32747bf89616",
   "metadata": {},
   "outputs": [],
   "source": [
    "varnow\n",
    "vartar"
   ]
  },
  {
   "cell_type": "markdown",
   "id": "4fb0ad63-cb67-4e05-8385-6344c7ae427c",
   "metadata": {},
   "source": [
    "Let's create a function the trim the extreme tails slightly:"
   ]
  },
  {
   "cell_type": "code",
   "execution_count": null,
   "id": "2cf98758-b64a-4314-a1fc-c812e69cd5c4",
   "metadata": {},
   "outputs": [],
   "source": [
    "trimtail <- function(x, y) x[x %between% quantile(x, c(y, 1-y))] "
   ]
  },
  {
   "cell_type": "markdown",
   "id": "bfea30c6-1fc8-414b-ab12-52936acb3e82",
   "metadata": {},
   "source": [
    "For the time being let's not trim anything from the tails, but you can slighly change this value for you own tries:"
   ]
  },
  {
   "cell_type": "code",
   "execution_count": null,
   "id": "e812aa38-70e5-468d-b92b-9926e4a7cc33",
   "metadata": {},
   "outputs": [],
   "source": [
    "tailx <- 0"
   ]
  },
  {
   "cell_type": "markdown",
   "id": "0bd760db-b34f-44c3-9342-08b234ecae49",
   "metadata": {},
   "source": [
    "This number of marbles will be trimmed from each side:"
   ]
  },
  {
   "cell_type": "code",
   "execution_count": null,
   "id": "ba5537cd-8ed1-4de0-985f-3056da16719e",
   "metadata": {},
   "outputs": [],
   "source": [
    "nmarb * tailx"
   ]
  },
  {
   "cell_type": "markdown",
   "id": "595e2d0d-e93c-457c-93c2-d0d10931fb24",
   "metadata": {},
   "source": [
    "The trimmed values:"
   ]
  },
  {
   "cell_type": "code",
   "execution_count": null,
   "id": "2106e196-7b6a-41be-990d-cc239c9a5af9",
   "metadata": {},
   "outputs": [],
   "source": [
    "marbs2 <- trimtail(marbs, tailx)"
   ]
  },
  {
   "cell_type": "markdown",
   "id": "0ae950bf-0ece-4c76-99be-8234a3a3e6fd",
   "metadata": {},
   "source": [
    "Let's view the state at the end of the simulation:"
   ]
  },
  {
   "cell_type": "code",
   "execution_count": null,
   "id": "5b21881b-fbb7-41b5-a95f-a5d5dd86a11f",
   "metadata": {},
   "outputs": [],
   "source": [
    "hist(marbs2, breaks = 50)"
   ]
  },
  {
   "cell_type": "markdown",
   "id": "28da31cf-65a9-4974-8583-0152b2b6f1fa",
   "metadata": {},
   "source": [
    "The shape has converged to the bell curve."
   ]
  },
  {
   "cell_type": "markdown",
   "id": "54064e50-4ef4-45b8-b3eb-75a5dc671bbe",
   "metadata": {},
   "source": [
    "And get the summary, statistics and SMI of the marble values:"
   ]
  },
  {
   "cell_type": "code",
   "execution_count": null,
   "id": "60fcd050-7270-41eb-8067-d90db299fad0",
   "metadata": {},
   "outputs": [],
   "source": [
    "summary(marbs2)\n",
    "mean(marbs2)\n",
    "var(marbs2)\n",
    "sd(marbs2)\n",
    "skewness(marbs2)\n",
    "kurtosis(marbs2)\n",
    "smix3(marbs2, 100)"
   ]
  },
  {
   "cell_type": "markdown",
   "id": "84f3baeb-af0c-4ee2-9722-5764067899d7",
   "metadata": {},
   "source": [
    "Skewness is close to 0 so the distribution is symmetric and the kurtosis value is slightly above 3, so the distribution is almost normal."
   ]
  },
  {
   "cell_type": "markdown",
   "id": "e1c9ec18-c6cb-4e80-b322-919d4748deb2",
   "metadata": {},
   "source": [
    "Now let's combine the initial state with the snapshots:"
   ]
  },
  {
   "cell_type": "code",
   "execution_count": null,
   "id": "5107f855-fd8a-4306-b3c6-5414bdf08324",
   "metadata": {},
   "outputs": [],
   "source": [
    "statusx0 <- c(list(marbs0), statusx)"
   ]
  },
  {
   "cell_type": "code",
   "execution_count": null,
   "id": "5635d0d2-a43c-4e09-bff6-014b45c920a5",
   "metadata": {},
   "outputs": [],
   "source": [
    "statusx2 <- lapply(statusx0, trimtail, tailx)"
   ]
  },
  {
   "cell_type": "markdown",
   "id": "2d1ede19-cc11-4c0e-b702-6e9ffaec6cbb",
   "metadata": {},
   "source": [
    "And the evolution of the variance is:"
   ]
  },
  {
   "cell_type": "code",
   "execution_count": null,
   "id": "b5d15a8c-ad07-4cff-b6ff-92f2d4c3e83c",
   "metadata": {},
   "outputs": [],
   "source": [
    "plot(sapply(statusx2, var), type = \"l\")\n",
    "abline(h= vartar, col = \"red\")"
   ]
  },
  {
   "cell_type": "markdown",
   "id": "8b367e4e-99ef-413b-a31e-7cbd832fd563",
   "metadata": {},
   "source": [
    "The variance approaches the target level and once it is there, variance is stabilized."
   ]
  },
  {
   "cell_type": "markdown",
   "id": "e96a5c83-b19e-4c39-8a89-4bfe6b3888b0",
   "metadata": {},
   "source": [
    "Now let's check the SMI values:"
   ]
  },
  {
   "cell_type": "code",
   "execution_count": null,
   "id": "5782eadf-3e40-4b52-8740-bc432f973b6f",
   "metadata": {},
   "outputs": [],
   "source": [
    "plot(sapply(statusx2, smix3, 100), type = \"l\")"
   ]
  },
  {
   "cell_type": "markdown",
   "id": "c2d3a9e1-94dd-4096-aea9-535dc52a5d0e",
   "metadata": {},
   "source": [
    "Once the SMI value reaches the maximum level - entropy - it is stabilized there. Remember from coin toss simulation: There are more specific configurations at the equilibrium SMI. So slight divergences from the equilibrium are quickly reverted back to the equilibrium in the long run."
   ]
  },
  {
   "cell_type": "markdown",
   "id": "32e85d63-4d1e-4926-8798-3b0c6c6207be",
   "metadata": {},
   "source": [
    "The skewness converges to 0 in time:"
   ]
  },
  {
   "cell_type": "code",
   "execution_count": null,
   "id": "bef562f6-f9e5-4173-9eca-6543c43e8fee",
   "metadata": {},
   "outputs": [],
   "source": [
    "plot(sapply(statusx2, skewness), type = \"l\")"
   ]
  },
  {
   "cell_type": "markdown",
   "id": "de0f05a8-ad3f-48d2-b68d-f0353ba7c2ab",
   "metadata": {},
   "source": [
    "And the kurtosis value converges to 3:"
   ]
  },
  {
   "cell_type": "code",
   "execution_count": null,
   "id": "bae88229-58f9-4f07-adfc-8c31e516e68a",
   "metadata": {},
   "outputs": [],
   "source": [
    "plot(sapply(statusx2, kurtosis), type = \"l\")\n",
    "abline(h = 3, col = \"red\")"
   ]
  },
  {
   "cell_type": "markdown",
   "id": "e31b7aae-ab1e-460e-bc55-d9c1cf013065",
   "metadata": {},
   "source": [
    "Now let's combine the snapshots into a data.table with iteration indicator and create an animated plot:"
   ]
  },
  {
   "cell_type": "code",
   "execution_count": null,
   "id": "76fc2dc4-2997-4d70-93de-36a5ebae9faa",
   "metadata": {},
   "outputs": [],
   "source": [
    "status_dt <- mapply(function(x, y) data.table(iter = y, val = x), statusx2, seq_along(statusx2), SIMPLIFY = F) %>% rbindlist"
   ]
  },
  {
   "cell_type": "code",
   "execution_count": null,
   "id": "0f670b06-e814-4128-b116-df5655b76a39",
   "metadata": {},
   "outputs": [],
   "source": [
    "p_ent <- status_dt %>%\n",
    "plot_ly(x = ~val) %>%\n",
    "layout(yaxis = list(range = c(0, 1000))) %>%\n",
    "add_trace(frame = ~iter, type = \"histogram\", nbinsx = 50) %>%\n",
    "animation_opts(\n",
    "    frame = 200, redraw = T, easing = \"linear\", mode = \"next\"\n",
    ")"
   ]
  },
  {
   "cell_type": "code",
   "execution_count": null,
   "id": "deb9527b-0933-403e-8e0d-3a2d77bd6058",
   "metadata": {},
   "outputs": [],
   "source": [
    "p_ent"
   ]
  },
  {
   "cell_type": "markdown",
   "id": "f5406de2-c6bf-44d4-91a4-9ac9579f02dd",
   "metadata": {},
   "source": [
    "The system diverges away from the single value into the curve shape."
   ]
  },
  {
   "cell_type": "markdown",
   "id": "158faeb3-9cc6-4a5f-a622-be50fc573913",
   "metadata": {},
   "source": [
    "Now let's plot the density of our marble values and the normal distribution curve with the same mean and variance with the simulated values.\n",
    "\n",
    "We add some random jitter to the data so that it is not discrete anymore (for a smoother density curve:"
   ]
  },
  {
   "cell_type": "code",
   "execution_count": null,
   "id": "a9f7afa3-32d6-4d0d-9bff-7e29365f3f25",
   "metadata": {},
   "outputs": [],
   "source": [
    "marbs3 <- marbs2 + runif(length(marbs2)) - 0.5\n",
    "densx <- density(marbs3, adjust = 2)[c(\"x\", \"y\")]\n",
    "maxx <- max(abs(range(densx)))\n",
    "setDT(densx)\n",
    "xvals <- seq(-maxx, maxx, 0.001)"
   ]
  },
  {
   "cell_type": "code",
   "execution_count": null,
   "id": "fd40db7f-91be-409c-9a26-709f128374a8",
   "metadata": {},
   "outputs": [],
   "source": [
    "meanm <- mean(marbs2)\n",
    "sdm <- sd(marbs2)"
   ]
  },
  {
   "cell_type": "code",
   "execution_count": null,
   "id": "8f65dd94-8c52-4798-bd26-29d3131bb37e",
   "metadata": {},
   "outputs": [],
   "source": [
    "plot(densx, type = \"l\", col = \"blue\")\n",
    "lines(xvals, dnorm(xvals, meanm, sdm), col = \"red\")"
   ]
  },
  {
   "cell_type": "markdown",
   "id": "4012549b-9679-4d52-9dbd-10a4ffc8636b",
   "metadata": {},
   "source": [
    "We see that the simulated values' density almost overlaps with normal distribution."
   ]
  },
  {
   "cell_type": "markdown",
   "id": "fb761783-4b74-4787-9726-7e376a4216a1",
   "metadata": {},
   "source": [
    "**SO THE MAXIMUM ENTROPY DISTRIBUTION FOR A STOCHASTIC SYSTEM WITH FIXED VARIANCE IS NORMAL DISTRIBUTION**"
   ]
  },
  {
   "cell_type": "markdown",
   "id": "79fc382a-aea0-4448-b96a-9f71eac40d6b",
   "metadata": {},
   "source": [
    "## Simulation of a system with fixed mean and non-negative support"
   ]
  },
  {
   "cell_type": "markdown",
   "id": "40bf532b-4de4-4d62-a12a-bb8042cdcaee",
   "metadata": {},
   "source": [
    "Now we revisit our simulation where agents all with equal endowment of wealth in the initial state exchanged equal amounts randomly and fairly. The distribution of wealth converged to an exponential distribution. Here we will rerun the same experiment so that we take snapshots and animate those snapshots and also calculate the SMI values across iterations.\n",
    "\n",
    "The idea is simple again: We have a fixed mean (here average wealth) and non-negative support where wealth values can be anything larger than or equal to 0.\n",
    "\n",
    "The parameters are now:\n",
    "\n",
    "- `initw` is the starting wealth of all agents at the 0 SMI configuration\n",
    "- `nagent` is the number of agents\n",
    "- `niter` is the maximum number of iterations before the simulation ends\n",
    "- `nss` is the total number of snapshots of the configuration to be taken during all the iterations of the simulation in order to animate how the system evolves"
   ]
  },
  {
   "cell_type": "code",
   "execution_count": null,
   "id": "30146aa5-de11-456b-96c7-f64d5216410e",
   "metadata": {},
   "outputs": [],
   "source": [
    "initw <- 20\n",
    "nagent <- 1e3\n",
    "niter <- 5e3\n",
    "nss <- 1e2"
   ]
  },
  {
   "cell_type": "markdown",
   "id": "fb4f1b68-ac56-4262-9e05-fd5925158e88",
   "metadata": {},
   "source": [
    "We calculate the number of iterations to wait for each snapshot:"
   ]
  },
  {
   "cell_type": "code",
   "execution_count": null,
   "id": "40dadbdf-192c-469e-99e2-288e4197d6a9",
   "metadata": {},
   "outputs": [],
   "source": [
    "eachns <- niter / nss\n",
    "eachns"
   ]
  },
  {
   "cell_type": "markdown",
   "id": "04317dda-f483-496a-819c-a2bdb6777efc",
   "metadata": {},
   "source": [
    "We initiate all agents with the same starting wealth value:"
   ]
  },
  {
   "cell_type": "code",
   "execution_count": null,
   "id": "fa07824e-65ea-4a75-8a54-65420f42cf8f",
   "metadata": {},
   "outputs": [],
   "source": [
    "set.seed(80)\n",
    "wealth_dt <- data.table(wealth = rep(initw, nagent), match = rep(0, nagent))"
   ]
  },
  {
   "cell_type": "markdown",
   "id": "d964d537-b84b-4f48-82bf-1daf555d5f71",
   "metadata": {},
   "source": [
    "Check the starting total wealth:"
   ]
  },
  {
   "cell_type": "code",
   "execution_count": null,
   "id": "b0b32206-8617-497b-91f7-f2beb4a0ebf6",
   "metadata": {},
   "outputs": [],
   "source": [
    "wealth_dt[, sum(wealth)]"
   ]
  },
  {
   "cell_type": "markdown",
   "id": "c440ce95-9ad9-4cff-ab44-b50a09dccf1a",
   "metadata": {},
   "source": [
    "We keep a copy of the initial configuration to combine with the snapshots later: "
   ]
  },
  {
   "cell_type": "code",
   "execution_count": null,
   "id": "f631ddf2-c986-4dcc-8d57-b8a8bce7008a",
   "metadata": {},
   "outputs": [],
   "source": [
    "marbs0 <- wealth_dt$wealth"
   ]
  },
  {
   "cell_type": "markdown",
   "id": "97ea2e75-23cc-44c0-bc3e-3a55d4db7ae4",
   "metadata": {},
   "source": [
    "And the histogram of the initial configuration is obvious: All wealth values the same:"
   ]
  },
  {
   "cell_type": "code",
   "execution_count": null,
   "id": "9b736888-b924-416a-ba03-b1e281328a6b",
   "metadata": {},
   "outputs": [],
   "source": [
    "hist(wealth_dt$wealth, breaks = 100)"
   ]
  },
  {
   "cell_type": "markdown",
   "id": "81c39dbc-2eba-4d4b-8c1c-48e08ae128c8",
   "metadata": {},
   "source": [
    "Let's create an empty object to collect the snapshots of the system's configurations for animating the evolution:"
   ]
  },
  {
   "cell_type": "code",
   "execution_count": null,
   "id": "f035f353-cc08-49b8-a9e3-dc89e406b415",
   "metadata": {},
   "outputs": [],
   "source": [
    "statusx <- rep(list(NULL), nss)"
   ]
  },
  {
   "cell_type": "markdown",
   "id": "bbb01cc3-6236-4a89-81d2-0e956bc650c5",
   "metadata": {},
   "source": [
    "Now that is the core of the algorithm:\n",
    "\n",
    "In each iteration:\n",
    "- Pick a marble index at random\n",
    "- Get the value (position) of the marble\n",
    "- Compare whether last variance is larger than the target variance\n",
    "- If the current variance is larger than the target variance, move the position of the marble one step size towards the mean.\n",
    "- Otherwise, move the position of the marble one step size away from the mean.\n",
    "- Recalculate the mean and variance\n",
    "- So the dynamic is again the change of position, the constraint is the target variance."
   ]
  },
  {
   "cell_type": "markdown",
   "id": "2f8499e7-1e13-44ff-89ba-e487f3210010",
   "metadata": {},
   "source": [
    "The idea is simple: All participants start out with the same wealth. In every iteration (period), all agents are matched and 1 unit is exchanged randomly from one side to the other.\n",
    "\n",
    "The probability of giving or taking does not depend on the size of current wealth. So we can assume that the rules of trade are completely fair. The only restriction is that noone is allowed to go below zero wealth. And to ensure that zero wealth agents are not excluded out of further trade, at the beginning of each iteration each zero wealth agents receive 1 unit randomly from a separate non-zero wealth agent.\n",
    "\n",
    "So in each iteration a single agent can give or receive at most 1 units.\n",
    "\n",
    "The core of the algorithm is such that in each iteration:\n",
    "\n",
    "- Zero wealth agents are ensured that they take 1 unit.\n",
    "- For each zero wealth agent a non-zero wealth agent is matched randomly to give 1 unit.\n",
    "- Remaining agents are matched in pairs and they randomly exchange 1 unit so that for each pair there is a single 1 unit giver and a single 1 unit taker so that the total sum of wealth and mean wealth are always fixed.\n",
    "- The new wealth values are updated."
   ]
  },
  {
   "cell_type": "code",
   "execution_count": null,
   "id": "6d4b6556-1a86-4bb3-867d-9cb5b271cd94",
   "metadata": {},
   "outputs": [],
   "source": [
    "set.seed(90)\n",
    "for (iter in 1:niter)\n",
    "{\n",
    "    zerow <- wealth_dt[wealth == 0, .N]\n",
    "    wealth_dt[, wealthnew := wealth]\n",
    "    wealth_dt[wealth == 0, wealthnew := 1]\n",
    "    wealth_dt[wealth > 0, match := sample(c(rep(-1, zerow), rep(0, .N - zerow)))]\n",
    "    wealth_dt[match == -1, wealthnew := wealth - 1]\n",
    "    wealth_dt[wealth > 0 & match != -1, match := sample(.N) - 1]\n",
    "    wealth_dt[wealth > 0 & match != -1, wealthnew := wealth + sample(c(-1,1), .N), by = match %/% 2]\n",
    "    wealth_dt[, wealth := wealthnew]\n",
    "    if (iter %% eachns == 0) statusx[[floor(iter / eachns)]] <- wealth_dt$wealth\n",
    "}"
   ]
  },
  {
   "cell_type": "markdown",
   "id": "aba0e080-7502-4782-89ac-9d905e47babf",
   "metadata": {},
   "source": [
    "Let's extract the final wealth distribution:"
   ]
  },
  {
   "cell_type": "code",
   "execution_count": null,
   "id": "2fbb50dd-523a-4bf4-9fd6-ae3cf7e2ae26",
   "metadata": {},
   "outputs": [],
   "source": [
    "marbs2 <- wealth_dt$wealth"
   ]
  },
  {
   "cell_type": "markdown",
   "id": "2c4e95fd-0938-4493-bf83-eb9374f81bc8",
   "metadata": {},
   "source": [
    "Get the summary of wealth values:"
   ]
  },
  {
   "cell_type": "code",
   "execution_count": null,
   "id": "55d10a9d-d373-49c3-ba59-999fe8958ab5",
   "metadata": {},
   "outputs": [],
   "source": [
    "summary(marbs2)"
   ]
  },
  {
   "cell_type": "markdown",
   "id": "2348e7a5-94ba-48d4-bbec-30a2b278a58a",
   "metadata": {},
   "source": [
    "And the histogram:"
   ]
  },
  {
   "cell_type": "code",
   "execution_count": null,
   "id": "d6b600aa-2cef-4c1d-b1f5-01e66f6b7993",
   "metadata": {},
   "outputs": [],
   "source": [
    "hist(marbs2, breaks = 50)"
   ]
  },
  {
   "cell_type": "markdown",
   "id": "224580f9-433f-4611-9c3f-d9006f1e520f",
   "metadata": {},
   "source": [
    "The histogram suggests that the wealth values are exponentially distributed. Variance is close to the square of mean of 400 and standard deviation is close to the mean of 20:"
   ]
  },
  {
   "cell_type": "code",
   "execution_count": null,
   "id": "e498dc51-0ff3-4517-81f5-b2e0146c606e",
   "metadata": {},
   "outputs": [],
   "source": [
    "summary(marbs2)\n",
    "mean(marbs2)\n",
    "var(marbs2)\n",
    "sd(marbs2)\n",
    "smix3(marbs2, 100)"
   ]
  },
  {
   "cell_type": "markdown",
   "id": "74ea79d7-53e9-448a-bcfe-2adb307d09f0",
   "metadata": {},
   "source": [
    "Now let's combine the initial state with the snapshots"
   ]
  },
  {
   "cell_type": "code",
   "execution_count": null,
   "id": "b3cb1cd6-2023-4882-82f4-b03f231592fc",
   "metadata": {},
   "outputs": [],
   "source": [
    "statusx2 <- c(list(marbs0), statusx)"
   ]
  },
  {
   "cell_type": "markdown",
   "id": "2f7fcafb-f32b-4d96-aee4-7ee86ea22e9b",
   "metadata": {},
   "source": [
    "Theoretical variance of an exponential distribution with the given mean is:"
   ]
  },
  {
   "cell_type": "code",
   "execution_count": null,
   "id": "891e3a00-e6e5-42e3-8e38-ba6cc9ff45af",
   "metadata": {},
   "outputs": [],
   "source": [
    "varexp <- initw^2\n",
    "varexp"
   ]
  },
  {
   "cell_type": "markdown",
   "id": "4cf07605-c1fe-4d28-8e44-331fe20c4f2c",
   "metadata": {},
   "source": [
    "And the evolution of the variance is:"
   ]
  },
  {
   "cell_type": "code",
   "execution_count": null,
   "id": "2b03ca43-4a1a-4242-afec-9177fb92eeef",
   "metadata": {},
   "outputs": [],
   "source": [
    "plot(sapply(statusx2, var), type = \"l\")\n",
    "abline(h= varexp, col = \"red\")"
   ]
  },
  {
   "cell_type": "markdown",
   "id": "51157c43-0c39-40b6-b32a-1fb1e0586c93",
   "metadata": {},
   "source": [
    "The variance reaches the theoretical level and fluctuates around that level."
   ]
  },
  {
   "cell_type": "markdown",
   "id": "b0e25a0b-4b92-4083-8d59-212a27927777",
   "metadata": {},
   "source": [
    "The SMI closely reaches the maximum value and stays there:"
   ]
  },
  {
   "cell_type": "code",
   "execution_count": null,
   "id": "c0e96cf4-8dcb-4458-8e49-6c8475fac4f8",
   "metadata": {},
   "outputs": [],
   "source": [
    "plot(sapply(statusx2, smix3, 100), type = \"l\")"
   ]
  },
  {
   "cell_type": "markdown",
   "id": "081eea91-e709-493f-aca6-5787ba6cdbff",
   "metadata": {},
   "source": [
    "Mean is fixed through out the iterations:"
   ]
  },
  {
   "cell_type": "code",
   "execution_count": null,
   "id": "ac74e463-466b-479c-82d1-eef8350056e4",
   "metadata": {},
   "outputs": [],
   "source": [
    "plot(sapply(statusx2, mean), type = \"l\")"
   ]
  },
  {
   "cell_type": "markdown",
   "id": "1075048d-2e8e-43e8-a6c0-51c050536e74",
   "metadata": {},
   "source": [
    "The quantile value for the extreme right tail can be calculated with `dexp` function, for the given p-value and rate:"
   ]
  },
  {
   "cell_type": "code",
   "execution_count": null,
   "id": "ccfc247d-8b2d-49ef-a6dc-236287d021e8",
   "metadata": {},
   "outputs": [],
   "source": [
    "maxexp <- qexp(1 - 1/nagent, 1/initw)\n",
    "maxexp"
   ]
  },
  {
   "cell_type": "code",
   "execution_count": null,
   "id": "392a48c6-980e-4d14-bc1d-7fdd1fe6ec95",
   "metadata": {},
   "outputs": [],
   "source": [
    "plot(sapply(statusx2, max), type = \"l\")\n",
    "abline(h = maxexp, col = \"red\")"
   ]
  },
  {
   "cell_type": "markdown",
   "id": "8c43054f-5836-4652-be47-47d83c34fac7",
   "metadata": {},
   "source": [
    "The max value reaches that quantile value and fluctuates around it."
   ]
  },
  {
   "cell_type": "markdown",
   "id": "01fa900a-2e60-4b56-acc5-d665eae0c705",
   "metadata": {},
   "source": [
    "Now let's combine the snapshots into a data.table with iteration indicator and create an animated plot:"
   ]
  },
  {
   "cell_type": "code",
   "execution_count": null,
   "id": "dc0e0c93-3384-4f5f-a474-2455001fd197",
   "metadata": {},
   "outputs": [],
   "source": [
    "status_dt <- mapply(function(x, y) data.table(iter = y, val = x), statusx2, seq_along(statusx2), SIMPLIFY = F) %>% rbindlist"
   ]
  },
  {
   "cell_type": "code",
   "execution_count": null,
   "id": "50f32579-e02e-4246-8d5c-1175c4f06f5c",
   "metadata": {},
   "outputs": [],
   "source": [
    "p_ent <- status_dt %>%\n",
    "plot_ly(x = ~val) %>%\n",
    "layout(yaxis = list(range = c(0, 200))) %>%\n",
    "add_trace(frame = ~iter, type = \"histogram\", nbinsx = 50) %>%\n",
    "animation_opts(\n",
    "    frame = 200, redraw = T, easing = \"linear\", mode = \"next\"\n",
    ")"
   ]
  },
  {
   "cell_type": "code",
   "execution_count": null,
   "id": "1827ed15-deaa-4cbd-ab35-8c2d9a8df133",
   "metadata": {},
   "outputs": [],
   "source": [
    "p_ent"
   ]
  },
  {
   "cell_type": "markdown",
   "id": "7cafda6a-9023-472e-bbdf-f64d21f3c7fb",
   "metadata": {},
   "source": [
    "The system converges to an exponential distribution, where most of the mass is in lower values with fewer outliers."
   ]
  },
  {
   "cell_type": "markdown",
   "id": "c2abdc7d-4cbf-43e4-be1e-278e2eca61c7",
   "metadata": {},
   "source": [
    "Now let's plot the density of wealth values and the exponential distribution curve with the same mean:"
   ]
  },
  {
   "cell_type": "code",
   "execution_count": null,
   "id": "75c08ae3-ebe1-4010-8dcc-7cac05f8ff02",
   "metadata": {},
   "outputs": [],
   "source": [
    "marbs3 <- marbs2\n",
    "densx <- density(marbs3)[c(\"x\", \"y\")]\n",
    "maxx <- max(abs(range(densx)))\n",
    "setDT(densx)\n",
    "xvals <- seq(0, maxx, 0.001)"
   ]
  },
  {
   "cell_type": "code",
   "execution_count": null,
   "id": "c2888119-a75f-4e0e-bc6a-e6d37d383e31",
   "metadata": {},
   "outputs": [],
   "source": [
    "meanm <- mean(marbs2)"
   ]
  },
  {
   "cell_type": "code",
   "execution_count": null,
   "id": "13333cb8-aecd-42f9-a516-7e6ecc01f2c6",
   "metadata": {},
   "outputs": [],
   "source": [
    "plot(densx[x > 10], type = \"l\", col = \"blue\")\n",
    "lines(xvals, dexp(xvals, 1/meanm), col = \"red\")"
   ]
  },
  {
   "cell_type": "markdown",
   "id": "5f00e605-08fe-42a3-a898-e242551113f5",
   "metadata": {},
   "source": [
    "We see that the simulated values' density almost overlaps with exponential distribution."
   ]
  },
  {
   "cell_type": "markdown",
   "id": "aa7ba556-f7dc-49bd-80f6-2d417c363bf5",
   "metadata": {},
   "source": [
    "**SO EXPONENTIAL DISTRIBUTION IS THE MAXIMUM ENTROPY DISTRIBUTION FOR A STOCHASTIC SYSTEM WITH FIXED MEAN AND NON-NEGATIVE SUPPORT**"
   ]
  },
  {
   "cell_type": "markdown",
   "id": "52ae5ff9-438c-416a-91e8-d07d9af81db3",
   "metadata": {},
   "source": [
    "# Normal Distribution Entropy Comparison"
   ]
  },
  {
   "cell_type": "markdown",
   "id": "501e82b0-08ec-450f-abee-60db5f744ad6",
   "metadata": {},
   "source": [
    "We showed that normal distribution is the maximum entropy distribution with a constraint of fixed variance. Now we will compare the entropy - SMI at equilibrium - of normal distribution with that of Student's t distribution using different degrees of freedom values."
   ]
  },
  {
   "cell_type": "markdown",
   "id": "29745722-88f2-4ce1-8ecb-96f98725a971",
   "metadata": {},
   "source": [
    "First let's create a sample from normal distribution and calculate the entropy:"
   ]
  },
  {
   "cell_type": "markdown",
   "id": "4dabbb34-b43b-4fae-9da2-6d6385872ec7",
   "metadata": {},
   "source": [
    "The number of bins to calculate the probability is set by `gran` argument:"
   ]
  },
  {
   "cell_type": "code",
   "execution_count": null,
   "id": "6e814b04-8dbb-4d59-9437-97881cb0b627",
   "metadata": {},
   "outputs": [],
   "source": [
    "gran <- 1e3"
   ]
  },
  {
   "cell_type": "markdown",
   "id": "bc2c16e4-1ccb-42d1-91dd-a167247ca393",
   "metadata": {},
   "source": [
    "And the size of sample:"
   ]
  },
  {
   "cell_type": "code",
   "execution_count": null,
   "id": "cda044b5-75ba-45d6-a7b5-0853b6f66d36",
   "metadata": {},
   "outputs": [],
   "source": [
    "sizex <- 1e4"
   ]
  },
  {
   "cell_type": "markdown",
   "id": "19d79f84-0b3a-4ae0-ace1-45a06ad8de7c",
   "metadata": {},
   "source": [
    "We get a sample and normalize the sample to fix the mean and variance to 0 and 1:"
   ]
  },
  {
   "cell_type": "code",
   "execution_count": null,
   "id": "15449b06-7960-4d3e-abf9-25d5b07a1053",
   "metadata": {},
   "outputs": [],
   "source": [
    "samp1 <- normalize(rnorm(sizex))"
   ]
  },
  {
   "cell_type": "markdown",
   "id": "1748fa4e-bb37-4c10-9591-f9681857d56d",
   "metadata": {},
   "source": [
    "The mean and moments are:"
   ]
  },
  {
   "cell_type": "code",
   "execution_count": null,
   "id": "d1878199-39ee-40d8-9003-6c82c3c423df",
   "metadata": {},
   "outputs": [],
   "source": [
    "mean(samp1)\n",
    "sd(samp1)\n",
    "var(samp1)\n",
    "skewness(samp1)\n",
    "kurtosis(samp1)"
   ]
  },
  {
   "cell_type": "markdown",
   "id": "7a00e84f-55b4-4f25-862e-8633cc55bf48",
   "metadata": {},
   "source": [
    "Kurtosis of the sample is very close to 3"
   ]
  },
  {
   "cell_type": "markdown",
   "id": "7da00dba-ebaa-427c-9fd1-aec9e219d612",
   "metadata": {},
   "source": [
    "The entropy is:"
   ]
  },
  {
   "cell_type": "code",
   "execution_count": null,
   "id": "ca1df782-1f60-4209-9ebb-2cce18c60965",
   "metadata": {},
   "outputs": [],
   "source": [
    "sminorm <- smix3(samp1, gran)\n",
    "sminorm"
   ]
  },
  {
   "cell_type": "markdown",
   "id": "a6586015-44cb-46a9-9e56-ccf630171b49",
   "metadata": {},
   "source": [
    "The maximum entropy that can be attained by getting probabilities for 1000 values is:"
   ]
  },
  {
   "cell_type": "code",
   "execution_count": null,
   "id": "03937916-6d26-4dd1-adbd-af6a826f55b2",
   "metadata": {},
   "outputs": [],
   "source": [
    "log2(gran)"
   ]
  },
  {
   "cell_type": "markdown",
   "id": "7af8175b-2e22-44bb-aa39-28d7eeb55fac",
   "metadata": {},
   "source": [
    "That can be attained by uniform distribution."
   ]
  },
  {
   "cell_type": "markdown",
   "id": "7a857cb0-5b9e-4727-9449-688a3e431d16",
   "metadata": {},
   "source": [
    "Now let's pick some df values:"
   ]
  },
  {
   "cell_type": "code",
   "execution_count": null,
   "id": "d0d766eb-7bc6-42d4-bfea-3a92746d525d",
   "metadata": {},
   "outputs": [],
   "source": [
    "dfs <- c(1:100)"
   ]
  },
  {
   "cell_type": "markdown",
   "id": "33f30117-b5c2-49e1-b099-3b33b5e0955c",
   "metadata": {},
   "source": [
    "And a function to get samples and calculate the kurtosis and entropy values for each df from t distribution. With normalization it is ensured that the mean and variance of the t distributed samples are 0 and 1:"
   ]
  },
  {
   "cell_type": "code",
   "execution_count": null,
   "id": "a266eb1c-b3aa-478e-8bd4-62655b94be48",
   "metadata": {},
   "outputs": [],
   "source": [
    "gettd <- function(dfx, szx, grn)\n",
    "{\n",
    "    samp1b <- normalize(rt(szx, dfx))\n",
    "    list(samp = samp1b, dfx = dfx, kurtos = kurtosis(samp1b), smi = smix3(samp1b, grn))\n",
    "}"
   ]
  },
  {
   "cell_type": "markdown",
   "id": "89d2fbea-1df5-43bb-8273-f3579bdbac1c",
   "metadata": {},
   "source": [
    "Create the samples and get the values:"
   ]
  },
  {
   "cell_type": "code",
   "execution_count": null,
   "id": "d5436783-d1f6-4d4c-b00b-dbd79f1c842c",
   "metadata": {},
   "outputs": [],
   "source": [
    "tdistvals <- lapply(dfs, gettd, sizex, gran)"
   ]
  },
  {
   "cell_type": "markdown",
   "id": "4b0f0ed7-8430-4fac-930d-12e4eb566ce7",
   "metadata": {},
   "source": [
    "Now let's first view the distributions:"
   ]
  },
  {
   "cell_type": "code",
   "execution_count": null,
   "id": "d8ae4a52-33cd-49dd-8758-9427d9543e27",
   "metadata": {},
   "outputs": [],
   "source": [
    "tdistsamp <- tdistvals %>% list.select(dfx, samp)"
   ]
  },
  {
   "cell_type": "code",
   "execution_count": null,
   "id": "f3bc490a-2d82-4ee5-a48d-5c2cb40da501",
   "metadata": {},
   "outputs": [],
   "source": [
    "tdistsamp <- tdistsamp %>% rbindlist"
   ]
  },
  {
   "cell_type": "markdown",
   "id": "a88b8624-9653-4c14-9ff0-52e403e418e8",
   "metadata": {},
   "source": [
    "Select some of the degrees of freedom and overlap the density plots:"
   ]
  },
  {
   "cell_type": "code",
   "execution_count": null,
   "id": "acce10ca-3c27-4a72-94ea-081b8f102f5c",
   "metadata": {},
   "outputs": [],
   "source": [
    "tdist1 <- tdistsamp %>%\n",
    "filter(dfx %in% c(3, 5, 10, 50, 100)) %>%\n",
    "mutate_at(\"dfx\", factor) %>%\n",
    "ggplot(aes(x = samp, color = dfx)) +\n",
    "geom_density() +\n",
    "coord_cartesian(xlim = c(-4, 4))# +\n",
    "#guides(color = \"none\")"
   ]
  },
  {
   "cell_type": "code",
   "execution_count": null,
   "id": "bf4bc396-409c-4105-9648-0f1335123e20",
   "metadata": {},
   "outputs": [],
   "source": [
    "ggplotly(tdist1)"
   ]
  },
  {
   "cell_type": "markdown",
   "id": "b35b0c2a-5740-4708-9e74-af81ce8afb95",
   "metadata": {},
   "source": [
    "t distributions with lower degrees of freedom are more *peaked* and *tailed*: More values concentrated around the mean with more outliers."
   ]
  },
  {
   "cell_type": "markdown",
   "id": "8bf91c81-90c3-445b-b2e6-86fa391f22a1",
   "metadata": {},
   "source": [
    "Now let's extract the kurtosis and entropy values:"
   ]
  },
  {
   "cell_type": "code",
   "execution_count": null,
   "id": "38fce9bc-9bd9-4425-bee2-19f206df8268",
   "metadata": {},
   "outputs": [],
   "source": [
    "tdistvals2 <- tdistvals %>% rlist::list.select(dfx, kurtos, smi)"
   ]
  },
  {
   "cell_type": "code",
   "execution_count": null,
   "id": "2ef34c57-5367-4e24-a57b-f4f994408f29",
   "metadata": {},
   "outputs": [],
   "source": [
    "tdistvals2 <- tdistvals2 %>% rbindlist"
   ]
  },
  {
   "cell_type": "markdown",
   "id": "85f5dcbc-b632-4d4f-955b-da06100eeba5",
   "metadata": {},
   "source": [
    "Let's draw those values. The horizontal lines are the kurtosis of normal distribution at 3 and the calculated entropy of the normally distributed sample:"
   ]
  },
  {
   "cell_type": "code",
   "execution_count": null,
   "id": "b768d19d-f51e-4870-899f-deb16260364c",
   "metadata": {},
   "outputs": [],
   "source": [
    "tdist2 <- tdistvals2 %>%\n",
    "pivot_longer(cols = -\"dfx\") %>%\n",
    "ggplot(aes(x = dfx, y = value, color = name)) +\n",
    "geom_line() +\n",
    "coord_cartesian(ylim = c(0, 12)) +\n",
    "geom_hline(yintercept = c(3, sminorm))"
   ]
  },
  {
   "cell_type": "code",
   "execution_count": null,
   "id": "8dc38f62-c9ce-4422-9af3-51ae0341fc40",
   "metadata": {},
   "outputs": [],
   "source": [
    "ggplotly(tdist2)"
   ]
  },
  {
   "cell_type": "markdown",
   "id": "fe1afbc1-771d-4e16-a0bd-ca4adad20970",
   "metadata": {},
   "source": [
    "We see that the entropy of t distribution with 1 df - which is in fact Cauchy distribution - is quite low while it almost converges to that of normal distribution starting from 15 df. The kurtosis converges to 3 as entropy converges to the normal distribution's level."
   ]
  },
  {
   "cell_type": "markdown",
   "id": "5db45110-fdca-4fba-8e1a-3535fe35e062",
   "metadata": {},
   "source": [
    "This simulation also shows that normal distribution is the maximum entropy distribution with fixed variance."
   ]
  }
 ],
 "metadata": {
  "kernelspec": {
   "display_name": "R",
   "language": "R",
   "name": "ir"
  },
  "language_info": {
   "codemirror_mode": "r",
   "file_extension": ".r",
   "mimetype": "text/x-r-source",
   "name": "R",
   "pygments_lexer": "r",
   "version": "4.5.1"
  }
 },
 "nbformat": 4,
 "nbformat_minor": 5
}
