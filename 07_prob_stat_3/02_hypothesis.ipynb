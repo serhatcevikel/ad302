{
 "cells": [
  {
   "cell_type": "markdown",
   "id": "58b6cb30-33e4-4cd0-8823-263043e94209",
   "metadata": {},
   "source": [
    "<font size=\"6\"><b>TO REJECT OR NOT TO REJECT: STATISTICAL INFERENCE AND HYPOTHESIS TESTING</b></font>\n",
    "\n",
    "<font size=\"5\"><b>Serhat Çevikel</b></font>"
   ]
  },
  {
   "cell_type": "code",
   "execution_count": null,
   "id": "02a7ffa2-05c2-4b04-8c5d-9afe14e4dd86",
   "metadata": {},
   "outputs": [],
   "source": [
    "library(data.table)\n",
    "library(tidyverse)\n",
    "library(BBmisc)\n",
    "library(plotly)\n",
    "library(DescTools)\n",
    "library(moments)"
   ]
  },
  {
   "cell_type": "code",
   "execution_count": null,
   "id": "413f0754-0ed1-4f6c-a715-2580b24bd7d4",
   "metadata": {},
   "outputs": [],
   "source": [
    "options(repr.matrix.max.rows=20, repr.matrix.max.cols=15) # for limiting the number of top and bottom rows of tables printed "
   ]
  },
  {
   "cell_type": "markdown",
   "id": "09bc9c30-ba33-4b2a-8e27-4961865a13af",
   "metadata": {},
   "source": [
    "![entropy](../imagesba/p_values.png)\n",
    "\n",
    "(https://xkcd.com/1478/)"
   ]
  },
  {
   "cell_type": "markdown",
   "id": "d341eeeb-16a5-45cf-acc2-41b13b1fea7d",
   "metadata": {},
   "source": [
    "In this session, we will focus on a fundamental application of statistical inference:\n",
    "\n",
    "Take a sample of values, and test whether the sample is from a hypothesized population.\n",
    "\n",
    "We will cover topics such as hypothesis testing, null and alternative hypotheses, confidence intervals, p-values, Type I and Type II error and power of test.\n",
    "\n",
    "We will start with the easiest case: A sample of values and a population with a known standard deviation to test against."
   ]
  },
  {
   "cell_type": "markdown",
   "id": "59bfc906-c4cd-446e-b27f-0c6b0714d6aa",
   "metadata": {},
   "source": [
    "# One sample - Known population standard deviation"
   ]
  },
  {
   "cell_type": "markdown",
   "id": "3665fae5-9bf2-448f-92ec-626c2b166c2f",
   "metadata": {},
   "source": [
    "## Small Sample"
   ]
  },
  {
   "cell_type": "markdown",
   "id": "2aed80b5-d444-4688-8620-34a82dea527a",
   "metadata": {},
   "source": [
    "Let's start with a simple setting:\n",
    "\n",
    "- We have a sample of values of a certain size\n",
    "- We want to test whether the sample is from a certain hypothesized population with a known mean and $\\sigma$\n",
    "\n",
    "- From the CLT we know that, whatever shape the population distribution has, the distribution of sample means (sampling distribution) converges to normal distribution as size of samples $n$ gets larger and the standard deviation of the sample means - standard error - obeys the square root law:\n",
    "\n",
    "${\\displaystyle \\sigma _{\\bar {x}}={\\sqrt {\\frac {\\sigma ^{2}}{n}}}={\\frac {\\sigma }{\\sqrt {n}}}}$\n",
    "\n",
    "- To understand the concepts better we will draw multiple samples from the population and later on we will add more features into our simulation."
   ]
  },
  {
   "cell_type": "markdown",
   "id": "a304421a-99c2-46c2-b82c-b941a79bd87c",
   "metadata": {},
   "source": [
    "First, let's set some parameters for the first population (we will add more populations later on) and the samples:"
   ]
  },
  {
   "cell_type": "markdown",
   "id": "3397aec8-ca2e-4feb-b02a-5886860c783d",
   "metadata": {},
   "source": [
    "The size, mean and $\\sigma$ for population 1:"
   ]
  },
  {
   "cell_type": "code",
   "execution_count": null,
   "id": "c16a87d8-f3e7-4f3d-bbe6-e9beb3bde5b5",
   "metadata": {},
   "outputs": [],
   "source": [
    "popsize <- 1e5\n",
    "pop1mu <- 0\n",
    "pop1sd <- 1"
   ]
  },
  {
   "cell_type": "markdown",
   "id": "5d3502f5-dc86-41c0-b726-f000f5c53974",
   "metadata": {},
   "source": [
    "Number of samples and size of each sample:"
   ]
  },
  {
   "cell_type": "code",
   "execution_count": null,
   "id": "b9093f80-ea0b-4c4a-a49e-510cdbee3a52",
   "metadata": {},
   "outputs": [],
   "source": [
    "nsamps <- 1e2\n",
    "sizesamp <- 10 # 25"
   ]
  },
  {
   "cell_type": "markdown",
   "id": "38c3b610-9526-41cd-8dc9-27f77e4593b2",
   "metadata": {},
   "source": [
    "Let's create the first population and ensure that it obeys the parameters we set:"
   ]
  },
  {
   "cell_type": "code",
   "execution_count": null,
   "id": "102d30d2-74f3-4f3f-ba05-8c62522b66cb",
   "metadata": {},
   "outputs": [],
   "source": [
    "set.seed(1)\n",
    "pop1 <- normalize(rnorm(popsize))\n",
    "pop1 <- pop1 * pop1sd + pop1mu"
   ]
  },
  {
   "cell_type": "code",
   "execution_count": null,
   "id": "6b58f89d-28a7-4491-beff-33746b881e3e",
   "metadata": {},
   "outputs": [],
   "source": [
    "summary(pop1)"
   ]
  },
  {
   "cell_type": "code",
   "execution_count": null,
   "id": "c93acc49-d4e3-482f-99a0-af66ceb653f3",
   "metadata": {},
   "outputs": [],
   "source": [
    "sd(pop1)"
   ]
  },
  {
   "cell_type": "code",
   "execution_count": null,
   "id": "9084007f-0741-4823-8140-d4446521fb70",
   "metadata": {},
   "outputs": [],
   "source": [
    "hist(pop1)"
   ]
  },
  {
   "cell_type": "markdown",
   "id": "502c9a4f-531c-473f-b81a-c51e4c4362a1",
   "metadata": {},
   "source": [
    "Now let's draw the samples from population 1:"
   ]
  },
  {
   "cell_type": "code",
   "execution_count": null,
   "id": "2f5f5ff6-ad61-4cc7-b25b-5348a82d5cc6",
   "metadata": {},
   "outputs": [],
   "source": [
    "set.seed(2)\n",
    "samps1 <- replicate(nsamps, sample(pop1, sizesamp), simplify = F)"
   ]
  },
  {
   "cell_type": "markdown",
   "id": "3368ed95-9be6-489f-a46c-5d9c85b66cb4",
   "metadata": {},
   "source": [
    "And get the sampling distribution:"
   ]
  },
  {
   "cell_type": "code",
   "execution_count": null,
   "id": "0b5b81f0-81dd-4717-b5b7-efe0f658ad16",
   "metadata": {},
   "outputs": [],
   "source": [
    "sampmus1 <- sapply(samps1, mean)"
   ]
  },
  {
   "cell_type": "code",
   "execution_count": null,
   "id": "adf17ce0-4d5d-4119-8dd2-d2635c5240d8",
   "metadata": {},
   "outputs": [],
   "source": [
    "summary(sampmus1)"
   ]
  },
  {
   "cell_type": "code",
   "execution_count": null,
   "id": "fe323a04-0873-485b-ab7f-534e014b750f",
   "metadata": {},
   "outputs": [],
   "source": [
    "sd(sampmus1)"
   ]
  },
  {
   "cell_type": "code",
   "execution_count": null,
   "id": "0e5ae68b-944c-4da6-a589-e820b05312be",
   "metadata": {},
   "outputs": [],
   "source": [
    "hist(sampmus1)"
   ]
  },
  {
   "cell_type": "markdown",
   "id": "8d189bf9-8634-4d71-a3c9-e9a44a2d42d8",
   "metadata": {},
   "source": [
    "We see that even with a size of $n$, the sampling distribution is close to normal distribution and the standard error obeys the square root law:"
   ]
  },
  {
   "cell_type": "code",
   "execution_count": null,
   "id": "476bc9e1-896b-41fa-a1b7-b7fa41eff075",
   "metadata": {},
   "outputs": [],
   "source": [
    "pop1mu / sqrt(sizesamp)"
   ]
  },
  {
   "cell_type": "markdown",
   "id": "21bdd205-46ec-4668-83d7-10f90fadf59c",
   "metadata": {},
   "source": [
    "Now let's combine the population, the samples and the sampling distribution into a large table with some additional identifiers:"
   ]
  },
  {
   "cell_type": "code",
   "execution_count": null,
   "id": "d56f0219-da4f-4b6f-8532-f4da454d1665",
   "metadata": {},
   "outputs": [],
   "source": [
    "pop1dt <- data.table(vals = pop1, pop = 1, ind = 0, type = \"pop\")\n",
    "samps1dt <- mapply(function(x, y) data.table(vals = x, ind = y), samps1, seq_along(samps1), SIMPLIFY = F) %>% rbindlist\n",
    "samps1dt[, (c(\"pop\", \"type\")) := .(1, \"samp\")]\n",
    "sampmus1dt <- data.table(vals = sampmus1, pop = 1, ind = 1, type = \"sampmu\")\n",
    "sampdist_dt <- rbind(pop1dt, samps1dt, sampmus1dt)\n",
    "popmus <- data.table(pop = 1, popmu = c(pop1mu), popsd = c(pop1sd))          \n",
    "sampdist_dt <- sampdist_dt %>% left_join(popmus, by = \"pop\")# %>% left_join(lwdt, by = \"type\")"
   ]
  },
  {
   "cell_type": "markdown",
   "id": "22430443-0f55-4a50-9b6f-d4c7c7f7af98",
   "metadata": {},
   "source": [
    "Remember the shape of normal distribution:"
   ]
  },
  {
   "cell_type": "code",
   "execution_count": null,
   "id": "1b854143-c468-4c94-b12b-e7a612d7efe7",
   "metadata": {},
   "outputs": [],
   "source": [
    "qvals1 <- seq(-4, 4, 0.05)"
   ]
  },
  {
   "cell_type": "code",
   "execution_count": null,
   "id": "7d641657-2fef-4685-ac8b-e15eef3ea960",
   "metadata": {},
   "outputs": [],
   "source": [
    "p1 <- plot_ly(x = qvals1, y = round(dnorm(qvals1), 3), type = \"scatter\", mode = \"lines\") %>%\n",
    "  layout(\n",
    "    xaxis = list(\n",
    "      showspikes = TRUE, \n",
    "      spikemode = \"across\", \n",
    "      spikesnap = \"cursor\", \n",
    "      spikethickness = 1.5,\n",
    "      spikecolor = \"red\"\n",
    "    ),\n",
    "    yaxis = list(showspikes = FALSE)\n",
    "  )\n",
    "\n",
    "p2 <- plot_ly(x = qvals1, y = round(pnorm(qvals1), 3), type = \"scatter\", mode = \"lines\") %>%\n",
    "  layout(\n",
    "    xaxis = list(\n",
    "      showspikes = TRUE, \n",
    "      spikemode = \"across\", \n",
    "      spikesnap = \"cursor\", \n",
    "      spikethickness = 1.5,\n",
    "      spikecolor = \"red\"\n",
    "    ),\n",
    "    yaxis = list(showspikes = FALSE)\n",
    "  )\n",
    "\n",
    "subplot(p1, p2, nrows = 2, shareX = TRUE) %>%\n",
    "  layout(\n",
    "      title = \"Standard Normal Distribution\",\n",
    "    hovermode = \"x unified\",\n",
    "      annotations = list(\n",
    " list(y = 0.9, text = \"Probability Density Function\", showarrow = F, xref='paper', yref='paper'),\n",
    "  list(y = 0.3, text = \"Cumulative Distribution Function\", showarrow = F, xref='paper', yref='paper'))\n",
    "  )\n"
   ]
  },
  {
   "cell_type": "markdown",
   "id": "a245131c-fc5c-4b6d-b550-b8b9848bfd7e",
   "metadata": {},
   "source": [
    "The probability of values away from the mean is lower, but how much lower?"
   ]
  },
  {
   "cell_type": "markdown",
   "id": "fb7b5e3b-bdd9-4cda-8e0c-7299b7ac7d41",
   "metadata": {},
   "source": [
    "Suppose we want to get the range of z-scores - quantile values of standard normal distribution of $\\mu = 0$ and $\\sigma = 1$ that are within a certain probability.\n",
    "\n",
    "The support for the normal distribution is the whole continuum. So any value in this continuum has a non zero probability of being within any normal distribution, albeit the probabilities will converge zero after a certain distance from the mean.\n",
    "\n",
    "However we may want to limit range of possible values with a certain probability. Let's say we want to trim two-sided tails with total probability $\\alpha = 0.05$. The meaning of $\\alpha$ is the probability that the values will be more extreme (away from the mean) than the quantiles at that probability. So the tail areas with 0.025 probability will be trimmed from the respective quantiles. So with 95% probability the values in this distribution will be within these quantile values:"
   ]
  },
  {
   "cell_type": "code",
   "execution_count": null,
   "id": "ebd6c918-9c47-4e89-8370-f843bbdd0354",
   "metadata": {},
   "outputs": [],
   "source": [
    "qnorm(c(0.025, 1 - 0.025))"
   ]
  },
  {
   "cell_type": "markdown",
   "id": "7cf34212-1153-41f2-82d9-299c82c19ab9",
   "metadata": {},
   "source": [
    "Now we will add the quantile information for some certain p-values - the two-sided areas under the tail of the normal distribution:"
   ]
  },
  {
   "cell_type": "code",
   "execution_count": null,
   "id": "e4842849-c2a8-46c7-837c-f77fe721f0e0",
   "metadata": {},
   "outputs": [],
   "source": [
    "sampdist_dt[1, line001l := qnorm(0.01/2, popmu, popsd /sqrt(sizesamp))]\n",
    "sampdist_dt[1, line005l := qnorm(0.05/2, popmu, popsd /sqrt(sizesamp))]\n",
    "sampdist_dt[1, line010l := qnorm(0.1/2, popmu, popsd /sqrt(sizesamp))]"
   ]
  },
  {
   "cell_type": "code",
   "execution_count": null,
   "id": "dfc8efe8-c971-4d7f-8112-9139a70f6f70",
   "metadata": {},
   "outputs": [],
   "source": [
    "sampdist_dt[1, line001r := qnorm(0.01/2, popmu, popsd /sqrt(sizesamp), lower.tail = F)]\n",
    "sampdist_dt[1, line005r := qnorm(0.05/2, popmu, popsd /sqrt(sizesamp), lower.tail = F)]\n",
    "sampdist_dt[1, line010r := qnorm(0.1/2, popmu, popsd /sqrt(sizesamp), lower.tail = F)]"
   ]
  },
  {
   "cell_type": "markdown",
   "id": "4cd416c8-f573-47ed-a7d7-87d66310909b",
   "metadata": {},
   "source": [
    "And last, we create a unique group id to generate a separate density plot for each distribution:"
   ]
  },
  {
   "cell_type": "code",
   "execution_count": null,
   "id": "9a675083-d52f-4da4-81df-092d7a150a8d",
   "metadata": {},
   "outputs": [],
   "source": [
    "sampdist_dt[, ind2 := .GRP, by = c(\"ind\", \"type\", \"pop\")]"
   ]
  },
  {
   "cell_type": "markdown",
   "id": "932f5a4b-e9c5-404c-9676-9da41ba9bcf8",
   "metadata": {},
   "source": [
    "Now we will create a plot that shows the:\n",
    "\n",
    "- Density of the population\n",
    "- Density of each sample\n",
    "- Density of sample means (sampling distribution)\n",
    "- Vertical lines showing quantiles for the left and right tail areas/probabilities of $\\alpha = 0.005, 0.025, 0.05$ for the sampling distribution of the size 10 samples out of the population 1"
   ]
  },
  {
   "cell_type": "code",
   "execution_count": null,
   "id": "53968626-3cd9-4196-abaf-71140cfa6a0a",
   "metadata": {},
   "outputs": [],
   "source": [
    "p1 <- sampdist_dt %>%\n",
    "mutate_at(\"vals\", round, 4) %>%\n",
    "mutate_at(\"pop\", factor) %>%\n",
    "mutate_at(\"type\", factor, levels = c(\"pop\", \"sampmu\", \"samp\")) %>%\n",
    "ggplot(aes(x = vals, color = pop)) +\n",
    "geom_density(aes(linewidth = type, group = ind2), adjust = 2) +\n",
    "geom_vline(aes(xintercept = popmu, color = pop)) +\n",
    "geom_vline(aes(xintercept = line010l, color = pop), linetype = 5) +\n",
    "geom_vline(aes(xintercept = line010r, color = pop), linetype = 5) +\n",
    "geom_vline(aes(xintercept = line005l, color = pop), linetype = 2) +\n",
    "geom_vline(aes(xintercept = line005r, color = pop), linetype = 2) +\n",
    "geom_vline(aes(xintercept = line001l, color = pop), linetype = 3) +\n",
    "geom_vline(aes(xintercept = line001r, color = pop), linetype = 3) +\n",
    "scale_linewidth_manual(values = c(pop = 1, sampmu = 0.5, samp = 0.02)) +\n",
    "scale_color_manual(values = c(\"1\" = \"red\", \"2\" = \"blue\")) +\n",
    "xlim(c(-5, 5))\n",
    "\n",
    "p1p <- ggplotly(p1)  %>%\n",
    "          layout(legend = list(orientation = \"h\",\n",
    "                     xanchor = \"center\",\n",
    "                     x = 0.5, y = -0.6, title = list(text=NULL)), height = 600)"
   ]
  },
  {
   "cell_type": "markdown",
   "id": "1dd05887-740d-4fe3-a0e0-219b8df11a8d",
   "metadata": {},
   "source": [
    "And we will also create a separate chart that shows the tail probabilities for the sampling distribution. The tail probability is two times the smaller of p-value and 1 - p-value calculated for a quantile. We add the vertical lines for the quantiles at certain left and right tail areas/probabilities of $\\alpha = 0.005, 0.025, 0.05$:"
   ]
  },
  {
   "cell_type": "code",
   "execution_count": null,
   "id": "0ef71ca2-750b-4565-89ed-32a9f61c58b9",
   "metadata": {},
   "outputs": [],
   "source": [
    "qvals <- seq(-5, 5, 0.01)\n",
    "pop1pdt <- data.table(qvals, pop1p = pnorm(qvals, pop1mu, pop1sd / sqrt(sizesamp)) %>% round(3), pop = 1)\n",
    "pop1pdt[, pop1p := round(2 * pmin(pop1p, 1 - pop1p), 3)]\n",
    "pop1pdt[1, line001l := qnorm(0.01/2, pop1mu, pop1sd /sqrt(sizesamp)) %>% round(3)]\n",
    "pop1pdt[1, line005l := qnorm(0.05/2, pop1mu, pop1sd /sqrt(sizesamp)) %>% round(3)]\n",
    "pop1pdt[1, line010l := qnorm(0.10/2, pop1mu, pop1sd /sqrt(sizesamp)) %>% round(3)]\n",
    "pop1pdt[1, line001r := qnorm(0.01/2, pop1mu, pop1sd /sqrt(sizesamp), lower.tail = F) %>% round(3)]\n",
    "pop1pdt[1, line005r := qnorm(0.05/2, pop1mu, pop1sd /sqrt(sizesamp), lower.tail = F) %>% round(3)]\n",
    "pop1pdt[1, line010r := qnorm(0.10/2, pop1mu, pop1sd /sqrt(sizesamp), lower.tail = F) %>% round(3)]\n",
    "p2 <- pop1pdt %>% ggplot(aes(x = qvals, y = pop1p)) +\n",
    "geom_line(color = \"red\") +\n",
    "geom_vline(aes(xintercept = line010l), linetype = 5, color = \"red\") +\n",
    "geom_vline(aes(xintercept = line005l), linetype = 2, color = \"red\") +\n",
    "geom_vline(aes(xintercept = line001l), linetype = 3, color = \"red\") +\n",
    "geom_vline(aes(xintercept = line010r), linetype = 5, color = \"red\") +\n",
    "geom_vline(aes(xintercept = line005r), linetype = 2, color = \"red\") +\n",
    "geom_vline(aes(xintercept = line001r), linetype = 3, color = \"red\")\n",
    "p2p <- ggplotly(p2)"
   ]
  },
  {
   "cell_type": "markdown",
   "id": "c2a0f78f-92bb-4127-9198-8128d50370ea",
   "metadata": {},
   "source": [
    "Now we will create a third plot that shows the absolute Z-scores of quantile values calculated using the population mean and standard error of the sampling distribution. The Z-scores for at certain two-sided probabilities of $\\alpha = 0.005, 0.025, 0.05$ are also added as vertical lines. These lines are considered as critical values:"
   ]
  },
  {
   "cell_type": "code",
   "execution_count": null,
   "id": "fad3306b-bcaf-4060-8090-ae60fdf8e795",
   "metadata": {},
   "outputs": [],
   "source": [
    "qvals <- seq(-5, 5, 0.01)\n",
    "pop1zdt <- data.table(qvals, pop1z = abs((qvals - pop1mu) / (pop1sd / sqrt(sizesamp))) %>% round(3), pop = 1)\n",
    "pop1zdt[1, line001l := qnorm(0.01/2, lower.tail = F)]\n",
    "pop1zdt[1, line005l := qnorm(0.05/2, lower.tail = F)]\n",
    "pop1zdt[1, line010l := qnorm(0.10/2, lower.tail = F)]\n",
    "p3 <- pop1zdt %>% ggplot(aes(x = qvals, y = pop1z)) +\n",
    "geom_line(color = \"red\") +\n",
    "geom_hline(aes(yintercept = line010l), linetype = 5, color = \"black\") +\n",
    "geom_hline(aes(yintercept = line005l), linetype = 2, color = \"black\") +\n",
    "geom_hline(aes(yintercept = line001l), linetype = 3, color = \"black\")\n",
    "p3p <- ggplotly(p3)"
   ]
  },
  {
   "cell_type": "markdown",
   "id": "17f39665-2fd8-48ff-a88c-71a29f185f24",
   "metadata": {},
   "source": [
    "Now a fourth plot is created that shows the confidence intervals, for each quantile value the lower and upper bounds that are within confidence level, or total probability around the mean which is $1 - \\alpha$ for different $\\alpha = 0.005, 0.025, 0.05$ values. The population is mean is shown as the horizontal black line:"
   ]
  },
  {
   "cell_type": "code",
   "execution_count": null,
   "id": "c96c6c54-8ae9-4dc9-bc07-1b9c24a2a5db",
   "metadata": {},
   "outputs": [],
   "source": [
    "qvals <- seq(-5, 5, 0.01)\n",
    "pop1cidt <- data.table(qvals, pop1p = pnorm(qvals, pop1mu, pop1sd / sqrt(sizesamp)), pop = 1)\n",
    "pop1cidt[, line001l := qnorm(0.01/2, qvals, pop1sd /sqrt(sizesamp)) %>% round(3)]\n",
    "pop1cidt[, line005l := qnorm(0.05/2, qvals, pop1sd /sqrt(sizesamp)) %>% round(3)]\n",
    "pop1cidt[, line010l := qnorm(0.10/2, qvals, pop1sd /sqrt(sizesamp)) %>% round(3)]\n",
    "pop1cidt[, line001r := qnorm(0.01/2, qvals, pop1sd /sqrt(sizesamp), lower.tail = F) %>% round(3)]\n",
    "pop1cidt[, line005r := qnorm(0.05/2, qvals, pop1sd /sqrt(sizesamp), lower.tail = F) %>% round(3)]\n",
    "pop1cidt[, line010r := qnorm(0.10/2, qvals, pop1sd /sqrt(sizesamp), lower.tail = F) %>% round(3)]\n",
    "p4 <- pop1cidt %>% ggplot(aes(x = qvals)) +\n",
    "geom_line(aes(y = line010l), linetype = 5, color = \"red\") +\n",
    "geom_line(aes(y = line005l), linetype = 2, color = \"red\") +\n",
    "geom_line(aes(y = line001l), linetype = 3, color = \"red\") +\n",
    "geom_line(aes(y = line010r), linetype = 5, color = \"red\") +\n",
    "geom_line(aes(y = line005r), linetype = 2, color = \"red\") +\n",
    "geom_line(aes(y = line001r), linetype = 3, color = \"red\") +\n",
    "geom_hline(yintercept = pop1mu, color = \"black\")\n",
    "p4p <- ggplotly(p4)"
   ]
  },
  {
   "cell_type": "markdown",
   "id": "0fcdd800-ff81-4d94-950f-631e1598b5ec",
   "metadata": {},
   "source": [
    "And we combine these four plots in tandem with parallel spikes that show the values at the quantile on hover:"
   ]
  },
  {
   "cell_type": "code",
   "execution_count": null,
   "id": "3dc717ac-57b4-4a5c-9365-05c2d8f3d342",
   "metadata": {},
   "outputs": [],
   "source": [
    "p1p2 <- p1p %>%\n",
    "  layout(\n",
    "    xaxis = list(\n",
    "      showspikes = TRUE, \n",
    "      spikemode = \"across\", \n",
    "      spikesnap = \"cursor\", \n",
    "      spikethickness = 1.5,\n",
    "      spikecolor = \"black\"\n",
    "    ),\n",
    "    yaxis = list(showspikes = FALSE)\n",
    "  )\n",
    "\n",
    "p2p2 <- p2p %>%\n",
    "  layout(\n",
    "    xaxis = list(\n",
    "      showspikes = TRUE, \n",
    "      spikemode = \"across\", \n",
    "      spikesnap = \"cursor\", \n",
    "      spikethickness = 1.5,\n",
    "      spikecolor = \"black\"\n",
    "    ),\n",
    "    yaxis = list(showspikes = FALSE)\n",
    "  )\n",
    "\n",
    "p3p2 <- p3p %>%\n",
    "  layout(\n",
    "    xaxis = list(\n",
    "      showspikes = TRUE, \n",
    "      spikemode = \"across\", \n",
    "      spikesnap = \"cursor\", \n",
    "      spikethickness = 1.5,\n",
    "      spikecolor = \"black\"\n",
    "    ),\n",
    "    yaxis = list(showspikes = FALSE)\n",
    "  )\n",
    "\n",
    "p4p2 <- p4p %>%\n",
    "  layout(\n",
    "    xaxis = list(\n",
    "      showspikes = TRUE, \n",
    "      spikemode = \"across\", \n",
    "      spikesnap = \"cursor\", \n",
    "      spikethickness = 1.5,\n",
    "      spikecolor = \"black\"\n",
    "    ),\n",
    "    yaxis = list(showspikes = FALSE)\n",
    "  )\n",
    "\n",
    "\n",
    "sp1 <- subplot(p1p2, p2p2, p3p2, p4p2, nrows = 4, shareX = TRUE) %>%\n",
    "  layout(\n",
    "      title = NULL,\n",
    "    hovermode = \"x unified\",\n",
    "      annotations = list(\n",
    "    list(y = 1, text = \"Sampling Distribution\", showarrow = F, xref='paper', yref='paper'),\n",
    "    list(y = 0.75, text = \"P-Value for Population 1\", showarrow = F, xref='paper', yref='paper'),\n",
    "    list(y = 0.5, text = \"Z-Value for Population 1\", showarrow = F, xref='paper', yref='paper'),\n",
    "    list(y = 0.25, text = \"Confidence Interval\", showarrow = F, xref='paper', yref='paper')),\n",
    "      height = 600\n",
    "  )\n"
   ]
  },
  {
   "cell_type": "markdown",
   "id": "7dec2c33-f17c-4f37-b72e-b77a48196b18",
   "metadata": {},
   "source": [
    "And let's show the resulting plot. You can hover over the values and get the information from all plots parallelly with the tooltips:"
   ]
  },
  {
   "cell_type": "code",
   "execution_count": null,
   "id": "ffa16d3a-9c18-4859-bc7b-2a1729a6733b",
   "metadata": {},
   "outputs": [],
   "source": [
    "sp1"
   ]
  },
  {
   "cell_type": "markdown",
   "id": "42a3ea6f-6753-439a-96ff-4359877b7a76",
   "metadata": {},
   "source": [
    "Now we will understand what these plots are telling but for short: They are basically showing the same thing from different point of views!"
   ]
  },
  {
   "cell_type": "markdown",
   "id": "d8b39517-919e-4f09-baca-d0fc7fb7b63b",
   "metadata": {},
   "source": [
    "The first plot shows the distribution of:\n",
    "\n",
    "- The population with boldest line\n",
    "- Separate samples with the thinnest filament like lines\n",
    "- The sample means (sampling distribution) with the bolder line. Sampling distribution is the more peaked one.\n",
    "\n",
    "As for the vertical lines:\n",
    "- The population mean is shown as the solid vertical bold line\n",
    "- The upper and lower limits for the two-sided tail probability $\\alpha = 0.1$ of the sampling distribution are shown as vertical longer dashed lines. The tail area under the extreme side of each line is $\\displaystyle \\frac{0.1}{2} = 0.05$.\n",
    "- The upper and lower limits for the two-sided tail probability $\\alpha = 0.05$ of the sampling distribution are shown as vertical shorter dashed lines. The tail area under the extreme side of each line is $\\displaystyle \\frac{0.05}{2} = 0.025$.\n",
    "- The upper and lower limits for the two-sided tail probability $\\alpha = 0.01$ of the sampling distribution are shown as vertical dotted lines. The tail area under the extreme side of each line is $\\displaystyle \\frac{0.01}{2} = 0.005$. "
   ]
  },
  {
   "cell_type": "markdown",
   "id": "75c9850c-651e-429f-a961-1bf669af5db4",
   "metadata": {},
   "source": [
    "The second plot shows:\n",
    "- The p-values, two-sided tail probability of the quantiles in the sampling distribution.\n",
    "- The same vertical lines in the first plot also appear here.\n",
    "\n",
    "- So the p-value is simply two times the minimum of cumulative probability $p$ or $1 - p$.\n",
    "- The p-value shows the probability that values can be more extreme - towards the tails - than the certain quantile value.\n",
    "- At the population mean the p-value is 1, so the probability that any quantile value is at least as extreme as the population mean is 1.\n",
    "- As we move away from the population mean p-values converge to zero.\n",
    "- When we hover over the vertical lines, we see that the p-values are 0.1, 0.05 and 0.01 respectively."
   ]
  },
  {
   "cell_type": "markdown",
   "id": "56b99acb-1a48-4424-938d-0be60391f286",
   "metadata": {},
   "source": [
    "The third plot shows:\n",
    "\n",
    "- The absolute value of standardized Z-scores of quantiles: The absolute difference of quantiles from the population mean divided by standard error ($\\mu$ of sampling distribution).\n",
    "- The horizontal lines shows the Z-scores of the limits that correspond to the two-sided tail probabilities of $\\alpha = 0.1, 0.05, 0.01$. These Z-scores are respectively:"
   ]
  },
  {
   "cell_type": "code",
   "execution_count": null,
   "id": "35a4af43-4ebc-4092-b87b-bd12a2220179",
   "metadata": {},
   "outputs": [],
   "source": [
    "round(qnorm(c(0.1, 0.05, 0.01)/2, lower.tail = F), 3)"
   ]
  },
  {
   "cell_type": "markdown",
   "id": "5525ec70-195e-40f8-b9fd-df6c7c48d340",
   "metadata": {},
   "source": [
    "When the p-value in the second plot is higher than certain alpha values, the Z-scores in the third plot are lower than the Z-scores that correspond to those alpha values."
   ]
  },
  {
   "cell_type": "markdown",
   "id": "ba219e79-d41d-4949-8e14-f16fb985ec85",
   "metadata": {},
   "source": [
    "The fourth plot shows the confidence intervals across quantile values for each alpha value and corresponding confidence level:\n",
    "\n",
    "- So the longer dashed lines shows the +/-1.645 * SE interval around the quantile values for $\\alpha = 0.1$ and confidence level of $1 - 0.1 = 0.9$\n",
    "- The longer shorter dashed lines shows the +/-1.96 * SE interval around the quantile values for $\\alpha = 0.05$ and confidence level of $1 - 0.05 = 0.95$\n",
    "- The dotted lines shows the +/-2.576 * SE interval around the quantile values for $\\alpha = 0.01$ and confidence level of $1 - 0.01 = 0.99$\n",
    "\n",
    "The horizontal line shows the population mean.\n",
    "\n",
    "When the p-value of a quantile is higher than a certain $\\alpha$ value in the second plot and the absolute Z-score is lower than those Z-scores that correspond to the $\\alpha$ values, than the population mean is within the lines that mark the interval for the confidence level $1 - \\alpha$."
   ]
  },
  {
   "cell_type": "markdown",
   "id": "a6a2a3cb-18bf-4c04-93cd-4066db189eff",
   "metadata": {},
   "source": [
    "Now let's come to some basic concepts:\n",
    "\n",
    "- The hypothesized population mean is $\\mu$, population standard deviation is $\\sigma$\n",
    "- The sample mean is $\\displaystyle \\bar {X}$, sample standard deviation is $s$.\n",
    "\n",
    "First of all since we want to test whether the sample is coming from the hypothesized population, we have to form hypotheses:\n",
    "\n",
    "- **Null hypothesis** (${\\textstyle H_{0}}$): Sample is coming from the population, $\\bar {X}$ is not significantly different than $\\mu$\n",
    "\n",
    "- **Alternative hypothesis** (${\\textstyle H_{a}}$): Sample is not coming from the population, $\\bar {X}$ is significantly different than $\\mu$"
   ]
  },
  {
   "cell_type": "markdown",
   "id": "7ae0d843-3c80-4002-a7c8-c130ccad5b04",
   "metadata": {},
   "source": [
    "So basically we will test whether the sample mean is significantly away from the population mean, considering the shape of sampling distribution which converges to normal distribution. Why *significantly*?\n",
    "\n",
    "The support of normal distribution is the whole continuum. So any value on the continuum has a non-zero probability of being within the sampling distribution. However the hypothesized population mean is not the only plausible value. As we move away from the population mean in ${\\textstyle H_{0}}$, the evidence's support for the null hypothesis decreases and alternative population mean values may become more plausible.\n",
    "\n",
    "For this reason we set a **significance level** $\\alpha$ in hypothesis testing. $\\alpha$ states the probability that any value can be more extreme (away from the population mean) than the quantiles that match the $\\alpha$ value.\n",
    "\n",
    "So, if \n",
    "\n",
    "- the sample mean is closer to the mean than the quantiles that match the $\\alpha$ value or\n",
    "- The tail probability of the sample mean is larger than $\\alpha$\n",
    "\n",
    "then we **do not reject** ${\\textstyle H_{0}}$ and not **accept** ${\\textstyle H_{a}}$.\n",
    "\n",
    "Why do we **not reject** ${\\textstyle H_{0}}$ insteaad of simply **accepting** it? Because there may be many plausible values for the population mean is $\\mu$ is just one of them (Agresti and Kateri 2021, Foundations of Statistics for Data Scientists, p.181).\n",
    "\n",
    "If \n",
    "\n",
    "- the sample mean is further away from the mean than the quantiles that match the $\\alpha$ value or\n",
    "- The tail probability of the sample mean is smaller than $\\alpha$\n",
    "\n",
    "then we **reject** ${\\textstyle H_{0}}$ and **accept** ${\\textstyle H_{a}}$.\n",
    "\n",
    "Why can we **accept** ${\\textstyle H_{a}}$? Because ${\\textstyle H_{a}}$ already contains all plausible population mean values other than $\\mu$ (Agresti and Kateri 2021, Foundations of Statistics for Data Scientists, p.181)."
   ]
  },
  {
   "cell_type": "markdown",
   "id": "71761106-dadb-4ba4-9546-2cb034911dc8",
   "metadata": {},
   "source": [
    "Now let's use the parameters that we set above to conduct two examples."
   ]
  },
  {
   "cell_type": "markdown",
   "id": "92c54554-46b6-4cb1-851d-b17e969b9785",
   "metadata": {},
   "source": [
    "Let's remember the population parameters and sample size:"
   ]
  },
  {
   "cell_type": "code",
   "execution_count": null,
   "id": "8510b534-4ce8-4d76-abed-bef45bd3061f",
   "metadata": {},
   "outputs": [],
   "source": [
    "pop1mu\n",
    "pop1sd\n",
    "sizesamp"
   ]
  },
  {
   "cell_type": "markdown",
   "id": "948074cf-0a8e-45d9-82f0-2a669f062bd2",
   "metadata": {},
   "source": [
    "Let's first calculate the standard error, the standard deviation of the sampling distribution:"
   ]
  },
  {
   "cell_type": "code",
   "execution_count": null,
   "id": "9695f9c9-61db-4f21-8f2b-844a8c3e7fd9",
   "metadata": {},
   "outputs": [],
   "source": [
    "se1 <- pop1sd / sqrt(sizesamp)\n",
    "se1"
   ]
  },
  {
   "cell_type": "markdown",
   "id": "406087bc-a3a2-4c42-9950-efd8441f0ea4",
   "metadata": {},
   "source": [
    "Let's set the significance level $\\alpha$ to 0.05 and conduct a two-sided test, so we will test whether a sample mean value is significantly away from the population in any direction, left or right:"
   ]
  },
  {
   "cell_type": "code",
   "execution_count": null,
   "id": "2ce6412e-1693-4673-b076-6be846df3b94",
   "metadata": {},
   "outputs": [],
   "source": [
    "siglev <- 0.05"
   ]
  },
  {
   "cell_type": "markdown",
   "id": "1068ad56-32d8-4cf4-b8b2-dd357d10c556",
   "metadata": {},
   "source": [
    "Let's assume the mean of the first sample is:"
   ]
  },
  {
   "cell_type": "code",
   "execution_count": null,
   "id": "0aea7878-cbec-4a58-8d88-d6630181b9c6",
   "metadata": {},
   "outputs": [],
   "source": [
    "sampm1 <- -0.7"
   ]
  },
  {
   "cell_type": "markdown",
   "id": "3256c03c-977c-4060-8ba5-db6aa281314e",
   "metadata": {},
   "source": [
    "### H0 rejected"
   ]
  },
  {
   "cell_type": "markdown",
   "id": "bc63adbf-9c34-47a5-a302-a34fd79ae2c1",
   "metadata": {},
   "source": [
    "#### P-value and Type I error"
   ]
  },
  {
   "cell_type": "markdown",
   "id": "2b183f7b-43a7-4c0d-8f56-e490cd1ef54c",
   "metadata": {},
   "source": [
    "We now calculate the tail probability of having more extreme values than $\\displaystyle \\bar {X}$:"
   ]
  },
  {
   "cell_type": "markdown",
   "id": "6054699e-37f0-4228-859e-4d793d804e7a",
   "metadata": {},
   "source": [
    "Consider an observed test-statistic ${\\displaystyle t}$ from unknown distribution ${\\displaystyle T}$. Then the p-value ${\\displaystyle p}$ is what the prior probability would be of observing a test-statistic value at least as \"extreme\" as ${\\displaystyle t}$ if null hypothesis ${\\displaystyle H_{0}}$ were true. That is:\n",
    "\n",
    "${\\displaystyle p=\\Pr(T\\geq t\\mid H_{0})}$ for a one-sided right-tail test-statistic distribution.\n",
    "\n",
    "${\\displaystyle p=\\Pr(T\\leq t\\mid H_{0})}$ for a one-sided left-tail test-statistic distribution.\n",
    "\n",
    "${\\displaystyle p=2\\min\\{\\Pr(T\\geq t\\mid H_{0}),\\Pr(T\\leq t\\mid H_{0})\\}}$ for a two-sided test-statistic distribution.\n",
    "\n",
    "If the distribution of ${\\displaystyle T}$ is symmetric about zero, then \n",
    "${\\displaystyle p=\\Pr(|T|\\geq |t|\\mid H_{0}).}$\n",
    "\n",
    "(https://en.wikipedia.org/wiki/P-value)"
   ]
  },
  {
   "cell_type": "code",
   "execution_count": null,
   "id": "abdd0f95-210f-41ff-b1ae-fc38f1a618d1",
   "metadata": {},
   "outputs": [],
   "source": [
    "pval <- pnorm(sampm1, pop1mu, se1)\n",
    "pval <- 2 * min(pval, 1-pval)\n",
    "pval"
   ]
  },
  {
   "cell_type": "markdown",
   "id": "4b3d06a8-c350-4061-86c1-13a584d01cd5",
   "metadata": {},
   "source": [
    "Here we take the double of the probability of the tail that the sample mean is closer to. And:"
   ]
  },
  {
   "cell_type": "code",
   "execution_count": null,
   "id": "d7fdd9bc-724d-4b3c-ba67-c1ff69c2b401",
   "metadata": {},
   "outputs": [],
   "source": [
    "pval < siglev"
   ]
  },
  {
   "cell_type": "markdown",
   "id": "9798a7b5-3317-4d74-a3b9-fca61db7dc2d",
   "metadata": {},
   "source": [
    "Since 0.027 < 0.05, we reject $H_{0}$"
   ]
  },
  {
   "cell_type": "markdown",
   "id": "52f5248e-52f9-4d9d-98d8-080cd6cef8f5",
   "metadata": {},
   "source": [
    "**The second subplot in the tandem plot above show the P-values for any sample mean value along with selected quantiles at certain $\\alpha$ values.**"
   ]
  },
  {
   "cell_type": "markdown",
   "id": "e5ef6474-08ba-4aef-924c-54b0f2b30224",
   "metadata": {},
   "source": [
    "What is the second meaning of $\\alpha$ in a testing context? Since the sampling distribution can include any sample mean value in the continuum, there is a $\\alpha$ probability that the values in the rejection region are still from the sampling distribution of the hypothesized population. **So there is a $\\alpha$ probability that we rejected the ${\\textstyle H_{0}}$ while we shouldn't! That is known as the Type I error**."
   ]
  },
  {
   "cell_type": "markdown",
   "id": "c0f3e6ae-fecf-4736-9e04-8909489766c6",
   "metadata": {},
   "source": [
    "#### Test statistic"
   ]
  },
  {
   "cell_type": "markdown",
   "id": "44f3f1ee-090d-4e19-b30c-641b3d3f4745",
   "metadata": {},
   "source": [
    "Now we will approach the problem from another point of view: The critical test statistics - Z-score of standard normal distribution can be calculated using the half the significance level (tail probability in each side):"
   ]
  },
  {
   "cell_type": "code",
   "execution_count": null,
   "id": "e16d72b1-9a56-4172-9228-ac5c6b8208cc",
   "metadata": {},
   "outputs": [],
   "source": [
    "critz05 <- qnorm(siglev/2, lower.tail = F)\n",
    "critz05"
   ]
  },
  {
   "cell_type": "markdown",
   "id": "efd0c3d0-479d-482a-8339-19db1af190f3",
   "metadata": {},
   "source": [
    "So any absolute Z-score of a sample mean larger than that value should be deemed to be significantly different than $\\mu$. Let's calculate the Z-score of the sample mean:"
   ]
  },
  {
   "cell_type": "code",
   "execution_count": null,
   "id": "ce342226-486d-4e96-a460-031179f0326e",
   "metadata": {},
   "outputs": [],
   "source": [
    "sampz1 <- abs((sampm1 - pop1mu) / se1)\n",
    "sampz1"
   ]
  },
  {
   "cell_type": "code",
   "execution_count": null,
   "id": "169da2de-97f4-4744-82c6-49769d18f00f",
   "metadata": {},
   "outputs": [],
   "source": [
    "sampz1 > critz05"
   ]
  },
  {
   "cell_type": "markdown",
   "id": "a4500f50-8eaf-4660-a151-d0c6fb6cd893",
   "metadata": {},
   "source": [
    "Since the absolute value of the test statistic - the Z-score - of the sample mean is larger than critical test statistic (2.21 > 1.96), we **reject** ${\\textstyle H_{0}}$, so sample mean is significantly different than the population mean. We could do the same comparison without taking the absolute value of the test statistic. In that case:\n",
    "\n",
    "$-2.21 < -1.96$\n",
    "\n",
    "So if the test statistic is negative then the rejection area is when it is smaller than the negative critical value."
   ]
  },
  {
   "cell_type": "markdown",
   "id": "917b972c-b139-428e-9924-6745f970fe26",
   "metadata": {},
   "source": [
    "**The third subplot in the tandem plot above shows the Z-scores of sample means along with critical test-statistics.**"
   ]
  },
  {
   "cell_type": "markdown",
   "id": "11ba0cea-e624-4a05-b752-c3f7b76d84a2",
   "metadata": {},
   "source": [
    "#### Confidence interval"
   ]
  },
  {
   "cell_type": "markdown",
   "id": "b31bc66e-3b41-4b86-962e-68ee5ecea353",
   "metadata": {},
   "source": [
    "Another way of looking into the hypothesis testing is to state the boundaries around the sample mean within the statistic, known as the confidence interval:\n",
    "\n",
    "$\\displaystyle \\bar {X} +/- Z_{crit} * SE$\n",
    "\n",
    "where $Z_{crit}$ is the critical Z-score for the selected $\\alpha$ and $SE$ is the standard error of the sampling distribution.\n",
    "\n",
    "In our example:"
   ]
  },
  {
   "cell_type": "code",
   "execution_count": null,
   "id": "07945da5-d7f6-4dc6-a01c-a9cd88c34222",
   "metadata": {},
   "outputs": [],
   "source": [
    "confint1 <- round(sampm1 + c(-1, 1) * critz05 * se1, 3)\n",
    "confint1"
   ]
  },
  {
   "cell_type": "markdown",
   "id": "7b5904b0-21e8-4e21-8018-cb460f10aed3",
   "metadata": {},
   "source": [
    "The 95% confidence interval is within this range in our example. What is the meaning of this confidence interval?"
   ]
  },
  {
   "cell_type": "markdown",
   "id": "1f0b5ec2-4fcf-4e73-ae4c-c19fef00233f",
   "metadata": {},
   "source": [
    "Let's create 1000 new samples from the same population, calculate their means and the confidence intervals in the same way:"
   ]
  },
  {
   "cell_type": "code",
   "execution_count": null,
   "id": "d11d080a-19af-4cb5-921d-72d3db893fd1",
   "metadata": {},
   "outputs": [],
   "source": [
    "set.seed(5)\n",
    "sampmus1000 <- sapply(replicate(1e3, sample(pop1, sizesamp), simplify = F), mean)"
   ]
  },
  {
   "cell_type": "code",
   "execution_count": null,
   "id": "f6adb0cf-5098-418c-ae21-217039d976bd",
   "metadata": {},
   "outputs": [],
   "source": [
    "confint1_l <- lapply(sampmus1000, function(x) x + c(-1, 1) * critz05 * se1)"
   ]
  },
  {
   "cell_type": "markdown",
   "id": "992d9ed9-c7bb-4ed9-aae1-31d39485b77b",
   "metadata": {},
   "source": [
    "Now let's check in what portion of these confidence intervals the true parameter lies within:"
   ]
  },
  {
   "cell_type": "code",
   "execution_count": null,
   "id": "fd69f83f-3d1e-4ba8-a293-92a2040595ac",
   "metadata": {},
   "outputs": [],
   "source": [
    "confwithin1 <- sapply(confint1_l, function(x) pop1mu %between% x)"
   ]
  },
  {
   "cell_type": "code",
   "execution_count": null,
   "id": "94061f0b-e0e6-4f0a-beb6-c510128b0d3e",
   "metadata": {},
   "outputs": [],
   "source": [
    "sum(confwithin1) / length(confwithin1)"
   ]
  },
  {
   "cell_type": "markdown",
   "id": "5c2945ee-1323-4b0b-bac9-a44ed0a52fe8",
   "metadata": {},
   "source": [
    "So %95 of the time the true population mean lies within the confidence interval around the sample means"
   ]
  },
  {
   "cell_type": "markdown",
   "id": "8512760a-c1af-470e-9b29-2a10f4d63a1c",
   "metadata": {},
   "source": [
    "When $\\mu$ is within this range we do not reject $H_{0}$ while $\\mu$ is out of this range we reject $H_{0}$. In our case"
   ]
  },
  {
   "cell_type": "code",
   "execution_count": null,
   "id": "3cdefc7f-a19a-47fd-9593-8ac47140a1c6",
   "metadata": {},
   "outputs": [],
   "source": [
    "pop1mu %between% confint1"
   ]
  },
  {
   "cell_type": "markdown",
   "id": "604e101c-0aec-424e-a6eb-936889346076",
   "metadata": {},
   "source": [
    "Population mean 0 is not within the confidence interval around the sample mean so we reject $H_{0}$"
   ]
  },
  {
   "cell_type": "markdown",
   "id": "55749db1-c966-4272-bd22-2018c83e93a4",
   "metadata": {},
   "source": [
    "**The fourth subplot in the tandem plot above shows the confidence interval around sample mean values for selected confidence levels ($1 - \\alpha$) along with the population mean**"
   ]
  },
  {
   "cell_type": "markdown",
   "id": "e2d137f8-9291-4211-ae45-46808be33ff7",
   "metadata": {},
   "source": [
    "#### Test criteria summary"
   ]
  },
  {
   "cell_type": "markdown",
   "id": "01904718-ff35-4df3-a724-f37e61b8e0d2",
   "metadata": {},
   "source": [
    "So let's summarize the three different points of view for null hypothesis testing:"
   ]
  },
  {
   "cell_type": "markdown",
   "id": "6915cae6-115e-4722-863e-a3e9dd08f556",
   "metadata": {},
   "source": [
    "| Method      | Not reject H0 | Reject H0 | \n",
    "| ------------- | ------------- | ----- |\n",
    "| P-value | pval >= $\\alpha$ | pval < $\\alpha$ |\n",
    "| Test statistic | \\|$Z_{\\bar {X}}$\\| <= \\|Z_{crit}\\| | \\|$Z_{\\bar {X}}$\\| > \\|Z_{crit}\\| |\n",
    "| Confidence Interval | $\\bar {X} - Z_{crit}SE <= \\mu <= \\bar {X} + Z_{crit}SE$ | $ \\mu < \\bar {X} - Z_{crit}SE \\| \\mu > \\bar {X} + Z_{crit}SE$ |"
   ]
  },
  {
   "cell_type": "markdown",
   "id": "8c214efb-69d3-490d-a58e-a319d4ee867a",
   "metadata": {},
   "source": [
    "So we reject $H_0$ when:\n",
    "\n",
    "- P-value of the sample mean is smaller than the significance level $\\alpha$\n",
    "- Absolute value the Z-score of the sample mean is larger than the critical Z-score for selected $\\alpha$\n",
    "- When population mean is not within the confidence interval - interval around sample mean bounded by critical Z-score times the standard error of sampling distribution."
   ]
  },
  {
   "cell_type": "markdown",
   "id": "5ae714e4-0d3e-488a-97b6-6e20b4773bac",
   "metadata": {},
   "source": [
    "You can simulate these criteria by hovering over the quantile value of -0.7 on the x axis and comparing with the vertical lines in the first three plots or the sloped lines in the fourth plot that correspond to $\\alpha = 0.05$."
   ]
  },
  {
   "cell_type": "markdown",
   "id": "c25a8090-6cad-4986-b3b9-42bb09b23e91",
   "metadata": {},
   "source": [
    "#### ZTest function"
   ]
  },
  {
   "cell_type": "markdown",
   "id": "10c4871c-6270-4833-8fb9-481a6b54d413",
   "metadata": {},
   "source": [
    "Without going through these manual steps, we can make the one sample Z-test with known population standard deviation using `ZTest` function from `DescTools` package. Since the function can't run on a single sample mean value, we provide a small sample mean of which is the value we tested above:"
   ]
  },
  {
   "cell_type": "code",
   "execution_count": null,
   "id": "8e01c1e6-f717-4bac-babc-02c1b6785d07",
   "metadata": {},
   "outputs": [],
   "source": [
    "set.seed(10)\n",
    "samptest1 <- normalize(rnorm(sizesamp)) * pop1sd + sampm1"
   ]
  },
  {
   "cell_type": "code",
   "execution_count": null,
   "id": "117947cc-f772-4ebf-b3ef-216dc6306621",
   "metadata": {},
   "outputs": [],
   "source": [
    "mean(samptest1)\n",
    "sd(samptest1)"
   ]
  },
  {
   "cell_type": "code",
   "execution_count": null,
   "id": "573831c3-613a-4e0b-8167-8f233f727afd",
   "metadata": {},
   "outputs": [],
   "source": [
    "ZTest(samptest1, mu = pop1mu, sd_pop = pop1sd, conf.level = 1 - siglev)"
   ]
  },
  {
   "cell_type": "markdown",
   "id": "221fc849-4bac-4c08-9f67-7f838b604e89",
   "metadata": {},
   "source": [
    "We see that $H_0$ is rejected since:\n",
    "\n",
    "- p-value of 0.027 < 0.05\n",
    "- z statistic of -2.21 < -1.96\n",
    "- Population mean of 0 is not within the conficence interval between -1.31 and -0.08."
   ]
  },
  {
   "cell_type": "markdown",
   "id": "6bd0dfd0-eba4-4c6e-947e-d7483bfd7cc9",
   "metadata": {},
   "source": [
    "### H0 not rejected"
   ]
  },
  {
   "cell_type": "markdown",
   "id": "68d2b108-3a07-4aa2-b911-bbdde53b807e",
   "metadata": {},
   "source": [
    "Now keeping all else equal, we change the significance level $\\alpha$ from 0.05 to 0.01 so that we have to have a sample mean value more significantly away from the mean in order to reject $H_0$. The confidence level ($1 - \\alpha$ rise to 99% percent from 95%."
   ]
  },
  {
   "cell_type": "code",
   "execution_count": null,
   "id": "394adbda-4d6f-497e-9e4e-48f152a930bd",
   "metadata": {},
   "outputs": [],
   "source": [
    "siglev <- 0.01"
   ]
  },
  {
   "cell_type": "markdown",
   "id": "ee11b796-0025-4f3b-b071-a7dafa76cfed",
   "metadata": {},
   "source": [
    "#### P-value and Type I error"
   ]
  },
  {
   "cell_type": "markdown",
   "id": "5b4db17a-3043-49ba-aa3c-38e7da8eae96",
   "metadata": {},
   "source": [
    "The calculation of P-value doesn't change"
   ]
  },
  {
   "cell_type": "code",
   "execution_count": null,
   "id": "ce17656d-3fe3-4f91-bf8a-0b5335e84ef9",
   "metadata": {},
   "outputs": [],
   "source": [
    "pval <- pnorm(sampm1, pop1mu, se1)\n",
    "pval <- 2 * min(pval, 1-pval)\n",
    "pval"
   ]
  },
  {
   "cell_type": "markdown",
   "id": "ce6336cf-a9d7-42f4-8b1e-dd90de2db1f8",
   "metadata": {},
   "source": [
    "However the conclusion when we compare with the new significance level is different:"
   ]
  },
  {
   "cell_type": "code",
   "execution_count": null,
   "id": "bf7409f1-faf3-4098-9f0c-0a4dc01c963f",
   "metadata": {},
   "outputs": [],
   "source": [
    "pval < siglev"
   ]
  },
  {
   "cell_type": "markdown",
   "id": "617bc612-ff00-4f5d-94c3-9d284d34cdc3",
   "metadata": {},
   "source": [
    "Since 0.027 > 0.01, we **do not reject** $H_{0}$"
   ]
  },
  {
   "cell_type": "markdown",
   "id": "06e6d5c5-2aa5-4b55-9328-87b544a2c647",
   "metadata": {},
   "source": [
    "#### Test statistic"
   ]
  },
  {
   "cell_type": "markdown",
   "id": "d755877a-2a8c-4ba1-9053-cb2018d6c14f",
   "metadata": {},
   "source": [
    "We calculate the new critical test statistic:"
   ]
  },
  {
   "cell_type": "code",
   "execution_count": null,
   "id": "e86010ed-a34e-4ec8-b915-4640558e274f",
   "metadata": {},
   "outputs": [],
   "source": [
    "critz05 <- qnorm(siglev/2, lower.tail = F)\n",
    "critz05"
   ]
  },
  {
   "cell_type": "markdown",
   "id": "7a9b647e-df15-44cf-8516-27884cb789f7",
   "metadata": {},
   "source": [
    "Test statistic of the sample mean is the same:"
   ]
  },
  {
   "cell_type": "code",
   "execution_count": null,
   "id": "15b2f565-6e9e-4e05-8150-2981955dcc83",
   "metadata": {},
   "outputs": [],
   "source": [
    "sampz1"
   ]
  },
  {
   "cell_type": "markdown",
   "id": "c1fdd1b4-7f36-49e0-b4f1-8c31d05f579c",
   "metadata": {},
   "source": [
    "However the comparison is different now:"
   ]
  },
  {
   "cell_type": "code",
   "execution_count": null,
   "id": "c6b1bfeb-df80-4e2b-99ec-119acaa34ed1",
   "metadata": {},
   "outputs": [],
   "source": [
    "sampz1 > critz05"
   ]
  },
  {
   "cell_type": "markdown",
   "id": "31536d1e-37a1-44a5-b16f-3ccbb39c23e2",
   "metadata": {},
   "source": [
    "The test statistic is not more extreme than the critical value (2.21 < 2.58). So we **do not reject** $H_0$."
   ]
  },
  {
   "cell_type": "markdown",
   "id": "76bf45f0-4472-40d1-873a-0cf82acad962",
   "metadata": {},
   "source": [
    "#### Confidence interval"
   ]
  },
  {
   "cell_type": "markdown",
   "id": "3d41cd11-a8bc-4a9c-ba3e-bc4c3b2bceac",
   "metadata": {},
   "source": [
    "Let's calculate the new confidence interval using the new critical test statistic:"
   ]
  },
  {
   "cell_type": "code",
   "execution_count": null,
   "id": "91987abb-7cd6-4787-bee8-954fa7f6f872",
   "metadata": {},
   "outputs": [],
   "source": [
    "confint1 <- round(sampm1 + c(-1, 1) * critz05 * se1, 3)\n",
    "confint1"
   ]
  },
  {
   "cell_type": "markdown",
   "id": "ac6a06b2-ae84-400c-8360-372e9bf33b73",
   "metadata": {},
   "source": [
    "And check whether population mean is within this interval now:"
   ]
  },
  {
   "cell_type": "code",
   "execution_count": null,
   "id": "31e25685-253a-40a5-83e4-50c68b3c5c59",
   "metadata": {},
   "outputs": [],
   "source": [
    "pop1mu %between% confint1"
   ]
  },
  {
   "cell_type": "markdown",
   "id": "b236a81d-5356-4892-8093-a39156c85a83",
   "metadata": {},
   "source": [
    "It is, so -1.52 < 0 < 0.115, population mean 0 is within the confidence interval around the sample mean so we **do not reject** $H_{0}$"
   ]
  },
  {
   "cell_type": "markdown",
   "id": "03f7e27d-e353-4d78-a160-d37d0b66e94e",
   "metadata": {},
   "source": [
    "#### ZTest function"
   ]
  },
  {
   "cell_type": "markdown",
   "id": "3f016b23-3de7-439b-8629-1839c93dd20c",
   "metadata": {},
   "source": [
    "We automate the test again with `ZTest` function from `DescTools` package:"
   ]
  },
  {
   "cell_type": "code",
   "execution_count": null,
   "id": "93d4943f-5d85-4fac-a112-52053ae0b25c",
   "metadata": {},
   "outputs": [],
   "source": [
    "set.seed(10)\n",
    "samptest1 <- normalize(rnorm(sizesamp)) * pop1sd + sampm1"
   ]
  },
  {
   "cell_type": "code",
   "execution_count": null,
   "id": "969cc248-9111-4dd5-b34d-363dd246eabb",
   "metadata": {},
   "outputs": [],
   "source": [
    "mean(samptest1)\n",
    "sd(samptest1)"
   ]
  },
  {
   "cell_type": "code",
   "execution_count": null,
   "id": "c9e6bcaa-1ce6-4b3e-a601-91ecae2f3ba1",
   "metadata": {},
   "outputs": [],
   "source": [
    "ZTest(samptest1, mu = pop1mu, sd_pop = pop1sd, conf.level = 1 - siglev)"
   ]
  },
  {
   "cell_type": "code",
   "execution_count": null,
   "id": "38abd78c-25e3-4377-b986-859301e5ec62",
   "metadata": {},
   "outputs": [],
   "source": [
    "qnorm(0.005)"
   ]
  },
  {
   "cell_type": "markdown",
   "id": "0d087560-54bb-4db9-bf55-d38de8c8172b",
   "metadata": {},
   "source": [
    "We see that $H_0$ is not rejected since:\n",
    "\n",
    "- p-value of 0.027 > 0.01\n",
    "- z statistic of -2.21 > -2.58\n",
    "- Population mean of 0 is within the conficence interval between -1.51 and 0.11."
   ]
  },
  {
   "cell_type": "markdown",
   "id": "1b13a7df-a80a-49e0-8751-e6cb5e35ee70",
   "metadata": {},
   "source": [
    "We **reject** $H_0$ at $\\alpha = 0.05$ while we **do not reject** $H_0$ at $\\alpha = 0.01$ with the same sample mean and population parameters. What happened?"
   ]
  },
  {
   "cell_type": "markdown",
   "id": "f0064563-0b9b-4b0e-9d83-00a66a80923b",
   "metadata": {},
   "source": [
    "## Type I and Type II Errors, Power of Test, Effect of Sample Size"
   ]
  },
  {
   "cell_type": "markdown",
   "id": "64535bbd-1089-4e82-83f9-99ff54b6e3dc",
   "metadata": {},
   "source": [
    "### Type I and Type II errors"
   ]
  },
  {
   "cell_type": "markdown",
   "id": "c9b649b6-5f60-43ab-884f-3b8320d89b14",
   "metadata": {},
   "source": [
    "At a certain two-sided significance level $\\alpha$, there is an $\\alpha$ probability that the sample mean value can be more extreme (away from the population mean) than the quantile that corresponds to the half of $\\alpha$ in any of the tails."
   ]
  },
  {
   "cell_type": "markdown",
   "id": "f03f09ce-836b-4e1f-aa8c-e59543203d38",
   "metadata": {},
   "source": [
    "A second meaning of $\\alpha$ is that, there is a $\\alpha$ probability of rejecting $H_0$ (sample is not from the hypothesized population) where as we shouldn't reject it ($H_0$ is from the hypothesized population)."
   ]
  },
  {
   "cell_type": "markdown",
   "id": "80fd4dc7-79c4-4fe3-80e3-0f7a69ec60db",
   "metadata": {},
   "source": [
    "So by changing the significance level from 0.05 to 0.01, it became harder to reject the $H_0$ and we decreased Type I error. However other things being equal that decrease in Type I error comes at a cost.\n",
    "\n",
    "Now let's draw samples from two more candidate populations, and when we have a sample at hand we don't know from which population the sample is drawn from:"
   ]
  },
  {
   "cell_type": "markdown",
   "id": "679c5b5d-4a88-467e-bcdd-b560bca8df1c",
   "metadata": {},
   "source": [
    "True population parameters:"
   ]
  },
  {
   "cell_type": "code",
   "execution_count": null,
   "id": "6a5366b5-745a-4d54-aee5-420e23f7b6e9",
   "metadata": {},
   "outputs": [],
   "source": [
    "pop2mu <- -1\n",
    "pop2sd <- 1\n",
    "pop3mu <- 1\n",
    "pop3sd <- 1"
   ]
  },
  {
   "cell_type": "markdown",
   "id": "47efb40e-8786-4d76-b4ff-2d0addc43003",
   "metadata": {},
   "source": [
    "Generated populations:"
   ]
  },
  {
   "cell_type": "code",
   "execution_count": null,
   "id": "2c543614-596e-4a98-bcd3-75ca9b7e4f45",
   "metadata": {},
   "outputs": [],
   "source": [
    "pop2 <- normalize(rnorm(popsize))\n",
    "pop2 <- pop2 * pop2sd + pop2mu\n",
    "\n",
    "pop3 <- normalize(rnorm(popsize))\n",
    "pop3 <- pop3 * pop3sd + pop3mu"
   ]
  },
  {
   "cell_type": "markdown",
   "id": "db8ae3fa-550c-468c-b599-b215d186e084",
   "metadata": {},
   "source": [
    "Samples drawn from populations:"
   ]
  },
  {
   "cell_type": "code",
   "execution_count": null,
   "id": "206af637-90c6-4c0f-bd9d-32a0252cc4f5",
   "metadata": {},
   "outputs": [],
   "source": [
    "samps2 <- replicate(nsamps, sample(pop2, sizesamp), simplify = F)\n",
    "samps3 <- replicate(nsamps, sample(pop3, sizesamp), simplify = F)"
   ]
  },
  {
   "cell_type": "markdown",
   "id": "03daa33d-14ae-4897-a36c-b5fc97149085",
   "metadata": {},
   "source": [
    "Sampling distributions:"
   ]
  },
  {
   "cell_type": "code",
   "execution_count": null,
   "id": "b6df4396-18ed-4ec6-b477-859aaa5069a0",
   "metadata": {},
   "outputs": [],
   "source": [
    "sampmus2 <- sapply(samps2, mean)\n",
    "sampmus3 <- sapply(samps3, mean)\n",
    "sampmus2dt <- data.table(vals = sampmus2, pop = 2, ind = 1, type = \"sampmu\")\n",
    "sampmus3dt <- data.table(vals = sampmus3, pop = 3, ind = 1, type = \"sampmu\")\n",
    "sampdist_dt <- rbind(sampmus1dt, sampmus2dt, sampmus3dt)\n",
    "popmus <- data.table(pop = 1:3, popmu = c(pop1mu, pop2mu, pop3mu), popsd = c(pop1sd, pop2sd, pop3sd))\n",
    "sampdist_dt <- sampdist_dt %>% left_join(popmus, by = \"pop\")# %>% left_join(lwdt, by = \"type\")"
   ]
  },
  {
   "cell_type": "code",
   "execution_count": null,
   "id": "b326b9fe-6471-47a8-a8c8-ad48254c592e",
   "metadata": {
    "scrolled": true
   },
   "outputs": [],
   "source": [
    "sampdist_dt %>% head"
   ]
  },
  {
   "cell_type": "markdown",
   "id": "e39cc44c-017e-4828-afe6-41384f94d299",
   "metadata": {},
   "source": [
    "Now we will add the quantile information for some certain p-values - the two-sided areas under the tail of the normal distribution:"
   ]
  },
  {
   "cell_type": "code",
   "execution_count": null,
   "id": "fa55626e-8ced-48f3-bf70-9b7733cc4659",
   "metadata": {},
   "outputs": [],
   "source": [
    "sampdist_dt[1, line001l := qnorm(0.01/2, popmu, popsd /sqrt(sizesamp))]\n",
    "sampdist_dt[1, line005l := qnorm(0.05/2, popmu, popsd /sqrt(sizesamp))]\n",
    "sampdist_dt[1, line010l := qnorm(0.1/2, popmu, popsd /sqrt(sizesamp))]"
   ]
  },
  {
   "cell_type": "code",
   "execution_count": null,
   "id": "042702ce-9028-4adc-9f17-6ceec75a080a",
   "metadata": {},
   "outputs": [],
   "source": [
    "sampdist_dt[1, line001r := qnorm(0.01/2, popmu, popsd /sqrt(sizesamp), lower.tail = F)]\n",
    "sampdist_dt[1, line005r := qnorm(0.05/2, popmu, popsd /sqrt(sizesamp), lower.tail = F)]\n",
    "sampdist_dt[1, line010r := qnorm(0.1/2, popmu, popsd /sqrt(sizesamp), lower.tail = F)]"
   ]
  },
  {
   "cell_type": "code",
   "execution_count": null,
   "id": "efc4da87-7ad9-4053-b969-1783333308be",
   "metadata": {},
   "outputs": [],
   "source": [
    "sampdist_dt[, ind2 := .GRP, by = c(\"ind\", \"type\", \"pop\")]"
   ]
  },
  {
   "cell_type": "markdown",
   "id": "8a06ada7-2c94-473b-a5f4-8e6d0a756248",
   "metadata": {},
   "source": [
    "Let's plot the densities of sampling distributions together along with vertical lines at quantiles for different significance levels:"
   ]
  },
  {
   "cell_type": "code",
   "execution_count": null,
   "id": "08ba2660-ce85-4de2-8975-aae2f4ec3931",
   "metadata": {},
   "outputs": [],
   "source": [
    "p1b <- sampdist_dt %>%\n",
    "mutate_at(\"vals\", round, 4) %>%\n",
    "mutate_at(\"pop\", factor) %>%\n",
    "mutate_at(\"type\", factor, levels = c(\"pop\", \"sampmu\", \"samp\")) %>%\n",
    "ggplot(aes(x = vals, color = pop)) +\n",
    "geom_density(aes(linewidth = type, group = ind2), adjust = 2) +\n",
    "geom_vline(aes(xintercept = popmu, color = pop)) +\n",
    "geom_vline(aes(xintercept = line010l, color = pop), linetype = 5) +\n",
    "geom_vline(aes(xintercept = line010r, color = pop), linetype = 5) +\n",
    "geom_vline(aes(xintercept = line005l, color = pop), linetype = 2) +\n",
    "geom_vline(aes(xintercept = line005r, color = pop), linetype = 2) +\n",
    "geom_vline(aes(xintercept = line001l, color = pop), linetype = 3) +\n",
    "geom_vline(aes(xintercept = line001r, color = pop), linetype = 3) +\n",
    "scale_linewidth_manual(values = c(pop = 1, sampmu = 0.5, samp = 0.02)) +\n",
    "scale_color_manual(values = c(\"1\" = \"red\", \"2\" = \"blue\", \"3\" = \"green\")) +\n",
    "xlim(c(-5, 5))\n",
    "\n",
    "p1bp <- ggplotly(p1b)  %>%\n",
    "          layout(legend = list(orientation = \"h\",\n",
    "                     xanchor = \"center\",\n",
    "                     x = 0.5, y = -0.6, title = list(text=NULL)), height = 600)"
   ]
  },
  {
   "cell_type": "markdown",
   "id": "5734d636-56f9-48b2-90c9-7be98a240939",
   "metadata": {},
   "source": [
    "And we will also create a separate chart that shows the tail probabilities for the sampling distribution for three populations. The tail probability is two times the smaller of p-value and 1 - p-value calculated for a quantile. We add the vertical lines for the quantiles at certain left and right tail areas/probabilities of $\\alpha = 0.005, 0.025, 0.05$:"
   ]
  },
  {
   "cell_type": "code",
   "execution_count": null,
   "id": "23ebbe5e-7b89-4652-b6f0-e83319034948",
   "metadata": {},
   "outputs": [],
   "source": [
    "qvals <- seq(-5, 5, 0.01)"
   ]
  },
  {
   "cell_type": "code",
   "execution_count": null,
   "id": "dcd2f8f2-1f36-4063-bd24-658b873b3ac2",
   "metadata": {},
   "outputs": [],
   "source": [
    "pop1pdt <- mapply(function(x, y, z) data.table(qvals, popp = pnorm(qvals, y, z / sqrt(sizesamp)) %>% round(3), pop = x),\n",
    "       1:3, c(pop1mu, pop2mu, pop3mu), c(pop1sd, pop2sd, pop3sd), SIMPLIFY = F) %>% rbindlist\n",
    "pop1pdt[, popp := round(2 * pmin(popp, 1 - popp), 3)]\n",
    "pop1pdt[1, line001l := qnorm(0.01/2, pop1mu, pop1sd /sqrt(sizesamp)) %>% round(3)]\n",
    "pop1pdt[1, line005l := qnorm(0.05/2, pop1mu, pop1sd /sqrt(sizesamp)) %>% round(3)]\n",
    "pop1pdt[1, line010l := qnorm(0.10/2, pop1mu, pop1sd /sqrt(sizesamp)) %>% round(3)]\n",
    "pop1pdt[1, line001r := qnorm(0.01/2, pop1mu, pop1sd /sqrt(sizesamp), lower.tail = F) %>% round(3)]\n",
    "pop1pdt[1, line005r := qnorm(0.05/2, pop1mu, pop1sd /sqrt(sizesamp), lower.tail = F) %>% round(3)]\n",
    "pop1pdt[1, line010r := qnorm(0.10/2, pop1mu, pop1sd /sqrt(sizesamp), lower.tail = F) %>% round(3)]\n",
    "p2b <- pop1pdt %>%\n",
    "mutate_at(\"pop\", factor) %>%\n",
    "ggplot(aes(x = qvals, y = popp)) +\n",
    "geom_line(aes(color = pop)) +\n",
    "geom_vline(aes(xintercept = line010l), linetype = 5, color = \"red\") +\n",
    "geom_vline(aes(xintercept = line005l), linetype = 2, color = \"red\") +\n",
    "geom_vline(aes(xintercept = line001l), linetype = 3, color = \"red\") +\n",
    "geom_vline(aes(xintercept = line010r), linetype = 5, color = \"red\") +\n",
    "geom_vline(aes(xintercept = line005r), linetype = 2, color = \"red\") +\n",
    "geom_vline(aes(xintercept = line001r), linetype = 3, color = \"red\")\n",
    "p2bp <- ggplotly(p2b)"
   ]
  },
  {
   "cell_type": "markdown",
   "id": "79ba5f24-58cd-4f80-add6-3f414a759936",
   "metadata": {},
   "source": [
    "And we sum up the p-values of the quantiles for each population in a separate chart:"
   ]
  },
  {
   "cell_type": "code",
   "execution_count": null,
   "id": "2aab2449-fd3f-49a3-8dff-4ef71fa09ed6",
   "metadata": {},
   "outputs": [],
   "source": [
    "poppdt <- pop1pdt[, .(popp = sum(popp)), by = qvals]\n",
    "poppdt[1, line001l := qnorm(0.01/2, pop1mu, pop1sd /sqrt(sizesamp)) %>% round(3)]\n",
    "poppdt[1, line005l := qnorm(0.05/2, pop1mu, pop1sd /sqrt(sizesamp)) %>% round(3)]\n",
    "poppdt[1, line010l := qnorm(0.10/2, pop1mu, pop1sd /sqrt(sizesamp)) %>% round(3)]\n",
    "poppdt[1, line001r := qnorm(0.01/2, pop1mu, pop1sd /sqrt(sizesamp), lower.tail = F) %>% round(3)]\n",
    "poppdt[1, line005r := qnorm(0.05/2, pop1mu, pop1sd /sqrt(sizesamp), lower.tail = F) %>% round(3)]\n",
    "poppdt[1, line010r := qnorm(0.10/2, pop1mu, pop1sd /sqrt(sizesamp), lower.tail = F) %>% round(3)]\n",
    "p3b <- poppdt %>%\n",
    "ggplot(aes(x = qvals, y = popp)) +\n",
    "geom_line(aes(color = \"red\")) +\n",
    "geom_vline(aes(xintercept = line010l), linetype = 5, color = \"red\") +\n",
    "geom_vline(aes(xintercept = line005l), linetype = 2, color = \"red\") +\n",
    "geom_vline(aes(xintercept = line001l), linetype = 3, color = \"red\") +\n",
    "geom_vline(aes(xintercept = line010r), linetype = 5, color = \"red\") +\n",
    "geom_vline(aes(xintercept = line005r), linetype = 2, color = \"red\") +\n",
    "geom_vline(aes(xintercept = line001r), linetype = 3, color = \"red\")\n",
    "p3bp <- ggplotly(p3b)"
   ]
  },
  {
   "cell_type": "markdown",
   "id": "fc96101b-f728-4198-8c48-636aea8b5761",
   "metadata": {},
   "source": [
    "And we combine three charts:"
   ]
  },
  {
   "cell_type": "code",
   "execution_count": null,
   "id": "800f58a7-e99e-4d75-9967-053f59188e5e",
   "metadata": {},
   "outputs": [],
   "source": [
    "p1bp2 <- p1bp %>%\n",
    "  layout(\n",
    "    xaxis = list(\n",
    "      showspikes = TRUE, \n",
    "      spikemode = \"across\", \n",
    "      spikesnap = \"cursor\", \n",
    "      spikethickness = 1.5,\n",
    "      spikecolor = \"black\"\n",
    "    ),\n",
    "    yaxis = list(showspikes = FALSE)\n",
    "  )\n",
    "\n",
    "p2bp2 <- p2bp %>%\n",
    "  layout(\n",
    "    xaxis = list(\n",
    "      showspikes = TRUE, \n",
    "      spikemode = \"across\", \n",
    "      spikesnap = \"cursor\", \n",
    "      spikethickness = 1.5,\n",
    "      spikecolor = \"black\"\n",
    "    ),\n",
    "    yaxis = list(showspikes = FALSE)\n",
    "  )\n",
    "\n",
    "p3bp2 <- p3bp %>%\n",
    "  layout(\n",
    "    xaxis = list(\n",
    "      showspikes = TRUE, \n",
    "      spikemode = \"across\", \n",
    "      spikesnap = \"cursor\", \n",
    "      spikethickness = 1.5,\n",
    "      spikecolor = \"black\"\n",
    "    ),\n",
    "    yaxis = list(showspikes = FALSE)\n",
    "  )\n",
    "\n",
    "subplot(p1bp2, p2bp2, p3bp2, nrows = 3, shareX = TRUE) %>%\n",
    "  layout(\n",
    "    hovermode = \"x unified\",\n",
    "      annotations = list(\n",
    "    list(y = 1, text = \"Sampling Distribution\", showarrow = F, xref='paper', yref='paper'),\n",
    "    list(y = 0.67, text = \"P-Values for All Populations\", showarrow = F, xref='paper', yref='paper'),\n",
    "    list(y = 0.33, text = \"Sum of P-Values for All Populations\", showarrow = F, xref='paper', yref='paper')),\n",
    "      height = 900\n",
    "  )"
   ]
  },
  {
   "cell_type": "markdown",
   "id": "ebac7884-c743-4e6e-86e2-0e3023b55cd9",
   "metadata": {},
   "source": [
    "In the first plot, when we decrease the significance level $\\alpha$ the rejection area becomes more distant from the mean of population 1, hence Type I error decreases. However the p-value as calculated from the sampling distributions of other plausible populations increases as we try to decrease Type I error.\n",
    "\n",
    "The probability that we fail to reject $H_0$ when it is not in fact true is known as **Type II error**. It is the p-value calculated for a different population and shown by $\\beta$. Of course the level Type II error can change as calculated for different population means, so there is no single $\\beta$ value."
   ]
  },
  {
   "cell_type": "markdown",
   "id": "7c9833c2-36e7-44b3-b0b6-16187f24a438",
   "metadata": {},
   "source": [
    "The confusion matrix for true value of $H_0$ and whether we reject or not reject $H_0$ is given below:"
   ]
  },
  {
   "cell_type": "markdown",
   "id": "946eba84-a995-4708-a440-b7615ee59ef7",
   "metadata": {},
   "source": [
    "<table class=\"wikitable\">\n",
    "<caption>\n",
    "</caption>\n",
    "<tbody><tr>\n",
    "<th rowspan=\"2\" colspan=\"2\">Table of error types\n",
    "</th>\n",
    "<th colspan=\"2\"><br>Null hypothesis (<span class=\"mwe-math-element mwe-math-element-inline\"><span class=\"mwe-math-mathml-inline mwe-math-mathml-a11y\" style=\"display: none;\"><math xmlns=\"http://www.w3.org/1998/Math/MathML\" alttext=\"{\\textstyle {\\boldsymbol {H_{0}}}}\">\n",
    "  <semantics>\n",
    "    <mrow class=\"MJX-TeXAtom-ORD\">\n",
    "      <mstyle displaystyle=\"false\" scriptlevel=\"0\">\n",
    "        <mrow class=\"MJX-TeXAtom-ORD\">\n",
    "          <msub>\n",
    "            <mi mathvariant=\"bold-italic\">H</mi>\n",
    "            <mrow class=\"MJX-TeXAtom-ORD\">\n",
    "              <mn mathvariant=\"bold\">0</mn>\n",
    "            </mrow>\n",
    "          </msub>\n",
    "        </mrow>\n",
    "      </mstyle>\n",
    "    </mrow>\n",
    "    <annotation encoding=\"application/x-tex\">{\\textstyle {\\boldsymbol {H_{0}}}}</annotation>\n",
    "  </semantics>\n",
    "</math></span><img src=\"https://wikimedia.org/api/rest_v1/media/math/render/svg/5a3850bf3fcf8c20ffac3e4c3ed86a5277b83be8\" class=\"mwe-math-fallback-image-inline mw-invert skin-invert\" aria-hidden=\"true\" style=\"vertical-align: -0.671ex; width:3.459ex; height:2.509ex;\" alt=\"{\\textstyle {\\boldsymbol {H_{0}}}}\"></span>) is\n",
    "</th></tr>\n",
    "<tr>\n",
    "<th>True\n",
    "</th>\n",
    "<th>False\n",
    "</th></tr>\n",
    "<tr>\n",
    "<th rowspan=\"2\">Decision<br>about null<br>hypothesis (<span class=\"mwe-math-element mwe-math-element-inline\"><span class=\"mwe-math-mathml-inline mwe-math-mathml-a11y\" style=\"display: none;\"><math xmlns=\"http://www.w3.org/1998/Math/MathML\" alttext=\"{\\textstyle {\\boldsymbol {H_{0}}}}\">\n",
    "  <semantics>\n",
    "    <mrow class=\"MJX-TeXAtom-ORD\">\n",
    "      <mstyle displaystyle=\"false\" scriptlevel=\"0\">\n",
    "        <mrow class=\"MJX-TeXAtom-ORD\">\n",
    "          <msub>\n",
    "            <mi mathvariant=\"bold-italic\">H</mi>\n",
    "            <mrow class=\"MJX-TeXAtom-ORD\">\n",
    "              <mn mathvariant=\"bold\">0</mn>\n",
    "            </mrow>\n",
    "          </msub>\n",
    "        </mrow>\n",
    "      </mstyle>\n",
    "    </mrow>\n",
    "    <annotation encoding=\"application/x-tex\">{\\textstyle {\\boldsymbol {H_{0}}}}</annotation>\n",
    "  </semantics>\n",
    "</math></span><img src=\"https://wikimedia.org/api/rest_v1/media/math/render/svg/5a3850bf3fcf8c20ffac3e4c3ed86a5277b83be8\" class=\"mwe-math-fallback-image-inline mw-invert skin-invert\" aria-hidden=\"true\" style=\"vertical-align: -0.671ex; width:3.459ex; height:2.509ex;\" alt=\"{\\textstyle {\\boldsymbol {H_{0}}}}\"></span>)\n",
    "</th>\n",
    "<th><br>Not reject\n",
    "</th>\n",
    "<td style=\"text-align:center;\"><br>Correct inference<br>(true negative)\n",
    "<p>(probability = <span class=\"mwe-math-element mwe-math-element-inline\"><span class=\"mwe-math-mathml-inline mwe-math-mathml-a11y\" style=\"display: none;\"><math xmlns=\"http://www.w3.org/1998/Math/MathML\" alttext=\"{\\textstyle 1-\\alpha }\">\n",
    "  <semantics>\n",
    "    <mrow class=\"MJX-TeXAtom-ORD\">\n",
    "      <mstyle displaystyle=\"false\" scriptlevel=\"0\">\n",
    "        <mn>1</mn>\n",
    "        <mo>−<!-- − --></mo>\n",
    "        <mi>α<!-- α --></mi>\n",
    "      </mstyle>\n",
    "    </mrow>\n",
    "    <annotation encoding=\"application/x-tex\">{\\textstyle 1-\\alpha }</annotation>\n",
    "  </semantics>\n",
    "</math></span><img src=\"https://wikimedia.org/api/rest_v1/media/math/render/svg/7bc4a3f9f8b9fe2fdaa65e17f2ab04f813d18fab\" class=\"mwe-math-fallback-image-inline mw-invert skin-invert\" aria-hidden=\"true\" style=\"vertical-align: -0.505ex; width:5.49ex; height:2.343ex;\" alt=\"{\\textstyle 1-\\alpha }\"></span>)\n",
    "</p>\n",
    "</td>\n",
    "<td style=\"text-align:center;\">Type II error <br>(false negative)<br>(probability = <span class=\"mwe-math-element mwe-math-element-inline\"><span class=\"mwe-math-mathml-inline mwe-math-mathml-a11y\" style=\"display: none;\"><math xmlns=\"http://www.w3.org/1998/Math/MathML\" alttext=\"{\\textstyle \\beta }\">\n",
    "  <semantics>\n",
    "    <mrow class=\"MJX-TeXAtom-ORD\">\n",
    "      <mstyle displaystyle=\"false\" scriptlevel=\"0\">\n",
    "        <mi>β<!-- β --></mi>\n",
    "      </mstyle>\n",
    "    </mrow>\n",
    "    <annotation encoding=\"application/x-tex\">{\\textstyle \\beta }</annotation>\n",
    "  </semantics>\n",
    "</math></span><img src=\"https://wikimedia.org/api/rest_v1/media/math/render/svg/a77bfb138e56b5b44f6c8c4ce32a05449d1573d6\" class=\"mwe-math-fallback-image-inline mw-invert skin-invert\" aria-hidden=\"true\" style=\"vertical-align: -0.671ex; width:1.332ex; height:2.509ex;\" alt=\"{\\textstyle \\beta }\"></span>)\n",
    "</td></tr>\n",
    "<tr>\n",
    "<th>Reject\n",
    "</th>\n",
    "<td style=\"text-align:center;\">Type I error <br>(false positive)<br>(probability = <i><span class=\"mwe-math-element mwe-math-element-inline\"><span class=\"mwe-math-mathml-inline mwe-math-mathml-a11y\" style=\"display: none;\"><math xmlns=\"http://www.w3.org/1998/Math/MathML\" alttext=\"{\\textstyle \\alpha }\">\n",
    "  <semantics>\n",
    "    <mrow class=\"MJX-TeXAtom-ORD\">\n",
    "      <mstyle displaystyle=\"false\" scriptlevel=\"0\">\n",
    "        <mi>α<!-- α --></mi>\n",
    "      </mstyle>\n",
    "    </mrow>\n",
    "    <annotation encoding=\"application/x-tex\">{\\textstyle \\alpha }</annotation>\n",
    "  </semantics>\n",
    "</math></span><img src=\"https://wikimedia.org/api/rest_v1/media/math/render/svg/0d86dbd6183264b2f8569da1751380b173c7b185\" class=\"mwe-math-fallback-image-inline mw-invert skin-invert\" aria-hidden=\"true\" style=\"vertical-align: -0.338ex; width:1.488ex; height:1.676ex;\" alt=\"{\\textstyle \\alpha }\"></span></i>)\n",
    "</td>\n",
    "<td style=\"text-align:center;\"><br>Correct inference <br>(true positive)\n",
    "<p>(probability = <span class=\"mwe-math-element mwe-math-element-inline\"><span class=\"mwe-math-mathml-inline mwe-math-mathml-a11y\" style=\"display: none;\"><math xmlns=\"http://www.w3.org/1998/Math/MathML\" alttext=\"{\\textstyle 1-\\beta }\">\n",
    "  <semantics>\n",
    "    <mrow class=\"MJX-TeXAtom-ORD\">\n",
    "      <mstyle displaystyle=\"false\" scriptlevel=\"0\">\n",
    "        <mn>1</mn>\n",
    "        <mo>−<!-- − --></mo>\n",
    "        <mi>β<!-- β --></mi>\n",
    "      </mstyle>\n",
    "    </mrow>\n",
    "    <annotation encoding=\"application/x-tex\">{\\textstyle 1-\\beta }</annotation>\n",
    "  </semantics>\n",
    "</math></span><img src=\"https://wikimedia.org/api/rest_v1/media/math/render/svg/78b8d7b4f0563f15124b1fe650d348b6605a7cc8\" class=\"mwe-math-fallback-image-inline mw-invert skin-invert\" aria-hidden=\"true\" style=\"vertical-align: -0.671ex; width:5.335ex; height:2.509ex;\" alt=\"{\\textstyle 1-\\beta }\"></span>)\n",
    "</p>\n",
    "</td></tr></tbody></table>\n",
    "\n",
    "(https://en.wikipedia.org/wiki/Type_I_and_type_II_errors#Table_of_error_types)"
   ]
  },
  {
   "cell_type": "markdown",
   "id": "c7cbaefa-0bf7-4072-813e-917035f03ac9",
   "metadata": {},
   "source": [
    "The probability that when we reject the null hypothesis when it is actually false is $1 - \\beta$ and is also known as the **power** of the test. It is the probability of detecting an effect (i.e. rejecting the null hypothesis) given that some prespecified effect actually exists using a given test in a given context.\n",
    "\n",
    "(https://en.wikipedia.org/wiki/Power_(statistics))"
   ]
  },
  {
   "cell_type": "markdown",
   "id": "d27ec535-516f-4fb5-a56e-bb7cec99b649",
   "metadata": {},
   "source": [
    "In our example while the population mean for the null hypothesis is 0, the alternative means of other populations are set as -1 and 1.\n",
    "\n",
    "In the certain example we use, we see that since all three sampling distributions overlap to some extent, sum of Type I and Type II errors does not go below 0.23 for different sample mean values:\n",
    "\n",
    "- Increasing the significance level $\\alpha$, also increases Type I error while decreasing Type II error\n",
    "- Decreasing the significance level $\\alpha$, also decreases Type I error while increasing Type II error"
   ]
  },
  {
   "cell_type": "markdown",
   "id": "0329f45f-364e-443b-aca6-f5f9b93a034e",
   "metadata": {},
   "source": [
    "So there is a sort of trade-off between Type I and Type II errors when holding all other things equal and only changing the significance level.\n",
    "\n",
    "How can we decrease Type I error with a higher power of a test (without increasing Type II error)? Let's increase the sample sizes and repeat everything else:"
   ]
  },
  {
   "cell_type": "markdown",
   "id": "f44b8430-8f1c-468b-9c7f-6e9878f5929e",
   "metadata": {},
   "source": [
    "### Larger sample size"
   ]
  },
  {
   "cell_type": "markdown",
   "id": "66aea3d7-a65f-4300-8458-85680a18dd86",
   "metadata": {},
   "source": [
    "Now we increase the sample size from 10 to 50:"
   ]
  },
  {
   "cell_type": "code",
   "execution_count": null,
   "id": "04013566-13b9-4dfc-86ea-8d6431ff4534",
   "metadata": {},
   "outputs": [],
   "source": [
    "sizesamp <- 50\n",
    "sizesamp"
   ]
  },
  {
   "cell_type": "markdown",
   "id": "cde1e8b7-e3d0-468c-a33b-9045153fd55e",
   "metadata": {},
   "source": [
    "Samples drawn from populations:"
   ]
  },
  {
   "cell_type": "code",
   "execution_count": null,
   "id": "42544300-7983-43f5-a6e9-719531a858d8",
   "metadata": {},
   "outputs": [],
   "source": [
    "samps1 <- replicate(nsamps, sample(pop1, sizesamp), simplify = F)\n",
    "samps2 <- replicate(nsamps, sample(pop2, sizesamp), simplify = F)\n",
    "samps3 <- replicate(nsamps, sample(pop3, sizesamp), simplify = F)"
   ]
  },
  {
   "cell_type": "markdown",
   "id": "cbf13896-c675-4c1f-b509-ddb5dfea244d",
   "metadata": {},
   "source": [
    "Sampling distributions:"
   ]
  },
  {
   "cell_type": "code",
   "execution_count": null,
   "id": "c08ee2e1-29bd-4b0d-991a-80985f18db65",
   "metadata": {},
   "outputs": [],
   "source": [
    "sampmus1 <- sapply(samps1, mean)\n",
    "sampmus2 <- sapply(samps2, mean)\n",
    "sampmus3 <- sapply(samps3, mean)\n",
    "sampmus1dt <- data.table(vals = sampmus1, pop = 1, ind = 1, type = \"sampmu\")\n",
    "sampmus2dt <- data.table(vals = sampmus2, pop = 2, ind = 1, type = \"sampmu\")\n",
    "sampmus3dt <- data.table(vals = sampmus3, pop = 3, ind = 1, type = \"sampmu\")\n",
    "sampdist_dt <- rbind(sampmus1dt, sampmus2dt, sampmus3dt)\n",
    "popmus <- data.table(pop = 1:3, popmu = c(pop1mu, pop2mu, pop3mu), popsd = c(pop1sd, pop2sd, pop3sd))\n",
    "sampdist_dt <- sampdist_dt %>% left_join(popmus, by = \"pop\")# %>% left_join(lwdt, by = \"type\")"
   ]
  },
  {
   "cell_type": "code",
   "execution_count": null,
   "id": "bb2307e8-d7e2-44fd-96ad-d7b967ab2878",
   "metadata": {
    "scrolled": true
   },
   "outputs": [],
   "source": [
    "sampdist_dt %>% head"
   ]
  },
  {
   "cell_type": "markdown",
   "id": "839111ed-0c68-4c0b-a64c-e109fde30c0c",
   "metadata": {},
   "source": [
    "Now we will add the quantile information for some certain p-values - the two-sided areas under the tail of the normal distribution:"
   ]
  },
  {
   "cell_type": "code",
   "execution_count": null,
   "id": "65d71364-5676-47f8-bd2d-8289a56e4792",
   "metadata": {},
   "outputs": [],
   "source": [
    "sampdist_dt[1, line001l := qnorm(0.01/2, popmu, popsd /sqrt(sizesamp))]\n",
    "sampdist_dt[1, line005l := qnorm(0.05/2, popmu, popsd /sqrt(sizesamp))]\n",
    "sampdist_dt[1, line010l := qnorm(0.1/2, popmu, popsd /sqrt(sizesamp))]"
   ]
  },
  {
   "cell_type": "code",
   "execution_count": null,
   "id": "e7c7452b-51fa-411a-80e7-88f3f62c829a",
   "metadata": {},
   "outputs": [],
   "source": [
    "sampdist_dt[1, line001r := qnorm(0.01/2, popmu, popsd /sqrt(sizesamp), lower.tail = F)]\n",
    "sampdist_dt[1, line005r := qnorm(0.05/2, popmu, popsd /sqrt(sizesamp), lower.tail = F)]\n",
    "sampdist_dt[1, line010r := qnorm(0.1/2, popmu, popsd /sqrt(sizesamp), lower.tail = F)]"
   ]
  },
  {
   "cell_type": "code",
   "execution_count": null,
   "id": "c1dd2728-3b45-4a40-b214-63ca96699f58",
   "metadata": {},
   "outputs": [],
   "source": [
    "sampdist_dt[, ind2 := .GRP, by = c(\"ind\", \"type\", \"pop\")]"
   ]
  },
  {
   "cell_type": "markdown",
   "id": "d63fbbd1-0bff-4ecf-b454-699ba841d035",
   "metadata": {},
   "source": [
    "Let's plot the densities of sampling distributions together along with vertical lines at quantiles for different significance levels:"
   ]
  },
  {
   "cell_type": "code",
   "execution_count": null,
   "id": "8528c172-1d3d-41d2-9be4-48a9c17fc945",
   "metadata": {},
   "outputs": [],
   "source": [
    "p1b <- sampdist_dt %>%\n",
    "mutate_at(\"vals\", round, 4) %>%\n",
    "mutate_at(\"pop\", factor) %>%\n",
    "mutate_at(\"type\", factor, levels = c(\"pop\", \"sampmu\", \"samp\")) %>%\n",
    "ggplot(aes(x = vals, color = pop)) +\n",
    "geom_density(aes(linewidth = type, group = ind2), adjust = 2) +\n",
    "geom_vline(aes(xintercept = popmu, color = pop)) +\n",
    "geom_vline(aes(xintercept = line010l, color = pop), linetype = 5) +\n",
    "geom_vline(aes(xintercept = line010r, color = pop), linetype = 5) +\n",
    "geom_vline(aes(xintercept = line005l, color = pop), linetype = 2) +\n",
    "geom_vline(aes(xintercept = line005r, color = pop), linetype = 2) +\n",
    "geom_vline(aes(xintercept = line001l, color = pop), linetype = 3) +\n",
    "geom_vline(aes(xintercept = line001r, color = pop), linetype = 3) +\n",
    "scale_linewidth_manual(values = c(pop = 1, sampmu = 0.5, samp = 0.02)) +\n",
    "scale_color_manual(values = c(\"1\" = \"red\", \"2\" = \"blue\", \"3\" = \"green\")) +\n",
    "xlim(c(-5, 5))\n",
    "\n",
    "p1bp <- ggplotly(p1b)  %>%\n",
    "          layout(legend = list(orientation = \"h\",\n",
    "                     xanchor = \"center\",\n",
    "                     x = 0.5, y = -0.6, title = list(text=NULL)), height = 600)"
   ]
  },
  {
   "cell_type": "markdown",
   "id": "4ff448d5-0cf0-4cb2-8df3-9692f3381fcc",
   "metadata": {},
   "source": [
    "And we will also create a separate chart that shows the tail probabilities for the sampling distribution for three populations. The tail probability is two times the smaller of p-value and 1 - p-value calculated for a quantile. We add the vertical lines for the quantiles at certain left and right tail areas/probabilities of $\\alpha = 0.005, 0.025, 0.05$:"
   ]
  },
  {
   "cell_type": "code",
   "execution_count": null,
   "id": "8ff26384-85d6-4901-b6f8-7805371e8baa",
   "metadata": {},
   "outputs": [],
   "source": [
    "qvals <- seq(-5, 5, 0.01)"
   ]
  },
  {
   "cell_type": "code",
   "execution_count": null,
   "id": "f8c68e80-c500-4913-99d2-1e81b768a9c5",
   "metadata": {},
   "outputs": [],
   "source": [
    "pop1pdt <- mapply(function(x, y, z) data.table(qvals, popp = pnorm(qvals, y, z / sqrt(sizesamp)) %>% round(3), pop = x),\n",
    "       1:3, c(pop1mu, pop2mu, pop3mu), c(pop1sd, pop2sd, pop3sd), SIMPLIFY = F) %>% rbindlist\n",
    "pop1pdt[, popp := round(2 * pmin(popp, 1 - popp), 3)]\n",
    "pop1pdt[1, line001l := qnorm(0.01/2, pop1mu, pop1sd /sqrt(sizesamp)) %>% round(3)]\n",
    "pop1pdt[1, line005l := qnorm(0.05/2, pop1mu, pop1sd /sqrt(sizesamp)) %>% round(3)]\n",
    "pop1pdt[1, line010l := qnorm(0.10/2, pop1mu, pop1sd /sqrt(sizesamp)) %>% round(3)]\n",
    "pop1pdt[1, line001r := qnorm(0.01/2, pop1mu, pop1sd /sqrt(sizesamp), lower.tail = F) %>% round(3)]\n",
    "pop1pdt[1, line005r := qnorm(0.05/2, pop1mu, pop1sd /sqrt(sizesamp), lower.tail = F) %>% round(3)]\n",
    "pop1pdt[1, line010r := qnorm(0.10/2, pop1mu, pop1sd /sqrt(sizesamp), lower.tail = F) %>% round(3)]\n",
    "p2b <- pop1pdt %>%\n",
    "mutate_at(\"pop\", factor) %>%\n",
    "ggplot(aes(x = qvals, y = popp)) +\n",
    "geom_line(aes(color = pop)) +\n",
    "geom_vline(aes(xintercept = line010l), linetype = 5, color = \"red\") +\n",
    "geom_vline(aes(xintercept = line005l), linetype = 2, color = \"red\") +\n",
    "geom_vline(aes(xintercept = line001l), linetype = 3, color = \"red\") +\n",
    "geom_vline(aes(xintercept = line010r), linetype = 5, color = \"red\") +\n",
    "geom_vline(aes(xintercept = line005r), linetype = 2, color = \"red\") +\n",
    "geom_vline(aes(xintercept = line001r), linetype = 3, color = \"red\")\n",
    "p2bp <- ggplotly(p2b)"
   ]
  },
  {
   "cell_type": "markdown",
   "id": "02e90fe8-cda1-4ed3-800a-722b69d301f5",
   "metadata": {},
   "source": [
    "And we sum up the p-values of the quantiles for each population in a separate chart:"
   ]
  },
  {
   "cell_type": "code",
   "execution_count": null,
   "id": "8aedcdf6-7424-4058-9dbc-e2162a02905e",
   "metadata": {},
   "outputs": [],
   "source": [
    "poppdt <- pop1pdt[, .(popp = sum(popp)), by = qvals]\n",
    "poppdt[1, line001l := qnorm(0.01/2, pop1mu, pop1sd /sqrt(sizesamp)) %>% round(3)]\n",
    "poppdt[1, line005l := qnorm(0.05/2, pop1mu, pop1sd /sqrt(sizesamp)) %>% round(3)]\n",
    "poppdt[1, line010l := qnorm(0.10/2, pop1mu, pop1sd /sqrt(sizesamp)) %>% round(3)]\n",
    "poppdt[1, line001r := qnorm(0.01/2, pop1mu, pop1sd /sqrt(sizesamp), lower.tail = F) %>% round(3)]\n",
    "poppdt[1, line005r := qnorm(0.05/2, pop1mu, pop1sd /sqrt(sizesamp), lower.tail = F) %>% round(3)]\n",
    "poppdt[1, line010r := qnorm(0.10/2, pop1mu, pop1sd /sqrt(sizesamp), lower.tail = F) %>% round(3)]\n",
    "p3b <- poppdt %>%\n",
    "ggplot(aes(x = qvals, y = popp)) +\n",
    "geom_line(aes(color = \"red\")) +\n",
    "geom_vline(aes(xintercept = line010l), linetype = 5, color = \"red\") +\n",
    "geom_vline(aes(xintercept = line005l), linetype = 2, color = \"red\") +\n",
    "geom_vline(aes(xintercept = line001l), linetype = 3, color = \"red\") +\n",
    "geom_vline(aes(xintercept = line010r), linetype = 5, color = \"red\") +\n",
    "geom_vline(aes(xintercept = line005r), linetype = 2, color = \"red\") +\n",
    "geom_vline(aes(xintercept = line001r), linetype = 3, color = \"red\")\n",
    "p3bp <- ggplotly(p3b)"
   ]
  },
  {
   "cell_type": "markdown",
   "id": "7fda2f15-9a1c-475e-942b-bce581086456",
   "metadata": {},
   "source": [
    "And we combine three charts:"
   ]
  },
  {
   "cell_type": "code",
   "execution_count": null,
   "id": "e59cda99-e93e-4a51-9d2a-473114f8e2d4",
   "metadata": {},
   "outputs": [],
   "source": [
    "p1bp2 <- p1bp %>%\n",
    "  layout(\n",
    "    xaxis = list(\n",
    "      showspikes = TRUE, \n",
    "      spikemode = \"across\", \n",
    "      spikesnap = \"cursor\", \n",
    "      spikethickness = 1.5,\n",
    "      spikecolor = \"black\"\n",
    "    ),\n",
    "    yaxis = list(showspikes = FALSE)\n",
    "  )\n",
    "\n",
    "p2bp2 <- p2bp %>%\n",
    "  layout(\n",
    "    xaxis = list(\n",
    "      showspikes = TRUE, \n",
    "      spikemode = \"across\", \n",
    "      spikesnap = \"cursor\", \n",
    "      spikethickness = 1.5,\n",
    "      spikecolor = \"black\"\n",
    "    ),\n",
    "    yaxis = list(showspikes = FALSE)\n",
    "  )\n",
    "\n",
    "p3bp2 <- p3bp %>%\n",
    "  layout(\n",
    "    xaxis = list(\n",
    "      showspikes = TRUE, \n",
    "      spikemode = \"across\", \n",
    "      spikesnap = \"cursor\", \n",
    "      spikethickness = 1.5,\n",
    "      spikecolor = \"black\"\n",
    "    ),\n",
    "    yaxis = list(showspikes = FALSE)\n",
    "  )\n",
    "\n",
    "subplot(p1bp2, p2bp2, p3bp2, nrows = 3, shareX = TRUE) %>%\n",
    "  layout(\n",
    "    hovermode = \"x unified\",\n",
    "      annotations = list(\n",
    "    list(y = 1, text = \"Sampling Distribution\", showarrow = F, xref='paper', yref='paper'),\n",
    "    list(y = 0.67, text = \"P-Values for All Populations\", showarrow = F, xref='paper', yref='paper'),\n",
    "    list(y = 0.33, text = \"Sum of P-Values for All Populations\", showarrow = F, xref='paper', yref='paper')),\n",
    "      height = 900\n",
    "  )"
   ]
  },
  {
   "cell_type": "markdown",
   "id": "23341ad1-1852-4337-ad0d-d4f0328e9d78",
   "metadata": {},
   "source": [
    "When we increase the sample size, the standard errors of the sampling distributions are lower according to the square root law and the sampling distributions are narrower and they do not mostly overlap.\n",
    "\n",
    "When we decrease the significance level from 0.1 to 0.05 and 0.01, the Type II error does not increase apparently. In the previous example with a sample size of 10, at 0.01 significance level, the sum of Type I and Type II errors in the third subplot was 0.56. In the second example with a sample size of 50, Type II error is almost zero so total error comes from only Type I and is 0.01.\n",
    "\n",
    "So to increase the power of a test, while decreasing Type I error without a trade-off between two error types is to increase the sample size. "
   ]
  },
  {
   "cell_type": "markdown",
   "id": "64c9e3d7-622e-4e2f-b029-7c534d1b852b",
   "metadata": {},
   "source": [
    "# One sample - Unknown population standard deviation"
   ]
  },
  {
   "cell_type": "markdown",
   "id": "a0433f51-e233-47d1-9dfd-85295e06fc65",
   "metadata": {},
   "source": [
    "## T-Distribution Simulation"
   ]
  },
  {
   "cell_type": "markdown",
   "id": "8b09c492-2aa2-44d9-9ca4-49fbb094390d",
   "metadata": {},
   "source": [
    "We sample again from the first population with a size of 10, as we did in the first example:"
   ]
  },
  {
   "cell_type": "code",
   "execution_count": null,
   "id": "13f0692e-368a-42b4-aaeb-8ad099d5fe5c",
   "metadata": {},
   "outputs": [],
   "source": [
    "sizesamp <- 10"
   ]
  },
  {
   "cell_type": "markdown",
   "id": "eb03d14c-6c47-4bd6-b64d-add9eacdbb78",
   "metadata": {},
   "source": [
    "Let's increase the sample size:"
   ]
  },
  {
   "cell_type": "code",
   "execution_count": null,
   "id": "620dd182-a2bf-4a0f-a861-ca02a49c866f",
   "metadata": {},
   "outputs": [],
   "source": [
    "nsamps <- 1e3"
   ]
  },
  {
   "cell_type": "code",
   "execution_count": null,
   "id": "8d056414-eec1-4930-854e-2b9b127b9ef1",
   "metadata": {},
   "outputs": [],
   "source": [
    "set.seed(20)\n",
    "samps1 <- replicate(nsamps, sample(pop1, sizesamp), simplify = F)\n",
    "sampmus1 <- sapply(samps1, mean)"
   ]
  },
  {
   "cell_type": "markdown",
   "id": "cb754a7b-89ba-452d-a3aa-52e0618f278e",
   "metadata": {},
   "source": [
    "Now let's calculate the standardized Z-scores - test statistics - of the sample means:"
   ]
  },
  {
   "cell_type": "code",
   "execution_count": null,
   "id": "be2e4c8d-adfd-44ca-a7fe-f596b82a208b",
   "metadata": {},
   "outputs": [],
   "source": [
    "sampz_pop <- (sampmus1 - pop1mu) / (pop1sd / sqrt(sizesamp))"
   ]
  },
  {
   "cell_type": "markdown",
   "id": "18d4fe3b-53a8-4ce7-b037-6b7e26e2a703",
   "metadata": {},
   "source": [
    "See the distribution:"
   ]
  },
  {
   "cell_type": "code",
   "execution_count": null,
   "id": "01eff9ae-e051-411f-af8f-9a24a0246fbe",
   "metadata": {},
   "outputs": [],
   "source": [
    "hist(sampz_pop)"
   ]
  },
  {
   "cell_type": "markdown",
   "id": "ef24f2c5-40ec-4798-99f2-ef9b66c09307",
   "metadata": {},
   "source": [
    "And summary values:"
   ]
  },
  {
   "cell_type": "code",
   "execution_count": null,
   "id": "de03f120-12a5-4ce1-a871-a2a8f9785387",
   "metadata": {},
   "outputs": [],
   "source": [
    "var(sampz_pop)\n",
    "summary(sampz_pop)"
   ]
  },
  {
   "cell_type": "markdown",
   "id": "489e19e2-89ec-4e5c-b113-301fbc3e8c07",
   "metadata": {},
   "source": [
    "That's sth we can do when we know the true population standard deviation. However we usually do not have this value, except for some specific cases, like population \n",
    "proportions which conform with binomial distribution and the standard deviation can be calculated from the proportion.\n",
    "\n",
    "The best we can have as an indicator of population $\\sigma$ is the sample standard deviation $s$. However that is also subject to a large variation:"
   ]
  },
  {
   "cell_type": "code",
   "execution_count": null,
   "id": "1d77309a-b75f-487d-93ee-c39615393d92",
   "metadata": {},
   "outputs": [],
   "source": [
    "sampsds1 <- sapply(samps1, sd)"
   ]
  },
  {
   "cell_type": "markdown",
   "id": "46658b88-7834-4596-8498-94c1ca2b789a",
   "metadata": {},
   "source": [
    "The histogram of standard deviations:"
   ]
  },
  {
   "cell_type": "code",
   "execution_count": null,
   "id": "2199ede0-30c7-4e24-ba0c-a28cbb29d1bc",
   "metadata": {},
   "outputs": [],
   "source": [
    "hist(sampsds1)"
   ]
  },
  {
   "cell_type": "markdown",
   "id": "852bc000-4133-4b6b-ba91-378e0c26bf12",
   "metadata": {},
   "source": [
    "We know that sum of squares of k sized samples drawn from standard normal distribution is distributed according to $\\chi^2$ distribution with a degrees of freedom of k. The above histogram shows the distribution of standard deviations not the sum of squares."
   ]
  },
  {
   "cell_type": "markdown",
   "id": "6bb92f10-9816-4ac9-a2be-671c7ee303e9",
   "metadata": {},
   "source": [
    "Now let's calculate the test statistics of sample means again, but this time using the sample standard deviation s of each sample:"
   ]
  },
  {
   "cell_type": "code",
   "execution_count": null,
   "id": "a975f1c8-a73d-4607-9228-74254c5bdc03",
   "metadata": {},
   "outputs": [],
   "source": [
    "sampz_samp <- (sampmus1 - pop1mu) / (sampsds1  / sqrt(sizesamp))"
   ]
  },
  {
   "cell_type": "markdown",
   "id": "fc3d4ba6-0b39-4cf4-b666-6e39cb57bd7f",
   "metadata": {},
   "source": [
    "And see the distribution of test statistics:"
   ]
  },
  {
   "cell_type": "code",
   "execution_count": null,
   "id": "dd91dd5b-5b15-4b3d-93df-dec7e4751bb6",
   "metadata": {},
   "outputs": [],
   "source": [
    "hist(sampz_samp)"
   ]
  },
  {
   "cell_type": "markdown",
   "id": "46e88537-ad2c-4db7-bfb5-df60b862a3f1",
   "metadata": {},
   "source": [
    "And see the summary values:"
   ]
  },
  {
   "cell_type": "code",
   "execution_count": null,
   "id": "c63fafca-0e3a-464a-b798-ef1ebaeb7a71",
   "metadata": {},
   "outputs": [],
   "source": [
    "var(sampz_samp)\n",
    "summary(sampz_samp)"
   ]
  },
  {
   "cell_type": "markdown",
   "id": "be49d4cd-02d2-44db-9f9c-6a9581214072",
   "metadata": {},
   "source": [
    "The test statistics calculated by sample standard deviations have a higher variance and more extreme values."
   ]
  },
  {
   "cell_type": "markdown",
   "id": "85d88656-f49b-433b-822f-356b1e77cf2b",
   "metadata": {},
   "source": [
    "While the kurtosis of the distribution of test statistics calculated by the population standard deviation is almost normally distributed, the kurtosis of the distribution of test statistics calculated by the sample standard deviation has more extreme values and fat tails:"
   ]
  },
  {
   "cell_type": "code",
   "execution_count": null,
   "id": "2c9b06aa-39df-446e-8bd6-b096e6c5af05",
   "metadata": {},
   "outputs": [],
   "source": [
    "kurtosis(sampz_pop)\n",
    "kurtosis(sampz_samp)"
   ]
  },
  {
   "cell_type": "markdown",
   "id": "62d707a6-7dcc-496a-9d50-8791f3e61bb7",
   "metadata": {},
   "source": [
    "The test statistics as calculated by sample standard deviations are t-distributed with a degrees of freedom of sample size minus 1. Let's get a random sample from the t-distribution with n - 1 degrees of freedom:"
   ]
  },
  {
   "cell_type": "code",
   "execution_count": null,
   "id": "caf9cf66-77d5-41d2-b754-f6dd063bec77",
   "metadata": {},
   "outputs": [],
   "source": [
    "set.seed(20)\n",
    "tsamp <- rt(nsamps, sizesamp - 1)"
   ]
  },
  {
   "cell_type": "markdown",
   "id": "a78361a1-ee11-4a4b-8cd5-cfdc1aa5cf6a",
   "metadata": {},
   "source": [
    "Its histogram:"
   ]
  },
  {
   "cell_type": "code",
   "execution_count": null,
   "id": "a3d663b1-db23-4398-bcfc-c99fef7dd96e",
   "metadata": {},
   "outputs": [],
   "source": [
    "hist(tsamp)"
   ]
  },
  {
   "cell_type": "markdown",
   "id": "efcb3fac-470c-4d87-bec6-487772bd399b",
   "metadata": {},
   "source": [
    "And summary values:"
   ]
  },
  {
   "cell_type": "code",
   "execution_count": null,
   "id": "422aa124-8115-4757-a1a4-70d4ab5a1d69",
   "metadata": {},
   "outputs": [],
   "source": [
    "var(tsamp)\n",
    "summary(tsamp)\n",
    "kurtosis(tsamp)"
   ]
  },
  {
   "cell_type": "markdown",
   "id": "8d3e2091-e0a2-4524-bebb-cdf2b5a9c02f",
   "metadata": {},
   "source": [
    "The distribution statistics are similar to the test statistics we get by using sample standard deviations."
   ]
  },
  {
   "cell_type": "markdown",
   "id": "80c73f89-76da-445b-8dff-304178531ced",
   "metadata": {},
   "source": [
    "Now let's get the density of t-distribution with n - 1 df:"
   ]
  },
  {
   "cell_type": "code",
   "execution_count": null,
   "id": "bb20ada6-6903-4829-8b1e-668c2d0cde57",
   "metadata": {},
   "outputs": [],
   "source": [
    "dens_t9 <- dt(qvals, sizesamp - 1)"
   ]
  },
  {
   "cell_type": "markdown",
   "id": "1ac7edc2-bd1c-4779-9812-a7d8511d7147",
   "metadata": {},
   "source": [
    "And compare the densities:"
   ]
  },
  {
   "cell_type": "code",
   "execution_count": null,
   "id": "d33a6662-e400-4d19-a555-f17d1aedb7be",
   "metadata": {},
   "outputs": [],
   "source": [
    "plot(density(sampz_samp), col = \"black\")\n",
    "lines(qvals, dens_t9, col = \"red\")"
   ]
  },
  {
   "cell_type": "markdown",
   "id": "627eb38f-bfff-4a9d-98cc-fe7bdaf76e8b",
   "metadata": {},
   "source": [
    "They almost overlap. So test statistics calculated by using the sample standard deviations for samples of size n are t-distributed with a degrees of freedom of n - 1."
   ]
  },
  {
   "cell_type": "markdown",
   "id": "dea9d340-461b-4870-85cc-aabcede77ca6",
   "metadata": {},
   "source": [
    "Now let's combine the test-statistic distributions using population sd and sample sds, and add the quantile values for different $\\alpha$ levels for both distributions:"
   ]
  },
  {
   "cell_type": "code",
   "execution_count": null,
   "id": "fab04dd2-2c39-46b1-8e81-9e05d93e760e",
   "metadata": {},
   "outputs": [],
   "source": [
    "sampt_dt <- rbind(data.table(vals = sampz_pop, type = \"pop_sd\"),\n",
    "                  data.table(vals = sampz_samp, type = \"samp_sd\"))\n",
    "sampt_dt[1, line001l := qnorm(0.01/2, 0, pop1sd)]\n",
    "sampt_dt[1, line005l := qnorm(0.05/2, 0, pop1sd)]\n",
    "sampt_dt[1, line010l := qnorm(0.1/2, 0, pop1sd)]\n",
    "sampt_dt[1, line001r := qnorm(0.01/2, 0, pop1sd, lower.tail = F)]\n",
    "sampt_dt[1, line005r := qnorm(0.05/2, 0, pop1sd, lower.tail = F)]\n",
    "sampt_dt[1, line010r := qnorm(0.1/2, 0, pop1sd, lower.tail = F)]\n",
    "sampt_dt[1, tline001l := qt(0.01/2, sizesamp - 1)]\n",
    "sampt_dt[1, tline005l := qt(0.05/2, sizesamp - 1)]\n",
    "sampt_dt[1, tline010l := qt(0.1/2, sizesamp - 1)]\n",
    "sampt_dt[1, tline001r := qt(0.01/2, sizesamp - 1, lower.tail = F)]\n",
    "sampt_dt[1, tline005r := qt(0.05/2, sizesamp - 1, lower.tail = F)]\n",
    "sampt_dt[1, tline010r := qt(0.1/2, sizesamp - 1, lower.tail = F)]"
   ]
  },
  {
   "cell_type": "code",
   "execution_count": null,
   "id": "f1b05d28-2006-4206-951b-b67226f3088b",
   "metadata": {},
   "outputs": [],
   "source": [
    "p1c <- sampt_dt %>%\n",
    "mutate_at(\"vals\", round, 4) %>%\n",
    "mutate_at(\"type\", factor, levels = c(\"pop_sd\", \"samp_sd\", \"tdist\")) %>%\n",
    "ggplot(aes(x = vals, color = type)) +\n",
    "geom_density(aes(group = type), adjust = 2) +\n",
    "geom_vline(aes(xintercept = 0, color = \"red\")) +\n",
    "geom_vline(aes(xintercept = line010l, color = \"red\"), linetype = 5) +\n",
    "geom_vline(aes(xintercept = line010r, color = \"red\"), linetype = 5) +\n",
    "geom_vline(aes(xintercept = line005l, color = \"red\"), linetype = 2) +\n",
    "geom_vline(aes(xintercept = line005r, color = \"red\"), linetype = 2) +\n",
    "geom_vline(aes(xintercept = line001l, color = \"red\"), linetype = 3) +\n",
    "geom_vline(aes(xintercept = line001r, color = \"red\"), linetype = 3) +\n",
    "geom_vline(aes(xintercept = tline010l, color = \"blue\"), linetype = 5) +\n",
    "geom_vline(aes(xintercept = tline010r, color = \"blue\"), linetype = 5) +\n",
    "geom_vline(aes(xintercept = tline005l, color = \"blue\"), linetype = 2) +\n",
    "geom_vline(aes(xintercept = tline005r, color = \"blue\"), linetype = 2) +\n",
    "geom_vline(aes(xintercept = tline001l, color = \"blue\"), linetype = 3) +\n",
    "geom_vline(aes(xintercept = tline001r, color = \"blue\"), linetype = 3) +\n",
    "xlim(c(-5, 5))\n",
    "\n",
    "p1cp <- ggplotly(p1c)  %>%\n",
    "          layout(legend = list(orientation = \"h\",\n",
    "                     xanchor = \"center\",\n",
    "                     x = 0.5, y = -0.6, title = list(text=NULL)), height = 600)"
   ]
  },
  {
   "cell_type": "code",
   "execution_count": null,
   "id": "79a086f1-69c3-446d-b57c-3c55cca07da6",
   "metadata": {},
   "outputs": [],
   "source": [
    "p1cp"
   ]
  },
  {
   "cell_type": "markdown",
   "id": "3e09784a-5207-45fc-81b6-25510735e4d2",
   "metadata": {},
   "source": [
    "We see that the distribution of test-statistics using sample standard deviations has higher distribution at the tails - fatter tails - and hence the critical values for different $\\alpha$ levels are further away from the mean"
   ]
  },
  {
   "cell_type": "code",
   "execution_count": null,
   "id": "378d7408-1b56-41e7-a259-60f6c99c43d3",
   "metadata": {},
   "outputs": [],
   "source": [
    "critical_stats <- data.table(alpha = c(0.1, 0.05, 0.01))"
   ]
  },
  {
   "cell_type": "code",
   "execution_count": null,
   "id": "28a21950-9156-405d-9eea-11018c1e511e",
   "metadata": {},
   "outputs": [],
   "source": [
    "critical_stats[, norm := qnorm(alpha / 2, lower.tail = F) %>% round(2)]\n",
    "critical_stats[, tdist := qt(alpha / 2, sizesamp - 1, lower.tail = F) %>% round(2)]"
   ]
  },
  {
   "cell_type": "code",
   "execution_count": null,
   "id": "6019547f-0578-4703-a1de-aaf17b5d543b",
   "metadata": {},
   "outputs": [],
   "source": [
    "critical_stats"
   ]
  },
  {
   "cell_type": "markdown",
   "id": "80a9a23c-ea31-4729-b770-1a9f34ea69d2",
   "metadata": {},
   "source": [
    "When the df is 1, t-distribution becomes Cauchy distribution. As df approaches $\\infty$, t-distribution converges to normal distribution."
   ]
  },
  {
   "cell_type": "markdown",
   "id": "365a5f01-b077-4be3-a767-fdb9eaa2d823",
   "metadata": {},
   "source": [
    "## T-test Example"
   ]
  },
  {
   "cell_type": "markdown",
   "id": "cdc50362-a64d-4672-9609-27bd7d38c15d",
   "metadata": {},
   "source": [
    "Now let's find the sample that we created above mean of which is closest to the example sample mean we used before:"
   ]
  },
  {
   "cell_type": "code",
   "execution_count": null,
   "id": "25f8c6f7-e819-4825-b763-300b0f21f351",
   "metadata": {},
   "outputs": [],
   "source": [
    "sampm1"
   ]
  },
  {
   "cell_type": "code",
   "execution_count": null,
   "id": "a4016b07-e005-4709-aad1-e46dd8ebe671",
   "metadata": {},
   "outputs": [],
   "source": [
    "sampleind <- which(abs(sampmus1 - sampm1) < 0.01)\n",
    "sampleind"
   ]
  },
  {
   "cell_type": "code",
   "execution_count": null,
   "id": "a7be2cbd-b05c-422b-88de-9a22c03ed553",
   "metadata": {},
   "outputs": [],
   "source": [
    "smp <- samps1[[sampleind]]"
   ]
  },
  {
   "cell_type": "code",
   "execution_count": null,
   "id": "e8708081-0e19-4ad9-ba22-934e54c60aa7",
   "metadata": {},
   "outputs": [],
   "source": [
    "smp"
   ]
  },
  {
   "cell_type": "markdown",
   "id": "0444cc37-623b-4a48-acb4-c08eb22f3828",
   "metadata": {},
   "source": [
    "Let's test whether this sample's mean is significantly different from the population mean at $\\alpha = 0.05$ significance level."
   ]
  },
  {
   "cell_type": "markdown",
   "id": "a3540abc-1fef-475e-8ca0-897d2748d45c",
   "metadata": {},
   "source": [
    "So our $H_0$ is **the population that the sample is drawn from has a mean of 0**"
   ]
  },
  {
   "cell_type": "markdown",
   "id": "89bc84e1-1e63-463e-a5ef-e03bd3768155",
   "metadata": {},
   "source": [
    "Let's first get the sample mean:"
   ]
  },
  {
   "cell_type": "code",
   "execution_count": null,
   "id": "313c2526-d271-4cc0-8a6c-16f502bbfb96",
   "metadata": {},
   "outputs": [],
   "source": [
    "smpm <- mean(smp)\n",
    "smpm"
   ]
  },
  {
   "cell_type": "markdown",
   "id": "5656d849-a90a-4cb0-8878-2208750b8e20",
   "metadata": {},
   "source": [
    "And sample standard deviation:"
   ]
  },
  {
   "cell_type": "code",
   "execution_count": null,
   "id": "f76d2cf7-6b20-4847-9fd7-932c9340c922",
   "metadata": {},
   "outputs": [],
   "source": [
    "smpsd <- sd(smp)\n",
    "smpsd"
   ]
  },
  {
   "cell_type": "markdown",
   "id": "0b799cc9-0b9f-4273-a627-1461f14ec2f5",
   "metadata": {},
   "source": [
    "Our hypothesized population mu is the same:"
   ]
  },
  {
   "cell_type": "code",
   "execution_count": null,
   "id": "8093a563-0d5a-480f-81f6-25fd7cdc1b72",
   "metadata": {},
   "outputs": [],
   "source": [
    "pop1mu"
   ]
  },
  {
   "cell_type": "markdown",
   "id": "0ddee5bc-e215-4dcb-86f6-034d362afaae",
   "metadata": {},
   "source": [
    "And the standard error is:"
   ]
  },
  {
   "cell_type": "code",
   "execution_count": null,
   "id": "c586dec8-91be-49c8-8424-0cfe606560dc",
   "metadata": {},
   "outputs": [],
   "source": [
    "se <- smpsd/sqrt(sizesamp)\n",
    "se"
   ]
  },
  {
   "cell_type": "markdown",
   "id": "b0fcfa19-c555-4ce4-9422-685fd14802e1",
   "metadata": {},
   "source": [
    "And let's set significance level:"
   ]
  },
  {
   "cell_type": "code",
   "execution_count": null,
   "id": "44fb9688-7f64-4b44-b605-87730ee2ec43",
   "metadata": {},
   "outputs": [],
   "source": [
    "siglev <- 0.05\n",
    "siglev"
   ]
  },
  {
   "cell_type": "markdown",
   "id": "8abf9c03-0917-467e-878b-1dbf54ab6cf1",
   "metadata": {},
   "source": [
    "### t-test statistic"
   ]
  },
  {
   "cell_type": "markdown",
   "id": "e60a9c06-b653-4a30-b319-cf6092bced76",
   "metadata": {},
   "source": [
    "First let's calculate the t-test statistic, standardized score of the sample mean using standard error of the sample:"
   ]
  },
  {
   "cell_type": "code",
   "execution_count": null,
   "id": "bd84ba31-9268-4054-93c1-ef90f46882c9",
   "metadata": {},
   "outputs": [],
   "source": [
    "tval <- (smpm - pop1mu)/se\n",
    "tval"
   ]
  },
  {
   "cell_type": "markdown",
   "id": "f395c6bc-c551-4d7b-a6d1-1d037ab15d42",
   "metadata": {},
   "source": [
    "And let's calculate the critical test statistic again:"
   ]
  },
  {
   "cell_type": "code",
   "execution_count": null,
   "id": "d48eb9f4-9ee0-4b91-90e2-3be4f7bd0fa1",
   "metadata": {},
   "outputs": [],
   "source": [
    "tcrit05 <- qt(siglev/2, df = sizesamp - 1, lower.tail = F)\n",
    "tcrit05"
   ]
  },
  {
   "cell_type": "markdown",
   "id": "afe2cb2a-75b6-494b-892a-9e82ffc3bbec",
   "metadata": {},
   "source": [
    "The absolute value of t-test statistic of the sample is smaller than the critical test statistic:\n",
    "\n",
    "|-1.99| < 2.25\n",
    "\n",
    "\n",
    "So **we do not reject H_0**.\n",
    "\n",
    "Let's confirm with other methods."
   ]
  },
  {
   "cell_type": "markdown",
   "id": "18355a6a-d8ef-4448-9be6-7350f6f18704",
   "metadata": {},
   "source": [
    "### P-value"
   ]
  },
  {
   "cell_type": "code",
   "execution_count": null,
   "id": "b29d21e4-6a9a-4f40-b680-37a9fe0f216c",
   "metadata": {},
   "outputs": [],
   "source": [
    "pval <- pt(tval, df = sizesamp - 1)\n",
    "pval <- 2 * min(pval, 1 - pval)\n",
    "pval"
   ]
  },
  {
   "cell_type": "markdown",
   "id": "26aa60d8-29ec-479a-8450-12589112ac1a",
   "metadata": {},
   "source": [
    "P-value of the t-test statistic of the sample 0.078 is larger than the $\\alpha$ level of 0.05. So **we do not reject H_0**."
   ]
  },
  {
   "cell_type": "markdown",
   "id": "66fe6073-53a9-4b33-bfc8-92c421446f6e",
   "metadata": {},
   "source": [
    "### Confidence interval"
   ]
  },
  {
   "cell_type": "markdown",
   "id": "74932b7b-36b7-4f28-bc24-9bf232aff791",
   "metadata": {},
   "source": [
    "Using the critical test-statistic, let's calculate the lower and upper bounds of the confidence interval around the sample mean:"
   ]
  },
  {
   "cell_type": "code",
   "execution_count": null,
   "id": "4693f331-7d8d-4d62-99cc-e16d7877ee52",
   "metadata": {},
   "outputs": [],
   "source": [
    "confintt <- round(smpm + c(-1, 1) * tcrit05 * se, 3)\n",
    "confintt"
   ]
  },
  {
   "cell_type": "code",
   "execution_count": null,
   "id": "515172f1-1de7-46b1-8c73-53c53690a668",
   "metadata": {},
   "outputs": [],
   "source": [
    "pop1mu %between% confintt"
   ]
  },
  {
   "cell_type": "markdown",
   "id": "b3033234-4d47-4f97-ab73-2c08bf7ba2c1",
   "metadata": {},
   "source": [
    "Since hypothesized population mean is within this interval:\n",
    "\n",
    "-1.48 < 0 < 0.095\n",
    "\n",
    "**we do not reject $H_0$**"
   ]
  },
  {
   "cell_type": "markdown",
   "id": "8bc64064-3cca-4759-9212-dfdf5ec31aec",
   "metadata": {},
   "source": [
    "### t-test function"
   ]
  },
  {
   "cell_type": "markdown",
   "id": "76e90e2d-7571-4fe3-958f-a648c5b6bc59",
   "metadata": {},
   "source": [
    "We can automatize the two-sided t-test using base `t.test` function:"
   ]
  },
  {
   "cell_type": "code",
   "execution_count": null,
   "id": "51e9e987-8b5d-4346-9206-690f1236852c",
   "metadata": {},
   "outputs": [],
   "source": [
    "t.test(smp, mu = pop1mu, conf.level = 1 - siglev)"
   ]
  },
  {
   "cell_type": "markdown",
   "id": "31402a01-2c73-42a0-a1a9-c9d41c1cd011",
   "metadata": {},
   "source": [
    "We confirm the same conclusions:\n",
    "\n",
    "- Absolute value of t-test statistic, 1.99, is smaller than the critical test statistic of 2.26 (which is not reported here in the output)\n",
    "- P-value of 0.078 is greater than $\\alpha$ level of 0.05\n",
    "- Population mean of 0 is within the confidence interval between -1.48 and 0.095\n",
    "\n",
    "So **we do not reject $H_0$**"
   ]
  },
  {
   "cell_type": "markdown",
   "id": "7e14a4d8-d069-4d24-aec5-a00705c9fdca",
   "metadata": {},
   "source": [
    "Now let's change the significance level $\\alpha$ to 0.1 and conduct the test again."
   ]
  },
  {
   "cell_type": "code",
   "execution_count": null,
   "id": "20cbb063-42f1-4290-972a-d6468c595812",
   "metadata": {},
   "outputs": [],
   "source": [
    "siglev <- 0.1"
   ]
  },
  {
   "cell_type": "code",
   "execution_count": null,
   "id": "75d6968c-fd1c-4ee1-81ed-de4950ddba84",
   "metadata": {},
   "outputs": [],
   "source": [
    "tcrit10 <- qt(siglev/2, df = sizesamp - 1, lower.tail = F)\n",
    "tcrit10"
   ]
  },
  {
   "cell_type": "code",
   "execution_count": null,
   "id": "0e7dc1cd-1f91-4b8b-83f1-bdfd103fdb61",
   "metadata": {},
   "outputs": [],
   "source": [
    "t.test(smp, mu = pop1mu, conf.level = 1 - siglev)"
   ]
  },
  {
   "cell_type": "markdown",
   "id": "3fb2aab7-faa8-4d1f-9429-474629771c75",
   "metadata": {},
   "source": [
    "In this second example:\n",
    "\n",
    "- Absolute value of t-test statistic, 1.99 is larger than the critical test statistic of 1.83\n",
    "- p-value of 0.078 is smallar than $\\alpha$ value of 0.1\n",
    "- Population mean of 0 is outside the confidence interval bounded by -1.33 and -0.05\n",
    "\n",
    "While the sample values and the population mean is the same, with a higher significance level (and a higher Type I error), **we reject $H_0$**.\n",
    "\n",
    "So we conclude that sample is not drawn from the population with a mean of 0. However, we know that the sample was in fact drawn from the population. With a higher significance level, we rejected $H_0$ which was in fact true. That is an example of Type I error."
   ]
  },
  {
   "cell_type": "markdown",
   "id": "8738622a-f18d-4b5f-9ef9-db69e4c8b149",
   "metadata": {},
   "source": [
    "# Resources for Hypothesis Testing"
   ]
  },
  {
   "cell_type": "markdown",
   "id": "4b61aed9-20f3-45bb-b08b-82c528720d34",
   "metadata": {},
   "source": [
    "You can get more information and simulated examples on hypothesis testing from these resources:\n",
    "\n",
    "- Chapters 3-4-5 of Agresti and Kateri 2021, Foundations of Statistics for Data Scientists: With R and Python\n",
    "- Chapters 3-4 of Vasishth and Broe 2011, The Foundations of Statistics: A Simulation-based Approach\n",
    "- Chapters 5 and 13 of Kaplan and Pruim 2023, Statistical Modeling: A Fresh Approach (https://statistical-modeling.netlify.app/13-hypothesis-logic)"
   ]
  },
  {
   "cell_type": "markdown",
   "id": "732eb9b8-8f8f-4175-82bd-b9e4059daafe",
   "metadata": {},
   "source": [
    "# Function for Lab Assignment\n",
    "\n",
    "**by Kemal Arda Elaman**"
   ]
  },
  {
   "cell_type": "markdown",
   "id": "d674b767-4a4e-4b66-99bd-078671c868d4",
   "metadata": {},
   "source": [
    "**Copy this cell into the top of your notebook:** "
   ]
  },
  {
   "cell_type": "code",
   "execution_count": null,
   "id": "c5aec8a9-285a-430d-9c78-3713dd82263d",
   "metadata": {},
   "outputs": [],
   "source": [
    "library(ggplot2)\n",
    "library(data.table)\n",
    "\n",
    "hypo_lab <- function(student_id) {\n",
    "  \n",
    "  # Parameters\n",
    "  alpha <- 0.05\n",
    "  n <- 50\n",
    "  mu_null <- 100\n",
    "  sd_true <- 10\n",
    "  \n",
    "  offset_range <- 2\n",
    "  \n",
    "  set.seed(student_id)\n",
    "  \n",
    "  # Controlled Random True Mean (around CI)\n",
    "  se <- sd_true / sqrt(n)\n",
    "  ci_halfwidth <- qt(1 - alpha/2, df = n - 1) * se\n",
    "  offset <- sample(seq(-offset_range, offset_range, 0.1), 1)\n",
    "  true_mean <- mu_null + offset * ci_halfwidth\n",
    "  \n",
    "  # Generating Data\n",
    "  data <- rnorm(n, mean = true_mean, sd = sd_true)\n",
    "  \n",
    "  # T-Test\n",
    "  t_test <- t.test(data, mu = mu_null)\n",
    "  t_val <- as.numeric(t_test$statistic)\n",
    "  p_val <- t_test$p.value\n",
    "  mean_data <- mean(data)\n",
    "  sd_data <- sd(data)\n",
    "  t_crit <- qt(1 - alpha/2, df = n - 1)\n",
    "  \n",
    "  # Summary Table\n",
    "  summary_dt <- data.table(\n",
    "    Student_ID  = student_id,\n",
    "    Alpha       = alpha,\n",
    "    True_Mean   = round(true_mean, 2),\n",
    "    Sample_Mean = round(mean_data, 2),\n",
    "    Sample_SD   = round(sd_data, 2),\n",
    "    N           = n,\n",
    "    T_Value     = round(t_val, 3),\n",
    "    P_Value     = round(p_val, 4),\n",
    "    CI_Lower    = round(t_test$conf.int[1], 2),\n",
    "    CI_Upper    = round(t_test$conf.int[2], 2),\n",
    "    T_Crit      = round(t_crit, 3)\n",
    "  )\n",
    "  \n",
    "  # Visualization\n",
    "  x <- seq(-4, 4, length = 400)\n",
    "  y <- dt(x, df = n - 1)\n",
    "  df_t <- data.frame(x, y)\n",
    "  \n",
    "  plt <- ggplot(df_t, aes(x, y)) +\n",
    "    geom_line(size = 1.2, color = \"black\") +\n",
    "    geom_area(data = subset(df_t, x <= -t_crit), fill = \"red\", alpha = 0.4) +\n",
    "    geom_area(data = subset(df_t, x >=  t_crit), fill = \"red\", alpha = 0.4) +\n",
    "    geom_area(data = subset(df_t, x > -t_crit & x < t_crit), fill = \"skyblue\", alpha = 0.4) +\n",
    "    geom_vline(xintercept = t_val, color = \"blue\", linewidth = 1.2) +\n",
    "    annotate(\"text\", x = t_val, y = 0.05, label = paste0(\"t = \", round(t_val, 2)), \n",
    "             color = \"blue\", angle = 90, vjust = -0.5) +\n",
    "    geom_vline(xintercept = c(-t_crit, t_crit), linetype = \"dashed\", color = \"red\") +\n",
    "    labs(\n",
    "      title = paste0(\"t-Distribution (α = \", alpha, \", n = \", n, \")\"),\n",
    "      subtitle = paste0(\"p-value = \", round(p_val, 4)),\n",
    "      x = \"t-value\",\n",
    "      y = \"Density\"\n",
    "    ) +\n",
    "    theme_minimal(base_size = 14)\n",
    "  \n",
    "  print(plt)\n",
    "  data.table(summary_dt)\n",
    "}"
   ]
  },
  {
   "cell_type": "markdown",
   "id": "33839b15-daab-47c3-97d6-49744edfc55a",
   "metadata": {},
   "source": [
    "**Do not copy the cells below into your notebook but you can execute the example run and read the descriptions below to understand the output for your own submission:**"
   ]
  },
  {
   "cell_type": "markdown",
   "id": "59a746c6-ac7d-4b36-a8a6-db243db96b15",
   "metadata": {},
   "source": [
    "Example run:"
   ]
  },
  {
   "cell_type": "code",
   "execution_count": null,
   "id": "3336fe47-6354-4495-b34a-6b7adeb187f8",
   "metadata": {},
   "outputs": [],
   "source": [
    "hypo_lab(2025000000)"
   ]
  },
  {
   "cell_type": "markdown",
   "id": "9989164d-8bd8-490f-add9-672a66e0f399",
   "metadata": {},
   "source": [
    "Explanation of columns:\n",
    "\n",
    "- **Alpha:** Significance level for the test, $\\alpha$.\n",
    "- **True_Mean:** True mean of the population that we test the sample mean against.\n",
    "- **Sample_Mean:** Mean of the sample.\n",
    "- **Sample_SD:** Standard deviation of the sample.\n",
    "- **N:** Size of the sample.\n",
    "- **T-Value:** T-test statistic of the sample mean, standardized distance of sample mean to population mean divided by standard error of the sample (blue vertical line in the plot)\n",
    "- **P-Value:** P-Value of the T-statistic of the sample mean. There is a P-Value probability that sample means drawn from the same population are more extreme than our sample mean.\n",
    "- **CI_Lower:** Lower boundary of confidence interval. In $1-\\alpha$ of all samples drawn from the same population, true mean is within the confidence interval calculated for each of these samples.\n",
    "- **CI_Upper:** Upper boundary of confidence interval.\n",
    "- **T_Crit:** Critical t-test statistic that marks the $\\alpha$ tail probability. +/- T_Crit values are shown as dotted vertical red lines in the plot."
   ]
  },
  {
   "cell_type": "markdown",
   "id": "7e5c00ba-2236-40e8-bb07-e25ec8784918",
   "metadata": {},
   "source": [
    "$H_0$ is the sample is drawn from the population with the True Mean.\n",
    "\n",
    "In the example above we do not reject $H_0$."
   ]
  },
  {
   "cell_type": "markdown",
   "id": "3bfbd87b-2b36-4d02-8b8c-4cf52477256a",
   "metadata": {},
   "source": [
    "We reject $H_0$ when:\n",
    "\n",
    "- P-value is smaller than $\\alpha$\n",
    "- Absolute value of t-test statistic of the sample is larger than the critical t-test statistic\n",
    "- True population mean is not within the confidence interval\n",
    "\n",
    "We do not reject $H_0$ when:\n",
    "\n",
    "- P-value is larger than $\\alpha$\n",
    "- Absolute value of t-test statistic of the sample is smaller than the critical t-test statistic\n",
    "- True population mean is within the confidence interval"
   ]
  },
  {
   "cell_type": "markdown",
   "id": "48e36949-76c4-4540-b3e7-53d21ce163d9",
   "metadata": {},
   "source": [
    "These three interpretations are always consistent and leads to the same conclusion."
   ]
  }
 ],
 "metadata": {
  "kernelspec": {
   "display_name": "R",
   "language": "R",
   "name": "ir"
  },
  "language_info": {
   "codemirror_mode": "r",
   "file_extension": ".r",
   "mimetype": "text/x-r-source",
   "name": "R",
   "pygments_lexer": "r",
   "version": "4.5.1"
  }
 },
 "nbformat": 4,
 "nbformat_minor": 5
}
