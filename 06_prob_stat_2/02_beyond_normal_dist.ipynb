{
 "cells": [
  {
   "cell_type": "markdown",
   "id": "8a32f987-688e-4543-810a-4a3c7cdcb7c0",
   "metadata": {},
   "source": [
    "<font size=\"6\"><b>BASIC PROBABILITY DISTRIBUTIONS: BEYOND NORMAL DISTRIBUTION</b></font>\n",
    "\n",
    "<font size=\"5\"><b>Serhat Çevikel</b></font>"
   ]
  },
  {
   "cell_type": "code",
   "execution_count": null,
   "id": "6cf9f62d-5157-4263-b527-6e2f0bf52f98",
   "metadata": {},
   "outputs": [],
   "source": [
    "library(data.table)\n",
    "library(tidyverse)\n",
    "library(plotly)\n",
    "library(psych) # for pairwise scatter plots\n",
    "library(estimators) # for theoretical moments\n",
    "library(moments) # empirical moments\n",
    "library(miscTools) # for ddnorm, derivative of normal distribution curve\n",
    "library(MASS) # for multivariate normal distribution\n",
    "#library(GGally) # for pairwise scatter plots\n",
    "library(BBmisc) # for standardization\n",
    "library(PearsonDS) # for flexible four parameter distbutions"
   ]
  },
  {
   "cell_type": "code",
   "execution_count": null,
   "id": "ec00eb25-4be8-4839-842f-932d087b6a26",
   "metadata": {},
   "outputs": [],
   "source": [
    "options(repr.matrix.max.rows=20, repr.matrix.max.cols=15) # for limiting the number of top and bottom rows of tables printed "
   ]
  },
  {
   "cell_type": "code",
   "execution_count": null,
   "id": "44bd9a2a-8684-4f80-84ec-5e0294abf798",
   "metadata": {},
   "outputs": [],
   "source": [
    "options(htmlwidgets_embed=TRUE)"
   ]
  },
  {
   "cell_type": "code",
   "execution_count": null,
   "id": "c3bc41c7-5bab-4c92-be22-4e096d947c34",
   "metadata": {},
   "outputs": [],
   "source": [
    "options(knitr.kable.max_rows = 10)"
   ]
  },
  {
   "cell_type": "markdown",
   "id": "b629a40f-579f-4ea8-9a05-e2cf3fb7efea",
   "metadata": {},
   "source": [
    "![xkcd](../imagesba/t_distribution.png)\n",
    "\n",
    "(https://xkcd.com/1347/)"
   ]
  },
  {
   "cell_type": "markdown",
   "id": "c9ee1d78-72fe-4caa-97dc-55d1f832fbc6",
   "metadata": {},
   "source": [
    "# Cauchy Distribution"
   ]
  },
  {
   "cell_type": "markdown",
   "id": "3e4c386b-d731-4c97-946c-cd9be119ebf4",
   "metadata": {},
   "source": [
    "Up to now we covered \"well-behaved\" discrete and continuous probability distribution which all had finite means and variances.\n",
    "\n",
    "Now let's cover an \"ill-behaved\" or pathological distribution type which we will revisit in Student's t distribution: The Cauchy distribution"
   ]
  },
  {
   "cell_type": "markdown",
   "id": "62f54f82-a41d-4d5b-a23c-14e1827d6658",
   "metadata": {},
   "source": [
    "Suppose that we are in front of an infinite length wall 1 meters away and we are continually shooting balls to the wall:\n",
    "\n",
    "\n",
    "[![federer](https://img.youtube.com/vi/8BdHP6FWxKU/0.jpg)](https://www.youtube.com/watch?v=8BdHP6FWxKU)"
   ]
  },
  {
   "cell_type": "markdown",
   "id": "f70f4db5-b080-497f-aa44-b8c9e57e05cd",
   "metadata": {},
   "source": [
    "Of course we won't be as accurate as Roger Federer. Suppose there is a semi circle in front us and between the wall and us, and before every shoot we are selecting a random point on the semi circle uniformly, so the angle is uniformly distributed:"
   ]
  },
  {
   "cell_type": "code",
   "execution_count": null,
   "id": "622f0eb9-aa57-406c-a646-fef6d4833d5f",
   "metadata": {},
   "outputs": [],
   "source": [
    "xval <- seq(-1, 1, 0.01)\n",
    "yvals <- sqrt(1 - xval^2)\n",
    "\n",
    "plot(xval, yvals, type = \"l\", xlim = c(-1, 1), ylim = c(0, 1))\n",
    "abl <- lapply(seq(0, 1, length.out = 9), function(x) abline(a = 0, tan(pi * (x - 1/2)), col = x * 10))"
   ]
  },
  {
   "cell_type": "markdown",
   "id": "5b7d82e0-934f-49d3-9385-d8178a513f18",
   "metadata": {},
   "source": [
    "Each ray from the origin is the trajectory of a shoot. The distance of the point that the ball hits the wall to the origin follows a Cauchy distribution. As you may see, as the angle approaches 0 or $\\pi$, the distance also approaches $-\\infty$ or $\\infty$.\n",
    "\n",
    "The x intercept can be calculated by tangent function:\n",
    "\n",
    "${\\displaystyle x=\\tan \\left(\\pi (u-{\\tfrac {1}{2}})\\right)}$"
   ]
  },
  {
   "cell_type": "markdown",
   "id": "13ac311e-f35a-4059-8d0a-521246d649ef",
   "metadata": {},
   "source": [
    "Let's draw a sample following this definition:"
   ]
  },
  {
   "cell_type": "code",
   "execution_count": null,
   "id": "1d08254c-6936-440f-8e4a-b130bb324b79",
   "metadata": {},
   "outputs": [],
   "source": [
    "set.seed(10)\n",
    "hist(tan(pi*(runif(1e3) - 1/2)))"
   ]
  },
  {
   "cell_type": "markdown",
   "id": "eece1246-4ad6-4153-a943-f090c3cd90c2",
   "metadata": {},
   "source": [
    "Another definition of a Cauchy distribution is the ratio of two standard normally distributed variables with mean 0 and variance 1:"
   ]
  },
  {
   "cell_type": "code",
   "execution_count": null,
   "id": "c1d191af-966a-4bf5-a697-e2858cec82b3",
   "metadata": {},
   "outputs": [],
   "source": [
    "set.seed(20)\n",
    "hist(rnorm(1e3) / rnorm(1e3))"
   ]
  },
  {
   "cell_type": "markdown",
   "id": "f2647ea0-d22b-4b4b-ba94-a16b3324df1a",
   "metadata": {},
   "source": [
    "Or we can sample using `rcauchy` function:"
   ]
  },
  {
   "cell_type": "code",
   "execution_count": null,
   "id": "02c90987-0ba4-487f-96fc-dca9cf7d31d7",
   "metadata": {},
   "outputs": [],
   "source": [
    "set.seed(40)\n",
    "hist(rcauchy(1e3))"
   ]
  },
  {
   "cell_type": "markdown",
   "id": "df7de91f-f4ea-46fc-a8ef-0cffea3e2f12",
   "metadata": {},
   "source": [
    "Now to see the main difference between Cauchy and normal distributions, let's first make 10 random simulations from normal distributions and draw their histograms sequentially in an animated plot:"
   ]
  },
  {
   "cell_type": "code",
   "execution_count": null,
   "id": "f5b53423-60e5-4faf-ac99-1d402e5a2163",
   "metadata": {},
   "outputs": [],
   "source": [
    "set.seed(50)\n",
    "rruns <- data.table(runs = 1:10)\n",
    "rruns2 <- rruns[, .(samplx = {rnorm(1e4)}), by = runs]"
   ]
  },
  {
   "cell_type": "code",
   "execution_count": null,
   "id": "68c4394a-a3ed-452b-8150-61de57139f92",
   "metadata": {},
   "outputs": [],
   "source": [
    "rruns2 %>%\n",
    "plot_ly(x = ~samplx) %>%\n",
    "add_trace(frame = ~runs, type = \"histogram\") %>%\n",
    "animation_opts(\n",
    "    frame = 500, redraw = T, easing = \"linear\", mode = \"next\"\n",
    ")"
   ]
  },
  {
   "cell_type": "markdown",
   "id": "09040bd0-39de-4103-bc05-a056850ee160",
   "metadata": {},
   "source": [
    "Across runs overall location and scale. of the distribution does not change much"
   ]
  },
  {
   "cell_type": "markdown",
   "id": "42cdbd6f-5794-4782-972a-972de26f124b",
   "metadata": {},
   "source": [
    "Now let's draw 10 large samples from Cauchy distribution and animate the histograms:"
   ]
  },
  {
   "cell_type": "code",
   "execution_count": null,
   "id": "6b88dbd3-0d81-48f6-bdb7-87eb76127ed5",
   "metadata": {},
   "outputs": [],
   "source": [
    "set.seed(60)\n",
    "cruns <- data.table(runs = 1:10)\n",
    "cruns2 <- rruns[, .(samplx = {rcauchy(1e4)}), by = runs] "
   ]
  },
  {
   "cell_type": "code",
   "execution_count": null,
   "id": "09034055-e4a7-4f78-af83-67458ce84f61",
   "metadata": {},
   "outputs": [],
   "source": [
    "cplot <- cruns2 %>%\n",
    "plot_ly(x = ~samplx) %>%\n",
    "add_trace(frame = ~runs, type = \"histogram\", nbinsx = 500) %>%\n",
    "animation_opts(\n",
    "    frame = 1000, redraw = T, easing = \"cubic\", mode = \"next\"\n",
    ")"
   ]
  },
  {
   "cell_type": "markdown",
   "id": "acc7f2d6-5cd1-4925-9b9c-c07ad8bfe95c",
   "metadata": {},
   "source": [
    "We have to rescale the x axis across frames:"
   ]
  },
  {
   "cell_type": "code",
   "execution_count": null,
   "id": "5f96a189-4dea-4e2e-bb4e-ca5e061c46c6",
   "metadata": {},
   "outputs": [],
   "source": [
    "cplot2 <- plotly_build(cplot)\n",
    "cranges <- lapply(split(cruns2$samplx, cruns2$runs), range)\n",
    "for (i in 1:10) cplot2$x$frames[[i]]$layout <- list(xaxis = list(range = cranges[[i]]))"
   ]
  },
  {
   "cell_type": "code",
   "execution_count": null,
   "id": "a5dec750-60ab-4f9d-b172-dc7e1ce4c816",
   "metadata": {},
   "outputs": [],
   "source": [
    "cplot2"
   ]
  },
  {
   "cell_type": "markdown",
   "id": "e01123fa-0cde-4937-b03c-69d86b326377",
   "metadata": {},
   "source": [
    "You can see that across frames the location and scale of the distribution changes vastly."
   ]
  },
  {
   "cell_type": "markdown",
   "id": "c69fe42f-bfb9-4adc-a734-613a8c3f711d",
   "metadata": {},
   "source": [
    "Now again let's conduct random simulations and tabulate the summaries:"
   ]
  },
  {
   "cell_type": "code",
   "execution_count": null,
   "id": "c58e5980-7ea5-41a7-a27d-d98731efb4e9",
   "metadata": {},
   "outputs": [],
   "source": [
    "set.seed(70)\n",
    "cauchyruns <- lapply(1:10,\n",
    "                     function(x) { samp <- rcauchy(1e5); c(summary(samp), Var = var(samp)) })"
   ]
  },
  {
   "cell_type": "code",
   "execution_count": null,
   "id": "b293a442-265e-4ac3-bb53-ca31ade91466",
   "metadata": {},
   "outputs": [],
   "source": [
    "set.seed(80)\n",
    "normruns <- lapply(1:10,\n",
    "                     function(x) { samp <- rnorm(1e5); c(summary(samp), Var = var(samp)) })"
   ]
  },
  {
   "cell_type": "markdown",
   "id": "19ea6fcb-938e-4b10-892e-891bd024ff90",
   "metadata": {},
   "source": [
    "See that, across runs, the mean and five point summaries and the variances are all very similar for normal distribution:"
   ]
  },
  {
   "cell_type": "code",
   "execution_count": null,
   "id": "e97c744b-3711-4e05-b922-70009b440c10",
   "metadata": {},
   "outputs": [],
   "source": [
    "normruns %>% lapply(as.list) %>% rbindlist %>% round(2)"
   ]
  },
  {
   "cell_type": "markdown",
   "id": "c26f8b96-4472-4ceb-a72f-389432aaed2f",
   "metadata": {},
   "source": [
    "However for Cauchy distribution, the mean and variance changes extensively across runs while median is always at the center:"
   ]
  },
  {
   "cell_type": "code",
   "execution_count": null,
   "id": "a618d144-39c8-4506-a4af-6a5b2fd19927",
   "metadata": {},
   "outputs": [],
   "source": [
    "cauchyruns %>% lapply(as.list) %>% rbindlist %>% round(2)"
   ]
  },
  {
   "cell_type": "code",
   "execution_count": null,
   "id": "86775c7e-463d-4232-add4-c56e5ecc5455",
   "metadata": {},
   "outputs": [],
   "source": [
    "stepx <- 0.05\n",
    "pvals <- seq(stepx, 1 - stepx, stepx)"
   ]
  },
  {
   "cell_type": "markdown",
   "id": "0b1e7d9d-9b92-464c-a4c4-6add121a55da",
   "metadata": {},
   "source": [
    "Now let's get quantiles for 5% cumulative probability steps of normal and Cauchy distributions and plot them:"
   ]
  },
  {
   "cell_type": "code",
   "execution_count": null,
   "id": "aef3f1f9-d00d-47ac-badf-f03805495d73",
   "metadata": {},
   "outputs": [],
   "source": [
    "plot(pvals, qnorm(pvals) %>% round(2), type = \"l\", col = \"blue\", ylim = range(qcauchy(seq(stepx, 1 - stepx, stepx))))\n",
    "lines(pvals, qcauchy(seq(stepx, 1 - stepx, stepx)) %>% round(2), col = \"red\")"
   ]
  },
  {
   "cell_type": "markdown",
   "id": "fae416b0-693c-46d4-b2c4-c3a9d9dc075d",
   "metadata": {},
   "source": [
    "You can see the dispersion of quantiles are far wider for the Cauchy distribution."
   ]
  },
  {
   "cell_type": "markdown",
   "id": "b8193e69-958d-4e77-8896-0976313b235c",
   "metadata": {},
   "source": [
    "## Law of Large Number with Cauchy Distribution"
   ]
  },
  {
   "cell_type": "markdown",
   "id": "679305e8-66da-46f0-9379-ea7d0e204fa6",
   "metadata": {},
   "source": [
    "As we may recall, the mean of a sample converges to the mean of the population as the sample size grows:"
   ]
  },
  {
   "cell_type": "code",
   "execution_count": null,
   "id": "6142105d-2bc4-4499-a39a-bbfb2411bc32",
   "metadata": {},
   "outputs": [],
   "source": [
    "set.seed(100)\n",
    "plot(cummean(rnorm(1e5)), type = \"l\")"
   ]
  },
  {
   "cell_type": "markdown",
   "id": "d8abfe5c-70f0-4d26-9f86-eb5a46d73a70",
   "metadata": {},
   "source": [
    "For a Cauchy distribution, law of large numbers does not apply: The mean of the sample does not converge to a certain value as the sample size grows:"
   ]
  },
  {
   "cell_type": "code",
   "execution_count": null,
   "id": "e66914c3-a62f-44c1-beda-6e391ba8a993",
   "metadata": {},
   "outputs": [],
   "source": [
    "set.seed(0)\n",
    "plot(cummean(rcauchy(1e5)), type = \"l\")"
   ]
  },
  {
   "cell_type": "markdown",
   "id": "d1da14ec-8505-482d-8c23-5af1cb1d1ba3",
   "metadata": {},
   "source": [
    "## CLT with Cauchy Distribution"
   ]
  },
  {
   "cell_type": "markdown",
   "id": "52251905-747b-4238-aa54-df7204055088",
   "metadata": {},
   "source": [
    "Now let's check whether means of samples drawn from a Cauchy distribution converges to normal distribution:"
   ]
  },
  {
   "cell_type": "code",
   "execution_count": null,
   "id": "babae4b6-31c3-46c1-b8e5-8218ea13c562",
   "metadata": {},
   "outputs": [],
   "source": [
    "sampx <- rcauchy(1e5)"
   ]
  },
  {
   "cell_type": "markdown",
   "id": "491f19e4-fd1f-49ee-ab14-41890e20c5aa",
   "metadata": {},
   "source": [
    "The population:"
   ]
  },
  {
   "cell_type": "code",
   "execution_count": null,
   "id": "b749234a-ff35-485d-8f52-7d5fef159709",
   "metadata": {},
   "outputs": [],
   "source": [
    "hist(sampx)"
   ]
  },
  {
   "cell_type": "markdown",
   "id": "af9ace77-089d-40fb-b579-d1dc9c721765",
   "metadata": {},
   "source": [
    "Means of 1e4 samples of size 100 each:"
   ]
  },
  {
   "cell_type": "code",
   "execution_count": null,
   "id": "a5dda20d-bc11-4a33-a51e-a426f5e7372e",
   "metadata": {},
   "outputs": [],
   "source": [
    "simx <- rowMeans(t(replicate(1e4, sample(sampx, 100))))"
   ]
  },
  {
   "cell_type": "markdown",
   "id": "4e08b7ee-a60f-4403-bba4-1ea04796eb3b",
   "metadata": {},
   "source": [
    "Still a Cauchy distribution:"
   ]
  },
  {
   "cell_type": "code",
   "execution_count": null,
   "id": "d08f1784-b48d-4982-9899-5991c66537e2",
   "metadata": {},
   "outputs": [],
   "source": [
    "hist(simx)"
   ]
  },
  {
   "cell_type": "code",
   "execution_count": null,
   "id": "d5e8e51a-d144-40f1-bcf4-f3eb2226dd48",
   "metadata": {},
   "outputs": [],
   "source": [
    "list(c(summary(sampx), Var = var(sampx)),\n",
    "     c(summary(simx), Var = var(simx))) %>%\n",
    "lapply(as.list) %>% rbindlist %>% round(2)"
   ]
  },
  {
   "cell_type": "markdown",
   "id": "763c6a7b-ac19-4eca-adf4-bd3907231742",
   "metadata": {},
   "source": [
    "So the rule about having finite variance is a prerequisite for central limit theorem: The means of the samples from a Cauchy distribution, do not converge to normal distribution but still conforms with a Cauchy distribution.\n",
    "\n",
    "We will see Cauchy distribution as a special case of Student's t distribution later on."
   ]
  },
  {
   "cell_type": "markdown",
   "id": "a8ceb47d-03a1-4398-baf1-68f2a18f3d0b",
   "metadata": {},
   "source": [
    "# Chi-squared Distribution"
   ]
  },
  {
   "cell_type": "markdown",
   "id": "a7877c78-863a-4845-aea7-790464bff52a",
   "metadata": {},
   "source": [
    "Until now, we talked about the distribution of sample means to discuss square root law and central limit theorem.\n",
    "\n",
    "We know that, for i.i.d variables with finite variances, the sample means converge to normal distribution.\n",
    "\n",
    "But what about the scales - as measured by sum of squared deviations, variance of standard deviation - of those samples?"
   ]
  },
  {
   "cell_type": "markdown",
   "id": "dfd3df7f-2b74-4761-9d44-3c2a7cf2d582",
   "metadata": {},
   "source": [
    "Let's first create a large sample from the population following a standard normal distribution:"
   ]
  },
  {
   "cell_type": "code",
   "execution_count": null,
   "id": "a06deb08-7e68-439e-8e66-dd2036cb74f1",
   "metadata": {},
   "outputs": [],
   "source": [
    "set.seed(1)\n",
    "popnorm <- rnorm(1e5)"
   ]
  },
  {
   "cell_type": "markdown",
   "id": "df6c6103-00bb-46e1-83a0-752d31139fb9",
   "metadata": {},
   "source": [
    "We know that the normal distribution is bell shaped:"
   ]
  },
  {
   "cell_type": "code",
   "execution_count": null,
   "id": "c25fce73-cf19-4dbe-bbdf-97149765cc1c",
   "metadata": {},
   "outputs": [],
   "source": [
    "hist(popnorm)"
   ]
  },
  {
   "cell_type": "markdown",
   "id": "480ca8d5-5c02-45a8-b643-eb893d855b9d",
   "metadata": {},
   "source": [
    "However, the squared values follow an almost - but not exactly - exponential shape:"
   ]
  },
  {
   "cell_type": "code",
   "execution_count": null,
   "id": "c204fc5b-60e9-4c04-90b4-d0232ad00000",
   "metadata": {},
   "outputs": [],
   "source": [
    "hist(popnorm^2)"
   ]
  },
  {
   "cell_type": "markdown",
   "id": "d17ccdd8-f543-4338-a702-7520386276dc",
   "metadata": {},
   "source": [
    "Set the total number of samples and the size of each sample:"
   ]
  },
  {
   "cell_type": "code",
   "execution_count": null,
   "id": "cb4aa631-dcd8-4144-85b9-bc93eb645e2d",
   "metadata": {},
   "outputs": [],
   "source": [
    "nsamp <- 1e4"
   ]
  },
  {
   "cell_type": "code",
   "execution_count": null,
   "id": "833ab4c6-cf7d-4e14-81dd-bf290ee1c6fb",
   "metadata": {},
   "outputs": [],
   "source": [
    "sizet <- 4"
   ]
  },
  {
   "cell_type": "markdown",
   "id": "a4698757-10a1-4995-b6c8-c4273d7ae7cd",
   "metadata": {},
   "source": [
    "Now create smaller samples from the same population:"
   ]
  },
  {
   "cell_type": "code",
   "execution_count": null,
   "id": "19a9d095-3459-48e3-a84c-9b49deda9869",
   "metadata": {},
   "outputs": [],
   "source": [
    "set.seed(10)\n",
    "sampt <- t(replicate(nsamp, rnorm(sizet)))"
   ]
  },
  {
   "cell_type": "markdown",
   "id": "85e0de4d-ff3b-492b-a96a-2e179016bbb9",
   "metadata": {},
   "source": [
    "Get the sum of squares for each sample:"
   ]
  },
  {
   "cell_type": "code",
   "execution_count": null,
   "id": "517839ef-604b-4722-b9ab-0bfcf25644fb",
   "metadata": {},
   "outputs": [],
   "source": [
    "sumsq <- rowSums(sampt^2)"
   ]
  },
  {
   "cell_type": "markdown",
   "id": "35bc4ef8-2276-43b5-9ded-7313dc8d5822",
   "metadata": {},
   "source": [
    "And view the histogram:"
   ]
  },
  {
   "cell_type": "code",
   "execution_count": null,
   "id": "c9ff9e6d-642b-43f3-8735-2b456eb3ade8",
   "metadata": {},
   "outputs": [],
   "source": [
    "hist(sumsq)"
   ]
  },
  {
   "cell_type": "markdown",
   "id": "6049e1bb-b8d5-47ee-bee0-7677f9b3be44",
   "metadata": {},
   "source": [
    "Now let's draw samples from Chi-Squared distribution with $k$ degrees of freedom - as the name of the parameter goes:"
   ]
  },
  {
   "cell_type": "code",
   "execution_count": null,
   "id": "a6418a9e-cb92-4c79-b0b4-23300e1cd022",
   "metadata": {},
   "outputs": [],
   "source": [
    "set.seed(11)\n",
    "hist(rchisq(1e4, 10))"
   ]
  },
  {
   "cell_type": "markdown",
   "id": "adf95722-2472-4948-834d-f7a3c3a5e73e",
   "metadata": {},
   "source": [
    "And let's see whether they follow a similar PDF:"
   ]
  },
  {
   "cell_type": "code",
   "execution_count": null,
   "id": "74a7308b-a1a2-4912-93a7-1d7d977cabf7",
   "metadata": {},
   "outputs": [],
   "source": [
    "densx <- density(sumsq)[c(\"x\", \"y\")]\n",
    "maxx <- max(sumsq)\n",
    "setDT(densx)\n",
    "xvals <- seq(0, maxx, 0.001)"
   ]
  },
  {
   "cell_type": "code",
   "execution_count": null,
   "id": "5cf8942f-857c-40ea-879c-85b729c03026",
   "metadata": {},
   "outputs": [],
   "source": [
    "plot(densx[x > 0], type = \"l\", col = \"blue\")\n",
    "lines(xvals, dchisq(xvals, sizet), col = \"red\")"
   ]
  },
  {
   "cell_type": "markdown",
   "id": "203e28da-a567-4c9a-a099-c19e1e4bd2fa",
   "metadata": {},
   "source": [
    "We see that the sum of squares of the 10 sized samples that we created and Chi-squared distribution with 10 degrees of freedom have the same densities.\n",
    "\n",
    "the  ${\\displaystyle \\chi ^{2}}$-distribution (or *Chi-squared* distribution) with ${\\displaystyle k}$ degrees of freedom is the distribution of a sum of the squares of ${\\displaystyle k}$ independent standard normal random variables.\n",
    "\n",
    "The chi-squared distribution ${\\displaystyle \\chi _{k}^{2}}$ is a special case of the gamma distribution. Specifically if ${\\displaystyle X\\sim \\chi _{k}^{2}}$ then ${\\displaystyle X\\sim {\\text{Gamma}}(\\alpha ={\\frac {k}{2}},\\theta =2)}$ (where ${\\displaystyle \\alpha }$ is the shape parameter and ${\\displaystyle \\theta }$ the scale parameter of the gamma distribution.\n",
    "\n",
    "Let's confirm that with simulation:"
   ]
  },
  {
   "cell_type": "code",
   "execution_count": null,
   "id": "e2088bda-55a8-4f57-8bfa-715968008c9b",
   "metadata": {},
   "outputs": [],
   "source": [
    "hist(rgamma(1e4, sizet/2, 1/2))"
   ]
  },
  {
   "cell_type": "markdown",
   "id": "f935339c-7acf-4c7c-b0ef-4437f1dcbcec",
   "metadata": {},
   "source": [
    "And densities:"
   ]
  },
  {
   "cell_type": "code",
   "execution_count": null,
   "id": "d325b194-a0aa-47ac-bb57-1eae27c52410",
   "metadata": {},
   "outputs": [],
   "source": [
    "plot(densx[x > 0], type = \"l\", col = \"blue\")\n",
    "lines(xvals, dchisq(xvals, sizet), col = \"red\")\n",
    "lines(xvals, dgamma(xvals, sizet/2, 1/2), col = \"green\")"
   ]
  },
  {
   "cell_type": "markdown",
   "id": "41856f16-3bdd-40ce-ba69-94a2f690f889",
   "metadata": {},
   "source": [
    "The expected value of $\\chi^2$-distribution is $k$ while variance is $2k$. Let's check..."
   ]
  },
  {
   "cell_type": "markdown",
   "id": "dc8e8eca-e29e-4f10-b76f-7e0e9f51115c",
   "metadata": {},
   "source": [
    "Theoretical statistics:"
   ]
  },
  {
   "cell_type": "code",
   "execution_count": null,
   "id": "f3112d4f-185e-4c5b-b065-55af9de989d1",
   "metadata": {},
   "outputs": [],
   "source": [
    "distx <- Chisq(sizet)"
   ]
  },
  {
   "cell_type": "code",
   "execution_count": null,
   "id": "89d14e56-27a3-40e8-bdc6-c381a5136cd9",
   "metadata": {},
   "outputs": [],
   "source": [
    "mean(distx)"
   ]
  },
  {
   "cell_type": "code",
   "execution_count": null,
   "id": "ae031b47-d82c-40d3-875a-4d290a457c81",
   "metadata": {},
   "outputs": [],
   "source": [
    "var(distx)"
   ]
  },
  {
   "cell_type": "markdown",
   "id": "0b2f74c0-9a96-419d-98db-bd450357e1b1",
   "metadata": {},
   "source": [
    "And the empirical statistics from our samples:"
   ]
  },
  {
   "cell_type": "code",
   "execution_count": null,
   "id": "3f1576c4-54fd-49d9-893d-920acfaed08b",
   "metadata": {},
   "outputs": [],
   "source": [
    "mean(sumsq)"
   ]
  },
  {
   "cell_type": "code",
   "execution_count": null,
   "id": "3c227553-0a02-4f53-8a4e-c4e6c4a2003b",
   "metadata": {},
   "outputs": [],
   "source": [
    "var(sumsq)"
   ]
  },
  {
   "cell_type": "markdown",
   "id": "35ddce57-bebc-49ac-acdd-4a35279b9702",
   "metadata": {},
   "source": [
    "$\\chi^2$-distribution is closely related to Student's t distribution - the topic of next section - and also a part of $\\chi^2$ test for goodness of fit of observed data to hypothetical distributions."
   ]
  },
  {
   "cell_type": "markdown",
   "id": "efc15d08-fbdc-4e14-a3a4-a673f76f1292",
   "metadata": {},
   "source": [
    "# Student's t Distribution"
   ]
  },
  {
   "cell_type": "markdown",
   "id": "714bd48e-a4d3-4c49-8169-99763ee9bafb",
   "metadata": {},
   "source": [
    "Now let's create a large sample and smaller samples again.\n",
    "\n",
    "Suppose we have a sample from the population, the mean and standard deviation of which we don't know, and we want to test whether that sample is from the hypothesized population (a topic which we will see later)"
   ]
  },
  {
   "cell_type": "markdown",
   "id": "a0c7ae3d-d9ec-4992-a24c-3ef8328210db",
   "metadata": {},
   "source": [
    "Let's first create a large sample from the population following a standard normal distribution:"
   ]
  },
  {
   "cell_type": "code",
   "execution_count": null,
   "id": "cf77dca7-2113-4317-89e0-39516aa043f7",
   "metadata": {},
   "outputs": [],
   "source": [
    "set.seed(1)\n",
    "popnorm <- rnorm(1e5)"
   ]
  },
  {
   "cell_type": "markdown",
   "id": "197dae9e-d4a8-4116-8943-c7f60b2bd1d4",
   "metadata": {},
   "source": [
    "Again create smaller samples from the same population:"
   ]
  },
  {
   "cell_type": "code",
   "execution_count": null,
   "id": "631ba826-f1b4-4476-b76f-4741e36340dd",
   "metadata": {},
   "outputs": [],
   "source": [
    "nsamp <- 1e4"
   ]
  },
  {
   "cell_type": "code",
   "execution_count": null,
   "id": "8361ac1a-6a77-4a6d-8fff-47c6ec78d96d",
   "metadata": {},
   "outputs": [],
   "source": [
    "sizet <- 4"
   ]
  },
  {
   "cell_type": "code",
   "execution_count": null,
   "id": "7d093849-dc08-45ef-a12f-caccc3860d2d",
   "metadata": {},
   "outputs": [],
   "source": [
    "set.seed(10)\n",
    "sampt <- t(replicate(nsamp, rnorm(sizet)))"
   ]
  },
  {
   "cell_type": "markdown",
   "id": "160816f1-8576-426f-b70e-764e21f4c016",
   "metadata": {},
   "source": [
    "Let's calculate the means of the samples"
   ]
  },
  {
   "cell_type": "code",
   "execution_count": null,
   "id": "5320bd69-7357-4221-9d03-adb12d0432e6",
   "metadata": {},
   "outputs": [],
   "source": [
    "sampm <- rowMeans(sampt)"
   ]
  },
  {
   "cell_type": "markdown",
   "id": "965c3406-03e0-4ac9-a0c8-730ee63347d9",
   "metadata": {},
   "source": [
    "Let's calculate the sd's of the samples:"
   ]
  },
  {
   "cell_type": "code",
   "execution_count": null,
   "id": "03fe1bd2-a12c-450d-85ed-cabb968b5779",
   "metadata": {},
   "outputs": [],
   "source": [
    "sampsd <- apply(sampt, 1, sd)"
   ]
  },
  {
   "cell_type": "markdown",
   "id": "e4e1b9d4-0ca6-4a9f-8ddf-46e943f502de",
   "metadata": {},
   "source": [
    "Combine them into a table:"
   ]
  },
  {
   "cell_type": "code",
   "execution_count": null,
   "id": "5dc9ae93-d6ea-4157-8b9d-63e6cc5dfebc",
   "metadata": {},
   "outputs": [],
   "source": [
    "samp_dt <- data.table(sampm, sampsd)"
   ]
  },
  {
   "cell_type": "markdown",
   "id": "66367672-e70d-4e95-a20c-58e311446926",
   "metadata": {},
   "source": [
    "And also add sum of squared deviations following the formula of sample variance:\n",
    "\n",
    "${\\displaystyle s^{2}={\\frac {1}{n-1}}\\sum _{i=1}^{n}\\left(x_{i}-{\\overline {x}}\\right)^{2}}$"
   ]
  },
  {
   "cell_type": "code",
   "execution_count": null,
   "id": "8c002c4e-d584-473d-b909-079c9949c083",
   "metadata": {},
   "outputs": [],
   "source": [
    "samp_dt[, sampss := sampsd^2 * (sizet - 1)]"
   ]
  },
  {
   "cell_type": "markdown",
   "id": "2bbc5f1a-90d5-499a-8808-1c081242f1a0",
   "metadata": {},
   "source": [
    "Now let's look at the distribution of standard deviations:"
   ]
  },
  {
   "cell_type": "code",
   "execution_count": null,
   "id": "13f6680f-4f03-4641-b756-0757da190ec1",
   "metadata": {},
   "outputs": [],
   "source": [
    "hist(samp_dt$sampsd)"
   ]
  },
  {
   "cell_type": "markdown",
   "id": "9bc5a98e-73cb-46e5-9310-e9a924942345",
   "metadata": {},
   "source": [
    "Or better check distribution of sum of squared deviations:"
   ]
  },
  {
   "cell_type": "code",
   "execution_count": null,
   "id": "530e726d-2848-44e5-96a9-e6dd3d5f6eba",
   "metadata": {},
   "outputs": [],
   "source": [
    "hist(samp_dt$sampss)"
   ]
  },
  {
   "cell_type": "markdown",
   "id": "014b20a0-0d4b-4367-a12e-1594698f7997",
   "metadata": {},
   "source": [
    "The sum of squared deviations follow a $\\chi^2$ deviation with $n - 1$ degrees of freedom:"
   ]
  },
  {
   "cell_type": "code",
   "execution_count": null,
   "id": "d9cffcab-94fa-4da4-8c35-936cb0690a1c",
   "metadata": {},
   "outputs": [],
   "source": [
    "densx <- density(samp_dt$sampss)[c(\"x\", \"y\")]\n",
    "maxx <- max(samp_dt$sampss)\n",
    "setDT(densx)\n",
    "xvals <- seq(0, maxx, 0.001)"
   ]
  },
  {
   "cell_type": "code",
   "execution_count": null,
   "id": "2f2a6874-ad14-4a34-8bd6-289126b68a66",
   "metadata": {},
   "outputs": [],
   "source": [
    "plot(densx[x >= 0], type = \"l\", col = \"blue\")\n",
    "lines(xvals, dchisq(xvals, sizet - 1), col = \"red\")"
   ]
  },
  {
   "cell_type": "markdown",
   "id": "7f8b7aaf-0f3a-4483-a610-8e4ef805de37",
   "metadata": {},
   "source": [
    "Note that the densities overlap, we confirm the theoretical distribution."
   ]
  },
  {
   "cell_type": "markdown",
   "id": "fee13a7f-3ed4-4287-aa59-473fb2525a5e",
   "metadata": {},
   "source": [
    "Now let's view the distribution of sample means:"
   ]
  },
  {
   "cell_type": "code",
   "execution_count": null,
   "id": "41153512-1ecc-4b83-93c0-eb5aba23023b",
   "metadata": {},
   "outputs": [],
   "source": [
    "hist(samp_dt$sampm)"
   ]
  },
  {
   "cell_type": "markdown",
   "id": "6fbbee73-4ddf-45e0-a3dd-26deb9cfdc60",
   "metadata": {},
   "source": [
    "In line with square root law, the sd of the sample means is $\\displaystyle s = \\frac {\\sigma}{\\sqrt{k}}$"
   ]
  },
  {
   "cell_type": "code",
   "execution_count": null,
   "id": "152ba49e-7970-4f9b-95ed-77c19b744a1a",
   "metadata": {},
   "outputs": [],
   "source": [
    "1 / sqrt(sizet)"
   ]
  },
  {
   "cell_type": "code",
   "execution_count": null,
   "id": "f8589143-2f5e-4c43-8e78-117f494c3ade",
   "metadata": {},
   "outputs": [],
   "source": [
    "sd(samp_dt$sampm)"
   ]
  },
  {
   "cell_type": "markdown",
   "id": "ac9e5205-769a-4744-820e-26841d0a6732",
   "metadata": {},
   "source": [
    "Note that, the sample means are:\n",
    "\n",
    "${\\displaystyle {\\overline {X}}_{n}={\\frac {1}{n}}(X_{1}+\\cdots +X_{n})}$\n",
    "\n",
    "And sample variances are:\n",
    "\n",
    "${\\displaystyle s^{2}={\\frac {1}{n-1}}\\sum _{i=1}^{n}\\left(X_{i}-{\\overline {X}}_{n}\\right)^{2}}$\n",
    "\n",
    "The standardized sum of squares:\n",
    "\n",
    "${\\displaystyle V=(n-1){\\frac {s^{2}}{\\sigma ^{2}}}}$\n",
    "\n",
    "has a chi-squared distribution with ${\\displaystyle \\nu =n-1}$ degrees of freedom as we have shown above.\n",
    "\n",
    "${\\displaystyle Z=\\left({\\overline {X}}_{n}-\\mu \\right){\\frac {\\sqrt {n}}{\\sigma }}}$\n",
    "\n",
    "is normally distributed with mean 0 and variance 1, since the sample mean ${\\displaystyle {\\overline {X}}_{n}}$ is normally distributed with mean μ and variance $\\displaystyle \\frac {\\sigma^2}{n}$."
   ]
  },
  {
   "cell_type": "markdown",
   "id": "055fbc7b-ab17-4a42-973e-8525261e1343",
   "metadata": {},
   "source": [
    "Let's calculate the Z values using this formula (note that population standard deviation $\\sigma$ is 1):"
   ]
  },
  {
   "cell_type": "code",
   "execution_count": null,
   "id": "d7bbee51-bdaa-4a88-86ae-40277d48f2d3",
   "metadata": {},
   "outputs": [],
   "source": [
    "samp_dt[, sampz := sampm * sqrt(sizet)]"
   ]
  },
  {
   "cell_type": "markdown",
   "id": "7f02babe-30ed-41d6-8b33-67f001192950",
   "metadata": {},
   "source": [
    "And see the histogram of Z values:"
   ]
  },
  {
   "cell_type": "code",
   "execution_count": null,
   "id": "f0ddd3f8-3b08-4591-9c0f-8a7f1434f311",
   "metadata": {},
   "outputs": [],
   "source": [
    "hist(samp_dt$sampz)"
   ]
  },
  {
   "cell_type": "markdown",
   "id": "5d0c2764-e876-4c68-92d9-22c9507d919a",
   "metadata": {},
   "source": [
    "They have a mean of around 0 and variance of 1:"
   ]
  },
  {
   "cell_type": "code",
   "execution_count": null,
   "id": "6dd3ee4d-41f7-42e0-8c20-ce7f97fc1e0f",
   "metadata": {},
   "outputs": [],
   "source": [
    "mean(samp_dt$sampz)"
   ]
  },
  {
   "cell_type": "code",
   "execution_count": null,
   "id": "263592fa-5459-462f-bece-ea16f9c97205",
   "metadata": {},
   "outputs": [],
   "source": [
    "var(samp_dt$sampz)"
   ]
  },
  {
   "cell_type": "markdown",
   "id": "f07d6d8e-517e-41a1-83b8-da45c76b0ff0",
   "metadata": {},
   "source": [
    "Let's see the densities of Z values and compare with normal distribution:"
   ]
  },
  {
   "cell_type": "code",
   "execution_count": null,
   "id": "ac553cda-e155-420a-be01-af5d1489eb15",
   "metadata": {},
   "outputs": [],
   "source": [
    "densx <- density(samp_dt$sampz)[c(\"x\", \"y\")]\n",
    "maxx <- max(abs(range(samp_dt$sampss)))\n",
    "setDT(densx)\n",
    "xvals <- seq(-maxx, maxx, 0.001)"
   ]
  },
  {
   "cell_type": "code",
   "execution_count": null,
   "id": "9cf8083f-ab59-495f-8274-27250f6ab37e",
   "metadata": {},
   "outputs": [],
   "source": [
    "plot(densx, type = \"l\", col = \"blue\")\n",
    "lines(xvals, dnorm(xvals, 0, 1), col = \"red\")"
   ]
  },
  {
   "cell_type": "markdown",
   "id": "f3d8e264-4257-4a9f-b507-f3d93e2efbc8",
   "metadata": {},
   "source": [
    "Z values are normally distributed, as suggested in above formulation."
   ]
  },
  {
   "cell_type": "markdown",
   "id": "488ed318-920c-43ae-b760-7dcedb915d9d",
   "metadata": {},
   "source": [
    "Now suppose from the sample means and standard deviations we want to extract the standardized scores:\n",
    "\n",
    "${\\displaystyle T={\\frac {Z}{\\sqrt {V/\\nu }}}=Z{\\sqrt {\\frac {\\nu }{V}}}}$\n",
    "\n",
    "where\n",
    "\n",
    "- Z is a standard normal with expected value 0 and variance 1;\n",
    "- V has a chi-squared distribution (χ2-distribution) with ${\\displaystyle \\nu }$ degrees of freedom;\n",
    "- Z and V are independent;"
   ]
  },
  {
   "cell_type": "code",
   "execution_count": null,
   "id": "3f358503-d5a0-4df2-8d6a-47b3d9513e77",
   "metadata": {},
   "outputs": [],
   "source": [
    "samp_dt[, .(sampz, sampss)] %>% cor %>% round(2)"
   ]
  },
  {
   "cell_type": "markdown",
   "id": "a004d560-645f-4fda-97a4-65552550c396",
   "metadata": {},
   "source": [
    "The statistic can also be rearranged such that:\n",
    "\n",
    "${\\displaystyle T\\equiv {\\frac {Z}{\\sqrt {V/\\nu }}}=\\left({\\overline {X}}_{n}-\\mu \\right){\\frac {\\sqrt {n}}{s}}}$\n",
    "\n",
    "Notice that the unknown population variance σ2 does not appear in T, since it was in both the numerator and the denominator, so it canceled. \n",
    "\n",
    "This is the distribution of t-statistic to conduct Student's t-test of whether the mean of a population has a value specified in a null hypothesis, as we will see later in hypothesis testing.\n",
    "\n",
    "Now let's calculate this t-statistics and understand its distribution:"
   ]
  },
  {
   "cell_type": "code",
   "execution_count": null,
   "id": "cc62c3df-3f70-4419-92b3-e7ebd0514cdf",
   "metadata": {},
   "outputs": [],
   "source": [
    "samp_dt[, sampt := sampm / sampsd * sqrt(sizet)]"
   ]
  },
  {
   "cell_type": "code",
   "execution_count": null,
   "id": "7792ed92-e40d-4ea1-99b1-714836383c6b",
   "metadata": {},
   "outputs": [],
   "source": [
    "hist(samp_dt$sampt)"
   ]
  },
  {
   "cell_type": "markdown",
   "id": "4e0dc91b-57e9-40b9-9f22-80e8ef2be961",
   "metadata": {},
   "source": [
    "It looks closer to Cauchy distribution than to normal distribution. Check the kurtosis:"
   ]
  },
  {
   "cell_type": "code",
   "execution_count": null,
   "id": "15101ca9-a0f6-4348-ac77-1fc71e3e5f0c",
   "metadata": {},
   "outputs": [],
   "source": [
    "kurtosis(samp_dt$sampt) - 3"
   ]
  },
  {
   "cell_type": "markdown",
   "id": "a61eb517-8dc6-4114-a295-3acbef7b8de3",
   "metadata": {},
   "source": [
    "The distribution has a very high level of excess kurtosis, so highly leptokurtic.\n",
    "\n",
    "Now let's overlap the density with that of a normal distribution with the same standard deviation and also with that of Cauchy distribution:"
   ]
  },
  {
   "cell_type": "code",
   "execution_count": null,
   "id": "6b672b03-9fde-4ab3-8da7-b19e1d87b30c",
   "metadata": {},
   "outputs": [],
   "source": [
    "densx <- density(samp_dt$sampt)[c(\"x\", \"y\")]\n",
    "maxx <- max(abs(range(samp_dt$sampt)))\n",
    "setDT(densx)\n",
    "xvals <- seq(-maxx, maxx, 0.001)"
   ]
  },
  {
   "cell_type": "code",
   "execution_count": null,
   "id": "570b43ef-df1e-461d-ab48-a21340d8659f",
   "metadata": {},
   "outputs": [],
   "source": [
    "plot(densx, type = \"l\", col = \"blue\")\n",
    "lines(xvals, dnorm(xvals, 0, sd(samp_dt$sampt)), col = \"red\")"
   ]
  },
  {
   "cell_type": "markdown",
   "id": "2eb8d962-717a-491f-9791-7dba36e9022f",
   "metadata": {},
   "source": [
    "The distribution is more peaked than normal distribution. The statistics that we derived conforms with Student's t distribution with degrees of freedom $\\nu = n - 1$.\n",
    "\n",
    "Student's t distribution (or simply the t distribution) ${\\displaystyle t_{\\nu }}$ generalizes the standard normal distribution. Like the latter, it is symmetric around zero and bell-shaped.\n",
    "\n",
    "However, ${\\displaystyle t_{\\nu }}$ has heavier tails, and the amount of probability mass in the tails is controlled by the parameter ${\\displaystyle \\nu }$.\n",
    "\n",
    "Mean is 0 for $\\nu > 1$ otherwise undefined (we will see below why it is undefined)\n",
    "\n",
    "Variance is ${\\displaystyle {\\frac {\\nu }{\\nu -2}}}$ for ${\\displaystyle \\nu >2}$, ${\\displaystyle \\infty }$ for ${\\displaystyle 1<\\nu \\leq 2}$ otherwise undefined.\n",
    "\n",
    "Student's t distribution is named after the the penname of William Sealy Gosset. Gosset was a statistician working for Guiness Brewery company in early 1900's. In order to prevent researchers from revealing trade secrets of the company, the Board of Directors decided that scientist at Guiness could publish their work on the condition that beer, Guiness or their surnames are not mentioned. So Gosset chose the penname *Student* to publish his papers.\n",
    "\n",
    "(https://en.wikipedia.org/wiki/Student%27s_t-distribution)\n",
    "\n",
    "(https://en.wikipedia.org/wiki/William_Sealy_Gosset)"
   ]
  },
  {
   "cell_type": "markdown",
   "id": "cbde712f-ffd8-436a-80bd-b8f679835c0f",
   "metadata": {},
   "source": [
    "Let's try for $\\nu = 3$ and sample from the distribution:"
   ]
  },
  {
   "cell_type": "code",
   "execution_count": null,
   "id": "1f27df90-286c-483d-95ad-f75eb14d6b28",
   "metadata": {},
   "outputs": [],
   "source": [
    "sizet"
   ]
  },
  {
   "cell_type": "code",
   "execution_count": null,
   "id": "23069571-4839-4b63-9003-4767dd22a94c",
   "metadata": {},
   "outputs": [],
   "source": [
    "set.seed(6)\n",
    "tsamp <- rt(1e5, sizet - 1)"
   ]
  },
  {
   "cell_type": "code",
   "execution_count": null,
   "id": "cfba47f9-b5da-4274-abf5-b92bc634ed5c",
   "metadata": {},
   "outputs": [],
   "source": [
    "hist(tsamp)"
   ]
  },
  {
   "cell_type": "markdown",
   "id": "35a355bd-aabc-4174-b2b6-842a29621693",
   "metadata": {},
   "source": [
    "The empirical variance of the sample is:"
   ]
  },
  {
   "cell_type": "code",
   "execution_count": null,
   "id": "11d0e63d-3707-455e-b80d-777c708d8189",
   "metadata": {},
   "outputs": [],
   "source": [
    "var(tsamp)"
   ]
  },
  {
   "cell_type": "markdown",
   "id": "5f69ad9b-2578-488d-bd04-9ef951b2948e",
   "metadata": {},
   "source": [
    "While the theoretical variance is:"
   ]
  },
  {
   "cell_type": "code",
   "execution_count": null,
   "id": "3892c353-b08c-49af-8e40-09791dcd675d",
   "metadata": {},
   "outputs": [],
   "source": [
    "var(Stud(sizet - 1))"
   ]
  },
  {
   "cell_type": "markdown",
   "id": "a7819957-a7d3-4a30-a2da-12fe26782444",
   "metadata": {},
   "source": [
    "And the comparison of densities of the t-statistic values we derived from the simulation and the theoretical distribution:"
   ]
  },
  {
   "cell_type": "code",
   "execution_count": null,
   "id": "c0ebc5e0-4f99-429c-ac63-155901430182",
   "metadata": {},
   "outputs": [],
   "source": [
    "densx <- density(samp_dt$sampt)[c(\"x\", \"y\")]\n",
    "maxx <- max(abs(range(samp_dt$sampt)))\n",
    "setDT(densx)\n",
    "xvals <- seq(-maxx, maxx, 0.001)"
   ]
  },
  {
   "cell_type": "code",
   "execution_count": null,
   "id": "14ba0b4b-282b-45fc-b845-7b2b50810838",
   "metadata": {},
   "outputs": [],
   "source": [
    "plot(densx, type = \"l\", col = \"blue\")\n",
    "lines(xvals, dt(xvals, sizet - 1), col = \"red\")"
   ]
  },
  {
   "cell_type": "markdown",
   "id": "dffba51c-ec14-4434-85db-03bfb9d29ab9",
   "metadata": {},
   "source": [
    "So the distribution of t statistics that we simulated obeys t distribution with $\\nu = 3$."
   ]
  },
  {
   "cell_type": "markdown",
   "id": "11eecc3a-ff80-477c-ae96-4fe9faf4d2d4",
   "metadata": {},
   "source": [
    "Now let's compare the densities of Student's t distribution with different $\\nu$ parameters"
   ]
  },
  {
   "cell_type": "code",
   "execution_count": null,
   "id": "5ac78b8a-9cc2-4be0-aa70-834bc589ed2e",
   "metadata": {},
   "outputs": [],
   "source": [
    "dfs <- c(1:10, 50, 100, 1e5)"
   ]
  },
  {
   "cell_type": "code",
   "execution_count": null,
   "id": "a5f55549-98a3-4c26-9af7-0a0a681c9657",
   "metadata": {},
   "outputs": [],
   "source": [
    "st_dt <- data.table(df = dfs)"
   ]
  },
  {
   "cell_type": "markdown",
   "id": "4d500ca4-967d-4ede-a970-af27231c82ce",
   "metadata": {},
   "source": [
    "For 5% cumulative p-value points:"
   ]
  },
  {
   "cell_type": "code",
   "execution_count": null,
   "id": "780fcd88-e8ac-44fd-a688-8b8fc4dcfa68",
   "metadata": {},
   "outputs": [],
   "source": [
    "pvals<- seq(0.05, 1 - 0.05, 0.05)"
   ]
  },
  {
   "cell_type": "markdown",
   "id": "ab23813a-41ed-4d1d-be99-f24380f16305",
   "metadata": {},
   "source": [
    "Calculate the quantiles:"
   ]
  },
  {
   "cell_type": "code",
   "execution_count": null,
   "id": "cd60f3cb-5782-48e3-a61a-611b53946b48",
   "metadata": {},
   "outputs": [],
   "source": [
    "st_dt2 <- st_dt[, .(pval = pvals, qvals = qt(pvals, df)), by = df]"
   ]
  },
  {
   "cell_type": "markdown",
   "id": "d4d3f710-fa2e-4df4-aa8e-7491ec04c249",
   "metadata": {},
   "source": [
    "And the densities:"
   ]
  },
  {
   "cell_type": "code",
   "execution_count": null,
   "id": "a96ace28-3534-4511-ac74-a65d48c9dab3",
   "metadata": {},
   "outputs": [],
   "source": [
    "st_dt2[, dvals := dt(qvals, df)]"
   ]
  },
  {
   "cell_type": "markdown",
   "id": "7bcf44aa-97e1-4b6a-a113-74691dcd8408",
   "metadata": {},
   "source": [
    "Plot the CDFs:"
   ]
  },
  {
   "cell_type": "code",
   "execution_count": null,
   "id": "c415628a-a10d-418c-a794-e501a3cd1d79",
   "metadata": {},
   "outputs": [],
   "source": [
    "p_cdf <- st_dt2 %>%\n",
    "mutate_at(\"df\", factor) %>%\n",
    "ggplot(aes(x = qvals, y = dvals, color = df)) +\n",
    "geom_line()"
   ]
  },
  {
   "cell_type": "code",
   "execution_count": null,
   "id": "76c6550d-b59d-41df-b527-8a5d4a192436",
   "metadata": {},
   "outputs": [],
   "source": [
    "p_cdf"
   ]
  },
  {
   "cell_type": "code",
   "execution_count": null,
   "id": "1b194f68-ee76-4d88-912b-8f9e19235344",
   "metadata": {},
   "outputs": [],
   "source": [
    "ggplotly(p_cdf)"
   ]
  },
  {
   "cell_type": "markdown",
   "id": "9b02c8d9-6554-49a6-8ee6-ed5c97a6e9f0",
   "metadata": {},
   "source": [
    "Tails are fatter in lower df values.\n",
    "\n",
    "The theoretical excess kurtosis values start high and approach 0 by higher degrees of freedom:"
   ]
  },
  {
   "cell_type": "code",
   "execution_count": null,
   "id": "44b5fe66-532e-4747-9f2b-5919d4b15b43",
   "metadata": {},
   "outputs": [],
   "source": [
    "round(sapply(dfs[dfs > 5], Stud) %>% sapply(kurt), 2)"
   ]
  },
  {
   "cell_type": "markdown",
   "id": "d8aae45b-533c-47cb-ab0f-1963b1c6ecc7",
   "metadata": {},
   "source": [
    "The pdf also confirms the tails:"
   ]
  },
  {
   "cell_type": "code",
   "execution_count": null,
   "id": "d57b8ba3-0e10-4de8-a582-5198786b68a3",
   "metadata": {},
   "outputs": [],
   "source": [
    "p_pdf <- st_dt2 %>%\n",
    "mutate_at(\"df\", factor) %>%\n",
    "ggplot(aes(x = qvals, y = pval, color = df)) +\n",
    "geom_line()"
   ]
  },
  {
   "cell_type": "code",
   "execution_count": null,
   "id": "e55c5cbc-35bf-47cd-bfd0-7765cb7f6536",
   "metadata": {},
   "outputs": [],
   "source": [
    "p_pdf"
   ]
  },
  {
   "cell_type": "code",
   "execution_count": null,
   "id": "05bc9b12-04af-45b6-ad66-7945dba10ad8",
   "metadata": {},
   "outputs": [],
   "source": [
    "ggplotly(p_pdf)"
   ]
  },
  {
   "cell_type": "markdown",
   "id": "fc6c9727-d5e4-453e-8ee2-6f36fa8ad6d2",
   "metadata": {},
   "source": [
    "The pdf's of t distributions with different df values also confirm the change in shape: At lower df degrees, p-values correspond to more extreme quantile values at both tails so the tails are fatter."
   ]
  },
  {
   "cell_type": "markdown",
   "id": "8eaf2d53-7baa-493a-bafe-6e3ad5c7c87a",
   "metadata": {},
   "source": [
    "We can also confirm with another plot showing quantiles vs degrees of freedom for each p-value:"
   ]
  },
  {
   "cell_type": "code",
   "execution_count": null,
   "id": "baab54ac-a0d5-454e-af58-aca58b941aaa",
   "metadata": {},
   "outputs": [],
   "source": [
    "pst3 <- st_dt2 %>%\n",
    "mutate_at(\"df\", factor) %>%\n",
    "mutate_at(\"pval\", factor) %>%\n",
    "ggplot(aes(x = qvals, y = df, color = pval, group = pval)) +\n",
    "geom_line()"
   ]
  },
  {
   "cell_type": "code",
   "execution_count": null,
   "id": "e2ddd2b5-654c-47b1-866a-7f12efd35f3d",
   "metadata": {},
   "outputs": [],
   "source": [
    "pst3"
   ]
  },
  {
   "cell_type": "code",
   "execution_count": null,
   "id": "eed84e44-0806-45c0-b417-98d2db85c6d5",
   "metadata": {},
   "outputs": [],
   "source": [
    "ggplotly(pst3)"
   ]
  },
  {
   "cell_type": "markdown",
   "id": "9b553d43-6c86-427f-8be8-01598b8a649e",
   "metadata": {},
   "source": [
    "For each selected p-value, lower df values correspond to more extreme quantile values."
   ]
  },
  {
   "cell_type": "markdown",
   "id": "b4f4319c-b4db-4a88-8252-06890382ef4d",
   "metadata": {},
   "source": [
    "Now let's take two extreme examples, the one with a very high df:"
   ]
  },
  {
   "cell_type": "markdown",
   "id": "446aa7c3-d762-42a2-87a2-599b8ee2ce29",
   "metadata": {},
   "source": [
    "The PDF of normal distribution and the t-distribution with 1e5 df overlap drawn for p-values of 0.05 intervals between 0.05 and 0.95:"
   ]
  },
  {
   "cell_type": "code",
   "execution_count": null,
   "id": "9d9436d6-ce3f-44a5-9812-13ad2077ed2b",
   "metadata": {},
   "outputs": [],
   "source": [
    "pvals"
   ]
  },
  {
   "cell_type": "code",
   "execution_count": null,
   "id": "f23e4c9e-2b0f-4fbf-9791-e79112151a37",
   "metadata": {},
   "outputs": [],
   "source": [
    "plot(qnorm(pvals), pvals, type = \"l\", col = \"blue\")\n",
    "lines(qt(pvals, 1e5), col = \"red\")"
   ]
  },
  {
   "cell_type": "markdown",
   "id": "a4b5e445-6d30-4e46-98e2-107f22f7dba0",
   "metadata": {},
   "source": [
    "So t distribution converges to normal distribution as df approaches $\\infty$."
   ]
  },
  {
   "cell_type": "markdown",
   "id": "8bcb850c-7b1a-49e1-a031-4c9cd8bb5cfa",
   "metadata": {},
   "source": [
    "The PDF of Cauchy distribution and the t-distribution with 1 df also overlap:"
   ]
  },
  {
   "cell_type": "code",
   "execution_count": null,
   "id": "9e97fec0-4ae2-40ec-ae1c-80cc0440c26f",
   "metadata": {},
   "outputs": [],
   "source": [
    "plot(qcauchy(pvals), pvals, type = \"l\", col = \"blue\")\n",
    "lines(qt(pvals, 1), col = \"red\")"
   ]
  },
  {
   "cell_type": "markdown",
   "id": "343d80a7-ef6e-421b-9e57-d22fc33bcc9c",
   "metadata": {},
   "source": [
    "So Cauchy distribution is a special case of t distribution with $\\nu = 1$ and that's why moments are not defined for that df value."
   ]
  },
  {
   "cell_type": "markdown",
   "id": "a287cc01-aec3-48a4-b3cc-7862d0300cc4",
   "metadata": {},
   "source": [
    "# Revisiting Higher Moments: Interpreting the Shape of Distributions"
   ]
  },
  {
   "cell_type": "markdown",
   "id": "84839437-52ad-4c00-a5d4-fda4a9ee695e",
   "metadata": {},
   "source": [
    "Now that we covered the higher moments and distributions with support on the continuum (between $-\\infty$ and $\\infty$), we can revisit those higher moments in order to infer the details of the distribution from those moments."
   ]
  },
  {
   "cell_type": "markdown",
   "id": "3c5f6cde-20cc-43c9-841c-c6ddff794daa",
   "metadata": {},
   "source": [
    "We will create simple distributions to investigate the relationship between their higher moments and some statistical summaries.\n",
    "\n",
    "In order to simplify the analysis, we will ensure that all distributions are Z-score standardized so that the mean is 0 and variance and standard deviation are 1."
   ]
  },
  {
   "cell_type": "markdown",
   "id": "ad5ca5aa-0655-41d3-a8c2-beb278c8aab8",
   "metadata": {},
   "source": [
    "The kurtosis of normal distribution is 3 and skewness is 0. When kurtosis is defined as excess kurtosis, 3 is extracted from the value."
   ]
  },
  {
   "cell_type": "markdown",
   "id": "5973b3fc-3757-4a30-ac1c-acf15740e9d5",
   "metadata": {},
   "source": [
    "## Mesokurtosis"
   ]
  },
  {
   "cell_type": "markdown",
   "id": "13be993b-d91c-4483-aaef-8b7ae3c7ab3e",
   "metadata": {},
   "source": [
    "A mesokurtic distribution has the same kurtosis value of normal distribution, 3. Now let's create a very simple mesokurtic distribution from three different values:\n",
    "\n",
    "One sixth of the values will be to the left and one sixth of the values will be to the right at the same distance. The values are standardized to have a mean of 0 and sd of 1:"
   ]
  },
  {
   "cell_type": "code",
   "execution_count": null,
   "id": "0756a7e6-3f91-4677-9b07-57521e2c6156",
   "metadata": {},
   "outputs": [],
   "source": [
    "vals <- normalize(c(rep(0, 1e4), rep(-1, 2.5e3), rep(1, 2.5e3)))"
   ]
  },
  {
   "cell_type": "code",
   "execution_count": null,
   "id": "f88a4be1-db28-4dee-86bb-3fbd14d77d70",
   "metadata": {
    "scrolled": true
   },
   "outputs": [],
   "source": [
    "table(vals)"
   ]
  },
  {
   "cell_type": "markdown",
   "id": "20ae9c49-3361-4433-915e-feb9fcba4a04",
   "metadata": {},
   "source": [
    "The off-mean values after standardization is simply $\\sqrt{3}$:"
   ]
  },
  {
   "cell_type": "code",
   "execution_count": null,
   "id": "2a0d8b9e-4850-4eff-9b44-891247c78119",
   "metadata": {},
   "outputs": [],
   "source": [
    "sqrt(3)"
   ]
  },
  {
   "cell_type": "markdown",
   "id": "3bb5e2d9-90b9-4350-861c-c414ebb91672",
   "metadata": {},
   "source": [
    "Now we will prove why the kurtosis will be 3. Note that since standard deviation or $\\sigma$ is already one, we don't need to standardize by the $\\sigma$. Note that kurtosis is the fourth moment."
   ]
  },
  {
   "cell_type": "markdown",
   "id": "be1d72bc-bd42-46bb-b0fb-dbc4db6d5d3b",
   "metadata": {},
   "source": [
    "Since mean is 0, the fourth degree of each deviation is $\\sqrt{3}^4$ or $3^2$. Considering 1 sixth of values to the left, 1 sixth of values to the right and 4 sixth of values at the mean:"
   ]
  },
  {
   "cell_type": "code",
   "execution_count": null,
   "id": "251dd7f5-d950-4f31-baa1-b584c8f0dc69",
   "metadata": {},
   "outputs": [],
   "source": [
    "(1 * (-sqrt(3))^4 +\n",
    " 1 * (sqrt(3))^4 +\n",
    " 4 * 0) / 6"
   ]
  },
  {
   "cell_type": "markdown",
   "id": "e69cd8db-33da-48f6-a611-fc6430ea7698",
   "metadata": {},
   "source": [
    "or in simplified terrms:"
   ]
  },
  {
   "cell_type": "code",
   "execution_count": null,
   "id": "b1558618-a08b-40f3-b4cf-988680a74a67",
   "metadata": {},
   "outputs": [],
   "source": [
    "3^2 / 3"
   ]
  },
  {
   "cell_type": "markdown",
   "id": "58e59754-f828-4b3a-bba8-5b168bc07d01",
   "metadata": {},
   "source": [
    "Since base `var` and `sd` functions calculate the sample variance and standard deviation, to calculate the population values, we will create functions that will undo the Bessel correction:"
   ]
  },
  {
   "cell_type": "code",
   "execution_count": null,
   "id": "ca815bd0-f3ca-42d3-8382-dab7558c8d16",
   "metadata": {},
   "outputs": [],
   "source": [
    "sdp <- function(x)\n",
    "{\n",
    "    len <- length(x)\n",
    "    bess <- (len - 1) / len\n",
    "    sd(x) * sqrt(bess)\n",
    "}"
   ]
  },
  {
   "cell_type": "code",
   "execution_count": null,
   "id": "263bf50a-ccde-473d-867c-4b22114dd737",
   "metadata": {},
   "outputs": [],
   "source": [
    "varp <- function(x)\n",
    "{\n",
    "    len <- length(x)\n",
    "    bess <- (len - 1) / len\n",
    "    var(x) * bess\n",
    "}"
   ]
  },
  {
   "cell_type": "markdown",
   "id": "6eb7f058-ba58-4c37-9f65-ab856e1ee24d",
   "metadata": {},
   "source": [
    "Now let's check that the distribution is Z-score standardized:"
   ]
  },
  {
   "cell_type": "code",
   "execution_count": null,
   "id": "0200ed2f-61b0-4f44-8749-6db4e4d6aa2b",
   "metadata": {},
   "outputs": [],
   "source": [
    "meanx <- mean(vals)\n",
    "varx <- varp(vals)\n",
    "sdx <- sdp(vals)"
   ]
  },
  {
   "cell_type": "code",
   "execution_count": null,
   "id": "ccd44ff1-9489-45c3-b3e3-744f0be57a2d",
   "metadata": {},
   "outputs": [],
   "source": [
    "round(meanx, 3)\n",
    "round(varx, 3)\n",
    "round(sdx, 3)"
   ]
  },
  {
   "cell_type": "markdown",
   "id": "32e9c780-0f5e-4983-a014-728adacd1f6b",
   "metadata": {},
   "source": [
    "And let's see the distribution's histogram:"
   ]
  },
  {
   "cell_type": "code",
   "execution_count": null,
   "id": "df8ac7d0-c390-4ceb-8eaa-322c752888bb",
   "metadata": {},
   "outputs": [],
   "source": [
    "hist(vals)\n",
    "abline(v = mean(vals), col = \"red\")\n",
    "abline(v = median(vals), col = \"blue\")\n",
    "abline(v = c(-varx, varx), col = \"green\")"
   ]
  },
  {
   "cell_type": "markdown",
   "id": "2e79a154-556a-4ddf-8983-a2c50775a907",
   "metadata": {},
   "source": [
    "Mean is shown as red vertical line, median is shown as blue vertical line and +/- $\\sigma$ are shown as green vertical lines.\n",
    "\n",
    "Median and mean completely overlap."
   ]
  },
  {
   "cell_type": "markdown",
   "id": "cba57ab5-3164-4a00-8b0c-7a167a6e0005",
   "metadata": {},
   "source": [
    "The distribution is centered so skewness is zero and kurtosis value is 3 as expected:"
   ]
  },
  {
   "cell_type": "code",
   "execution_count": null,
   "id": "17dd02e1-2de4-446c-819a-4d4a6b43de0c",
   "metadata": {},
   "outputs": [],
   "source": [
    "skewness(vals)\n",
    "kurtosis(vals)"
   ]
  },
  {
   "cell_type": "markdown",
   "id": "985beea3-3afb-4290-8730-bdbaa00a4408",
   "metadata": {},
   "source": [
    "If the shares of off-mean values are smaller, we may expect a leptokurtic distribution since $\\sigma$ will be lower and the standardized off-mean values have to be further out when divided by a smaller $\\sigma$. So there will be more values with a higher Z-score - outlying more."
   ]
  },
  {
   "cell_type": "markdown",
   "id": "4f14c055-2579-4ba7-b4a1-58fe95d7ad38",
   "metadata": {},
   "source": [
    "If the shares of off-mean values are larger, we may expect a platykurtic distribution since $\\sigma$ will be higher and the standardized off-mean values have to be closer to the mean when divided by a larger $\\sigma$. So there will be more values with a lower Z-score - outlying less."
   ]
  },
  {
   "cell_type": "markdown",
   "id": "d28b4205-42fa-4278-9e39-359e1c6c2aa5",
   "metadata": {},
   "source": [
    "## Leptokurtosis"
   ]
  },
  {
   "cell_type": "markdown",
   "id": "b4c54c15-139b-42c3-949b-2b13ec52ea55",
   "metadata": {},
   "source": [
    "### Leptokurtic and centered"
   ]
  },
  {
   "cell_type": "markdown",
   "id": "d436aba1-a5d6-4081-b2d0-159d5e9b53b6",
   "metadata": {},
   "source": [
    "Now let's create a distribution with fewer off-mean values symettrically, compared to the mesokurtic case:"
   ]
  },
  {
   "cell_type": "code",
   "execution_count": null,
   "id": "06053516-c2d4-48c5-bba7-0e3a0b630ad7",
   "metadata": {},
   "outputs": [],
   "source": [
    "vals <- normalize(c(rep(0, 1e4), rep(-1, 1.5e3), rep(1, 1.5e3)))"
   ]
  },
  {
   "cell_type": "markdown",
   "id": "2e6f78b9-916d-4be1-9c4e-aad5a8b35d79",
   "metadata": {},
   "source": [
    "Standardized off-mean values have higher Z-scores so they are lying further out compared to the mesokurtic case:"
   ]
  },
  {
   "cell_type": "code",
   "execution_count": null,
   "id": "3c72f797-d61e-432f-89ba-963886df7031",
   "metadata": {
    "scrolled": true
   },
   "outputs": [],
   "source": [
    "table(vals)"
   ]
  },
  {
   "cell_type": "markdown",
   "id": "a9425d28-39fc-46e1-8425-aeb6f3b93803",
   "metadata": {},
   "source": [
    "Now let's check that the distribution is Z-score standardized:"
   ]
  },
  {
   "cell_type": "code",
   "execution_count": null,
   "id": "6a89a2d2-b405-4e8c-8981-51dd581d215f",
   "metadata": {},
   "outputs": [],
   "source": [
    "meanx <- mean(vals)\n",
    "varx <- varp(vals)\n",
    "sdx <- sdp(vals)"
   ]
  },
  {
   "cell_type": "code",
   "execution_count": null,
   "id": "7b0d244e-63ed-48a5-b07b-e3510df9882c",
   "metadata": {},
   "outputs": [],
   "source": [
    "round(meanx, 3)\n",
    "round(varx, 3)\n",
    "round(sdx, 3)"
   ]
  },
  {
   "cell_type": "markdown",
   "id": "5d2fad2a-21ec-497a-b716-f93d130f1486",
   "metadata": {},
   "source": [
    "And let's see the distribution's histogram:"
   ]
  },
  {
   "cell_type": "code",
   "execution_count": null,
   "id": "672006c4-e292-4a76-a73b-424a7b0a29ca",
   "metadata": {},
   "outputs": [],
   "source": [
    "hist(vals)\n",
    "abline(v = mean(vals), col = \"red\")\n",
    "abline(v = median(vals), col = \"blue\")\n",
    "abline(v = c(-varx, varx), col = \"green\")"
   ]
  },
  {
   "cell_type": "markdown",
   "id": "a88cab40-56eb-4657-a99c-eca1ddd934f7",
   "metadata": {},
   "source": [
    "Median and mean completely overlap. However extreme values are further away from the +/- $\\sigma$ values."
   ]
  },
  {
   "cell_type": "markdown",
   "id": "aad46461-d091-4bf9-959b-f0ff508539e4",
   "metadata": {},
   "source": [
    "The distribution is centered so skewness is zero and kurtosis value is larger than 3 as expected:"
   ]
  },
  {
   "cell_type": "code",
   "execution_count": null,
   "id": "650e5338-1992-48a5-8c51-a37dfab239be",
   "metadata": {},
   "outputs": [],
   "source": [
    "skewness(vals)\n",
    "kurtosis(vals)"
   ]
  },
  {
   "cell_type": "markdown",
   "id": "4c085992-9e37-46a9-a8ec-4db654b4a0fd",
   "metadata": {},
   "source": [
    "Now let's start to imbalance the centered distribution."
   ]
  },
  {
   "cell_type": "markdown",
   "id": "2f44213e-e867-4496-a008-50f3f5c383ad",
   "metadata": {},
   "source": [
    "### Leptokurtic and left skewed"
   ]
  },
  {
   "cell_type": "markdown",
   "id": "007f0b5a-af72-4ca9-857a-fd27adf9cc91",
   "metadata": {},
   "source": [
    "Now while keeping the share of off-mean values the same, let's shift the values on the left side further away from the center:"
   ]
  },
  {
   "cell_type": "code",
   "execution_count": null,
   "id": "005ece8a-d3a8-4c6d-994e-f22ad2822c60",
   "metadata": {},
   "outputs": [],
   "source": [
    "vals <- normalize(c(rep(0, 1e4), rep(-2, 1.5e3), rep(1, 1.5e3)))"
   ]
  },
  {
   "cell_type": "markdown",
   "id": "39cf3733-c2fa-444f-a7be-d24e86692771",
   "metadata": {},
   "source": [
    "Standardized off-mean values on the left have higher Z-scores so they are lying further out compared to the centered case:"
   ]
  },
  {
   "cell_type": "code",
   "execution_count": null,
   "id": "07249ef9-50ad-4f08-b511-fa1656dcb45b",
   "metadata": {
    "scrolled": true
   },
   "outputs": [],
   "source": [
    "table(vals)"
   ]
  },
  {
   "cell_type": "code",
   "execution_count": null,
   "id": "d90aaf2c-88ae-469e-ab86-0f211f54b4e4",
   "metadata": {},
   "outputs": [],
   "source": [
    "meanx <- mean(vals)\n",
    "varx <- varp(vals)\n",
    "sdx <- sdp(vals)"
   ]
  },
  {
   "cell_type": "markdown",
   "id": "34800720-eee9-4e4e-8d16-314ae2b040dc",
   "metadata": {},
   "source": [
    "And let's see the distribution's histogram:"
   ]
  },
  {
   "cell_type": "code",
   "execution_count": null,
   "id": "5bdb30a6-426d-4338-ba29-14252da86cc5",
   "metadata": {},
   "outputs": [],
   "source": [
    "hist(vals)\n",
    "abline(v = mean(vals), col = \"red\")\n",
    "abline(v = median(vals), col = \"blue\")\n",
    "abline(v = c(-varx, varx), col = \"green\")"
   ]
  },
  {
   "cell_type": "markdown",
   "id": "cfae4a3d-8600-4a03-94a2-461cefcb2cfa",
   "metadata": {},
   "source": [
    "Note that skewness is the third moment - average of the cubic values of deviations. So more outlying values on one side will have more weight along with their signs."
   ]
  },
  {
   "cell_type": "markdown",
   "id": "2e367c6c-92b7-45d0-8b1b-95357a04dfcb",
   "metadata": {},
   "source": [
    "The distribution is has a negative skewness value, so it is left skewed. Kurtosis value is still larger than 3:"
   ]
  },
  {
   "cell_type": "code",
   "execution_count": null,
   "id": "e76697ec-ad4f-4d22-a0c2-22dfc4736b4d",
   "metadata": {},
   "outputs": [],
   "source": [
    "skewness(vals)\n",
    "kurtosis(vals)"
   ]
  },
  {
   "cell_type": "markdown",
   "id": "0fea92c8-c99d-440a-a17c-db3af38605ad",
   "metadata": {},
   "source": [
    "The mean is now to the left of median. Note that since mean is the first moment and the skewness is the third moment, the outlying values have more weight on the calculation of skewness than it has on the mean. So this pattern where mean is to the left of median in left-skewed distributions is not guaranteed in all cases however it is the most common pattern.\n",
    "\n",
    "We can think about the pattern as a weighting scale that is unbalanced to the left, the center of mass is to the left of the middle position:\n",
    "\n",
    "![sl](../imagesba/left-skew.jpg)"
   ]
  },
  {
   "cell_type": "markdown",
   "id": "be43e14f-58e8-4c72-8c1e-81d282b2567d",
   "metadata": {},
   "source": [
    "### Leptokurtic and right skewed"
   ]
  },
  {
   "cell_type": "markdown",
   "id": "28479216-5217-4cbe-8326-144f4a789883",
   "metadata": {},
   "source": [
    "Now while keeping the share of off-mean values the same, let's shift the values on the right side further away from the center:"
   ]
  },
  {
   "cell_type": "code",
   "execution_count": null,
   "id": "23b66bd3-51d3-45ff-9ad4-2df7e32e5a86",
   "metadata": {},
   "outputs": [],
   "source": [
    "vals <- normalize(c(rep(0, 1e4), rep(2, 1.5e3), rep(-1, 1.5e3)))"
   ]
  },
  {
   "cell_type": "markdown",
   "id": "ef0919a1-133f-4e8c-aad8-5b219b1277b6",
   "metadata": {},
   "source": [
    "Standardized off-mean values on the right have higher Z-scores so they are lying further out compared to the centered case:"
   ]
  },
  {
   "cell_type": "code",
   "execution_count": null,
   "id": "3b60ef03-15db-4a8b-bc97-09f8eeac6206",
   "metadata": {
    "scrolled": true
   },
   "outputs": [],
   "source": [
    "table(vals)"
   ]
  },
  {
   "cell_type": "code",
   "execution_count": null,
   "id": "098fd573-f59c-4fd0-a997-f9f74e9837b4",
   "metadata": {},
   "outputs": [],
   "source": [
    "meanx <- mean(vals)\n",
    "varx <- varp(vals)\n",
    "sdx <- sdp(vals)"
   ]
  },
  {
   "cell_type": "markdown",
   "id": "7ebe3e63-ed47-42cb-aae9-172b54274616",
   "metadata": {},
   "source": [
    "And let's see the distribution's histogram:"
   ]
  },
  {
   "cell_type": "code",
   "execution_count": null,
   "id": "69c90128-f657-4ccf-a7a3-98afdaa1237b",
   "metadata": {},
   "outputs": [],
   "source": [
    "hist(vals)\n",
    "abline(v = mean(vals), col = \"red\")\n",
    "abline(v = median(vals), col = \"blue\")\n",
    "abline(v = c(-varx, varx), col = \"green\")"
   ]
  },
  {
   "cell_type": "markdown",
   "id": "607324f4-1a81-4213-b7b8-480bec0c05b2",
   "metadata": {},
   "source": [
    "Note that skewness is the third moment - average of the cubic values of deviations. So more outlying values on one side will have more weight along with their signs."
   ]
  },
  {
   "cell_type": "markdown",
   "id": "b861d6b5-e5f2-482e-8da7-d20a9bee0a95",
   "metadata": {},
   "source": [
    "The distribution is has a positive skewness value, so it is right skewed. Kurtosis value is still larger than 3:"
   ]
  },
  {
   "cell_type": "code",
   "execution_count": null,
   "id": "bcd73e08-bd8f-415f-b834-c55cc74afcca",
   "metadata": {},
   "outputs": [],
   "source": [
    "skewness(vals)\n",
    "kurtosis(vals)"
   ]
  },
  {
   "cell_type": "markdown",
   "id": "c5b86cf3-9670-4a39-8b3a-0cd3de864dab",
   "metadata": {},
   "source": [
    "The mean is now to the right of median. Note that since mean is the first moment and the skewness is the third moment, the outlying values have more weight on the calculation of skewness than it has on the mean. So this pattern where mean is to the right of median in right-skewed distributions is not guaranteed in all cases however it is the most common pattern.\n",
    "\n",
    "We can think about the pattern as a weighting scale that is unbalanced to the right, the center of mass is to the right of the middle position:\n",
    "\n",
    "![sl](../imagesba/right-skew.jpg)"
   ]
  },
  {
   "cell_type": "markdown",
   "id": "5941600e-61d8-48d2-9657-bee69c5e30ec",
   "metadata": {},
   "source": [
    "## Platykurtosis"
   ]
  },
  {
   "cell_type": "markdown",
   "id": "21d24415-0eb2-4b8d-a785-2e5053cac44e",
   "metadata": {},
   "source": [
    "### Platykurtic and centered"
   ]
  },
  {
   "cell_type": "markdown",
   "id": "f119a2bf-904d-471a-b8d9-f3642ecd0ba7",
   "metadata": {},
   "source": [
    "Now let's create a distribution with more off-mean values symettrically, compared to the mesokurtic case:"
   ]
  },
  {
   "cell_type": "code",
   "execution_count": null,
   "id": "18989853-f940-4f98-b120-325af7d40f94",
   "metadata": {},
   "outputs": [],
   "source": [
    "vals <- normalize(c(rep(0, 1e4), rep(-1, 5e3), rep(1, 5e3)))"
   ]
  },
  {
   "cell_type": "markdown",
   "id": "07c13dbb-e30b-4370-b0c4-abf82559648c",
   "metadata": {},
   "source": [
    "Standardized off-mean values have lower Z-scores so they are lying closer to the mean, compared to the mesokurtic case:"
   ]
  },
  {
   "cell_type": "code",
   "execution_count": null,
   "id": "9e650fac-d848-4869-99f8-719e597ee954",
   "metadata": {
    "scrolled": true
   },
   "outputs": [],
   "source": [
    "table(vals)"
   ]
  },
  {
   "cell_type": "markdown",
   "id": "1c14f4e6-c18f-4f21-a9ee-7ad6219d02b1",
   "metadata": {},
   "source": [
    "Now let's check that the distribution is Z-score standardized:"
   ]
  },
  {
   "cell_type": "code",
   "execution_count": null,
   "id": "b58f5a53-3f9b-4858-a0aa-36e553e8d6be",
   "metadata": {},
   "outputs": [],
   "source": [
    "meanx <- mean(vals)\n",
    "varx <- varp(vals)\n",
    "sdx <- sdp(vals)"
   ]
  },
  {
   "cell_type": "code",
   "execution_count": null,
   "id": "5d8d2594-43ed-4c58-af92-ce5f45cf696c",
   "metadata": {},
   "outputs": [],
   "source": [
    "round(meanx, 3)\n",
    "round(varx, 3)\n",
    "round(sdx, 3)"
   ]
  },
  {
   "cell_type": "markdown",
   "id": "e1508d38-b91d-4286-8b8b-af003f943a36",
   "metadata": {},
   "source": [
    "And let's see the distribution's histogram:"
   ]
  },
  {
   "cell_type": "code",
   "execution_count": null,
   "id": "d8c272d1-a2b5-43d8-b355-bd70e4b80110",
   "metadata": {},
   "outputs": [],
   "source": [
    "hist(vals)\n",
    "abline(v = mean(vals), col = \"red\")\n",
    "abline(v = median(vals), col = \"blue\")\n",
    "abline(v = c(-varx, varx), col = \"green\")"
   ]
  },
  {
   "cell_type": "markdown",
   "id": "18f57e9d-5d66-4018-b317-c81741d14ea8",
   "metadata": {},
   "source": [
    "Median and mean completely overlap. However extreme values are closer to the +/- $\\sigma$ values, compared to the leptokurtic and mesokurtic cases."
   ]
  },
  {
   "cell_type": "markdown",
   "id": "e54f5a64-0faf-4a3d-a375-d2b70f116e68",
   "metadata": {},
   "source": [
    "The distribution is centered so skewness is zero and kurtosis value is lower than 3 as expected:"
   ]
  },
  {
   "cell_type": "code",
   "execution_count": null,
   "id": "56a376a6-f0d9-4fe6-9dd7-e13f6307f752",
   "metadata": {},
   "outputs": [],
   "source": [
    "skewness(vals)\n",
    "kurtosis(vals)"
   ]
  },
  {
   "cell_type": "markdown",
   "id": "e47935d2-41cd-4269-86da-a39ac0d248f7",
   "metadata": {},
   "source": [
    "Now let's start to imbalance the centered distribution."
   ]
  },
  {
   "cell_type": "markdown",
   "id": "47262227-a94b-4dc4-93a2-7fdd901bfbe3",
   "metadata": {},
   "source": [
    "### Platykurtic and left skewed"
   ]
  },
  {
   "cell_type": "markdown",
   "id": "a8969f7b-ab5d-4379-9e69-6025957f0a9c",
   "metadata": {},
   "source": [
    "Now while keeping the share of off-mean values the same, let's shift the values on the left side further away from the center:"
   ]
  },
  {
   "cell_type": "code",
   "execution_count": null,
   "id": "19b56d31-bb9c-44d2-bd5f-d917951d2c33",
   "metadata": {},
   "outputs": [],
   "source": [
    "vals <- normalize(c(rep(0, 1e4), rep(-2, 5e3), rep(1, 5e3)))"
   ]
  },
  {
   "cell_type": "markdown",
   "id": "d9e11d06-34f0-49b0-bb6f-342256e8e1bb",
   "metadata": {},
   "source": [
    "Standardized off-mean values on the left have higher Z-scores so they are lying further out compared to the centered case:"
   ]
  },
  {
   "cell_type": "code",
   "execution_count": null,
   "id": "6b7544a5-0cf7-42d3-b0a0-0a78f45520ff",
   "metadata": {
    "scrolled": true
   },
   "outputs": [],
   "source": [
    "table(vals)"
   ]
  },
  {
   "cell_type": "code",
   "execution_count": null,
   "id": "9d692ffc-68f6-423f-a9b3-10cdf34db592",
   "metadata": {},
   "outputs": [],
   "source": [
    "meanx <- mean(vals)\n",
    "varx <- varp(vals)\n",
    "sdx <- sdp(vals)"
   ]
  },
  {
   "cell_type": "markdown",
   "id": "072f38bb-ed7e-4001-8b67-d8d9fe37d823",
   "metadata": {},
   "source": [
    "And let's see the distribution's histogram:"
   ]
  },
  {
   "cell_type": "code",
   "execution_count": null,
   "id": "70722849-d3ee-40c4-a2bb-50b4e4b63e91",
   "metadata": {},
   "outputs": [],
   "source": [
    "hist(vals)\n",
    "abline(v = mean(vals), col = \"red\")\n",
    "abline(v = median(vals), col = \"blue\")\n",
    "abline(v = c(-varx, varx), col = \"green\")"
   ]
  },
  {
   "cell_type": "markdown",
   "id": "cd6a2d9c-c327-4941-9e26-18b11701e336",
   "metadata": {},
   "source": [
    "Note that skewness is the third moment - average of the cubic values of deviations. So more outlying values on one side will have more weight along with their signs."
   ]
  },
  {
   "cell_type": "markdown",
   "id": "aa16031b-bc17-434d-a330-08e86947e3ca",
   "metadata": {},
   "source": [
    "The distribution is has a negative skewness value, so it is left skewed. Kurtosis value is still smaller than 3:"
   ]
  },
  {
   "cell_type": "code",
   "execution_count": null,
   "id": "322bcc0f-3eb5-4967-b8d4-9ba29c3f5aa3",
   "metadata": {},
   "outputs": [],
   "source": [
    "skewness(vals)\n",
    "kurtosis(vals)"
   ]
  },
  {
   "cell_type": "markdown",
   "id": "321dbda3-d516-4f92-aea2-ee106c9799dc",
   "metadata": {},
   "source": [
    "The mean is now to the left of median. Note that since mean is the first moment and the skewness is the third moment, the outlying values have more weight on the calculation of skewness than it has on the mean. So this pattern where mean is to the left of median in left-skewed distributions is not guaranteed in all cases however it is the most common pattern.\n",
    "\n",
    "We can think about the pattern as a weighting scale that is unbalanced to the left, the center of mass is to the left of the middle position:\n",
    "\n",
    "![sl](../imagesba/left-skew.jpg)"
   ]
  },
  {
   "cell_type": "markdown",
   "id": "ac597444-e44e-47ea-a4eb-6e80c5bced8c",
   "metadata": {},
   "source": [
    "### Platykurtic and right skewed"
   ]
  },
  {
   "cell_type": "markdown",
   "id": "a4b0e67a-22f1-4699-bcd1-1b806d10be85",
   "metadata": {},
   "source": [
    "Now while keeping the share of off-mean values the same, let's shift the values on the right side further away from the center:"
   ]
  },
  {
   "cell_type": "code",
   "execution_count": null,
   "id": "964a643d-0850-42fb-9862-6c4a2367c84f",
   "metadata": {},
   "outputs": [],
   "source": [
    "vals <- normalize(c(rep(0, 1e4), rep(2, 5e3), rep(-1, 5e3)))"
   ]
  },
  {
   "cell_type": "markdown",
   "id": "a089cbf5-e1d0-4450-aec8-5cd7d56b6e81",
   "metadata": {},
   "source": [
    "Standardized off-mean values on the right have higher Z-scores so they are lying further out compared to the centered case:"
   ]
  },
  {
   "cell_type": "code",
   "execution_count": null,
   "id": "fcd60784-ea69-4d22-ae96-d3fa997bba42",
   "metadata": {
    "scrolled": true
   },
   "outputs": [],
   "source": [
    "table(vals)"
   ]
  },
  {
   "cell_type": "code",
   "execution_count": null,
   "id": "ff84d6d6-d94e-45fd-a667-9982d7dcea30",
   "metadata": {},
   "outputs": [],
   "source": [
    "meanx <- mean(vals)\n",
    "varx <- varp(vals)\n",
    "sdx <- sdp(vals)"
   ]
  },
  {
   "cell_type": "markdown",
   "id": "72889d5f-6980-4372-98d1-9083a8d903f3",
   "metadata": {},
   "source": [
    "And let's see the distribution's histogram:"
   ]
  },
  {
   "cell_type": "code",
   "execution_count": null,
   "id": "7a31fa9c-ce1f-4244-bc6d-92c6ab8d58f6",
   "metadata": {},
   "outputs": [],
   "source": [
    "hist(vals)\n",
    "abline(v = mean(vals), col = \"red\")\n",
    "abline(v = median(vals), col = \"blue\")\n",
    "abline(v = c(-varx, varx), col = \"green\")"
   ]
  },
  {
   "cell_type": "markdown",
   "id": "c4322e9c-4feb-4484-abb6-2639d029a7df",
   "metadata": {},
   "source": [
    "Note that skewness is the third moment - average of the cubic values of deviations. So more outlying values on one side will have more weight along with their signs."
   ]
  },
  {
   "cell_type": "markdown",
   "id": "0018edb5-4b55-4262-a350-1aab8286f95f",
   "metadata": {},
   "source": [
    "The distribution is has a positive skewness value, so it is right skewed. Kurtosis value is still smaller than 3:"
   ]
  },
  {
   "cell_type": "code",
   "execution_count": null,
   "id": "f71414c9-9852-4582-a5dd-6fc45b04071d",
   "metadata": {},
   "outputs": [],
   "source": [
    "skewness(vals)\n",
    "kurtosis(vals)"
   ]
  },
  {
   "cell_type": "markdown",
   "id": "c7ce55d5-107e-4636-8152-2bbfb049bbf2",
   "metadata": {},
   "source": [
    "The mean is now to the right of median. Note that since mean is the first moment and the skewness is the third moment, the outlying values have more weight on the calculation of skewness than it has on the mean. So this pattern where mean is to the right of median in right-skewed distributions is not guaranteed in all cases however it is the most common pattern.\n",
    "\n",
    "We can think about the pattern as a weighting scale that is unbalanced to the right, the center of mass is to the right of the middle position:\n",
    "\n",
    "![sl](../imagesba/right-skew.jpg)"
   ]
  },
  {
   "cell_type": "markdown",
   "id": "d4eb0c47-85c3-4f59-b6c8-35b51c2b67ed",
   "metadata": {},
   "source": [
    "## Comparison of Moments with Pearson Distribution"
   ]
  },
  {
   "cell_type": "markdown",
   "id": "6fed628c-7b95-4774-8268-ddfa0bc34d35",
   "metadata": {},
   "source": [
    "Now we will create samples from Pearson Distribution, which is flexible enough to have all four moments as parameter values.\n",
    "\n",
    "For benchmarking we will also add samples from normal distribution, uniform distribution and t distribution with 2 degrees of freedom."
   ]
  },
  {
   "cell_type": "markdown",
   "id": "69f7bb13-19c9-456e-a61d-180691e13c73",
   "metadata": {},
   "source": [
    "First let's set the parameters and names:"
   ]
  },
  {
   "cell_type": "code",
   "execution_count": null,
   "id": "0c747851-0d7d-4678-8dce-fb1aef149dc8",
   "metadata": {},
   "outputs": [],
   "source": [
    "kurtvals <- c(2.8, 2.8, 4, 4)\n",
    "skewvals <- c(0.5, -0.5, 1, -1)\n",
    "qvals <- seq(-5, 5, 0.1)\n",
    "distnames1 <- c(\"platy_right\", \"platy_left\", \"lepto_right\", \"lepto_left\")\n",
    "distnames2 <- c(\"normal\", \"t_2\", \"unif_5\")\n",
    "distnames <- c(distnames1, distnames2)"
   ]
  },
  {
   "cell_type": "markdown",
   "id": "3e1ffce2-1e1a-4ba6-ad45-2e8f9c3d64c8",
   "metadata": {},
   "source": [
    "And then create the densities for quantile values between -5 and 5:"
   ]
  },
  {
   "cell_type": "code",
   "execution_count": null,
   "id": "b48570d2-1560-44e0-80a0-daaadef8f72d",
   "metadata": {},
   "outputs": [],
   "source": [
    "densities1 <- mapply(function(x, y) dpearson(qvals, moments = c(0, 1, y, x)), kurtvals, skewvals, SIMPLIFY = F)\n",
    "names(densities1) <- distnames1\n",
    "densities2 <- list(normal = dnorm(qvals), t_2 = dt(qvals, 2), unif_5 = dunif(qvals, -5, 5))\n",
    "densities <- c(densities1, densities2)\n",
    "densities_dt <- mapply(function(x, y) data.table(qval = qvals, dens = x, distname = y),\n",
    "                       densities, distnames, SIMPLIFY = F) %>% rbindlist                     "
   ]
  },
  {
   "cell_type": "markdown",
   "id": "d75367c0-7215-4018-944e-8c92555bdf9d",
   "metadata": {},
   "source": [
    "Let's create the an interactive plot to superimpose densities:"
   ]
  },
  {
   "cell_type": "code",
   "execution_count": null,
   "id": "3127b7aa-735a-4acb-8003-c18e49871619",
   "metadata": {},
   "outputs": [],
   "source": [
    "densep <- densities_dt %>%\n",
    "highlight_key(~distname) %>%\n",
    "ggplot(aes(x = qval, y = dens, col = distname)) +\n",
    "geom_line()"
   ]
  },
  {
   "cell_type": "code",
   "execution_count": null,
   "id": "98a623ec-8d03-4184-9c1d-675ef5ca0cd4",
   "metadata": {},
   "outputs": [],
   "source": [
    "ggplotly(densep) %>%\n",
    "highlight(\n",
    "  plotly_obj, \n",
    "  on = \"plotly_click\",\n",
    "  off = \"plotly_relayout\",\n",
    "  opacityDim = .1\n",
    "  )"
   ]
  },
  {
   "cell_type": "markdown",
   "id": "504585e9-a23b-4147-b05a-1c6d8d8d024d",
   "metadata": {},
   "source": [
    "For example if we compare the left-skewed leptokurtic and platykurtic distributions, leptokurtic distribution has more density in middle and leftmost quantiles while platykurtic distribution has more density moderate regions in between."
   ]
  },
  {
   "cell_type": "markdown",
   "id": "2e179cca-07f1-4843-90f8-166087452719",
   "metadata": {},
   "source": [
    "Now let's create random samples from the same distributions:"
   ]
  },
  {
   "cell_type": "code",
   "execution_count": null,
   "id": "2f0c7357-cdc0-4c2f-b43b-575c1054e660",
   "metadata": {},
   "outputs": [],
   "source": [
    "samplesize <- 1e4"
   ]
  },
  {
   "cell_type": "code",
   "execution_count": null,
   "id": "80022550-0373-40fa-aef4-518ce5a38be8",
   "metadata": {},
   "outputs": [],
   "source": [
    "set.seed(10)\n",
    "samples1 <- mapply(function(x, y) rpearson(samplesize, moments = c(0, 1, y, x)), kurtvals, skewvals, SIMPLIFY = F)\n",
    "names(samples1) <- distnames1\n",
    "samples2 <- list(normal = rnorm(samplesize), t_2 = rt(samplesize, 2), unif_5 = runif(samplesize, -5, 5))\n",
    "samples2 <- lapply(samples2, normalize)\n",
    "samples <- c(samples1, samples2)\n",
    "samples_dt <- mapply(function(x, y) data.table(vals = x, distname = y),\n",
    "                       samples, distnames, SIMPLIFY = F) %>% rbindlist"
   ]
  },
  {
   "cell_type": "markdown",
   "id": "7122886b-a88f-4a7b-a7c2-182c00dd0da4",
   "metadata": {},
   "source": [
    "Let's get statistical and moment summaries of the distributions:"
   ]
  },
  {
   "cell_type": "code",
   "execution_count": null,
   "id": "66c7798f-4d72-4de4-8e8f-79502690e202",
   "metadata": {
    "scrolled": true
   },
   "outputs": [],
   "source": [
    "samples_dt %>%\n",
    "group_by(distname) %>%\n",
    "summarize(meanx = mean(vals), median = median(vals), sdx = sd(vals), skewx = skewness(vals), kurtx = kurtosis(vals)) %>%\n",
    "mutate_if(is.numeric, round, 2)"
   ]
  },
  {
   "cell_type": "markdown",
   "id": "5e097e5f-f267-4db4-9dfa-88358f42039e",
   "metadata": {},
   "source": [
    "In left skewed distributions, the mean is lower than (to the left of) the median and vice versa."
   ]
  },
  {
   "cell_type": "markdown",
   "id": "60c98203-88bb-4a59-86b1-f250cf10e0b4",
   "metadata": {},
   "source": [
    "We can also confirm with the histograms:"
   ]
  },
  {
   "cell_type": "code",
   "execution_count": null,
   "id": "7cad6182-763b-473d-9f28-5ba75d27a80e",
   "metadata": {},
   "outputs": [],
   "source": [
    "histplot2 <- samples_dt[, (c(\"meanx\", \"medianx\")) := .(mean(vals), median(vals)), by = distname][] %>%\n",
    "ggplot(aes(x = vals)) +\n",
    "geom_histogram() +\n",
    "geom_vline(aes(xintercept = meanx), color = \"red\") +\n",
    "geom_vline(aes(xintercept = medianx), color = \"blue\") +\n",
    "xlim(c(-5, 5)) +\n",
    "facet_wrap(. ~ distname, nrow = 7)\n",
    "ggplotly(histplot2) %>% layout(autosize = F, width = 800, height = 800)"
   ]
  },
  {
   "cell_type": "markdown",
   "id": "ef5f54bb-7d3a-465e-8b88-bd0014b2c494",
   "metadata": {},
   "source": [
    "We see that in leptokurtic distributions with the same skewness direction, there are more extreme values to the skewed direction. This fact is confirmed by centile values of distributions:"
   ]
  },
  {
   "cell_type": "code",
   "execution_count": null,
   "id": "c78531a8-b296-4f2f-a867-ad301c1dceb7",
   "metadata": {},
   "outputs": [],
   "source": [
    "samples_dt[, as.list(quantile(vals, seq(0, 1, 0.1)) %>% round(2)), by = distname] %>% t"
   ]
  },
  {
   "cell_type": "markdown",
   "id": "e9ce31b0-49ab-4347-96d8-cdb661b4527b",
   "metadata": {},
   "source": [
    "For each skewed distribution, the extreme quantile values on the skewed side is more distant to the mean than the extreme qnatile values on the other side. For example, the 0% (minimum) and 10% quantile values of the platykurtic left-skewed distribution are -3.72 and 1.42 while 100% (maximum) and 90% quantile values are 1.97 and 1.24\n",
    "\n",
    "For the distributions skewed to the same side, leptokurtic distributions have more extreme quantile values than platykurtic ones. For example right-skewed platykurtic distribution's 100% (maximum) quantile value is 3.70 while that of the similar leptokurtic distribution is 4.89"
   ]
  },
  {
   "cell_type": "markdown",
   "id": "e4cde52e-88c5-4ed7-900c-4a67e7b7a6dd",
   "metadata": {},
   "source": [
    "# APPENDIX: Other Important Continuous Probability Distributions (Optional)"
   ]
  },
  {
   "cell_type": "markdown",
   "id": "e1037e63-715c-47e0-a61e-a9abf76c8557",
   "metadata": {},
   "source": [
    "## Weibull distribution (optional)"
   ]
  },
  {
   "cell_type": "markdown",
   "id": "b75e4a65-dea9-4976-95cc-d0895328bad1",
   "metadata": {},
   "source": [
    "In the previous life expectancy simulation, we assumed that the hazard or mortality rate is fixed throughout the whole life of each member of the population.\n",
    "\n",
    "The resulting life expectancies or failure times formed an exponential distribution with the hazard rate as the single parameter.\n",
    "\n",
    "Now we will relax the assumption of fixed rate such that the rate is allowed to be a decreasing or increasing function of the initial rate and shape parameters. The distribution of failure times with accelerated or decelerated hazard rate agrees with a Weibull distribution. So first let's give some information on Weibull distribution."
   ]
  },
  {
   "cell_type": "markdown",
   "id": "86bf156c-65bb-42e5-a01f-2811f8608814",
   "metadata": {},
   "source": [
    "The PDF of Weibull distribution is:\n",
    "\n",
    "${\\displaystyle f(x;\\lambda ,k)={\\begin{cases}{\\frac {k}{\\lambda }}\\left({\\frac {x}{\\lambda }}\\right)^{k-1}e^{-(x/\\lambda )^{k}},&x\\geq 0,\\\\0,&x<0,\\end{cases}}}$\n",
    "\n",
    "where k > 0 is the shape parameter and λ > 0 is the scale parameter of the distribution."
   ]
  },
  {
   "cell_type": "markdown",
   "id": "39ed12ea-06f0-4bec-b100-7f1296dcc5b3",
   "metadata": {},
   "source": [
    "If the quantity, x, is a \"time-to-failure\", the Weibull distribution gives a distribution for which the failure rate is proportional to a power of time. The shape parameter, k, is that power plus one, and so this parameter can be interpreted directly as follows:\n",
    "\n",
    "- A value of ${\\displaystyle k<1\\,}$ indicates that the failure rate decreases over time. This happens if there is significant \"infant mortality\", or defective items failing early and the failure rate decreasing over time as the defective items are weeded out of the population.\n",
    "\n",
    "- A value of ${\\displaystyle k=1\\,}$ indicates that the failure rate is constant over time. This might suggest random external events are causing mortality, or failure. The Weibull distribution reduces to an exponential distribution.\n",
    "\n",
    "- A value of ${\\displaystyle k>1\\,}$ indicates that the failure rate increases with time. This happens if there is an \"aging\" process, or parts that are more likely to fail as time goes on. The function is first convex, then concave with an inflection point at ${\\displaystyle (e^{1/k}-1)/e^{1/k},\\,k>1\\,}$."
   ]
  },
  {
   "cell_type": "markdown",
   "id": "bbd87123-b8ea-4480-80a8-5ee43c506c0a",
   "metadata": {},
   "source": [
    "The expected value is:\n",
    "\n",
    "${\\displaystyle \\operatorname {E} (X)=\\lambda \\Gamma \\left(1+{\\frac {1}{k}}\\right)\\,}$\n",
    "\n",
    "where $\\Gamma\\$ is the gamma function, mathematical details of which is outside the scope of this course, however, you can access it through `gamma` function in base R.\n",
    "\n",
    "Variance is:\n",
    "\n",
    "${\\displaystyle \\operatorname {var} (X)=\\lambda ^{2}\\left[\\Gamma \\left(1+{\\frac {2}{k}}\\right)-\\left(\\Gamma \\left(1+{\\frac {1}{k}}\\right)\\right)^{2}\\right]\\,}$\n",
    "\n",
    "(https://en.wikipedia.org/wiki/Weibull_distribution)"
   ]
  },
  {
   "cell_type": "markdown",
   "id": "70fc3ab8-b048-4a8d-a3ec-fa40d657455d",
   "metadata": {},
   "source": [
    "The effect of $k$ parameters on the shape of the distribution is shown below:"
   ]
  },
  {
   "cell_type": "markdown",
   "id": "26140a1c-afb7-425b-8786-264783ca4a62",
   "metadata": {},
   "source": [
    "Different $k$ parameters:"
   ]
  },
  {
   "cell_type": "code",
   "execution_count": null,
   "id": "ee568cab-691d-4bc1-81b8-13d2c1aaac85",
   "metadata": {},
   "outputs": [],
   "source": [
    "kvals <- c(0.5, 0.7, 1, 1.5, 2, 5, 10)"
   ]
  },
  {
   "cell_type": "markdown",
   "id": "83578a17-5845-45a7-bb97-1377d0d085c4",
   "metadata": {},
   "source": [
    "Scale, $\\lambda$ parameter:"
   ]
  },
  {
   "cell_type": "code",
   "execution_count": null,
   "id": "686ad854-11f1-45d1-a357-6806709ca8cc",
   "metadata": {},
   "outputs": [],
   "source": [
    "lmb <- 1"
   ]
  },
  {
   "cell_type": "markdown",
   "id": "ee419191-a82e-42c1-a3ca-373e0b444f19",
   "metadata": {},
   "source": [
    "Different values for $x$, time to failure:"
   ]
  },
  {
   "cell_type": "code",
   "execution_count": null,
   "id": "6bfe9d8f-5f85-4849-b374-0eb8846ea268",
   "metadata": {},
   "outputs": [],
   "source": [
    "xvals <- seq(0, 5, 0.01)"
   ]
  },
  {
   "cell_type": "markdown",
   "id": "2e19b78a-e2e0-4431-bf22-fc68aec99262",
   "metadata": {},
   "source": [
    "Create a cartesian product of parameters values:"
   ]
  },
  {
   "cell_type": "code",
   "execution_count": null,
   "id": "fa8ca615-db84-4401-b625-323a8cf2a096",
   "metadata": {},
   "outputs": [],
   "source": [
    "densewb_dt <- crossing(lmb, kvals, xvals)\n",
    "setDT(densewb_dt)"
   ]
  },
  {
   "cell_type": "markdown",
   "id": "cd13b92c-a204-411e-8616-8b25d807f8f5",
   "metadata": {},
   "source": [
    "Calculate the densities:"
   ]
  },
  {
   "cell_type": "code",
   "execution_count": null,
   "id": "66c56ade-680c-4f96-aed9-edc7c0dccb7c",
   "metadata": {},
   "outputs": [],
   "source": [
    "densewb_dt[, dwb := dweibull(xvals, kvals, lmb)]"
   ]
  },
  {
   "cell_type": "markdown",
   "id": "9549e297-7ee9-4ee6-9c83-870cefd6750b",
   "metadata": {},
   "source": [
    "Plot them:"
   ]
  },
  {
   "cell_type": "code",
   "execution_count": null,
   "id": "3df9e142-9ca8-4226-97b7-fcf37d26efee",
   "metadata": {},
   "outputs": [],
   "source": [
    "pwb <- densewb_dt %>%\n",
    "mutate_at(\"kvals\", factor) %>%\n",
    "mutate(expo = ((kvals == 1) * 1.5) + 0.5) %>%\n",
    "ggplot(aes(x = xvals, y = dwb, color = kvals)) +\n",
    "geom_line(aes(size = expo)) +\n",
    "scale_size_identity()"
   ]
  },
  {
   "cell_type": "code",
   "execution_count": null,
   "id": "fa391e18-8094-4022-bf38-1e9d678d0f96",
   "metadata": {},
   "outputs": [],
   "source": [
    "ggplotly(pwb)"
   ]
  },
  {
   "cell_type": "markdown",
   "id": "68a27be7-89cd-4106-84e6-c6ef29a27c88",
   "metadata": {},
   "source": [
    "The case of $k=1$, drawn in bolder line, is the special case of exponential distribution.\n",
    "\n",
    "Distibutions with $k < 1$ has a decelarating hazard rate. So the early higher mortality rates cause the distribution to concentrate in the leftmost part, while the lower rates cause tails extended to right.\n",
    "\n",
    "Distributions with $k > 1$ has an accelerating hazard rate. So the early lower mortality rates cause the leftmost part to be thinner while the accelerating mortality will cause a concentration in the middle and an exhaustion of the population causes a thinner tail that stretches to the right"
   ]
  },
  {
   "cell_type": "markdown",
   "id": "328d3bc0-823e-4762-a4f3-e58b7ea85853",
   "metadata": {},
   "source": [
    "### Accelerated hazard rate"
   ]
  },
  {
   "cell_type": "markdown",
   "id": "6bcbf8c6-3c53-4381-8dc5-288bdea9c258",
   "metadata": {},
   "source": [
    "Now, let's simulate a population again, similar to the one we did in the fixed rate with exponential distribution case:"
   ]
  },
  {
   "cell_type": "markdown",
   "id": "d03c3dd9-e609-4ea8-b702-26804264694f",
   "metadata": {},
   "source": [
    "Number of agents:"
   ]
  },
  {
   "cell_type": "code",
   "execution_count": null,
   "id": "16111baa-1190-40ff-934f-b4707a95f5a1",
   "metadata": {},
   "outputs": [],
   "source": [
    "nagentw <- 1e3"
   ]
  },
  {
   "cell_type": "markdown",
   "id": "4d23009c-d6eb-4b6e-98ee-3038fec91843",
   "metadata": {},
   "source": [
    "Initial life table:"
   ]
  },
  {
   "cell_type": "code",
   "execution_count": null,
   "id": "11982e5a-1cb7-472f-baf5-d7b753a4e3d1",
   "metadata": {},
   "outputs": [],
   "source": [
    "life_dtw <- data.table(dead = rep(0, nagentw), life = rep(0, nagentw))"
   ]
  },
  {
   "cell_type": "markdown",
   "id": "7e7e607e-eef1-41a0-9001-a49cebf5e1a4",
   "metadata": {},
   "source": [
    "And set the hazard rate - proportion of still alive population to die in the period - to 10%"
   ]
  },
  {
   "cell_type": "code",
   "execution_count": null,
   "id": "afba5dac-059f-482c-a397-3cd1666337aa",
   "metadata": {},
   "outputs": [],
   "source": [
    "ratew <- 0.1"
   ]
  },
  {
   "cell_type": "markdown",
   "id": "800e7a44-b7d1-4eb4-b9ed-1a47df32b658",
   "metadata": {},
   "source": [
    "The shape parameter is $k>1$ so we have accelerated hazard rate:"
   ]
  },
  {
   "cell_type": "code",
   "execution_count": null,
   "id": "50874be8-15c4-4ac0-bec1-749130a79de5",
   "metadata": {},
   "outputs": [],
   "source": [
    "kx <- 1.7"
   ]
  },
  {
   "cell_type": "markdown",
   "id": "44c1ae91-db25-4f52-bab6-b3d47ebaa3fb",
   "metadata": {},
   "source": [
    "Initialize the period:"
   ]
  },
  {
   "cell_type": "code",
   "execution_count": null,
   "id": "e94fcd09-12a0-4f41-8a3d-d333885cd2de",
   "metadata": {},
   "outputs": [],
   "source": [
    "periodxw <- 0"
   ]
  },
  {
   "cell_type": "markdown",
   "id": "b497dbf9-331e-42cc-a7a9-fe83b945d7ab",
   "metadata": {},
   "source": [
    "Randomly sample from live population using Bernoulli trials with a bias of 0.1 and record the age (period) of each individual when they die.\n",
    "\n",
    "Continue until no one stays alive.\n",
    "\n",
    "Note that the hazard rate for a time period $x$ should be adjusted with $\\lambda$ and $k$ parameters using the formula below, from the PDF of Weibull distribution:"
   ]
  },
  {
   "cell_type": "markdown",
   "id": "9c4b8b2b-47dc-4edb-ab77-4cfa53b54983",
   "metadata": {},
   "source": [
    "$\\displaystyle {\\frac {k}{\\lambda }\\left({\\frac {x}{\\lambda }}\\right)^{k-1}}$\n",
    "\n",
    "$\\lambda$ is the inverse of hazard rate:"
   ]
  },
  {
   "cell_type": "code",
   "execution_count": null,
   "id": "5250eb3e-6548-4d46-b5e0-4a18e81bba18",
   "metadata": {},
   "outputs": [],
   "source": [
    "set.seed(5)\n",
    "while(life_dtw[dead == 0, .N] > 0)\n",
    "{\n",
    "    periodxw <- periodxw + 1\n",
    "    ratew2 <- kx * ratew * (periodxw * ratew)^(kx-1)\n",
    "    life_dtw[dead == 0, dead := rbinom(.N, 1, ratew2)]\n",
    "    life_dtw[dead == 1 & life == 0, life := periodxw]\n",
    "}"
   ]
  },
  {
   "cell_type": "markdown",
   "id": "1c873601-43d2-484e-bd1e-fd9db1e51c33",
   "metadata": {},
   "source": [
    "Check the inidivuduals who die at the oldest age:"
   ]
  },
  {
   "cell_type": "code",
   "execution_count": null,
   "id": "384c5b55-6426-4706-a7bb-31534451095a",
   "metadata": {},
   "outputs": [],
   "source": [
    "life_dtw[, sort(life, decreasing = T)][1:10]"
   ]
  },
  {
   "cell_type": "markdown",
   "id": "e5b65ebb-c5cb-4b14-a8c9-bb364ebb2ff8",
   "metadata": {},
   "source": [
    "The last period is:"
   ]
  },
  {
   "cell_type": "code",
   "execution_count": null,
   "id": "fc04837a-f4f5-46af-8339-6c3ea8141398",
   "metadata": {},
   "outputs": [],
   "source": [
    "periodxw"
   ]
  },
  {
   "cell_type": "markdown",
   "id": "f3e35a03-2084-4e58-aa19-39b986e8c03a",
   "metadata": {},
   "source": [
    "Histogram of simulated life expectancies:"
   ]
  },
  {
   "cell_type": "code",
   "execution_count": null,
   "id": "d3dd2885-d03d-4a09-beef-502991d19ccb",
   "metadata": {},
   "outputs": [],
   "source": [
    "hist(life_dtw$life)"
   ]
  },
  {
   "cell_type": "markdown",
   "id": "3449c2fa-1aaa-4908-b2ed-f07def9a4715",
   "metadata": {},
   "source": [
    "The mean life expectancy:"
   ]
  },
  {
   "cell_type": "code",
   "execution_count": null,
   "id": "d414d76f-3c0e-4b2e-aec3-06e3e9ca876b",
   "metadata": {},
   "outputs": [],
   "source": [
    "life_dtw[, mean(life)]"
   ]
  },
  {
   "cell_type": "markdown",
   "id": "4445c2ea-1c2e-45e3-a34e-040c389b41c3",
   "metadata": {},
   "source": [
    "And variance:"
   ]
  },
  {
   "cell_type": "code",
   "execution_count": null,
   "id": "a71054af-b071-48db-9e92-1cd39dea2374",
   "metadata": {},
   "outputs": [],
   "source": [
    "life_dtw[, var(life)]"
   ]
  },
  {
   "cell_type": "markdown",
   "id": "61a9553b-4287-4363-96c5-6ef6b42fbc00",
   "metadata": {},
   "source": [
    "Mean and variance from theoretical distributions are (note that the hazard rate is inverted for the rate parameter:"
   ]
  },
  {
   "cell_type": "code",
   "execution_count": null,
   "id": "b378ee01-c64f-4d82-8fa2-be34d1cbb5c8",
   "metadata": {},
   "outputs": [],
   "source": [
    "mean(Weib(kx, 1/ratew))"
   ]
  },
  {
   "cell_type": "code",
   "execution_count": null,
   "id": "47d19d5f-c7a6-42dc-9081-61be603090ae",
   "metadata": {},
   "outputs": [],
   "source": [
    "var(Weib(kx, 1/ratew))"
   ]
  },
  {
   "cell_type": "markdown",
   "id": "e22b8d81-45da-4923-bd36-147dd742d446",
   "metadata": {},
   "source": [
    "Now simulate from Weibull distribution with the same parameters:"
   ]
  },
  {
   "cell_type": "code",
   "execution_count": null,
   "id": "3fd93fb8-54d5-44c7-a4bd-81c0f387cea5",
   "metadata": {},
   "outputs": [],
   "source": [
    "set.seed(5)\n",
    "lewei <- rweibull(nagentw, kx, 1/ratew)\n",
    "hist(lewei)"
   ]
  },
  {
   "cell_type": "markdown",
   "id": "5735cfd9-ae8b-49d3-8111-8d917ee42cd8",
   "metadata": {},
   "source": [
    "The longest life values: "
   ]
  },
  {
   "cell_type": "code",
   "execution_count": null,
   "id": "19150a86-e24e-487a-8b7b-a1355d9b089b",
   "metadata": {},
   "outputs": [],
   "source": [
    "round(sort(lewei, decreasing = T)[1:10])"
   ]
  },
  {
   "cell_type": "markdown",
   "id": "8153e66d-7123-4891-931f-b8690f3c1d29",
   "metadata": {},
   "source": [
    "Extract the density of accelerated hazard rate simulation:"
   ]
  },
  {
   "cell_type": "code",
   "execution_count": null,
   "id": "023bc6f0-1b64-40f7-9b0f-9150496ac437",
   "metadata": {},
   "outputs": [],
   "source": [
    "life_densw <- density(life_dtw[, life], bw = 1)[c(\"x\", \"y\")]\n",
    "setDT(life_densw)\n",
    "maxxw <- life_densw[, max(x)]"
   ]
  },
  {
   "cell_type": "markdown",
   "id": "e3e2dcc0-5d8b-4437-a6f5-ca4fe02db021",
   "metadata": {},
   "source": [
    "And compare with theoretical density of Weibull distribution and exponential distribution:"
   ]
  },
  {
   "cell_type": "code",
   "execution_count": null,
   "id": "34441b34-bf45-43e6-a570-1caac16b1d7c",
   "metadata": {},
   "outputs": [],
   "source": [
    "plot(life_densw[x > 0], type = \"l\", col = \"blue\", ylim = c(0, max(dexp(0:maxxw, ratew))))\n",
    "lines(0:maxxw, dweibull(0:maxxw, kx, 1/ratew), col = \"red\")\n",
    "lines(0:maxxw, dexp(0:maxxw, ratew), col = \"black\")"
   ]
  },
  {
   "cell_type": "markdown",
   "id": "81b2e663-d0d8-46c8-80ed-5b890b948077",
   "metadata": {},
   "source": [
    "We see that, density of simulated values and theoretical Weibull densities overlap to a large extent. The density in shorter life spans is lower for Weibull, since hazard rate in early times is relatively lower, while the density concentrates in the middle where most of the population dies due to accelerated hazard rate."
   ]
  },
  {
   "cell_type": "markdown",
   "id": "eaf0da64-ce92-457d-8aa8-eef2d805a387",
   "metadata": {},
   "source": [
    "### Decelerated hazard rate"
   ]
  },
  {
   "cell_type": "markdown",
   "id": "4970b3ee-28d4-49a4-8f30-4d9810ce3518",
   "metadata": {},
   "source": [
    "Now let's simulate a case with decelerated hazard rate:"
   ]
  },
  {
   "cell_type": "code",
   "execution_count": null,
   "id": "4adaae01-2c01-49e0-a548-7d3beee41977",
   "metadata": {},
   "outputs": [],
   "source": [
    "nagentw2 <- 1e3"
   ]
  },
  {
   "cell_type": "code",
   "execution_count": null,
   "id": "34d518c4-b39e-4d76-a651-c3d6ae6e8cc5",
   "metadata": {},
   "outputs": [],
   "source": [
    "life_dtw2 <- data.table(dead = rep(0, nagentw2), life = rep(0, nagentw2))"
   ]
  },
  {
   "cell_type": "markdown",
   "id": "6caa21fd-ab91-452e-b6d9-62569a8a90c3",
   "metadata": {},
   "source": [
    "Set the hazard rate - proportion of still alive population to die in the period - to 10%"
   ]
  },
  {
   "cell_type": "code",
   "execution_count": null,
   "id": "20bab799-0258-47af-814c-bfc4aab8b5fe",
   "metadata": {},
   "outputs": [],
   "source": [
    "ratew2 <- 0.1"
   ]
  },
  {
   "cell_type": "markdown",
   "id": "50ec96db-1d8f-4024-a839-34ba4d2f91f2",
   "metadata": {},
   "source": [
    "And the shape parameters is $k<1$"
   ]
  },
  {
   "cell_type": "code",
   "execution_count": null,
   "id": "aefdcd8d-d352-425d-be9d-18c03f6fc936",
   "metadata": {},
   "outputs": [],
   "source": [
    "kx2 <- 0.6"
   ]
  },
  {
   "cell_type": "markdown",
   "id": "e47d4366-91ba-40cd-b15e-dc0dc5840785",
   "metadata": {},
   "source": [
    "Initialize the period:"
   ]
  },
  {
   "cell_type": "code",
   "execution_count": null,
   "id": "e8c32edb-f3e4-4255-aa03-d42b0416bc8a",
   "metadata": {},
   "outputs": [],
   "source": [
    "periodxw2 <- 0"
   ]
  },
  {
   "cell_type": "markdown",
   "id": "da886c8c-7acf-42ae-9b74-f148252728b5",
   "metadata": {},
   "source": [
    "Randomly sample from live population using Bernoulli trials with a bias of 0.1 and record the age (period) of each individual when they die.\n",
    "\n",
    "Continue until no one stays alive:"
   ]
  },
  {
   "cell_type": "code",
   "execution_count": null,
   "id": "75f89142-b610-4be6-8aee-17e740698e93",
   "metadata": {},
   "outputs": [],
   "source": [
    "set.seed(5)\n",
    "while(life_dtw2[dead == 0, .N] > 0)\n",
    "{\n",
    "    periodxw2 <- periodxw2 + 1\n",
    "    ratew22 <- kx2 * ratew2 * (periodxw2 * ratew2)^(kx2 - 1)\n",
    "    life_dtw2[dead == 0, dead := rbinom(.N, 1, ratew22)]\n",
    "    life_dtw2[dead == 1 & life == 0, life := periodxw2]\n",
    "}"
   ]
  },
  {
   "cell_type": "markdown",
   "id": "ceef7b0c-63a9-4478-8528-c3375abd0305",
   "metadata": {},
   "source": [
    "Check the inidivuduals who die at the oldest age:"
   ]
  },
  {
   "cell_type": "code",
   "execution_count": null,
   "id": "05daefd0-8a8e-4e5c-8ea6-a7348375f921",
   "metadata": {},
   "outputs": [],
   "source": [
    "life_dtw2[, sort(life, decreasing = T)][1:10]"
   ]
  },
  {
   "cell_type": "code",
   "execution_count": null,
   "id": "57490df3-2dd4-49fd-9d8c-b3876379f0ad",
   "metadata": {},
   "outputs": [],
   "source": [
    "periodxw2"
   ]
  },
  {
   "cell_type": "markdown",
   "id": "c9e0bea6-0710-4e2a-981b-40a9dd745b3d",
   "metadata": {},
   "source": [
    "Histogram of simulated life expectancies:"
   ]
  },
  {
   "cell_type": "code",
   "execution_count": null,
   "id": "8695dd59-e980-4622-a41b-43759c187093",
   "metadata": {},
   "outputs": [],
   "source": [
    "hist(life_dtw2$life)"
   ]
  },
  {
   "cell_type": "markdown",
   "id": "03f13f6e-3579-45bc-a0c3-2e889a2785bc",
   "metadata": {},
   "source": [
    "The mean life expectancy:"
   ]
  },
  {
   "cell_type": "code",
   "execution_count": null,
   "id": "58b08a2a-d2e9-4e94-ae5f-f201f40b8d85",
   "metadata": {},
   "outputs": [],
   "source": [
    "life_dtw2[, mean(life)]"
   ]
  },
  {
   "cell_type": "markdown",
   "id": "31000822-ef62-41e2-9f37-6fca3e416779",
   "metadata": {},
   "source": [
    "And variance:"
   ]
  },
  {
   "cell_type": "code",
   "execution_count": null,
   "id": "9afc5e4f-2eac-47cb-aaf5-f11194e381d1",
   "metadata": {},
   "outputs": [],
   "source": [
    "life_dtw2[, var(life)]"
   ]
  },
  {
   "cell_type": "markdown",
   "id": "8849c406-bbfc-4a99-a541-85fb3ce1272b",
   "metadata": {},
   "source": [
    "Mean and variance from theoretical distributions are (note that the hazard rate is inverted for the rate parameter:"
   ]
  },
  {
   "cell_type": "code",
   "execution_count": null,
   "id": "2f40c265-03b8-4eb1-a097-636375912a4e",
   "metadata": {},
   "outputs": [],
   "source": [
    "mean(Weib(kx2, 1/ratew2))"
   ]
  },
  {
   "cell_type": "code",
   "execution_count": null,
   "id": "4014b12e-4d9b-493d-b378-4bddbc3f2c94",
   "metadata": {},
   "outputs": [],
   "source": [
    "var(Weib(kx2, 1/ratew2))"
   ]
  },
  {
   "cell_type": "markdown",
   "id": "1010255b-864e-43bd-8290-1085c18a3d1a",
   "metadata": {},
   "source": [
    "Simulate from exponential distribution with the same hazard rate ($\\lambda$ is inverted hazard rate):"
   ]
  },
  {
   "cell_type": "code",
   "execution_count": null,
   "id": "6ce793fe-6252-49d7-95a1-79292e9b1aa1",
   "metadata": {},
   "outputs": [],
   "source": [
    "set.seed(5)\n",
    "lewei2 <- rweibull(nagentw, kx2, 1/ratew2)\n",
    "hist(lewei2)"
   ]
  },
  {
   "cell_type": "markdown",
   "id": "5f4b3f39-3c63-48e5-a83d-bfde321a376a",
   "metadata": {},
   "source": [
    "Largest life expectancy values:"
   ]
  },
  {
   "cell_type": "code",
   "execution_count": null,
   "id": "58ce0c9a-b43e-40fb-bbf6-6401896db4f3",
   "metadata": {},
   "outputs": [],
   "source": [
    "round(sort(lewei2, decreasing = T)[1:10])"
   ]
  },
  {
   "cell_type": "markdown",
   "id": "c7718a38-0939-4fa2-a5dd-db778be4e529",
   "metadata": {},
   "source": [
    "Density of values from iterative simulation:"
   ]
  },
  {
   "cell_type": "code",
   "execution_count": null,
   "id": "27e814fe-3dd1-42e4-91e7-9bc4c497cd39",
   "metadata": {},
   "outputs": [],
   "source": [
    "life_densw2 <- density(life_dtw2[, life], bw = 1)[c(\"x\", \"y\")]\n",
    "setDT(life_densw2)\n",
    "maxxw2 <- min(life_densw2[, max(x)], 50)"
   ]
  },
  {
   "cell_type": "markdown",
   "id": "4fdd89f0-1d20-4542-9189-2b0e5ed17710",
   "metadata": {},
   "source": [
    "And compare with theoretical density with a rate of reciprocal of initial wealth:"
   ]
  },
  {
   "cell_type": "code",
   "execution_count": null,
   "id": "6a459cd3-0cc8-4750-90da-587ef3b5bcad",
   "metadata": {},
   "outputs": [],
   "source": [
    "plot(life_densw2[x > 1 & x <= maxxw2], type = \"l\", col = \"blue\", xlim = c(0, 50), ylim = c(0, max(dweibull(1:maxxw2, kx2, 1/ratew2))))\n",
    "lines(1:maxxw2, dweibull(1:maxxw2, kx2, 1/ratew2), col = \"red\")\n",
    "lines(1:maxxw2, dexp(1:maxxw2, ratew2), col = \"black\")"
   ]
  },
  {
   "cell_type": "markdown",
   "id": "d2c39b8b-cdb6-47c0-b55a-9b1a151b22ca",
   "metadata": {},
   "source": [
    "Due to decelarated hazard rate (starting out with higher rates), early and later deaths have more density while the density in the middle is lower as compared to the exponential distribution with the same $\\lambda$ parameter."
   ]
  },
  {
   "cell_type": "markdown",
   "id": "133e6ef9-afd4-4ae6-8643-bf89237d7cd0",
   "metadata": {},
   "source": [
    "## Gamma distribution (optional)"
   ]
  },
  {
   "cell_type": "markdown",
   "id": "86b697c5-97cf-45ee-9bd6-d4721e0932a2",
   "metadata": {},
   "source": [
    "As you may recall from discrete distributions, negative binomial distribution is used for modelling number of failures until a certain number of successes are encountered.\n",
    "\n",
    "Gamma distribution, while it has many more applications due to its flexible parametrization, can be considered as the continuous analogue to the negative binomial distribution, in its simplest case.\n",
    "\n"
   ]
  },
  {
   "cell_type": "markdown",
   "id": "a5863d92-845e-47ca-99ac-a62e738720c5",
   "metadata": {},
   "source": [
    "Consider a sequence of events, with the waiting time for each event being an exponential distribution with rate $\\lambda$. Then the waiting time for the $n$th event to occur is the gamma distribution with integer shape ${\\displaystyle \\alpha =n}$.\n",
    "\n",
    "This construction of the gamma distribution allows it to model a wide variety of phenomena where several sub-events, each taking time with exponential distribution, must happen in sequence for a major event to occur.\n",
    "\n",
    "Examples include the waiting time of cell-division events, number of compensatory mutations for a given mutation, waiting time until a repair is necessary for a hydraulic system and so on."
   ]
  },
  {
   "cell_type": "markdown",
   "id": "5d0cc07d-676e-4101-9777-dc08c8919f99",
   "metadata": {},
   "source": [
    "If $\\alpha$ is an integer, the gamma distribution (the special case called an Erlang distribution) is the probability distribution of the waiting time until the \\$alpha$-th \"arrival\" in a one-dimensional Poisson process with intensity $1/\\theta$. If,\n",
    "\n",
    "${\\displaystyle X\\sim \\Gamma (\\alpha \\in \\mathbf {Z} ,\\theta ),\\qquad Y\\sim \\operatorname {Pois} \\left({\\frac {x}{\\theta }}\\right),}$\n",
    "\n",
    "then\n",
    "\n",
    "${\\displaystyle P(X>x)=P(Y<\\alpha ).}$"
   ]
  },
  {
   "cell_type": "markdown",
   "id": "bed1a07b-0227-4b8f-85e6-c024164044b4",
   "metadata": {},
   "source": [
    "Let ${\\displaystyle X_{1},X_{2},\\ldots ,X_{n}}$ be ${\\displaystyle n}$ independent and identically distributed random variables following an exponential distribution with rate parameter $\\lambda$, then\n",
    "\n",
    "${\\displaystyle \\sum _{i}X_{i}\\sim \\operatorname {Gamma} (n,\\lambda )}$\n",
    "\n",
    "where $n$ is the shape parameter and $\\lambda$ is the rate, and\n",
    "\n",
    "${\\textstyle {\\bar {X}}={\\frac {1}{n}}\\sum _{i}X_{i}\\sim \\operatorname {Gamma} (n,n\\lambda )}$"
   ]
  },
  {
   "cell_type": "markdown",
   "id": "64056e34-ad14-4393-88eb-325c260f2db7",
   "metadata": {},
   "source": [
    "If X ~ Gamma(1, λ) (in the shape–rate parametrization), then X has an exponential distribution with rate parameter λ. In the shape-scale parametrization, X ~ Gamma(1, θ) has an exponential distribution with rate parameter 1/θ."
   ]
  },
  {
   "cell_type": "markdown",
   "id": "ce623e96-d615-4d70-90e8-be03721f9803",
   "metadata": {},
   "source": [
    "The above mentioned specifications are just some special cases of Gamma distribution, which has a wider are of applications."
   ]
  },
  {
   "cell_type": "markdown",
   "id": "1f3146e6-4bee-4320-a42a-118823f82a75",
   "metadata": {},
   "source": [
    "The mean of gamma distribution is given by the product of its shape and scale parameters:\n",
    "\n",
    "${\\displaystyle \\mu =\\alpha \\theta =\\alpha /\\lambda }$\n",
    "\n",
    "The variance is:\n",
    "\n",
    "${\\displaystyle \\sigma ^{2}=\\alpha \\theta ^{2}=\\alpha /\\lambda ^{2}}$\n",
    "\n",
    "(https://en.wikipedia.org/wiki/Gamma_distribution)"
   ]
  },
  {
   "cell_type": "markdown",
   "id": "4580f898-a469-4afc-a9a3-26759f98800b",
   "metadata": {},
   "source": [
    "### Gamma distribution as time to n-th event in Bernoulli trials"
   ]
  },
  {
   "cell_type": "markdown",
   "id": "7b021d58-05c4-4534-8b41-795820616987",
   "metadata": {},
   "source": [
    "We have seen that, the geometric distribution of number of trials to success in discrete Bernoulli trials converge to an exponential distribution."
   ]
  },
  {
   "cell_type": "markdown",
   "id": "d74b405e-5637-40a5-a9d4-b5532973f42f",
   "metadata": {},
   "source": [
    "Now, using the same discrete Bernoulli trials simulation, we will see that the negative binomial distribution of number of trials to nth success converge to a gamma distribution."
   ]
  },
  {
   "cell_type": "markdown",
   "id": "698d3471-3782-4527-ae10-6b147b844be8",
   "metadata": {},
   "source": [
    "we will simulate 1e7 Bernoulli trials with a success probability of 0.5%. To show convergence to Poisson, we will treat each 1e3 trials as a unit interval so the expected rate of success is 5.\n",
    "\n",
    "So these 1e7 trials are supposed converge to 1e4 Poisson samples."
   ]
  },
  {
   "cell_type": "markdown",
   "id": "5fe58e72-872e-433d-8651-6345f76a8f41",
   "metadata": {},
   "source": [
    "1e7 Bernoulli trials with a success probability of 0.5%:"
   ]
  },
  {
   "cell_type": "code",
   "execution_count": null,
   "id": "fca1da12-7c3d-4872-a065-2c3f331b7dfb",
   "metadata": {},
   "outputs": [],
   "source": [
    "ratenb <- 5"
   ]
  },
  {
   "cell_type": "code",
   "execution_count": null,
   "id": "3505abf6-cce3-4925-9ffe-e223ff8e19e6",
   "metadata": {},
   "outputs": [],
   "source": [
    "set.seed(2)\n",
    "bernpois <- rbinom(1e7, 1, ratenb/1000)"
   ]
  },
  {
   "cell_type": "markdown",
   "id": "a1ae348c-b19b-44b2-8065-3f13dbb86edd",
   "metadata": {},
   "source": [
    "Check total number of successes:"
   ]
  },
  {
   "cell_type": "code",
   "execution_count": null,
   "id": "0696b54a-d7b8-44ed-a1f9-61b004de76fa",
   "metadata": {},
   "outputs": [],
   "source": [
    "sum(bernpois)"
   ]
  },
  {
   "cell_type": "markdown",
   "id": "0c1785e7-591f-497e-905e-2dcb3dabd0de",
   "metadata": {},
   "source": [
    "Now, in order to calculate the failure lengths or arrival times, we will compress the data in the run lengths:"
   ]
  },
  {
   "cell_type": "code",
   "execution_count": null,
   "id": "6692b153-a9da-42cf-811b-0d9350bbf9ef",
   "metadata": {},
   "outputs": [],
   "source": [
    "length(bernpois)"
   ]
  },
  {
   "cell_type": "code",
   "execution_count": null,
   "id": "6315fd77-9c88-41a7-a27c-be403618793c",
   "metadata": {},
   "outputs": [],
   "source": [
    "bernpoisrl <- rle(bernpois)\n",
    "setDT(bernpoisrl)"
   ]
  },
  {
   "cell_type": "markdown",
   "id": "37747809-7c28-4320-ab33-776716f61b3e",
   "metadata": {},
   "source": [
    "The run length encoding shows the length of contiguous runs of each value:"
   ]
  },
  {
   "cell_type": "code",
   "execution_count": null,
   "id": "06d55110-0385-428d-b200-942ba1c43ba5",
   "metadata": {},
   "outputs": [],
   "source": [
    "bernpoisrl %>% head"
   ]
  },
  {
   "cell_type": "markdown",
   "id": "5fc1417e-2eb0-477e-a678-5bfc1485dc50",
   "metadata": {},
   "source": [
    "We have ~1e5 run lengths from out of 1e6 Bernoulli trials:"
   ]
  },
  {
   "cell_type": "code",
   "execution_count": null,
   "id": "d13fd074-9afa-4234-8c7e-d3e20926e8ee",
   "metadata": {},
   "outputs": [],
   "source": [
    "bernpoisrl[, .N]"
   ]
  },
  {
   "cell_type": "markdown",
   "id": "8fe9bdfb-ba8a-4a0e-882b-0bff7e6ed5db",
   "metadata": {},
   "source": [
    "We add an index for rows:"
   ]
  },
  {
   "cell_type": "code",
   "execution_count": null,
   "id": "8789a82d-5af0-401d-9c3b-4c4f35cbbd98",
   "metadata": {},
   "outputs": [],
   "source": [
    "bernpoisrl[, ind := .I]"
   ]
  },
  {
   "cell_type": "markdown",
   "id": "4e361f73-d9ac-4d37-abab-ae2e133994f4",
   "metadata": {},
   "source": [
    "There are 274 runs with length larger than 1 for values 1, that means, there are 0 length waiting times in between those consecutive 1 values:"
   ]
  },
  {
   "cell_type": "code",
   "execution_count": null,
   "id": "af3110d9-cbf8-4e52-878a-548ed3eaa225",
   "metadata": {},
   "outputs": [],
   "source": [
    "bernpoisrl[values == 1 & lengths > 1, .N]"
   ]
  },
  {
   "cell_type": "markdown",
   "id": "53f2ebe8-2da6-447b-b106-4fa0b7eec4f3",
   "metadata": {},
   "source": [
    "We are going to manually add those 0 length waiting times between consecutive 1 values by replicating the rows. So don't bother with what the following code does in detail:"
   ]
  },
  {
   "cell_type": "code",
   "execution_count": null,
   "id": "9343e349-e9b6-4b04-958c-0ae2215de3a4",
   "metadata": {},
   "outputs": [],
   "source": [
    "bernpoisrl[, replx := values == 1 & lengths > 1]\n",
    "bernpoisrl[, times := ifelse(replx, lengths, 1)]\n",
    "bernpoisrl[, length2 := ifelse(replx, 1, lengths)]"
   ]
  },
  {
   "cell_type": "code",
   "execution_count": null,
   "id": "5490976c-3d46-4623-a810-009c6e8d063c",
   "metadata": {},
   "outputs": [],
   "source": [
    "bernpoisrl2 <- bernpoisrl[, .(lengths = rep(as.integer(length2), times),\n",
    "                              values = rep(values, times)), by = ind]\n",
    "setorder(bernpoisrl2, -ind)\n",
    "bernpoisrl2[, successn := cumsum(values)]\n",
    "setorder(bernpoisrl2, ind)\n",
    "bernpoisrl2[, successn := max(successn) - successn + 1]\n",
    "bernpoisrl2[.N, successn := ifelse(values == 0, NA, successn)]"
   ]
  },
  {
   "cell_type": "code",
   "execution_count": null,
   "id": "e8e758ee-485d-4751-ad14-9bc6b71688ac",
   "metadata": {},
   "outputs": [],
   "source": [
    "bernpoisrl3 <- bernpoisrl2[!is.na(successn), .(lengths = sum(lengths)), by = successn]"
   ]
  },
  {
   "cell_type": "markdown",
   "id": "5dbf0c4b-7f82-496f-9a08-adf5b31222c2",
   "metadata": {},
   "source": [
    "Let's delete some interim objects that we don't need anymore and that holds a large space in memory:"
   ]
  },
  {
   "cell_type": "code",
   "execution_count": null,
   "id": "9b3417a8-e287-4330-a8c5-8f8ff713162a",
   "metadata": {},
   "outputs": [],
   "source": [
    "#sort(sapply(ls(), function(x) object.size(get(x))), decreasing = T)\n",
    "rm(list = c(\"bernpois\", \"bernpoisrl\", \"bernpoisrl2\"))\n",
    "gc()"
   ]
  },
  {
   "cell_type": "markdown",
   "id": "1f6e22ff-77bb-4356-b80a-a249fe8f3658",
   "metadata": {},
   "source": [
    "At the end we have a simpler table that shows each success and waiting time to that success (including the success itself):"
   ]
  },
  {
   "cell_type": "code",
   "execution_count": null,
   "id": "dfb3d859-1593-4948-8bde-4aa7c837a9a2",
   "metadata": {},
   "outputs": [],
   "source": [
    "bernpoisrl3"
   ]
  },
  {
   "cell_type": "markdown",
   "id": "a5718702-fe9a-4a51-847c-299fb164b020",
   "metadata": {},
   "source": [
    "These rows are for length 1 waiting times, that means for successes that occus just after a previous success without a failure:"
   ]
  },
  {
   "cell_type": "code",
   "execution_count": null,
   "id": "8870dc9f-c63b-434d-8b8c-273f75cda82d",
   "metadata": {},
   "outputs": [],
   "source": [
    "bernpoisrl3[lengths == 1]"
   ]
  },
  {
   "cell_type": "markdown",
   "id": "9f0da011-b807-4004-86b0-7dc43cf64830",
   "metadata": {},
   "source": [
    "Now let's calculate the waiting times to each 3rd success:"
   ]
  },
  {
   "cell_type": "code",
   "execution_count": null,
   "id": "f10f3168-a03a-4f73-a5d7-38f48634c01d",
   "metadata": {},
   "outputs": [],
   "source": [
    "nth <- 3"
   ]
  },
  {
   "cell_type": "markdown",
   "id": "d113bf7f-fc31-4dfe-9032-4e61b1f3698b",
   "metadata": {},
   "source": [
    "In order to trim incomplete waiting times at the end, we get the last row that a third success occurs:"
   ]
  },
  {
   "cell_type": "code",
   "execution_count": null,
   "id": "9434af6e-b500-4c50-adb7-1c73a85808e8",
   "metadata": {},
   "outputs": [],
   "source": [
    "lastrow <- bernpoisrl3[, (.N %/% nth) * nth]\n",
    "lastrow"
   ]
  },
  {
   "cell_type": "markdown",
   "id": "ec917692-32d9-41e2-bcdc-81e24cea9f32",
   "metadata": {},
   "source": [
    "We calculate the waiting times to each 3rd success, again don't mind the code complexity, we just divide the table in 3 row chunks and sum the consecutive lengths:"
   ]
  },
  {
   "cell_type": "code",
   "execution_count": null,
   "id": "cb2d1ef7-1519-4d82-93e0-3d94c395effc",
   "metadata": {},
   "outputs": [],
   "source": [
    "nthlength <- bernpoisrl3[1:lastrow, .(lengths = sum(lengths)), by = (successn - 1) %/% nth + 1] %>% pull(lengths)"
   ]
  },
  {
   "cell_type": "code",
   "execution_count": null,
   "id": "5399cc5e-7d73-4d20-8980-6004b69bf095",
   "metadata": {},
   "outputs": [],
   "source": [
    "summary(nthlength)"
   ]
  },
  {
   "cell_type": "markdown",
   "id": "29296927-221c-47f6-9991-4bab3e45064c",
   "metadata": {},
   "source": [
    "The histogram of waiting times:"
   ]
  },
  {
   "cell_type": "code",
   "execution_count": null,
   "id": "0032f5d0-548d-46fd-add7-caf52cb40389",
   "metadata": {},
   "outputs": [],
   "source": [
    "hist(nthlength)"
   ]
  },
  {
   "cell_type": "markdown",
   "id": "1d9f47a1-2262-4d2f-967b-ff539a0ede2d",
   "metadata": {},
   "source": [
    "Let's treat the distribution as a discrete one and create a similar sample from negative binomial distribution. The rate per discrete interval is 0.5%:"
   ]
  },
  {
   "cell_type": "code",
   "execution_count": null,
   "id": "8d6c3345-25e9-4582-9574-120434e4c390",
   "metadata": {},
   "outputs": [],
   "source": [
    "ratenb/1000"
   ]
  },
  {
   "cell_type": "code",
   "execution_count": null,
   "id": "b697d25d-c866-4df7-99ea-4a0e48524a42",
   "metadata": {},
   "outputs": [],
   "source": [
    "set.seed(5)\n",
    "sampnb <- rnbinom(length(nthlength), nth, ratenb/1000)"
   ]
  },
  {
   "cell_type": "code",
   "execution_count": null,
   "id": "a8901a0d-f1fd-45eb-b174-1feb9bf253c1",
   "metadata": {},
   "outputs": [],
   "source": [
    "hist(sampnb)"
   ]
  },
  {
   "cell_type": "markdown",
   "id": "2a70b9c3-3f96-42b4-955b-10e5934d576c",
   "metadata": {},
   "source": [
    "And compare their densities:"
   ]
  },
  {
   "cell_type": "code",
   "execution_count": null,
   "id": "379f0f8b-a1e1-450d-b03c-f80ec2c6998e",
   "metadata": {},
   "outputs": [],
   "source": [
    "simnbd <- density(nthlength)[c(\"x\", \"y\")]"
   ]
  },
  {
   "cell_type": "code",
   "execution_count": null,
   "id": "fcf6e220-d892-4290-a9a4-1a25f705f133",
   "metadata": {},
   "outputs": [],
   "source": [
    "maxnb <- max(nthlength)"
   ]
  },
  {
   "cell_type": "code",
   "execution_count": null,
   "id": "8aa535d4-951d-49fd-a28e-3e9f94b73d77",
   "metadata": {},
   "outputs": [],
   "source": [
    "setDT(simnbd)"
   ]
  },
  {
   "cell_type": "code",
   "execution_count": null,
   "id": "65f26444-41db-46e1-aa95-0891822bb2a6",
   "metadata": {},
   "outputs": [],
   "source": [
    "plot(simnbd[x > 0], type = \"l\", col = \"blue\")\n",
    "lines(1:maxnb, dnbinom(1:maxnb, nth, ratenb/1000), col = \"red\")"
   ]
  },
  {
   "cell_type": "markdown",
   "id": "2e332ffc-328f-40fa-bd2c-84d698c2ed41",
   "metadata": {},
   "source": [
    "They perfectly overlap!"
   ]
  },
  {
   "cell_type": "markdown",
   "id": "5284c83f-7a41-4f56-9cc2-16c94b531a91",
   "metadata": {},
   "source": [
    "Now let's treat are simulated values as continous such that we compress each discrete 1000 waiting as an interval of 1 time unit of continuous waiting times:"
   ]
  },
  {
   "cell_type": "code",
   "execution_count": null,
   "id": "9d1d3a92-6c1c-4186-8b79-9090bb25f076",
   "metadata": {},
   "outputs": [],
   "source": [
    "nthlengthc <- nthlength / 1000"
   ]
  },
  {
   "cell_type": "markdown",
   "id": "25acfaa1-8f61-485c-b731-6504e8413f2f",
   "metadata": {},
   "source": [
    "See the distribution:"
   ]
  },
  {
   "cell_type": "code",
   "execution_count": null,
   "id": "07ddd85e-1289-40b8-b725-01d1a226cc6b",
   "metadata": {},
   "outputs": [],
   "source": [
    "summary(nthlengthc)"
   ]
  },
  {
   "cell_type": "markdown",
   "id": "0ca1b81c-5578-43d8-a7d4-14216628abf5",
   "metadata": {},
   "source": [
    "And histogram:"
   ]
  },
  {
   "cell_type": "code",
   "execution_count": null,
   "id": "5b34532c-60d6-4693-a127-4b24c96d3a47",
   "metadata": {},
   "outputs": [],
   "source": [
    "hist(nthlengthc)"
   ]
  },
  {
   "cell_type": "markdown",
   "id": "13bea302-0370-489f-8aea-1afe2087840e",
   "metadata": {},
   "source": [
    "Now we sample from gamma distribution. The rate per continous time interval is 5:"
   ]
  },
  {
   "cell_type": "code",
   "execution_count": null,
   "id": "5949b073-32ab-473b-a53c-6af80be9f3af",
   "metadata": {},
   "outputs": [],
   "source": [
    "ratenb"
   ]
  },
  {
   "cell_type": "code",
   "execution_count": null,
   "id": "45f1177d-7d4d-4927-85ea-c97df831f19e",
   "metadata": {},
   "outputs": [],
   "source": [
    "set.seed(5)\n",
    "sampgm <- rgamma(length(nthlengthc), nth, ratenb)"
   ]
  },
  {
   "cell_type": "code",
   "execution_count": null,
   "id": "e10d4efa-440b-420f-9523-f377db15a974",
   "metadata": {},
   "outputs": [],
   "source": [
    "hist(sampgm)"
   ]
  },
  {
   "cell_type": "markdown",
   "id": "e72c0dac-305b-4956-8611-b2b5ef3acd59",
   "metadata": {},
   "source": [
    "And compare the densities:"
   ]
  },
  {
   "cell_type": "code",
   "execution_count": null,
   "id": "d275cf98-3843-493b-923e-86acdbb11d75",
   "metadata": {},
   "outputs": [],
   "source": [
    "simgmd <- density(nthlengthc)[c(\"x\", \"y\")]"
   ]
  },
  {
   "cell_type": "code",
   "execution_count": null,
   "id": "fda62ac2-aeab-4704-90e4-3d966a3da200",
   "metadata": {},
   "outputs": [],
   "source": [
    "maxgm <- max(nthlengthc)"
   ]
  },
  {
   "cell_type": "code",
   "execution_count": null,
   "id": "0fb125af-053b-4574-b71f-74837e73d311",
   "metadata": {},
   "outputs": [],
   "source": [
    "setDT(simgmd)"
   ]
  },
  {
   "cell_type": "code",
   "execution_count": null,
   "id": "9c615a79-8d09-459f-82a5-160137530ee4",
   "metadata": {},
   "outputs": [],
   "source": [
    "gmvals <- seq(0, maxgm, 0.001)"
   ]
  },
  {
   "cell_type": "code",
   "execution_count": null,
   "id": "9915c86e-8d55-45f0-a362-d61618a5c8ad",
   "metadata": {},
   "outputs": [],
   "source": [
    "plot(simgmd[x > 0], type = \"l\", col = \"blue\")\n",
    "lines(gmvals, dgamma(gmvals, nth, ratenb), col = \"red\")"
   ]
  },
  {
   "cell_type": "markdown",
   "id": "d62ff725-5c17-4be2-98f8-4236599a8aed",
   "metadata": {},
   "source": [
    "They perfectly overlap!\n",
    "\n",
    "So we show that gamma distribution is the continuous analog of negative binomial distribution for waiting times to nth successes."
   ]
  },
  {
   "cell_type": "markdown",
   "id": "362710d2-3a5a-4f66-843a-836ded011c65",
   "metadata": {},
   "source": [
    "### Gamma distribution as sum of exponentially distributed variables"
   ]
  },
  {
   "cell_type": "markdown",
   "id": "4a28965e-1b83-4ecf-8c44-87e093510aec",
   "metadata": {},
   "source": [
    "Now we will conduct a second simulation to show that gamma distribution is sum of exponentially distributed variables."
   ]
  },
  {
   "cell_type": "markdown",
   "id": "ea3d9f16-8a30-4d63-b65b-c20d5bc30521",
   "metadata": {},
   "source": [
    "The size of the sample:"
   ]
  },
  {
   "cell_type": "code",
   "execution_count": null,
   "id": "20604622-663a-4647-887d-37064d8d3f12",
   "metadata": {},
   "outputs": [],
   "source": [
    "sizeexp <- 1e4"
   ]
  },
  {
   "cell_type": "markdown",
   "id": "fa6c95ea-cc63-4d3c-8d8a-b7c604bdd02a",
   "metadata": {},
   "source": [
    "The rate per unit time:"
   ]
  },
  {
   "cell_type": "code",
   "execution_count": null,
   "id": "3ee01eea-6feb-426f-a4ef-bad93fee877e",
   "metadata": {},
   "outputs": [],
   "source": [
    "rateexp <- 5"
   ]
  },
  {
   "cell_type": "markdown",
   "id": "7fe87559-2dce-4a8e-a33f-c92081e03709",
   "metadata": {},
   "source": [
    "We will create 3 samples:"
   ]
  },
  {
   "cell_type": "code",
   "execution_count": null,
   "id": "310dd446-7bd7-4a0d-83e7-711f77477a77",
   "metadata": {},
   "outputs": [],
   "source": [
    "nexp <- 3"
   ]
  },
  {
   "cell_type": "markdown",
   "id": "108abc08-975a-43c1-a551-bfe10a99f178",
   "metadata": {},
   "source": [
    "Create 3 samples from i.i.d exponential distribution and sum each row:"
   ]
  },
  {
   "cell_type": "code",
   "execution_count": null,
   "id": "3ef2cd29-3077-48b2-a82c-32207b6a146e",
   "metadata": {},
   "outputs": [],
   "source": [
    "set.seed(6)\n",
    "sampexpgm <- rowSums(replicate(3, rexp(sizeexp, rateexp)))"
   ]
  },
  {
   "cell_type": "markdown",
   "id": "ad8bbdd0-73de-45be-a53e-423fa7976333",
   "metadata": {},
   "source": [
    "See the histogram of row sums:"
   ]
  },
  {
   "cell_type": "code",
   "execution_count": null,
   "id": "91cd60a6-2deb-4430-86f2-b32e11fe62cb",
   "metadata": {},
   "outputs": [],
   "source": [
    "hist(sampexpgm)"
   ]
  },
  {
   "cell_type": "markdown",
   "id": "31e00966-9b8d-4aa0-b3ea-bda332edfab9",
   "metadata": {},
   "source": [
    "They are gamma distributed. Let's confirm with directly creating a sample from gamma distribution with the same parameters:"
   ]
  },
  {
   "cell_type": "code",
   "execution_count": null,
   "id": "968a1d92-c9f7-40b2-9e12-4a8d31d1810b",
   "metadata": {},
   "outputs": [],
   "source": [
    "set.seed(7)\n",
    "sampgm2 <- rgamma(sizeexp, nexp, rateexp)"
   ]
  },
  {
   "cell_type": "code",
   "execution_count": null,
   "id": "2446239c-5cda-48d3-b78c-a26c817a8081",
   "metadata": {},
   "outputs": [],
   "source": [
    "hist(sampgm2)"
   ]
  },
  {
   "cell_type": "markdown",
   "id": "46e2def3-9039-4b39-9db8-2ca5fb918e4d",
   "metadata": {},
   "source": [
    "Let's extract the density of the first sample created from row sums of exponentially distributed variables:"
   ]
  },
  {
   "cell_type": "code",
   "execution_count": null,
   "id": "49a28d7f-a9c0-4113-b865-7d62c21544fe",
   "metadata": {},
   "outputs": [],
   "source": [
    "sampexpgmd <- density(sampexpgm)[c(\"x\", \"y\")]"
   ]
  },
  {
   "cell_type": "code",
   "execution_count": null,
   "id": "e53d9fee-335e-47b5-bf8d-208e38693610",
   "metadata": {},
   "outputs": [],
   "source": [
    "maxexpgm <- max(sampexpgm)"
   ]
  },
  {
   "cell_type": "code",
   "execution_count": null,
   "id": "059fcd4d-8e17-4188-8d33-49ff917e246b",
   "metadata": {},
   "outputs": [],
   "source": [
    "setDT(sampexpgmd)"
   ]
  },
  {
   "cell_type": "code",
   "execution_count": null,
   "id": "896d2a1e-1970-4f40-ba88-94e8f35fafd5",
   "metadata": {},
   "outputs": [],
   "source": [
    "gmvals2 <- seq(0, maxexpgm, 0.001)"
   ]
  },
  {
   "cell_type": "markdown",
   "id": "f6c58814-5afc-4e93-8944-9b9b80f0d9ce",
   "metadata": {},
   "source": [
    "And compare with the density of gamma distribution:"
   ]
  },
  {
   "cell_type": "code",
   "execution_count": null,
   "id": "0b3949ac-9d39-40ea-a603-f8351aae2474",
   "metadata": {},
   "outputs": [],
   "source": [
    "plot(sampexpgmd[x > 0], type = \"l\", col = \"blue\")\n",
    "lines(gmvals2, dgamma(gmvals2, nexp, rateexp), col = \"red\")"
   ]
  },
  {
   "cell_type": "markdown",
   "id": "b635c3a4-f64e-410a-a3fa-cb93b2d88c3e",
   "metadata": {},
   "source": [
    "They overlap perfectly! So we show that gamma distribution is the sum of i.i.d exponentially distributed variables."
   ]
  },
  {
   "cell_type": "markdown",
   "id": "ec202e94-6f45-427f-8853-9821112247a1",
   "metadata": {},
   "source": [
    "# Object Generating Code"
   ]
  },
  {
   "cell_type": "code",
   "execution_count": null,
   "id": "c08d8c44-fc63-438f-9aa6-c53163870d87",
   "metadata": {},
   "outputs": [],
   "source": [
    "student_id <- 2025000000\n",
    "library(tidyverse)\n",
    "library(data.table)\n",
    "library(BBmisc)\n",
    "library(PearsonDS)\n",
    "library(moments)\n",
    "library(plotly)\n",
    "kurtranges <- list(c(2, 2.5), c(4, 5))\n",
    "sizex <- 1e3\n",
    "skewsign <- c(-1, 1)\n",
    "normrange <- function(x, rang) rang[1] + diff(rang) * x\n",
    "set.seed(student_id)\n",
    "kurtlp <- sample(2)\n",
    "skewnp <- sample(2)\n",
    "kurtsamp1 <- runif(2)\n",
    "kurtvals <- mapply(normrange, kurtsamp1, kurtranges[kurtlp])\n",
    "skewrang <- mapply(\"*\", lapply(sqrt(kurtvals - 1), c, 0.5), skewsign[skewnp], SIMPLIFY = F) %>% lapply(sort)\n",
    "skewvals <- sapply(skewrang, function(x) runif(1, x[1], x[2]))\n",
    "distnames <- c(\"sample 1\", \"sample 2\", \"normal\")\n",
    "samplesize <- 1e4\n",
    "set.seed(10)\n",
    "samples1 <- mapply(function(x, y) rpearson(samplesize, moments = c(0, 1, y, x)), kurtvals, skewvals, SIMPLIFY = F)\n",
    "samples2 <- list(rnorm(samplesize))\n",
    "samples2 <- lapply(samples2, normalize)\n",
    "samples <- c(samples1, samples2)\n",
    "samples_dt <- mapply(function(x, y) data.table(vals = x, distname = y),\n",
    "                       samples, distnames, SIMPLIFY = F) %>% rbindlist"
   ]
  },
  {
   "cell_type": "markdown",
   "id": "a29e90e2-1611-4019-80ca-d0be4692d464",
   "metadata": {},
   "source": [
    "Statistical summaries:"
   ]
  },
  {
   "cell_type": "code",
   "execution_count": null,
   "id": "c9401b44-3a6e-4cc0-9739-b62ff8bfef07",
   "metadata": {
    "scrolled": true
   },
   "outputs": [],
   "source": [
    "samples_dt %>%\n",
    "group_by(distname) %>%\n",
    "summarize(meanx = mean(vals), median = median(vals), sdx = sd(vals), skewx = skewness(vals), kurtx = kurtosis(vals)) %>%\n",
    "mutate_if(is.numeric, round, 2)"
   ]
  },
  {
   "cell_type": "markdown",
   "id": "818d59b9-b3c0-414d-a0a2-ce069f22e5bf",
   "metadata": {},
   "source": [
    "Density plots:"
   ]
  },
  {
   "cell_type": "code",
   "execution_count": null,
   "id": "32ee12ae-fb5a-4a52-b3d0-43c4869b5d32",
   "metadata": {},
   "outputs": [],
   "source": [
    "qvals <- seq(-5, 5, 0.1)\n",
    "densities1 <- mapply(function(x, y) dpearson(qvals, moments = c(0, 1, y, x)), kurtvals, skewvals, SIMPLIFY = F)\n",
    "densities2 <- list(normal = dnorm(qvals))\n",
    "densities <- c(densities1, densities2)\n",
    "densities_dt <- mapply(function(x, y) data.table(qval = qvals, dens = x, distname = y),\n",
    "                       densities, distnames, SIMPLIFY = F) %>% rbindlist                     \n",
    "densep <- densities_dt %>%\n",
    "highlight_key(~distname) %>%\n",
    "ggplot(aes(x = qval, y = dens, col = distname)) +\n",
    "geom_line()\n",
    "ggplotly(densep) %>%\n",
    "highlight(\n",
    "  plotly_obj, \n",
    "  on = \"plotly_click\",\n",
    "  off = \"plotly_relayout\",\n",
    "  opacityDim = .1\n",
    "  )"
   ]
  },
  {
   "cell_type": "markdown",
   "id": "9e724bc0-027f-4835-8fbe-6f50174098c1",
   "metadata": {},
   "source": [
    "Histograms:"
   ]
  },
  {
   "cell_type": "code",
   "execution_count": null,
   "id": "1b39fa9e-da65-4b3c-8743-35e69dc05152",
   "metadata": {},
   "outputs": [],
   "source": [
    "histplot2 <- samples_dt[, (c(\"meanx\", \"medianx\")) := .(mean(vals), median(vals)), by = distname][] %>%\n",
    "ggplot(aes(x = vals)) +\n",
    "geom_histogram() +\n",
    "geom_vline(aes(xintercept = meanx), color = \"red\") +\n",
    "geom_vline(aes(xintercept = medianx), color = \"blue\") +\n",
    "xlim(c(-5, 5)) +\n",
    "facet_wrap(. ~ distname, nrow = 7)\n",
    "ggplotly(histplot2) %>% layout(autosize = F, width = 800, height = 800)"
   ]
  },
  {
   "cell_type": "markdown",
   "id": "2232d267-2e77-41bd-95b7-9bb763300a20",
   "metadata": {},
   "source": [
    "Centile values:"
   ]
  },
  {
   "cell_type": "code",
   "execution_count": null,
   "id": "971dd2bf-e340-4e31-81da-fc359b3fcc51",
   "metadata": {
    "scrolled": true
   },
   "outputs": [],
   "source": [
    "samples_dt[, as.list(quantile(vals, seq(0, 1, 0.1)) %>% round(2)), by = distname] %>% t"
   ]
  },
  {
   "cell_type": "code",
   "execution_count": null,
   "id": "05a835d1-8df6-4364-ab30-00d3eb5fadaf",
   "metadata": {},
   "outputs": [],
   "source": []
  }
 ],
 "metadata": {
  "kernelspec": {
   "display_name": "R",
   "language": "R",
   "name": "ir"
  },
  "language_info": {
   "codemirror_mode": "r",
   "file_extension": ".r",
   "mimetype": "text/x-r-source",
   "name": "R",
   "pygments_lexer": "r",
   "version": "4.5.1"
  }
 },
 "nbformat": 4,
 "nbformat_minor": 5
}
