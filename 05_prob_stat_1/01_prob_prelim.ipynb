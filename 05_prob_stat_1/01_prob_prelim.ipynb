{
 "cells": [
  {
   "cell_type": "markdown",
   "id": "3d6c8dcd-0c67-47bb-86b0-048081a87516",
   "metadata": {},
   "source": [
    "<font size=\"6\"><b>TWO DICE AND A COIN: PRELUDE TO PROBABILITY THEORY</b></font>"
   ]
  },
  {
   "cell_type": "markdown",
   "id": "74ac4a36-de5e-4d86-9479-502bd6d345e5",
   "metadata": {},
   "source": [
    "<span style=\"font-size:3em;\">**THIS AND THE NEXT SESSION SERVE AS REFRESHERS AND REFERENCE MATERIAL FOR INTRODUCTION TO PROBABILITY THEORY. THERE ARE MANY SIMULATED EXAMPLES TO CLARIFY THE CONCEPTS.\n",
    "DON'T TRY TO UNDERSTAND THE COMPLEXITY OF THE CODE, THEY ARE JUST TOOLS TO CREATE THE SIMULATIONS AND VISUALS. PLEASE CONCENTRATE ON THE NARRATIVE, THE FLOW OF IDEAS AND THE INTERPRETATION OF THE EXAMPLES, SIMULATIONS AND THE VISUALS.**</span>"
   ]
  },
  {
   "cell_type": "code",
   "execution_count": null,
   "id": "85a3aa3d-1513-4681-b7ff-671e27f95f7a",
   "metadata": {},
   "outputs": [],
   "source": [
    "library(data.table)\n",
    "library(tidyverse)\n",
    "library(gtools) # for permutations and combinations\n",
    "library(MASS) # for fractions\n",
    "library(ggdag) # for viusalizing trees\n",
    "library(plotly)"
   ]
  },
  {
   "cell_type": "code",
   "execution_count": null,
   "id": "5cef8242-ad39-4434-b6fb-2fc8afe28bb5",
   "metadata": {},
   "outputs": [],
   "source": [
    "options(repr.matrix.max.rows=20, repr.matrix.max.cols=15) # for limiting the number of top and bottom rows of tables printed "
   ]
  },
  {
   "cell_type": "code",
   "execution_count": null,
   "id": "01bc0a7a-f7df-4866-a135-113b10f96d1d",
   "metadata": {},
   "outputs": [],
   "source": [
    "options(htmlwidgets_embed=TRUE)"
   ]
  },
  {
   "cell_type": "code",
   "execution_count": null,
   "id": "d6b37073-6289-42ba-bbd5-52ce5eaffd99",
   "metadata": {},
   "outputs": [],
   "source": [
    "options(knitr.kable.max_rows = 10)"
   ]
  },
  {
   "cell_type": "markdown",
   "id": "d759f8d4-79ef-4dcc-a931-20bdda4230cd",
   "metadata": {},
   "source": [
    "![xkcd](../imagesba/seashell.png)\n",
    "\n",
    "(https://xkcd.com/1236/)"
   ]
  },
  {
   "attachments": {
    "19c7cfcc-e7e1-4c64-b5b7-b8ffb22d2f5d.png": {
     "image/png": "[encoded data removed]"
    },
    "59f65417-a59d-4016-bc05-07b80a568ba9.png": {
     "image/png": "[encoded data removed]"
    },
    "ea8cd5d8-ffdb-40c2-bb70-8207eed5cbee.png": {
     "image/png": "[encoded data removed]"
    }
   },
   "cell_type": "markdown",
   "id": "d18e06ca-1a17-43cb-bf15-18010b20d41c",
   "metadata": {},
   "source": [
    "**Note:** For the interactive applications, please:\n",
    "\n",
    "- Select file browser from the side bar through the symbol: ![image.png](attachment:19c7cfcc-e7e1-4c64-b5b7-b8ffb22d2f5d.png)\n",
    "\n",
    "- Open the Launcher by hitting the button: ![image.png](attachment:59f65417-a59d-4016-bc05-07b80a568ba9.png)\n",
    "\n",
    "- Hit \"Shiny\" button from the Launcher:\n",
    "\n",
    "  ![image.png](attachment:ea8cd5d8-ffdb-40c2-bb70-8207eed5cbee.png)\n",
    "\n",
    "- Navigate to 05_prob_stat_1/apps/"
   ]
  },
  {
   "cell_type": "markdown",
   "id": "ce43bc27-4173-4068-bf10-16c49e30cd5f",
   "metadata": {},
   "source": [
    "**DISCLAIMER: ALL REFERENCES TO GAMBLING IN THIS COURSE IS FOR THE PURPOSES OF HISTORICAL MENTION AND USEFULNESS OF GAMBLING GAMES TO DEMONSTRATE PROBABILITY CONCEPTS. GAMBLING IS FINANCIALLY RISKY AND DANGEROUS AND USUALLY HAS A NEGATIVE EXPECTED VALUE. GAMBLING CAN BE ADDICTIVE AND IS USUALLY DETRIMENTAL TO YOUR FINANCIAL AND MENTAL HEALTH AND YOUR PERSONAL HAPPINESS. SO DO NOT EVER GAMBLE BUT YOU MAY USE GAMBLING GAMES AS EXAMPLES FOR LEARNING PROBABILITY CONCEPTS**"
   ]
  },
  {
   "cell_type": "markdown",
   "id": "5c721cf0-a23a-4d14-94d3-8ecfd44f957a",
   "metadata": {},
   "source": [
    "The examples and simulations in these probability refresher sessions use simplest games of chance such as flipping a coin:\n",
    "\n",
    "[![korkor](https://img.youtube.com/vi/QuFcGYEQyaY/0.jpg)](https://youtu.be/QuFcGYEQyaY)\n",
    "\n",
    "Rolling dice:\n",
    "\n",
    "[![kolp](https://img.youtube.com/vi/iDsHcRKWlm0/0.jpg)](https://youtu.be/iDsHcRKWlm0)\n",
    "\n",
    "Or drawing cards:\n",
    "\n",
    "[![tokat](https://img.youtube.com/vi/qZurBr9Mvyc/0.jpg)](https://youtu.be/qZurBr9Mvyc)"
   ]
  },
  {
   "cell_type": "markdown",
   "id": "f87b6814-4699-4e60-9292-9d6665a5eae5",
   "metadata": {},
   "source": [
    "# Bernoulli trials"
   ]
  },
  {
   "cell_type": "markdown",
   "id": "d5618005-5ee0-4864-bfc6-1c81a41f95a6",
   "metadata": {},
   "source": [
    "What is probability theory is all about?"
   ]
  },
  {
   "cell_type": "markdown",
   "id": "6bb0236f-182f-4763-9956-f73d2bd53df4",
   "metadata": {},
   "source": [
    "> ... probability theory in its essential form: counting the ways things can happen\n",
    "\n",
    "(McElreath 2020, Statistical Rethinking, page 20)"
   ]
  },
  {
   "cell_type": "markdown",
   "id": "a38c06de-b0be-414d-a1f4-5409bf70a954",
   "metadata": {},
   "source": [
    "Let's start with the easiest experiment: A Bernoulli trial.\n",
    "\n",
    "Don't let the fancy discourage you! We will just flip a coin with a certain \"bias\"\n",
    "\n",
    "<img src=\"../imagesba/1tl.jpg\" width=\"500\"/>"
   ]
  },
  {
   "cell_type": "markdown",
   "id": "ebe2e844-bac2-41cc-bfba-0ebac6aab621",
   "metadata": {},
   "source": [
    "Bias of a coin can be interpreted in two ways, but let's stick with the more common terminology:\n",
    "\n",
    "- A bias of the coin is the probability of heads coming after a flip"
   ]
  },
  {
   "cell_type": "markdown",
   "id": "8b44ebf2-6f2e-43da-afad-45afffc275b1",
   "metadata": {},
   "source": [
    "So you may ask, what is \"probability\". We may give two major answers:\n",
    "\n",
    "- According to the **objective** or **frequentist** approach:\n",
    "\n",
    "> For an observation of a random phenomenon, the probability of a particular outcome\n",
    "is the proportion of times that outcome would occur in an indefinitely long sequence\n",
    "of like observations, under the same conditions.\n",
    "\n",
    "- According to the **subjective** definition which is mostly used in Bayesian methods:\n",
    "\n",
    "> The probability of an outcome is the degree of belief that the outcome will occur,\n",
    "> based on all the available information.\n",
    "\n",
    "(Agresti and Kateri, Foundations of Statistics for Data Scientists With R and Python, p 29-30)"
   ]
  },
  {
   "cell_type": "markdown",
   "id": "a3d16bd6-ea57-4e78-a1db-60e40c20055e",
   "metadata": {},
   "source": [
    "We will come back to the distinction and usefulness of each method."
   ]
  },
  {
   "cell_type": "markdown",
   "id": "1e684064-db64-4425-91a6-100ea58f6e84",
   "metadata": {},
   "source": [
    "First of all, we define a sample space of a chance experiment is a set of elements that one-to-one correspond to all of the possible outcomes of the experiment. In the coin toss example the sample space includes HEAD and TAIL. Sample space is usually denoted by $\\Omega$.\n",
    "\n",
    "The assumptions as to setting up the axioms can be summarised as follows: Let $(\\Omega ,F,P)$ be a measure space such that $P(E)$ is the probability of some event $E$. Then  $(\\Omega ,F,P)$ is a probability space, with sample space $\\Omega$, event space $F$ and probability measure $P$.\n",
    "\n",
    "\n",
    "Russian mathematician Kolmogorov laid down the foundation of probability theory with three basic axioms:\n",
    "\n",
    "- Assumption of unit measure: that the probability that at least one of the elementary events in the entire sample space will occur is 1.\n",
    "\n",
    "$P(\\Omega )=1$\n",
    "\n",
    "- The probability of an event is a non-negative real number:\n",
    "\n",
    "${\\displaystyle P(E)\\in \\mathbb {R} ,P(E)\\geq 0\\qquad \\forall E\\in F}$\n",
    "\n",
    "where $F$ is the event space.\n",
    "\n",
    "or\n",
    "\n",
    "$0 ≤ P(A) ≤ 1$ for each subset $A$ of $\\Omega$.\n",
    "\n",
    "- Assumption of finite additivity: Any finite countable sequence of disjoint sets (synonymous with mutually exclusive events) ${\\displaystyle E_{1},E_{2},\\ldots ,E_{N}}$ satisfies\n",
    "\n",
    "${\\displaystyle P\\left(\\bigcup _{i=1}^{N}E_{i}\\right)=\\sum _{i=1}^{N}P(E_{i})}$\n",
    "\n",
    "or\n",
    "\n",
    "$P(A \\text{ or } B) = P(A) + P(B)$ if the subsets $A$ and $B$ have no element in common (so-called disjoint subsets).\n",
    "\n",
    "(Tijms 2023, A First Course In Probability For Computer And Data Science, p. 15; https://en.wikipedia.org/wiki/Probability_axioms)"
   ]
  },
  {
   "cell_type": "markdown",
   "id": "b8e58c0c-7818-42d7-a644-8e0fe6a7568f",
   "metadata": {},
   "source": [
    "So let's toss a coin with a bias - probability of heads - of 0.5. Heads are denoted by \"1\" while tails are \"0\":"
   ]
  },
  {
   "cell_type": "code",
   "execution_count": null,
   "id": "c2525446-d587-4eed-a0bf-034429623807",
   "metadata": {},
   "outputs": [],
   "source": [
    "set.seed(1)\n",
    "cointoss1 <- rbinom(100, 1, 0.5)"
   ]
  },
  {
   "cell_type": "markdown",
   "id": "9f47e26c-32da-4612-ba87-9a87e4f6a11b",
   "metadata": {},
   "source": [
    "The distribution of H-T values are not exactly 0.5 - 0.5:"
   ]
  },
  {
   "cell_type": "code",
   "execution_count": null,
   "id": "8028b44b-3e32-4555-ab9e-27d3562fd096",
   "metadata": {},
   "outputs": [],
   "source": [
    "barplot(table(cointoss1))"
   ]
  },
  {
   "cell_type": "markdown",
   "id": "4ba90577-2b4a-4df4-9406-e1c43de5dd6f",
   "metadata": {},
   "source": [
    "Let's track the progress of cumulative ratio of heads:"
   ]
  },
  {
   "cell_type": "code",
   "execution_count": null,
   "id": "4f79eeae-e955-4135-a410-3402733cd457",
   "metadata": {},
   "outputs": [],
   "source": [
    "plot(cummean(cointoss1), type = \"l\")\n",
    "abline(h = 0.5, col = \"red\")"
   ]
  },
  {
   "cell_type": "markdown",
   "id": "a408060d-d579-4af2-bd8f-0859b9c1eb68",
   "metadata": {},
   "source": [
    "You see that in early flips, the cumulative ratio of heads oscillates wildly around 0.5 while it converges to 0.5 in subsequent flips."
   ]
  },
  {
   "cell_type": "code",
   "execution_count": null,
   "id": "e1b0084a-ea40-433b-b0b7-899a0e9e6d3b",
   "metadata": {},
   "outputs": [],
   "source": [
    "hist(cummean(cointoss1))"
   ]
  },
  {
   "cell_type": "code",
   "execution_count": null,
   "id": "2a1ac38c-bf67-4786-a5a2-baed5a19b14b",
   "metadata": {},
   "outputs": [],
   "source": [
    "round(quantile(cummean(cointoss1), c(0, 0.1, 0.25, 0.5, 0.75, 0.9, 1)), 2)"
   ]
  },
  {
   "cell_type": "markdown",
   "id": "2f537bf8-09c1-4639-bb8c-5c0e610c1c5d",
   "metadata": {},
   "source": [
    "You see that, the cumulative head ratio oscillates between 0.46 and 0.54 80 percent of the time."
   ]
  },
  {
   "cell_type": "markdown",
   "id": "b6c52e65-291a-46d2-ae8d-10a514a575f3",
   "metadata": {},
   "source": [
    "Now let's simulate tosses of coins with different bias values simultaneously:"
   ]
  },
  {
   "cell_type": "code",
   "execution_count": null,
   "id": "e4ec8133-7b33-490f-bd88-e5fcf1ca4344",
   "metadata": {},
   "outputs": [],
   "source": [
    "set.seed(2)\n",
    "cointoss2 <- lapply(seq(0.1, 0.9, 0.1), function(x) cummean(rbinom(100, 1, x)))"
   ]
  },
  {
   "cell_type": "code",
   "execution_count": null,
   "id": "dfd24715-d9ca-4238-b1ee-168b0960ea73",
   "metadata": {},
   "outputs": [],
   "source": [
    "cointoss2_dt <- mapply(function(x, y) data.table(bias = as.factor(x), ratio = y, trial = seq_along(y)), seq(0.1, 0.9, 0.1), cointoss2, SIMPLIFY = F) %>% rbindlist"
   ]
  },
  {
   "cell_type": "code",
   "execution_count": null,
   "id": "26edc108-7c8d-44a1-9862-61a1afd385ab",
   "metadata": {},
   "outputs": [],
   "source": [
    "p1 <- cointoss2_dt %>%\n",
    "ggplot(aes(x = trial, y = ratio, color = bias)) +\n",
    "geom_line()"
   ]
  },
  {
   "cell_type": "code",
   "execution_count": null,
   "id": "c9e62283-1145-44fc-a0b9-14bf50d9e4ab",
   "metadata": {},
   "outputs": [],
   "source": [
    "p1"
   ]
  },
  {
   "cell_type": "markdown",
   "id": "2a24c53f-cad1-4790-be81-289a454cbd49",
   "metadata": {},
   "source": [
    "An interactive version of the plot can be created by plotly:"
   ]
  },
  {
   "cell_type": "code",
   "execution_count": null,
   "id": "b8374f46-0446-49d9-934f-c2f503bd5163",
   "metadata": {},
   "outputs": [],
   "source": [
    "plotly::ggplotly(p1)"
   ]
  },
  {
   "cell_type": "code",
   "execution_count": null,
   "id": "591a5700-9f31-4c6c-9a39-ba26595a1405",
   "metadata": {},
   "outputs": [],
   "source": [
    "cointoss2_dt[trial == 7][order(-ratio)]"
   ]
  },
  {
   "cell_type": "markdown",
   "id": "ff5f31a3-7fff-4ee6-ab72-75e8d2b96920",
   "metadata": {},
   "source": [
    "Although in subsequent flips, the cumulative head ratio converges to the true biases, especially in early runs, the ratios may be misleading. The long run convergence to true parameter values is the subject of Law of Large Numbers, as we will see later.\n",
    "\n",
    "For example as of the 7th flip, the coin with a bias of 0.8 has a head ratio of 0.57, while the coins with lower biases (0.5, 0.6, and 0.7) all have a higher head ratio.\n",
    "\n",
    "Note that, this is a simulation where we control the parameters for the data generation process, so WE KNOW THE TRUE BIAS values.\n",
    "\n",
    "Statistical inference as we will see later, if trying to infer the TRUE PARAMETER VALUES that we don't know using the samples we have."
   ]
  },
  {
   "cell_type": "markdown",
   "id": "e4777569-52ad-4062-82ea-dbf63c8421d3",
   "metadata": {},
   "source": [
    "Next step will be to calculate the probability of getting different ways of heads in a series of coin tosses. But before that let's see the basic rules of counting"
   ]
  },
  {
   "cell_type": "markdown",
   "id": "35282c20-06e9-410b-a65e-bc08f573d969",
   "metadata": {},
   "source": [
    "# Rules of counting"
   ]
  },
  {
   "cell_type": "markdown",
   "id": "d16db5a0-d407-4237-af4b-af1badd4b3fb",
   "metadata": {},
   "source": [
    "Let's go through the rules of counting"
   ]
  },
  {
   "cell_type": "markdown",
   "id": "a0cbd5da-6db5-4eef-905f-983c6a2578e4",
   "metadata": {},
   "source": [
    "## Permutations"
   ]
  },
  {
   "cell_type": "markdown",
   "id": "c4155752-9c13-4c67-83b2-f5d4daf5e606",
   "metadata": {},
   "source": [
    "Suppose we have 5 people standing next to each other (Do you think that the rightmost one, Verbal Kint, is the least menacing one?):\n",
    "\n",
    "<img src=\"../imagesba/usual_suspects.jpg\" width=\"1000\"/>"
   ]
  },
  {
   "cell_type": "markdown",
   "id": "03fe7740-b3d1-43fe-9d8d-4f39e1673352",
   "metadata": {},
   "source": [
    "Let's say we pick each of these guys from an urn, one by one and without replacement (so each of them appears only once).\n",
    "\n",
    "In how many ways can we put all five of them in order?\n",
    "\n",
    "![stacked](../imagesba/stacked_boxes.jpg)"
   ]
  },
  {
   "cell_type": "markdown",
   "id": "eb3893de-90de-43d9-80da-fd40b4b53dea",
   "metadata": {},
   "source": [
    "- For the first slot we have 5 options, we pick any of them\n",
    "- For the second slot, we have 4 options remaning, pick any of them,\n",
    "- For the third slot, we have 3 options remaining, pick one,\n",
    "- For the second slot, we have 2 options, pick one,\n",
    "- For the last slot, we have only one option to go\n",
    "\n",
    "Mathematically:\n",
    "\n",
    "$ 5 * 4 * 3 * 2 * 1 = 120 $"
   ]
  },
  {
   "cell_type": "markdown",
   "id": "140c04fd-1317-4d23-9367-8ef0d4b0091e",
   "metadata": {},
   "source": [
    "In R we can do the calculation:"
   ]
  },
  {
   "cell_type": "code",
   "execution_count": null,
   "id": "193ea850-cc9a-404c-8761-fd1283054b62",
   "metadata": {},
   "outputs": [],
   "source": [
    "prod(5:1)"
   ]
  },
  {
   "cell_type": "markdown",
   "id": "0d760ae9-4db8-404a-aefc-615a1ea26935",
   "metadata": {},
   "source": [
    "However we have a general concept for the product of numbers from n to 1 or 1 to n: Factorial\n",
    "\n",
    "$ {\\displaystyle {\\begin{aligned}n!&=n\\times (n-1)\\times (n-2)\\times (n-3)\\times \\cdots \\times 3\\times 2\\times 1\\\\&=n\\times (n-1)!\\\\\\end{aligned}}} $"
   ]
  },
  {
   "cell_type": "markdown",
   "id": "2eebda53-b55e-4e6c-bd23-e1037965f790",
   "metadata": {},
   "source": [
    "And the function in R is `factorial. For $5!$:"
   ]
  },
  {
   "cell_type": "code",
   "execution_count": null,
   "id": "a165745c-e3ac-421a-873d-5b95b3e30fd1",
   "metadata": {},
   "outputs": [],
   "source": [
    "factorial(5)"
   ]
  },
  {
   "cell_type": "markdown",
   "id": "a9ec1176-1b43-49d8-beb6-c8e51445998f",
   "metadata": {},
   "source": [
    "We can also enumerate all permutations:"
   ]
  },
  {
   "cell_type": "code",
   "execution_count": null,
   "id": "8e0e266e-9d25-4e5c-8ac2-5fdb0511b963",
   "metadata": {},
   "outputs": [],
   "source": [
    "perm1 <- permutations(5, 5, repeats.allowed = F)"
   ]
  },
  {
   "cell_type": "code",
   "execution_count": null,
   "id": "83c01a65-72b7-41e7-930b-c5e1b7810d4c",
   "metadata": {},
   "outputs": [],
   "source": [
    "dim(perm1)"
   ]
  },
  {
   "cell_type": "code",
   "execution_count": null,
   "id": "d6f9fdfd-b95e-45c1-a450-c593508595fc",
   "metadata": {},
   "outputs": [],
   "source": [
    "perm1"
   ]
  },
  {
   "cell_type": "markdown",
   "id": "c82eef51-b42b-4697-baf9-47da35943740",
   "metadata": {},
   "source": [
    "Now let's say, we want to enumerate the permutations of sets of three from these five items:\n",
    "\n",
    "- For the first slot we have 5 options, select any of them\n",
    "- For the second slot we have 4 options, select one of them,\n",
    "- For the third slot we only have 3 options, select one of them.\n",
    "\n",
    "So mathematically:\n",
    "\n",
    "$ 5 * 4 * 3 = 60 $"
   ]
  },
  {
   "cell_type": "markdown",
   "id": "2ebf2df9-e602-4017-ba55-aa6b9d082f5f",
   "metadata": {},
   "source": [
    "Using the factorial notation:\n",
    "\n",
    "$ {\\displaystyle {\\frac {5!}{(5-3)!}}.} $"
   ]
  },
  {
   "cell_type": "markdown",
   "id": "5d2e11db-a74e-4feb-bc0b-57bc5b319bce",
   "metadata": {},
   "source": [
    "And the generalized formula for permutations of length n out of k items is:\n",
    "\n",
    "$ {\\displaystyle {\\frac {n!}{(n-k)!}}.} $"
   ]
  },
  {
   "cell_type": "markdown",
   "id": "00dce5cd-6720-4d60-aa18-d154cc1b2c0a",
   "metadata": {},
   "source": [
    "There is no built in base function for the number of k permutations of n. Let's create a function ourselves:"
   ]
  },
  {
   "cell_type": "code",
   "execution_count": null,
   "id": "4ee7cb7c-290d-4027-90a1-68d442db9f57",
   "metadata": {},
   "outputs": [],
   "source": [
    "perm <- function(n, k) factorial(n) / factorial(n-k)"
   ]
  },
  {
   "cell_type": "code",
   "execution_count": null,
   "id": "662d52a8-fd1f-4bbc-ab2c-5cd72428be82",
   "metadata": {},
   "outputs": [],
   "source": [
    "perm(1000, 3)"
   ]
  },
  {
   "cell_type": "markdown",
   "id": "b50e5a39-1716-464c-a8b8-1a3326589041",
   "metadata": {},
   "source": [
    "However, this will cause an overflow.\n",
    "\n",
    "We can write two alternatives that can bypass the integer overflow:"
   ]
  },
  {
   "cell_type": "code",
   "execution_count": null,
   "id": "bedd0be8-4397-4853-95cd-aa5e685386c0",
   "metadata": {},
   "outputs": [],
   "source": [
    "perml <- function(n, k) exp(lfactorial(n) - lfactorial(n-k))"
   ]
  },
  {
   "cell_type": "code",
   "execution_count": null,
   "id": "f4acaedb-cb20-4ea3-89a8-e60657dd033a",
   "metadata": {},
   "outputs": [],
   "source": [
    "permp <- function(n, k) prod(n + 1 - 1:k)"
   ]
  },
  {
   "cell_type": "code",
   "execution_count": null,
   "id": "59ad2a6b-7160-46a9-83a2-12465187ba72",
   "metadata": {},
   "outputs": [],
   "source": [
    "permp(1000, 3)"
   ]
  },
  {
   "cell_type": "code",
   "execution_count": null,
   "id": "a0cebbf3-0abd-40a0-9dc7-451d0442cdac",
   "metadata": {},
   "outputs": [],
   "source": [
    "perml(1000, 3)"
   ]
  },
  {
   "cell_type": "markdown",
   "id": "ac3c7507-62e7-443d-ad0e-bd141a48ca4d",
   "metadata": {},
   "source": [
    "So the number of length 3 permutations of 5 are:"
   ]
  },
  {
   "cell_type": "code",
   "execution_count": null,
   "id": "17c8179e-9600-42b2-97f7-08ea3a6e2716",
   "metadata": {},
   "outputs": [],
   "source": [
    "perml(5, 3)"
   ]
  },
  {
   "cell_type": "markdown",
   "id": "59f965c9-489f-4718-8eb3-ebeef1ff555b",
   "metadata": {},
   "source": [
    "Let's enumerate those permutations:"
   ]
  },
  {
   "cell_type": "code",
   "execution_count": null,
   "id": "bd570904-e948-42b7-a55e-97c673faa0eb",
   "metadata": {},
   "outputs": [],
   "source": [
    "perm2 <- permutations(5, 3, repeats.allowed = F)"
   ]
  },
  {
   "cell_type": "code",
   "execution_count": null,
   "id": "667dd3e0-5104-4d09-ba9c-bae6b4103446",
   "metadata": {},
   "outputs": [],
   "source": [
    "dim(perm2)"
   ]
  },
  {
   "cell_type": "code",
   "execution_count": null,
   "id": "43066051-91e0-4fc1-987f-7c724f7bfd18",
   "metadata": {},
   "outputs": [],
   "source": [
    "perm2"
   ]
  },
  {
   "cell_type": "markdown",
   "id": "d4c2b4ef-7564-4aca-9c4e-c23fc5b4b8a0",
   "metadata": {},
   "source": [
    "## Combinations"
   ]
  },
  {
   "cell_type": "markdown",
   "id": "c5b23073-9f23-461b-a0da-4c0cc1633de8",
   "metadata": {},
   "source": [
    "Now let's start with the enumerated lenth 3 permutations of 5 but let's sort the values included in each permutation:"
   ]
  },
  {
   "cell_type": "code",
   "execution_count": null,
   "id": "efc9100f-c5bf-4171-b3d7-ba0d31e4b465",
   "metadata": {},
   "outputs": [],
   "source": [
    "perm3 <- t(apply(perm2, 1, sort)) %>% as.data.table"
   ]
  },
  {
   "cell_type": "code",
   "execution_count": null,
   "id": "990d95f1-7c42-4702-af53-ced692ae8d8c",
   "metadata": {},
   "outputs": [],
   "source": [
    "perm3 <- perm3[do.call(order, perm3)]"
   ]
  },
  {
   "cell_type": "code",
   "execution_count": null,
   "id": "5a1ef063-21af-4c24-baab-41c0910f3d5f",
   "metadata": {},
   "outputs": [],
   "source": [
    "perm3"
   ]
  },
  {
   "cell_type": "markdown",
   "id": "0bdb043d-cf44-4b1e-ab4c-37bc12c9a8bc",
   "metadata": {},
   "source": [
    "We see that, when the values are sorted, the same numbers as a set appear in multiple rows. Let's count the repetitions of each set:"
   ]
  },
  {
   "cell_type": "code",
   "execution_count": null,
   "id": "ee36aaf3-6ca7-4b97-b6f6-4bb2db1d68cd",
   "metadata": {},
   "outputs": [],
   "source": [
    "perm3[, .N, by = names(perm3)]"
   ]
  },
  {
   "cell_type": "markdown",
   "id": "bff3dee4-ea26-475b-9cc4-9f850849d454",
   "metadata": {},
   "source": [
    "So there are in fact 10 separate sets each of which appears in 6 rows. Why?\n",
    "\n",
    "Because certain three items (or people such as Marx, Engels and Lenin) can be ordered (by the uninvited uncle of Marx) in $ 3! = 6 $ ways:\n",
    "\n",
    "![sarikaya](../imagesba/sarikaya.jpg)\n",
    "\n",
    "https://komikseyler.com.tr/kategori/naber-dergi/"
   ]
  },
  {
   "cell_type": "markdown",
   "id": "0fc4ea67-b556-49b8-a7f4-8fccd3273518",
   "metadata": {},
   "source": [
    "In order to get to the unordered number of k combinations of n we should divide the permutation count by $ k! $:\n",
    "\n",
    "$ {\\displaystyle \\binom{n}{k} = {\\frac {n!}{(n-k)! * k!}}.} $"
   ]
  },
  {
   "cell_type": "markdown",
   "id": "97d43678-a3ec-4e90-a9db-684d2cb00854",
   "metadata": {},
   "source": [
    "We can write a function for that:"
   ]
  },
  {
   "cell_type": "code",
   "execution_count": null,
   "id": "475558f9-e774-4886-b945-b92654147a6a",
   "metadata": {},
   "outputs": [],
   "source": [
    "comb <- function(n, k) factorial(n) / (factorial(n-k) * factorial(k))"
   ]
  },
  {
   "cell_type": "code",
   "execution_count": null,
   "id": "3c1cca95-a3ce-47cd-8c30-1deeb7c4363a",
   "metadata": {},
   "outputs": [],
   "source": [
    "comb(5, 3)"
   ]
  },
  {
   "cell_type": "markdown",
   "id": "d745d99c-c2fb-4c54-90cc-2bf0cf274559",
   "metadata": {},
   "source": [
    "However R already has a built-in function for that:"
   ]
  },
  {
   "cell_type": "code",
   "execution_count": null,
   "id": "240fc9ce-1204-421c-b49c-d8431800ce63",
   "metadata": {},
   "outputs": [],
   "source": [
    "choose(5, 3)"
   ]
  },
  {
   "cell_type": "markdown",
   "id": "9387d07b-7efa-43f5-9fdb-e07e22516bd8",
   "metadata": {},
   "source": [
    "**Exercise:**\n",
    "\n",
    "In a part of one of his previous shows, Cem Yılmaz tells a story from his military service days about how 400 soldiers yell at each other in 40 minutes.\n",
    "\n",
    "Considering those interactions as undirected (so the direction or order does not matter), calculate the time each interaction (as a combination of length 2) takes in milliseconds:"
   ]
  },
  {
   "cell_type": "markdown",
   "id": "81cd22f9-12ac-4db3-89bc-54550a5bdfd7",
   "metadata": {},
   "source": [
    "<video src=\"../imagesba/combination.mp4\"  \n",
    "       controls width=\"1000\">\n",
    "</video>\n",
    "\n",
    "(https://www.youtube.com/@cmylmz?sub_confirmation=1)\n",
    "\n",
    "(https://tv.apple.com/tr/movie/cmylmz/umc.cmc.37f3qg4fj0ip0nd0j4sosyb07)"
   ]
  },
  {
   "cell_type": "markdown",
   "id": "8c3d45dd-0591-4d19-a21b-9852aa13bf18",
   "metadata": {},
   "source": [
    "**Solution:**"
   ]
  },
  {
   "cell_type": "code",
   "execution_count": null,
   "id": "dda0ff35-57cb-4587-b729-d7466d018bf5",
   "metadata": {},
   "outputs": [],
   "source": [
    "(40 * 6e4) / choose(400, 2)"
   ]
  },
  {
   "cell_type": "markdown",
   "id": "8a91b3c4-7277-4db9-8b2b-cc3e62658b25",
   "metadata": {},
   "source": [
    "The number of combinations of length 0 to n from n are:"
   ]
  },
  {
   "cell_type": "code",
   "execution_count": null,
   "id": "bcfe4e93-2584-4410-984e-93fc622a7a0a",
   "metadata": {},
   "outputs": [],
   "source": [
    "choose(5,0:5)"
   ]
  },
  {
   "cell_type": "markdown",
   "id": "db5cc396-da48-4cc7-b9f5-628d47626ac2",
   "metadata": {},
   "source": [
    "And the sum of these values are:"
   ]
  },
  {
   "cell_type": "code",
   "execution_count": null,
   "id": "d13a8ad6-dc20-408a-99f8-30283151151c",
   "metadata": {},
   "outputs": [],
   "source": [
    "sum(choose(5,0:5))"
   ]
  },
  {
   "cell_type": "markdown",
   "id": "81fe4d71-9bf5-4de2-ad4c-2d1abf10589a",
   "metadata": {},
   "source": [
    "Which is basically $ 2^n $, the size of the power set (set of all subsets)."
   ]
  },
  {
   "cell_type": "markdown",
   "id": "87eefbad-ca0c-4a57-b728-cfedc34bb48e",
   "metadata": {},
   "source": [
    "# Basic probability calculus"
   ]
  },
  {
   "cell_type": "markdown",
   "id": "c5b7de35-c09b-4f5c-90d4-a321fe02441c",
   "metadata": {},
   "source": [
    "In the following examples, for the purposes of simplicity the possible outcomes are equiprobable. So coin, dice and card decks are fair, all possible outcomes have the same equal probability.\n",
    "\n",
    "Later on when we introduce the concept of random variables and probability distributions, this assumption will be relaxed."
   ]
  },
  {
   "cell_type": "markdown",
   "id": "59049156-6bdf-4e87-9c73-7bcb2083c1a3",
   "metadata": {},
   "source": [
    "## Complement, sum rule, product rule and conditional probability"
   ]
  },
  {
   "cell_type": "markdown",
   "id": "e10691d9-898c-4f4a-a06a-8419b7696491",
   "metadata": {},
   "source": [
    "### Independent events"
   ]
  },
  {
   "cell_type": "markdown",
   "id": "c9978976-ca37-4b14-bffa-d6eec4f24b7c",
   "metadata": {},
   "source": [
    "To illustrate these rules, we will go through two example.\n",
    "\n",
    "In the first one we roll two dice. The outcomes of two dice are totally independent from each other\n",
    "\n",
    "- A: Getting a 6 in the first die\n",
    "- B: Getting a 6 in the second die"
   ]
  },
  {
   "cell_type": "markdown",
   "id": "5a18ced3-9962-4edb-bbaa-9359621b89b9",
   "metadata": {},
   "source": [
    "Let's first enumerate all possible pairs of outcomes:"
   ]
  },
  {
   "cell_type": "code",
   "execution_count": null,
   "id": "2cb56bcb-9251-4acd-ba65-af547ac37ed6",
   "metadata": {},
   "outputs": [],
   "source": [
    "dice1 <- permutations(6, 2, repeats.allowed = T)"
   ]
  },
  {
   "cell_type": "code",
   "execution_count": null,
   "id": "4f0d486a-b9c5-4315-a787-2d62d79c626f",
   "metadata": {},
   "outputs": [],
   "source": [
    "colnames(dice1) <- LETTERS[1:2]"
   ]
  },
  {
   "cell_type": "code",
   "execution_count": null,
   "id": "89755227-7427-43a5-9938-85606d3a7306",
   "metadata": {
    "scrolled": true
   },
   "outputs": [],
   "source": [
    "dice1"
   ]
  },
  {
   "cell_type": "markdown",
   "id": "adf93de7-294f-4409-b82b-35c3456d3f10",
   "metadata": {},
   "source": [
    "But we are more interested in whether we have 6 so let's have a boolean matrix for that:"
   ]
  },
  {
   "cell_type": "code",
   "execution_count": null,
   "id": "f24a1f1f-09d5-4fcb-bded-5dbac457d76a",
   "metadata": {},
   "outputs": [],
   "source": [
    "dice2 <- dice1 == 6"
   ]
  },
  {
   "cell_type": "code",
   "execution_count": null,
   "id": "337b2fe7-fb4d-431a-b187-b8fdb696898c",
   "metadata": {
    "scrolled": true
   },
   "outputs": [],
   "source": [
    "dice2"
   ]
  },
  {
   "cell_type": "markdown",
   "id": "642aba58-c678-4601-b12b-bfbe5423b3f7",
   "metadata": {},
   "source": [
    "$P(A)$ is:"
   ]
  },
  {
   "cell_type": "code",
   "execution_count": null,
   "id": "d15ea74d-760c-47c6-be97-62463e51709b",
   "metadata": {},
   "outputs": [],
   "source": [
    "fractions(1 / 6)"
   ]
  },
  {
   "cell_type": "markdown",
   "id": "6fbdf45d-ae47-4024-9775-08741a17ffc6",
   "metadata": {},
   "source": [
    "Confirm from the matrix:"
   ]
  },
  {
   "cell_type": "code",
   "execution_count": null,
   "id": "ca5ebf71-2932-444d-b585-ca0a5399988d",
   "metadata": {},
   "outputs": [],
   "source": [
    "fractions(mean(dice2[, \"A\"]))"
   ]
  },
  {
   "cell_type": "markdown",
   "id": "09f336d8-5bc5-4e35-a3b5-f9c5edd43085",
   "metadata": {},
   "source": [
    "$P(B)$ is:"
   ]
  },
  {
   "cell_type": "code",
   "execution_count": null,
   "id": "a0a14c3b-0fdd-4258-b0b0-3dfc1fb7cbe1",
   "metadata": {},
   "outputs": [],
   "source": [
    "fractions(1/ 6)"
   ]
  },
  {
   "cell_type": "markdown",
   "id": "79015c1c-ad9b-4fb1-ac2c-73cde2dc6264",
   "metadata": {},
   "source": [
    "Confirm from the matrix:"
   ]
  },
  {
   "cell_type": "code",
   "execution_count": null,
   "id": "436d6a4f-eab7-4c68-842f-0bac07b2e88b",
   "metadata": {},
   "outputs": [],
   "source": [
    "fractions(mean(dice2[, \"B\"]))"
   ]
  },
  {
   "cell_type": "markdown",
   "id": "6a976f1f-68ce-4fab-9291-40ab0c26d927",
   "metadata": {},
   "source": [
    "Now the complement of A, \"not getting a 6 in the first die\", denoted by:\n",
    "\n",
    "${\\displaystyle P(A')=1-P(A)}$ is:"
   ]
  },
  {
   "cell_type": "code",
   "execution_count": null,
   "id": "445e05b2-3db1-459f-8a7f-a14b01f3bbf2",
   "metadata": {},
   "outputs": [],
   "source": [
    "fractions(1 - 1/6)"
   ]
  },
  {
   "cell_type": "markdown",
   "id": "96a74e22-e17f-4f55-bb46-959c5d1046e2",
   "metadata": {},
   "source": [
    "Confirm:"
   ]
  },
  {
   "cell_type": "code",
   "execution_count": null,
   "id": "e7fd3519-7c21-4afe-98a0-2ee16309e2eb",
   "metadata": {},
   "outputs": [],
   "source": [
    "fractions(mean(!dice2[, \"A\"]))"
   ]
  },
  {
   "cell_type": "markdown",
   "id": "68adabea-eafc-4e89-aa6d-f84093778bde",
   "metadata": {},
   "source": [
    "Now the complement of B, \"not getting a 6 the second die\", denoted by:\n",
    "\n",
    "${\\displaystyle P(B')=1-P(B)}$ is:"
   ]
  },
  {
   "cell_type": "code",
   "execution_count": null,
   "id": "56ca286e-9d43-4c54-bd24-c758fa684758",
   "metadata": {},
   "outputs": [],
   "source": [
    "fractions(1 - 1/6)"
   ]
  },
  {
   "cell_type": "markdown",
   "id": "143eb7ae-2d68-4ebd-a271-4159d0b0e33b",
   "metadata": {},
   "source": [
    "Confirm:"
   ]
  },
  {
   "cell_type": "code",
   "execution_count": null,
   "id": "4777f34b-9755-4030-9cc3-9f7c830d3278",
   "metadata": {},
   "outputs": [],
   "source": [
    "fractions(mean(!dice2[, \"B\"]))"
   ]
  },
  {
   "cell_type": "markdown",
   "id": "08a67264-1233-4949-94a0-b433979c81a9",
   "metadata": {},
   "source": [
    "Now the probability of B, given A or conditional on A, $P(B|A)$ is:"
   ]
  },
  {
   "cell_type": "code",
   "execution_count": null,
   "id": "9e3927dd-3d48-4c90-9aad-25893a9c3032",
   "metadata": {},
   "outputs": [],
   "source": [
    "fractions(1/6)"
   ]
  },
  {
   "cell_type": "markdown",
   "id": "7b2da50b-fc21-4143-949a-a9f2c3e37490",
   "metadata": {},
   "source": [
    "Since two events are independent"
   ]
  },
  {
   "cell_type": "markdown",
   "id": "b6534873-9f30-489b-8261-bc78b2874a1e",
   "metadata": {},
   "source": [
    "Let's confirm:"
   ]
  },
  {
   "cell_type": "code",
   "execution_count": null,
   "id": "41e5cc1b-3d06-4bae-8177-d65ca826c637",
   "metadata": {},
   "outputs": [],
   "source": [
    "dice2[dice2[, \"A\"],]"
   ]
  },
  {
   "cell_type": "code",
   "execution_count": null,
   "id": "ffe02b50-69d4-4f7f-9e0c-4059cf5a744b",
   "metadata": {},
   "outputs": [],
   "source": [
    "fractions(mean(dice2[dice2[, \"A\"],\"B\"]))"
   ]
  },
  {
   "cell_type": "markdown",
   "id": "c5911d94-7c0b-4b4a-86d2-93f528cfd083",
   "metadata": {},
   "source": [
    "Having a six in the first die AND in the first die, $P(A \\text{ and } B)$ alternatively $P(A \\cap B)$ is:\n",
    "\n",
    "$P(A \\cap B) = P(A) * P(B | A)$"
   ]
  },
  {
   "cell_type": "code",
   "execution_count": null,
   "id": "2e65bfb0-84f6-419a-92db-c242553d6823",
   "metadata": {},
   "outputs": [],
   "source": [
    "fractions(1/6 * 1/6)"
   ]
  },
  {
   "cell_type": "code",
   "execution_count": null,
   "id": "4045be99-efff-4932-ad42-04ee2de47168",
   "metadata": {},
   "outputs": [],
   "source": [
    "fractions(sum(apply(dice2, 1, all)) / 36)"
   ]
  },
  {
   "cell_type": "markdown",
   "id": "e5adfbf5-289f-4b51-ab65-cbffa72ca88b",
   "metadata": {},
   "source": [
    "Having a six in the first die OR in the first die, $P(A \\text{ or } B)$ alternatively $P(A \\cup B)$:\n",
    "\n",
    "$P(A) + P(B) - P(A \\cap B)$"
   ]
  },
  {
   "cell_type": "code",
   "execution_count": null,
   "id": "01dbe5e5-6f6c-4b93-b52e-08ab36f452d9",
   "metadata": {},
   "outputs": [],
   "source": [
    "fractions(1/6 + 1/6 - 1/36)"
   ]
  },
  {
   "cell_type": "code",
   "execution_count": null,
   "id": "168dda14-dabf-42bf-991f-8500fe1dfe6d",
   "metadata": {},
   "outputs": [],
   "source": [
    "fractions(mean(apply(dice2, 1, any)))"
   ]
  },
  {
   "cell_type": "markdown",
   "id": "f1b6af6a-6273-4a38-a454-3d9487802498",
   "metadata": {},
   "source": [
    "### Dependent events"
   ]
  },
  {
   "cell_type": "markdown",
   "id": "1bed9a6a-75f3-4438-9e59-35dbbbefcc59",
   "metadata": {},
   "source": [
    "Now let's assume we have a deck of 6 cards, numbered from 1 to 6 and we pick two cards one by one, without replacing the first card back to the deck. Now the events are:\n",
    "\n",
    "- A: Drawing 6 as the first card\n",
    "- B: Drawing 5 as the second card\n",
    "\n",
    "To illustrate the calculations better we can add two more events:\n",
    "\n",
    "- C: Drawing 5 as the first card\n",
    "- D: Drawing 6 as the second card"
   ]
  },
  {
   "cell_type": "markdown",
   "id": "cbb007c1-cdea-462b-a42a-b5d683d1e029",
   "metadata": {},
   "source": [
    "We will demonstrate the probabilities using three methods:\n",
    "\n",
    "- Direct calculation\n",
    "- Enumeration of all possible permutations\n",
    "- Simulation (approximate results)"
   ]
  },
  {
   "cell_type": "markdown",
   "id": "04033526-c576-4f9a-8d52-284c70c7e670",
   "metadata": {},
   "source": [
    "The enumerated permutations are:"
   ]
  },
  {
   "cell_type": "code",
   "execution_count": null,
   "id": "16f78d41-7009-418e-9ac4-975873a777c2",
   "metadata": {},
   "outputs": [],
   "source": [
    "deck1 <- permutations(6, 2, repeats.allowed = F)"
   ]
  },
  {
   "cell_type": "code",
   "execution_count": null,
   "id": "297608d5-c3f3-43d2-a634-1f3bbb56b396",
   "metadata": {},
   "outputs": [],
   "source": [
    "deck2 <- t(t(deck1) == c(6, 5))"
   ]
  },
  {
   "cell_type": "code",
   "execution_count": null,
   "id": "13e785a2-b671-4be2-b33b-0707824a037a",
   "metadata": {},
   "outputs": [],
   "source": [
    "colnames(deck2) <- LETTERS[1:2]"
   ]
  },
  {
   "cell_type": "code",
   "execution_count": null,
   "id": "e80fafa2-9d27-4af9-8ccf-f66d29b6c500",
   "metadata": {},
   "outputs": [],
   "source": [
    "deck2"
   ]
  },
  {
   "cell_type": "markdown",
   "id": "15163bda-4b12-49dd-8b35-e83d0b182fc2",
   "metadata": {},
   "source": [
    "And a simulation:"
   ]
  },
  {
   "cell_type": "code",
   "execution_count": null,
   "id": "73e5b192-81f4-4be4-88f7-aed54896f5bc",
   "metadata": {},
   "outputs": [],
   "source": [
    "set.seed(5)\n",
    "simul1 <- t(replicate(1e4, sample(6, 2)))"
   ]
  },
  {
   "cell_type": "code",
   "execution_count": null,
   "id": "71d6f794-0043-444c-8413-92df33b81042",
   "metadata": {},
   "outputs": [],
   "source": [
    "simul2 <- t(t(simul1) == c(6, 5))"
   ]
  },
  {
   "cell_type": "code",
   "execution_count": null,
   "id": "ca5c7f4a-cef9-49cf-9d15-5a719ed256e2",
   "metadata": {},
   "outputs": [],
   "source": [
    "colnames(simul2) <- LETTERS[1:2]"
   ]
  },
  {
   "cell_type": "markdown",
   "id": "ebdab079-23ef-4883-925e-866a2ebe6b3a",
   "metadata": {},
   "source": [
    "$P(A)$ is:"
   ]
  },
  {
   "cell_type": "code",
   "execution_count": null,
   "id": "9518a530-49da-4c0a-9512-1d0bb263cd35",
   "metadata": {},
   "outputs": [],
   "source": [
    "fractions(1 / 6)"
   ]
  },
  {
   "cell_type": "markdown",
   "id": "60a033e7-5b67-4237-b905-1c6ce0b518e6",
   "metadata": {},
   "source": [
    "Confirm from the matrix:"
   ]
  },
  {
   "cell_type": "code",
   "execution_count": null,
   "id": "d9ab574c-1923-4176-8eb5-859123ce6630",
   "metadata": {},
   "outputs": [],
   "source": [
    "fractions(mean(deck2[, \"A\"]))"
   ]
  },
  {
   "cell_type": "markdown",
   "id": "e8e929ac-881a-4577-a18f-35d657a21a69",
   "metadata": {},
   "source": [
    "And from the simulation:"
   ]
  },
  {
   "cell_type": "code",
   "execution_count": null,
   "id": "836a1b95-a973-4e7d-a480-050c242d14b7",
   "metadata": {},
   "outputs": [],
   "source": [
    "fractions(round(mean(simul2[, \"A\"]), 3), max.denominator = 6)"
   ]
  },
  {
   "cell_type": "markdown",
   "id": "afbaac00-8c07-4fd8-bad7-938c1b011d93",
   "metadata": {},
   "source": [
    "Now, $P(B)$ is more tricky:\n",
    "\n",
    "There are two alternative routes to B:\n",
    "\n",
    "- Have a 5 in the first round ($C$)\n",
    "- Not have a 5 in the first round ($C'$)"
   ]
  },
  {
   "cell_type": "markdown",
   "id": "b54fc9ec-ffcf-4f00-9b04-cd8747b670c6",
   "metadata": {},
   "source": [
    "Let's represent the idea as a directed acyclic graph (DAG).\n",
    "\n",
    "Here $\\Omega$ is the whole sample space:"
   ]
  },
  {
   "cell_type": "code",
   "execution_count": null,
   "id": "f113e3c1-55ec-47f2-8974-271d760be443",
   "metadata": {},
   "outputs": [],
   "source": [
    "dag1 <- dagify(BC ~ C,\n",
    "                      BCc ~ Cc,\n",
    "                      C ~ omega,\n",
    "                      Cc ~ omega,\n",
    "                      labels = c(\"BC\" = \"B|C (0/5)\",\n",
    "                                 \"C\" = \"C (1/6)\",\n",
    "                                 \"BCc\" = \"B|C' (1/5)\",\n",
    "                                 \"Cc\" = \"C' (5/6)\",\n",
    "                                \"omega\" = \"\\u03A9\")) %>%\n",
    "tidy_dagitty(layout = \"tree\")"
   ]
  },
  {
   "cell_type": "code",
   "execution_count": null,
   "id": "4970ba27-28cd-422b-ab95-94f5fa9bc638",
   "metadata": {},
   "outputs": [],
   "source": [
    "suppressWarnings(ggdag(dag1, text = FALSE, use_labels = \"label\") +\n",
    "  theme_void())"
   ]
  },
  {
   "cell_type": "markdown",
   "id": "27ff3aaa-e8f6-4a72-b7e1-9bb85077d0e1",
   "metadata": {},
   "source": [
    "So:\n",
    "\n",
    "$P(B) = P(C)P(B|C) + P(C')P(B|C')$"
   ]
  },
  {
   "cell_type": "code",
   "execution_count": null,
   "id": "bed2968d-dc83-429e-9faf-01dcc731288d",
   "metadata": {},
   "outputs": [],
   "source": [
    "fractions(1/6*0/5 + 5/6*1/5)"
   ]
  },
  {
   "cell_type": "markdown",
   "id": "b1b22e59-cf65-423e-b4d9-0f8212ca57e8",
   "metadata": {},
   "source": [
    "From the table:"
   ]
  },
  {
   "cell_type": "code",
   "execution_count": null,
   "id": "1b5435f2-620d-499a-9e45-8d7f9624cac1",
   "metadata": {},
   "outputs": [],
   "source": [
    "fractions(mean(deck1[,1] == 5)) * # P(C)\n",
    "fractions(mean(deck1[deck1[,1] == 5, 2] == 5)) + # P(B|C)\n",
    "fractions(mean(deck1[,1] != 5)) * # P(C')\n",
    "fractions(mean(deck1[deck1[,1] != 5, 2] == 5)) # P(B|C')"
   ]
  },
  {
   "cell_type": "markdown",
   "id": "5b21f30a-6b1a-4955-9183-9bb0d7240370",
   "metadata": {},
   "source": [
    "Or more concisely:"
   ]
  },
  {
   "cell_type": "code",
   "execution_count": null,
   "id": "fea59c5e-f3aa-4ff1-9ab7-76dd0c79ff1a",
   "metadata": {},
   "outputs": [],
   "source": [
    "fractions(mean(deck1[, 2] == 5))"
   ]
  },
  {
   "cell_type": "markdown",
   "id": "f2cba2cf-5b6a-42b0-a067-82df25b5b50e",
   "metadata": {},
   "source": [
    "And from the simulation:"
   ]
  },
  {
   "cell_type": "code",
   "execution_count": null,
   "id": "7fe373d0-2bec-406f-bd8f-73aaaccd6875",
   "metadata": {},
   "outputs": [],
   "source": [
    "fractions(round(mean(simul2[, \"B\"]), 3), max.denominator = 6)"
   ]
  },
  {
   "cell_type": "markdown",
   "id": "e5cfe385-b8a7-4c14-9143-42c6e0b30460",
   "metadata": {},
   "source": [
    "While the concise and longer calculations lead to the same result, it is usually useful to conduct the longer way in order to confirm the concise results."
   ]
  },
  {
   "cell_type": "markdown",
   "id": "e273fe23-e680-4085-b975-200ec45fb771",
   "metadata": {},
   "source": [
    "Now the probability of B, given A or conditional on A ($P(B|A)$), or more precisely\n",
    "\n",
    "- Given we have a 6 in the first round,\n",
    "- The probability of having a 5 in the second round\n",
    "\n",
    "is:"
   ]
  },
  {
   "cell_type": "code",
   "execution_count": null,
   "id": "f336bc98-3078-4db5-8f52-45556af0f702",
   "metadata": {},
   "outputs": [],
   "source": [
    "fractions(1/5)"
   ]
  },
  {
   "cell_type": "markdown",
   "id": "f6e89199-97c5-4da0-98e6-9b5cf141346d",
   "metadata": {},
   "source": [
    "This is different than the previous case where two events were independent since they were sampled from different dice.\n",
    "\n",
    "When we condition on the fact that 6 is drawn as the first card, there are 5 cards left so the probability of having 5 is 1/5.\n",
    "\n",
    "This is different than P(B), since in calculating P(B) we also considered the possibility of drawing 5 in the first round."
   ]
  },
  {
   "cell_type": "markdown",
   "id": "e20d4c7f-8acb-4598-be1f-25d0e53b144d",
   "metadata": {},
   "source": [
    "Let's confirm from the deck:"
   ]
  },
  {
   "cell_type": "code",
   "execution_count": null,
   "id": "bf3334c8-ce14-4b82-80a4-14ca726ce9b6",
   "metadata": {},
   "outputs": [],
   "source": [
    "fractions(mean(deck2[deck2[, \"A\"],\"B\"]))"
   ]
  },
  {
   "cell_type": "markdown",
   "id": "115c669a-1207-4722-8144-0a3a06da88ea",
   "metadata": {},
   "source": [
    "And the simulation:"
   ]
  },
  {
   "cell_type": "code",
   "execution_count": null,
   "id": "de82c8e2-169e-4a62-bb98-d53a3e852918",
   "metadata": {},
   "outputs": [],
   "source": [
    "fractions(round(mean(simul2[simul2[, \"A\"],\"B\"]), 1), max.denominator = 6)"
   ]
  },
  {
   "cell_type": "markdown",
   "id": "b45bdc32-c07d-4f04-a266-ada625922af7",
   "metadata": {},
   "source": [
    "Drawing six in the first round AND drawing 5 in the second round, $P(A \\text{ and } B)$ alternatively $P(A \\cap B)$ is:\n",
    "\n",
    "$P(A \\cap B) = P(A) * P(B | A)$"
   ]
  },
  {
   "cell_type": "markdown",
   "id": "6b455fde-bf5f-422a-859d-46250a38dc25",
   "metadata": {},
   "source": [
    "For the first card we have 6 options, while for the first card we have only 5 options remaning, given we have already drawn 6:"
   ]
  },
  {
   "cell_type": "code",
   "execution_count": null,
   "id": "6e67958b-25d7-49c9-b738-e94f6b774b9b",
   "metadata": {},
   "outputs": [],
   "source": [
    "fractions(1/6 * 1/5)"
   ]
  },
  {
   "cell_type": "markdown",
   "id": "186502f2-f3ca-4ec9-86ca-5fabc0c11215",
   "metadata": {},
   "source": [
    "This can be deduced from the fact that there 30 distinct 2-permutations of 6 cards:"
   ]
  },
  {
   "cell_type": "code",
   "execution_count": null,
   "id": "5d445f86-0c16-4e9f-a31a-f0d0f094ae7a",
   "metadata": {},
   "outputs": [],
   "source": [
    "fractions(1/perm(6, 2))"
   ]
  },
  {
   "cell_type": "markdown",
   "id": "eee6b57e-ffb1-43fd-8113-e953203d8c21",
   "metadata": {},
   "source": [
    "From the deck permutations:"
   ]
  },
  {
   "cell_type": "code",
   "execution_count": null,
   "id": "88d4530f-a0ff-41a2-9bc6-4492135b2abd",
   "metadata": {},
   "outputs": [],
   "source": [
    "fractions(mean(deck2[, \"A\"])) * # P(A)\n",
    "fractions(mean(deck2[deck2[, \"A\"],\"B\"])) # P(B|A)"
   ]
  },
  {
   "cell_type": "markdown",
   "id": "bfbcfbda-469d-471c-acad-6001902c78ff",
   "metadata": {},
   "source": [
    "Or more concisely:"
   ]
  },
  {
   "cell_type": "code",
   "execution_count": null,
   "id": "56bac892-444f-43de-8c2c-234911a306d1",
   "metadata": {},
   "outputs": [],
   "source": [
    "fractions(mean(apply(deck2, 1, all)))"
   ]
  },
  {
   "cell_type": "markdown",
   "id": "b0d18c93-fb7a-4089-b3d2-27911e1d1aac",
   "metadata": {},
   "source": [
    "And from the simulation:"
   ]
  },
  {
   "cell_type": "code",
   "execution_count": null,
   "id": "a37e7497-86dc-49fd-ab91-de38ca32c855",
   "metadata": {},
   "outputs": [],
   "source": [
    "fractions(round(mean(apply(simul2, 1, all)), 4))"
   ]
  },
  {
   "cell_type": "markdown",
   "id": "6320b750-3124-4826-93b4-637ed102367d",
   "metadata": {},
   "source": [
    "Drawing a six in the first round OR five in the second round, $P(A \\text{ or } B)$ alternatively $P(A \\cup B)$:\n",
    "\n",
    "$P(A) + P(B) - P(A \\cap B)$"
   ]
  },
  {
   "cell_type": "code",
   "execution_count": null,
   "id": "1c408ad2-6d12-4104-937e-4d32d23ae314",
   "metadata": {},
   "outputs": [],
   "source": [
    "fractions(1/6 + 1/6 - 1/30)"
   ]
  },
  {
   "cell_type": "markdown",
   "id": "a08c01f0-20ae-49c8-b0e4-67a1b92d3dcf",
   "metadata": {},
   "source": [
    "From the table:"
   ]
  },
  {
   "cell_type": "code",
   "execution_count": null,
   "id": "5d59f74f-abea-438f-8866-2688616df2be",
   "metadata": {},
   "outputs": [],
   "source": [
    "fractions(mean(apply(deck2, 1, any)))"
   ]
  },
  {
   "cell_type": "markdown",
   "id": "c64af0bf-4719-45d2-aec1-dbad4ab969dd",
   "metadata": {},
   "source": [
    "From the simulation:"
   ]
  },
  {
   "cell_type": "code",
   "execution_count": null,
   "id": "73ebbd15-f002-46d9-8617-7869fe9bc566",
   "metadata": {},
   "outputs": [],
   "source": [
    "fractions(round(mean(apply(simul2, 1, any)),1))"
   ]
  },
  {
   "cell_type": "markdown",
   "id": "67434db5-3418-454e-b5ae-50bd44c8d058",
   "metadata": {},
   "source": [
    "## Joint probability and marginal probability"
   ]
  },
  {
   "cell_type": "markdown",
   "id": "37e0e2fc-ac8a-437c-a06e-0924aba9a1eb",
   "metadata": {},
   "source": [
    "The probability that multiple events occur - or multiple variables have certain values - denoted by $P(A \\cap B) = P(A)P(B|A)$ is also called **joint probability**"
   ]
  },
  {
   "cell_type": "markdown",
   "id": "fa504640-0b64-4394-975d-d7c24dbea31a",
   "metadata": {},
   "source": [
    "When we have multiple events, the probability of one of them without referencing the other events is called **marginal distribution**\n",
    "\n",
    "So in our previous example, while we had two events, $A$ and $B$, the $P(A)$ and $P(B)$ are the marginal probabilities of $A$ and $B$ respectively."
   ]
  },
  {
   "cell_type": "markdown",
   "id": "29ca8f8e-9097-45fe-81d9-9863cc72fb0d",
   "metadata": {},
   "source": [
    "## Complement rule for advanced problems: Birthday example"
   ]
  },
  {
   "cell_type": "markdown",
   "id": "3e13233c-b688-4b47-bd7e-1bebb8023345",
   "metadata": {},
   "source": [
    "In some seemingly complex probability problems involving calculating the probability that an event happens ($P(E)$), the problem can be reformulated such that the probability that the even does not happen ($P(E')$) is calculated first and its complement is then taken ($1 - P(E')$)"
   ]
  },
  {
   "cell_type": "markdown",
   "id": "ab17c866-b51d-4b58-aa6f-ac8bc29cc797",
   "metadata": {},
   "source": [
    "A commonly cited example is the birthday problem:\n",
    "\n",
    "> What is the probability that two or more\n",
    "people share a birthday in a randomly formed group of m people\n",
    "(no twins)? To simplify the analysis, it is assumed that the year has\n",
    "365 days (February 29 is excluded) and that each of these days is\n",
    "equally likely as birthday.\n",
    "\n",
    "(Tijms 2023, A First Course In Probability For Computer And Data Science, p. 10)"
   ]
  },
  {
   "cell_type": "markdown",
   "id": "49ebdfc7-c947-4393-b547-c7d0d94962e4",
   "metadata": {},
   "source": [
    "So, let's first calculate the probability that NOONE shares a birthday among m people. For a concrete example let's take m as 5:"
   ]
  },
  {
   "cell_type": "markdown",
   "id": "78c1731b-31e3-432f-8822-9aac48d4483f",
   "metadata": {},
   "source": [
    "The first person can have any day:"
   ]
  },
  {
   "cell_type": "code",
   "execution_count": null,
   "id": "0e40ebf4-d6dd-47e6-b4f8-72dfada78f65",
   "metadata": {},
   "outputs": [],
   "source": [
    "fractions(365/365)"
   ]
  },
  {
   "cell_type": "markdown",
   "id": "481a94f7-6932-45ea-867b-5d837969acda",
   "metadata": {},
   "source": [
    "The second person has 365 - 1 options:"
   ]
  },
  {
   "cell_type": "code",
   "execution_count": null,
   "id": "690c1c2c-f203-423c-b2f1-50bdfe2b8f7d",
   "metadata": {},
   "outputs": [],
   "source": [
    "fractions((365 - 1) / 365)"
   ]
  },
  {
   "cell_type": "markdown",
   "id": "ce955113-fe52-40f8-8ffa-00e247309e59",
   "metadata": {},
   "source": [
    "The third person:"
   ]
  },
  {
   "cell_type": "code",
   "execution_count": null,
   "id": "2c7df924-0a8d-487c-80da-234922cf45e3",
   "metadata": {},
   "outputs": [],
   "source": [
    "fractions((365 - 2) / 365)"
   ]
  },
  {
   "cell_type": "markdown",
   "id": "5c7e55ea-cdbe-46b9-b1fd-3dec5d4f752e",
   "metadata": {},
   "source": [
    "The fourth person:"
   ]
  },
  {
   "cell_type": "code",
   "execution_count": null,
   "id": "5f85416f-da7f-41d9-a9f5-208d63b3fa61",
   "metadata": {},
   "outputs": [],
   "source": [
    "fractions((365 - 3) / 365)"
   ]
  },
  {
   "cell_type": "markdown",
   "id": "b1f47e20-fe89-4c0a-a5aa-a3f5a47707e1",
   "metadata": {},
   "source": [
    "And the fifth person:"
   ]
  },
  {
   "cell_type": "code",
   "execution_count": null,
   "id": "353fb2c0-d141-4473-acd6-7506682f23c1",
   "metadata": {},
   "outputs": [],
   "source": [
    "fractions((365 - 4) / 365)"
   ]
  },
  {
   "cell_type": "markdown",
   "id": "a6080b72-bb37-4397-a6e9-af34a4831e49",
   "metadata": {},
   "source": [
    "So the joint probability of each of 5 people having a distinct birthday is:"
   ]
  },
  {
   "cell_type": "code",
   "execution_count": null,
   "id": "c754bc6f-a048-4bb1-b58c-b5643b951fbc",
   "metadata": {},
   "outputs": [],
   "source": [
    "prod((365 - 0:4) / 365)"
   ]
  },
  {
   "cell_type": "markdown",
   "id": "41796cba-1029-4821-bda0-40d4e36e919b",
   "metadata": {},
   "source": [
    "And at least 2 people sharing a birthday is:"
   ]
  },
  {
   "cell_type": "code",
   "execution_count": null,
   "id": "4c557d08-83ee-4530-82af-6dfede3a727c",
   "metadata": {},
   "outputs": [],
   "source": [
    "1 - prod((365 - 0:4) / 365)"
   ]
  },
  {
   "cell_type": "markdown",
   "id": "b76fa0d3-cf51-420c-9f15-b1be78c9e9d4",
   "metadata": {},
   "source": [
    "Let's make it a function:"
   ]
  },
  {
   "cell_type": "code",
   "execution_count": null,
   "id": "6f7a5b9b-aa05-4589-9466-da72bc519a08",
   "metadata": {},
   "outputs": [],
   "source": [
    "birthprob <- function(x) 1 - prod((365 - 0:(x - 1)) / 365)"
   ]
  },
  {
   "cell_type": "markdown",
   "id": "55d6bdf7-406b-4365-ab0c-1e2125451897",
   "metadata": {},
   "source": [
    "For 50 people, the probability that at least 2 people share a birthday is:"
   ]
  },
  {
   "cell_type": "code",
   "execution_count": null,
   "id": "23d0bb9d-5083-464a-9cc2-38cfe7f4f946",
   "metadata": {},
   "outputs": [],
   "source": [
    "birthprob(50)"
   ]
  },
  {
   "cell_type": "markdown",
   "id": "ea0cabda-d5a3-4b6e-9767-91a26e2a31e7",
   "metadata": {},
   "source": [
    "## Bayes rule"
   ]
  },
  {
   "cell_type": "markdown",
   "id": "e0cf6ac3-25ab-4635-82b1-a92d39ddc9b7",
   "metadata": {},
   "source": [
    "We can think that the joint probability is commutative so:\n",
    "\n",
    "$P(A \\cap B) = P(B \\cap A)$\n",
    "\n",
    "and hence\n",
    "\n",
    "$P(A) * P(B | A) = P(B) * P(A | B)$"
   ]
  },
  {
   "cell_type": "markdown",
   "id": "48e57622-9fbb-4d5e-b24b-6237fb00e55b",
   "metadata": {},
   "source": [
    "Rearranging the terms:\n",
    "\n",
    "${\\displaystyle P(B | A) = \\frac{P(B)P(A | B)}{P(A)}}$"
   ]
  },
  {
   "cell_type": "markdown",
   "id": "dfa69f0c-0145-4fcf-b366-7c9d3e9f47b2",
   "metadata": {},
   "source": [
    "Which is the famous Bayes' rule for \"inverse probability\""
   ]
  },
  {
   "cell_type": "markdown",
   "id": "d640b2c6-811b-42a5-9f52-e8d48d29f3f6",
   "metadata": {},
   "source": [
    "Hidden behind these symbols, the true meaning can be understood as such:\n",
    "\n",
    "- Let B be some hypothesis we want to test the probability of. We cannot directly observe hypothesis so we have to make an inference about it. For example the event of raining tomorrow may be an hypothesis, we cannot directly observe tomorrow's rain today.\n",
    "- Let A be some evidence or data related to the hypothesis. We directly observe and measure the evidence, such as the meteorological conditions today\n"
   ]
  },
  {
   "cell_type": "markdown",
   "id": "c2019dbd-1b3d-4f4c-ab6f-495eb8aff7a4",
   "metadata": {},
   "source": [
    "So the Bayes's rule in plain English is:"
   ]
  },
  {
   "cell_type": "markdown",
   "id": "f97cb800-6ad4-4633-941c-ee2ece68a317",
   "metadata": {},
   "source": [
    "${\\displaystyle\\begin{align}\n",
    "The\\ (posterior)\\\\\n",
    "probability\\ of\\ hypothesis\n",
    "\\\\ given\\ evidence\n",
    "\\end{align} =\n",
    "\\frac{\n",
    "\\begin{align}\n",
    "The\\ prior\\ probability && * && The\\ likelihood\\ of\\ evidence\\\\\n",
    "of\\ hypothesis && && given\\ the\\ hypothesis\n",
    "\\end{align}}{\\mathit{The\\ probability\\ of\\ evidence}}}$"
   ]
  },
  {
   "cell_type": "markdown",
   "id": "6c5c0f0e-03cb-4e95-8d88-9d0f2481f13d",
   "metadata": {},
   "source": [
    "In Bayesian updating, we begin with a prior probability for the hypothesis. With additional evidence gathered, the prior probability is updated to infer the posterior probability"
   ]
  },
  {
   "cell_type": "markdown",
   "id": "84e22b09-c064-42ca-acc1-53921b74eb7d",
   "metadata": {},
   "source": [
    "Ususally we have two or more alternative hypotheses and probability of evidence is weighted by the prior probabilities of those hypotheses.\n",
    "\n",
    "Let's assume that the alternative hypothesis of B is B'. Then $P(A)$ is:"
   ]
  },
  {
   "cell_type": "markdown",
   "id": "b9f5c164-c511-45b4-91e3-5df9faca06c1",
   "metadata": {},
   "source": [
    "$P(A) = P(B)P(A | B) + P(B')P(A | B')$"
   ]
  },
  {
   "cell_type": "markdown",
   "id": "d9bbe2e3-7d52-4860-bcce-6c71eb4b8e6d",
   "metadata": {},
   "source": [
    "### Test for disease example"
   ]
  },
  {
   "cell_type": "markdown",
   "id": "80eb8ffd-7ebe-4221-aede-8d67ea6517fc",
   "metadata": {},
   "source": [
    "A very famous type of problem in Bayesian inference is the disease test problem.\n",
    "\n",
    "Here our subject is a rare disease and a less than perfect diagnosis test for the disease.\n",
    "\n",
    "We start from \n",
    "- The probability of disease\n",
    "- Probability of true positive result given the disease\n",
    "- Probability of false positive result given the absence of disease\n",
    "\n",
    "and we want to infer the probability of having the disease given a positive test result."
   ]
  },
  {
   "cell_type": "markdown",
   "id": "849a9216-946c-431a-a6bb-dcad83d5f283",
   "metadata": {},
   "source": [
    "> Someone visits the doctor because he fears having a\n",
    "very rare disease. This disease occurs in only 0.1% of the population.\n",
    "The doctor proposes a test that correctly identifies 99% of the people\n",
    "who have the disease, and only incorrectly identifies 1% of the people\n",
    "who don’t have the disease.\n",
    "Suppose the person in question has\n",
    "tested positive.\n",
    "What is the probability that he actually has the\n",
    "disease? How does the answer change if a second\n",
    "independent test is also positive?\n",
    "\n",
    "(Tijms 2023, A First Course In Probability For Computer And Data Science, Problem 2.29, p 38)"
   ]
  },
  {
   "cell_type": "code",
   "execution_count": null,
   "id": "b343d120-4290-46e6-aba6-49194604e92f",
   "metadata": {},
   "outputs": [],
   "source": [
    "pb <- 0.001 # P(B), the prior probability of disease hypothesis"
   ]
  },
  {
   "cell_type": "code",
   "execution_count": null,
   "id": "d492e560-e0af-48b2-9b32-1e4f9ac8c160",
   "metadata": {},
   "outputs": [],
   "source": [
    "pab <- 0.99 # P(A|B), the probability of true positive result given disease"
   ]
  },
  {
   "cell_type": "code",
   "execution_count": null,
   "id": "35a114c4-b374-4b7d-8fd3-74214d769271",
   "metadata": {},
   "outputs": [],
   "source": [
    "panb <- 0.01 # P(A|B'), the probability of false positive result given absence of disease - the alternative hypothesis"
   ]
  },
  {
   "cell_type": "code",
   "execution_count": null,
   "id": "bcab5ad3-44d5-4d67-a9f8-c3cbd8937f97",
   "metadata": {},
   "outputs": [],
   "source": [
    "pnb <- 1 - pb # P(B'), the probability of not having the disease"
   ]
  },
  {
   "cell_type": "markdown",
   "id": "a4c4bb62-a3de-4f29-9d05-938f52fd0923",
   "metadata": {},
   "source": [
    "We want to find out:\n",
    "\n",
    "${\\displaystyle P(B | A) = \\frac{P(B)P(A | B)}{P(B)P(A | B) + P(B')P(A | B')}}$"
   ]
  },
  {
   "cell_type": "code",
   "execution_count": null,
   "id": "b132a234-5213-495f-adbd-0c957e61dfef",
   "metadata": {},
   "outputs": [],
   "source": [
    "pba <- (pb * pab) / (pb * pab + pnb * panb)"
   ]
  },
  {
   "cell_type": "code",
   "execution_count": null,
   "id": "cfd994c2-7ded-425e-b2c2-6f15be9deaad",
   "metadata": {},
   "outputs": [],
   "source": [
    "pba # P(B|A), the posterior probability of having the disease given a positive test result"
   ]
  },
  {
   "cell_type": "markdown",
   "id": "9dd630be-17b5-471f-ac06-14e7f93a32f8",
   "metadata": {},
   "source": [
    "So for a quite rare disease, even a quite accurate test points at a correct positive diagnosis only 9.02% of the time in this example"
   ]
  },
  {
   "cell_type": "markdown",
   "id": "e9befc92-9322-42a9-9d22-fb19aff977cd",
   "metadata": {},
   "source": [
    "Now the usefulness of Bayesian methods lies in the fact that, our posterior can serve as the new prior, in case we continue collecting new evidence.\n",
    "\n",
    "Let's come to the second part of the problem. We are conducting a second test and the result is positive again."
   ]
  },
  {
   "cell_type": "code",
   "execution_count": null,
   "id": "274aec16-501c-4faf-8b77-5ef568f23711",
   "metadata": {},
   "outputs": [],
   "source": [
    "pb <- pba # the previous posterior P(B|A) becomes the new prior P(B)\n",
    "pb"
   ]
  },
  {
   "cell_type": "code",
   "execution_count": null,
   "id": "0aaf2bf8-cec7-4d54-8ca1-89452a27e095",
   "metadata": {},
   "outputs": [],
   "source": [
    "pnb <- 1 - pb # the new P(B')\n",
    "pnb"
   ]
  },
  {
   "cell_type": "code",
   "execution_count": null,
   "id": "fa39a4c3-8f1b-491b-b070-4fb21dae01cb",
   "metadata": {},
   "outputs": [],
   "source": [
    "pba <- (pb * pab) / (pb * pab + pnb * panb)"
   ]
  },
  {
   "cell_type": "code",
   "execution_count": null,
   "id": "6350cd44-7bbc-4bc7-902b-a73c53a392a4",
   "metadata": {},
   "outputs": [],
   "source": [
    "pba"
   ]
  },
  {
   "cell_type": "markdown",
   "id": "06715189-65fb-43d2-b766-bd463b9314ad",
   "metadata": {},
   "source": [
    "After the second positive result, our new posterior probability of having the disease is now 90.75%"
   ]
  },
  {
   "cell_type": "markdown",
   "id": "a8cf00f5-b60f-488f-a4ad-9320112db24c",
   "metadata": {},
   "source": [
    "### Monty Hall problem"
   ]
  },
  {
   "cell_type": "markdown",
   "id": "c37b8597-5526-4e3d-9d40-5e255c42582f",
   "metadata": {},
   "source": [
    "<img src=\"../imagesba/montyhall.jpg\" width=\"500\"/>"
   ]
  },
  {
   "cell_type": "markdown",
   "id": "9665131d-7042-4b8b-9c3c-1d621af27d67",
   "metadata": {},
   "source": [
    "A famous problem which caused quite a lot of discussions in the past goes like that:\n",
    "\n",
    "> Suppose you’re on a game show, and you’re given the choice of three doors: Behind one door is a car; behind the others, goats. You pick a door, say No. 1, and the host, who knows what’s behind the doors, opens another door, say No. 3, which has a goat. He then says to you, ‘Do you want to pick door No. 2?’ Is it to your advantage to switch your choice?”\n",
    "\n",
    "(https://blogs.cornell.edu/info2040/2022/11/10/the-monty-hall-problem-using-bayes-theorem/)"
   ]
  },
  {
   "cell_type": "markdown",
   "id": "c4dca280-646f-4e8b-abfc-17df1a915c3d",
   "metadata": {},
   "source": [
    "Let's formalize this problem within Bayesian context"
   ]
  },
  {
   "cell_type": "markdown",
   "id": "5a60c0d6-8222-4ed1-94a3-a08b5ab1f850",
   "metadata": {},
   "source": [
    "Suppose we have three alternative hypotheses, each equally likely a priori:\n",
    "\n",
    "- Car is behind door A, $P(A) = 1/3$\n",
    "- Car is behind door B, $P(B) = 1/3$\n",
    "- Car is behind door C, $P(C) = 1/3$    "
   ]
  },
  {
   "cell_type": "markdown",
   "id": "2d22972a-e166-4ae9-92fd-e0730e362191",
   "metadata": {},
   "source": [
    "Let's say we pick the door A, and the host - named Monty - reveals the goat behind door B. Note that Monty always open a door that hides a goat behind, not a car!\n",
    "\n",
    "The likelihood of the evidence (goat behind opened door B) given three hypotheses are as follows:\n",
    "\n",
    "- $P(openB | A) = 1/2$ since the car is behind A and we have already chosen door A, Monty should open either door B or door C, with goats behind, equally likely\n",
    "- $P(openB | B) = 0$ since the car is behind B there is no way Monty can open that door\n",
    "- $P(openB | C) = 1$ since the car is behind C and we opened door A, the only option for Monty is to open door C"
   ]
  },
  {
   "cell_type": "markdown",
   "id": "20603ac7-26f1-4164-9c17-b3e28c0f26bc",
   "metadata": {},
   "source": [
    "So the formulations is:\n",
    "\n",
    "The probability of opening door B:\n",
    "\n",
    "$P(openB) = P(openB|A)P(A) + P(openB|B)P(B) + P(openB|C)P(C)$\n",
    "\n",
    "The probability of car behind A given B is opened:\n",
    "\n",
    "${\\displaystyle P(A | openB) = \\frac{P(openB|A)P(A)}{P(openB)}}$\n",
    "\n",
    "The probability of car behind C given B is opened:\n",
    "\n",
    "${\\displaystyle P(C | openB) = \\frac{P(openB|C)P(C)}{P(openB)}}$"
   ]
  },
  {
   "cell_type": "markdown",
   "id": "65ed42ef-0804-44e1-8ae8-eb77e8ca3780",
   "metadata": {},
   "source": [
    "First the priors for hypotheses:"
   ]
  },
  {
   "cell_type": "code",
   "execution_count": null,
   "id": "b659db7b-2684-45e2-b553-0dc15118c329",
   "metadata": {},
   "outputs": [],
   "source": [
    "priorMH <- fractions(rep(1/3, 3))\n",
    "names(priorMH) <- LETTERS[1:3]\n",
    "priorMH"
   ]
  },
  {
   "cell_type": "markdown",
   "id": "554cb7bb-9205-4dfa-ae32-7e835d618d71",
   "metadata": {},
   "source": [
    "The likelihoods, probability of evidence conditional on hypotheses:"
   ]
  },
  {
   "cell_type": "code",
   "execution_count": null,
   "id": "9cb0c50e-d639-44a1-9d34-1c6a4087a53b",
   "metadata": {},
   "outputs": [],
   "source": [
    "likelihoodOB <- fractions(c(1/2, 0, 1))\n",
    "names(likelihoodOB) <- LETTERS[1:3]\n",
    "likelihoodOB"
   ]
  },
  {
   "cell_type": "markdown",
   "id": "8cf72b23-0a7a-42ff-9c99-6fe68e6fc5ea",
   "metadata": {},
   "source": [
    "Probability of evidence:"
   ]
  },
  {
   "cell_type": "code",
   "execution_count": null,
   "id": "fd063db7-e13d-4cda-b5cd-843c608adea6",
   "metadata": {},
   "outputs": [],
   "source": [
    "OB <- sum(priorMH * likelihoodOB)\n",
    "OB"
   ]
  },
  {
   "cell_type": "markdown",
   "id": "ebc3dae3-4f95-473e-9eab-75e90f87e97c",
   "metadata": {},
   "source": [
    "And the posterior probabilities of hypotheses given the evidence:"
   ]
  },
  {
   "cell_type": "code",
   "execution_count": null,
   "id": "8c51da15-ecce-4a96-98f9-ce176d062451",
   "metadata": {},
   "outputs": [],
   "source": [
    "posteriorMH <- priorMH * likelihoodOB / OB\n",
    "names(posteriorMH) <- LETTERS[1:3]"
   ]
  },
  {
   "cell_type": "code",
   "execution_count": null,
   "id": "cf68d1fe-f6d9-4728-9b3f-7e9e3007d5d1",
   "metadata": {},
   "outputs": [],
   "source": [
    "posteriorMH"
   ]
  },
  {
   "cell_type": "markdown",
   "id": "54f5d321-dd22-4475-92d4-905be73f9f24",
   "metadata": {},
   "source": [
    "As you see, sticking with door A, chance of revealing the car is $1/3$ while switching the door to C will double the chance to $2/3$\n",
    "\n",
    "Why?\n",
    "\n",
    "Because Monty does not open a door randomly, he opens a door which reveals a goat behind CONDITIONING on the hypotheses (whether car is behind) so while the priors are equiprobable the likelihoods are not!"
   ]
  },
  {
   "cell_type": "markdown",
   "id": "6ff8f448-7027-46a7-bc2a-48c3593bc873",
   "metadata": {},
   "source": [
    "### Bayesian resources"
   ]
  },
  {
   "cell_type": "markdown",
   "id": "7a4355b8-1665-4a8e-8216-a477a9929d3b",
   "metadata": {},
   "source": [
    "Two great non-technical introductions to Bayesian methods are:\n",
    "\n",
    "- \"The theory that would not die\" by Sharon Bertsch McGrayne (2011)\n",
    "- \"Bernoulli's Fallacy: Statistical Illogic and the Crisis of Modern Science\" by Aubrey Clayton (2021)\n",
    "\n",
    "Two great technical resources on Bayesian methods are:\n",
    "\n",
    "- \"Statistical rethinking: a Bayesian course with examples in R and Stan\" by Richard McElreath (2020)\n",
    "- \"Doing Bayesian data analysis: a tutorial with R, JAGS, and Stan\" by John K. Kruschke (2015)"
   ]
  },
  {
   "cell_type": "markdown",
   "id": "d5b3e3f3-1342-4c85-837c-97a03b48c1fd",
   "metadata": {},
   "source": [
    "At first you may be reluctant to step outside the comfort zone provided by frequentist statistic methods, but the more you learn about Bayesian methods, the more you will love them:"
   ]
  },
  {
   "cell_type": "markdown",
   "id": "2085f103-5d14-46ab-9299-2fc089d8667b",
   "metadata": {},
   "source": [
    "<video src=\"../imagesba/pekyakinda.mp4\"  \n",
    "       controls width=\"1000\">\n",
    "</video>\n",
    "\n",
    "(https://www.youtube.com/@fikirsanat?sub_confirmation=1)\n",
    "\n",
    "(https://www.netflix.com/tr-en/title/80231065)\n",
    "\n",
    "(https://tvplus.com.tr/film-izle/pek-yakinda--146942564)\n",
    "\n",
    "(https://tv.apple.com/tr/movie/pek-yak%C4%B1nda/umc.cmc.47tfbqdubgsyanfuh6m97eonu)\n",
    "\n"
   ]
  },
  {
   "cell_type": "markdown",
   "id": "aafa25f2-00ce-4076-a64d-41bfd1c12428",
   "metadata": {},
   "source": [
    "# Random variable, expected value, variance, standard deviation"
   ]
  },
  {
   "cell_type": "markdown",
   "id": "32c1fc02-c6cc-4d03-976a-50b6364745f0",
   "metadata": {},
   "source": [
    "Now let's come to the concept of random variable, revisiting chance experiment and sample space concepts:\n",
    "\n",
    "> Formally, a random variable is defined as a function\n",
    "that assigns a numerical value to each element of the sample space.\n",
    "The observed value, or realization, of a random variable is completely\n",
    "determined by the realized outcome of the chance experiment, and\n",
    "consequently, probabilities can be assigned to the possible values of\n",
    "the random variable. A random variable gets its value only after the\n",
    "chance experiment has been done. Before the chance experiment is\n",
    "done, you can only speak of the probability that the random variable\n",
    "will take on a particular value.\n",
    "\n",
    "> Discrete random variables take on a discrete number of values\n",
    "\n",
    "> Continuous random variables take on a continuum of values.\n",
    "\n",
    "(Tijms 2023, A First Course In Probability For Computer And Data Science, p. 47-48)\n",
    "\n",
    "Probability mass function is the probability distribution of a discrete random variable, and provides the possible values and their associated probabilities.\n",
    "\n",
    "The probabilities associated with all (hypothetical) values must be non-negative and sum up to 1,\n",
    "\n",
    "${\\displaystyle \\sum _{x}p_{X}(x)=1}$\n",
    "\n",
    "and\n",
    "\n",
    "${\\displaystyle p_{X}(x)\\geq 0.}$\n",
    "\n",
    "(https://en.wikipedia.org/wiki/Probability_mass_function)\n",
    "\n",
    "You can recall the last two formulas from the probability axioms at the beginning of the notebook."
   ]
  },
  {
   "cell_type": "markdown",
   "id": "9b4f47d1-4717-4b92-838c-2be20d838b8d",
   "metadata": {},
   "source": [
    "**Example:**\n",
    "\n",
    "What is the probability mass function of the random variable X denoting the sum of one roll of two fair dice?\n",
    "\n",
    "(Tijms 2023, A First Course In Probability For Computer And Data Science, p. 48)"
   ]
  },
  {
   "cell_type": "markdown",
   "id": "95f2a492-ed52-4abe-a016-53f2ddfbf320",
   "metadata": {},
   "source": [
    "We can enumarate and count the possible sums:"
   ]
  },
  {
   "cell_type": "markdown",
   "id": "deefd3f3-4110-4caf-bd31-1c7175736197",
   "metadata": {},
   "source": [
    "Get sums of 36 2-permutations:"
   ]
  },
  {
   "cell_type": "code",
   "execution_count": null,
   "id": "0cae9f9c-21dc-474a-b89d-08ffc33791be",
   "metadata": {},
   "outputs": [],
   "source": [
    "dicevals <- permutations(6, 2, repeats.allowed = T)"
   ]
  },
  {
   "cell_type": "code",
   "execution_count": null,
   "id": "35e2d4ab-fb24-49f9-920b-19fd833a9802",
   "metadata": {},
   "outputs": [],
   "source": [
    "sums <- rowSums(dicevals)"
   ]
  },
  {
   "cell_type": "markdown",
   "id": "e6b305f7-283a-4cec-95ef-071468ea0f98",
   "metadata": {},
   "source": [
    "Get the prob table in fractions:"
   ]
  },
  {
   "cell_type": "code",
   "execution_count": null,
   "id": "57d47c25-d3de-49a6-aa75-4829c79efc2c",
   "metadata": {},
   "outputs": [],
   "source": [
    "probs <- fractions(prop.table(table(sums)))"
   ]
  },
  {
   "cell_type": "markdown",
   "id": "af288e31-e707-4e3a-bcf5-bfd0f3af24e3",
   "metadata": {},
   "source": [
    "No need for the dimension name:"
   ]
  },
  {
   "cell_type": "code",
   "execution_count": null,
   "id": "dde12c56-f1ca-4e8d-82fa-96d995059430",
   "metadata": {},
   "outputs": [],
   "source": [
    "names(dimnames(probs)) <- NULL"
   ]
  },
  {
   "cell_type": "code",
   "execution_count": null,
   "id": "7a552e0b-e14d-44cb-8fa7-3372180c95d3",
   "metadata": {},
   "outputs": [],
   "source": [
    "probs"
   ]
  },
  {
   "cell_type": "markdown",
   "id": "a99b4067-546b-4752-8958-941145f9ffaf",
   "metadata": {},
   "source": [
    "They sum up to 1:"
   ]
  },
  {
   "cell_type": "code",
   "execution_count": null,
   "id": "35a6335b-3f58-43a3-8d10-3a9ae865dc88",
   "metadata": {},
   "outputs": [],
   "source": [
    "sum(probs)"
   ]
  },
  {
   "cell_type": "markdown",
   "id": "f257fa8a-03d2-4d51-ae67-8495f4b9984b",
   "metadata": {},
   "source": [
    "And we see that the probability mass function has a symmetric triangle shape, maximum in the middle:"
   ]
  },
  {
   "cell_type": "code",
   "execution_count": null,
   "id": "a3f560b8-750b-4d3d-8047-dcde93ae5b7d",
   "metadata": {},
   "outputs": [],
   "source": [
    "plot(names(probs), as.numeric(probs), type = \"l\")"
   ]
  },
  {
   "cell_type": "markdown",
   "id": "fca0ddd7-8fcc-419c-8bea-f063b021222b",
   "metadata": {},
   "source": [
    "We can also confirm by simulation:"
   ]
  },
  {
   "cell_type": "code",
   "execution_count": null,
   "id": "dc1cb2a2-d1ca-409a-84fa-910a5e5c45e0",
   "metadata": {},
   "outputs": [],
   "source": [
    "set.seed(5)\n",
    "dicesimul <- matrix(sample(6, 1e5, replace = T), ncol = 2)"
   ]
  },
  {
   "cell_type": "code",
   "execution_count": null,
   "id": "ae6dfacb-853b-45cc-a65e-3b826d9e34e7",
   "metadata": {},
   "outputs": [],
   "source": [
    "dicesimulsum <- rowSums(dicesimul)"
   ]
  },
  {
   "cell_type": "code",
   "execution_count": null,
   "id": "31d09b92-bed6-456f-bc92-b0764f98e07b",
   "metadata": {},
   "outputs": [],
   "source": [
    "table(dicesimulsum)"
   ]
  },
  {
   "cell_type": "code",
   "execution_count": null,
   "id": "6e5e73e7-d53b-4594-a1bd-9c0667da6025",
   "metadata": {},
   "outputs": [],
   "source": [
    "hist(dicesimulsum)"
   ]
  },
  {
   "cell_type": "markdown",
   "id": "9a70df14-12be-46e0-bd9d-46ed2ca515a6",
   "metadata": {},
   "source": [
    "## Expected value"
   ]
  },
  {
   "cell_type": "markdown",
   "id": "c71cee73-aab1-446c-bf04-44f71c10fe72",
   "metadata": {},
   "source": [
    "For a discrete random variable with n distinct values the **expected value** (or *mean* or *average*) is the sum of the values weighted by their respective probabilities:\n",
    "\n",
    "${\\displaystyle \\operatorname {E} [X]=\\sum _{i=1}^nx_{i}\\,p_{i},}$"
   ]
  },
  {
   "cell_type": "markdown",
   "id": "d63d6932-6ad4-4ca8-a9ca-a3ac684f8a0b",
   "metadata": {},
   "source": [
    "For our previous example, the expected value is:"
   ]
  },
  {
   "cell_type": "code",
   "execution_count": null,
   "id": "3c64cf2d-7fa5-4e40-b258-8819c0751d7d",
   "metadata": {},
   "outputs": [],
   "source": [
    "sum(probs * 2:12)"
   ]
  },
  {
   "cell_type": "markdown",
   "id": "151640b3-f46d-4d7d-8951-a936c5e8c38d",
   "metadata": {},
   "source": [
    "Which is where the tip of the triangle denoting the probability mass functions is"
   ]
  },
  {
   "cell_type": "markdown",
   "id": "64d7918e-2ca5-4c14-9963-e3f70baa92c1",
   "metadata": {},
   "source": [
    "A useful property of expected value is the linearity of expectations:\n",
    "\n",
    "> For any random variables \n",
    "${\\displaystyle X}$ and ${\\displaystyle Y}$ and a constant constant \n",
    "${\\displaystyle a,}$\n",
    "$${\\displaystyle {\\begin{aligned}\\operatorname {E} [X+Y]&=\\operatorname {E} [X]+\\operatorname {E} [Y],\\\\\\operatorname {E} [aX]&=a\\operatorname {E} [X],\\end{aligned}}}$$\n",
    "\n",
    "(https://en.wikipedia.org/wiki/Expected_value) "
   ]
  },
  {
   "cell_type": "markdown",
   "id": "c2a2ee96-17e4-4509-b46e-f4740c501b31",
   "metadata": {},
   "source": [
    "Let's define some constants for two columns denoting the values of each die:"
   ]
  },
  {
   "cell_type": "code",
   "execution_count": null,
   "id": "0589eeef-55ce-4b9e-9833-2b2b6ce828a2",
   "metadata": {},
   "outputs": [],
   "source": [
    "diceconst <- c(3, 4)"
   ]
  },
  {
   "cell_type": "markdown",
   "id": "0255d5d8-6247-4054-832b-878d4fe525df",
   "metadata": {},
   "source": [
    "Let's get the expected values of each column:"
   ]
  },
  {
   "cell_type": "code",
   "execution_count": null,
   "id": "4131c9da-6779-4cf9-b5fa-39cfe8f8e6f4",
   "metadata": {},
   "outputs": [],
   "source": [
    "meandice <- colMeans(dicevals)\n",
    "meandice"
   ]
  },
  {
   "cell_type": "markdown",
   "id": "2f60812a-3229-4e1a-8c9a-5caaf41cc1db",
   "metadata": {},
   "source": [
    "Let's define a third column a linear combination of these two columns multiplied with the constants:"
   ]
  },
  {
   "cell_type": "code",
   "execution_count": null,
   "id": "d956a056-e529-4705-a4ca-a9e5fa120c6d",
   "metadata": {},
   "outputs": [],
   "source": [
    "newcol <- rowSums(t(t(dicevals) * diceconst))"
   ]
  },
  {
   "cell_type": "markdown",
   "id": "ec444ec0-f9f2-4b3e-bf76-20bde500fa3c",
   "metadata": {},
   "source": [
    "Calculate the expected value of this new column:"
   ]
  },
  {
   "cell_type": "code",
   "execution_count": null,
   "id": "88d8573e-b9d2-41e3-82e4-f2fb505add93",
   "metadata": {},
   "outputs": [],
   "source": [
    "mean(newcol)"
   ]
  },
  {
   "cell_type": "markdown",
   "id": "f117bd01-e11a-44d5-ba03-35753fb21174",
   "metadata": {},
   "source": [
    "And confirm by the linearity of expectations:"
   ]
  },
  {
   "cell_type": "code",
   "execution_count": null,
   "id": "a98953be-0693-42d3-ac70-c133268689b7",
   "metadata": {},
   "outputs": [],
   "source": [
    "sum(meandice * diceconst)"
   ]
  },
  {
   "cell_type": "markdown",
   "id": "13870a04-6512-4c1e-aad2-23009edaa05e",
   "metadata": {},
   "source": [
    "This property is very useful and will be a basis of the distribution of sample means and the square root law later in hypothesis testing and inference"
   ]
  },
  {
   "cell_type": "markdown",
   "id": "0aff4ce9-d8ee-46e4-b1c6-1921a0a1180b",
   "metadata": {},
   "source": [
    "## Law of large numbers"
   ]
  },
  {
   "cell_type": "markdown",
   "id": "fc453e50-5018-4751-b8c5-ae855bbf300d",
   "metadata": {},
   "source": [
    "The law of large numbers is a mathematical law that states that the average of the results obtained from a large number of independent random samples converges to the true value, if it exists:\n",
    "\n",
    "${\\displaystyle {\\overline {X}}_{n}={\\frac {1}{n}}(X_{1}+\\cdots +X_{n})}$\n",
    "\n",
    "converges to the expected value:\n",
    "\n",
    "${\\displaystyle {\\overline {X}}_{n}\\to \\mu \\quad {\\textrm {as}}\\ n\\to \\infty .}$\n",
    "\n",
    "(https://en.wikipedia.org/wiki/Law_of_large_numbers)"
   ]
  },
  {
   "cell_type": "markdown",
   "id": "58c33954-4ced-416d-9668-4f11d83d48a2",
   "metadata": {},
   "source": [
    "The previous example of coin tosses showed that convergence to some extent but in that simulation the number of trials were capped at 100. The simulated dice rolls data can demonstrate the fact since the number of rolls is 10,000. "
   ]
  },
  {
   "cell_type": "code",
   "execution_count": null,
   "id": "5e62e516-2f99-4e0b-bb6c-8331eaa9294c",
   "metadata": {},
   "outputs": [],
   "source": [
    "plot(cummean(dicesimulsum), type = \"l\")\n",
    "abline(h = 7, col = \"red\")"
   ]
  },
  {
   "cell_type": "markdown",
   "id": "91ba9d39-5eea-4409-9815-ebbe85ba0285",
   "metadata": {},
   "source": [
    "## Variance and standard deviation"
   ]
  },
  {
   "cell_type": "markdown",
   "id": "1b05d7c9-1b70-43fe-bafb-e46f6c9d3df9",
   "metadata": {},
   "source": [
    "Variance is a measure of dispersion, meaning it is a measure of how far a set of numbers is spread out from their average value.\n",
    "\n",
    "The variance of a random variable ${\\displaystyle X}$ is the expected value of the squared deviation from the mean of \n",
    "${\\displaystyle X}$, ${\\displaystyle \\mu =\\operatorname {E} [X]}$\n",
    "\n",
    "${\\displaystyle {\\begin{aligned}\\operatorname {Var} (X)&=\\operatorname {E} \\left[(X-\\mu )^{2}\\right]\\\\[4pt]&=\\operatorname {E} \\left[X^{2}\\right]-\\operatorname {E} [X]^{2}\\end{aligned}}}$\n",
    "\n",
    "(https://en.wikipedia.org/wiki/Variance)"
   ]
  },
  {
   "cell_type": "markdown",
   "id": "4b7c10f7-2747-4742-b3ae-58b0b0d46692",
   "metadata": {},
   "source": [
    "For the case of dice sums:"
   ]
  },
  {
   "cell_type": "markdown",
   "id": "8e1bf278-7a39-4b33-89ef-aa7b60d093fa",
   "metadata": {},
   "source": [
    "The expected value is:"
   ]
  },
  {
   "cell_type": "code",
   "execution_count": null,
   "id": "f106d4be-8f08-4a4d-a7c5-c400e57088aa",
   "metadata": {},
   "outputs": [],
   "source": [
    "meandice <- sum(probs * 2:12)\n",
    "meandice"
   ]
  },
  {
   "cell_type": "markdown",
   "id": "be9eab2e-183f-4244-81b4-088080cac0a1",
   "metadata": {},
   "source": [
    "And the variance:"
   ]
  },
  {
   "cell_type": "code",
   "execution_count": null,
   "id": "34a77ea1-6892-4a3b-aedf-c09918e6f6ca",
   "metadata": {},
   "outputs": [],
   "source": [
    "vardice <- sum(probs * (2:12)^2) - meandice^2\n",
    "vardice"
   ]
  },
  {
   "cell_type": "markdown",
   "id": "92f458d3-350c-405f-b629-724a462f2e06",
   "metadata": {},
   "source": [
    "Later on when we are discussing the topics of sampling and hypothesis testing, the difference between the definition of sample and population variances will also be shown. For the time being, we are doing the calculations on the whole sample space, so the variance we are calculating is the population variance."
   ]
  },
  {
   "cell_type": "markdown",
   "id": "42bad532-222d-4bec-8520-1e926ad5dc0e",
   "metadata": {},
   "source": [
    "The **standard deviation** (SD) is obtained as the square root of the variance. While variance is the average of squared differences between the values and the mean, standard deviation is is expressed in the same unit as the data.\n",
    "\n",
    "(https://en.wikipedia.org/wiki/Standard_deviation)"
   ]
  },
  {
   "cell_type": "code",
   "execution_count": null,
   "id": "4e3d143c-c56b-4a6a-8901-df2dd0832d59",
   "metadata": {},
   "outputs": [],
   "source": [
    "sqrt(as.numeric(vardice))"
   ]
  },
  {
   "cell_type": "markdown",
   "id": "95b6ceb0-e717-4685-81ef-c8345d4eb4e9",
   "metadata": {},
   "source": [
    "Before we mention the properties of variance, it is useful to define covariance.\n",
    "\n",
    "Covariance is a measure of the joint variability of two random variables.\n",
    "\n",
    "Covariance is defined as the expected value (or mean) of the product of their deviations from their individual expected values:\n",
    "\n",
    "${\\displaystyle {\\begin{aligned}\\operatorname {cov} (X,Y)&=\\operatorname {E} \\left[\\left(X-\\operatorname {E} \\left[X\\right]\\right)\\left(Y-\\operatorname {E} \\left[Y\\right]\\right)\\right]\\\\&=\\operatorname {E} \\left[XY\\right]-\\operatorname {E} \\left[X\\right]\\operatorname {E} \\left[Y\\right].\\end{aligned}}}$\n",
    "\n",
    "(https://en.wikipedia.org/wiki/Covariance)"
   ]
  },
  {
   "cell_type": "markdown",
   "id": "a1b3a8f7-3f5e-4c0f-b0bf-1c0f8645fbb5",
   "metadata": {},
   "source": [
    "A related concept is correlation coefficient.\n",
    "\n",
    "(Pearson) correlation coefficient is a correlation coefficient that measures linear correlation between two sets of data.\n",
    "\n",
    "It is the ratio between the covariance of two variables and the product of their standard deviations; thus, it is essentially a normalized measurement of the covariance, such that the result always has a value between −1 and 1. \n",
    "\n",
    "${\\displaystyle \\rho _{X,Y}={\\frac {\\operatorname {cov} (X,Y)}{\\sigma _{X}\\sigma _{Y}}}}$\n",
    "\n",
    "where\n",
    "\n",
    "- ${\\displaystyle \\operatorname {cov} }$ is the covariance\n",
    "- ${\\displaystyle \\sigma _{X}}$ is the standard deviation of $X$\n",
    "- ${\\displaystyle \\sigma _{Y}}$ is the standard deviation of $Y$\n",
    "  \n",
    "(https://en.wikipedia.org/wiki/Pearson_correlation_coefficient)"
   ]
  },
  {
   "cell_type": "markdown",
   "id": "3f26fdce-156b-4e02-a38a-5ea06324bc51",
   "metadata": {},
   "source": [
    "Let's start with two dice independently rolled:"
   ]
  },
  {
   "cell_type": "code",
   "execution_count": null,
   "id": "9a2d6119-bd08-405f-a491-2a318cc0797b",
   "metadata": {},
   "outputs": [],
   "source": [
    "dicex1 <- permutations(6, 2, repeats.allowed = T)"
   ]
  },
  {
   "cell_type": "markdown",
   "id": "704eb130-28fe-4f01-b70e-25051943c63d",
   "metadata": {},
   "source": [
    "Means of each dice:"
   ]
  },
  {
   "cell_type": "code",
   "execution_count": null,
   "id": "1532fad4-7a44-4fcc-98a0-5b1d994f6bf7",
   "metadata": {},
   "outputs": [],
   "source": [
    "dicemean1 <- colMeans(dicex1)\n",
    "dicemean1"
   ]
  },
  {
   "cell_type": "markdown",
   "id": "5d5057cf-8cbc-4536-8a7f-84c3a1c8cf56",
   "metadata": {},
   "source": [
    "With the first equation:"
   ]
  },
  {
   "cell_type": "code",
   "execution_count": null,
   "id": "a412c911-cafe-4f59-9c5f-f3f3ef9c798f",
   "metadata": {},
   "outputs": [],
   "source": [
    "dicecov1a <- sum(apply(t(t(dicex1) - dicemean1), 1, prod))\n",
    "dicecov1a"
   ]
  },
  {
   "cell_type": "markdown",
   "id": "000bfb79-7838-4fd0-b21e-5cdf657488a2",
   "metadata": {},
   "source": [
    "With the second equation:"
   ]
  },
  {
   "cell_type": "code",
   "execution_count": null,
   "id": "778e5ccf-db2f-4fb4-87c3-9c647e9b244b",
   "metadata": {},
   "outputs": [],
   "source": [
    "dicecov1b <- mean(apply(dicex1, 1, prod)) - prod(dicemean1)\n",
    "dicecov1b"
   ]
  },
  {
   "cell_type": "markdown",
   "id": "d1f6e2fb-060d-49d8-a8e7-b346ada5868f",
   "metadata": {},
   "source": [
    "The standard deviations are:"
   ]
  },
  {
   "cell_type": "code",
   "execution_count": null,
   "id": "bef84057-eb23-4aca-95f8-2852afb0dc0a",
   "metadata": {},
   "outputs": [],
   "source": [
    "dicesd1 <- sqrt(colMeans(t(t(dicex1) - dicemean1)^2))\n",
    "dicesd1"
   ]
  },
  {
   "cell_type": "markdown",
   "id": "5c15f958-ad88-4d88-aa9e-c84a297694d2",
   "metadata": {},
   "source": [
    "And the correlation coefficient between the dice outcomes is:"
   ]
  },
  {
   "cell_type": "code",
   "execution_count": null,
   "id": "0bb69717-7501-4d24-b2e9-24967ff57e2a",
   "metadata": {},
   "outputs": [],
   "source": [
    "dicecov1b / prod(dicesd1)"
   ]
  },
  {
   "cell_type": "markdown",
   "id": "c9a074da-95fd-4a5c-a9d7-98b58e1061f4",
   "metadata": {},
   "source": [
    "This is quite obvious since the outcome of the two dice are totally independent."
   ]
  },
  {
   "cell_type": "markdown",
   "id": "862e8353-4047-413e-a5eb-70fa2d43c7ef",
   "metadata": {},
   "source": [
    "Now let's consider the case of drawing cards from the deck without replacement. Let's first start with a deck of 6 cards:"
   ]
  },
  {
   "cell_type": "code",
   "execution_count": null,
   "id": "9404061b-1d09-42d3-9d79-72705a6cdc5e",
   "metadata": {},
   "outputs": [],
   "source": [
    "dicex2 <- permutations(6, 2, repeats.allowed = F)"
   ]
  },
  {
   "cell_type": "markdown",
   "id": "80bd4f3a-7f84-4e86-900c-85a28d682d75",
   "metadata": {},
   "source": [
    "Expected values are:"
   ]
  },
  {
   "cell_type": "code",
   "execution_count": null,
   "id": "2bbe49fc-5386-4511-82bf-ff33bfa43e86",
   "metadata": {},
   "outputs": [],
   "source": [
    "dicemean2 <- colMeans(dicex2)\n",
    "dicemean2"
   ]
  },
  {
   "cell_type": "markdown",
   "id": "943c3a23-f68e-4841-9998-2f7ebc87521d",
   "metadata": {},
   "source": [
    "Covariance is:"
   ]
  },
  {
   "cell_type": "code",
   "execution_count": null,
   "id": "3454dbf6-67c7-4bd0-8738-85b2820014a6",
   "metadata": {},
   "outputs": [],
   "source": [
    "dicecov2b <- mean(apply(dicex2, 1, prod)) - prod(dicemean2)\n",
    "dicecov2b"
   ]
  },
  {
   "cell_type": "markdown",
   "id": "7e55f938-4a56-4b7d-b6b3-f8f7fc121d88",
   "metadata": {},
   "source": [
    "The standard deviations are:"
   ]
  },
  {
   "cell_type": "code",
   "execution_count": null,
   "id": "33144edf-d9e1-4bdc-b882-d043fdc21485",
   "metadata": {},
   "outputs": [],
   "source": [
    "dicesd2 <- sqrt(colMeans(t(t(dicex2) - dicemean2)^2))\n",
    "dicesd2"
   ]
  },
  {
   "cell_type": "markdown",
   "id": "e375eaab-6a31-46a7-8e54-c9c93e638034",
   "metadata": {},
   "source": [
    "And the correlation coefficient between the dice outcomes is:"
   ]
  },
  {
   "cell_type": "code",
   "execution_count": null,
   "id": "bde75881-0360-4ad7-a79a-14ff541b845e",
   "metadata": {},
   "outputs": [],
   "source": [
    "dicecov2b / prod(dicesd2)"
   ]
  },
  {
   "cell_type": "markdown",
   "id": "305e57cf-d82b-4f1c-a14a-21318f5378b2",
   "metadata": {},
   "source": [
    "Since two draws are dependent, the covariance and correlation is none zero now. When a higher value is drawn first, the second card has a lower value and vice versa, so the correlation coefficient is negative"
   ]
  },
  {
   "cell_type": "markdown",
   "id": "c9d4bd87-a463-40ef-954c-2a3f2602fff9",
   "metadata": {},
   "source": [
    "The correlation between the values of two draws are negative but the negative relationship is not very strong as can be seen from the scatterplot below:"
   ]
  },
  {
   "cell_type": "code",
   "execution_count": null,
   "id": "75e21dbc-90d9-4af3-9bdb-047ac9431ea6",
   "metadata": {},
   "outputs": [],
   "source": [
    "plot(dicex2)"
   ]
  },
  {
   "cell_type": "markdown",
   "id": "b32406c8-da15-44ae-91ca-6063da0f4fb3",
   "metadata": {},
   "source": [
    "Now, let's try a smaller deck of cards:"
   ]
  },
  {
   "cell_type": "code",
   "execution_count": null,
   "id": "6a4e70cd-4b56-4105-a3eb-1666a436a4e2",
   "metadata": {},
   "outputs": [],
   "source": [
    "dicex3 <- permutations(3, 2, repeats.allowed = F)"
   ]
  },
  {
   "cell_type": "markdown",
   "id": "49bd9f26-5c75-46b6-be52-a33bc5c23695",
   "metadata": {},
   "source": [
    "Expected values are:"
   ]
  },
  {
   "cell_type": "code",
   "execution_count": null,
   "id": "3780af8d-75b3-4420-a88e-6d7b4ae3f25f",
   "metadata": {},
   "outputs": [],
   "source": [
    "dicemean3 <- colMeans(dicex3)\n",
    "dicemean3"
   ]
  },
  {
   "cell_type": "markdown",
   "id": "9686447f-bbf7-403b-a07a-20b717f7a84b",
   "metadata": {},
   "source": [
    "Covariance is:"
   ]
  },
  {
   "cell_type": "code",
   "execution_count": null,
   "id": "1878e5ef-d4df-4938-b28a-9cf919784b60",
   "metadata": {},
   "outputs": [],
   "source": [
    "dicecov3b <- mean(apply(dicex3, 1, prod)) - prod(dicemean3)\n",
    "dicecov3b"
   ]
  },
  {
   "cell_type": "markdown",
   "id": "4363f66b-589c-4174-8d0a-63f3008c980b",
   "metadata": {},
   "source": [
    "The standard deviations are:"
   ]
  },
  {
   "cell_type": "code",
   "execution_count": null,
   "id": "923fbbf1-6c1b-4a1e-abf5-89d2d54d620a",
   "metadata": {},
   "outputs": [],
   "source": [
    "dicesd3 <- sqrt(colMeans(t(t(dicex3) - dicemean3)^2))\n",
    "dicesd3"
   ]
  },
  {
   "cell_type": "markdown",
   "id": "a9f80aeb-f6a5-4a89-ab27-f39530dde3de",
   "metadata": {},
   "source": [
    "And the correlation coefficient between the dice outcomes is:"
   ]
  },
  {
   "cell_type": "code",
   "execution_count": null,
   "id": "b094c35b-59c6-49e0-9602-faa7e305d274",
   "metadata": {},
   "outputs": [],
   "source": [
    "dicecov3b / prod(dicesd3)"
   ]
  },
  {
   "cell_type": "markdown",
   "id": "7f1a6537-7300-4db2-b2f1-97fafad7a116",
   "metadata": {},
   "source": [
    "Think about it:\n",
    "\n",
    "- When 3 is drawn in the first round, then either 1 or 2 will be drawn in the second round\n",
    "- When 1 is drawn in the first round, then either 2 or 3 will be drawn in the second round"
   ]
  },
  {
   "cell_type": "markdown",
   "id": "e1354606-9eda-494c-83c9-04718d904121",
   "metadata": {},
   "source": [
    "So the correlation coefficient is negative and the negative relatinship is strong in this case, as confirmed by the scatter plot below:"
   ]
  },
  {
   "cell_type": "code",
   "execution_count": null,
   "id": "e9bb502f-99b1-4033-bbfe-d1573c7404af",
   "metadata": {},
   "outputs": [],
   "source": [
    "plot(dicex3)"
   ]
  },
  {
   "cell_type": "markdown",
   "id": "ad0d47f0-4abb-4a1a-9aa6-343df3fd9e7e",
   "metadata": {},
   "source": [
    "Now that we have covered covariance and correlation, we can continue with the properties of variance:"
   ]
  },
  {
   "cell_type": "markdown",
   "id": "2ac7d72c-f5de-4cef-82ca-7cb2fb1fec40",
   "metadata": {},
   "source": [
    "Variance is invariant with respect to changes in a location parameter. That is, if a constant is added to all values of the variable, the variance is unchanged:\n"
   ]
  },
  {
   "cell_type": "markdown",
   "id": "9fb7ddb9-ae36-4674-a22c-f4de5163b2ce",
   "metadata": {},
   "source": [
    "${\\displaystyle \\operatorname {Var} (X+a)=\\operatorname {Var} (X).}$"
   ]
  },
  {
   "cell_type": "markdown",
   "id": "e9ea69cd-3578-421c-8331-0d51e899a0a6",
   "metadata": {},
   "source": [
    "Remember the first experiment:"
   ]
  },
  {
   "cell_type": "code",
   "execution_count": null,
   "id": "389c3c80-226d-48d7-a6c8-a3f6795226bb",
   "metadata": {},
   "outputs": [],
   "source": [
    "dicemean1"
   ]
  },
  {
   "cell_type": "markdown",
   "id": "6d1d7b15-0d00-4034-bca5-fa9a937ee7dd",
   "metadata": {},
   "source": [
    "The variances are:"
   ]
  },
  {
   "cell_type": "code",
   "execution_count": null,
   "id": "24dc2c84-b04c-4b8d-bcfa-1af32defc3b0",
   "metadata": {},
   "outputs": [],
   "source": [
    "colMeans(dicex1^2) - dicemean1^2"
   ]
  },
  {
   "cell_type": "markdown",
   "id": "ed0f5ac1-e421-4fb8-894a-7ade0a66b52e",
   "metadata": {},
   "source": [
    "Now let's add 2 to column 1 and subtract 1 from column 2"
   ]
  },
  {
   "cell_type": "code",
   "execution_count": null,
   "id": "5d4357d2-28d0-4ab5-b0e8-369e532a7cfc",
   "metadata": {},
   "outputs": [],
   "source": [
    "dicex1b <- t(t(dicex1) + c(2, -1))"
   ]
  },
  {
   "cell_type": "code",
   "execution_count": null,
   "id": "b7b21735-9842-44d2-95a7-61e24c28c421",
   "metadata": {},
   "outputs": [],
   "source": [
    "dicemean1b <- colMeans(dicex1b)\n",
    "dicemean1b"
   ]
  },
  {
   "cell_type": "code",
   "execution_count": null,
   "id": "b623d983-0be4-4324-b01a-6972f2780922",
   "metadata": {},
   "outputs": [],
   "source": [
    "colMeans(dicex1b^2) - dicemean1b^2"
   ]
  },
  {
   "cell_type": "markdown",
   "id": "401f65ff-5bf5-428f-9bc1-ed4f904eea1a",
   "metadata": {},
   "source": [
    "If all values are scaled by a constant, the variance is scaled by the square of that constant:\n",
    "\n",
    "${\\displaystyle \\operatorname {Var} (aX)=a^{2}\\operatorname {Var} (X).}$"
   ]
  },
  {
   "cell_type": "code",
   "execution_count": null,
   "id": "13110ee9-8a70-4545-b0b8-3c2148c96a47",
   "metadata": {},
   "outputs": [],
   "source": [
    "dicex1c <- t(t(dicex1) * c(2, -3))"
   ]
  },
  {
   "cell_type": "code",
   "execution_count": null,
   "id": "4013f732-d3cd-43fa-a3e0-a9cf20eaab84",
   "metadata": {},
   "outputs": [],
   "source": [
    "dicemean1c <- colMeans(dicex1c)\n",
    "dicemean1c"
   ]
  },
  {
   "cell_type": "code",
   "execution_count": null,
   "id": "b0ce63a5-669d-4ef8-a644-7a2c1774d629",
   "metadata": {},
   "outputs": [],
   "source": [
    "(colMeans(dicex1c^2) - dicemean1c^2) / (colMeans(dicex1^2) - dicemean1^2)"
   ]
  },
  {
   "cell_type": "markdown",
   "id": "b5e2c8cd-da70-4611-8137-985260a08d1f",
   "metadata": {},
   "source": [
    "The variance of a sum of two random variables multiplied by constants is given by:\n",
    "\n",
    "${\\displaystyle {\\begin{aligned}\\operatorname {Var} (aX+bY)&=a^{2}\\operatorname {Var} (X)+b^{2}\\operatorname {Var} (Y)+2ab\\,\\operatorname {Cov} (X,Y)\\\\[1ex]\\operatorname {Var} (aX-bY)&=a^{2}\\operatorname {Var} (X)+b^{2}\\operatorname {Var} (Y)-2ab\\,\\operatorname {Cov} (X,Y)\\end{aligned}}}$"
   ]
  },
  {
   "cell_type": "markdown",
   "id": "260f02a1-3cce-4824-8452-584fe3a119ec",
   "metadata": {},
   "source": [
    "Remember the second example, 2 cards drawn from a deck of 6, without replacement"
   ]
  },
  {
   "cell_type": "markdown",
   "id": "df869fcc-76dd-4daa-84ae-2d11cc0de3ee",
   "metadata": {},
   "source": [
    "Expected values are:"
   ]
  },
  {
   "cell_type": "code",
   "execution_count": null,
   "id": "69a003ff-4956-4a02-a7eb-7a8e25770a0e",
   "metadata": {},
   "outputs": [],
   "source": [
    "dicex2"
   ]
  },
  {
   "cell_type": "markdown",
   "id": "780481e4-9707-4e23-a81f-fbed420aa766",
   "metadata": {},
   "source": [
    "Means:"
   ]
  },
  {
   "cell_type": "code",
   "execution_count": null,
   "id": "948f0184-f74b-4caa-adb2-3c1c052af299",
   "metadata": {},
   "outputs": [],
   "source": [
    "dicemean2 <- colMeans(dicex2)\n",
    "dicemean2"
   ]
  },
  {
   "cell_type": "markdown",
   "id": "6bb1eeb5-f121-4a5b-8763-21b0b0ceed28",
   "metadata": {},
   "source": [
    "Variances are:"
   ]
  },
  {
   "cell_type": "code",
   "execution_count": null,
   "id": "3d417a6e-0b19-41af-add9-768949d5eaac",
   "metadata": {},
   "outputs": [],
   "source": [
    "dicevar2 <- (colMeans(dicex2^2) - dicemean2^2)\n",
    "dicevar2"
   ]
  },
  {
   "cell_type": "markdown",
   "id": "4336d1a0-8476-4747-885f-97a67ab33806",
   "metadata": {},
   "source": [
    "Covariance is:"
   ]
  },
  {
   "cell_type": "code",
   "execution_count": null,
   "id": "58580dd1-823f-4c01-912e-77a2da552006",
   "metadata": {},
   "outputs": [],
   "source": [
    "dicecov2b <- mean(apply(dicex2, 1, prod)) - prod(dicemean2)\n",
    "dicecov2b"
   ]
  },
  {
   "cell_type": "markdown",
   "id": "dc855be0-2ef2-414b-bb03-b721f6607913",
   "metadata": {},
   "source": [
    "The standard deviations are:"
   ]
  },
  {
   "cell_type": "code",
   "execution_count": null,
   "id": "c41d75c3-1579-43dd-806e-4567376f818d",
   "metadata": {},
   "outputs": [],
   "source": [
    "dicesd2 <- sqrt(colMeans(t(t(dicex2) - dicemean2)^2))\n",
    "dicesd2"
   ]
  },
  {
   "cell_type": "markdown",
   "id": "40f38371-fc91-4f34-9037-9432797b2c0b",
   "metadata": {},
   "source": [
    "And the correlation coefficient between the dice outcomes is:"
   ]
  },
  {
   "cell_type": "code",
   "execution_count": null,
   "id": "3efe9b09-4a02-4e54-8f9a-3ffb14385903",
   "metadata": {},
   "outputs": [],
   "source": [
    "dicecor2 <- dicecov2b / prod(dicesd2)\n",
    "dicecor2"
   ]
  },
  {
   "cell_type": "markdown",
   "id": "ea0ede55-bd39-4f25-8598-149bd845394a",
   "metadata": {},
   "source": [
    "Now let's calculate the variance of the sum of 2 times the first column and 3 times the second column"
   ]
  },
  {
   "cell_type": "code",
   "execution_count": null,
   "id": "3693e927-cb92-42fe-954e-d28d0efd13ce",
   "metadata": {},
   "outputs": [],
   "source": [
    "consts <- c(2, 3)"
   ]
  },
  {
   "cell_type": "code",
   "execution_count": null,
   "id": "3f4d7167-bb2f-403b-a248-baafab707816",
   "metadata": {},
   "outputs": [],
   "source": [
    "sum(consts^2 * dicevar2, 2 * prod(consts) * dicecov2b)"
   ]
  },
  {
   "cell_type": "markdown",
   "id": "05f08162-5e70-4f0a-97f6-5fa8c044a5d2",
   "metadata": {},
   "source": [
    "Confirm with the long way:"
   ]
  },
  {
   "cell_type": "code",
   "execution_count": null,
   "id": "a11313bb-3d59-4ad4-86f8-adbbaab71814",
   "metadata": {},
   "outputs": [],
   "source": [
    "dicex2c <- rowSums(t(t(dicex2) * consts))"
   ]
  },
  {
   "cell_type": "markdown",
   "id": "39619f98-407b-433e-b51e-ff379a75c50f",
   "metadata": {},
   "source": [
    "Mean:"
   ]
  },
  {
   "cell_type": "code",
   "execution_count": null,
   "id": "dedfd876-26c6-4d63-b78b-62813b3d86dc",
   "metadata": {},
   "outputs": [],
   "source": [
    "dicemean2c <- mean(dicex2c)\n",
    "dicemean2c"
   ]
  },
  {
   "cell_type": "markdown",
   "id": "3d7fca73-51ff-4624-ad31-a96c268f6c38",
   "metadata": {},
   "source": [
    "Variance is:"
   ]
  },
  {
   "cell_type": "code",
   "execution_count": null,
   "id": "38a707fd-6a8c-4bf6-a4b6-63373bf45fad",
   "metadata": {},
   "outputs": [],
   "source": [
    "dicevar2c <- mean(dicex2c^2) - dicemean2c^2\n",
    "dicevar2c"
   ]
  },
  {
   "cell_type": "markdown",
   "id": "47afd482-7a4b-40fe-af4e-942633e2e9c0",
   "metadata": {},
   "source": [
    "## Degrees of freedom"
   ]
  },
  {
   "cell_type": "markdown",
   "id": "02b5a619-1cc1-4298-8368-9f351a405daa",
   "metadata": {},
   "source": [
    "In cinema, *freedom* is the last cry of William Wallace in Braveheart:\n",
    "\n",
    "[![bh](https://img.youtube.com/vi/lLCEUpIg8rE/0.jpg)](https://youtu.be/lLCEUpIg8rE)"
   ]
  },
  {
   "cell_type": "markdown",
   "id": "9c42f0b5-2bf8-49a2-9d28-e5be7ef0cd0b",
   "metadata": {},
   "source": [
    "In statistics, *degrees of freedom* is the number of values in the final calculation of a statistic that are free to vary.\n",
    "\n",
    "The number of independent pieces of information that go into the estimate of a parameter is called the degrees of freedom. In general, the degrees of freedom of an estimate of a parameter are equal to the number of independent scores that go into the estimate minus the number of parameters used as intermediate steps in the estimation of the parameter itself. \n",
    "\n",
    "(https://en.wikipedia.org/wiki/Degrees_of_freedom_(statistics))"
   ]
  },
  {
   "cell_type": "markdown",
   "id": "a31c0fd4-0f6c-47b7-8532-1e7327d21657",
   "metadata": {},
   "source": [
    "Now let's think about the simplest example: For given $n$ data points in a sample from a population, how many of them are free to vary in the calculation of sum of squared deviations?\n",
    "\n",
    "${\\displaystyle \\sum _{i=1}^{n}(x_{i}- \\overline{x})^{2}}$\n",
    "\n",
    "We assume that the mean of the population is not known."
   ]
  },
  {
   "cell_type": "markdown",
   "id": "a95996e8-acaa-450f-b61d-92f33611cc28",
   "metadata": {},
   "source": [
    "Let's simulate 10 data points from equiprobable integers between 1 and 5:"
   ]
  },
  {
   "cell_type": "code",
   "execution_count": null,
   "id": "605bbeb0-0837-4f0f-bb7b-27624a8b4781",
   "metadata": {},
   "outputs": [],
   "source": [
    "set.seed(1)\n",
    "df_samp <- sample(1:5, 10, replace = T)\n",
    "df_samp"
   ]
  },
  {
   "cell_type": "code",
   "execution_count": null,
   "id": "f16b85c7-67b4-4f89-8cd3-f57725197d76",
   "metadata": {},
   "outputs": [],
   "source": [
    "df_mean <- mean(df_samp)\n",
    "df_mean"
   ]
  },
  {
   "cell_type": "markdown",
   "id": "c2323b72-25cd-4387-9d30-074676e801c5",
   "metadata": {},
   "source": [
    "We first calculate the deviations of the 9 values by keeping one of the sampled values aside:"
   ]
  },
  {
   "cell_type": "code",
   "execution_count": null,
   "id": "f45e6d3f-f3d8-44d0-b5ca-8c1ad78bd390",
   "metadata": {},
   "outputs": [],
   "source": [
    "set.seed(4)\n",
    "sparex <- sample(seq_along(df_samp), 1)\n",
    "sparex"
   ]
  },
  {
   "cell_type": "markdown",
   "id": "c7144492-02cb-48a1-8296-008c0d2760bc",
   "metadata": {},
   "source": [
    "We don't first use the 8th value in the calculation steps:"
   ]
  },
  {
   "cell_type": "code",
   "execution_count": null,
   "id": "76c77aaf-4192-49b5-be95-8131c6d50413",
   "metadata": {},
   "outputs": [],
   "source": [
    "df_devs <- df_samp[-sparex] - df_mean\n",
    "df_devs"
   ]
  },
  {
   "cell_type": "code",
   "execution_count": null,
   "id": "989001cf-0066-4099-b21b-9e3fe28c89e0",
   "metadata": {},
   "outputs": [],
   "source": [
    "df_sdevs <- df_devs^2"
   ]
  },
  {
   "cell_type": "markdown",
   "id": "f2e24999-6de4-4608-b57a-acbf9a7110d6",
   "metadata": {},
   "source": [
    "Now we want to finish the calculation by summing the squared deviations, however we didn't include the 8th value. Do we have to know the value explicitly in order to complete the calculations?"
   ]
  },
  {
   "cell_type": "markdown",
   "id": "0f806fb8-5784-4d3d-80f1-80610908a8f5",
   "metadata": {},
   "source": [
    "Well, we don't! We can't infer the value from the parameter at hand and the other values. We know deviations of remaining 9 values and the sum of the all 10 deviations must equal 0 since we calculated the mean value from those 10 values:"
   ]
  },
  {
   "cell_type": "code",
   "execution_count": null,
   "id": "414e4bee-3906-4847-a3d5-8aed2ac4d669",
   "metadata": {},
   "outputs": [],
   "source": [
    "rem_dev <- -sum(df_devs)\n",
    "rem_dev"
   ]
  },
  {
   "cell_type": "markdown",
   "id": "518fa9c1-6b16-4014-8b05-e26460ff2b98",
   "metadata": {},
   "source": [
    "And confirm:"
   ]
  },
  {
   "cell_type": "code",
   "execution_count": null,
   "id": "3b7f15ad-7bd3-4729-a0ef-43ec75bcec9e",
   "metadata": {},
   "outputs": [],
   "source": [
    "df_samp[sparex] - df_mean"
   ]
  },
  {
   "cell_type": "markdown",
   "id": "36f40b94-96af-48ea-8901-fa95a8f861a6",
   "metadata": {},
   "source": [
    "And complete the calculations:"
   ]
  },
  {
   "cell_type": "code",
   "execution_count": null,
   "id": "6d8b62d5-7b46-4ac2-9a7e-ad169469161c",
   "metadata": {},
   "outputs": [],
   "source": [
    "sum(c(df_sdevs, rem_dev^2))"
   ]
  },
  {
   "cell_type": "markdown",
   "id": "47cc74ec-7a60-458e-812c-cd14e14493ee",
   "metadata": {},
   "source": [
    "And confirm:"
   ]
  },
  {
   "cell_type": "code",
   "execution_count": null,
   "id": "7d51afc9-49bf-46f3-bd1c-c5daa2850631",
   "metadata": {},
   "outputs": [],
   "source": [
    "sum((df_samp - mean(df_samp))^2)"
   ]
  },
  {
   "cell_type": "markdown",
   "id": "1095c62d-e69e-43c0-bca8-d1e86cda646c",
   "metadata": {},
   "source": [
    "## Sample variance and bias correction"
   ]
  },
  {
   "cell_type": "markdown",
   "id": "eedf0e41-d09d-460b-a101-5764ae4c9f9a",
   "metadata": {},
   "source": [
    "Let's assume there is random variable $X$ with a population mean of ${\\displaystyle \\mu}$ and population variance of ${\\displaystyle \\sigma ^{2}}$.\n",
    "\n",
    "Note that we usually do not have access to the whole population of $X$ and hence the population mean and variance are unknown. What we have is a sample from the population:\n",
    "\n",
    "${\\displaystyle \\{x_{1},x_{2},\\ldots ,x_{n}\\}}$\n",
    "\n",
    "So we can calculate the sample mean ${\\displaystyle \\overline {x}}$ and sample variance ${\\displaystyle s^{2}}$ so that we can estimate the population variance to make an inference about the population mean.\n",
    "\n",
    "Since we don't know the population mean, the best estimate we have for it is the sample mean. Using the sample mean, we can calculate the sample variance using the variance formula:\n",
    "\n",
    "${\\displaystyle \\operatorname s^{2}={\\frac {1}{n}}\\sum _{i=1}^{n}(x_{i}- \\overline{x})^{2}}$\n",
    "\n",
    "The question is, is the sample variance calculated this was an unbiased estimate of the population variance?\n",
    "\n",
    "Let's check with simulation using the previously sampled values for the sum of two dice. Let's treat the large sample as the whole population:"
   ]
  },
  {
   "cell_type": "markdown",
   "id": "6575f162-b22a-4454-a547-3cef3bffacd2",
   "metadata": {},
   "source": [
    "The population mean is:"
   ]
  },
  {
   "cell_type": "code",
   "execution_count": null,
   "id": "0031da08-b212-4ed8-8954-fec5b3781420",
   "metadata": {},
   "outputs": [],
   "source": [
    "mean1 <- mean(dicesimulsum)\n",
    "mean1"
   ]
  },
  {
   "cell_type": "markdown",
   "id": "6c79c4d6-ad42-4e0f-a69e-664f68b571a5",
   "metadata": {},
   "source": [
    "The population variance is:"
   ]
  },
  {
   "cell_type": "code",
   "execution_count": null,
   "id": "9c395663-935f-4aae-8e4d-2a970c1b001b",
   "metadata": {},
   "outputs": [],
   "source": [
    "varp1 <- mean(dicesimulsum^2) - mean1^2\n",
    "varp1"
   ]
  },
  {
   "cell_type": "markdown",
   "id": "55dde50d-fbbf-4d44-ae26-2678151cc8b7",
   "metadata": {},
   "source": [
    "For the purposes of the experiment, assume that we don't have access to these parameters but try to estimate them from samples.\n",
    "\n",
    "Let's get 1e4 samples of size 3:"
   ]
  },
  {
   "cell_type": "code",
   "execution_count": null,
   "id": "6e03a16e-9764-437c-83fb-f5460222044c",
   "metadata": {},
   "outputs": [],
   "source": [
    "set.seed(10)\n",
    "samp3 <- t(replicate(1e4, sample(dicesimulsum, 3)))"
   ]
  },
  {
   "cell_type": "markdown",
   "id": "30978407-e917-44ba-850f-eb92a6a4791a",
   "metadata": {},
   "source": [
    "The sample means are:"
   ]
  },
  {
   "cell_type": "code",
   "execution_count": null,
   "id": "c2109b43-fafc-4e53-8e04-c3ad78e7fe21",
   "metadata": {},
   "outputs": [],
   "source": [
    "samp3_means <- rowMeans(samp3)"
   ]
  },
  {
   "cell_type": "markdown",
   "id": "64085163-9009-49e2-b48e-bbf92256b698",
   "metadata": {},
   "source": [
    "And the variances of the samples using the above formula is:"
   ]
  },
  {
   "cell_type": "code",
   "execution_count": null,
   "id": "1199fce9-c154-4d69-8752-35c8bb3c25ec",
   "metadata": {},
   "outputs": [],
   "source": [
    "samp3_var_biased <- rowMeans(samp3^2) - samp3_means^2"
   ]
  },
  {
   "cell_type": "markdown",
   "id": "d867a8ca-e050-4b0c-b21b-c5ab90e98ca3",
   "metadata": {},
   "source": [
    "Now let's summarize the variances of samples:"
   ]
  },
  {
   "cell_type": "code",
   "execution_count": null,
   "id": "63175c1b-928a-48bd-9270-3028806f7845",
   "metadata": {},
   "outputs": [],
   "source": [
    "summary(samp3_var_biased)"
   ]
  },
  {
   "cell_type": "markdown",
   "id": "7d5356ba-9ec1-475f-9d36-d881bf2204ae",
   "metadata": {},
   "source": [
    "The mean of the sample variances of 3.901 is quite below the true population variance of 5.871.\n",
    "\n",
    "We can also confirm from the below plot showing the histogram of variance values, the mean of the sample variances shown in blue vertical line and the population variance in vertical red line:"
   ]
  },
  {
   "cell_type": "code",
   "execution_count": null,
   "id": "22f1e175-9b0b-4cc3-b7ea-11206aded110",
   "metadata": {},
   "outputs": [],
   "source": [
    "hist(samp3_var_biased)\n",
    "abline(v = mean(samp3_var_biased), col = \"blue\")\n",
    "abline(v = varp1, col = \"red\")"
   ]
  },
  {
   "cell_type": "markdown",
   "id": "8bc9dc1a-4087-418e-86aa-2b30e0a6b42e",
   "metadata": {},
   "source": [
    "The sample variance on average underestimates the true population variance! But why?\n",
    "\n",
    "To see why, let's make another simulation and take a smaller sample - for ease of repeated calculations - from the population:"
   ]
  },
  {
   "cell_type": "code",
   "execution_count": null,
   "id": "9bdaf250-968c-49e2-9e55-c2c0c2411c41",
   "metadata": {},
   "outputs": [],
   "source": [
    "set.seed(30)\n",
    "samplex <- sample(dicesimulsum, 5)"
   ]
  },
  {
   "cell_type": "markdown",
   "id": "33ecbd74-c60b-4b45-8fa7-a14b48b27e4a",
   "metadata": {},
   "source": [
    "And let's write a function that calculates the variance with any arbitrary value as the mean value. So the arbitrary mean value replaces the sample mean $\\overline{x}$ in the below equation:\n",
    "\n",
    "${\\displaystyle \\operatorname s^{2}={\\frac {1}{n}}\\sum _{i=1}^{n}(x_{i}- \\overline{x})^{2}}$"
   ]
  },
  {
   "cell_type": "code",
   "execution_count": null,
   "id": "3ce9275d-eafa-440f-9dea-ab4b18b893d8",
   "metadata": {},
   "outputs": [],
   "source": [
    "varmeanfunc <- function(x) mean((samplex - x)^2)"
   ]
  },
  {
   "cell_type": "markdown",
   "id": "eb91df86-3db1-466c-b6f7-ea933ce85f30",
   "metadata": {},
   "source": [
    "We have to vectorize the function the plot across a range:"
   ]
  },
  {
   "cell_type": "code",
   "execution_count": null,
   "id": "74de3278-14b6-45b4-80d3-49b1976e4a38",
   "metadata": {},
   "outputs": [],
   "source": [
    "varmeanfuncV <- Vectorize(varmeanfunc)"
   ]
  },
  {
   "cell_type": "markdown",
   "id": "53581f75-ea13-414f-9ef6-0337a2490834",
   "metadata": {},
   "source": [
    "The sum values are between 2 and 12, so we can take any value in between in place of the mean in the variance calculation.\n",
    "\n",
    "The below plot shows the variance of the sample calculated using different points in place of the mean, the blue vertical line shows the mean of the sample and the red vertical line shows the true mean of the population:"
   ]
  },
  {
   "cell_type": "code",
   "execution_count": null,
   "id": "91355991-3ca3-4152-a112-4e0deb77ab73",
   "metadata": {},
   "outputs": [],
   "source": [
    "curve(varmeanfuncV, 2, 12)\n",
    "abline(v = mean(samplex), col = \"blue\")\n",
    "abline(v = mean(dicesimulsum), col = \"red\")"
   ]
  },
  {
   "cell_type": "markdown",
   "id": "015b369c-d273-4278-b402-c57b6b03a8dc",
   "metadata": {},
   "source": [
    "Note that, mean of the sample minimizes the variance while any other value taken as the mean always results in higher variance values. This is true for values both higher and lower than the mean of the sample.\n",
    "\n",
    "So unless the sample and population means exactly coincide, which is quite improbable especially in smaller samples, the sample variance calculated using the mean of the sample is always lower than the sample variance calculated by taking the unknown population mean as the central value.\n",
    "\n",
    "So the **biased** sample variance underestimates the true population variance."
   ]
  },
  {
   "cell_type": "markdown",
   "id": "9b2233b9-2892-4f14-990d-ccf60d39e282",
   "metadata": {},
   "source": [
    "So in order to get an unbiased (or less biased) estimate of the population variance, Bessel's correction is usually made for the sample variance.\n",
    "\n",
    "The biased sample variance formula is:\n",
    "\n",
    "${\\displaystyle s_{n}^{2}={\\frac {1}{n}}\\sum _{i=1}^{n}\\left(x_{i}-{\\overline {x}}\\right)^{2}={\\frac {\\sum _{i=1}^{n}x_{i}^{2}}{n}}-{\\frac {\\left(\\sum _{i=1}^{n}x_{i}\\right)^{2}}{n^{2}}}}$\n",
    "\n",
    "With Bessel's correction that inflates the biased sample variance by a factor of ${\\displaystyle \\frac {n}{n-1}}$ the unbiased sample variance formula is:\n",
    "\n",
    "${\\displaystyle s^{2}={\\frac {1}{n-1}}\\sum _{i=1}^{n}\\left(x_{i}-{\\overline {x}}\\right)^{2}={\\frac {\\sum _{i=1}^{n}x_{i}^{2}}{n-1}}-{\\frac {\\left(\\sum _{i=1}^{n}x_{i}\\right)^{2}}{(n-1)n}}=\\left({\\frac {n}{n-1}}\\right)\\,s_{n}^{2}.}$\n",
    "\n",
    "The $n - 1$ term is also interpreted as the degrees of freedom in the calculation of the sample variance statistics since, as explained in the previous section, for a sample of $n$ values and the sample mean calculated from those values, we need to know $n - 1$ deviations - differences between the values and the sample mean - for the calculation of sum of squared deviations and variance since the last value can be derived from the identity that the sum of all deviations must be equal to zero.\n",
    "\n",
    "In the case where the population mean estimated from the sample mean, the deviations are residuals and they sum up to 0. In the case where population mean is known and not estimated by  the sample mean, the deviations of the sample are errors and they are not guaranteed to sum up to zero, so we must know all $n$ values.\n",
    "\n",
    "(https://en.wikipedia.org/wiki/Unbiased_estimation_of_standard_deviation)\n",
    "\n",
    "(https://en.wikipedia.org/wiki/Bessel%27s_correction)"
   ]
  },
  {
   "cell_type": "markdown",
   "id": "e1c3737a-09cf-4570-8478-edd9efba5df2",
   "metadata": {},
   "source": [
    "Let's check with simulation"
   ]
  },
  {
   "cell_type": "markdown",
   "id": "19449c6d-cb05-464c-922c-8292baf3fc8a",
   "metadata": {},
   "source": [
    "This is the size of each sample:"
   ]
  },
  {
   "cell_type": "code",
   "execution_count": null,
   "id": "340d5fbc-4d5d-4dbb-afdb-6c3ea770c362",
   "metadata": {},
   "outputs": [],
   "source": [
    "nx <- ncol(samp3)\n",
    "nx"
   ]
  },
  {
   "cell_type": "markdown",
   "id": "e9e4fbcb-491e-4bef-bb2c-7b6f25471399",
   "metadata": {},
   "source": [
    "Now let's make the Bessel's correction to sample variance:"
   ]
  },
  {
   "cell_type": "code",
   "execution_count": null,
   "id": "f92c795d-d17e-471c-ab4e-b4abc8fbabe4",
   "metadata": {},
   "outputs": [],
   "source": [
    "samp3_var_unbiased <- samp3_var_biased * nx / (nx - 1)"
   ]
  },
  {
   "cell_type": "markdown",
   "id": "d66bc804-fe1f-4d12-8bba-790745cc95fd",
   "metadata": {},
   "source": [
    "And get the summary:"
   ]
  },
  {
   "cell_type": "code",
   "execution_count": null,
   "id": "ab36d7cf-172b-4f2f-9776-37e8b64f9c35",
   "metadata": {},
   "outputs": [],
   "source": [
    "summary(samp3_var_unbiased)"
   ]
  },
  {
   "cell_type": "markdown",
   "id": "4d04be85-d2b2-442e-83fa-b89e74d99751",
   "metadata": {},
   "source": [
    "The mean of the unbiased variances of samples is 5.852, quite closer to the true population variance of 5.871.\n",
    "\n",
    "We can also confirm with the plot below. The blue line showing the mean of sample variances nearly coincides with the red line showing the true population variance:"
   ]
  },
  {
   "cell_type": "code",
   "execution_count": null,
   "id": "780cbb54-00a3-4a72-93ef-c60c411b4a8e",
   "metadata": {},
   "outputs": [],
   "source": [
    "hist(samp3_var_unbiased)\n",
    "abline(v = mean(samp3_var_unbiased), col = \"blue\")\n",
    "abline(v = varp1, col = \"red\")"
   ]
  },
  {
   "cell_type": "markdown",
   "id": "6e74b283-620d-4139-a15e-7225ce31c5d2",
   "metadata": {},
   "source": [
    "Note that, base functions `var` and `sd` in R calculates the sample variance with Bessel correction, so the denominator is $n - 1$ instead of $n$."
   ]
  },
  {
   "cell_type": "markdown",
   "id": "b3a92563-802d-431b-b0d0-b2864818b0f1",
   "metadata": {},
   "source": [
    "## Sampling distribution and square root law"
   ]
  },
  {
   "cell_type": "markdown",
   "id": "43b75ff1-61ce-489c-bd1c-d41ec30547c4",
   "metadata": {},
   "source": [
    "In subsequent headings we will come to hypothesis testing and inference about unknown population parameters which basically calculate how much sample mean and hypothetical parameter values are apart.\n",
    "\n",
    "In this context, the sampling distribution, the distribution of a certain statistic calculated from different samples drawn from the same population is an important context.\n",
    "\n",
    "We will usually have one or few samples from the population will be used for inference. But the parameters of the sampling distribution can be approximated theoretically.\n",
    "\n",
    "(https://en.wikipedia.org/wiki/Sampling_distribution)\n",
    "\n",
    "(https://en.wikipedia.org/wiki/Standard_error)"
   ]
  },
  {
   "cell_type": "markdown",
   "id": "aced1e8a-7b64-41c1-aa2e-1d0bc74bb17f",
   "metadata": {},
   "source": [
    "Now let's start again with the large sample of sums from simulated dice rolls:"
   ]
  },
  {
   "cell_type": "code",
   "execution_count": null,
   "id": "8e6e2613-2ba1-46db-97d8-4ba1da63d599",
   "metadata": {},
   "outputs": [],
   "source": [
    "summary(dicesimulsum)"
   ]
  },
  {
   "cell_type": "markdown",
   "id": "15fb0fb5-34bb-410d-9b33-6bba4e6e4338",
   "metadata": {},
   "source": [
    "The mean, variance and standard deviation of the large sample - practically the population is below:"
   ]
  },
  {
   "cell_type": "code",
   "execution_count": null,
   "id": "daee3ff5-6c7a-459d-8576-ec86c1cb37e3",
   "metadata": {},
   "outputs": [],
   "source": [
    "mean1 <- mean(dicesimulsum)\n",
    "var1 <- var(dicesimulsum)\n",
    "sd1 <- sd(dicesimulsum)\n",
    "mean1\n",
    "var1\n",
    "sd1"
   ]
  },
  {
   "cell_type": "markdown",
   "id": "340db6af-3210-4945-b500-fc94591ee3df",
   "metadata": {},
   "source": [
    "Note that the variance and standard deviation formulas of base R incorporates Bessel's bias correction with a factor of ${\\displaystyle \\frac {n}{n-1}}$. However, considering the large size of the population - 1e4, the correction makes a very trivial change:"
   ]
  },
  {
   "cell_type": "code",
   "execution_count": null,
   "id": "2d63a595-0ee5-4a37-89fc-31c14a264e6d",
   "metadata": {},
   "outputs": [],
   "source": [
    "1e4 / (1e4 - 1)"
   ]
  },
  {
   "cell_type": "markdown",
   "id": "2aa10cc1-0f82-4b2e-912f-ee53b15887e3",
   "metadata": {},
   "source": [
    "We can consider the above variance value of 5.814 as the variance of the means of samples of size 1"
   ]
  },
  {
   "cell_type": "markdown",
   "id": "7a605543-cdd0-43d4-9b10-65ddd1a319f5",
   "metadata": {},
   "source": [
    "Now let's draw 1e4 samples of size 2 and calculate the means of the samples:"
   ]
  },
  {
   "cell_type": "code",
   "execution_count": null,
   "id": "187675d0-50aa-42fc-97ff-c1d1401bc98f",
   "metadata": {},
   "outputs": [],
   "source": [
    "set.seed(40)\n",
    "dicesim2 <- rowMeans(t(replicate(1e4, sample(dicesimulsum, 2))))"
   ]
  },
  {
   "cell_type": "markdown",
   "id": "a990cae3-e5ae-44f7-9201-e33b08670db0",
   "metadata": {},
   "source": [
    "While the mean of sample means is quite close to the population, the variance of sample means of 2.95 is much below the population variance of 5.871.\n",
    "\n",
    "**NOTE THAT IN THE PREVIOUS SECTION ABOUT SAMPLE VARIANCE, WE CALCULATED THE MEAN OF THE SAMPLE VARIANCES TO DEMONSTRATE THE BIAS. HERE WE ARE CALCULATING THE VARIANCE OF THE MEAN SAMPLES. DO NOT CONFUSE BOTH!**"
   ]
  },
  {
   "cell_type": "code",
   "execution_count": null,
   "id": "37d6bfa5-d091-4565-a847-5960331ac97a",
   "metadata": {},
   "outputs": [],
   "source": [
    "mean2 <- mean(dicesim2)\n",
    "var2 <- var(dicesim2)\n",
    "sd2 <- sd(dicesim2)\n",
    "mean2\n",
    "var2\n",
    "sd2"
   ]
  },
  {
   "cell_type": "markdown",
   "id": "dfb71770-0471-45bb-98a6-31026f45b7f2",
   "metadata": {},
   "source": [
    "Next, let's draw 1e4 samples of size 4 and calculate the sample means:"
   ]
  },
  {
   "cell_type": "code",
   "execution_count": null,
   "id": "5710a5bf-67b7-4a54-aa70-dcf15d1f9dca",
   "metadata": {},
   "outputs": [],
   "source": [
    "dicesim4 <- rowMeans(t(replicate(1e4, sample(dicesimulsum, 4))))"
   ]
  },
  {
   "cell_type": "markdown",
   "id": "d86028b3-65f7-4e2c-b830-960e9448cb2e",
   "metadata": {},
   "source": [
    "And calculate the mean, variance and standard deviation of sample means:"
   ]
  },
  {
   "cell_type": "code",
   "execution_count": null,
   "id": "79a99924-5963-4343-8716-5a19c1395f26",
   "metadata": {},
   "outputs": [],
   "source": [
    "mean4 <- mean(dicesim4)\n",
    "var4 <- var(dicesim4)\n",
    "sd4 <- sd(dicesim4)\n",
    "mean4\n",
    "var4\n",
    "sd4"
   ]
  },
  {
   "cell_type": "markdown",
   "id": "a5cd46e1-a6b5-4f92-aa0d-2ddc424054e0",
   "metadata": {},
   "source": [
    "Note that the variance of the sample means is much lower now."
   ]
  },
  {
   "cell_type": "markdown",
   "id": "29b202f9-dff6-4c4a-8a1c-c082aa4f4f02",
   "metadata": {},
   "source": [
    "This time let's draw 1e4 samples of size 16 and calculate the means of the samples:"
   ]
  },
  {
   "cell_type": "code",
   "execution_count": null,
   "id": "3f9e31e3-4552-40ff-9957-68a93211dd1b",
   "metadata": {},
   "outputs": [],
   "source": [
    "dicesim16 <- rowMeans(t(replicate(1e4, sample(dicesimulsum, 16))))"
   ]
  },
  {
   "cell_type": "markdown",
   "id": "62d84a30-5b91-4733-a055-7fcd2c7a2239",
   "metadata": {},
   "source": [
    "And calculate the mean, variance and standard deviation of sample means:"
   ]
  },
  {
   "cell_type": "code",
   "execution_count": null,
   "id": "7ac2204c-3d10-42b2-b261-38037e9e0528",
   "metadata": {},
   "outputs": [],
   "source": [
    "mean16 <- mean(dicesim16)\n",
    "var16 <- var(dicesim16)\n",
    "sd16 <- sd(dicesim16)\n",
    "mean16\n",
    "var16\n",
    "sd16"
   ]
  },
  {
   "cell_type": "markdown",
   "id": "8ace7ea5-18cb-40cb-8cfd-fb382c2288e8",
   "metadata": {},
   "source": [
    "Now let's combine all sample means into a single data.table for better visualization:"
   ]
  },
  {
   "cell_type": "code",
   "execution_count": null,
   "id": "877f10c4-3684-40ad-9b9c-30a8a7ce72db",
   "metadata": {},
   "outputs": [],
   "source": [
    "dicesimall <- mapply(function(x, y) data.table(size = y, value = x),\n",
    "                     list(dicesimulsum, dicesim2, dicesim4, dicesim16),\n",
    "                     c(1,2,4,16),\n",
    "                     SIMPLIFY = F) %>% rbindlist"
   ]
  },
  {
   "cell_type": "code",
   "execution_count": null,
   "id": "a0d63332-a5a7-4ad6-8775-d16d4dc21e0b",
   "metadata": {},
   "outputs": [],
   "source": [
    "dicesimall %>%\n",
    "ggplot(aes(y = value)) +\n",
    "geom_histogram(bins = 30) +\n",
    "coord_flip() +\n",
    "facet_wrap(~ size, ncol = 1)"
   ]
  },
  {
   "cell_type": "markdown",
   "id": "2bbd15fe-585f-4b82-b48c-cf45fd222b80",
   "metadata": {},
   "source": [
    "We can also run an interactive simulation \"Sampling Distribution\" under 05_prob_stat_1/apps with Shiny interface."
   ]
  },
  {
   "cell_type": "markdown",
   "id": "e5ee3b78-e7b9-402f-93ed-3bc3e9ac500a",
   "metadata": {},
   "source": [
    "As you see, the sample means distribution gets narrower as the sample size is increased, but by how much?"
   ]
  },
  {
   "cell_type": "markdown",
   "id": "4d266190-b6b0-4fd4-a1b7-9367a21b161f",
   "metadata": {},
   "source": [
    "As we compare the variance and standard deviation of the population with those of means of the samples of size 2, 4 and 16:"
   ]
  },
  {
   "cell_type": "markdown",
   "id": "cd4b2159-f9df-483a-972b-9cb008286c54",
   "metadata": {},
   "source": [
    "The variance is divided by a factor of $n$ the size of the samples:"
   ]
  },
  {
   "cell_type": "code",
   "execution_count": null,
   "id": "bfe27913-b9b4-4e0d-83a2-fe1ad4a1472e",
   "metadata": {},
   "outputs": [],
   "source": [
    "var1 / var2\n",
    "var1 / var4\n",
    "var1 / var16"
   ]
  },
  {
   "cell_type": "markdown",
   "id": "1b71e91e-80d5-41a5-aa41-ad26d54d074a",
   "metadata": {},
   "source": [
    "And obviously the standard deviation  is divided by a factor of ${\\displaystyle \\sqrt {n}}$:"
   ]
  },
  {
   "cell_type": "code",
   "execution_count": null,
   "id": "b4412da9-5871-4fba-98ec-13c9b47a937f",
   "metadata": {},
   "outputs": [],
   "source": [
    "sd1 / sd2\n",
    "sd1 / sd4\n",
    "sd1 / sd16"
   ]
  },
  {
   "cell_type": "markdown",
   "id": "1fa0c6ee-c703-45b3-bbe7-41284d31da55",
   "metadata": {},
   "source": [
    "Why is that?"
   ]
  },
  {
   "cell_type": "markdown",
   "id": "0dc80596-ac59-4e81-8b32-9185b53b1837",
   "metadata": {},
   "source": [
    "Remember the properties of variance:\n",
    "\n",
    "The variance of a sum of two random variables multiplied by constants is given by:\n",
    "\n",
    "${\\displaystyle {\\begin{aligned}\\operatorname {Var} (aX+bY)&=a^{2}\\operatorname {Var} (X)+b^{2}\\operatorname {Var} (Y)+2ab\\,\\operatorname {Cov} (X,Y)\\end{aligned}}}$"
   ]
  },
  {
   "cell_type": "markdown",
   "id": "da5cf898-f164-4fce-9b0c-3539d40fc3ec",
   "metadata": {},
   "source": [
    "With independent variables, covariance is zero and hence the formula boils down to:\n",
    "\n",
    "${\\displaystyle {\\begin{aligned}\\operatorname {Var} (aX+bY)&=a^{2}\\operatorname {Var} (X)+b^{2}\\operatorname {Var} (Y)\\end{aligned}}}$"
   ]
  },
  {
   "cell_type": "markdown",
   "id": "d5a53511-0fab-45c2-9374-9ce3ae5c64a2",
   "metadata": {},
   "source": [
    "Assume that ${\\displaystyle x_{1},x_{2},\\ldots ,x_{n}}$ is a sample of ${\\displaystyle n}$ independent observations from a population with mean ${\\displaystyle x}$ and standard deviation ${\\displaystyle \\sigma }$\n",
    "\n",
    "The sum of the observations are defined as:\n",
    "\n",
    "${\\displaystyle T=(x_{1}+x_{2}+\\cdots +x_{n})}$\n",
    "\n",
    "Since variance of the sum of independent variables is the sum of variances:\n",
    "\n",
    "${\\displaystyle \\operatorname {Var} (T)=\\operatorname {Var} (x_{1})+\\operatorname {Var} (x_{2})+\\cdots +\\operatorname {Var} (x_{n})=n\\sigma ^{2}.}$\n",
    "\n",
    "The sample mean is defined by:\n",
    "\n",
    "${\\displaystyle {\\bar {x}}=T/n}$\n",
    "\n",
    "And since the variance of a variable multiplied a constant is square of the constant times the variance of the variable:\n",
    "\n",
    "${\\displaystyle \\operatorname {Var} ({\\bar {x}})=\\operatorname {Var} \\left({\\frac {T}{n}}\\right)={\\frac {1}{n^{2}}}\\operatorname {Var} (T)={\\frac {1}{n^{2}}}n\\sigma ^{2}={\\frac {\\sigma ^{2}}{n}}}$\n",
    "\n",
    "And the standard deviation of the sample mean is:\n",
    "\n",
    "${\\displaystyle \\sigma _{\\bar {x}}={\\sqrt {\\frac {\\sigma ^{2}}{n}}}={\\frac {\\sigma }{\\sqrt {n}}}}$\n",
    "\n",
    "(https://en.wikipedia.org/wiki/Standard_error)"
   ]
  },
  {
   "cell_type": "code",
   "execution_count": null,
   "id": "da0feb5b-71f8-4ae2-9176-94002d7389e1",
   "metadata": {},
   "outputs": [],
   "source": []
  },
  {
   "cell_type": "markdown",
   "id": "6b62ae32-bcf3-49f7-a1a3-67dbd13b1174",
   "metadata": {},
   "source": [
    "# APPENDIX: Birth of probability theory (Optional)"
   ]
  },
  {
   "cell_type": "markdown",
   "id": "732ab52e-742c-48f6-a8bc-861d5d7b263b",
   "metadata": {},
   "source": [
    "Now that we know the basic rules of counting, we may visit the very first problem investigated in probability theory, hence the birth of probability theory. And the problem arose from a gambling game!"
   ]
  },
  {
   "cell_type": "markdown",
   "id": "796456c2-be7f-4f2e-9118-d2acd912511d",
   "metadata": {},
   "source": [
    "> The study of probability started in the seventeenth century when Antoine\n",
    "Gambaud (who called himself the “Chevalier” de Méré) reached out to the\n",
    "French mathematician Blaise Pascal for an explanation of his gambling loses.\n",
    "De Méré would commonly bet that he could get at least one ace when rolling\n",
    "4 six-sided dice, and he regularly made money on this bet. When that game\n",
    "started to get old, he started betting on getting at least one double-one in 24\n",
    "rolls of two dice. Suddenly, he was losing money!\n",
    "\n",
    "(Rogriguez & Mendes 2018, Probability, Decisions and Games, p. 1)"
   ]
  },
  {
   "cell_type": "markdown",
   "id": "55e04300-9194-4620-8738-efe04aa0f57d",
   "metadata": {},
   "source": [
    "So let's first solve the first part:\n",
    "\n",
    "> he could get at least one ace when rolling 4 six-sided dice\n",
    "\n",
    "Utilizing complement rule, let's calculate the probability of getting NO ACES and take its complement. Getting no ace in a roll of a six sided die has a probability of $5/6$ so:"
   ]
  },
  {
   "cell_type": "code",
   "execution_count": null,
   "id": "ccc9b08e-a13a-4adf-bf9e-95fed7ab826c",
   "metadata": {},
   "outputs": [],
   "source": [
    "1 - (5/6)^4"
   ]
  },
  {
   "cell_type": "markdown",
   "id": "38b3bd74-3024-468d-a65e-a89171acd902",
   "metadata": {},
   "source": [
    "Since the probability of winning is above 0.5, it is reasonable that De Mere made money on that bet."
   ]
  },
  {
   "cell_type": "markdown",
   "id": "d69c3da8-8cec-41e9-8954-470d3b9a327d",
   "metadata": {},
   "source": [
    "Now let's come to the second part:\n",
    "\n",
    "> he started betting on getting at least one double-one in 24\n",
    "rolls of two dice. Suddenly, he was losing money!\n",
    "\n",
    "Again, we will use the complement rule: First calculate the probability that we have NO double-ones (1-1, \"hepyek\") in 24 rolls and take its complement.\n",
    "\n",
    "The probability of having a 1-1 in a roll of two dice is $1/36$, having NO 1-1 in a roll is $35/36$ so:"
   ]
  },
  {
   "cell_type": "code",
   "execution_count": null,
   "id": "d3c4a9fa-5f0d-4215-af77-495ba1f016fd",
   "metadata": {},
   "outputs": [],
   "source": [
    "1 - (35/36)^24"
   ]
  },
  {
   "cell_type": "markdown",
   "id": "bd50f4a9-d925-4759-974a-874ef9685cbc",
   "metadata": {},
   "source": [
    "It is no surprise that De Mere started to lose money on that second bet since the probability of winning is below 0.5"
   ]
  },
  {
   "cell_type": "markdown",
   "id": "78722af6-9768-4905-b1b8-a77259600286",
   "metadata": {},
   "source": [
    "The scientific approach De Mere followed to understand his case led to the birth of probability theory:\n",
    "\n",
    "> Contrary to the ordinary gambler of the time, he pursued the cause of his error with the help of\n",
    "Blaise Pascal, which in turn led to an exchange of letters with Pierre de Fermat\n",
    "and the development of probability theory.\n",
    "\n",
    "(Rogriguez & Mendes 2018, Probability, Decisions and Games, p. xii)"
   ]
  }
 ],
 "metadata": {
  "kernelspec": {
   "display_name": "R",
   "language": "R",
   "name": "ir"
  },
  "language_info": {
   "codemirror_mode": "r",
   "file_extension": ".r",
   "mimetype": "text/x-r-source",
   "name": "R",
   "pygments_lexer": "r",
   "version": "4.5.1"
  }
 },
 "nbformat": 4,
 "nbformat_minor": 5
}
