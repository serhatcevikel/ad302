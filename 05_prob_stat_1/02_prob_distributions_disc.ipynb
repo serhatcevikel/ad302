{
 "cells": [
  {
   "cell_type": "markdown",
   "id": "d75aa5e1-36a3-4631-9aa9-373753eb0e12",
   "metadata": {},
   "source": [
    "<font size=\"6\"><b>BASIC PROBABILITY DISTRIBUTIONS: DISCRETE DISTRIBUTIONS</b></font>\n",
    "\n",
    "<font size=\"5\"><b>Serhat Çevikel</b></font>"
   ]
  },
  {
   "cell_type": "markdown",
   "id": "9bc7a1ed-c46c-4375-bb33-27cb8e32e146",
   "metadata": {},
   "source": [
    "<span style=\"font-size:3em;\">**THIS AND THE NEXT SESSION SERVE AS REFRESHERS AND REFERENCE MATERIAL FOR INTRODUCTION TO PROBABILITY THEORY. THERE ARE MANY SIMULATED EXAMPLES TO CLARIFY THE CONCEPTS.\n",
    "DON'T TRY TO UNDERSTAND THE COMPLEXITY OF THE CODE, THEY ARE JUST TOOLS TO CREATE THE SIMULATIONS AND VISUALS. PLEASE CONCENTRATE ON THE NARRATIVE, THE FLOW OF IDEAS AND THE INTERPRETATION OF THE EXAMPLES, SIMULATIONS AND THE VISUALS.**</span>"
   ]
  },
  {
   "cell_type": "code",
   "execution_count": null,
   "id": "c2435cf3-83cb-4600-b651-e91780a2b547",
   "metadata": {},
   "outputs": [],
   "source": [
    "library(data.table)\n",
    "library(tidyverse)\n",
    "library(gtools) # for permutations and combinations\n",
    "library(MASS) # for fractions\n",
    "library(ggdag) # for viusalizing trees\n",
    "library(plotly)"
   ]
  },
  {
   "cell_type": "code",
   "execution_count": null,
   "id": "703edd20-e5d4-42ab-9e0b-91c6e45c829b",
   "metadata": {},
   "outputs": [],
   "source": [
    "options(repr.matrix.max.rows=20, repr.matrix.max.cols=15) # for limiting the number of top and bottom rows of tables printed "
   ]
  },
  {
   "cell_type": "code",
   "execution_count": null,
   "id": "1ba886b9-a2e7-479a-afb2-0a49322c80a8",
   "metadata": {},
   "outputs": [],
   "source": [
    "options(htmlwidgets_embed=TRUE)"
   ]
  },
  {
   "cell_type": "code",
   "execution_count": null,
   "id": "8684c4e5-1398-4422-823d-043128a17d4d",
   "metadata": {},
   "outputs": [],
   "source": [
    "options(knitr.kable.max_rows = 10)"
   ]
  },
  {
   "cell_type": "markdown",
   "id": "1d6a7603-d6e8-4c88-a1f2-161e1e6ae743",
   "metadata": {},
   "source": [
    "![xkcd](../imagesba/poisson.jpg)\n",
    "\n",
    "(https://xkcd.com/12/)"
   ]
  },
  {
   "attachments": {
    "19c7cfcc-e7e1-4c64-b5b7-b8ffb22d2f5d.png": {
     "image/png": "[encoded data removed]"
    },
    "59f65417-a59d-4016-bc05-07b80a568ba9.png": {
     "image/png": "[encoded data removed]"
    },
    "ea8cd5d8-ffdb-40c2-bb70-8207eed5cbee.png": {
     "image/png": "[encoded data removed]"
    }
   },
   "cell_type": "markdown",
   "id": "9b31ea46-530f-41ec-a9ae-baaf24b99748",
   "metadata": {},
   "source": [
    "**Note:** For the interactive applications, please:\n",
    "\n",
    "- Select file browser from the side bar through the symbol: ![image.png](attachment:19c7cfcc-e7e1-4c64-b5b7-b8ffb22d2f5d.png)\n",
    "\n",
    "- Open the Launcher by hitting the button: ![image.png](attachment:59f65417-a59d-4016-bc05-07b80a568ba9.png)\n",
    "\n",
    "- Hit \"Shiny\" button from the Launcher:\n",
    "\n",
    "  ![image.png](attachment:ea8cd5d8-ffdb-40c2-bb70-8207eed5cbee.png)\n",
    "\n",
    "- Navigate to 05_prob_stat_1/apps/"
   ]
  },
  {
   "cell_type": "markdown",
   "id": "719fa5de-c306-4de8-9218-e673393e8210",
   "metadata": {},
   "source": [
    "For both discrete and continuous distributions the cumulative probability - or the area under the probability mass/density function is always between 0 and 1."
   ]
  },
  {
   "cell_type": "markdown",
   "id": "45aa5b1e-731c-4b09-b7f0-62604b3d3d7a",
   "metadata": {},
   "source": [
    "Discrete probability distributions can take on discrete values on the domain.\n",
    "\n",
    "The probability mass function shows the probability of each of those discrete values and probability of each value should be between 0 and 1."
   ]
  },
  {
   "cell_type": "markdown",
   "id": "9fe666a7-7285-4ce4-9739-f0df1eff31f9",
   "metadata": {},
   "source": [
    "In order to demonstrate the genesis of the following discrete probability distribution, the simplest form, Bernoulli trials will be mostly used as a starting point and through simulation the statistical properties of the distributions and the relationships between them will be shown without rigorous mathematical proofs."
   ]
  },
  {
   "cell_type": "markdown",
   "id": "de3f1660-94d1-4dd6-b6b9-fe80168f37fb",
   "metadata": {},
   "source": [
    "# Binomial distribution"
   ]
  },
  {
   "cell_type": "markdown",
   "id": "ecf50da4-7911-4a0f-84f0-ba7205044d6d",
   "metadata": {},
   "source": [
    "Binomial distribution is one of the most basic discrete probability distributions and serve as the basis of other important distributions such as poisson and normal distribution."
   ]
  },
  {
   "cell_type": "markdown",
   "id": "7f09317f-7435-423d-bb52-76600ef2e26a",
   "metadata": {},
   "source": [
    "Binomial distribution is the distribution of the number of k successes in n trials with binary outcomes (such as coin tosses) in which the success has a probability of p.\n",
    "\n",
    "So it can be seen as a compressed or aggregated version of Bernoulli distribution."
   ]
  },
  {
   "cell_type": "markdown",
   "id": "4228a627-2735-4161-8120-440eb2901114",
   "metadata": {},
   "source": [
    "Let's first simulate some data to show the probability of having 3 heads in 5 flips.\n",
    "\n",
    "First get all sequences of head (1) and tail (0) values in 5 flips. Total number of sequences are $2^5 = 32$:"
   ]
  },
  {
   "cell_type": "code",
   "execution_count": null,
   "id": "a6c40537-9161-4d5f-aa55-a283a790ce3d",
   "metadata": {},
   "outputs": [],
   "source": [
    "tosses <- permutations(2, 5, 0:1, repeats.allowed = T)"
   ]
  },
  {
   "cell_type": "code",
   "execution_count": null,
   "id": "01913db6-882b-4b3b-a093-69fb0915e181",
   "metadata": {},
   "outputs": [],
   "source": [
    "dim(tosses)"
   ]
  },
  {
   "cell_type": "code",
   "execution_count": null,
   "id": "2c95b536-2bae-4b9c-8bfe-5a2b19c2b495",
   "metadata": {},
   "outputs": [],
   "source": [
    "tosses"
   ]
  },
  {
   "cell_type": "markdown",
   "id": "3fd25142-9860-4f07-b82d-65e9b0be5b5f",
   "metadata": {},
   "source": [
    "However we are interested in sequences that have exactly 3 heads:"
   ]
  },
  {
   "cell_type": "code",
   "execution_count": null,
   "id": "08551cc2-421d-4051-ba93-29062e6add8e",
   "metadata": {},
   "outputs": [],
   "source": [
    "tosses3 <- tosses[rowSums(tosses) == 3,]"
   ]
  },
  {
   "cell_type": "code",
   "execution_count": null,
   "id": "8a413525-852f-45ac-98c6-08a8e03b05e3",
   "metadata": {},
   "outputs": [],
   "source": [
    "dim(tosses3)"
   ]
  },
  {
   "cell_type": "code",
   "execution_count": null,
   "id": "f37b1faa-f77a-4aea-9d5f-160e11d47ba7",
   "metadata": {},
   "outputs": [],
   "source": [
    "tosses3"
   ]
  },
  {
   "cell_type": "markdown",
   "id": "95e33022-748d-4abd-93ee-b754401f5c83",
   "metadata": {},
   "source": [
    "10 sequences have 3 heads in 5 tosses. That is exactly the number of 3 combinations of 5:"
   ]
  },
  {
   "cell_type": "code",
   "execution_count": null,
   "id": "3bb7720b-0693-47ac-a92c-08cf9722679b",
   "metadata": {},
   "outputs": [],
   "source": [
    "choose(5, 3)"
   ]
  },
  {
   "cell_type": "markdown",
   "id": "413d60c4-a5b5-4a46-90f3-50d6b123c587",
   "metadata": {},
   "source": [
    "Now let's say the bias of the coin is 0.3, meaning the probability of having a head is 0.3 (so probability of gettting a tail is 0.7). What is the probability of each of these 10 sequences:\n",
    "\n",
    "${\\displaystyle p^{k}(1-p)^{n-k}}$"
   ]
  },
  {
   "cell_type": "code",
   "execution_count": null,
   "id": "97006e13-a04c-414b-b242-aaa95fa035ba",
   "metadata": {},
   "outputs": [],
   "source": [
    "px <- 0.3\n",
    "k <- 3\n",
    "n <- 5"
   ]
  },
  {
   "cell_type": "code",
   "execution_count": null,
   "id": "22d47f5c-70dc-468c-b0cd-fb735f15a5c8",
   "metadata": {},
   "outputs": [],
   "source": [
    "px^k * (1 - px)^(n - k)"
   ]
  },
  {
   "cell_type": "markdown",
   "id": "09dd9489-e590-4148-8974-fad62355c029",
   "metadata": {},
   "source": [
    "But we have 10 of these sequences with 3 heads and 2 tails so the total probability of having 3 heads in 5 tosses where the bias of the coin is 0.3 is:"
   ]
  },
  {
   "cell_type": "code",
   "execution_count": null,
   "id": "84d0af20-23c4-49d1-af3b-d5d40d6f14d6",
   "metadata": {},
   "outputs": [],
   "source": [
    "choose(n, k) * px^k * (1 - px)^(n - k)"
   ]
  },
  {
   "cell_type": "markdown",
   "id": "046d27e7-38bc-46e4-86d5-b28605c38802",
   "metadata": {},
   "source": [
    "The formula for probability mass function is:\n",
    "\n",
    "${\\displaystyle f(k,n,p)=\\Pr(X=k)={\\binom {n}{k}}p^{k}(1-p)^{n-k}}$\n",
    "\n",
    "where\n",
    "\n",
    "${\\displaystyle {\\binom {n}{k}}={\\frac {n!}{k!(n-k)!}}}$.\n",
    "\n",
    "Expected value is:\n",
    "\n",
    "${\\displaystyle \\operatorname {E} [X]=np}$\n",
    "\n",
    "And variance is:\n",
    "\n",
    "${\\displaystyle \\operatorname {Var} (X)=npq=np(1-p)}$"
   ]
  },
  {
   "cell_type": "markdown",
   "id": "b75c6e19-f031-4e1e-8a84-8a9bae568f45",
   "metadata": {},
   "source": [
    "In fact we don't have to write that whole formula of probability mass function explicitly. R has builtin support for a wide range of probability distributions and add-on packages provide further support for more diverse range of distributions.\n",
    "\n",
    "For binomial distribution the probability of a discrete value of k out of n with a bias of p can be calculated with the probability mass function of binomial distribution in R, `dbinom`:"
   ]
  },
  {
   "cell_type": "code",
   "execution_count": null,
   "id": "f3057376-3b7b-4cd3-a0fc-f1dd67571391",
   "metadata": {},
   "outputs": [],
   "source": [
    "dbinom(3, 5, 0.3)"
   ]
  },
  {
   "cell_type": "markdown",
   "id": "ff4085cd-3fcb-4a55-8ed9-4e0f2c399dc7",
   "metadata": {},
   "source": [
    "For other discrete values of k, the probabilities are:"
   ]
  },
  {
   "cell_type": "code",
   "execution_count": null,
   "id": "0d90fe57-1283-4522-9ce7-d0e58e66cd01",
   "metadata": {},
   "outputs": [],
   "source": [
    "propbin <- dbinom(0:5, 5, 0.3)\n",
    "propbin"
   ]
  },
  {
   "cell_type": "markdown",
   "id": "393a81d2-5617-4813-98d6-e2dab9f466fc",
   "metadata": {},
   "source": [
    "Which sum up to 1:"
   ]
  },
  {
   "cell_type": "code",
   "execution_count": null,
   "id": "03047b9f-8651-44d2-998d-3b24aa8f08c1",
   "metadata": {},
   "outputs": [],
   "source": [
    "sum(propbin)"
   ]
  },
  {
   "cell_type": "markdown",
   "id": "bc9bde7f-f473-4759-b1a4-9a489dacd098",
   "metadata": {},
   "source": [
    "And demonstrate a roughly bell shape (this might ring some bell in your mind as to its similarity to some other famous statistical shape):"
   ]
  },
  {
   "cell_type": "code",
   "execution_count": null,
   "id": "5afbadef-aa9d-4dbf-bae1-847f6e59295d",
   "metadata": {},
   "outputs": [],
   "source": [
    "plot(propbin, type = \"l\")"
   ]
  },
  {
   "cell_type": "markdown",
   "id": "272dee22-cdf8-4adb-a057-a32e4ba45f12",
   "metadata": {},
   "source": [
    "We can also run an interactive simulation \"Binomial Shapes\" under 05_prob_stat_1/apps with Shiny interface."
   ]
  },
  {
   "attachments": {},
   "cell_type": "markdown",
   "id": "1e14a27a-94e7-4a2d-b9d7-c047a9c8f302",
   "metadata": {},
   "source": [
    "## Band of four: Suite of functions for a statistical distribution in R"
   ]
  },
  {
   "cell_type": "markdown",
   "id": "e8486ca5-28a4-466a-a404-7f9e47384a25",
   "metadata": {},
   "source": [
    "Four people can make a great rock band:"
   ]
  },
  {
   "cell_type": "markdown",
   "id": "d1ffe9ee-967b-446e-9a03-3abfcb5b0b4b",
   "metadata": {},
   "source": [
    "<img src=\"../imagesba/led_zeppelin.jpg\" width=\"500\"/>"
   ]
  },
  {
   "cell_type": "markdown",
   "id": "fe3ce8db-c458-4f36-bf9a-ac94e053b11c",
   "metadata": {},
   "source": [
    "And this is how a great rock band should look and sound:\n",
    "\n",
    "[![dac](https://img.youtube.com/vi/5cGJ5eIdp24/0.jpg)](https://youtu.be/5cGJ5eIdp24?t=423)\n",
    "\n",
    "Or this:\n",
    "\n",
    "[![bd](https://img.youtube.com/vi/6tlSx0jkuLM/0.jpg)](https://www.youtube.com/watch?v=6tlSx0jkuLM)"
   ]
  },
  {
   "cell_type": "markdown",
   "id": "9dc7cd67-4697-4b16-bb5e-b6fd5a157dfd",
   "metadata": {},
   "source": [
    "And a suite of four functions can make a great band for working with statistical distributions in R:\n",
    "\n",
    "- dXXXX: The density function, \"probability mass function\" for discrete distributions, the probability of getting a certain discerete value. It works as a \"probability density function\" for continuous distributions. Note that for continuous distributions, the probability of a single value is 0, so the density shows the instantaneous change in the cumulative probability of the distribution. Note that while the total probability of all values in the domain must sum to 1, the density of a certain value can be above 1.\n",
    "\n",
    "- pXXXX: Cumulative probability function, the total probability of all values in the domain equal to q or below. It ranges from 0 to 1. It is the inverse of qXXXX function.\n",
    "\n",
    "- qXXXX: Quantile function, the value in the domain where the cumulative probability equals p. It is the inverse of pXXXX function\n",
    "\n",
    "- rXXXX: Random number generator function, samples pseudo random numbers from the distribution with given parameters"
   ]
  },
  {
   "cell_type": "markdown",
   "id": "b8bccad5-3b1b-4c89-a0b8-1801f6968eb1",
   "metadata": {},
   "source": [
    "For the case of binomial distribution, we already saw `dbinom`:"
   ]
  },
  {
   "cell_type": "code",
   "execution_count": null,
   "id": "a40ec0d4-f367-4c10-8a0b-5b20933c4c63",
   "metadata": {},
   "outputs": [],
   "source": [
    "propbin <- dbinom(0:5, 5, 0.3)\n",
    "propbin"
   ]
  },
  {
   "cell_type": "code",
   "execution_count": null,
   "id": "95682741-d763-4274-8660-ceb164348269",
   "metadata": {},
   "outputs": [],
   "source": [
    "sum(propbin)"
   ]
  },
  {
   "cell_type": "code",
   "execution_count": null,
   "id": "a70e048f-a864-4e9b-8fb9-88e95a8a4100",
   "metadata": {},
   "outputs": [],
   "source": [
    "plot(propbin, type = \"l\")"
   ]
  },
  {
   "cell_type": "markdown",
   "id": "eb2b5b89-2e7c-4542-b60e-7128e7a17e7a",
   "metadata": {},
   "source": [
    "The cumulative probability function:"
   ]
  },
  {
   "cell_type": "code",
   "execution_count": null,
   "id": "a3897c18-9657-4491-8c9a-e8b466956e8c",
   "metadata": {},
   "outputs": [],
   "source": [
    "cpropbin <- pbinom(0:5, 5, 0.3)"
   ]
  },
  {
   "cell_type": "code",
   "execution_count": null,
   "id": "64c83af1-e97b-4daa-a2a9-3a81259faf1f",
   "metadata": {},
   "outputs": [],
   "source": [
    "cpropbin"
   ]
  },
  {
   "cell_type": "markdown",
   "id": "b88bef27-7dc3-4565-bb4b-913745e7a40b",
   "metadata": {},
   "source": [
    "For a discrete distribution this is basically the cumulative sum of discrete probabilities:"
   ]
  },
  {
   "cell_type": "code",
   "execution_count": null,
   "id": "2e9af843-790e-4d6f-9c16-7b19575f0e96",
   "metadata": {},
   "outputs": [],
   "source": [
    "cumsum(propbin)"
   ]
  },
  {
   "cell_type": "markdown",
   "id": "4505e459-ff7a-492b-bf77-f40efa25b023",
   "metadata": {},
   "source": [
    "The quantile function, inverse of cumulative probability function:"
   ]
  },
  {
   "cell_type": "code",
   "execution_count": null,
   "id": "7f7d5a9e-719f-462a-8347-bf57b9a0fd40",
   "metadata": {},
   "outputs": [],
   "source": [
    "qbinom(cpropbin, 5, 0.3)"
   ]
  },
  {
   "cell_type": "markdown",
   "id": "4b414f55-997d-4ee9-bacb-6df3afd16947",
   "metadata": {},
   "source": [
    "And the random number generator:"
   ]
  },
  {
   "cell_type": "code",
   "execution_count": null,
   "id": "c6449efc-5ee8-4c5e-ace2-56d7487f2274",
   "metadata": {},
   "outputs": [],
   "source": [
    "set.seed(50)\n",
    "sampbinom <- rbinom(1e4, 5, 0.3)"
   ]
  },
  {
   "cell_type": "markdown",
   "id": "b84b4dcd-ecd4-4519-8309-cb679b5e5ba6",
   "metadata": {},
   "source": [
    "The histogram is roughly the shape of the probability mass function drawn above from dbinom output:"
   ]
  },
  {
   "cell_type": "code",
   "execution_count": null,
   "id": "ef96823d-c637-4f0a-ada6-5a4e66feb019",
   "metadata": {},
   "outputs": [],
   "source": [
    "hist(sampbinom)"
   ]
  },
  {
   "cell_type": "markdown",
   "id": "fc2e812d-c1f5-4b02-b5ac-c3882ee8276c",
   "metadata": {},
   "source": [
    "And we can compare the theoretical distribution with the empirical one from the randomly generated sample:"
   ]
  },
  {
   "cell_type": "code",
   "execution_count": null,
   "id": "e4232932-880d-491c-a855-6d85d9481373",
   "metadata": {},
   "outputs": [],
   "source": [
    "propbin"
   ]
  },
  {
   "cell_type": "code",
   "execution_count": null,
   "id": "06d31f5a-b01a-4ba3-9bf6-1f3712ccb40e",
   "metadata": {},
   "outputs": [],
   "source": [
    "rpropbin <- as.numeric(prop.table(table(sampbinom)))\n",
    "rpropbin"
   ]
  },
  {
   "cell_type": "code",
   "execution_count": null,
   "id": "6354b4cc-ca4b-4c0a-8e59-d804a4b9fbb4",
   "metadata": {},
   "outputs": [],
   "source": [
    "plot(propbin, type = \"l\", col = \"blue\")\n",
    "lines(rpropbin, col = \"red\")"
   ]
  },
  {
   "cell_type": "markdown",
   "id": "53cb3358-3bae-49de-ab19-0109a3269cae",
   "metadata": {},
   "source": [
    "The mean of binomial distribution is $np$ while the variance is $np(1-p)$"
   ]
  },
  {
   "cell_type": "code",
   "execution_count": null,
   "id": "2a896d38-d046-405c-a369-92f5cdd9227d",
   "metadata": {},
   "outputs": [],
   "source": [
    "meant <- 5 * 0.3\n",
    "meant"
   ]
  },
  {
   "cell_type": "code",
   "execution_count": null,
   "id": "14cdfff2-4f77-43dd-bb65-db8e01c962ba",
   "metadata": {},
   "outputs": [],
   "source": [
    "vart <- 5 * 0.3 * (1-0.3)\n",
    "vart"
   ]
  },
  {
   "cell_type": "markdown",
   "id": "c5b7b477-689b-4599-bfeb-f1eab5b68b68",
   "metadata": {},
   "source": [
    "Compare with the random sample:"
   ]
  },
  {
   "cell_type": "code",
   "execution_count": null,
   "id": "48ec7197-3d4f-4593-be16-9d59a4511b3c",
   "metadata": {},
   "outputs": [],
   "source": [
    "meanr <- mean(sampbinom)\n",
    "meanr"
   ]
  },
  {
   "cell_type": "code",
   "execution_count": null,
   "id": "1f81dce1-48b2-40de-a86e-1f52cb7a815e",
   "metadata": {},
   "outputs": [],
   "source": [
    "varr <- var(sampbinom)\n",
    "varr"
   ]
  },
  {
   "cell_type": "markdown",
   "id": "2733da4c-2b42-41c7-ba42-f0c3b03fabe2",
   "metadata": {},
   "source": [
    "## Example"
   ]
  },
  {
   "cell_type": "markdown",
   "id": "d153937b-ec3d-499c-909a-91bc97af93ab",
   "metadata": {},
   "source": [
    "> In the World Series Baseball, the final two teams\n",
    "play a series consisting of no more than seven games until one of the\n",
    "teams has won four games. The winner takes all of the prize money\n",
    "of $1 000 000. In one such a final, two teams are pitted against one\n",
    "another and the stronger team will win any given game with a probability of 0.55. Unexpectedly, the competition must be suspended\n",
    "when the weaker team leads two games to one. How should the prize\n",
    "money be divided if the remaining games cannot be played?\n",
    "\n",
    "(Tijms 2023, A First Course In Probability For Computer And Data Science, p. 81)"
   ]
  },
  {
   "cell_type": "markdown",
   "id": "4145df84-aa8b-4be5-8edc-76104fe6967b",
   "metadata": {},
   "source": [
    "**Solution:**\n",
    "\n",
    "Let's formulize the problem using binomial distribution.\n",
    "\n",
    "- p of stronger team (S) is 0.55 and p of weaker team (W) is 0.45\n",
    "- At suspension the points are 2 for W 1 for S\n",
    "- The first team to reach 4 points is the winner\n",
    "- The max games they have to play is:"
   ]
  },
  {
   "cell_type": "code",
   "execution_count": null,
   "id": "08b32f5f-56f3-4bc6-87ea-aba3deb5a275",
   "metadata": {},
   "outputs": [],
   "source": [
    "ngames <- (4 - 2) + (4 - 1) - 1\n",
    "ngames"
   ]
  },
  {
   "cell_type": "markdown",
   "id": "2298b947-f0db-4255-ac4d-f1fb1a76adc1",
   "metadata": {},
   "source": [
    "The last minus is there because, only the first one to reach 4 points will be proclaimed the winner.\n",
    "\n",
    "For the W to win, it must win at least 2 games in 4 games:"
   ]
  },
  {
   "cell_type": "code",
   "execution_count": null,
   "id": "63994672-746a-4063-b0ea-870214762ad1",
   "metadata": {},
   "outputs": [],
   "source": [
    "pweak <- sum(dbinom(2:4, 4, 0.45))\n",
    "pweak"
   ]
  },
  {
   "cell_type": "markdown",
   "id": "31338537-89e1-422e-ab53-140ddfce2782",
   "metadata": {},
   "source": [
    "Alternatively, using the complement rule and cumulative probability up to 1 games:"
   ]
  },
  {
   "cell_type": "code",
   "execution_count": null,
   "id": "bee09e63-21a7-4bfa-ac37-8b2cd076e3c6",
   "metadata": {},
   "outputs": [],
   "source": [
    "1 - pbinom(1, 4, 0.45)"
   ]
  },
  {
   "cell_type": "markdown",
   "id": "43832c1b-c692-41a0-a178-63748cd214b6",
   "metadata": {},
   "source": [
    "So the prize should be divided as:"
   ]
  },
  {
   "cell_type": "code",
   "execution_count": null,
   "id": "624e5e91-8ae1-4296-874b-221c2b2d21b5",
   "metadata": {},
   "outputs": [],
   "source": [
    "1e6 * pweak"
   ]
  },
  {
   "cell_type": "markdown",
   "id": "c03bc4e9-26ff-4af3-9c3d-7b4f4e771767",
   "metadata": {},
   "source": [
    "to W and:"
   ]
  },
  {
   "cell_type": "code",
   "execution_count": null,
   "id": "7dd57ae4-6fec-4fb0-b146-4237f5217b57",
   "metadata": {},
   "outputs": [],
   "source": [
    "1e6 * (1 - pweak)"
   ]
  },
  {
   "cell_type": "markdown",
   "id": "c805fb04-ea77-4d80-b1a1-3765a0085d6a",
   "metadata": {},
   "source": [
    "to S"
   ]
  },
  {
   "cell_type": "markdown",
   "id": "da1601e6-9608-4635-9e7e-c7cf0d75501a",
   "metadata": {},
   "source": [
    "Later on, we will see how binomial distribution is related to Poisson distribution and normal distribution."
   ]
  },
  {
   "cell_type": "markdown",
   "id": "bbf46365-a3d7-49bd-bdf5-5b922fe6709e",
   "metadata": {},
   "source": [
    "# Geometric distribution"
   ]
  },
  {
   "cell_type": "markdown",
   "id": "13c969f9-1062-4a1d-9a8c-a85fc1297d6f",
   "metadata": {},
   "source": [
    "Geometric distribution is the distribution of number of Bernoulli trials (coin tosses) to get a success (head) or number of fails (tail) before a success.\n",
    "\n",
    "So it may be thought of as a discrete time to success distribution."
   ]
  },
  {
   "cell_type": "markdown",
   "id": "9602286b-6bb6-4683-bfda-ed2fa4d2cba8",
   "metadata": {},
   "source": [
    "While two versions of the distribution can be calculated as the probability of $k$ number of trials including the first success or $k$ number of (failed) trials until the first success, following the choice of the base R function, we will stick to the second definition of $k$ number of trials until (and excluding) the first success. For a bias of $p$ the probability of having $k$ tails (failures) before the first head (success) is:\n",
    "\n",
    "${\\displaystyle \\Pr(Y=k)=(1-p)^{k}p}$\n",
    "\n",
    "The expected value is:\n",
    "\n",
    "${\\displaystyle \\operatorname {E} (Y)={\\frac {1-p}{p}}}$\n",
    "\n",
    "while the variance is:\n",
    "\n",
    "${\\displaystyle \\operatorname {var} (Y)={\\frac {1-p}{p^{2}}}}$\n",
    "\n",
    "(https://en.wikipedia.org/wiki/Geometric_distribution)\n",
    "\n",
    "So we have to get $k$ failures each with a probability of $1-p$, followed by a success with a probability of $p$.\n",
    "\n",
    "\n",
    "Note that we don't have to multiply the probability with the number of combinations or sequences that result in the certain number of tails because there is only one sequence which is just a series of tails before the first head.\n",
    "\n",
    "The probabilities follow a geometric sequence, since each successive value is the previous one multiplied by $1-p$, and hence the distribution is called geometric."
   ]
  },
  {
   "cell_type": "markdown",
   "id": "f456a4ef-f2c3-4e1b-a7bf-cd58b02d6703",
   "metadata": {},
   "source": [
    "We can extract the $k$ trials until success from a sequence of Bernoulli trials. Let's try it with a fair coin:"
   ]
  },
  {
   "cell_type": "code",
   "execution_count": null,
   "id": "4e101d70-46ee-48c4-b372-d2023c043008",
   "metadata": {},
   "outputs": [],
   "source": [
    "px <- 0.5"
   ]
  },
  {
   "cell_type": "code",
   "execution_count": null,
   "id": "4df16420-36ff-4b37-9803-bee92537be3d",
   "metadata": {},
   "outputs": [],
   "source": [
    "set.seed(40)\n",
    "bernt <- rbinom(1e4, 1, px)"
   ]
  },
  {
   "cell_type": "code",
   "execution_count": null,
   "id": "4545a75c-1162-40d1-a4d9-62b44cf3126c",
   "metadata": {},
   "outputs": [],
   "source": [
    "summary(bernt)"
   ]
  },
  {
   "cell_type": "markdown",
   "id": "a95fca7a-29cc-4253-a99f-349c6d27e792",
   "metadata": {},
   "source": [
    "How can we get the $k$'s to success?\n",
    "\n",
    "One way is to use the run length function `rle` in base R. Run lengh encoding clusters equal contiguous values and returns those values along with their frequencies:"
   ]
  },
  {
   "cell_type": "code",
   "execution_count": null,
   "id": "17e2b573-7c9d-4415-a7be-ce303b93484f",
   "metadata": {},
   "outputs": [],
   "source": [
    "rle0 <- rle(bernt)"
   ]
  },
  {
   "cell_type": "code",
   "execution_count": null,
   "id": "e1952ee3-1eba-4b22-8b77-b1a1f17bb6a2",
   "metadata": {},
   "outputs": [],
   "source": [
    "str(rle0)"
   ]
  },
  {
   "cell_type": "markdown",
   "id": "3bc825d6-8afd-4e74-8678-8d199ed5ea8c",
   "metadata": {},
   "source": [
    "Convert it to a data.table:"
   ]
  },
  {
   "cell_type": "code",
   "execution_count": null,
   "id": "baf49dbc-202a-448d-aeb5-21b5d5c9d114",
   "metadata": {},
   "outputs": [],
   "source": [
    "setDT(rle0)"
   ]
  },
  {
   "cell_type": "markdown",
   "id": "08883d7b-4a8e-4725-9269-b7e07ab45ce0",
   "metadata": {},
   "source": [
    "Filter for length where value is 0 (for tail or failure):"
   ]
  },
  {
   "cell_type": "code",
   "execution_count": null,
   "id": "23e361dd-d15f-4d19-a593-761caeedafde",
   "metadata": {},
   "outputs": [],
   "source": [
    "table(rle0[values == 0, lengths])"
   ]
  },
  {
   "cell_type": "code",
   "execution_count": null,
   "id": "e797cee7-f5ce-491f-a7f6-cdd5a8870b54",
   "metadata": {},
   "outputs": [],
   "source": [
    "hist(rle0[values == 0, lengths])"
   ]
  },
  {
   "cell_type": "markdown",
   "id": "7a866912-b6b5-47fa-938b-1d26e23ad2de",
   "metadata": {},
   "source": [
    "Note that `rle` calculates the successive number of same values in the vector, so when we have consecutive 1's, the number of trials to success must be 0 and `rle` excludes those 0 length runs. We can calculate the number of 0 length runs as such:"
   ]
  },
  {
   "cell_type": "code",
   "execution_count": null,
   "id": "8503bfca-f389-42ab-8618-4edf60bd99a2",
   "metadata": {},
   "outputs": [],
   "source": [
    "rle0[values == 1, sum(lengths - 1)]"
   ]
  },
  {
   "cell_type": "markdown",
   "id": "82530331-cec6-4aa0-a7b5-ded4e93e6f66",
   "metadata": {},
   "source": [
    "Since if we have a sequence of $n$ successes, we have $n-1$ zero length sequence of failures until success."
   ]
  },
  {
   "cell_type": "markdown",
   "id": "f5c29382-1ed9-42a1-a05b-92971c0722e5",
   "metadata": {},
   "source": [
    "A second way is more general in the sense that we can also use it for the next distribution, negative binomial, and we don't have to treat zero length runs separately."
   ]
  },
  {
   "cell_type": "markdown",
   "id": "c99c547f-f7b2-496b-88bf-a48a4d6ccbb8",
   "metadata": {},
   "source": [
    "First let's create a data.table out of the simulated values, to wrangle easier:"
   ]
  },
  {
   "cell_type": "code",
   "execution_count": null,
   "id": "65c7dfab-e1e4-407e-b18f-3892c23feedd",
   "metadata": {},
   "outputs": [],
   "source": [
    "bernt_dt <- data.table(bernt)"
   ]
  },
  {
   "cell_type": "markdown",
   "id": "91ae4f42-b51d-4bbc-9939-a21aa2b3f11b",
   "metadata": {},
   "source": [
    "Add an index so that we can reverse the order and get it back easily:"
   ]
  },
  {
   "cell_type": "code",
   "execution_count": null,
   "id": "8599f96d-2cba-4269-87d7-0a363d114dc3",
   "metadata": {},
   "outputs": [],
   "source": [
    "bernt_dt[, ind := .I]"
   ]
  },
  {
   "cell_type": "markdown",
   "id": "af91f680-7616-48d9-bb4a-12fba7917ea3",
   "metadata": {},
   "source": [
    "Reverse the order:"
   ]
  },
  {
   "cell_type": "code",
   "execution_count": null,
   "id": "41e2e694-20d9-419c-ba79-76c303b50068",
   "metadata": {},
   "outputs": [],
   "source": [
    "setorder(bernt_dt, -ind)"
   ]
  },
  {
   "cell_type": "markdown",
   "id": "5da65ee4-63ce-40bd-b9c8-5795f871b57b",
   "metadata": {},
   "source": [
    "Add a cumulative sum:"
   ]
  },
  {
   "cell_type": "code",
   "execution_count": null,
   "id": "de12e896-9ee9-4c85-8b53-6fa39315723e",
   "metadata": {},
   "outputs": [],
   "source": [
    "bernt_dt[, csum := cumsum(bernt)]"
   ]
  },
  {
   "cell_type": "markdown",
   "id": "2c461934-6102-4749-bc30-80286c91bb5a",
   "metadata": {},
   "source": [
    "Get back the original order:"
   ]
  },
  {
   "cell_type": "code",
   "execution_count": null,
   "id": "13ec1910-fa82-4d93-8993-f54db308f3a2",
   "metadata": {},
   "outputs": [],
   "source": [
    "setorder(bernt_dt, ind)"
   ]
  },
  {
   "cell_type": "markdown",
   "id": "1d56db70-de20-472f-8856-c479ea33229e",
   "metadata": {},
   "source": [
    "Reverse the cumulative sum values, starting from 1:"
   ]
  },
  {
   "cell_type": "code",
   "execution_count": null,
   "id": "5282f6ea-6b52-40de-992c-ebe214a89ce9",
   "metadata": {},
   "outputs": [],
   "source": [
    "bernt_dt[, csum := max(csum) - csum + 1]"
   ]
  },
  {
   "cell_type": "markdown",
   "id": "fe214616-f0ae-4ed1-ad40-c47047a63601",
   "metadata": {},
   "source": [
    "What we have now:"
   ]
  },
  {
   "cell_type": "markdown",
   "id": "83273797-51e3-44cb-ab01-8a4ee7afba31",
   "metadata": {},
   "source": [
    "See that, each sequence starting with a new failure until the success has a separate csum value. The csum value can be considered a sequence index:"
   ]
  },
  {
   "cell_type": "code",
   "execution_count": null,
   "id": "fac43722-1ad5-46cf-89b4-88daa6adff9a",
   "metadata": {},
   "outputs": [],
   "source": [
    "bernt_dt"
   ]
  },
  {
   "cell_type": "markdown",
   "id": "ef309f78-db73-4c53-a0bd-93fd6a758694",
   "metadata": {},
   "source": [
    "Now get the length of each failure sequence, one minus the total lenth of sequence:"
   ]
  },
  {
   "cell_type": "code",
   "execution_count": null,
   "id": "2a65c703-d09a-4687-98d7-3ce1130e022e",
   "metadata": {},
   "outputs": [],
   "source": [
    "lengths0 <- bernt_dt[, .(lengthx = .N - 1), by = csum][, lengthx]"
   ]
  },
  {
   "cell_type": "code",
   "execution_count": null,
   "id": "556b2ff9-9858-4f61-9c49-2cbee8926d6d",
   "metadata": {},
   "outputs": [],
   "source": [
    "summary(lengths0)"
   ]
  },
  {
   "cell_type": "markdown",
   "id": "b6e1758d-0a47-42b2-9e02-d0fc63c886a3",
   "metadata": {},
   "source": [
    "Total number of sequences is (for the purposes of simulating from geometric distribution), this is equal to total number of successes:"
   ]
  },
  {
   "cell_type": "code",
   "execution_count": null,
   "id": "662baf9d-0c60-4e5c-8bcf-acd2197a9881",
   "metadata": {},
   "outputs": [],
   "source": [
    "nlengths0 <- length(lengths0)\n",
    "nlengths0"
   ]
  },
  {
   "cell_type": "markdown",
   "id": "5d59d81b-3ce6-4e20-937e-aa5227bf6847",
   "metadata": {},
   "source": [
    "The empirical bias value is obviously number of successes divided by the total sample size:"
   ]
  },
  {
   "cell_type": "markdown",
   "id": "9b20435f-cdc1-4a82-9a8b-4945f3c2b1e0",
   "metadata": {},
   "source": [
    "Let's simulate values from geometric distribution:"
   ]
  },
  {
   "cell_type": "code",
   "execution_count": null,
   "id": "f97576ed-06c5-4c81-9c05-b06d922a447b",
   "metadata": {},
   "outputs": [],
   "source": [
    "set.seed(62)\n",
    "simul0geom <- rgeom(nlengths0, px)\n",
    "#simulgeom <- simulgeom[simulgeom != 0]"
   ]
  },
  {
   "cell_type": "markdown",
   "id": "43f2e126-9412-488b-a569-91205257e864",
   "metadata": {},
   "source": [
    "Compare the contingency tables that we extract from Bernoulli trials and geometric distribution simulation:"
   ]
  },
  {
   "cell_type": "code",
   "execution_count": null,
   "id": "936c228b-365a-45f3-8c0d-3e9963118175",
   "metadata": {},
   "outputs": [],
   "source": [
    "table(lengths0)"
   ]
  },
  {
   "cell_type": "code",
   "execution_count": null,
   "id": "bed571c9-d07c-4561-95c6-1e0ee4e28b48",
   "metadata": {},
   "outputs": [],
   "source": [
    "table(simul0geom)"
   ]
  },
  {
   "cell_type": "markdown",
   "id": "0802f6a6-d7b8-4d8b-a4c1-0f8d614345b6",
   "metadata": {},
   "source": [
    "We see that values are quite similar.\n",
    "\n",
    "Now let's compare the histograms:"
   ]
  },
  {
   "cell_type": "code",
   "execution_count": null,
   "id": "543d8a52-6038-4107-9c83-cc669ed2d958",
   "metadata": {},
   "outputs": [],
   "source": [
    "hist(lengths0)"
   ]
  },
  {
   "cell_type": "code",
   "execution_count": null,
   "id": "01fb8c38-8f65-4679-ba85-bd09f1747cde",
   "metadata": {},
   "outputs": [],
   "source": [
    "hist(simul0geom)"
   ]
  },
  {
   "cell_type": "markdown",
   "id": "8e8973cb-b515-4b84-b723-5f1fd86dd0d9",
   "metadata": {},
   "source": [
    "They are also quite similar.\n",
    "\n",
    "Now let's compare the empirical and theoretical probability mass functions:"
   ]
  },
  {
   "cell_type": "markdown",
   "id": "f97862d1-59d2-432c-b0f2-b45da67c55af",
   "metadata": {},
   "source": [
    "The unique length values:"
   ]
  },
  {
   "cell_type": "code",
   "execution_count": null,
   "id": "5763b175-aa8d-4121-b9e5-9949dfa67a9d",
   "metadata": {},
   "outputs": [],
   "source": [
    "lengths0u <- sort(unique(lengths0))\n",
    "lengths0u"
   ]
  },
  {
   "cell_type": "markdown",
   "id": "263b92c8-ae6a-4fe7-b7f3-6e90c4aa00cd",
   "metadata": {},
   "source": [
    "And max length values:"
   ]
  },
  {
   "cell_type": "code",
   "execution_count": null,
   "id": "c519ff3e-cdcc-4fa3-adc4-8a625460eeab",
   "metadata": {},
   "outputs": [],
   "source": [
    "lengths0max <- max(lengths0u)\n",
    "lengths0max"
   ]
  },
  {
   "cell_type": "code",
   "execution_count": null,
   "id": "4ef1c9ac-29e0-4af1-b7b7-43069e86d655",
   "metadata": {},
   "outputs": [],
   "source": [
    "plot(lengths0u, as.numeric(prop.table(table(lengths0))), type = \"l\", col = \"red\")\n",
    "lines(0:lengths0max, dgeom(0:lengths0max, px), col = \"blue\")"
   ]
  },
  {
   "cell_type": "markdown",
   "id": "c5edce74-9b6a-458d-91ce-c7c374b5d475",
   "metadata": {},
   "source": [
    "The curves nearly coincide, so we confirm that the number of trials before success in a sequence of Bernoulli trials is geometrically distributed. "
   ]
  },
  {
   "cell_type": "markdown",
   "id": "d64cbfbb-848e-46a3-8a18-bfc966f0b737",
   "metadata": {},
   "source": [
    "Now let's compare the empirical and theoretical mean and variance values:"
   ]
  },
  {
   "cell_type": "markdown",
   "id": "812eb4a1-63f8-44e1-9252-1151c40e6e23",
   "metadata": {},
   "source": [
    "Theoretical mean is:"
   ]
  },
  {
   "cell_type": "code",
   "execution_count": null,
   "id": "36a39b23-f94f-4c37-90f2-a744a90fa027",
   "metadata": {},
   "outputs": [],
   "source": [
    "(1 - px) / px"
   ]
  },
  {
   "cell_type": "markdown",
   "id": "46510ca1-453c-408d-864b-e89e5ea3a21a",
   "metadata": {},
   "source": [
    "And variance is:"
   ]
  },
  {
   "cell_type": "code",
   "execution_count": null,
   "id": "5c34e4df-183d-44b5-a814-145e9da41897",
   "metadata": {},
   "outputs": [],
   "source": [
    "(1 - px) / px^2"
   ]
  },
  {
   "cell_type": "markdown",
   "id": "1d247e11-d9df-4554-82d8-8bf566f53320",
   "metadata": {},
   "source": [
    "Empirical values are:"
   ]
  },
  {
   "cell_type": "code",
   "execution_count": null,
   "id": "5eb76911-003a-45bf-b935-79562a3dc7a7",
   "metadata": {},
   "outputs": [],
   "source": [
    "mean(lengths0)"
   ]
  },
  {
   "cell_type": "code",
   "execution_count": null,
   "id": "353a0f09-d77c-4fc1-953e-eaa117feb2cf",
   "metadata": {},
   "outputs": [],
   "source": [
    "var(lengths0)"
   ]
  },
  {
   "cell_type": "markdown",
   "id": "bf2d7335-566f-4ba5-b0a0-4056f5fffe4d",
   "metadata": {},
   "source": [
    "Quite close"
   ]
  },
  {
   "cell_type": "markdown",
   "id": "d8a386fe-5d42-46ec-9b58-9b18445f29c4",
   "metadata": {},
   "source": [
    "## Example 1 (Optional)"
   ]
  },
  {
   "cell_type": "markdown",
   "id": "265ed871-fb85-4565-a71a-f089ecafaafa",
   "metadata": {},
   "source": [
    "An important use of geometric distribution can be probing whether a certain sequence of Bernoulli trials are authentic and random or artificially generated.\n",
    "\n",
    "Let's say someone came up with a sequence of coin tosses claimed to have been generated by a random process. But we suspect that the sequence is artificially generated.\n",
    "\n",
    "If people are making up a sequence of coin tosses from imagination, they will be reluctant to record long sequences of same values since they will assume long sequences appear less frequently than probability theory says. So people may have a tendency to temporarily decrease the bias in subsequent successes/heads or increase the bias in subsequent failures/tails, until the new value is inverted so the run is reset and so is the bias.\n",
    "\n",
    "The idea is also echoed in a resource:\n",
    "\n",
    "> Most people tend to avoid noting long sequences of consecutive\n",
    "heads or tails. Truly random sequences do not share this human tendency!\n",
    "\n",
    "(Tijms 2007, Understanding Probability: Chance Rules in Everyday Life, p. 192)"
   ]
  },
  {
   "cell_type": "markdown",
   "id": "ccd3e5fd-6925-4067-ac6a-912ca2cd5063",
   "metadata": {},
   "source": [
    "Let's create a matrix of simulated Bernoulli trials, where each column represents a different bias between 0 and 1, set apart by 0.1:"
   ]
  },
  {
   "cell_type": "code",
   "execution_count": null,
   "id": "7ca153f6-a381-42ff-b1b5-76c4ccfce544",
   "metadata": {},
   "outputs": [],
   "source": [
    "set.seed(60)\n",
    "bernshortrun <- rbinom(1.1e5, 1, seq(0, 1, 0.1))"
   ]
  },
  {
   "cell_type": "code",
   "execution_count": null,
   "id": "e640715c-826e-4c6a-be25-c889df411fc7",
   "metadata": {},
   "outputs": [],
   "source": [
    "bernshortrunm <- matrix(bernshortrun, ncol = 11, byrow = T)"
   ]
  },
  {
   "cell_type": "markdown",
   "id": "cb99e563-8a1c-4d9b-a52d-f92c89c62931",
   "metadata": {},
   "source": [
    "So the first columns is always 0 and the last column is always 1:"
   ]
  },
  {
   "cell_type": "code",
   "execution_count": null,
   "id": "1d4a4ec7-7bb7-40a0-acd0-efe3e9fa35f4",
   "metadata": {},
   "outputs": [],
   "source": [
    "bernshortrunm"
   ]
  },
  {
   "cell_type": "code",
   "execution_count": null,
   "id": "3142e6b0-32f0-43b4-94ea-3920132f8094",
   "metadata": {},
   "outputs": [],
   "source": [
    "dim(bernshortrunm)"
   ]
  },
  {
   "cell_type": "markdown",
   "id": "a79a4de2-9f91-4176-b316-25461c5cd1f3",
   "metadata": {},
   "source": [
    "The empirical means are:"
   ]
  },
  {
   "cell_type": "code",
   "execution_count": null,
   "id": "0830a9aa-d43d-4679-9173-cbb5d1626e74",
   "metadata": {},
   "outputs": [],
   "source": [
    "colMeans(bernshortrunm)"
   ]
  },
  {
   "cell_type": "markdown",
   "id": "d9dec3bf-3e05-437d-90c7-7db826225176",
   "metadata": {},
   "source": [
    "Let's set the true intended bias to 0.5:"
   ]
  },
  {
   "cell_type": "code",
   "execution_count": null,
   "id": "7afd36f9-c106-4d1e-8d35-56410d0db456",
   "metadata": {},
   "outputs": [],
   "source": [
    "bias <- 0.5"
   ]
  },
  {
   "cell_type": "markdown",
   "id": "1772e540-2fdf-4200-9c39-e21ba897baaa",
   "metadata": {},
   "source": [
    "We track or reset the column index to pick the value from for each row. So if the 1 values persist, we decrease the bias until we reach the first column of all 0's. If the 0 values persist, we increase the bias until we reach the last column of all 1's."
   ]
  },
  {
   "cell_type": "code",
   "execution_count": null,
   "id": "bb17fd63-0614-4e84-83dc-c9979bdf68b4",
   "metadata": {},
   "outputs": [],
   "source": [
    "lastval <- -1\n",
    "biasc <- 1 + bias * 10\n",
    "colx <- biasc\n",
    "vals <- rep(NA, 1e4)"
   ]
  },
  {
   "cell_type": "code",
   "execution_count": null,
   "id": "422ad5b5-ba26-4c44-b424-6f0649969a85",
   "metadata": {},
   "outputs": [],
   "source": [
    "for (iter in 1:1e4)\n",
    "{\n",
    "    newval <- bernshortrunm[iter, colx]\n",
    "    vals[iter] <- newval\n",
    "    resetx <- (newval != lastval)\n",
    "\n",
    "    if (resetx)\n",
    "    {\n",
    "        colx <- biasc\n",
    "    } else\n",
    "    {\n",
    "        directx <- 1 - newval * 2\n",
    "        colx <- colx + directx\n",
    "    }\n",
    "    lastval <- newval\n",
    "}"
   ]
  },
  {
   "cell_type": "markdown",
   "id": "e7134b01-fea0-43c1-a566-4959ca851730",
   "metadata": {},
   "source": [
    "The empirical bias in the column for intended bias of 0.5 is:"
   ]
  },
  {
   "cell_type": "code",
   "execution_count": null,
   "id": "fe4ef318-2276-4f19-bc6e-a5ada03d35d3",
   "metadata": {},
   "outputs": [],
   "source": [
    "bias1 <- mean(bernshortrunm[, biasc])\n",
    "bias1"
   ]
  },
  {
   "cell_type": "markdown",
   "id": "9aa086fe-ab54-4738-a1a5-7711a05841ea",
   "metadata": {},
   "source": [
    "And the empirical bias for the \"fake\" simulated values is:"
   ]
  },
  {
   "cell_type": "code",
   "execution_count": null,
   "id": "76ca2626-8ae5-47e4-9f1d-d556093c557e",
   "metadata": {},
   "outputs": [],
   "source": [
    "bias2 <- mean(vals)\n",
    "bias2"
   ]
  },
  {
   "cell_type": "markdown",
   "id": "95aeea74-1a80-44f8-a500-b2da486fec5f",
   "metadata": {},
   "source": [
    "They are both close to the originally intended bias. So we cannot discriminate the genuine and fake simulations just looking at the empirical biases."
   ]
  },
  {
   "cell_type": "markdown",
   "id": "66a617f8-a64e-4227-a2de-96da8baf5b68",
   "metadata": {},
   "source": [
    "Let's extract the failure lengths in the genunine sequence using the easier rle method:"
   ]
  },
  {
   "cell_type": "code",
   "execution_count": null,
   "id": "d0929980-b7b6-4cbb-8144-0395990b38d8",
   "metadata": {},
   "outputs": [],
   "source": [
    "rle1 <- rle(bernshortrunm[, biasc])"
   ]
  },
  {
   "cell_type": "code",
   "execution_count": null,
   "id": "b5ade4b5-48e8-49ac-bd17-33c93788d92a",
   "metadata": {},
   "outputs": [],
   "source": [
    "setDT(rle1)"
   ]
  },
  {
   "cell_type": "markdown",
   "id": "598c1679-3c90-4ac0-8e8c-7cc8a5a48827",
   "metadata": {},
   "source": [
    "And get the number of zero length failure sequences:"
   ]
  },
  {
   "cell_type": "code",
   "execution_count": null,
   "id": "d19519e7-5d89-452a-8ce1-66c6513a955c",
   "metadata": {},
   "outputs": [],
   "source": [
    "rle1zero <- rle1[values == 1 & lengths > 1, sum(lengths - 1)]\n",
    "rle1zero"
   ]
  },
  {
   "cell_type": "code",
   "execution_count": null,
   "id": "6b7d950b-9b31-4481-8279-06c29757da8f",
   "metadata": {},
   "outputs": [],
   "source": []
  },
  {
   "cell_type": "markdown",
   "id": "a4f7c591-978e-4b75-ba63-07dfabba856d",
   "metadata": {},
   "source": [
    "Now let's do the same to the \"fake\" simulations:"
   ]
  },
  {
   "cell_type": "code",
   "execution_count": null,
   "id": "022ba662-0edf-457f-8394-381cf2d49a64",
   "metadata": {},
   "outputs": [],
   "source": [
    "rle2 <- rle(vals)"
   ]
  },
  {
   "cell_type": "code",
   "execution_count": null,
   "id": "04d157a0-ad01-4dc7-833f-26fd2c664726",
   "metadata": {},
   "outputs": [],
   "source": [
    "setDT(rle2)"
   ]
  },
  {
   "cell_type": "code",
   "execution_count": null,
   "id": "36eeba2c-37c3-4c5c-9f13-c2008e1c7d05",
   "metadata": {},
   "outputs": [],
   "source": [
    "rle2zero <- rle2[values == 1 & lengths > 1, sum(lengths - 1)]\n",
    "rle2zero"
   ]
  },
  {
   "cell_type": "code",
   "execution_count": null,
   "id": "93cf3106-8896-411c-bd18-274b77200ffd",
   "metadata": {},
   "outputs": [],
   "source": []
  },
  {
   "cell_type": "markdown",
   "id": "e0019a08-a318-47c4-a1ad-924b399db482",
   "metadata": {},
   "source": [
    "Combine genuine failure length with the respective zero values:"
   ]
  },
  {
   "cell_type": "code",
   "execution_count": null,
   "id": "20ee7ade-234c-4b37-90fa-d8f36d8531c8",
   "metadata": {},
   "outputs": [],
   "source": [
    "rle1_with0 <- c(rle1[values == 0, lengths], rep(0, rle1zero))"
   ]
  },
  {
   "cell_type": "markdown",
   "id": "20819fe6-4da9-4e1c-b8ae-af401194f0ea",
   "metadata": {},
   "source": [
    "Total number of sequences:"
   ]
  },
  {
   "cell_type": "code",
   "execution_count": null,
   "id": "2bcebb0b-e10b-4abb-bb5e-c4606c9bf18c",
   "metadata": {},
   "outputs": [],
   "source": [
    "rle1length <- length(rle1_with0)"
   ]
  },
  {
   "cell_type": "code",
   "execution_count": null,
   "id": "f002bc08-8f66-4b96-ac07-b231a6c28ade",
   "metadata": {},
   "outputs": [],
   "source": [
    "rle1length"
   ]
  },
  {
   "cell_type": "markdown",
   "id": "5a1dfa5b-5b25-485b-a764-ac668567c1bb",
   "metadata": {},
   "source": [
    "Now simulate the same number of values from geometric distribution with the same bias:"
   ]
  },
  {
   "cell_type": "code",
   "execution_count": null,
   "id": "0fc859c0-9034-4e7a-9d47-e11aa445f100",
   "metadata": {},
   "outputs": [],
   "source": [
    "set.seed(65)\n",
    "simul1geom <- rgeom(rle1length, bias)\n",
    "#simulgeom <- simulgeom[simulgeom != 0]"
   ]
  },
  {
   "cell_type": "markdown",
   "id": "1e4bdd80-0c5f-4523-ac2b-51ed45d71f06",
   "metadata": {},
   "source": [
    "Compare contingency tables:"
   ]
  },
  {
   "cell_type": "code",
   "execution_count": null,
   "id": "5eccc538-7237-4a46-a22e-0ab4928176ee",
   "metadata": {},
   "outputs": [],
   "source": [
    "table(rle1_with0)"
   ]
  },
  {
   "cell_type": "code",
   "execution_count": null,
   "id": "ca5d41af-f7e3-444a-9314-aebb47083f80",
   "metadata": {},
   "outputs": [],
   "source": [
    "table(simul1geom)"
   ]
  },
  {
   "cell_type": "markdown",
   "id": "a2f2eb0b-ae97-4819-8b01-4c4ce4cf0704",
   "metadata": {},
   "source": [
    "They are quite close.\n",
    "\n",
    "And compare histograms:"
   ]
  },
  {
   "cell_type": "code",
   "execution_count": null,
   "id": "a7fdc8d0-3a10-4ba4-8e49-121cf9f7771f",
   "metadata": {},
   "outputs": [],
   "source": [
    "hist(rle1_with0)"
   ]
  },
  {
   "cell_type": "code",
   "execution_count": null,
   "id": "b297ac3b-b1d1-41b3-9726-47811cffdb0f",
   "metadata": {},
   "outputs": [],
   "source": [
    "hist(simul1geom)"
   ]
  },
  {
   "cell_type": "markdown",
   "id": "ecdf123c-a60f-4ca3-a396-7ed9ea312671",
   "metadata": {},
   "source": [
    "Similar again. Now show the empirical and theoretical probability mass functions:"
   ]
  },
  {
   "cell_type": "code",
   "execution_count": null,
   "id": "eacd9b30-9d21-4c13-8715-1361d56a4668",
   "metadata": {},
   "outputs": [],
   "source": [
    "lengthx1 <- sort(unique(rle1_with0))"
   ]
  },
  {
   "cell_type": "code",
   "execution_count": null,
   "id": "4dfb8494-5fd9-4cb3-9612-b2ba34eb25c1",
   "metadata": {},
   "outputs": [],
   "source": [
    "plot(lengthx1, as.numeric(prop.table(table(rle1_with0))), type = \"l\", col = \"red\")\n",
    "lines(lengthx1, dgeom(lengthx1, bias1), col = \"blue\")"
   ]
  },
  {
   "cell_type": "markdown",
   "id": "67eabdd3-c913-4829-8763-cfb3b2983903",
   "metadata": {},
   "source": [
    "They perfectly coincide, we can be sure that the Bernouilli trials are genuine"
   ]
  },
  {
   "cell_type": "markdown",
   "id": "2b3d5d1e-62c7-488b-8b08-a1017f5861f5",
   "metadata": {},
   "source": [
    "We can also confirm that with the empirical mean and variance values:"
   ]
  },
  {
   "cell_type": "code",
   "execution_count": null,
   "id": "e0e2fd4d-6573-482c-98ec-35e4af8ae8a5",
   "metadata": {},
   "outputs": [],
   "source": [
    "mean(rle1_with0)"
   ]
  },
  {
   "cell_type": "code",
   "execution_count": null,
   "id": "2cfde4a4-9b6b-4196-b36c-ec2178b22175",
   "metadata": {},
   "outputs": [],
   "source": [
    "var(rle1_with0)"
   ]
  },
  {
   "cell_type": "code",
   "execution_count": null,
   "id": "481cb5af-e2cb-4592-83a1-ab42da02db87",
   "metadata": {},
   "outputs": [],
   "source": []
  },
  {
   "cell_type": "markdown",
   "id": "c3d39041-1929-40d8-8898-2467012ceeb1",
   "metadata": {},
   "source": [
    "Now let's repeat the same procedure for the fake sequence:"
   ]
  },
  {
   "cell_type": "code",
   "execution_count": null,
   "id": "36ca116c-11c6-403e-a6ae-f2986a65f53c",
   "metadata": {},
   "outputs": [],
   "source": [
    "rle2_with0 <- c(rle2[values == 0, lengths], rep(0, rle2zero))"
   ]
  },
  {
   "cell_type": "code",
   "execution_count": null,
   "id": "6057f7e2-e2a8-4a7f-97b3-d5d937bfa882",
   "metadata": {},
   "outputs": [],
   "source": [
    "rle2length <- length(rle2_with0)"
   ]
  },
  {
   "cell_type": "code",
   "execution_count": null,
   "id": "16e7c186-6a24-47bd-a325-3980b0c666e8",
   "metadata": {},
   "outputs": [],
   "source": [
    "set.seed(70)\n",
    "simul2geom <- rgeom(rle2length, bias)"
   ]
  },
  {
   "cell_type": "code",
   "execution_count": null,
   "id": "c2d1f438-7ecd-4458-985a-07b0886f45c8",
   "metadata": {},
   "outputs": [],
   "source": [
    "table(rle2_with0)"
   ]
  },
  {
   "cell_type": "code",
   "execution_count": null,
   "id": "75507577-66b4-432b-a5a7-944b38ac33a7",
   "metadata": {},
   "outputs": [],
   "source": [
    "table(simul2geom)"
   ]
  },
  {
   "cell_type": "markdown",
   "id": "6968720d-9082-4b15-b16a-266db8e0c658",
   "metadata": {},
   "source": [
    "The empirical length are capped with 6, while the simulated lengths from the geometric distributions can be longer.\n",
    "\n",
    "The zero length failures are less frequent (since success sequences are shorter) and short sequences between 1-3 are more frequent than the simulated geometric distribution values."
   ]
  },
  {
   "cell_type": "markdown",
   "id": "c7c457ba-fae9-417a-a6f2-1afd157b44f3",
   "metadata": {},
   "source": [
    "Let's compare the histograms:"
   ]
  },
  {
   "cell_type": "code",
   "execution_count": null,
   "id": "45a2424b-8316-4ca3-8ee9-b7ebf6b2844c",
   "metadata": {},
   "outputs": [],
   "source": [
    "hist(rle2_with0)"
   ]
  },
  {
   "cell_type": "code",
   "execution_count": null,
   "id": "78fa708d-ffbe-4e39-ba14-574298d4727c",
   "metadata": {},
   "outputs": [],
   "source": [
    "hist(simul2geom)"
   ]
  },
  {
   "cell_type": "markdown",
   "id": "c8b50f84-7d41-49a2-8559-9be5bc7d01e2",
   "metadata": {},
   "source": [
    "And compare the empirical and theoretical probability mass functions:"
   ]
  },
  {
   "cell_type": "code",
   "execution_count": null,
   "id": "43810698-6d92-44d6-aeb6-248c819f75c0",
   "metadata": {},
   "outputs": [],
   "source": [
    "lengthx2 <- sort(unique(rle2_with0))"
   ]
  },
  {
   "cell_type": "code",
   "execution_count": null,
   "id": "9540e5d2-29df-4c66-ae69-f358dcbd6b17",
   "metadata": {},
   "outputs": [],
   "source": [
    "plot(lengthx2, as.numeric(prop.table(table(rle2_with0))), type = \"l\", col = \"red\")\n",
    "lines(lengthx2, dgeom(lengthx2, bias2), col = \"blue\")"
   ]
  },
  {
   "cell_type": "markdown",
   "id": "11b67cf4-cc4f-4fb7-b629-54ff75221c64",
   "metadata": {},
   "source": [
    "The theoretical distribution is more convex than the empirical one. And the theoretical distribution is actually not capped at 6."
   ]
  },
  {
   "cell_type": "markdown",
   "id": "feb5d507-4157-4f45-a070-f3a66b7d7475",
   "metadata": {},
   "source": [
    "Now let's calculate the empirical mean and variance values:"
   ]
  },
  {
   "cell_type": "markdown",
   "id": "fc18e0b8-dee1-4b58-8778-21dd16cf0151",
   "metadata": {},
   "source": [
    "While the mean is close to the theoretical value:"
   ]
  },
  {
   "cell_type": "code",
   "execution_count": null,
   "id": "2e6f411c-af66-41d9-a871-2a90643d03d5",
   "metadata": {},
   "outputs": [],
   "source": [
    "mean(rle2_with0)"
   ]
  },
  {
   "cell_type": "markdown",
   "id": "6dfcaea6-7181-4331-87fb-8e4646eb4968",
   "metadata": {},
   "source": [
    "The variance is much lower:"
   ]
  },
  {
   "cell_type": "code",
   "execution_count": null,
   "id": "ccae6b42-77bf-4a1c-aa8a-e40d88c61f20",
   "metadata": {},
   "outputs": [],
   "source": [
    "var(rle2_with0)"
   ]
  },
  {
   "cell_type": "markdown",
   "id": "8efbc2fb-bcd6-4006-932f-2325cac63010",
   "metadata": {},
   "source": [
    "So we can highly suspect that the second sequence of Bernoulli trials are not genuine but artifically created with a non-random process."
   ]
  },
  {
   "cell_type": "markdown",
   "id": "9fd6a32b-8803-4839-a775-5ec1c2a98008",
   "metadata": {},
   "source": [
    "## Example 2"
   ]
  },
  {
   "cell_type": "markdown",
   "id": "da8e1dda-d659-4d01-b509-3f8c601cc249",
   "metadata": {},
   "source": [
    "> Two desperados, A and B, are playing a game of\n",
    "Russian roulette using a gun. One of the gun’s six cylinders contains\n",
    "a bullet. The desperados take turns pointing the gun at their own\n",
    "heads and pulling the trigger. Desperado A begins. If no fatal shot\n",
    "is fired, they give the cylinder a spin such that it stops at a random\n",
    "chamber, and the game continues with desperado B, and so on. What\n",
    "is the probability that desperado A will fire the fatal shot?\n",
    "\n",
    "(Tijms 2023, A First Course In Probability For Computer And Data Science, p. 18)"
   ]
  },
  {
   "cell_type": "markdown",
   "id": "24568d6a-5251-4743-944a-5818e6bf8557",
   "metadata": {},
   "source": [
    "**Solution:**"
   ]
  },
  {
   "cell_type": "markdown",
   "id": "c9d21fac-7dc8-4ace-83b1-d95897f76850",
   "metadata": {},
   "source": [
    "Contrary to the standard Russian Rullette, since the cylinder is spinned after every shot, theoretically the game can extend infinitely.\n",
    "\n",
    "Since the first shot is done with A, the fatal shot for A can occur after 0, 2, 4, 6 ... even number of non-fatal shots and a fatal shot for B can occur after 1,3,5 ... odd number of non-fatal shots.\n",
    "\n",
    "To get the share of the total probability of even numbered shots up to infinity, it is sufficient just to get the share of the probability of 0 shot to sum of the probabilities of 0 and 1 shots. Why? Because the subsequent values form a geometric series, the ratio of each subsequent probability is the same, from the beginning to infinity:"
   ]
  },
  {
   "cell_type": "code",
   "execution_count": null,
   "id": "05581a5e-48ab-47aa-9069-8704cde82bea",
   "metadata": {},
   "outputs": [],
   "source": [
    "fractions(dgeom(0, 1/6) / pgeom(1, 1/6))"
   ]
  },
  {
   "cell_type": "markdown",
   "id": "bef8bcc8-777e-4a63-ac74-4dd20d1f5efd",
   "metadata": {},
   "source": [
    "We can also calculate a large number of probability values to confirm:"
   ]
  },
  {
   "cell_type": "code",
   "execution_count": null,
   "id": "8a3d206d-d814-46a3-8597-914cec882494",
   "metadata": {},
   "outputs": [],
   "source": [
    "fractions(sum(dgeom(seq(0, 1000, 2), 1/6)))"
   ]
  },
  {
   "cell_type": "markdown",
   "id": "21efa0de-9ea2-4fd9-b578-44a346c18e54",
   "metadata": {},
   "source": [
    "Later on, we will see that geometric distribution is the discrete analogue of exponential distribution for waiting times."
   ]
  },
  {
   "cell_type": "markdown",
   "id": "89f6b84c-5e88-42e2-b266-2612e3ce2482",
   "metadata": {},
   "source": [
    "# Poisson distribution"
   ]
  },
  {
   "cell_type": "markdown",
   "id": "c4fb3baf-445e-45ff-8870-87b05de7fad3",
   "metadata": {},
   "source": [
    "Poisson distribution is a limiting case of binomial distribution where the trial number goes to infinity and the expected success probability - the bias - converges to zero while the expected value is kept at a constant rate.\n",
    "\n",
    "Poisson distribution is quite useful to model count data of independent in real life. We will use this distribution to demonstrate the relationship between geometric and exponential distributions and also the relationship between negative binomial and gamma distributions.\n",
    "\n",
    "As we will also demonstrate, Poisson distribution converges to normal distribution as the expected value increases."
   ]
  },
  {
   "cell_type": "markdown",
   "id": "54d6937c-5ece-4c2a-87dd-3341b47731fc",
   "metadata": {},
   "source": [
    "As we can recall from above, the binomial distribution models the probability of recording $k$ successes in a finite number of $n$ trials or events where the probability of success is $p$. The probability mass function of binomial distribution is:\n",
    "\n",
    "${\\displaystyle f(k,n,p)=\\Pr(X=k)={\\binom {n}{k}}p^{k}(1-p)^{n-k}}$\n",
    "\n",
    "And the expected value is defined as:\n",
    "\n",
    "${\\displaystyle \\operatorname {E} [X]=np}$\n",
    "\n",
    "The realizations of $k$ can be between 0 and as high as $n$, the finite number of trials conducted.\n",
    "\n",
    "Instead of parametrizing binomial distribution as $n$ and $p$, suppose we reparametrize binomial distribution so that we hold the expected value, now defined as $\\lambda$ constant while we can increase $n$, total number of trials. In this  case, holding the expected rate constant,\n",
    "\n",
    "${\\displaystyle p = \\frac {\\lambda}{n}}$\n",
    "\n",
    "becomes smaller, so the event becomes rarer.\n",
    "\n",
    "Since $k$ can be between 0 and $n$, as $n$ grows larger possible values of $k$, number of successes have more options to be realized."
   ]
  },
  {
   "cell_type": "markdown",
   "id": "fecd1f8a-d079-41eb-b733-377bc80fa356",
   "metadata": {},
   "source": [
    "Suppose we have $\\lambda = 20$ and $n$ is started with 100 and increased up to 10000. Let's plot the probability mass of k values between 0 and 100"
   ]
  },
  {
   "cell_type": "markdown",
   "id": "2273e2b5-b58d-49a8-9ccd-c0f81fda7bc6",
   "metadata": {},
   "source": [
    "Alternative trial sizes are:"
   ]
  },
  {
   "cell_type": "code",
   "execution_count": null,
   "id": "58a8112d-c24a-411e-96e6-d4500ccd4a66",
   "metadata": {},
   "outputs": [],
   "source": [
    "ns <- c(10, 20, 100, 1000, 1e4)"
   ]
  },
  {
   "cell_type": "markdown",
   "id": "2860fa6d-ea4c-4334-bcad-775674f58f74",
   "metadata": {},
   "source": [
    "Fixed expected rate is:"
   ]
  },
  {
   "cell_type": "code",
   "execution_count": null,
   "id": "bd469008-0b2c-4cf0-a0ff-d2da75a1df4b",
   "metadata": {},
   "outputs": [],
   "source": [
    "lambda <- 4"
   ]
  },
  {
   "cell_type": "markdown",
   "id": "2799d87a-842f-4a12-9fa9-481a815d5db9",
   "metadata": {},
   "source": [
    "Realization values to be plotted are:"
   ]
  },
  {
   "cell_type": "code",
   "execution_count": null,
   "id": "8bc56245-c0d1-4362-920d-8381d21b407d",
   "metadata": {},
   "outputs": [],
   "source": [
    "ks <- 0:15"
   ]
  },
  {
   "cell_type": "markdown",
   "id": "6acdd009-39af-4baf-b6bc-c1214eefe468",
   "metadata": {},
   "source": [
    "Calculate the probabilities of all realized values for all trial sizes and implied expected probabilities:"
   ]
  },
  {
   "cell_type": "code",
   "execution_count": null,
   "id": "41bb9cab-e353-4abf-8d83-c689152c8e5e",
   "metadata": {},
   "outputs": [],
   "source": [
    "binomgrid <- lapply(ns, function(x) data.table(n = x, k = ks, probs = dbinom(ks, x, lambda / x)))"
   ]
  },
  {
   "cell_type": "code",
   "execution_count": null,
   "id": "032b8e75-0155-4fa1-b339-5db649f2e713",
   "metadata": {},
   "outputs": [],
   "source": [
    "poisgrid <- data.table(n = Inf, k = ks, probs = dpois(ks, lambda))"
   ]
  },
  {
   "cell_type": "code",
   "execution_count": null,
   "id": "b381fcd7-c94a-4b29-b436-6f7a3b1da017",
   "metadata": {},
   "outputs": [],
   "source": [
    "binomgrid <- c(binomgrid, list(poisgrid)) %>% rbindlist"
   ]
  },
  {
   "cell_type": "markdown",
   "id": "91a0a60f-58b3-4d99-b2f9-108d77f895e7",
   "metadata": {},
   "source": [
    "And plot the probability mass function curves for different trial sizes:"
   ]
  },
  {
   "cell_type": "code",
   "execution_count": null,
   "id": "c1284fa4-4f2b-41d0-9d81-2e1c0cafd3a8",
   "metadata": {},
   "outputs": [],
   "source": [
    "binomgrid_p <- binomgrid %>%\n",
    "mutate_at(\"n\", as.factor) %>%\n",
    "ggplot(aes(x = k, y = probs, color = n)) +\n",
    "geom_line()"
   ]
  },
  {
   "cell_type": "code",
   "execution_count": null,
   "id": "7faf5903-3da8-45b4-b644-65acc6267f3f",
   "metadata": {},
   "outputs": [],
   "source": [
    "binomgrid_p"
   ]
  },
  {
   "cell_type": "code",
   "execution_count": null,
   "id": "6dc67dbb-b98e-4030-8c06-eeb0d719c83d",
   "metadata": {},
   "outputs": [],
   "source": [
    "ggplotly(binomgrid_p)"
   ]
  },
  {
   "cell_type": "markdown",
   "id": "521985a2-8457-4d0c-b550-ed9433aed458",
   "metadata": {},
   "source": [
    "Binomial distribution starts with a shape, more peaked in the middle but thinner in the tails. As the trial size is increased the shape becomes smoother and converges to poisson distribution as shown by Inf trial size.\n",
    "\n",
    "You can also interactively track how binomial distribution converges to poission distribution with a fixed expected value and increasing trial size by running the **Binomial to Poisson Distribution** app under 05_prob_stat_1/apps with Shiny interface."
   ]
  },
  {
   "cell_type": "markdown",
   "id": "48103ed3-5878-45b5-96c7-41bf53899f53",
   "metadata": {},
   "source": [
    "The Poisson distribution expresses the probability of a given number of events occurring in a fixed interval of time if these events occur with a known constant mean rate and independently of the time since the last event.\n",
    "\n",
    "The probability mass function of poission distributions is:\n",
    "\n",
    "${\\displaystyle f(k;\\lambda )=\\Pr(X{=}k)={\\frac {\\lambda ^{k}e^{-\\lambda }}{k!}},}$\n",
    "\n",
    "where $\\lambda$ is the expected rate, $k$ is the number of occurence or realized count.\n",
    "\n",
    "Both mean and variance is equal to the expected rate $\\lambda$:\n",
    "\n",
    "${\\displaystyle \\lambda =\\operatorname {E} (X)=\\operatorname {Var} (X)}$\n",
    "\n",
    "(https://en.wikipedia.org/wiki/Poisson_distribution)"
   ]
  },
  {
   "cell_type": "markdown",
   "id": "56d92fd4-ddf6-4140-b504-409f03564e29",
   "metadata": {},
   "source": [
    "Formula for probability mass function in R is easy, realized value and the expected value:"
   ]
  },
  {
   "cell_type": "code",
   "execution_count": null,
   "id": "f7110fe9-1c6d-4771-8c42-ac2c05d2c4b2",
   "metadata": {},
   "outputs": [],
   "source": [
    "dpois(0:20, 2)"
   ]
  },
  {
   "cell_type": "markdown",
   "id": "7c6f83b1-0acb-443b-8453-ff6c33555311",
   "metadata": {},
   "source": [
    "## Example 1"
   ]
  },
  {
   "cell_type": "markdown",
   "id": "23cf95f6-562c-4925-aa3e-07899e3c0f6f",
   "metadata": {},
   "source": [
    "> There are 500 people present at a gathering. For the\n",
    "fun of it, the organizers have decided that all of those whose birthday\n",
    "is that day will receive a present. How many presents are needed to\n",
    "ensure a less than 1% probability of having too few presents?\n",
    "\n",
    "(Tijms 2023, A First Course In Probability For Computer And Data Science, p. 90)"
   ]
  },
  {
   "cell_type": "markdown",
   "id": "53aecedc-6357-449f-88cf-cd0cf1523a4a",
   "metadata": {},
   "source": [
    "**Solution:**\n",
    "\n",
    "We can model the problem using binomial distribution but also using Poisson distribution since the population size is sufficiently large. Let's do both.\n",
    "\n",
    "We ignore the leap year convention and take number of days in a year as 365.\n",
    "\n",
    "Using the complement rule, less than 1% probability of having too few presents mean more than 99% probability of having enough presents. So we want to calculate the cumulative probability of k people having a birthday at that date, or alternatively calculate the k value where the cumulative probability is at least 99%."
   ]
  },
  {
   "cell_type": "markdown",
   "id": "1265bb6f-a05f-4cda-96bb-45509e649a82",
   "metadata": {},
   "source": [
    "With binomial distribution, the cumulative probabilities are:"
   ]
  },
  {
   "cell_type": "code",
   "execution_count": null,
   "id": "f8a8b728-5e1a-4b67-bf45-fbe2a5fdabdd",
   "metadata": {},
   "outputs": [],
   "source": [
    "pbinom(0:10, 500, 1/365)"
   ]
  },
  {
   "cell_type": "markdown",
   "id": "9d39bf54-446b-43f5-8d1d-484dc6e34d8d",
   "metadata": {},
   "source": [
    "Anf the quantile value of 99% cumulayive probability is:"
   ]
  },
  {
   "cell_type": "code",
   "execution_count": null,
   "id": "acf3a2f4-ba44-49d2-bddd-bd9282246446",
   "metadata": {},
   "outputs": [],
   "source": [
    "qbinom(1 - 0.01, 500, 1/365)"
   ]
  },
  {
   "cell_type": "markdown",
   "id": "38c5f83e-a88a-4c89-9750-dc008c2abb19",
   "metadata": {},
   "source": [
    "With Poisson distribution:"
   ]
  },
  {
   "cell_type": "code",
   "execution_count": null,
   "id": "902231ca-fcc6-4130-8960-57dbef74ce2c",
   "metadata": {},
   "outputs": [],
   "source": [
    "ppois(0:10, 500/365)"
   ]
  },
  {
   "cell_type": "code",
   "execution_count": null,
   "id": "f43a3bad-a1b2-4bd3-9215-5f5f0d3ceaa0",
   "metadata": {},
   "outputs": [],
   "source": [
    "qpois(1 - 0.01, 500/365)"
   ]
  },
  {
   "cell_type": "markdown",
   "id": "079cd5d5-97eb-45c8-9695-d01cf9f85441",
   "metadata": {},
   "source": [
    "So 5 presents suffice to ensure at least 99% who shares a birthday at that date gets a present."
   ]
  },
  {
   "cell_type": "markdown",
   "id": "49573a2f-0428-4d5b-ac67-ee407647cfec",
   "metadata": {},
   "source": [
    "## Poisson process"
   ]
  },
  {
   "cell_type": "markdown",
   "id": "e6713ec2-2832-4f1f-908a-24fa8cfecbe1",
   "metadata": {},
   "source": [
    "A Poisson point process is a memoryless process in which events occur continuously and independently at a constant average rate. When the inter-occurence times are exponentially distributed with expected value ${\\displaystyle \\operatorname {E} [X]={\\frac {1}{\\lambda }}}$,\n",
    "\n",
    "The number of events occurring in any time interval of length $t$ has a Poisson distribution with expected value ${\\displaystyle \\lambda{t}}$.\n",
    "\n",
    "(https://en.wikipedia.org/wiki/Exponential_distribution)\n",
    "\n",
    "(Tijms 2023, A First Course In Probability For Computer And Data Science, p. 113)\n",
    "\n",
    "Basically that means, for a Poisson process with an expected rate of $\\lambda$ per unit time, the counts that occur in $t$ units time is Poisson distributed with an expected rate of ${\\displaystyle \\lambda{t}}$.\n",
    "\n",
    "Later we will show the expected waiting times in a Poisson distributed variable is exponentially distributed conducting discrete Bernoulli trials and showing how the geometrically distributed discrete trials to success converge to a continuous exponential distribution."
   ]
  },
  {
   "cell_type": "markdown",
   "id": "b394eabe-a655-4231-85db-059aab63e92d",
   "metadata": {},
   "source": [
    "## Example 2"
   ]
  },
  {
   "cell_type": "markdown",
   "id": "745e90c2-91ff-4d2d-8907-6135efab49f0",
   "metadata": {},
   "source": [
    "> In a traditional match between two university soccer\n",
    "teams, goals are scored according to a Poisson process at a rate of\n",
    "$\\lambda = 1/30$ per minute. The playing time of the match is 90 minutes.\n",
    "What is the probability of having three or more goals during the\n",
    "match? What is the probability that exactly two goals will be scored\n",
    "in the first half of the match and exactly one goal in the second half?\n",
    "\n",
    "(Tijms 2023, A First Course In Probability For Computer And Data Science, p. 114)"
   ]
  },
  {
   "cell_type": "markdown",
   "id": "fd3bc9ed-9766-49aa-814e-fd6ec62a8959",
   "metadata": {},
   "source": [
    "**Solution:**"
   ]
  },
  {
   "cell_type": "markdown",
   "id": "4751c023-849c-4d8b-bbc9-47575b4aa09a",
   "metadata": {},
   "source": [
    "Number of goals during the 90 minutes match is Poisson distributed with an expected rate of:"
   ]
  },
  {
   "cell_type": "code",
   "execution_count": null,
   "id": "7a99cedc-653d-42ff-858b-8778110ac35c",
   "metadata": {},
   "outputs": [],
   "source": [
    "lmatch <- 90 / 30\n",
    "lmatch"
   ]
  },
  {
   "cell_type": "markdown",
   "id": "2b023505-4177-45ad-9b80-1f3c769d0379",
   "metadata": {},
   "source": [
    "Probability of having 3 or more goals is the complement of having up to 2 goals:"
   ]
  },
  {
   "cell_type": "code",
   "execution_count": null,
   "id": "e2fa3d04-7813-4000-9c5c-4a72abb33c9b",
   "metadata": {},
   "outputs": [],
   "source": [
    "1 - ppois(2, lmatch)"
   ]
  },
  {
   "cell_type": "markdown",
   "id": "b0a54fd8-1734-4f1c-acbc-fb98907580c8",
   "metadata": {},
   "source": [
    "Since Poisson process is memoryless, number of goals in both halves are independent and Poisson distributed with an expected rate of:"
   ]
  },
  {
   "cell_type": "code",
   "execution_count": null,
   "id": "0bcf3395-0baf-4bc4-9141-cc9bd8e9d6f8",
   "metadata": {},
   "outputs": [],
   "source": [
    "lhalf <- 45 / 30\n",
    "lhalf"
   ]
  },
  {
   "cell_type": "markdown",
   "id": "a4dc57c2-8f32-4cd4-95f5-79750168fdf3",
   "metadata": {},
   "source": [
    "So the probability of 2 goals scored in the first half and one goal in the second half is:"
   ]
  },
  {
   "cell_type": "code",
   "execution_count": null,
   "id": "c4364720-da2e-4195-9d3f-2ee6994601e1",
   "metadata": {},
   "outputs": [],
   "source": [
    "dpois(2, lhalf) * dpois(1, lhalf)"
   ]
  },
  {
   "cell_type": "markdown",
   "id": "56fbefa1-393d-48dc-8822-57518998b9be",
   "metadata": {},
   "source": [
    "Compare it with probability of scoring 3 goals in the whole match:"
   ]
  },
  {
   "cell_type": "code",
   "execution_count": null,
   "id": "e16f1c5e-28fe-473c-bfa4-5cf4ccc844b4",
   "metadata": {},
   "outputs": [],
   "source": [
    "dpois(3, lmatch)"
   ]
  },
  {
   "cell_type": "markdown",
   "id": "5e756df0-2db1-4dbe-b3ca-b7f6ea25c20c",
   "metadata": {},
   "source": [
    "# APPENDIX: Other important discrete probability distributions (Optional)"
   ]
  },
  {
   "cell_type": "markdown",
   "id": "6506ef96-c57e-41ab-b00e-d8b0de9ae9e8",
   "metadata": {},
   "source": [
    "## Negative binomial distribution (Optional)"
   ]
  },
  {
   "cell_type": "markdown",
   "id": "b450faae-da4b-4ebf-8a0b-6a253de11f51",
   "metadata": {},
   "source": [
    "While geometric distribution is used in order to calculate the probability of number of failures until a successs, negative binomial distribution is used for modeling the probability of number of failures until a certain number of successes.\n",
    "\n",
    "So geometric distribution is a special case of negative binomial distribution.\n",
    "\n",
    "A few useful applications can be considered for negative binomial distribution:\n",
    "\n",
    "1. Project Management: In project management, the Negative Binomial Distribution can be applied to estimate the number of trials (attempts or tasks) required to complete a project with a certain number of successful outcomes (milestones achieved or tasks completed). This helps in project planning and resource allocation.\n",
    "\n",
    "2. Quality Control: In manufacturing and quality control, the distribution can be used to model the number of defective items produced before reaching a certain number of acceptable items. This aids in setting quality standards and optimizing production processes.\n",
    "\n",
    "3. Customer Service and Call Centers: The Negative Binomial Distribution is often employed to model the number of customer service calls a representative needs to handle before resolving a certain number of issues. This is valuable for workforce management and optimizing service efficiency.\n",
    "\n",
    "4. Marketing Campaigns: Marketers can use the Negative Binomial Distribution to predict the number of attempts (such as advertisement exposures or promotional events) needed to achieve a specific number of desired responses, like customer purchases or sign-ups.\n",
    "\n",
    "5. Insurance and Risk Management: In the insurance industry, the distribution can be utilized to model the number of claims or losses a company might experience before reaching a certain level of profitability. This aids in risk assessment and setting appropriate insurance premiums.\n",
    "\n",
    "6. Inventory Management: Businesses dealing with inventory can use the Negative Binomial Distribution to model the number of orders or deliveries needed to restock inventory before selling a certain quantity of products. This helps in maintaining optimal stock levels and minimizing holding costs.\n",
    "\n",
    "(https://www.geeksforgeeks.org/data-science/negative-binomial-distribution-properties-applications-and-examples/)"
   ]
  },
  {
   "cell_type": "markdown",
   "id": "b0d488e9-3816-4755-9201-108acdc961e6",
   "metadata": {},
   "source": [
    "Let ${\\displaystyle X_{r}\\sim \\operatorname {NB} (r,p)}$ with the convention ${\\displaystyle X}$ represents the number of failures observed before ${\\displaystyle r}$ successes with the probability of success being ${\\displaystyle p}$.\n",
    "\n",
    "And let ${\\displaystyle Y_{i}\\sim \\mathrm {Geom} (p)}$ where ${\\displaystyle Y_{i}}$ represents the number of failures before seeing a success.\n",
    "\n",
    "We can think of ${\\displaystyle Y_{i}}$ as the waiting time (number of failures) between the ${\\displaystyle i}th$ and ${\\displaystyle (i-1)}$th success.\n",
    "\n",
    "Thus\n",
    "\n",
    "${\\displaystyle X_{r}=Y_{1}+Y_{2}+\\cdots +Y_{r}.}$"
   ]
  },
  {
   "cell_type": "markdown",
   "id": "0d2b6443-810e-438e-820a-757f81cf690c",
   "metadata": {},
   "source": [
    "The expected value or the mean of the number of failures is:\n",
    "\n",
    "${\\displaystyle \\operatorname {E} [X_{r}]=\\operatorname {E} [Y_{1}]+\\operatorname {E} [Y_{2}]+\\cdots +\\operatorname {E} [Y_{r}]={\\frac {r(1-p)}{p}},}$\n",
    "\n",
    "since from the geometric distribution, we know that:\n",
    "\n",
    "${\\displaystyle \\operatorname {E} [Y_{i}]=(1-p)/p}$\n",
    "\n",
    "(https://en.wikipedia.org/wiki/Negative_binomial_distribution)"
   ]
  },
  {
   "cell_type": "markdown",
   "id": "b695349b-5831-4f64-af21-40498fc6bdcd",
   "metadata": {},
   "source": [
    "Let's derive the probability mass function with simulation:\n",
    "\n",
    "Suppose we want to get the probability of $k = 3$ failures until $r = 3$ successes where probability of success is $p = 0.3$. Since the last trial will be a success, we are interested in the sequences of first 5 trials:"
   ]
  },
  {
   "cell_type": "code",
   "execution_count": null,
   "id": "c538ce99-3563-40c0-a5da-79f5d8a760f1",
   "metadata": {},
   "outputs": [],
   "source": [
    "tosses_nb <- permutations(2, 5, 0:1, repeats.allowed = T)"
   ]
  },
  {
   "cell_type": "code",
   "execution_count": null,
   "id": "6b47cb6b-1551-4135-b464-99edfd02f7eb",
   "metadata": {},
   "outputs": [],
   "source": [
    "tosses_nb"
   ]
  },
  {
   "cell_type": "code",
   "execution_count": null,
   "id": "f89b34ff-c1fe-4f2c-bd37-dfd410ec5384",
   "metadata": {},
   "outputs": [],
   "source": [
    "dim(tosses_nb)"
   ]
  },
  {
   "cell_type": "markdown",
   "id": "b3223b14-e193-40e3-b563-b87616945604",
   "metadata": {},
   "source": [
    "And we are interested in seqences that have exactly 3 failures:"
   ]
  },
  {
   "cell_type": "code",
   "execution_count": null,
   "id": "4890710b-3882-4d95-be39-f7ecabf56ad6",
   "metadata": {},
   "outputs": [],
   "source": [
    "tosses_nb2 <- tosses_nb[rowSums(!tosses_nb) == 3,]"
   ]
  },
  {
   "cell_type": "code",
   "execution_count": null,
   "id": "339ee853-c790-4d18-86ef-3019cbe77502",
   "metadata": {},
   "outputs": [],
   "source": [
    "dim(tosses_nb2)"
   ]
  },
  {
   "cell_type": "code",
   "execution_count": null,
   "id": "df8086f3-6ab4-4d1a-b57e-c2028e5218ce",
   "metadata": {},
   "outputs": [],
   "source": [
    "tosses_nb2"
   ]
  },
  {
   "cell_type": "markdown",
   "id": "e69a80b6-2fe3-4b6e-b07f-28bdf04bf062",
   "metadata": {},
   "source": [
    "10 sequences have 3 tails in 5 tosses. That is exactly the number of 3 combinations of 5:"
   ]
  },
  {
   "cell_type": "code",
   "execution_count": null,
   "id": "0b0f5e86-1520-4bac-9dbe-c1ac0e49928c",
   "metadata": {},
   "outputs": [],
   "source": [
    "choose(5, 3)"
   ]
  },
  {
   "cell_type": "markdown",
   "id": "9391a372-1065-49fd-b96e-45ef027af624",
   "metadata": {},
   "source": [
    "This is similar to the simulation we did in binomial distribution but the parametrization is different:\n",
    "\n",
    "${\\displaystyle \\binom {k+r-1}{k}}$"
   ]
  },
  {
   "cell_type": "markdown",
   "id": "6a0bf987-0ac1-4f8e-b534-49f8456a9899",
   "metadata": {},
   "source": [
    "So for $k = 3$ failures until $r = 3$ successes, we need to get the\n",
    "$k = 3$ combinations of a total of $k + r - 1 = 5$ flips, since the 6th flip is always a success."
   ]
  },
  {
   "cell_type": "markdown",
   "id": "7ada0d44-dc61-46c1-a044-01aced2a1939",
   "metadata": {},
   "source": [
    "Now let's say the bias of the coin is 0.3, meaning the probability of having a head is 0.3 (so probability of gettting a tail is 0.7). What is the probability of each of these 10 sequences:\n",
    "\n",
    "${\\displaystyle (1-p)^{k}p^{r - 1}p}$\n",
    "\n",
    "- The first part ${\\displaystyle (1-p)^{k}}$ is the joint probability of getting $k$ failures\n",
    "\n",
    "- The second part ${\\displaystyle p^{r - 1}}$ is the joint probability of getting $r - 1$ successes\n",
    "\n",
    "- The third part ${\\displaystyle p}$ is the probability of getting the $r$th success\n",
    "\n",
    "We can combine the second and third parts so the probability of each sequence is:\n",
    "\n",
    "${\\displaystyle (1-p)^{k}p^r}$"
   ]
  },
  {
   "cell_type": "code",
   "execution_count": null,
   "id": "d38f4087-ded5-46b8-9fd9-3bdb7b35b82b",
   "metadata": {},
   "outputs": [],
   "source": [
    "px <- 0.3\n",
    "k <- 3\n",
    "r <- 3"
   ]
  },
  {
   "cell_type": "code",
   "execution_count": null,
   "id": "abe28266-2867-49d0-a3aa-77498fa70c89",
   "metadata": {},
   "outputs": [],
   "source": [
    "(1 - px)^k * px^r"
   ]
  },
  {
   "cell_type": "markdown",
   "id": "e659e849-2e17-482d-9469-7a9ac456e7f1",
   "metadata": {},
   "source": [
    "But we have 10 of these sequences with 3 tails and 2 heads so the total probability of having 3 tails and 2 head followed by a last head where the bias of the coin is 0.3 is:"
   ]
  },
  {
   "cell_type": "code",
   "execution_count": null,
   "id": "4b5519f5-2f0d-4120-be98-eb4ab719e8a0",
   "metadata": {},
   "outputs": [],
   "source": [
    "choose(k + r - 1, k) * (1 - px)^k * px^r"
   ]
  },
  {
   "cell_type": "markdown",
   "id": "b62d8cbd-b3b6-4832-9556-03001835472d",
   "metadata": {},
   "source": [
    "And the formula for the probability mass function is:\n",
    "\n",
    "${\\displaystyle f(k;r,p)\\equiv \\Pr(X=k)={\\binom {k+r-1}{k}}(1-p)^{k}p^{r}}$\n",
    "\n",
    "(https://en.wikipedia.org/wiki/Negative_binomial_distribution)"
   ]
  },
  {
   "cell_type": "markdown",
   "id": "7d819c3b-45fb-421b-ac2a-509e198e930b",
   "metadata": {},
   "source": [
    "We can get the probability using `dnbinom`:"
   ]
  },
  {
   "cell_type": "code",
   "execution_count": null,
   "id": "42336c02-1888-4692-8770-a7d2ea3ee969",
   "metadata": {},
   "outputs": [],
   "source": [
    "dnbinom(3, 3, 0.3)"
   ]
  },
  {
   "cell_type": "markdown",
   "id": "85040b59-f324-440d-96a0-8e0e07df94b3",
   "metadata": {},
   "source": [
    "Since theoretically the last success can be reached anywhere, we don't have an upper limit for k. For a large number of k values the probabilities are:"
   ]
  },
  {
   "cell_type": "code",
   "execution_count": null,
   "id": "2a87dab2-d07d-480f-9d2d-4fdbd66b2142",
   "metadata": {},
   "outputs": [],
   "source": [
    "propnb <- dnbinom(0:1e3, 3, 0.3)"
   ]
  },
  {
   "cell_type": "markdown",
   "id": "01d3078e-87ea-41ef-9ded-8d1ace864841",
   "metadata": {},
   "source": [
    "Sum of which converges to 1:"
   ]
  },
  {
   "cell_type": "code",
   "execution_count": null,
   "id": "09532771-9a1c-4df3-a7e5-c4f35b3201f7",
   "metadata": {},
   "outputs": [],
   "source": [
    "sum(propnb)"
   ]
  },
  {
   "cell_type": "markdown",
   "id": "0c0a3eea-db6d-4a09-b37c-2d20c60fff67",
   "metadata": {},
   "source": [
    "The plot of the initial values are:"
   ]
  },
  {
   "cell_type": "code",
   "execution_count": null,
   "id": "13c18556-6ccf-4751-b6db-ae5b9d89a0cd",
   "metadata": {},
   "outputs": [],
   "source": [
    "plot(propnb[1:20], type = \"l\")"
   ]
  },
  {
   "cell_type": "code",
   "execution_count": null,
   "id": "58486140-3250-4d17-bb2f-27b011b10ae1",
   "metadata": {},
   "outputs": [],
   "source": [
    "ks <- 0:20"
   ]
  },
  {
   "cell_type": "code",
   "execution_count": null,
   "id": "9c5e1840-092b-48cb-b741-c65b159ca34e",
   "metadata": {},
   "outputs": [],
   "source": [
    "choose(ks + r - 1, ks) * (1 - px)^ks * px^r"
   ]
  },
  {
   "cell_type": "code",
   "execution_count": null,
   "id": "f853a3d2-cc06-48fc-9bea-9c90fc2bd497",
   "metadata": {},
   "outputs": [],
   "source": [
    "dnbinom(0:20, 3, 0.3)"
   ]
  },
  {
   "cell_type": "markdown",
   "id": "2b0ef49c-9361-4ec4-9bb5-d13a84f135f1",
   "metadata": {},
   "source": [
    "The first part of the formula has the following initial 21 values, they are monotonically increasing:"
   ]
  },
  {
   "cell_type": "code",
   "execution_count": null,
   "id": "9e5f2f4f-64ff-4106-9d30-540bcbdbedf4",
   "metadata": {},
   "outputs": [],
   "source": [
    "choose(ks + r - 1, ks)"
   ]
  },
  {
   "cell_type": "markdown",
   "id": "3462ddd0-7bf1-4ca3-ac36-144621d36678",
   "metadata": {},
   "source": [
    "And the second part has the following values, monotonically decreasing:"
   ]
  },
  {
   "cell_type": "code",
   "execution_count": null,
   "id": "30d832d1-5f3e-4468-afba-32af698adbc3",
   "metadata": {},
   "outputs": [],
   "source": [
    "(1 - px)^ks * px^r"
   ]
  },
  {
   "cell_type": "markdown",
   "id": "8443ba2a-fce3-4917-b441-1742d2ed77b8",
   "metadata": {},
   "source": [
    "Why does the pmf has a bump shape?\n",
    "\n",
    "Let's concentrate on the log changes of two parts:"
   ]
  },
  {
   "cell_type": "markdown",
   "id": "f125bfe4-f186-4d1a-9180-99ecf06e8c57",
   "metadata": {},
   "source": [
    "The `choose` part starts with a high positive growth rate but slows down:"
   ]
  },
  {
   "cell_type": "code",
   "execution_count": null,
   "id": "1ca7ba08-81c5-4ec5-9c86-50d88314a1d8",
   "metadata": {},
   "outputs": [],
   "source": [
    "diff(log(choose(ks + r - 1, ks)))"
   ]
  },
  {
   "cell_type": "markdown",
   "id": "c4cc68b0-9d33-48cd-b369-bd392043db4e",
   "metadata": {},
   "source": [
    "The second part (from geometric series) has a constant negative growth rate:"
   ]
  },
  {
   "cell_type": "code",
   "execution_count": null,
   "id": "24956943-be2c-4fb6-baca-86bd8abb4270",
   "metadata": {},
   "outputs": [],
   "source": [
    "diff(log((1 - px)^ks * px^r))"
   ]
  },
  {
   "cell_type": "markdown",
   "id": "41164410-5453-4793-8711-07629d427405",
   "metadata": {},
   "source": [
    "The probability mass increases until magnitude of positive growth in the choose part falls below the that of the negative growth in the geometric series part:"
   ]
  },
  {
   "cell_type": "code",
   "execution_count": null,
   "id": "2286e2f7-8ef9-419e-af01-d41fe1ce1027",
   "metadata": {},
   "outputs": [],
   "source": [
    "plot(diff(log(choose(ks + r - 1, ks))), type = \"l\", col = \"blue\")\n",
    "lines(-diff(log((1 - px)^ks * px^r)), col = \"red\")"
   ]
  },
  {
   "cell_type": "markdown",
   "id": "42b56841-d8a6-46b1-a37e-a397a11e57ea",
   "metadata": {},
   "source": [
    "Later on when we will see that negative binomial distribution is the discrete version of gamma distribution for modelling continuous time to multiple successes."
   ]
  },
  {
   "cell_type": "markdown",
   "id": "220fc78e-78d1-49a7-ad3e-ab30fe7d0cfd",
   "metadata": {},
   "source": [
    "## Hypergeometric distribution (Optional)"
   ]
  },
  {
   "cell_type": "markdown",
   "id": "47aae01a-d23c-4ea3-b14b-40bae9800dfc",
   "metadata": {},
   "source": [
    "In binomial distribution, we have a single coin that we can toss any number of times we want, so basically it is sampling with replacement (of the same coin). The same goes true with the dice."
   ]
  },
  {
   "cell_type": "markdown",
   "id": "764a236d-59c5-4d78-8abb-08f9d8345462",
   "metadata": {},
   "source": [
    "Now let's assume we have an urn as such:\n",
    "\n",
    "<img src=\"../imagesba/urn_dio.jpg\" width=\"500\"/>\n",
    "\n",
    "This urn holds the ashes of Ronnie James Dio, one of the greatest voices ever in rock:\n",
    "\n",
    "<img src=\"../imagesba/dio.jpg\" width=\"500\"/>"
   ]
  },
  {
   "cell_type": "markdown",
   "id": "1eab67cb-8f80-475d-953e-8b034c5534cc",
   "metadata": {},
   "source": [
    "And that's how he sounded in his prime:\n",
    "\n",
    "[![litb](https://img.youtube.com/vi/KikLLLeyVOk/0.jpg)](https://www.youtube.com/watch?v=KikLLLeyVOk)"
   ]
  },
  {
   "cell_type": "markdown",
   "id": "9d7dc74b-4074-4e1c-92c4-e48b748111f7",
   "metadata": {},
   "source": [
    "Now let's put finite number of balls of two colors: white and black with respective numbers at the beginning of the draws denoted as $m$ and $n$.\n",
    "\n",
    "Let's say we draw $k$ balls from the urn WITHOUT REPLACEMENT. What is the probability that $x$ of those $n$ balls are white colored?"
   ]
  },
  {
   "cell_type": "markdown",
   "id": "f702d991-e854-4674-b02d-de10783c6a8f",
   "metadata": {},
   "source": [
    "We are drawing $k$ balls from a total finite $m + n$ of balls in the urn. So the total number of combinations of those $k$ balls, regardless of the colors are:\n",
    "\n",
    "${\\displaystyle \\binom {m+n}{k}}$"
   ]
  },
  {
   "cell_type": "markdown",
   "id": "ac261576-b771-4be7-9a6d-b56ca4f6644b",
   "metadata": {},
   "source": [
    "But the colors matter here, the number of combinations or ways that $x$ white balls can be drawn from a total of $m$ white balls in the urn is:\n",
    "\n"
   ]
  },
  {
   "cell_type": "markdown",
   "id": "5328c7b5-ff1b-4362-b19b-cca63507dd1e",
   "metadata": {},
   "source": [
    "${\\displaystyle \\binom {m}{x}}$"
   ]
  },
  {
   "cell_type": "markdown",
   "id": "1ed9754c-a2f3-4e71-ba07-d7be59e37e8c",
   "metadata": {},
   "source": [
    "And the number of ways $k-x$ black balls can be drawn from a total $n$ white balls in the urn is:"
   ]
  },
  {
   "cell_type": "markdown",
   "id": "438db901-719f-4ea4-b0d3-e1971461a15b",
   "metadata": {},
   "source": [
    "${\\displaystyle \\binom {n}{k-x}}$"
   ]
  },
  {
   "cell_type": "markdown",
   "id": "e84fda67-4519-4c16-b650-ca011f1b7c97",
   "metadata": {},
   "source": [
    "So the probability of having $x$ white balls when $k$ balls are drawn from an urn containing a total of $m$ white balls and $n$ black balls without replacement is:\n",
    "\n",
    "${\\large p_{X}(x)=\\Pr(X=x)={\\displaystyle \\frac {{\\binom {m}{x}}{\\binom {n}{k-x}}}{\\binom {m+n}{k}}}}$\n",
    "\n",
    "which is hypergeometric distribution's probability mass function."
   ]
  },
  {
   "cell_type": "markdown",
   "id": "894c64f7-3072-4cf3-93ae-99d01611eddc",
   "metadata": {},
   "source": [
    "Expected value or mean is:\n",
    "\n",
    "${\\displaystyle k{m \\over {m + n}}}$\n",
    "\n",
    "Variance is:\n",
    "\n",
    "${\\displaystyle k{m \\over {m+n}}{n \\over {m+n}}{{m+n-k} \\over {m+n-1}}}$\n",
    "\n",
    "(https://en.wikipedia.org/wiki/Hypergeometric_distribution)\n",
    "\n",
    "Note that, different reparametrizations can be used, but I followed the convention on base R functions for the distribution (dhyper, phyper, qhyper, rhyper).\n"
   ]
  },
  {
   "cell_type": "markdown",
   "id": "378d70c3-34cb-4547-9660-ca494feedee7",
   "metadata": {},
   "source": [
    "Let's assume we have an urn:\n",
    "\n",
    "- With a total of $m=12$ white balls\n",
    "- And a total of $n=18$ are black balls\n",
    "- we draw $k=11$ balls\n",
    "- What is the probability of drawing $x=0...11$ white balls"
   ]
  },
  {
   "cell_type": "code",
   "execution_count": null,
   "id": "efd99bca-30c5-4cc0-b576-bed189e3de83",
   "metadata": {},
   "outputs": [],
   "source": [
    "m <- 12\n",
    "n <- 18\n",
    "k <- 11\n",
    "x <- 0:min(k, m)\n",
    "x"
   ]
  },
  {
   "cell_type": "markdown",
   "id": "a8c0d972-2aa8-44cb-baf1-af9a69020e11",
   "metadata": {},
   "source": [
    "The probabilities of having 0...11 number of white balls drawn are:"
   ]
  },
  {
   "cell_type": "code",
   "execution_count": null,
   "id": "63fca851-9b92-4c7c-8723-d87abaf9d0ae",
   "metadata": {},
   "outputs": [],
   "source": [
    "prob_hg <- choose(m, x) * choose(n, k-x) / choose(m+n, k)\n",
    "prob_hg"
   ]
  },
  {
   "cell_type": "markdown",
   "id": "f58538fa-f312-4a5a-99de-8471574bc805",
   "metadata": {},
   "source": [
    "Sums to 1:"
   ]
  },
  {
   "cell_type": "code",
   "execution_count": null,
   "id": "d6919320-22f4-45b2-a72a-851e54fff945",
   "metadata": {},
   "outputs": [],
   "source": [
    "sum(prob_hg)"
   ]
  },
  {
   "cell_type": "markdown",
   "id": "298e35c3-81eb-4409-873a-a8030de2bdfd",
   "metadata": {},
   "source": [
    "And the shape is:"
   ]
  },
  {
   "cell_type": "code",
   "execution_count": null,
   "id": "0fc4048c-90a3-472d-95b4-1f12b7754071",
   "metadata": {},
   "outputs": [],
   "source": [
    "plot(prob_hg, type = \"l\")"
   ]
  },
  {
   "cell_type": "markdown",
   "id": "8874e4c3-874d-49e7-aecd-6c9c616625f7",
   "metadata": {},
   "source": [
    "And we can get the same probability mass with:"
   ]
  },
  {
   "cell_type": "code",
   "execution_count": null,
   "id": "aa89d98a-b325-479c-83d3-f6b35cf4bc96",
   "metadata": {},
   "outputs": [],
   "source": [
    "dhyper(x, m, n, k)"
   ]
  },
  {
   "cell_type": "markdown",
   "id": "f5f920b3-21f5-4cde-9242-937e5c1cd522",
   "metadata": {},
   "source": [
    "Main usage area of hypergeometric distribution is games of chance where samples are drawn from a finite population without replacement."
   ]
  },
  {
   "cell_type": "markdown",
   "id": "7e0f9f9e-3dc2-4e5e-ada5-ec41fe9ea302",
   "metadata": {},
   "source": [
    "### Example"
   ]
  },
  {
   "cell_type": "markdown",
   "id": "5254b716-7481-4d05-ab77-293992c5c952",
   "metadata": {},
   "source": [
    "> The “New Amsterdam Lottery” offers the game “Take Five.” In\n",
    "this game, players must tick five different numbers from the numbers 1, . . . , 39.\n",
    "The lottery draws five distinct numbers from the numbers 1, . . . , 39. For every\n",
    "one dollar staked, the payoff is \\\\$100,000 for five correct numbers, \\\\$500 for\n",
    "four correct numbers, and \\\\$25 for three correct numbers. For two correct\n",
    "numbers, the player wins a free game. What is the house percentage for this\n",
    "lottery?\n",
    "\n",
    "(Tijms 2007, Understanding Probability: Chance Rules in Everyday Life, p. 129)"
   ]
  },
  {
   "cell_type": "markdown",
   "id": "f2339fab-018c-4365-bfe4-a7baab0afc13",
   "metadata": {},
   "source": [
    "**Solution:**"
   ]
  },
  {
   "cell_type": "markdown",
   "id": "7aabf7ba-3d48-4dff-b4c5-950e47aa640b",
   "metadata": {},
   "source": [
    "The probability of guessing five, four, three and two correct numbers for each game is:"
   ]
  },
  {
   "cell_type": "code",
   "execution_count": null,
   "id": "0a4c3684-4b1d-437e-b78a-6266447e0861",
   "metadata": {},
   "outputs": [],
   "source": [
    "probs_tf <- dhyper(5:2, 5, 34, 5)\n",
    "probs_tf"
   ]
  },
  {
   "cell_type": "markdown",
   "id": "2bdaa983-ef5a-439a-8659-08d4bc6982fc",
   "metadata": {},
   "source": [
    "And the expected payoffs for 5 to 3 correct guesses are:"
   ]
  },
  {
   "cell_type": "code",
   "execution_count": null,
   "id": "7431be61-95a1-4d90-a34e-018c925c8209",
   "metadata": {},
   "outputs": [],
   "source": [
    "payoff_tf <- probs_tf[1:3] * c(1e5, 500, 25)\n",
    "payoff_tf"
   ]
  },
  {
   "cell_type": "markdown",
   "id": "9f9b75ef-109e-4493-904d-a0ae7493fbf6",
   "metadata": {},
   "source": [
    "Since a correct guess of two numbers wins a free game, the expected payoff of a game is:"
   ]
  },
  {
   "cell_type": "code",
   "execution_count": null,
   "id": "77babbe1-7075-40cf-8942-cc9745070a2c",
   "metadata": {},
   "outputs": [],
   "source": [
    "payoff_tfe <- sum(payoff_tf) / (1 - probs_tf[4])\n",
    "payoff_tfe"
   ]
  },
  {
   "cell_type": "markdown",
   "id": "a94688f1-4f50-4299-bd85-c28599e8f673",
   "metadata": {},
   "source": [
    "And the house percentage is:"
   ]
  },
  {
   "cell_type": "code",
   "execution_count": null,
   "id": "09c5aa45-07a8-4995-814b-4700abc75519",
   "metadata": {},
   "outputs": [],
   "source": [
    "1 - payoff_tfe"
   ]
  },
  {
   "cell_type": "markdown",
   "id": "9691b243-b404-48c6-bc39-6602efa22b00",
   "metadata": {},
   "source": [
    "Note that the solution in the original resource does not calculate the payoff to free game to 2 correct guesses correctly."
   ]
  },
  {
   "cell_type": "markdown",
   "id": "ff523c75-e49f-4da3-936b-0d4bb196c7e9",
   "metadata": {},
   "source": [
    "# OBJECT GENERATING CODE FOR LAB ASSIGNMENT"
   ]
  },
  {
   "cell_type": "markdown",
   "id": "20e67daa-7fd4-48f5-8557-12e280bad709",
   "metadata": {},
   "source": [
    "Please copy the following code chunk on top of your notebook that you will create for your lab assignment. Don't spend time to understand how it works, it just creates a data.table object with randomly generated count data.\n",
    "\n",
    "**ON YOUR JUPYTER NOTEBOOK FOR THE ASSIGNMENT, CHANGE THE `student_id` WITH YOURS AND RUN THE CODE BLOCK. PLEASE DON'T CHANGE ANY PARTS OF THE CODE OTHER THAN YOUR STUDENT ID.**"
   ]
  },
  {
   "cell_type": "code",
   "execution_count": null,
   "id": "5659890f-de74-47bc-9377-bfdd490f08db",
   "metadata": {},
   "outputs": [],
   "source": [
    "student_id <- 2025000000 # DON'T FORGET TO CHANGE THIS VALUE WITH YOUR STUDENT ID!!!\n",
    "library(data.table)\n",
    "library(tidyverse)\n",
    "set.seed(student_id)\n",
    "wbrate <- runif(1, 5, 10)\n",
    "wbshape <- runif(1, 0.5, 1.5)\n",
    "waittimes <- rweibull(1e5, wbshape, 1/wbrate)\n",
    "dtevents <- data.table(waittimes)\n",
    "dtevents[, eventid := .I]\n",
    "dtevents[, cumwt := cumsum(waittimes)]\n",
    "dtevents[, eventhour := ceiling(cumwt)]\n",
    "eventcounts <- dtevents[, .(counts = .N), by = eventhour]\n",
    "eventcounts2 <- eventcounts[, .(eventhour = 1:max(eventhour))]\n",
    "eventcounts3 <- eventcounts2 %>% left_join(eventcounts, by = \"eventhour\")\n",
    "eventcounts3[, counts := replace_na(counts, 0)]"
   ]
  }
 ],
 "metadata": {
  "kernelspec": {
   "display_name": "R",
   "language": "R",
   "name": "ir"
  },
  "language_info": {
   "codemirror_mode": "r",
   "file_extension": ".r",
   "mimetype": "text/x-r-source",
   "name": "R",
   "pygments_lexer": "r",
   "version": "4.5.1"
  }
 },
 "nbformat": 4,
 "nbformat_minor": 5
}
