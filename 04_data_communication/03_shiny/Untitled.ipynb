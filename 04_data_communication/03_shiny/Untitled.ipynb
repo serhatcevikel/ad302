{
 "cells": [
  {
   "cell_type": "code",
   "execution_count": null,
   "id": "f3c5be6d-5a38-4fa0-9ae6-b4323376a8a6",
   "metadata": {},
   "outputs": [],
   "source": []
  }
 ],
 "metadata": {
  "kernelspec": {
   "display_name": "R",
   "language": "R",
   "name": "ir"
  },
  "language_info": {
   "codemirror_mode": "r",
   "file_extension": ".r",
   "mimetype": "text/x-r-source",
   "name": "R",
   "pygments_lexer": "r",
   "version": "4.5.1"
  }
 },
 "nbformat": 4,
 "nbformat_minor": 5
}
