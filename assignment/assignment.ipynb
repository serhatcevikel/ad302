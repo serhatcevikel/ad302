{
 "cells": [
  {
   "cell_type": "markdown",
   "id": "9e935fa4-0661-4561-a36b-93298745a482",
   "metadata": {},
   "source": [
    "For datacom and later assignments:"
   ]
  },
  {
   "cell_type": "code",
   "execution_count": null,
   "id": "8cae36dc-c3b7-4efb-be74-451fdbad079f",
   "metadata": {},
   "outputs": [],
   "source": [
    "pass <- getPass::getPass(\"Please enter the password for the solution: \")\n",
    "encrypt <- \"prob3.crypt\"\n",
    "imguri <- system(sprintf(\"cat %s | openssl enc -md sha256 -aes-128-cbc -a -d -salt -pass pass:%s 2> /dev/null\", encrypt, pass),\n",
    "intern = T, ignore.stderr = T)\n",
    "IRdisplay::display_html(sprintf('<img src=\"%s\"/>', imguri))"
   ]
  },
  {
   "cell_type": "code",
   "execution_count": null,
   "id": "fb841e76-4408-4376-b5f3-c7700a3acd95",
   "metadata": {},
   "outputs": [],
   "source": []
  },
  {
   "cell_type": "markdown",
   "id": "40be5152-73db-454e-ae75-105131a038b3",
   "metadata": {},
   "source": [
    "For data.table and tidyverse assignments:"
   ]
  },
  {
   "cell_type": "code",
   "execution_count": null,
   "id": "952aae5c-302b-4842-99a7-5d790834dae1",
   "metadata": {
    "tags": []
   },
   "outputs": [],
   "source": [
    "pass <- getPass::getPass(\"Please enter the password for the solution: \")\n",
    "encrypt <- \"ann.crypt\"\n",
    "solution <- system(sprintf(\"cat %s | openssl enc -md sha256 -aes-128-cbc -a -d -salt -pass pass:%s 2> /dev/null\", encrypt, pass), intern = T, ignore.stderr = T)\n",
    "IRdisplay::display_markdown(paste(solution, collapse = \"\\n\"))"
   ]
  }
 ],
 "metadata": {
  "kernelspec": {
   "display_name": "R",
   "language": "R",
   "name": "ir"
  },
  "language_info": {
   "codemirror_mode": "r",
   "file_extension": ".r",
   "mimetype": "text/x-r-source",
   "name": "R",
   "pygments_lexer": "r",
   "version": "4.5.1"
  }
 },
 "nbformat": 4,
 "nbformat_minor": 5
}
